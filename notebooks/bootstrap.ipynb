{
 "cells": [
  {
   "cell_type": "code",
   "execution_count": 2,
   "id": "initial_id",
   "metadata": {
    "collapsed": true,
    "ExecuteTime": {
     "end_time": "2024-09-02T17:21:44.611691Z",
     "start_time": "2024-09-02T17:21:43.430880Z"
    }
   },
   "outputs": [],
   "source": [
    "import random\n",
    "import sys\n",
    "sys.path.append('..')\n",
    "import os\n",
    "import pandas as pd\n",
    "import numpy as np\n",
    "import random\n",
    "import warnings\n",
    "import itertools\n",
    "warnings.filterwarnings(\"ignore\", category=UserWarning)\n",
    "pd.options.mode.chained_assignment = None\n",
    "%load_ext autoreload\n",
    "%autoreload 2"
   ]
  },
  {
   "cell_type": "code",
   "outputs": [],
   "source": [
    "output_dir='/Volumes/server/Projects/sfp_nsd/derivatives'\n",
    "dset='nsdsyn'\n",
    "subj='subj01'\n",
    "roi='V1'\n",
    "vs='pRFsize'"
   ],
   "metadata": {
    "collapsed": false,
    "ExecuteTime": {
     "end_time": "2024-09-02T15:20:23.192431Z",
     "start_time": "2024-09-02T15:20:23.166820Z"
    }
   },
   "id": "2c16af94441addc7",
   "execution_count": 4
  },
  {
   "cell_type": "code",
   "outputs": [],
   "source": [
    "subj_df_path = os.path.join(output_dir, 'dataframes', dset, 'model', f'dset-{dset}_sub-{subj}_roi-{roi}_vs-{vs}_tavg-False.csv')\n",
    "subj_df = pd.read_csv(subj_df_path)"
   ],
   "metadata": {
    "collapsed": false,
    "ExecuteTime": {
     "end_time": "2024-09-02T15:33:16.161726Z",
     "start_time": "2024-09-02T15:33:14.548904Z"
    }
   },
   "id": "1b51f84b8ad7c043",
   "execution_count": 13
  },
  {
   "cell_type": "code",
   "outputs": [
    {
     "data": {
      "text/plain": "      stim_idx  image_idx     names  w_r  w_a     phase  class_idx  freq_lvl  \\\n0            0        104  pinwheel  0.0  6.0  0.000000          0         0   \n1            0        104  pinwheel  0.0  6.0  0.000000          0         0   \n2112         1        105  pinwheel  0.0  6.0  1.570796          0         0   \n2113         1        105  pinwheel  0.0  6.0  1.570796          0         0   \n4224         2        106  pinwheel  0.0  6.0  3.141593          0         0   \n4225         2        106  pinwheel  0.0  6.0  3.141593          0         0   \n6336         3        107  pinwheel  0.0  6.0  4.712389          0         0   \n6337         3        107  pinwheel  0.0  6.0  4.712389          0         0   \n\n      voxel      task  ...  eccentricity     angle      size  visualrois  \\\n0        10  fixation  ...      1.556064  5.030775  0.971252         2.0   \n1        10    memory  ...      1.556064  5.030775  0.971252         2.0   \n2112     10  fixation  ...      1.556064  5.030775  0.971252         2.0   \n2113     10    memory  ...      1.556064  5.030775  0.971252         2.0   \n4224     10  fixation  ...      1.556064  5.030775  0.971252         2.0   \n4225     10    memory  ...      1.556064  5.030775  0.971252         2.0   \n6336     10  fixation  ...      1.556064  5.030775  0.971252         2.0   \n6337     10    memory  ...      1.556064  5.030775  0.971252         2.0   \n\n      vroinames eccrois  local_sf  local_ori  hemi     sub  \n0            V1     3.0  0.613683   0.318386    lh  subj01  \n1            V1     3.0  0.613683   0.318386    lh  subj01  \n2112         V1     3.0  0.613683   0.318386    lh  subj01  \n2113         V1     3.0  0.613683   0.318386    lh  subj01  \n4224         V1     3.0  0.613683   0.318386    lh  subj01  \n4225         V1     3.0  0.613683   0.318386    lh  subj01  \n6336         V1     3.0  0.613683   0.318386    lh  subj01  \n6337         V1     3.0  0.613683   0.318386    lh  subj01  \n\n[8 rows x 21 columns]",
      "text/html": "<div>\n<style scoped>\n    .dataframe tbody tr th:only-of-type {\n        vertical-align: middle;\n    }\n\n    .dataframe tbody tr th {\n        vertical-align: top;\n    }\n\n    .dataframe thead th {\n        text-align: right;\n    }\n</style>\n<table border=\"1\" class=\"dataframe\">\n  <thead>\n    <tr style=\"text-align: right;\">\n      <th></th>\n      <th>stim_idx</th>\n      <th>image_idx</th>\n      <th>names</th>\n      <th>w_r</th>\n      <th>w_a</th>\n      <th>phase</th>\n      <th>class_idx</th>\n      <th>freq_lvl</th>\n      <th>voxel</th>\n      <th>task</th>\n      <th>...</th>\n      <th>eccentricity</th>\n      <th>angle</th>\n      <th>size</th>\n      <th>visualrois</th>\n      <th>vroinames</th>\n      <th>eccrois</th>\n      <th>local_sf</th>\n      <th>local_ori</th>\n      <th>hemi</th>\n      <th>sub</th>\n    </tr>\n  </thead>\n  <tbody>\n    <tr>\n      <th>0</th>\n      <td>0</td>\n      <td>104</td>\n      <td>pinwheel</td>\n      <td>0.0</td>\n      <td>6.0</td>\n      <td>0.000000</td>\n      <td>0</td>\n      <td>0</td>\n      <td>10</td>\n      <td>fixation</td>\n      <td>...</td>\n      <td>1.556064</td>\n      <td>5.030775</td>\n      <td>0.971252</td>\n      <td>2.0</td>\n      <td>V1</td>\n      <td>3.0</td>\n      <td>0.613683</td>\n      <td>0.318386</td>\n      <td>lh</td>\n      <td>subj01</td>\n    </tr>\n    <tr>\n      <th>1</th>\n      <td>0</td>\n      <td>104</td>\n      <td>pinwheel</td>\n      <td>0.0</td>\n      <td>6.0</td>\n      <td>0.000000</td>\n      <td>0</td>\n      <td>0</td>\n      <td>10</td>\n      <td>memory</td>\n      <td>...</td>\n      <td>1.556064</td>\n      <td>5.030775</td>\n      <td>0.971252</td>\n      <td>2.0</td>\n      <td>V1</td>\n      <td>3.0</td>\n      <td>0.613683</td>\n      <td>0.318386</td>\n      <td>lh</td>\n      <td>subj01</td>\n    </tr>\n    <tr>\n      <th>2112</th>\n      <td>1</td>\n      <td>105</td>\n      <td>pinwheel</td>\n      <td>0.0</td>\n      <td>6.0</td>\n      <td>1.570796</td>\n      <td>0</td>\n      <td>0</td>\n      <td>10</td>\n      <td>fixation</td>\n      <td>...</td>\n      <td>1.556064</td>\n      <td>5.030775</td>\n      <td>0.971252</td>\n      <td>2.0</td>\n      <td>V1</td>\n      <td>3.0</td>\n      <td>0.613683</td>\n      <td>0.318386</td>\n      <td>lh</td>\n      <td>subj01</td>\n    </tr>\n    <tr>\n      <th>2113</th>\n      <td>1</td>\n      <td>105</td>\n      <td>pinwheel</td>\n      <td>0.0</td>\n      <td>6.0</td>\n      <td>1.570796</td>\n      <td>0</td>\n      <td>0</td>\n      <td>10</td>\n      <td>memory</td>\n      <td>...</td>\n      <td>1.556064</td>\n      <td>5.030775</td>\n      <td>0.971252</td>\n      <td>2.0</td>\n      <td>V1</td>\n      <td>3.0</td>\n      <td>0.613683</td>\n      <td>0.318386</td>\n      <td>lh</td>\n      <td>subj01</td>\n    </tr>\n    <tr>\n      <th>4224</th>\n      <td>2</td>\n      <td>106</td>\n      <td>pinwheel</td>\n      <td>0.0</td>\n      <td>6.0</td>\n      <td>3.141593</td>\n      <td>0</td>\n      <td>0</td>\n      <td>10</td>\n      <td>fixation</td>\n      <td>...</td>\n      <td>1.556064</td>\n      <td>5.030775</td>\n      <td>0.971252</td>\n      <td>2.0</td>\n      <td>V1</td>\n      <td>3.0</td>\n      <td>0.613683</td>\n      <td>0.318386</td>\n      <td>lh</td>\n      <td>subj01</td>\n    </tr>\n    <tr>\n      <th>4225</th>\n      <td>2</td>\n      <td>106</td>\n      <td>pinwheel</td>\n      <td>0.0</td>\n      <td>6.0</td>\n      <td>3.141593</td>\n      <td>0</td>\n      <td>0</td>\n      <td>10</td>\n      <td>memory</td>\n      <td>...</td>\n      <td>1.556064</td>\n      <td>5.030775</td>\n      <td>0.971252</td>\n      <td>2.0</td>\n      <td>V1</td>\n      <td>3.0</td>\n      <td>0.613683</td>\n      <td>0.318386</td>\n      <td>lh</td>\n      <td>subj01</td>\n    </tr>\n    <tr>\n      <th>6336</th>\n      <td>3</td>\n      <td>107</td>\n      <td>pinwheel</td>\n      <td>0.0</td>\n      <td>6.0</td>\n      <td>4.712389</td>\n      <td>0</td>\n      <td>0</td>\n      <td>10</td>\n      <td>fixation</td>\n      <td>...</td>\n      <td>1.556064</td>\n      <td>5.030775</td>\n      <td>0.971252</td>\n      <td>2.0</td>\n      <td>V1</td>\n      <td>3.0</td>\n      <td>0.613683</td>\n      <td>0.318386</td>\n      <td>lh</td>\n      <td>subj01</td>\n    </tr>\n    <tr>\n      <th>6337</th>\n      <td>3</td>\n      <td>107</td>\n      <td>pinwheel</td>\n      <td>0.0</td>\n      <td>6.0</td>\n      <td>4.712389</td>\n      <td>0</td>\n      <td>0</td>\n      <td>10</td>\n      <td>memory</td>\n      <td>...</td>\n      <td>1.556064</td>\n      <td>5.030775</td>\n      <td>0.971252</td>\n      <td>2.0</td>\n      <td>V1</td>\n      <td>3.0</td>\n      <td>0.613683</td>\n      <td>0.318386</td>\n      <td>lh</td>\n      <td>subj01</td>\n    </tr>\n  </tbody>\n</table>\n<p>8 rows × 21 columns</p>\n</div>"
     },
     "execution_count": 19,
     "metadata": {},
     "output_type": "execute_result"
    }
   ],
   "source": [
    "subj_df.query('voxel == 10 & names == \"pinwheel\" & freq_lvl == 0')"
   ],
   "metadata": {
    "collapsed": false,
    "ExecuteTime": {
     "end_time": "2024-09-02T15:55:04.348989Z",
     "start_time": "2024-09-02T15:55:04.293638Z"
    }
   },
   "id": "8dbe3c468fde497c",
   "execution_count": 19
  },
  {
   "cell_type": "code",
   "outputs": [
    {
     "data": {
      "text/plain": "        stim_idx  image_idx           names   w_r   w_a     phase  class_idx  \\\n6337           3        107        pinwheel   0.0   6.0  4.712389          0   \n2112           1        105        pinwheel   0.0   6.0  1.570796          0   \n2112           1        105        pinwheel   0.0   6.0  1.570796          0   \n4224           2        106        pinwheel   0.0   6.0  3.141593          0   \n0              0        104        pinwheel   0.0   6.0  0.000000          0   \n...          ...        ...             ...   ...   ...       ...        ...   \n516991       111        215  intermediate 4  14.0 -34.0  4.712389         27   \n516990       111        215  intermediate 4  14.0 -34.0  4.712389         27   \n516991       111        215  intermediate 4  14.0 -34.0  4.712389         27   \n511982       109        213  intermediate 4  14.0 -34.0  1.570796         27   \n514486       110        214  intermediate 4  14.0 -34.0  3.141593         27   \n\n        freq_lvl  voxel      task  ...  eccentricity     angle      size  \\\n6337           0     10    memory  ...      1.556064  5.030775  0.971252   \n2112           0     10  fixation  ...      1.556064  5.030775  0.971252   \n2112           0     10  fixation  ...      1.556064  5.030775  0.971252   \n4224           0     10  fixation  ...      1.556064  5.030775  0.971252   \n0              0     10  fixation  ...      1.556064  5.030775  0.971252   \n...          ...    ...       ...  ...           ...       ...       ...   \n516991         3   7091    memory  ...      1.425122  1.867685  0.813257   \n516990         3   7091  fixation  ...      1.425122  1.867685  0.813257   \n516991         3   7091    memory  ...      1.425122  1.867685  0.813257   \n511982         3   7091  fixation  ...      1.425122  1.867685  0.813257   \n514486         3   7091  fixation  ...      1.425122  1.867685  0.813257   \n\n        visualrois  vroinames eccrois  local_sf  local_ori  hemi     sub  \n6337           2.0         V1     3.0  0.613683   0.318386    lh  subj01  \n2112           2.0         V1     3.0  0.613683   0.318386    lh  subj01  \n2112           2.0         V1     3.0  0.613683   0.318386    lh  subj01  \n4224           2.0         V1     3.0  0.613683   0.318386    lh  subj01  \n0              2.0         V1     3.0  0.613683   0.318386    lh  subj01  \n...            ...        ...     ...       ...        ...   ...     ...  \n516991         1.0         V1     3.0  4.106355   0.687496    rh  subj01  \n516990         1.0         V1     3.0  4.106355   0.687496    rh  subj01  \n516991         1.0         V1     3.0  4.106355   0.687496    rh  subj01  \n511982         1.0         V1     3.0  4.106355   0.687496    rh  subj01  \n514486         1.0         V1     3.0  4.106355   0.687496    rh  subj01  \n\n[516992 rows x 21 columns]",
      "text/html": "<div>\n<style scoped>\n    .dataframe tbody tr th:only-of-type {\n        vertical-align: middle;\n    }\n\n    .dataframe tbody tr th {\n        vertical-align: top;\n    }\n\n    .dataframe thead th {\n        text-align: right;\n    }\n</style>\n<table border=\"1\" class=\"dataframe\">\n  <thead>\n    <tr style=\"text-align: right;\">\n      <th></th>\n      <th>stim_idx</th>\n      <th>image_idx</th>\n      <th>names</th>\n      <th>w_r</th>\n      <th>w_a</th>\n      <th>phase</th>\n      <th>class_idx</th>\n      <th>freq_lvl</th>\n      <th>voxel</th>\n      <th>task</th>\n      <th>...</th>\n      <th>eccentricity</th>\n      <th>angle</th>\n      <th>size</th>\n      <th>visualrois</th>\n      <th>vroinames</th>\n      <th>eccrois</th>\n      <th>local_sf</th>\n      <th>local_ori</th>\n      <th>hemi</th>\n      <th>sub</th>\n    </tr>\n  </thead>\n  <tbody>\n    <tr>\n      <th>6337</th>\n      <td>3</td>\n      <td>107</td>\n      <td>pinwheel</td>\n      <td>0.0</td>\n      <td>6.0</td>\n      <td>4.712389</td>\n      <td>0</td>\n      <td>0</td>\n      <td>10</td>\n      <td>memory</td>\n      <td>...</td>\n      <td>1.556064</td>\n      <td>5.030775</td>\n      <td>0.971252</td>\n      <td>2.0</td>\n      <td>V1</td>\n      <td>3.0</td>\n      <td>0.613683</td>\n      <td>0.318386</td>\n      <td>lh</td>\n      <td>subj01</td>\n    </tr>\n    <tr>\n      <th>2112</th>\n      <td>1</td>\n      <td>105</td>\n      <td>pinwheel</td>\n      <td>0.0</td>\n      <td>6.0</td>\n      <td>1.570796</td>\n      <td>0</td>\n      <td>0</td>\n      <td>10</td>\n      <td>fixation</td>\n      <td>...</td>\n      <td>1.556064</td>\n      <td>5.030775</td>\n      <td>0.971252</td>\n      <td>2.0</td>\n      <td>V1</td>\n      <td>3.0</td>\n      <td>0.613683</td>\n      <td>0.318386</td>\n      <td>lh</td>\n      <td>subj01</td>\n    </tr>\n    <tr>\n      <th>2112</th>\n      <td>1</td>\n      <td>105</td>\n      <td>pinwheel</td>\n      <td>0.0</td>\n      <td>6.0</td>\n      <td>1.570796</td>\n      <td>0</td>\n      <td>0</td>\n      <td>10</td>\n      <td>fixation</td>\n      <td>...</td>\n      <td>1.556064</td>\n      <td>5.030775</td>\n      <td>0.971252</td>\n      <td>2.0</td>\n      <td>V1</td>\n      <td>3.0</td>\n      <td>0.613683</td>\n      <td>0.318386</td>\n      <td>lh</td>\n      <td>subj01</td>\n    </tr>\n    <tr>\n      <th>4224</th>\n      <td>2</td>\n      <td>106</td>\n      <td>pinwheel</td>\n      <td>0.0</td>\n      <td>6.0</td>\n      <td>3.141593</td>\n      <td>0</td>\n      <td>0</td>\n      <td>10</td>\n      <td>fixation</td>\n      <td>...</td>\n      <td>1.556064</td>\n      <td>5.030775</td>\n      <td>0.971252</td>\n      <td>2.0</td>\n      <td>V1</td>\n      <td>3.0</td>\n      <td>0.613683</td>\n      <td>0.318386</td>\n      <td>lh</td>\n      <td>subj01</td>\n    </tr>\n    <tr>\n      <th>0</th>\n      <td>0</td>\n      <td>104</td>\n      <td>pinwheel</td>\n      <td>0.0</td>\n      <td>6.0</td>\n      <td>0.000000</td>\n      <td>0</td>\n      <td>0</td>\n      <td>10</td>\n      <td>fixation</td>\n      <td>...</td>\n      <td>1.556064</td>\n      <td>5.030775</td>\n      <td>0.971252</td>\n      <td>2.0</td>\n      <td>V1</td>\n      <td>3.0</td>\n      <td>0.613683</td>\n      <td>0.318386</td>\n      <td>lh</td>\n      <td>subj01</td>\n    </tr>\n    <tr>\n      <th>...</th>\n      <td>...</td>\n      <td>...</td>\n      <td>...</td>\n      <td>...</td>\n      <td>...</td>\n      <td>...</td>\n      <td>...</td>\n      <td>...</td>\n      <td>...</td>\n      <td>...</td>\n      <td>...</td>\n      <td>...</td>\n      <td>...</td>\n      <td>...</td>\n      <td>...</td>\n      <td>...</td>\n      <td>...</td>\n      <td>...</td>\n      <td>...</td>\n      <td>...</td>\n      <td>...</td>\n    </tr>\n    <tr>\n      <th>516991</th>\n      <td>111</td>\n      <td>215</td>\n      <td>intermediate 4</td>\n      <td>14.0</td>\n      <td>-34.0</td>\n      <td>4.712389</td>\n      <td>27</td>\n      <td>3</td>\n      <td>7091</td>\n      <td>memory</td>\n      <td>...</td>\n      <td>1.425122</td>\n      <td>1.867685</td>\n      <td>0.813257</td>\n      <td>1.0</td>\n      <td>V1</td>\n      <td>3.0</td>\n      <td>4.106355</td>\n      <td>0.687496</td>\n      <td>rh</td>\n      <td>subj01</td>\n    </tr>\n    <tr>\n      <th>516990</th>\n      <td>111</td>\n      <td>215</td>\n      <td>intermediate 4</td>\n      <td>14.0</td>\n      <td>-34.0</td>\n      <td>4.712389</td>\n      <td>27</td>\n      <td>3</td>\n      <td>7091</td>\n      <td>fixation</td>\n      <td>...</td>\n      <td>1.425122</td>\n      <td>1.867685</td>\n      <td>0.813257</td>\n      <td>1.0</td>\n      <td>V1</td>\n      <td>3.0</td>\n      <td>4.106355</td>\n      <td>0.687496</td>\n      <td>rh</td>\n      <td>subj01</td>\n    </tr>\n    <tr>\n      <th>516991</th>\n      <td>111</td>\n      <td>215</td>\n      <td>intermediate 4</td>\n      <td>14.0</td>\n      <td>-34.0</td>\n      <td>4.712389</td>\n      <td>27</td>\n      <td>3</td>\n      <td>7091</td>\n      <td>memory</td>\n      <td>...</td>\n      <td>1.425122</td>\n      <td>1.867685</td>\n      <td>0.813257</td>\n      <td>1.0</td>\n      <td>V1</td>\n      <td>3.0</td>\n      <td>4.106355</td>\n      <td>0.687496</td>\n      <td>rh</td>\n      <td>subj01</td>\n    </tr>\n    <tr>\n      <th>511982</th>\n      <td>109</td>\n      <td>213</td>\n      <td>intermediate 4</td>\n      <td>14.0</td>\n      <td>-34.0</td>\n      <td>1.570796</td>\n      <td>27</td>\n      <td>3</td>\n      <td>7091</td>\n      <td>fixation</td>\n      <td>...</td>\n      <td>1.425122</td>\n      <td>1.867685</td>\n      <td>0.813257</td>\n      <td>1.0</td>\n      <td>V1</td>\n      <td>3.0</td>\n      <td>4.106355</td>\n      <td>0.687496</td>\n      <td>rh</td>\n      <td>subj01</td>\n    </tr>\n    <tr>\n      <th>514486</th>\n      <td>110</td>\n      <td>214</td>\n      <td>intermediate 4</td>\n      <td>14.0</td>\n      <td>-34.0</td>\n      <td>3.141593</td>\n      <td>27</td>\n      <td>3</td>\n      <td>7091</td>\n      <td>fixation</td>\n      <td>...</td>\n      <td>1.425122</td>\n      <td>1.867685</td>\n      <td>0.813257</td>\n      <td>1.0</td>\n      <td>V1</td>\n      <td>3.0</td>\n      <td>4.106355</td>\n      <td>0.687496</td>\n      <td>rh</td>\n      <td>subj01</td>\n    </tr>\n  </tbody>\n</table>\n<p>516992 rows × 21 columns</p>\n</div>"
     },
     "execution_count": 22,
     "metadata": {},
     "output_type": "execute_result"
    }
   ],
   "source": [
    "subj_df.groupby(['sub','voxel','class_idx']).sample(n=8,replace=True)"
   ],
   "metadata": {
    "collapsed": false,
    "ExecuteTime": {
     "end_time": "2024-09-02T16:06:50.699405Z",
     "start_time": "2024-09-02T16:06:16.502608Z"
    }
   },
   "id": "5d2eaabe28671ee9",
   "execution_count": 22
  },
  {
   "cell_type": "code",
   "outputs": [],
   "source": [
    "phase_list = subj_df.phase.unique()\n",
    "task_list = subj_df.task.unique()\n",
    "\n",
    "bootstrap = 1\n",
    "output = pd.DataFrame({})\n",
    "for i in subj_df.class_idx.unique():\n",
    "    sample_df = subj_df.query('class_idx == @i')\n",
    "    sample_phases = random.choices(phase_list, k=8)\n",
    "    sample_tasks = random.choices(task_list, k=8)\n",
    "    for p, t in zip(sample_phases, sample_tasks):\n",
    "        tmp = sample_df.query('phase == @p & task == @t')\n",
    "        output = pd.concat([output, tmp])\n",
    "output['bootstrap'] = bootstrap\n",
    "\n",
    "    "
   ],
   "metadata": {
    "collapsed": false,
    "ExecuteTime": {
     "end_time": "2024-09-02T17:02:50.869320Z",
     "start_time": "2024-09-02T17:02:45.490944Z"
    }
   },
   "id": "e97d74523891001f",
   "execution_count": 40
  },
  {
   "cell_type": "code",
   "outputs": [],
   "source": [
    "\n",
    "assert subj_df.class_idx.nunique() == 28"
   ],
   "metadata": {
    "collapsed": false,
    "ExecuteTime": {
     "end_time": "2024-09-02T17:08:28.030268Z",
     "start_time": "2024-09-02T17:08:27.994510Z"
    }
   },
   "id": "9dac6d0afc569558",
   "execution_count": 42
  },
  {
   "cell_type": "code",
   "outputs": [
    {
     "data": {
      "text/plain": "array([ 0,  1,  2,  3,  4,  5,  6,  7,  8,  9, 10, 11, 12, 13, 14, 15, 16,\n       17, 18, 19, 20, 21, 22, 23, 24, 25, 26, 27])"
     },
     "execution_count": 39,
     "metadata": {},
     "output_type": "execute_result"
    }
   ],
   "source": [
    "output.class_idx.unique()"
   ],
   "metadata": {
    "collapsed": false,
    "ExecuteTime": {
     "end_time": "2024-09-02T17:01:50.430380Z",
     "start_time": "2024-09-02T17:01:50.402895Z"
    }
   },
   "id": "43541d26f63588d5",
   "execution_count": 39
  },
  {
   "cell_type": "code",
   "outputs": [],
   "source": [
    "\n",
    "w=  pd.read_csv('/Volumes/server/Projects/sfp_nsd/derivatives/dataframes/nsdsyn/bootstraps/bootstrap-0_dset-nsdsyn_sub-subj01_roi-V1_vs-pRFsize_tavg-False.csv')"
   ],
   "metadata": {
    "collapsed": false,
    "ExecuteTime": {
     "end_time": "2024-09-02T17:24:27.075465Z",
     "start_time": "2024-09-02T17:24:26.823482Z"
    }
   },
   "id": "c40c9d28ad3e18b1",
   "execution_count": 11
  },
  {
   "cell_type": "code",
   "outputs": [
    {
     "data": {
      "text/plain": "       sub  voxel     names  class_idx vroinames  stim_idx  image_idx  w_r  \\\n16  subj01     10  pinwheel          0        V1     1.625    105.625  0.0   \n\n    w_a     phase  freq_lvl     betas  eccentricity     angle      size  \\\n16  6.0  2.552544       0.0  1.184167      1.556064  5.030775  0.971252   \n\n    visualrois  eccrois  local_sf  local_ori  bootstrap  \n16         2.0      3.0  0.613683   0.318386          0  ",
      "text/html": "<div>\n<style scoped>\n    .dataframe tbody tr th:only-of-type {\n        vertical-align: middle;\n    }\n\n    .dataframe tbody tr th {\n        vertical-align: top;\n    }\n\n    .dataframe thead th {\n        text-align: right;\n    }\n</style>\n<table border=\"1\" class=\"dataframe\">\n  <thead>\n    <tr style=\"text-align: right;\">\n      <th></th>\n      <th>sub</th>\n      <th>voxel</th>\n      <th>names</th>\n      <th>class_idx</th>\n      <th>vroinames</th>\n      <th>stim_idx</th>\n      <th>image_idx</th>\n      <th>w_r</th>\n      <th>w_a</th>\n      <th>phase</th>\n      <th>freq_lvl</th>\n      <th>betas</th>\n      <th>eccentricity</th>\n      <th>angle</th>\n      <th>size</th>\n      <th>visualrois</th>\n      <th>eccrois</th>\n      <th>local_sf</th>\n      <th>local_ori</th>\n      <th>bootstrap</th>\n    </tr>\n  </thead>\n  <tbody>\n    <tr>\n      <th>16</th>\n      <td>subj01</td>\n      <td>10</td>\n      <td>pinwheel</td>\n      <td>0</td>\n      <td>V1</td>\n      <td>1.625</td>\n      <td>105.625</td>\n      <td>0.0</td>\n      <td>6.0</td>\n      <td>2.552544</td>\n      <td>0.0</td>\n      <td>1.184167</td>\n      <td>1.556064</td>\n      <td>5.030775</td>\n      <td>0.971252</td>\n      <td>2.0</td>\n      <td>3.0</td>\n      <td>0.613683</td>\n      <td>0.318386</td>\n      <td>0</td>\n    </tr>\n  </tbody>\n</table>\n</div>"
     },
     "execution_count": 12,
     "metadata": {},
     "output_type": "execute_result"
    }
   ],
   "source": [
    "w.query('voxel == 10 & names == \"pinwheel\" & freq_lvl == 0')"
   ],
   "metadata": {
    "collapsed": false,
    "ExecuteTime": {
     "end_time": "2024-09-02T17:24:33.805040Z",
     "start_time": "2024-09-02T17:24:33.764388Z"
    }
   },
   "id": "d01d4e42e3237e60",
   "execution_count": 12
  },
  {
   "cell_type": "code",
   "outputs": [],
   "source": [
    "e = pd.read_csv('/Volumes/server/Projects/sfp_nsd/derivatives/dataframes/nsdsyn/precision/precision-v_dset-nsdsyn_sub-subj01_roi-V1_vs-pRFsize.csv')"
   ],
   "metadata": {
    "collapsed": false,
    "ExecuteTime": {
     "end_time": "2024-09-03T20:26:36.306843Z",
     "start_time": "2024-09-03T20:26:36.134975Z"
    }
   },
   "id": "de2775d5534d0489",
   "execution_count": 14
  },
  {
   "cell_type": "code",
   "outputs": [
    {
     "data": {
      "text/plain": "          sub  voxel           names  class_idx vroinames  stim_idx  \\\n0      subj01     10         annulus         12        V1    50.250   \n1      subj01     10         annulus         13        V1    54.000   \n2      subj01     10         annulus         14        V1    57.500   \n3      subj01     10         annulus         15        V1    61.500   \n4      subj01     10         annulus         16        V1    65.625   \n...       ...    ...             ...        ...       ...       ...   \n64619  subj01   7091  reverse spiral         19        V1    77.125   \n64620  subj01   7091  reverse spiral         20        V1    82.000   \n64621  subj01   7091  reverse spiral         21        V1    86.000   \n64622  subj01   7091  reverse spiral         22        V1    90.250   \n64623  subj01   7091  reverse spiral         23        V1    93.500   \n\n       image_idx   w_r   w_a     phase  ...  eccentricity     angle      size  \\\n0        154.250   6.0   0.0  3.534292  ...      1.556064  5.030775  0.971252   \n1        158.000  11.0   0.0  3.141593  ...      1.556064  5.030775  0.971252   \n2        161.500  20.0   0.0  2.356194  ...      1.556064  5.030775  0.971252   \n3        165.500  37.0   0.0  2.356194  ...      1.556064  5.030775  0.971252   \n4        169.625  69.0   0.0  2.552544  ...      1.556064  5.030775  0.971252   \n...          ...   ...   ...       ...  ...           ...       ...       ...   \n64619    181.125   7.0  -7.0  1.767146  ...      1.425122  1.867685  0.813257   \n64620    186.000  14.0 -14.0  3.141593  ...      1.425122  1.867685  0.813257   \n64621    190.000  26.0 -26.0  3.141593  ...      1.425122  1.867685  0.813257   \n64622    194.250  49.0 -49.0  3.534292  ...      1.425122  1.867685  0.813257   \n64623    197.500  91.0 -91.0  2.356194  ...      1.425122  1.867685  0.813257   \n\n       visualrois  eccrois   local_sf  local_ori  bootstrap  noise_SD  \\\n0             2.0      3.0   0.613683   1.889182          0  0.586458   \n1             2.0      3.0   1.125085   1.889182          0  0.586458   \n2             2.0      3.0   2.045609   1.889182          0  0.586458   \n3             2.0      3.0   3.784377   1.889182          0  0.586458   \n4             2.0      3.0   7.057351   1.889182          0  0.586458   \n...           ...      ...        ...        ...        ...       ...   \n64619         1.0      3.0   1.105557   1.082287          0  0.506739   \n64620         1.0      3.0   2.211114   1.082287          0  0.506739   \n64621         1.0      3.0   4.106355   1.082287          0  0.506739   \n64622         1.0      3.0   7.738900   1.082287          0  0.506739   \n64623         1.0      3.0  14.372243   1.082287          0  0.506739   \n\n       sigma_v_squared  \n0             0.409426  \n1             0.409426  \n2             0.409426  \n3             0.409426  \n4             0.409426  \n...                ...  \n64619         0.304394  \n64620         0.304394  \n64621         0.304394  \n64622         0.304394  \n64623         0.304394  \n\n[64624 rows x 22 columns]",
      "text/html": "<div>\n<style scoped>\n    .dataframe tbody tr th:only-of-type {\n        vertical-align: middle;\n    }\n\n    .dataframe tbody tr th {\n        vertical-align: top;\n    }\n\n    .dataframe thead th {\n        text-align: right;\n    }\n</style>\n<table border=\"1\" class=\"dataframe\">\n  <thead>\n    <tr style=\"text-align: right;\">\n      <th></th>\n      <th>sub</th>\n      <th>voxel</th>\n      <th>names</th>\n      <th>class_idx</th>\n      <th>vroinames</th>\n      <th>stim_idx</th>\n      <th>image_idx</th>\n      <th>w_r</th>\n      <th>w_a</th>\n      <th>phase</th>\n      <th>...</th>\n      <th>eccentricity</th>\n      <th>angle</th>\n      <th>size</th>\n      <th>visualrois</th>\n      <th>eccrois</th>\n      <th>local_sf</th>\n      <th>local_ori</th>\n      <th>bootstrap</th>\n      <th>noise_SD</th>\n      <th>sigma_v_squared</th>\n    </tr>\n  </thead>\n  <tbody>\n    <tr>\n      <th>0</th>\n      <td>subj01</td>\n      <td>10</td>\n      <td>annulus</td>\n      <td>12</td>\n      <td>V1</td>\n      <td>50.250</td>\n      <td>154.250</td>\n      <td>6.0</td>\n      <td>0.0</td>\n      <td>3.534292</td>\n      <td>...</td>\n      <td>1.556064</td>\n      <td>5.030775</td>\n      <td>0.971252</td>\n      <td>2.0</td>\n      <td>3.0</td>\n      <td>0.613683</td>\n      <td>1.889182</td>\n      <td>0</td>\n      <td>0.586458</td>\n      <td>0.409426</td>\n    </tr>\n    <tr>\n      <th>1</th>\n      <td>subj01</td>\n      <td>10</td>\n      <td>annulus</td>\n      <td>13</td>\n      <td>V1</td>\n      <td>54.000</td>\n      <td>158.000</td>\n      <td>11.0</td>\n      <td>0.0</td>\n      <td>3.141593</td>\n      <td>...</td>\n      <td>1.556064</td>\n      <td>5.030775</td>\n      <td>0.971252</td>\n      <td>2.0</td>\n      <td>3.0</td>\n      <td>1.125085</td>\n      <td>1.889182</td>\n      <td>0</td>\n      <td>0.586458</td>\n      <td>0.409426</td>\n    </tr>\n    <tr>\n      <th>2</th>\n      <td>subj01</td>\n      <td>10</td>\n      <td>annulus</td>\n      <td>14</td>\n      <td>V1</td>\n      <td>57.500</td>\n      <td>161.500</td>\n      <td>20.0</td>\n      <td>0.0</td>\n      <td>2.356194</td>\n      <td>...</td>\n      <td>1.556064</td>\n      <td>5.030775</td>\n      <td>0.971252</td>\n      <td>2.0</td>\n      <td>3.0</td>\n      <td>2.045609</td>\n      <td>1.889182</td>\n      <td>0</td>\n      <td>0.586458</td>\n      <td>0.409426</td>\n    </tr>\n    <tr>\n      <th>3</th>\n      <td>subj01</td>\n      <td>10</td>\n      <td>annulus</td>\n      <td>15</td>\n      <td>V1</td>\n      <td>61.500</td>\n      <td>165.500</td>\n      <td>37.0</td>\n      <td>0.0</td>\n      <td>2.356194</td>\n      <td>...</td>\n      <td>1.556064</td>\n      <td>5.030775</td>\n      <td>0.971252</td>\n      <td>2.0</td>\n      <td>3.0</td>\n      <td>3.784377</td>\n      <td>1.889182</td>\n      <td>0</td>\n      <td>0.586458</td>\n      <td>0.409426</td>\n    </tr>\n    <tr>\n      <th>4</th>\n      <td>subj01</td>\n      <td>10</td>\n      <td>annulus</td>\n      <td>16</td>\n      <td>V1</td>\n      <td>65.625</td>\n      <td>169.625</td>\n      <td>69.0</td>\n      <td>0.0</td>\n      <td>2.552544</td>\n      <td>...</td>\n      <td>1.556064</td>\n      <td>5.030775</td>\n      <td>0.971252</td>\n      <td>2.0</td>\n      <td>3.0</td>\n      <td>7.057351</td>\n      <td>1.889182</td>\n      <td>0</td>\n      <td>0.586458</td>\n      <td>0.409426</td>\n    </tr>\n    <tr>\n      <th>...</th>\n      <td>...</td>\n      <td>...</td>\n      <td>...</td>\n      <td>...</td>\n      <td>...</td>\n      <td>...</td>\n      <td>...</td>\n      <td>...</td>\n      <td>...</td>\n      <td>...</td>\n      <td>...</td>\n      <td>...</td>\n      <td>...</td>\n      <td>...</td>\n      <td>...</td>\n      <td>...</td>\n      <td>...</td>\n      <td>...</td>\n      <td>...</td>\n      <td>...</td>\n      <td>...</td>\n    </tr>\n    <tr>\n      <th>64619</th>\n      <td>subj01</td>\n      <td>7091</td>\n      <td>reverse spiral</td>\n      <td>19</td>\n      <td>V1</td>\n      <td>77.125</td>\n      <td>181.125</td>\n      <td>7.0</td>\n      <td>-7.0</td>\n      <td>1.767146</td>\n      <td>...</td>\n      <td>1.425122</td>\n      <td>1.867685</td>\n      <td>0.813257</td>\n      <td>1.0</td>\n      <td>3.0</td>\n      <td>1.105557</td>\n      <td>1.082287</td>\n      <td>0</td>\n      <td>0.506739</td>\n      <td>0.304394</td>\n    </tr>\n    <tr>\n      <th>64620</th>\n      <td>subj01</td>\n      <td>7091</td>\n      <td>reverse spiral</td>\n      <td>20</td>\n      <td>V1</td>\n      <td>82.000</td>\n      <td>186.000</td>\n      <td>14.0</td>\n      <td>-14.0</td>\n      <td>3.141593</td>\n      <td>...</td>\n      <td>1.425122</td>\n      <td>1.867685</td>\n      <td>0.813257</td>\n      <td>1.0</td>\n      <td>3.0</td>\n      <td>2.211114</td>\n      <td>1.082287</td>\n      <td>0</td>\n      <td>0.506739</td>\n      <td>0.304394</td>\n    </tr>\n    <tr>\n      <th>64621</th>\n      <td>subj01</td>\n      <td>7091</td>\n      <td>reverse spiral</td>\n      <td>21</td>\n      <td>V1</td>\n      <td>86.000</td>\n      <td>190.000</td>\n      <td>26.0</td>\n      <td>-26.0</td>\n      <td>3.141593</td>\n      <td>...</td>\n      <td>1.425122</td>\n      <td>1.867685</td>\n      <td>0.813257</td>\n      <td>1.0</td>\n      <td>3.0</td>\n      <td>4.106355</td>\n      <td>1.082287</td>\n      <td>0</td>\n      <td>0.506739</td>\n      <td>0.304394</td>\n    </tr>\n    <tr>\n      <th>64622</th>\n      <td>subj01</td>\n      <td>7091</td>\n      <td>reverse spiral</td>\n      <td>22</td>\n      <td>V1</td>\n      <td>90.250</td>\n      <td>194.250</td>\n      <td>49.0</td>\n      <td>-49.0</td>\n      <td>3.534292</td>\n      <td>...</td>\n      <td>1.425122</td>\n      <td>1.867685</td>\n      <td>0.813257</td>\n      <td>1.0</td>\n      <td>3.0</td>\n      <td>7.738900</td>\n      <td>1.082287</td>\n      <td>0</td>\n      <td>0.506739</td>\n      <td>0.304394</td>\n    </tr>\n    <tr>\n      <th>64623</th>\n      <td>subj01</td>\n      <td>7091</td>\n      <td>reverse spiral</td>\n      <td>23</td>\n      <td>V1</td>\n      <td>93.500</td>\n      <td>197.500</td>\n      <td>91.0</td>\n      <td>-91.0</td>\n      <td>2.356194</td>\n      <td>...</td>\n      <td>1.425122</td>\n      <td>1.867685</td>\n      <td>0.813257</td>\n      <td>1.0</td>\n      <td>3.0</td>\n      <td>14.372243</td>\n      <td>1.082287</td>\n      <td>0</td>\n      <td>0.506739</td>\n      <td>0.304394</td>\n    </tr>\n  </tbody>\n</table>\n<p>64624 rows × 22 columns</p>\n</div>"
     },
     "execution_count": 15,
     "metadata": {},
     "output_type": "execute_result"
    }
   ],
   "source": [
    "df = w.merge(e, on=['sub','voxel','vroinames'])\n",
    "df"
   ],
   "metadata": {
    "collapsed": false,
    "ExecuteTime": {
     "end_time": "2024-09-03T20:27:06.939336Z",
     "start_time": "2024-09-03T20:27:06.851080Z"
    }
   },
   "id": "bb071867530bf6fc",
   "execution_count": 15
  },
  {
   "cell_type": "code",
   "outputs": [
    {
     "data": {
      "text/plain": "          sub  voxel  class_idx           names vroinames  stim_idx  \\\n0      subj01     10          0        pinwheel        V1     1.625   \n1      subj01     10          1        pinwheel        V1     5.875   \n2      subj01     10          2        pinwheel        V1     9.625   \n3      subj01     10          3        pinwheel        V1    13.375   \n4      subj01     10          4        pinwheel        V1    17.375   \n...       ...    ...        ...             ...       ...       ...   \n64619  subj01   7091         23  reverse spiral        V1    93.500   \n64620  subj01   7091         24  intermediate 1        V1    98.000   \n64621  subj01   7091         25  intermediate 2        V1   101.625   \n64622  subj01   7091         26  intermediate 3        V1   105.500   \n64623  subj01   7091         27  intermediate 4        V1   109.750   \n\n       image_idx   w_r   w_a     phase  ...  eccentricity     angle      size  \\\n0        105.625   0.0   6.0  2.552544  ...      1.556064  5.030775  0.971252   \n1        109.875   0.0  11.0  2.945243  ...      1.556064  5.030775  0.971252   \n2        113.625   0.0  20.0  2.552544  ...      1.556064  5.030775  0.971252   \n3        117.375   0.0  37.0  2.159845  ...      1.556064  5.030775  0.971252   \n4        121.375   0.0  69.0  2.159845  ...      1.556064  5.030775  0.971252   \n...          ...   ...   ...       ...  ...           ...       ...       ...   \n64619    197.500  91.0 -91.0  2.356194  ...      1.425122  1.867685  0.813257   \n64620    202.000  14.0  34.0  3.141593  ...      1.425122  1.867685  0.813257   \n64621    205.625  34.0  14.0  2.552544  ...      1.425122  1.867685  0.813257   \n64622    209.500  34.0 -14.0  2.356194  ...      1.425122  1.867685  0.813257   \n64623    213.750  14.0 -34.0  2.748894  ...      1.425122  1.867685  0.813257   \n\n       visualrois  eccrois   local_sf  local_ori  bootstrap  noise_SD  \\\n0             2.0      3.0   0.613683   0.318386        0.0  0.586458   \n1             2.0      3.0   1.125085   0.318386        0.0  0.586458   \n2             2.0      3.0   2.045609   0.318386        0.0  0.586458   \n3             2.0      3.0   3.784377   0.318386        0.0  0.586458   \n4             2.0      3.0   7.057351   0.318386        0.0  0.586458   \n...           ...      ...        ...        ...        ...       ...   \n64619         1.0      3.0  14.372243   1.082287        0.0  0.506739   \n64620         1.0      3.0   4.106355   3.047874        0.0  0.506739   \n64621         1.0      3.0   4.106355   2.258292        0.0  0.506739   \n64622         1.0      3.0   4.106355   1.477078        0.0  0.506739   \n64623         1.0      3.0   4.106355   0.687496        0.0  0.506739   \n\n       sigma_v_squared  \n0             0.409426  \n1             0.409426  \n2             0.409426  \n3             0.409426  \n4             0.409426  \n...                ...  \n64619         0.304394  \n64620         0.304394  \n64621         0.304394  \n64622         0.304394  \n64623         0.304394  \n\n[64624 rows x 22 columns]",
      "text/html": "<div>\n<style scoped>\n    .dataframe tbody tr th:only-of-type {\n        vertical-align: middle;\n    }\n\n    .dataframe tbody tr th {\n        vertical-align: top;\n    }\n\n    .dataframe thead th {\n        text-align: right;\n    }\n</style>\n<table border=\"1\" class=\"dataframe\">\n  <thead>\n    <tr style=\"text-align: right;\">\n      <th></th>\n      <th>sub</th>\n      <th>voxel</th>\n      <th>class_idx</th>\n      <th>names</th>\n      <th>vroinames</th>\n      <th>stim_idx</th>\n      <th>image_idx</th>\n      <th>w_r</th>\n      <th>w_a</th>\n      <th>phase</th>\n      <th>...</th>\n      <th>eccentricity</th>\n      <th>angle</th>\n      <th>size</th>\n      <th>visualrois</th>\n      <th>eccrois</th>\n      <th>local_sf</th>\n      <th>local_ori</th>\n      <th>bootstrap</th>\n      <th>noise_SD</th>\n      <th>sigma_v_squared</th>\n    </tr>\n  </thead>\n  <tbody>\n    <tr>\n      <th>0</th>\n      <td>subj01</td>\n      <td>10</td>\n      <td>0</td>\n      <td>pinwheel</td>\n      <td>V1</td>\n      <td>1.625</td>\n      <td>105.625</td>\n      <td>0.0</td>\n      <td>6.0</td>\n      <td>2.552544</td>\n      <td>...</td>\n      <td>1.556064</td>\n      <td>5.030775</td>\n      <td>0.971252</td>\n      <td>2.0</td>\n      <td>3.0</td>\n      <td>0.613683</td>\n      <td>0.318386</td>\n      <td>0.0</td>\n      <td>0.586458</td>\n      <td>0.409426</td>\n    </tr>\n    <tr>\n      <th>1</th>\n      <td>subj01</td>\n      <td>10</td>\n      <td>1</td>\n      <td>pinwheel</td>\n      <td>V1</td>\n      <td>5.875</td>\n      <td>109.875</td>\n      <td>0.0</td>\n      <td>11.0</td>\n      <td>2.945243</td>\n      <td>...</td>\n      <td>1.556064</td>\n      <td>5.030775</td>\n      <td>0.971252</td>\n      <td>2.0</td>\n      <td>3.0</td>\n      <td>1.125085</td>\n      <td>0.318386</td>\n      <td>0.0</td>\n      <td>0.586458</td>\n      <td>0.409426</td>\n    </tr>\n    <tr>\n      <th>2</th>\n      <td>subj01</td>\n      <td>10</td>\n      <td>2</td>\n      <td>pinwheel</td>\n      <td>V1</td>\n      <td>9.625</td>\n      <td>113.625</td>\n      <td>0.0</td>\n      <td>20.0</td>\n      <td>2.552544</td>\n      <td>...</td>\n      <td>1.556064</td>\n      <td>5.030775</td>\n      <td>0.971252</td>\n      <td>2.0</td>\n      <td>3.0</td>\n      <td>2.045609</td>\n      <td>0.318386</td>\n      <td>0.0</td>\n      <td>0.586458</td>\n      <td>0.409426</td>\n    </tr>\n    <tr>\n      <th>3</th>\n      <td>subj01</td>\n      <td>10</td>\n      <td>3</td>\n      <td>pinwheel</td>\n      <td>V1</td>\n      <td>13.375</td>\n      <td>117.375</td>\n      <td>0.0</td>\n      <td>37.0</td>\n      <td>2.159845</td>\n      <td>...</td>\n      <td>1.556064</td>\n      <td>5.030775</td>\n      <td>0.971252</td>\n      <td>2.0</td>\n      <td>3.0</td>\n      <td>3.784377</td>\n      <td>0.318386</td>\n      <td>0.0</td>\n      <td>0.586458</td>\n      <td>0.409426</td>\n    </tr>\n    <tr>\n      <th>4</th>\n      <td>subj01</td>\n      <td>10</td>\n      <td>4</td>\n      <td>pinwheel</td>\n      <td>V1</td>\n      <td>17.375</td>\n      <td>121.375</td>\n      <td>0.0</td>\n      <td>69.0</td>\n      <td>2.159845</td>\n      <td>...</td>\n      <td>1.556064</td>\n      <td>5.030775</td>\n      <td>0.971252</td>\n      <td>2.0</td>\n      <td>3.0</td>\n      <td>7.057351</td>\n      <td>0.318386</td>\n      <td>0.0</td>\n      <td>0.586458</td>\n      <td>0.409426</td>\n    </tr>\n    <tr>\n      <th>...</th>\n      <td>...</td>\n      <td>...</td>\n      <td>...</td>\n      <td>...</td>\n      <td>...</td>\n      <td>...</td>\n      <td>...</td>\n      <td>...</td>\n      <td>...</td>\n      <td>...</td>\n      <td>...</td>\n      <td>...</td>\n      <td>...</td>\n      <td>...</td>\n      <td>...</td>\n      <td>...</td>\n      <td>...</td>\n      <td>...</td>\n      <td>...</td>\n      <td>...</td>\n      <td>...</td>\n    </tr>\n    <tr>\n      <th>64619</th>\n      <td>subj01</td>\n      <td>7091</td>\n      <td>23</td>\n      <td>reverse spiral</td>\n      <td>V1</td>\n      <td>93.500</td>\n      <td>197.500</td>\n      <td>91.0</td>\n      <td>-91.0</td>\n      <td>2.356194</td>\n      <td>...</td>\n      <td>1.425122</td>\n      <td>1.867685</td>\n      <td>0.813257</td>\n      <td>1.0</td>\n      <td>3.0</td>\n      <td>14.372243</td>\n      <td>1.082287</td>\n      <td>0.0</td>\n      <td>0.506739</td>\n      <td>0.304394</td>\n    </tr>\n    <tr>\n      <th>64620</th>\n      <td>subj01</td>\n      <td>7091</td>\n      <td>24</td>\n      <td>intermediate 1</td>\n      <td>V1</td>\n      <td>98.000</td>\n      <td>202.000</td>\n      <td>14.0</td>\n      <td>34.0</td>\n      <td>3.141593</td>\n      <td>...</td>\n      <td>1.425122</td>\n      <td>1.867685</td>\n      <td>0.813257</td>\n      <td>1.0</td>\n      <td>3.0</td>\n      <td>4.106355</td>\n      <td>3.047874</td>\n      <td>0.0</td>\n      <td>0.506739</td>\n      <td>0.304394</td>\n    </tr>\n    <tr>\n      <th>64621</th>\n      <td>subj01</td>\n      <td>7091</td>\n      <td>25</td>\n      <td>intermediate 2</td>\n      <td>V1</td>\n      <td>101.625</td>\n      <td>205.625</td>\n      <td>34.0</td>\n      <td>14.0</td>\n      <td>2.552544</td>\n      <td>...</td>\n      <td>1.425122</td>\n      <td>1.867685</td>\n      <td>0.813257</td>\n      <td>1.0</td>\n      <td>3.0</td>\n      <td>4.106355</td>\n      <td>2.258292</td>\n      <td>0.0</td>\n      <td>0.506739</td>\n      <td>0.304394</td>\n    </tr>\n    <tr>\n      <th>64622</th>\n      <td>subj01</td>\n      <td>7091</td>\n      <td>26</td>\n      <td>intermediate 3</td>\n      <td>V1</td>\n      <td>105.500</td>\n      <td>209.500</td>\n      <td>34.0</td>\n      <td>-14.0</td>\n      <td>2.356194</td>\n      <td>...</td>\n      <td>1.425122</td>\n      <td>1.867685</td>\n      <td>0.813257</td>\n      <td>1.0</td>\n      <td>3.0</td>\n      <td>4.106355</td>\n      <td>1.477078</td>\n      <td>0.0</td>\n      <td>0.506739</td>\n      <td>0.304394</td>\n    </tr>\n    <tr>\n      <th>64623</th>\n      <td>subj01</td>\n      <td>7091</td>\n      <td>27</td>\n      <td>intermediate 4</td>\n      <td>V1</td>\n      <td>109.750</td>\n      <td>213.750</td>\n      <td>14.0</td>\n      <td>-34.0</td>\n      <td>2.748894</td>\n      <td>...</td>\n      <td>1.425122</td>\n      <td>1.867685</td>\n      <td>0.813257</td>\n      <td>1.0</td>\n      <td>3.0</td>\n      <td>4.106355</td>\n      <td>0.687496</td>\n      <td>0.0</td>\n      <td>0.506739</td>\n      <td>0.304394</td>\n    </tr>\n  </tbody>\n</table>\n<p>64624 rows × 22 columns</p>\n</div>"
     },
     "execution_count": 17,
     "metadata": {},
     "output_type": "execute_result"
    }
   ],
   "source": [
    "df.groupby(['sub', 'voxel', 'class_idx', 'names', 'vroinames']).mean().reset_index()"
   ],
   "metadata": {
    "collapsed": false,
    "ExecuteTime": {
     "end_time": "2024-09-03T20:28:25.132909Z",
     "start_time": "2024-09-03T20:28:25.012847Z"
    }
   },
   "id": "f6c387664fa14378",
   "execution_count": 17
  },
  {
   "cell_type": "code",
   "outputs": [],
   "source": [],
   "metadata": {
    "collapsed": false
   },
   "id": "8f70df3881a40e86"
  }
 ],
 "metadata": {
  "kernelspec": {
   "display_name": "Python 3",
   "language": "python",
   "name": "python3"
  },
  "language_info": {
   "codemirror_mode": {
    "name": "ipython",
    "version": 2
   },
   "file_extension": ".py",
   "mimetype": "text/x-python",
   "name": "python",
   "nbconvert_exporter": "python",
   "pygments_lexer": "ipython2",
   "version": "2.7.6"
  }
 },
 "nbformat": 4,
 "nbformat_minor": 5
}
