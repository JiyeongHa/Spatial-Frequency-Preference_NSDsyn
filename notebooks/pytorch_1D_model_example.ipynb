{
 "cells": [
  {
   "cell_type": "markdown",
   "source": [
    "# Fitting 1-D model using Pytorch\n",
    "\n",
    "In this notebook I'm going to show how to use Pytorch for the 1-D model analysis. As an example, I will use only one subject's data."
   ],
   "metadata": {
    "collapsed": false,
    "pycharm": {
     "name": "#%% md\n"
    }
   }
  },
  {
   "cell_type": "code",
   "execution_count": 6,
   "outputs": [],
   "source": [
    "import sys\n",
    "sys.path.append('/Users/jh7685/Dropbox/NYU/Projects/SF')\n",
    "%matplotlib inline\n",
    "%load_ext autoreload\n",
    "%autoreload 2\n",
    "import os\n",
    "import itertools\n",
    "import nibabel as nib\n",
    "import numpy as np\n",
    "import pandas as pd\n",
    "import h5py\n",
    "import itertools\n",
    "import pandas as pd\n",
    "from matplotlib import pyplot as plt\n",
    "from Scripts import binning_eccen\n",
    "import torch\n"
   ],
   "metadata": {
    "collapsed": false,
    "pycharm": {
     "name": "#%%\n"
    }
   }
  },
  {
   "cell_type": "code",
   "execution_count": 7,
   "outputs": [],
   "source": [
    "sn_list = np.arange(1, 2)"
   ],
   "metadata": {
    "collapsed": false,
    "pycharm": {
     "name": "#%%\n"
    }
   }
  },
  {
   "cell_type": "markdown",
   "source": [
    "Each subject's voxel-wise and stimulus-wise information is stored in a dataframe. In the next cell, I'm going to load a dataframe of one subject and average beta values and local frequency values grouped by each eccentricity bin (here we ignore stimulus class). Then I will plot beta values as a function of spatial frequency for each eccentricity bin.  I already made my own functions for making, loading and plotting the results, which are written in a script called `binning_eccen.py`. So, what I'm doing here is I load the script, and call those specific functions that I need."
   ],
   "metadata": {
    "collapsed": false,
    "pycharm": {
     "name": "#%% md\n"
    }
   }
  },
  {
   "cell_type": "code",
   "execution_count": 8,
   "outputs": [
    {
     "name": "stderr",
     "output_type": "stream",
     "text": [
      "/Users/jh7685/opt/miniconda3/envs/sfp/lib/python3.7/site-packages/pandas/core/generic.py:4153: PerformanceWarning: dropping on a non-lexsorted multi-index without a level parameter may impact performance.\n",
      "  obj = obj._drop_axis(labels, axis, level=level, errors=errors)\n"
     ]
    },
    {
     "data": {
      "text/plain": "<Figure size 864x216 with 4 Axes>",
      "image/png": "[encoded data removed]"
     },
     "metadata": {
      "needs_background": "light"
     },
     "output_type": "display_data"
    }
   ],
   "source": [
    "for sn in sn_list:\n",
    "    subj = \"%s%s\" % ('subj', str(sn).zfill(2))\n",
    "    mean_df = binning_eccen.main_binning(subj=subj, central_tendency=[\"mean\"])\n",
    "    grid = binning_eccen.plot_2D(mean_df=mean_df, subj=subj, save_fig=False)"
   ],
   "metadata": {
    "collapsed": false,
    "pycharm": {
     "name": "#%%\n"
    }
   }
  },
  {
   "cell_type": "markdown",
   "source": [],
   "metadata": {
    "collapsed": false,
    "pycharm": {
     "name": "#%% md\n"
    }
   }
  },
  {
   "cell_type": "markdown",
   "source": [
    "Now we know how the data looks like.\n",
    "\n",
    "# 1-D model optimization\n",
    "\n",
    "As a next step, we are going to find three parameters of a pdf of log normal distribution that would make a best fit to data for each eccentricity bin condition. This step will be done using Pytorch. The step will be:\n",
    "    1. Set an objective function that we want to find the best fit: log normal distribution\n",
    "    2. Set initial values for the three parameters (amplitude, mode, & sigma)\n",
    "    3. Select an optimizer type that we are going to use\n",
    "    4. Set a loss function\n",
    "    5. Run optimization\n",
    "    6. Check error values & final parameter values.\n"
   ],
   "metadata": {
    "collapsed": false,
    "pycharm": {
     "name": "#%% md\n"
    }
   }
  },
  {
   "cell_type": "code",
   "source": [
    "import torch"
   ],
   "metadata": {
    "collapsed": false,
    "pycharm": {
     "name": "#%%\n"
    }
   },
   "execution_count": 9,
   "outputs": []
  },
  {
   "cell_type": "markdown",
   "source": [
    "Before going into the step, we need to convert every numpy array (normal arrays used in Python) to tensor type array, which is a specialized array type for calculation backed by GPU. Those two types cannot be used together.\n",
    "\n",
    "## step 1. Set an objective function"
   ],
   "metadata": {
    "collapsed": false
   }
  },
  {
   "cell_type": "code",
   "source": [
    "def log_norm_pdf(x, a, mode, sigma):\n",
    "    \"\"\"the pdf of the log normal distribution, with a scale factor\n",
    "    \"\"\"\n",
    "    # note that mode here is the actual mode, for us, the peak spatial frequency. this differs from\n",
    "    # the 2d version we have, where we we have np.log2(x)+np.log2(p), so that p is the inverse of\n",
    "    # the preferred period, the ivnerse of the mode / the peak spatial frequency.\n",
    "    pdf = a * torch.exp(-(torch.log2(x)-torch.log2(mode))**2/(2*sigma**2))\n",
    "\n",
    "    return pdf"
   ],
   "metadata": {
    "collapsed": false,
    "pycharm": {
     "name": "#%%\n"
    }
   },
   "execution_count": 12,
   "outputs": []
  },
  {
   "cell_type": "markdown",
   "source": [
    "Let's say we are fitting beta values of voxels in V1 that correspond to eccentricity 2-4°. Here I first filter out rows that qualifies the condition."
   ],
   "metadata": {
    "collapsed": false,
    "pycharm": {
     "name": "#%% md\n"
    }
   }
  },
  {
   "cell_type": "code",
   "execution_count": 14,
   "outputs": [
    {
     "data": {
      "text/plain": "   vroinames  eccrois  freq_lvl      beta  local_ori  local_sf\n12        V1      3.0         0  2.601723   1.544276  0.557919\n13        V1      3.0         1  1.851101   1.544276  1.000290\n14        V1      3.0         2  2.253546   1.544276  1.904856\n15        V1      3.0         3  1.252199   1.575187  3.525237\n16        V1      3.0         4  1.658985   1.544276  6.619134",
      "text/html": "<div>\n<style scoped>\n    .dataframe tbody tr th:only-of-type {\n        vertical-align: middle;\n    }\n\n    .dataframe tbody tr th {\n        vertical-align: top;\n    }\n\n    .dataframe thead th {\n        text-align: right;\n    }\n</style>\n<table border=\"1\" class=\"dataframe\">\n  <thead>\n    <tr style=\"text-align: right;\">\n      <th></th>\n      <th>vroinames</th>\n      <th>eccrois</th>\n      <th>freq_lvl</th>\n      <th>beta</th>\n      <th>local_ori</th>\n      <th>local_sf</th>\n    </tr>\n  </thead>\n  <tbody>\n    <tr>\n      <th>12</th>\n      <td>V1</td>\n      <td>3.0</td>\n      <td>0</td>\n      <td>2.601723</td>\n      <td>1.544276</td>\n      <td>0.557919</td>\n    </tr>\n    <tr>\n      <th>13</th>\n      <td>V1</td>\n      <td>3.0</td>\n      <td>1</td>\n      <td>1.851101</td>\n      <td>1.544276</td>\n      <td>1.000290</td>\n    </tr>\n    <tr>\n      <th>14</th>\n      <td>V1</td>\n      <td>3.0</td>\n      <td>2</td>\n      <td>2.253546</td>\n      <td>1.544276</td>\n      <td>1.904856</td>\n    </tr>\n    <tr>\n      <th>15</th>\n      <td>V1</td>\n      <td>3.0</td>\n      <td>3</td>\n      <td>1.252199</td>\n      <td>1.575187</td>\n      <td>3.525237</td>\n    </tr>\n    <tr>\n      <th>16</th>\n      <td>V1</td>\n      <td>3.0</td>\n      <td>4</td>\n      <td>1.658985</td>\n      <td>1.544276</td>\n      <td>6.619134</td>\n    </tr>\n  </tbody>\n</table>\n</div>"
     },
     "execution_count": 14,
     "metadata": {},
     "output_type": "execute_result"
    }
   ],
   "source": [
    "single_df = mean_df.droplevel(level=1, axis=1)\n",
    "single_df = single_df.query(\"vroinames=='V1' & eccrois==3.0\")\n",
    "single_df.head()"
   ],
   "metadata": {
    "collapsed": false,
    "pycharm": {
     "name": "#%%\n"
    }
   }
  },
  {
   "cell_type": "markdown",
   "source": [
    "And now I define x and y values from the dataframe. The `x` and `y` variables should be tensor arrays, so here I convert them from numpy to tensor."
   ],
   "metadata": {
    "collapsed": false
   }
  },
  {
   "cell_type": "code",
   "execution_count": 15,
   "outputs": [],
   "source": [
    "x = torch.from_numpy(single_df.local_sf.values).to(torch.float32)\n",
    "y = torch.from_numpy(single_df.beta.values).to(torch.float32)"
   ],
   "metadata": {
    "collapsed": false,
    "pycharm": {
     "name": "#%%\n"
    }
   }
  },
  {
   "cell_type": "markdown",
   "source": [
    "## step 2. Set initial parameters\n",
    "We are going to start fitting from 1 for all parameters. Let's see how these values (now 1) change after optimization. `requires_grad=True` option indicates that we will track computation with them."
   ],
   "metadata": {
    "collapsed": false
   }
  },
  {
   "cell_type": "code",
   "execution_count": 16,
   "outputs": [],
   "source": [
    "amp = torch.tensor([1], dtype=torch.float32, requires_grad=True)\n",
    "mode = torch.tensor([1], dtype=torch.float32, requires_grad=True)\n",
    "sigma = torch.tensor([1], dtype=torch.float32, requires_grad=True)"
   ],
   "metadata": {
    "collapsed": false,
    "pycharm": {
     "name": "#%%\n"
    }
   }
  },
  {
   "cell_type": "markdown",
   "source": [
    "## step 3. Select an optimizer\n",
    "Choose an optimizer. As you use neural networks, you want to use various different update rules such as SGD, Nesterov-SGD, Adam, RMSProp, etc. To enable this, we built a small package: torch.optim that implements all these methods. Adam is the most commonly used optimizer. `lr` means learning rate. (As for now I have no reason to set this .02)"
   ],
   "metadata": {
    "collapsed": false
   }
  },
  {
   "cell_type": "code",
   "execution_count": 17,
   "outputs": [],
   "source": [
    "optimizer = torch.optim.Adam([amp, mode, sigma], lr=.02)"
   ],
   "metadata": {
    "collapsed": false,
    "pycharm": {
     "name": "#%%\n"
    }
   }
  },
  {
   "cell_type": "markdown",
   "source": [
    "## step 4. Set a loss function\n",
    "A loss function takes the (output, target) pair of inputs, and computes a value that estimates how far away the output is from the target. There are several different loss functions under the nn package. A simple loss is: `nn.MSELoss` which computes the mean-squared error between the input and the target."
   ],
   "metadata": {
    "collapsed": false
   }
  },
  {
   "cell_type": "code",
   "execution_count": 18,
   "outputs": [
    {
     "data": {
      "text/plain": "tensor(2.1245, grad_fn=<MseLossBackward0>)"
     },
     "execution_count": 18,
     "metadata": {},
     "output_type": "execute_result"
    }
   ],
   "source": [
    "torch.nn.functional.mse_loss(log_norm_pdf(x, amp, mode, sigma), y)"
   ],
   "metadata": {
    "collapsed": false,
    "pycharm": {
     "name": "#%%\n"
    }
   }
  },
  {
   "cell_type": "markdown",
   "source": [
    "## step 5. Optimization\n",
    "Now we decide how many times we want to run the optimization (calculate error - fix - calculate agian - fix ...).\n",
    "To backpropagate the error, all we have to do is to `loss.backward()`. Importantly, before going on to the next step, you need to clear the existing gradients though, else gradients will be accumulated to existing gradients. To see how steeply the error decreases later, we will store error at each step in `losses`."
   ],
   "metadata": {
    "collapsed": false
   }
  },
  {
   "cell_type": "code",
   "source": [
    "n_opt = 1000\n",
    "losses = torch.empty(n_opt)\n",
    "for i in range(n_opt):\n",
    "    loss = torch.nn.functional.mse_loss(log_norm_pdf(x, amp, mode, sigma), y)\n",
    "    optimizer.zero_grad()\n",
    "    loss.backward()\n",
    "    optimizer.step()\n",
    "    losses[i] = loss"
   ],
   "metadata": {
    "collapsed": false,
    "pycharm": {
     "name": "#%%\n"
    }
   },
   "execution_count": 27,
   "outputs": []
  },
  {
   "cell_type": "markdown",
   "source": [
    "## step 6. Check error slope & final parameter values\n",
    "Let's first check how parameters changed through the process."
   ],
   "metadata": {
    "collapsed": false,
    "pycharm": {
     "name": "#%% md\n"
    }
   }
  },
  {
   "cell_type": "code",
   "execution_count": 28,
   "outputs": [
    {
     "name": "stdout",
     "output_type": "stream",
     "text": [
      "[tensor([2.3847], requires_grad=True), tensor([0.2682], requires_grad=True), tensor([4.7525], requires_grad=True)]\n"
     ]
    }
   ],
   "source": [
    "print([amp, mode, sigma])"
   ],
   "metadata": {
    "collapsed": false,
    "pycharm": {
     "name": "#%%\n"
    }
   }
  },
  {
   "cell_type": "markdown",
   "source": [
    "Amplitude, mode, and sigma all increased over 1. Now let's see whether our loss function worked well and the MSE continuously decreased."
   ],
   "metadata": {
    "collapsed": false
   }
  },
  {
   "cell_type": "code",
   "execution_count": 30,
   "outputs": [
    {
     "data": {
      "text/plain": "<Figure size 432x288 with 1 Axes>",
      "image/png": "[encoded data removed]"
     },
     "metadata": {
      "needs_background": "light"
     },
     "output_type": "display_data"
    }
   ],
   "source": [
    "plt.semilogy(np.arange(1, n_opt+1), losses.detach().numpy())\n",
    "plt.title('Loss function result')\n",
    "plt.xlabel('Number of iteration')\n",
    "plt.ylabel('MSE')\n",
    "plt.show()"
   ],
   "metadata": {
    "collapsed": false,
    "pycharm": {
     "name": "#%%\n"
    }
   }
  },
  {
   "cell_type": "markdown",
   "source": [
    "Finally, we can see how the log normal function looks like with the final parameters."
   ],
   "metadata": {
    "collapsed": false,
    "pycharm": {
     "name": "#%% md\n"
    }
   }
  },
  {
   "cell_type": "code",
   "execution_count": 31,
   "outputs": [
    {
     "data": {
      "text/plain": "<Figure size 432x288 with 1 Axes>",
      "image/png": "[encoded data removed]"
     },
     "metadata": {
      "needs_background": "light"
     },
     "output_type": "display_data"
    }
   ],
   "source": [
    "plt.plot(x.numpy(), log_norm_pdf(x, amp, mode, sigma).detach().numpy())\n",
    "plt.xlabel('Spatial Frequency')\n",
    "plt.ylabel('Beta')\n",
    "plt.scatter(single_df.local_sf.values, single_df.beta.values, s=20, label='eccentricity 2-4°')\n",
    "plt.xscale('log')\n",
    "plt.legend()\n",
    "plt.show()"
   ],
   "metadata": {
    "collapsed": false,
    "pycharm": {
     "name": "#%%\n"
    }
   }
  },
  {
   "cell_type": "code",
   "execution_count": null,
   "outputs": [],
   "source": [],
   "metadata": {
    "collapsed": false,
    "pycharm": {
     "name": "#%%\n"
    }
   }
  },
  {
   "cell_type": "markdown",
   "source": [],
   "metadata": {
    "collapsed": false,
    "pycharm": {
     "name": "#%% md\n"
    }
   }
  }
 ],
 "metadata": {
  "kernelspec": {
   "display_name": "Python 3",
   "language": "python",
   "name": "python3"
  },
  "language_info": {
   "codemirror_mode": {
    "name": "ipython",
    "version": 2
   },
   "file_extension": ".py",
   "mimetype": "text/x-python",
   "name": "python",
   "nbconvert_exporter": "python",
   "pygments_lexer": "ipython2",
   "version": "2.7.6"
  }
 },
 "nbformat": 4,
 "nbformat_minor": 0
}