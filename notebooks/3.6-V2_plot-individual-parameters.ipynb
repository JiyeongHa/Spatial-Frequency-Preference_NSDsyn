{
 "cells": [
  {
   "cell_type": "code",
   "execution_count": 2,
   "id": "initial_id",
   "metadata": {
    "ExecuteTime": {
     "end_time": "2024-10-31T14:40:40.022508Z",
     "start_time": "2024-10-31T14:40:38.597066Z"
    },
    "collapsed": true
   },
   "outputs": [],
   "source": [
    "import sys\n",
    "sys.path.append('..')\n",
    "import os\n",
    "import pandas as pd\n",
    "import numpy as np\n",
    "import matplotlib.pyplot as plt\n",
    "import seaborn as sns\n",
    "from sfp_nsdsyn import *\n",
    "import warnings\n",
    "import itertools\n",
    "import json\n",
    "config = json.load(open('../config.json'))\n",
    "warnings.filterwarnings(\"ignore\", category=RuntimeWarning)\n",
    "pd.options.mode.chained_assignment = None\n",
    "%load_ext autoreload\n",
    "%autoreload 2"
   ]
  },
  {
   "cell_type": "code",
   "execution_count": 3,
   "id": "903cfd1c4c95c0f",
   "metadata": {
    "ExecuteTime": {
     "end_time": "2024-10-31T14:40:40.049745Z",
     "start_time": "2024-10-31T14:40:40.024121Z"
    },
    "collapsed": false
   },
   "outputs": [],
   "source": [
    "\n",
    "lr = 0.0005\n",
    "max_epoch = 30000\n",
    "dset='nsdsyn'\n",
    "roi_list = ['V1','V2','V3']\n",
    "vsc='pRFsize'\n",
    "nsd_subj_list = [utils.sub_number_to_string(sn, 'nsdsyn') for sn in np.arange(1,9)]\n",
    "broderick_sn_list = [1, 6, 7, 45, 46, 62, 64, 81, 95, 114, 115, 121]\n",
    "broderick_subj_list = [utils.sub_number_to_string(i, 'broderick') for i in broderick_sn_list]\n",
    "ARGS_2D = ['sub','lr','eph','roi']"
   ]
  },
  {
   "cell_type": "markdown",
   "id": "84bf51b54c18d018",
   "metadata": {
    "collapsed": false
   },
   "source": [
    "# NSD \n",
    "## model"
   ]
  },
  {
   "cell_type": "code",
   "execution_count": 4,
   "id": "2500a36f1fb4b968",
   "metadata": {
    "ExecuteTime": {
     "end_time": "2024-10-31T14:40:40.808827Z",
     "start_time": "2024-10-31T14:40:40.051889Z"
    },
    "collapsed": false
   },
   "outputs": [],
   "source": [
    "pt_file_list = []\n",
    "dset = 'nsdsyn'\n",
    "roi='V2'\n",
    "results_dir = os.path.join(config['OUTPUT_DIR'], 'sfp_model', 'results_2D', dset)\n",
    "for subj in nsd_subj_list:\n",
    "    file_name = os.path.join(results_dir, f'model-params_lr-{lr}_eph-{max_epoch}_sub-{subj}_roi-{roi}_vs-{vsc}.pt')\n",
    "    pt_file_list.append(file_name)\n",
    "nsd_params = model.load_all_models(pt_file_list, *ARGS_2D)\n",
    "\n",
    "precision_s =  pd.read_csv(os.path.join(config['OUTPUT_DIR'], 'dataframes', dset, 'precision', f'precision-s_dset-{dset}_vs-pRFsize.csv'))\n",
    "real_df = pd.merge(nsd_params, precision_s[['sub','vroinames','precision']], on=['sub','vroinames'])\n",
    "real_df['bootstrap'] = 'real'"
   ]
  },
  {
   "cell_type": "markdown",
   "id": "6353fcac",
   "metadata": {},
   "source": [
    "## Load in bootstraps"
   ]
  },
  {
   "cell_type": "code",
   "execution_count": 5,
   "id": "f759f63d",
   "metadata": {},
   "outputs": [],
   "source": [
    "pt_file_list = []\n",
    "dset = 'nsdsyn'\n",
    "n_bootstrap = 100\n",
    "for subj in nsd_subj_list:\n",
    "    for i in range(n_bootstrap):\n",
    "        file_name = os.path.join(results_dir, 'bootstraps', f'bootstrap-{i}_model-params_lr-{lr}_eph-{max_epoch}_sub-{subj}_roi-{roi}_vs-{vsc}.pt')\n",
    "        pt_file_list.append(file_name)\n",
    "bootstrap_params = model.load_all_models(pt_file_list, *ARGS_2D+['bootstrap'])"
   ]
  },
  {
   "cell_type": "markdown",
   "id": "29b7cbb5",
   "metadata": {},
   "source": [
    "## organize dataframes"
   ]
  },
  {
   "cell_type": "code",
   "execution_count": 6,
   "id": "eee536ae",
   "metadata": {},
   "outputs": [],
   "source": [
    "param_cols = ['sigma', 'slope', 'intercept', 'p_1', 'p_2', 'p_3', 'p_4', 'A_1', 'A_2']\n",
    "\n",
    "# Melt bootstrap data to long format\n",
    "boot_melted = bootstrap_params.melt(id_vars=['bootstrap','sub'], \n",
    "                                    value_vars=param_cols,\n",
    "                                    var_name='parameter', value_name='value')\n",
    "\n",
    "# Melt real data\n",
    "real_melted = real_df.melt(id_vars=['sub','bootstrap'], \n",
    "                            value_vars=param_cols, \n",
    "                            var_name='parameter', \n",
    "                            value_name='value')\n"
   ]
  },
  {
   "cell_type": "code",
   "execution_count": 7,
   "id": "235fc409",
   "metadata": {},
   "outputs": [],
   "source": [
    "# Compute 16th and 84th percentiles for each group\n",
    "ci_df = boot_melted.groupby(['sub', 'parameter'])['value'].quantile([0.16, 0.84]).unstack(level=-1).reset_index()\n",
    "ci_df = ci_df.rename(columns={0.16: 'ci_low_16', 0.84: 'ci_high_84'})"
   ]
  },
  {
   "cell_type": "code",
   "execution_count": 8,
   "id": "bda93905",
   "metadata": {},
   "outputs": [
    {
     "data": {
      "text/html": [
       "<div>\n",
       "<style scoped>\n",
       "    .dataframe tbody tr th:only-of-type {\n",
       "        vertical-align: middle;\n",
       "    }\n",
       "\n",
       "    .dataframe tbody tr th {\n",
       "        vertical-align: top;\n",
       "    }\n",
       "\n",
       "    .dataframe thead th {\n",
       "        text-align: right;\n",
       "    }\n",
       "</style>\n",
       "<table border=\"1\" class=\"dataframe\">\n",
       "  <thead>\n",
       "    <tr style=\"text-align: right;\">\n",
       "      <th></th>\n",
       "      <th>sub</th>\n",
       "      <th>parameter</th>\n",
       "      <th>value</th>\n",
       "      <th>ci_low_16</th>\n",
       "      <th>ci_high_84</th>\n",
       "      <th>yerr_lower</th>\n",
       "      <th>yerr_upper</th>\n",
       "    </tr>\n",
       "  </thead>\n",
       "  <tbody>\n",
       "    <tr>\n",
       "      <th>0</th>\n",
       "      <td>subj01</td>\n",
       "      <td>sigma</td>\n",
       "      <td>5.655971</td>\n",
       "      <td>4.763788</td>\n",
       "      <td>7.103287</td>\n",
       "      <td>0.892182</td>\n",
       "      <td>1.447317</td>\n",
       "    </tr>\n",
       "    <tr>\n",
       "      <th>1</th>\n",
       "      <td>subj02</td>\n",
       "      <td>sigma</td>\n",
       "      <td>3.959743</td>\n",
       "      <td>3.494461</td>\n",
       "      <td>10.066614</td>\n",
       "      <td>0.465282</td>\n",
       "      <td>6.106872</td>\n",
       "    </tr>\n",
       "    <tr>\n",
       "      <th>2</th>\n",
       "      <td>subj03</td>\n",
       "      <td>sigma</td>\n",
       "      <td>3.321069</td>\n",
       "      <td>3.121617</td>\n",
       "      <td>3.947851</td>\n",
       "      <td>0.199452</td>\n",
       "      <td>0.626782</td>\n",
       "    </tr>\n",
       "    <tr>\n",
       "      <th>3</th>\n",
       "      <td>subj04</td>\n",
       "      <td>sigma</td>\n",
       "      <td>3.948785</td>\n",
       "      <td>3.494776</td>\n",
       "      <td>4.891348</td>\n",
       "      <td>0.454009</td>\n",
       "      <td>0.942562</td>\n",
       "    </tr>\n",
       "    <tr>\n",
       "      <th>4</th>\n",
       "      <td>subj05</td>\n",
       "      <td>sigma</td>\n",
       "      <td>3.324115</td>\n",
       "      <td>2.771347</td>\n",
       "      <td>3.630846</td>\n",
       "      <td>0.552767</td>\n",
       "      <td>0.306731</td>\n",
       "    </tr>\n",
       "    <tr>\n",
       "      <th>...</th>\n",
       "      <td>...</td>\n",
       "      <td>...</td>\n",
       "      <td>...</td>\n",
       "      <td>...</td>\n",
       "      <td>...</td>\n",
       "      <td>...</td>\n",
       "      <td>...</td>\n",
       "    </tr>\n",
       "    <tr>\n",
       "      <th>67</th>\n",
       "      <td>subj04</td>\n",
       "      <td>A_2</td>\n",
       "      <td>-0.004421</td>\n",
       "      <td>-0.012221</td>\n",
       "      <td>0.006218</td>\n",
       "      <td>0.007800</td>\n",
       "      <td>0.010639</td>\n",
       "    </tr>\n",
       "    <tr>\n",
       "      <th>68</th>\n",
       "      <td>subj05</td>\n",
       "      <td>A_2</td>\n",
       "      <td>-0.000032</td>\n",
       "      <td>-0.036094</td>\n",
       "      <td>-0.011498</td>\n",
       "      <td>0.036063</td>\n",
       "      <td>-0.011466</td>\n",
       "    </tr>\n",
       "    <tr>\n",
       "      <th>69</th>\n",
       "      <td>subj06</td>\n",
       "      <td>A_2</td>\n",
       "      <td>-0.036121</td>\n",
       "      <td>-0.046472</td>\n",
       "      <td>-0.030855</td>\n",
       "      <td>0.010351</td>\n",
       "      <td>0.005266</td>\n",
       "    </tr>\n",
       "    <tr>\n",
       "      <th>70</th>\n",
       "      <td>subj07</td>\n",
       "      <td>A_2</td>\n",
       "      <td>0.009285</td>\n",
       "      <td>-0.002295</td>\n",
       "      <td>0.015620</td>\n",
       "      <td>0.011580</td>\n",
       "      <td>0.006335</td>\n",
       "    </tr>\n",
       "    <tr>\n",
       "      <th>71</th>\n",
       "      <td>subj08</td>\n",
       "      <td>A_2</td>\n",
       "      <td>-0.025594</td>\n",
       "      <td>-0.026970</td>\n",
       "      <td>-0.013766</td>\n",
       "      <td>0.001375</td>\n",
       "      <td>0.011828</td>\n",
       "    </tr>\n",
       "  </tbody>\n",
       "</table>\n",
       "<p>72 rows × 7 columns</p>\n",
       "</div>"
      ],
      "text/plain": [
       "       sub parameter     value  ci_low_16  ci_high_84  yerr_lower  yerr_upper\n",
       "0   subj01     sigma  5.655971   4.763788    7.103287    0.892182    1.447317\n",
       "1   subj02     sigma  3.959743   3.494461   10.066614    0.465282    6.106872\n",
       "2   subj03     sigma  3.321069   3.121617    3.947851    0.199452    0.626782\n",
       "3   subj04     sigma  3.948785   3.494776    4.891348    0.454009    0.942562\n",
       "4   subj05     sigma  3.324115   2.771347    3.630846    0.552767    0.306731\n",
       "..     ...       ...       ...        ...         ...         ...         ...\n",
       "67  subj04       A_2 -0.004421  -0.012221    0.006218    0.007800    0.010639\n",
       "68  subj05       A_2 -0.000032  -0.036094   -0.011498    0.036063   -0.011466\n",
       "69  subj06       A_2 -0.036121  -0.046472   -0.030855    0.010351    0.005266\n",
       "70  subj07       A_2  0.009285  -0.002295    0.015620    0.011580    0.006335\n",
       "71  subj08       A_2 -0.025594  -0.026970   -0.013766    0.001375    0.011828\n",
       "\n",
       "[72 rows x 7 columns]"
      ]
     },
     "execution_count": 8,
     "metadata": {},
     "output_type": "execute_result"
    }
   ],
   "source": [
    "plot_df =pd.merge(real_melted[['sub','parameter','value']], ci_df, on=['sub', 'parameter'])\n",
    "\n",
    "# Compute error bar length\n",
    "plot_df['yerr_lower'] = plot_df['value'] - plot_df['ci_low_16']\n",
    "plot_df['yerr_upper'] = plot_df['ci_high_84'] - plot_df['value']\n",
    "#yerr = np.vstack([plot_df['yerr_lower'], plot_df['yerr_upper']])\n",
    "plot_df"
   ]
  },
  {
   "cell_type": "code",
   "execution_count": 9,
   "id": "24658177",
   "metadata": {},
   "outputs": [],
   "source": [
    "plot_df =pd.merge(real_melted, ci_df, on=['sub', 'parameter'])\n",
    "\n",
    "# Compute error bar length\n",
    "plot_df['yerr_lower'] = plot_df['value'] - plot_df['ci_low_16']\n",
    "plot_df['yerr_upper'] = plot_df['ci_high_84'] - plot_df['value']\n",
    "tmp = plot_df.query('sub == \"subj01\"')"
   ]
  },
  {
   "cell_type": "code",
   "execution_count": 10,
   "id": "23d7e59e",
   "metadata": {},
   "outputs": [],
   "source": [
    "PARAMS_2D = ['sigma', 'slope', 'intercept', 'p_1', 'p_2', 'p_3', 'p_4', 'A_1', 'A_2']\n",
    "weighted_mean_df =utils.calculate_weighted_mean(real_df, PARAMS_2D, 'precision')"
   ]
  },
  {
   "cell_type": "code",
   "execution_count": 11,
   "id": "7ca412b9",
   "metadata": {},
   "outputs": [],
   "source": [
    "weighted_mean_df['sub'] = 'weighted mean'\n",
    "weighted_mean_df_melted = pd.melt(weighted_mean_df.drop(columns=['vroinames']), id_vars=['sub'], \n",
    "var_name='parameter', value_name='value')\n",
    "plot_df =pd.concat((plot_df, weighted_mean_df_melted))"
   ]
  },
  {
   "cell_type": "code",
   "execution_count": 12,
   "id": "51fa8635",
   "metadata": {},
   "outputs": [
    {
     "data": {
      "image/png": "[encoded data removed]",
      "text/plain": [
       "<Figure size 504x432 with 5 Axes>"
      ]
     },
     "metadata": {
      "needs_background": "light"
     },
     "output_type": "display_data"
    }
   ],
   "source": [
    "#ylim_list = [(2, 12), (-0.2, 0.6), (-0.4, 0.4),  (-0.1,0.1), (-0.5, 0.5)]\n",
    "#yticks_list=  [[2,4,6], [-0.2, 0, 0.2, 0.4, 0.6], [-0.4,-0.2,0,0.2,0.4], [-0.1,0,0.1],[-0.5,0,0.5]]\n",
    "\n",
    "params_list = [['sigma'], ['slope', 'intercept'], ['p_1', 'p_2'], ['A_1','A_2'], ['p_3','p_4']]\n",
    "\n",
    "vis2D.plot_individual_parameters(plot_df,\n",
    "                                 weighted_mean_df=weighted_mean_df,\n",
    "                                 x='parameter',\n",
    "                                 y='value', \n",
    "                                 hue='sub', \n",
    "                                 hue_order=nsd_subj_list + ['weighted mean'], \n",
    "                                 params_list=params_list, \n",
    "                                 ylim_list=None, \n",
    "                                 yticks_list=None,\n",
    "                                 save_path=os.path.join(config['FIG_DIR'], 'sfp_model', 'results_2D', 'bootstraps', f'errorbars_individual-parameters-{roi}.svg'))"
   ]
  },
  {
   "cell_type": "markdown",
   "id": "8814cd8ae4205398",
   "metadata": {
    "collapsed": false
   },
   "source": [
    "# Plot parameter estimates"
   ]
  },
  {
   "cell_type": "code",
   "execution_count": null,
   "id": "466e477e",
   "metadata": {},
   "outputs": [],
   "source": [
    "plot_df = pd.concat((real_df, weighted_mean_df), axis=0)\n",
    "\n",
    "params_list = [['sigma'], ['slope', 'intercept'], ['p_1', 'p_2'], ['A_1', 'A_2'], ['p_3', 'p_4']]\n",
    "ylim_list = [(1.8, 6), (-0.2, 0.6), (-0.4, 0.4),  (-0.1,0.1), (-1.5, 1.5)]\n",
    "yticks_list=  [[2,4,6], [-0.2, 0, 0.2, 0.4, 0.6], [-0.4,-0.2,0,0.2,0.4], [-0.1,0,0.1],[-1.5,-1.0, -0.5,0, 0.5, 1.0, 1.5]]\n",
    "vis2D.make_param_summary_fig(plot_df, \n",
    "                             hue='sub', hue_order=plot_df['sub'].unique(), \n",
    "                             pal=sns.color_palette('tab10')[:8] + ['black'], scale=0.7, \n",
    "                             ylim_list=ylim_list, yticks_list=yticks_list,\n",
    "                             weighted_mean=False,\n",
    "                             width_ratios=(0.8,2,1.5,1.5,1.5), fig_size=(8.6, 1.5),\n",
    "                             params_list=params_list, **{'markers':['o']*8 + ['x']},\n",
    "                             save_path=os.path.join(config['FIG_DIR'], 'sfp_model', 'results_2D', 'bootstraps', f'individual-parameters-{roi}.svg'))"
   ]
  }
 ],
 "metadata": {
  "kernelspec": {
   "display_name": "sfp",
   "language": "python",
   "name": "python3"
  },
  "language_info": {
   "codemirror_mode": {
    "name": "ipython",
    "version": 3
   },
   "file_extension": ".py",
   "mimetype": "text/x-python",
   "name": "python",
   "nbconvert_exporter": "python",
   "pygments_lexer": "ipython3",
   "version": "3.7.12"
  }
 },
 "nbformat": 4,
 "nbformat_minor": 5
}
