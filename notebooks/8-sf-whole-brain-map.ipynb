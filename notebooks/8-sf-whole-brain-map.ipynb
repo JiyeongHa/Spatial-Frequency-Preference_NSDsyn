{
 "cells": [
  {
   "cell_type": "code",
   "execution_count": 1,
   "metadata": {
    "collapsed": true
   },
   "outputs": [],
   "source": [
    "import sys\n",
    "sys.path.append('..')\n",
    "sys.path.append('/Users/jh7685/Documents/Projects/pysurfer')\n",
    "from pysurfer.mgz_helper import map_values_as_mgz\n",
    "#import freeview_helper as pyview\n",
    "import os\n",
    "import pandas as pd\n",
    "import numpy as np\n",
    "import matplotlib.pyplot as plt\n",
    "import seaborn as sns\n",
    "from sfp_nsdsyn import *\n",
    "from scipy.stats import f_oneway\n",
    "import warnings\n",
    "from itertools import product\n",
    "warnings.filterwarnings(\"ignore\", category=UserWarning)\n",
    "pd.options.mode.chained_assignment = None\n",
    "%load_ext autoreload\n",
    "%autoreload 2"
   ]
  },
  {
   "cell_type": "code",
   "execution_count": 2,
   "outputs": [],
   "source": [
    "nsd_dir ='/Volumes/server/Projects/sfp_nsd/natural-scenes-dataset'\n",
    "output_dir='/Volumes/server/Projects/sfp_nsd/derivatives'\n",
    "#freesurfer_dir='/Volumes/server/Projects/sfp_nsd/natural-scenes-dataset/nsddata/freesurfer'"
   ],
   "metadata": {
    "collapsed": false,
    "pycharm": {
     "name": "#%%\n"
    }
   }
  },
  {
   "cell_type": "markdown",
   "source": [
    "# Load in Beta values"
   ],
   "metadata": {
    "collapsed": false,
    "pycharm": {
     "name": "#%% md\n"
    }
   }
  },
  {
   "cell_type": "code",
   "execution_count": 3,
   "outputs": [],
   "source": [
    "subj='subj01'\n",
    "hemi='lh'\n",
    "betas = os.path.join(nsd_dir, 'nsddata_betas', 'ppdata', f'{subj}', 'nativesurface', 'nsdsyntheticbetas_fithrf_GLMdenoise_RR', f'{hemi}.betas_nsdsynthetic.hdf5')\n",
    "design_mat=os.path.join(nsd_dir, 'nsddata', 'experiments', 'nsdsynthetic', 'nsdsynthetic_expdesign.mat')\n",
    "task_keys=['fixation_task','memory_task']\n",
    "stim_info=os.path.join(nsd_dir, 'nsdsyn_stim_description.csv')\n",
    "task_average=True\n",
    "\n",
    "roi_vals = [prep.convert_between_roi_num_and_vareas(\"V1\"), [1,2,3,4,5]]\n",
    "roi_path = [os.path.join(nsd_dir, 'nsddata', 'freesurfer', f'{subj}', 'label', f'{hemi}.prf-{roi_file}.mgz') for roi_file in [\"visualrois\", \"eccrois\"]]\n",
    "mask, roi_dict = prep.load_common_mask_and_rois(roi_path, roi_vals)"
   ],
   "metadata": {
    "collapsed": false,
    "pycharm": {
     "name": "#%%\n"
    }
   }
  },
  {
   "cell_type": "code",
   "execution_count": 4,
   "outputs": [],
   "source": [
    "betas_df = sfm.get_whole_brain_betas(betas_path=betas, design_mat_path=design_mat,\n",
    "                          stim_info_path=stim_info,\n",
    "                          task_keys=task_keys, task_average=task_average,\n",
    "                          x_axis='voxel', y_axis='stim_idx', long_format=True)\n"
   ],
   "metadata": {
    "collapsed": false,
    "pycharm": {
     "name": "#%%\n"
    }
   }
  },
  {
   "cell_type": "code",
   "execution_count": 5,
   "outputs": [
    {
     "ename": "TypeError",
     "evalue": "sf_one_way_anova() missing 1 required positional argument: 'values'",
     "output_type": "error",
     "traceback": [
      "\u001B[0;31m---------------------------------------------------------------------------\u001B[0m",
      "\u001B[0;31mTypeError\u001B[0m                                 Traceback (most recent call last)",
      "\u001B[0;32m/var/folders/dc/rp0klyw131l30jr45p7_7gnnnl2r2_/T/ipykernel_42190/2408507684.py\u001B[0m in \u001B[0;36m<module>\u001B[0;34m\u001B[0m\n\u001B[1;32m      1\u001B[0m \u001B[0mn\u001B[0m \u001B[0;34m=\u001B[0m \u001B[0;36m0\u001B[0m\u001B[0;34m\u001B[0m\u001B[0;34m\u001B[0m\u001B[0m\n\u001B[1;32m      2\u001B[0m \u001B[0mone_voxel_betas_df\u001B[0m \u001B[0;34m=\u001B[0m \u001B[0mbetas_df\u001B[0m\u001B[0;34m.\u001B[0m\u001B[0mquery\u001B[0m\u001B[0;34m(\u001B[0m\u001B[0;34m'voxel == @n'\u001B[0m\u001B[0;34m)\u001B[0m\u001B[0;34m\u001B[0m\u001B[0;34m\u001B[0m\u001B[0m\n\u001B[0;32m----> 3\u001B[0;31m \u001B[0msfm\u001B[0m\u001B[0;34m.\u001B[0m\u001B[0msf_one_way_anova\u001B[0m\u001B[0;34m(\u001B[0m\u001B[0mone_voxel_betas_df\u001B[0m\u001B[0;34m,\u001B[0m \u001B[0;34m'freq_lvl'\u001B[0m\u001B[0;34m,\u001B[0m \u001B[0mtest_unique\u001B[0m\u001B[0;34m=\u001B[0m\u001B[0;34m[\u001B[0m\u001B[0;36m0\u001B[0m\u001B[0;34m,\u001B[0m\u001B[0;36m1\u001B[0m\u001B[0;34m,\u001B[0m\u001B[0;36m2\u001B[0m\u001B[0;34m,\u001B[0m\u001B[0;36m3\u001B[0m\u001B[0;34m,\u001B[0m\u001B[0;36m4\u001B[0m\u001B[0;34m,\u001B[0m\u001B[0;36m5\u001B[0m\u001B[0;34m]\u001B[0m\u001B[0;34m)\u001B[0m\u001B[0;34m\u001B[0m\u001B[0;34m\u001B[0m\u001B[0m\n\u001B[0m",
      "\u001B[0;31mTypeError\u001B[0m: sf_one_way_anova() missing 1 required positional argument: 'values'"
     ]
    }
   ],
   "source": [
    "n = 0\n",
    "one_voxel_betas_df = betas_df.query('voxel == @n')\n",
    "sfm.sf_one_way_anova(one_voxel_betas_df, 'freq_lvl', test_unique=[0,1,2,3,4,5])"
   ],
   "metadata": {
    "collapsed": false,
    "pycharm": {
     "name": "#%%\n"
    }
   }
  },
  {
   "cell_type": "code",
   "execution_count": 8,
   "outputs": [
    {
     "data": {
      "text/plain": "         stim_idx  image_idx           names  w_r  w_a     phase  class_idx  \\\n0               0        104        pinwheel  0.0  6.0  0.000000          0   \n227021          1        105        pinwheel  0.0  6.0  1.570796          0   \n454042          2        106        pinwheel  0.0  6.0  3.141593          0   \n681063          3        107        pinwheel  0.0  6.0  4.712389          0   \n5448504        24        128  forward spiral  4.0  4.0  0.000000          6   \n5675525        25        129  forward spiral  4.0  4.0  1.570796          6   \n5902546        26        130  forward spiral  4.0  4.0  3.141593          6   \n6129567        27        131  forward spiral  4.0  4.0  4.712389          6   \n10897008       48        152         annulus  6.0  0.0  0.000000         12   \n11124029       49        153         annulus  6.0  0.0  1.570796         12   \n11351050       50        154         annulus  6.0  0.0  3.141593         12   \n11578071       51        155         annulus  6.0  0.0  4.712389         12   \n16345512       72        176  reverse spiral  4.0 -4.0  0.000000         18   \n16572533       73        177  reverse spiral  4.0 -4.0  1.570796         18   \n16799554       74        178  reverse spiral  4.0 -4.0  3.141593         18   \n17026575       75        179  reverse spiral  4.0 -4.0  4.712389         18   \n\n          freq_lvl  voxel task     betas  \n0                0      0  avg  1.321667  \n227021           0      0  avg  2.753333  \n454042           0      0  avg  1.098333  \n681063           0      0  avg  1.440000  \n5448504          0      0  avg  0.658333  \n5675525          0      0  avg  0.933333  \n5902546          0      0  avg  0.831667  \n6129567          0      0  avg  1.463333  \n10897008         0      0  avg  0.796667  \n11124029         0      0  avg  0.338333  \n11351050         0      0  avg  2.043334  \n11578071         0      0  avg -0.201667  \n16345512         0      0  avg  1.338333  \n16572533         0      0  avg  1.581667  \n16799554         0      0  avg  2.308333  \n17026575         0      0  avg  0.958333  ",
      "text/html": "<div>\n<style scoped>\n    .dataframe tbody tr th:only-of-type {\n        vertical-align: middle;\n    }\n\n    .dataframe tbody tr th {\n        vertical-align: top;\n    }\n\n    .dataframe thead th {\n        text-align: right;\n    }\n</style>\n<table border=\"1\" class=\"dataframe\">\n  <thead>\n    <tr style=\"text-align: right;\">\n      <th></th>\n      <th>stim_idx</th>\n      <th>image_idx</th>\n      <th>names</th>\n      <th>w_r</th>\n      <th>w_a</th>\n      <th>phase</th>\n      <th>class_idx</th>\n      <th>freq_lvl</th>\n      <th>voxel</th>\n      <th>task</th>\n      <th>betas</th>\n    </tr>\n  </thead>\n  <tbody>\n    <tr>\n      <th>0</th>\n      <td>0</td>\n      <td>104</td>\n      <td>pinwheel</td>\n      <td>0.0</td>\n      <td>6.0</td>\n      <td>0.000000</td>\n      <td>0</td>\n      <td>0</td>\n      <td>0</td>\n      <td>avg</td>\n      <td>1.321667</td>\n    </tr>\n    <tr>\n      <th>227021</th>\n      <td>1</td>\n      <td>105</td>\n      <td>pinwheel</td>\n      <td>0.0</td>\n      <td>6.0</td>\n      <td>1.570796</td>\n      <td>0</td>\n      <td>0</td>\n      <td>0</td>\n      <td>avg</td>\n      <td>2.753333</td>\n    </tr>\n    <tr>\n      <th>454042</th>\n      <td>2</td>\n      <td>106</td>\n      <td>pinwheel</td>\n      <td>0.0</td>\n      <td>6.0</td>\n      <td>3.141593</td>\n      <td>0</td>\n      <td>0</td>\n      <td>0</td>\n      <td>avg</td>\n      <td>1.098333</td>\n    </tr>\n    <tr>\n      <th>681063</th>\n      <td>3</td>\n      <td>107</td>\n      <td>pinwheel</td>\n      <td>0.0</td>\n      <td>6.0</td>\n      <td>4.712389</td>\n      <td>0</td>\n      <td>0</td>\n      <td>0</td>\n      <td>avg</td>\n      <td>1.440000</td>\n    </tr>\n    <tr>\n      <th>5448504</th>\n      <td>24</td>\n      <td>128</td>\n      <td>forward spiral</td>\n      <td>4.0</td>\n      <td>4.0</td>\n      <td>0.000000</td>\n      <td>6</td>\n      <td>0</td>\n      <td>0</td>\n      <td>avg</td>\n      <td>0.658333</td>\n    </tr>\n    <tr>\n      <th>5675525</th>\n      <td>25</td>\n      <td>129</td>\n      <td>forward spiral</td>\n      <td>4.0</td>\n      <td>4.0</td>\n      <td>1.570796</td>\n      <td>6</td>\n      <td>0</td>\n      <td>0</td>\n      <td>avg</td>\n      <td>0.933333</td>\n    </tr>\n    <tr>\n      <th>5902546</th>\n      <td>26</td>\n      <td>130</td>\n      <td>forward spiral</td>\n      <td>4.0</td>\n      <td>4.0</td>\n      <td>3.141593</td>\n      <td>6</td>\n      <td>0</td>\n      <td>0</td>\n      <td>avg</td>\n      <td>0.831667</td>\n    </tr>\n    <tr>\n      <th>6129567</th>\n      <td>27</td>\n      <td>131</td>\n      <td>forward spiral</td>\n      <td>4.0</td>\n      <td>4.0</td>\n      <td>4.712389</td>\n      <td>6</td>\n      <td>0</td>\n      <td>0</td>\n      <td>avg</td>\n      <td>1.463333</td>\n    </tr>\n    <tr>\n      <th>10897008</th>\n      <td>48</td>\n      <td>152</td>\n      <td>annulus</td>\n      <td>6.0</td>\n      <td>0.0</td>\n      <td>0.000000</td>\n      <td>12</td>\n      <td>0</td>\n      <td>0</td>\n      <td>avg</td>\n      <td>0.796667</td>\n    </tr>\n    <tr>\n      <th>11124029</th>\n      <td>49</td>\n      <td>153</td>\n      <td>annulus</td>\n      <td>6.0</td>\n      <td>0.0</td>\n      <td>1.570796</td>\n      <td>12</td>\n      <td>0</td>\n      <td>0</td>\n      <td>avg</td>\n      <td>0.338333</td>\n    </tr>\n    <tr>\n      <th>11351050</th>\n      <td>50</td>\n      <td>154</td>\n      <td>annulus</td>\n      <td>6.0</td>\n      <td>0.0</td>\n      <td>3.141593</td>\n      <td>12</td>\n      <td>0</td>\n      <td>0</td>\n      <td>avg</td>\n      <td>2.043334</td>\n    </tr>\n    <tr>\n      <th>11578071</th>\n      <td>51</td>\n      <td>155</td>\n      <td>annulus</td>\n      <td>6.0</td>\n      <td>0.0</td>\n      <td>4.712389</td>\n      <td>12</td>\n      <td>0</td>\n      <td>0</td>\n      <td>avg</td>\n      <td>-0.201667</td>\n    </tr>\n    <tr>\n      <th>16345512</th>\n      <td>72</td>\n      <td>176</td>\n      <td>reverse spiral</td>\n      <td>4.0</td>\n      <td>-4.0</td>\n      <td>0.000000</td>\n      <td>18</td>\n      <td>0</td>\n      <td>0</td>\n      <td>avg</td>\n      <td>1.338333</td>\n    </tr>\n    <tr>\n      <th>16572533</th>\n      <td>73</td>\n      <td>177</td>\n      <td>reverse spiral</td>\n      <td>4.0</td>\n      <td>-4.0</td>\n      <td>1.570796</td>\n      <td>18</td>\n      <td>0</td>\n      <td>0</td>\n      <td>avg</td>\n      <td>1.581667</td>\n    </tr>\n    <tr>\n      <th>16799554</th>\n      <td>74</td>\n      <td>178</td>\n      <td>reverse spiral</td>\n      <td>4.0</td>\n      <td>-4.0</td>\n      <td>3.141593</td>\n      <td>18</td>\n      <td>0</td>\n      <td>0</td>\n      <td>avg</td>\n      <td>2.308333</td>\n    </tr>\n    <tr>\n      <th>17026575</th>\n      <td>75</td>\n      <td>179</td>\n      <td>reverse spiral</td>\n      <td>4.0</td>\n      <td>-4.0</td>\n      <td>4.712389</td>\n      <td>18</td>\n      <td>0</td>\n      <td>0</td>\n      <td>avg</td>\n      <td>0.958333</td>\n    </tr>\n  </tbody>\n</table>\n</div>"
     },
     "execution_count": 8,
     "metadata": {},
     "output_type": "execute_result"
    }
   ],
   "source": [
    "one_voxel_betas_df.query('freq_lvl == 0')"
   ],
   "metadata": {
    "collapsed": false,
    "pycharm": {
     "name": "#%%\n"
    }
   }
  },
  {
   "cell_type": "code",
   "execution_count": 75,
   "outputs": [],
   "source": [
    "names_list = betas_df.names.unique().tolist()[:4]\n",
    "F, p, identifiers = sfm.sf_multiple_one_way_anova(betas_df.query('names in @names_list'), to_test='freq_lvl', values='betas', on='voxel', identifier_list=['names','phase'], test_unique=None)\n",
    "\n"
   ],
   "metadata": {
    "collapsed": false,
    "pycharm": {
     "name": "#%%\n"
    }
   }
  },
  {
   "cell_type": "code",
   "execution_count": 100,
   "outputs": [
    {
     "name": "stdout",
     "output_type": "stream",
     "text": [
      "/Volumes/server/Projects/sfp_nsd/derivatives/sfp_anova/brain_maps/nsdsyn\n"
     ]
    }
   ],
   "source": [
    "template_path=os.path.join(nsd_dir, 'nsddata', 'freesurfer',f'{subj}', 'label', f'{hemi}.prfeccentricity.mgz')\n",
    "mgz_path=os.path.join(output_dir, 'sfp_anova',  'brain_maps', 'nsdsyn', f'{hemi}.sub-{subj}_stat-anova_value-F.mgz')\n",
    "os.makedirs(os.path.dirname(mgz_path), exist_ok=True)\n",
    "print(os.path.dirname(mgz_path))"
   ],
   "metadata": {
    "collapsed": false,
    "pycharm": {
     "name": "#%%\n"
    }
   }
  },
  {
   "cell_type": "code",
   "execution_count": 101,
   "outputs": [],
   "source": [
    "test = map_values_as_mgz(template_path, F, save_path=mgz_path)"
   ],
   "metadata": {
    "collapsed": false,
    "pycharm": {
     "name": "#%%\n"
    }
   }
  },
  {
   "cell_type": "code",
   "execution_count": 104,
   "outputs": [
    {
     "name": "stdout",
     "output_type": "stream",
     "text": [
      "return code: 1\n",
      "Unable to load color scale from  \"None\"\n",
      "Unable to load color scale from  \"None\"\n",
      "\n"
     ]
    },
    {
     "data": {
      "text/plain": "CompletedProcess(args='freeview -f /Volumes/server/Projects/sfp_nsd/natural-scenes-dataset/nsddata/freesurfer/subj01/surf/lh.inflated:curvature_method=binary::overlay=/Volumes/server/Projects/sfp_nsd/derivatives/sfp_anova/brain_maps/nsdsyn/lh.sub-subj01_stat-anova_value-F.mgz:overlay_color=heat:overlay_opacity=1:overlay_custom=None:', returncode=1, stdout=b'Unable to load color scale from  \"None\"\\nUnable to load color scale from  \"None\"\\n', stderr=b'QIODevice::read (QFile, \"None\"): device not open\\nQIODevice::read (QFile, \"None\"): device not open\\n2023-10-26 17:32:06.428 freeview[64357:2928579] TSM AdjustCapsLockLEDForKeyTransitionHandling - _ISSetPhysicalKeyboardCapsLockLED Inhibit\\n')"
     },
     "execution_count": 104,
     "metadata": {},
     "output_type": "execute_result"
    }
   ],
   "source": [
    "fs_subj_dir='/Volumes/server/Projects/sfp_nsd/natural-scenes-dataset/nsddata/freesurfer'\n",
    "sn='subj01'\n",
    "surf='inflated'\n",
    "overlay=f'sub-{subj}_stat-anova_value-F.mgz'\n",
    "overlay_dir=os.path.dirname(mgz_path)\n",
    "\n",
    "lh_obj = pyview.PyFreeview(fs_subj_dir,\n",
    "                           sn, hemi,\n",
    "                           surf=surf,\n",
    "                           overlay=overlay,\n",
    "                           overlay_dir=overlay_dir)\n",
    "lh_obj.run(**{'overlay_custom': None})"
   ],
   "metadata": {
    "collapsed": false,
    "pycharm": {
     "name": "#%%\n"
    }
   }
  }
 ],
 "metadata": {
  "kernelspec": {
   "display_name": "Python 3",
   "language": "python",
   "name": "python3"
  },
  "language_info": {
   "codemirror_mode": {
    "name": "ipython",
    "version": 2
   },
   "file_extension": ".py",
   "mimetype": "text/x-python",
   "name": "python",
   "nbconvert_exporter": "python",
   "pygments_lexer": "ipython2",
   "version": "2.7.6"
  }
 },
 "nbformat": 4,
 "nbformat_minor": 0
}