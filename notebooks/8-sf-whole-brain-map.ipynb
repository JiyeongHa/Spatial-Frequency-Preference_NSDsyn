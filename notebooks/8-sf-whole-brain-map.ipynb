{
 "cells": [
  {
   "cell_type": "code",
   "execution_count": 109,
   "metadata": {
    "collapsed": true
   },
   "outputs": [
    {
     "name": "stdout",
     "output_type": "stream",
     "text": [
      "The autoreload extension is already loaded. To reload it, use:\n",
      "  %reload_ext autoreload\n"
     ]
    }
   ],
   "source": [
    "import sys\n",
    "sys.path.append('..')\n",
    "sys.path.append('/Users/jh7685/Documents/Projects/pysurfer/pysurfer')\n",
    "from pysurfer.mgz_helper import map_values_as_mgz\n",
    "#import freeview_helper as pyview\n",
    "import os\n",
    "import pandas as pd\n",
    "import numpy as np\n",
    "import matplotlib.pyplot as plt\n",
    "import seaborn as sns\n",
    "from sfp_nsdsyn import *\n",
    "from scipy.stats import f_oneway\n",
    "import warnings\n",
    "from itertools import product\n",
    "warnings.filterwarnings(\"ignore\", category=UserWarning)\n",
    "pd.options.mode.chained_assignment = None\n",
    "%load_ext autoreload\n",
    "%autoreload 2"
   ]
  },
  {
   "cell_type": "code",
   "execution_count": 96,
   "outputs": [],
   "source": [
    "nsd_dir ='/Volumes/server/Projects/sfp_nsd/natural-scenes-dataset'\n",
    "output_dir='/Volumes/server/Projects/sfp_nsd/derivatives'\n",
    "#freesurfer_dir='/Volumes/server/Projects/sfp_nsd/natural-scenes-dataset/nsddata/freesurfer'"
   ],
   "metadata": {
    "collapsed": false,
    "pycharm": {
     "name": "#%%\n"
    }
   }
  },
  {
   "cell_type": "markdown",
   "source": [
    "# Load in Beta values"
   ],
   "metadata": {
    "collapsed": false,
    "pycharm": {
     "name": "#%% md\n"
    }
   }
  },
  {
   "cell_type": "code",
   "execution_count": 97,
   "outputs": [],
   "source": [
    "subj='subj01'\n",
    "hemi='lh'\n",
    "betas = os.path.join(nsd_dir, 'nsddata_betas', 'ppdata', f'{subj}', 'nativesurface', 'nsdsyntheticbetas_fithrf_GLMdenoise_RR', f'{hemi}.betas_nsdsynthetic.hdf5')\n",
    "design_mat=os.path.join(nsd_dir, 'nsddata', 'experiments', 'nsdsynthetic', 'nsdsynthetic_expdesign.mat')\n",
    "task_keys=['fixation_task','memory_task']\n",
    "stim_info=os.path.join(nsd_dir, 'nsdsyn_stim_description.csv')\n",
    "task_average=True\n",
    "\n",
    "roi_vals = [prep.convert_between_roi_num_and_vareas(\"V1\"), [1,2,3,4,5]]\n",
    "roi_path = [os.path.join(nsd_dir, 'nsddata', 'freesurfer', f'{subj}', 'label', f'{hemi}.prf-{roi_file}.mgz') for roi_file in [\"visualrois\", \"eccrois\"]]\n",
    "mask, roi_dict = prep.load_common_mask_and_rois(roi_path, roi_vals)"
   ],
   "metadata": {
    "collapsed": false,
    "pycharm": {
     "name": "#%%\n"
    }
   }
  },
  {
   "cell_type": "code",
   "execution_count": 4,
   "outputs": [],
   "source": [
    "betas_df = sfm.get_whole_brain_betas(betas_path=betas, design_mat_path=design_mat,\n",
    "                          stim_info_path=stim_info,\n",
    "                          task_keys=task_keys, task_average=task_average,\n",
    "                          x_axis='voxel', y_axis='stim_idx', long_format=True)\n"
   ],
   "metadata": {
    "collapsed": false,
    "pycharm": {
     "name": "#%%\n"
    }
   }
  },
  {
   "cell_type": "code",
   "execution_count": 5,
   "outputs": [
    {
     "data": {
      "text/plain": "(4.6204450381415825, 0.0007461423675273558)"
     },
     "execution_count": 5,
     "metadata": {},
     "output_type": "execute_result"
    }
   ],
   "source": [
    "n = 0\n",
    "one_voxel_betas_df = betas_df.query('voxel == @n')\n",
    "sfm.sf_one_way_anova(one_voxel_betas_df, 'freq_lvl', test_unique=[0,1,2,3,4,5])"
   ],
   "metadata": {
    "collapsed": false,
    "pycharm": {
     "name": "#%%\n"
    }
   }
  },
  {
   "cell_type": "code",
   "execution_count": 75,
   "outputs": [],
   "source": [
    "names_list = betas_df.names.unique().tolist()[:4]\n",
    "F, p, identifiers = sfm.sf_multiple_one_way_anova(betas_df.query('names in @names_list'), to_test='freq_lvl', values='betas', on='voxel', identifier_list=['names','phase'], test_unique=None)\n",
    "\n"
   ],
   "metadata": {
    "collapsed": false,
    "pycharm": {
     "name": "#%%\n"
    }
   }
  },
  {
   "cell_type": "code",
   "execution_count": 100,
   "outputs": [
    {
     "name": "stdout",
     "output_type": "stream",
     "text": [
      "/Volumes/server/Projects/sfp_nsd/derivatives/sfp_anova/brain_maps/nsdsyn\n"
     ]
    }
   ],
   "source": [
    "template_path=os.path.join(nsd_dir, 'nsddata', 'freesurfer',f'{subj}', 'label', f'{hemi}.prfeccentricity.mgz')\n",
    "mgz_path=os.path.join(output_dir, 'sfp_anova',  'brain_maps', 'nsdsyn', f'{hemi}.sub-{subj}_stat-anova_value-F.mgz')\n",
    "os.makedirs(os.path.dirname(mgz_path), exist_ok=True)\n",
    "print(os.path.dirname(mgz_path))"
   ],
   "metadata": {
    "collapsed": false,
    "pycharm": {
     "name": "#%%\n"
    }
   }
  },
  {
   "cell_type": "code",
   "execution_count": 101,
   "outputs": [],
   "source": [
    "test = map_values_as_mgz(template_path, F, save_path=mgz_path)"
   ],
   "metadata": {
    "collapsed": false,
    "pycharm": {
     "name": "#%%\n"
    }
   }
  },
  {
   "cell_type": "code",
   "execution_count": 104,
   "outputs": [
    {
     "name": "stdout",
     "output_type": "stream",
     "text": [
      "return code: 1\n",
      "Unable to load color scale from  \"None\"\n",
      "Unable to load color scale from  \"None\"\n",
      "\n"
     ]
    },
    {
     "data": {
      "text/plain": "CompletedProcess(args='freeview -f /Volumes/server/Projects/sfp_nsd/natural-scenes-dataset/nsddata/freesurfer/subj01/surf/lh.inflated:curvature_method=binary::overlay=/Volumes/server/Projects/sfp_nsd/derivatives/sfp_anova/brain_maps/nsdsyn/lh.sub-subj01_stat-anova_value-F.mgz:overlay_color=heat:overlay_opacity=1:overlay_custom=None:', returncode=1, stdout=b'Unable to load color scale from  \"None\"\\nUnable to load color scale from  \"None\"\\n', stderr=b'QIODevice::read (QFile, \"None\"): device not open\\nQIODevice::read (QFile, \"None\"): device not open\\n2023-10-26 17:32:06.428 freeview[64357:2928579] TSM AdjustCapsLockLEDForKeyTransitionHandling - _ISSetPhysicalKeyboardCapsLockLED Inhibit\\n')"
     },
     "execution_count": 104,
     "metadata": {},
     "output_type": "execute_result"
    }
   ],
   "source": [
    "fs_subj_dir='/Volumes/server/Projects/sfp_nsd/natural-scenes-dataset/nsddata/freesurfer'\n",
    "sn='subj01'\n",
    "surf='inflated'\n",
    "overlay=f'sub-{subj}_stat-anova_value-F.mgz'\n",
    "overlay_dir=os.path.dirname(mgz_path)\n",
    "\n",
    "lh_obj = pyview.PyFreeview(fs_subj_dir,\n",
    "                           sn, hemi,\n",
    "                           surf=surf,\n",
    "                           overlay=overlay,\n",
    "                           overlay_dir=overlay_dir)\n",
    "lh_obj.run(**{'overlay_custom': None})"
   ],
   "metadata": {
    "collapsed": false,
    "pycharm": {
     "name": "#%%\n"
    }
   }
  }
 ],
 "metadata": {
  "kernelspec": {
   "display_name": "Python 3",
   "language": "python",
   "name": "python3"
  },
  "language_info": {
   "codemirror_mode": {
    "name": "ipython",
    "version": 2
   },
   "file_extension": ".py",
   "mimetype": "text/x-python",
   "name": "python",
   "nbconvert_exporter": "python",
   "pygments_lexer": "ipython2",
   "version": "2.7.6"
  }
 },
 "nbformat": 4,
 "nbformat_minor": 0
}