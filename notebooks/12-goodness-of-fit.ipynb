{
 "cells": [
  {
   "cell_type": "code",
   "execution_count": 149,
   "metadata": {
    "collapsed": true
   },
   "outputs": [
    {
     "name": "stdout",
     "output_type": "stream",
     "text": [
      "The autoreload extension is already loaded. To reload it, use:\n",
      "  %reload_ext autoreload\n"
     ]
    }
   ],
   "source": [
    "import os\n",
    "import numpy as np\n",
    "import pandas as pd\n",
    "import seaborn as sns\n",
    "import matplotlib as mpl\n",
    "import matplotlib.pyplot as plt\n",
    "from itertools import product\n",
    "from sfp_nsdsyn import utils, sfm, tuning\n",
    "from pysurfer.mgz_helper import get_vertices_in_labels, read_label, get_existing_labels_only\n",
    "\n",
    "%load_ext autoreload\n",
    "%autoreload 2"
   ]
  },
  {
   "cell_type": "code",
   "execution_count": 2,
   "outputs": [],
   "source": [],
   "metadata": {
    "collapsed": false,
    "pycharm": {
     "name": "#%%\n"
    }
   }
  },
  {
   "cell_type": "code",
   "execution_count": 3,
   "outputs": [],
   "source": [
    "nsd_dir ='/Volumes/server/Projects/sfp_nsd/natural-scenes-dataset'\n",
    "output_dir='/Volumes/server/Projects/sfp_nsd/derivatives'\n",
    "fs_subj_dir='/Volumes/server/Projects/sfp_nsd/natural-scenes-dataset/nsddata/freesurfer'\n",
    "overlay_dir='/Volumes/server/Projects/sfp_nsd/derivatives/sfp_maps/mgzs/nsdsyn'\n",
    "fig_dir='/Volumes/server/Projects/sfp_nsd/derivatives/figures/brain_maps/nsdsyn'\n",
    "sn_list = [f'subj{sn:02d}' for sn in np.arange(1,9)]"
   ],
   "metadata": {
    "collapsed": false,
    "pycharm": {
     "name": "#%%\n"
    }
   }
  },
  {
   "cell_type": "code",
   "execution_count": 4,
   "outputs": [],
   "source": [
    "# Additional matplotlib preferences:\n",
    "font_data = {'family':'sans-serif',\n",
    "             'sans-serif':['HelveticaNeue', 'Helvetica', 'Arial'],\n",
    "             'size': 10}\n",
    "mpl.rc('font',**font_data)\n",
    "# we want relatively high-res images, especially when saving to disk.\n",
    "#mpl.rcParams['figure.dpi'] = 72*2\n",
    "#mpl.rcParams['savefig.dpi'] = 72*4"
   ],
   "metadata": {
    "collapsed": false,
    "pycharm": {
     "name": "#%%\n"
    }
   }
  },
  {
   "cell_type": "code",
   "execution_count": 77,
   "outputs": [],
   "source": [
    "labels = ['V1v', 'V1d', 'V2v','V2d', 'V3v','V3d', 'hV4', 'pFFA','aFFA','PPA']\n",
    "sn = 'subj01'\n",
    "hemi = 'lh'\n",
    "label_path = [os.path.join(fs_subj_dir, sn, 'label', f'{hemi}.V1v.label')]"
   ],
   "metadata": {
    "collapsed": false,
    "pycharm": {
     "name": "#%%\n"
    }
   }
  },
  {
   "cell_type": "code",
   "execution_count": 89,
   "outputs": [],
   "source": [
    "lh_rois, lh_voxels = {}, {}\n",
    "rh_rois, rh_voxels = {}, {}\n",
    "my_val = 'r2'\n",
    "ref_frame = 'absolute'\n",
    "\n",
    "for sn in sn_list:\n",
    "    label_dir = os.path.join(fs_subj_dir, sn, 'label')\n",
    "    lh_labels, lh_label_paths = get_existing_labels_only(labels, label_dir, 'lh', return_paths=True)\n",
    "    rh_labels, rh_label_paths = get_existing_labels_only(labels, label_dir, 'rh', return_paths=True)\n",
    "\n",
    "    mgz_path = os.path.join(overlay_dir, f'lh.sub-{sn}_value-{my_val}_frame-{ref_frame}.mgz')\n",
    "    lh_rois[sn], lh_voxels[sn] = get_vertices_in_labels(mgz_path, lh_label_paths, lh_labels, load_mgz=True, return_label=True)\n",
    "\n",
    "    mgz_path = os.path.join(overlay_dir, f'rh.sub-{sn}_value-{my_val}_frame-{ref_frame}.mgz')\n",
    "    rh_rois[sn], rh_voxels[sn] = get_vertices_in_labels(mgz_path, rh_label_paths, rh_labels, load_mgz=True, return_label=True)"
   ],
   "metadata": {
    "collapsed": false,
    "pycharm": {
     "name": "#%%\n"
    }
   }
  },
  {
   "cell_type": "code",
   "execution_count": 122,
   "outputs": [],
   "source": [
    "def breakdown_dfs(value_dict, voxel_dict, sn_list, hemi='lh'):\n",
    "    hemi_df = pd.DataFrame({})\n",
    "    for sn in sn_list:\n",
    "        for roi in value_dict[sn].keys():\n",
    "            tmp = pd.DataFrame({})\n",
    "            tmp['value'] = value_dict[sn][roi]\n",
    "            tmp['voxel'] = voxel_dict[sn][roi]\n",
    "            tmp['ROI'] = roi\n",
    "            tmp['hemi'] = hemi\n",
    "            tmp['sub'] = sn\n",
    "            hemi_df = pd.concat((hemi_df, tmp))\n",
    "    return hemi_df"
   ],
   "metadata": {
    "collapsed": false,
    "pycharm": {
     "name": "#%%\n"
    }
   }
  },
  {
   "cell_type": "code",
   "execution_count": 123,
   "outputs": [],
   "source": [
    "lh_df = breakdown_dfs(lh_rois, lh_voxels, sn_list)\n",
    "rh_df = breakdown_dfs(rh_rois, rh_voxels, sn_list, hemi='rh')\n",
    "all_df = pd.concat((lh_df, rh_df))"
   ],
   "metadata": {
    "collapsed": false,
    "pycharm": {
     "name": "#%%\n"
    }
   }
  },
  {
   "cell_type": "code",
   "execution_count": 11,
   "outputs": [],
   "source": [
    "# Define a colormap from Matplotlib\n",
    "cmap = plt.cm.get_cmap('Blues_r')\n",
    "\n",
    "# Define the number of colors based on the number of ROIs\n",
    "ret_colors = [cmap(i / 10) for i in range(10)]\n",
    "colors = []\n",
    "colors += [ret_colors[0], ret_colors[0], ret_colors[2], ret_colors[2], ret_colors[4], ret_colors[4], ret_colors[6]]\n",
    "# Define a colormap from Matplotlib\n",
    "colors += ['magenta', 'magenta']\n",
    "colors += ['gray']\n",
    "palette = dict(zip(labels, colors))"
   ],
   "metadata": {
    "collapsed": false,
    "pycharm": {
     "name": "#%%\n"
    }
   }
  },
  {
   "cell_type": "code",
   "execution_count": 26,
   "outputs": [
    {
     "name": "stderr",
     "output_type": "stream",
     "text": [
      "/Users/jh7685/opt/miniconda3/envs/sfp/lib/python3.7/site-packages/ipykernel_launcher.py:1: RuntimeWarning: invalid value encountered in log10\n",
      "  \"\"\"Entry point for launching an IPython kernel.\n"
     ]
    },
    {
     "data": {
      "text/plain": "nan"
     },
     "execution_count": 26,
     "metadata": {},
     "output_type": "execute_result"
    }
   ],
   "source": [
    "np.log10(all_df[\"Goodness of fit (R2)\"].min())"
   ],
   "metadata": {
    "collapsed": false,
    "pycharm": {
     "name": "#%%\n"
    }
   }
  },
  {
   "cell_type": "code",
   "execution_count": 73,
   "outputs": [
    {
     "data": {
      "text/plain": "<Figure size 720x432 with 1 Axes>",
      "image/png": "[encoded data removed]"
     },
     "metadata": {},
     "output_type": "display_data"
    }
   ],
   "source": [
    "# Set the size of the figure\n",
    "sns.set_theme()\n",
    "save_path=os.path.join(fig_dir, 'histogram_r2_all_rois.png')\n",
    "plt.figure(figsize=(10, 6))  # Adjust the size as needed\n",
    "custom_palette = ['grey']*2 + ['red']*9\n",
    "bin_edges = [-1200, -1000, -800, -700, -600, -500, -400, -300, -200, -100, -10, 0, 1]\n",
    "ax = sns.histplot(x='Goodness of fit (R2)', data=all_df, bins=bin_edges, palette=custom_palette)\n",
    "heights = [p.get_height() for p in ax.patches]\n",
    "highest = sorted(heights)[-1]\n",
    "for p in ax.patches:\n",
    "    if  p.get_height() == highest:\n",
    "        p.set_color('crimson')\n",
    "ax.set_ylabel('Goodness of fit (R2) from all ROIs')\n",
    "ax.set_yscale('log')\n",
    "ax.set_title('bins = [-1200, -1000, -800, -700, -600, -500, -400, -300, -200, -100, -10, 0, 1]')\n",
    "utils.save_fig(save_path)\n",
    "plt.tight_layout()"
   ],
   "metadata": {
    "collapsed": false,
    "pycharm": {
     "name": "#%%\n"
    }
   }
  },
  {
   "cell_type": "code",
   "execution_count": 83,
   "outputs": [
    {
     "data": {
      "text/plain": "<Figure size 720x432 with 1 Axes>",
      "image/png": "[encoded data removed]"
     },
     "metadata": {},
     "output_type": "display_data"
    }
   ],
   "source": [
    "# Set the size of the figure\n",
    "sns.set_theme('notebook', font_scale=1.5)\n",
    "save_path=os.path.join(fig_dir, 'boxplot_r2_all_rois_within_0-1.png')\n",
    "plt.figure(figsize=(10, 6))  # Adjust the size as needed\n",
    "ax = sns.boxplot(x='ROI', y='Goodness of fit (R2)', data=all_df, palette=palette, order=labels)\n",
    "ax.set_ylabel('Goodness of fit (R2)')\n",
    "ax.set_ylim(-0.2, 1.05)\n",
    "ax.set_xlabel('ROIs')\n",
    "plt.tight_layout()\n",
    "utils.save_fig(save_path)"
   ],
   "metadata": {
    "collapsed": false,
    "pycharm": {
     "name": "#%%\n"
    }
   }
  },
  {
   "cell_type": "markdown",
   "source": [
    "# Tuning comparison"
   ],
   "metadata": {
    "collapsed": false,
    "pycharm": {
     "name": "#%% md\n"
    }
   }
  },
  {
   "cell_type": "markdown",
   "source": [
    "## Choose voxels based on what R2 value they have"
   ],
   "metadata": {
    "collapsed": false,
    "pycharm": {
     "name": "#%% md\n"
    }
   }
  },
  {
   "cell_type": "code",
   "execution_count": 195,
   "outputs": [],
   "source": [
    "# Define the bins\n",
    "bins = [-1200,-100,-1,0,0.5,0.7,0.9,1]\n",
    "\n",
    "# Define the category labels\n",
    "labels = ['severely negative', 'negative','-1 to 0', '0-0.5', '0.5-0.7', '0.7-0.9', '<0.9']\n",
    "\n",
    "# Applying the bins to the data\n",
    "all_df['category'] = pd.cut(all_df['value'], bins=bins, labels=labels, right=False)"
   ],
   "metadata": {
    "collapsed": false,
    "pycharm": {
     "name": "#%%\n"
    }
   }
  },
  {
   "cell_type": "code",
   "execution_count": 197,
   "outputs": [],
   "source": [
    "sampled_df = all_df.query('sub == \"subj01\" & hemi == @hemi')\n",
    "sampled_df = sampled_df.groupby('category').apply(lambda x: x.sample(n=3, replace=False)).reset_index(drop=True)"
   ],
   "metadata": {
    "collapsed": false,
    "pycharm": {
     "name": "#%%\n"
    }
   }
  },
  {
   "cell_type": "code",
   "execution_count": 198,
   "outputs": [],
   "source": [
    "voxel_list = sampled_df.sort_values('value').voxel.unique().tolist()"
   ],
   "metadata": {
    "collapsed": false,
    "pycharm": {
     "name": "#%%\n"
    }
   }
  },
  {
   "cell_type": "markdown",
   "source": [
    "## Load in betas dataframe and merge it with the sampled df"
   ],
   "metadata": {
    "collapsed": false,
    "pycharm": {
     "name": "#%% md\n"
    }
   }
  },
  {
   "cell_type": "code",
   "execution_count": 169,
   "outputs": [],
   "source": [
    "subj='subj01'\n",
    "hemi='lh'\n",
    "betas = os.path.join(nsd_dir, 'nsddata_betas', 'ppdata', f'{subj}', 'nativesurface', 'nsdsyntheticbetas_fithrf_GLMdenoise_RR', f'{hemi}.betas_nsdsynthetic.hdf5')\n",
    "design_mat=os.path.join(nsd_dir, 'nsddata', 'experiments', 'nsdsynthetic', 'nsdsynthetic_expdesign.mat')\n",
    "task_keys=['fixation_task','memory_task']\n",
    "stim_info=os.path.join(nsd_dir, 'nsdsyn_stim_description.csv')\n",
    "task_average=True\n",
    "eccentricity_path= os.path.join(nsd_dir, 'nsddata', 'freesurfer', f'{subj}', 'label',  f'{hemi}.prfeccentricity.mgz')"
   ],
   "metadata": {
    "collapsed": false,
    "pycharm": {
     "name": "#%%\n"
    }
   }
  },
  {
   "cell_type": "code",
   "execution_count": 170,
   "outputs": [],
   "source": [
    "def load_in_sample_voxels(voxel_list, betas, design_mat, stim_info, task_keys, task_average, eccentricity_path, ref_frame):\n",
    "\n",
    "    betas_df = sfm.get_whole_brain_betas(betas_path=betas, design_mat_path=design_mat,\n",
    "                          stim_info_path=stim_info,\n",
    "                          task_keys=task_keys, task_average=task_average, eccentricity_path=eccentricity_path,\n",
    "                          x_axis='voxel', y_axis='stim_idx', long_format=True, reference_frame=ref_frame)\n",
    "    betas_df = betas_df.query('voxel in @voxel_list')\n",
    "    betas_df = betas_df.query('~names.str.contains(\"intermediate\").values')\n",
    "    betas_df = betas_df.groupby(['freq_lvl','voxel']).mean().reset_index()\n",
    "    return betas_df\n"
   ],
   "metadata": {
    "collapsed": false,
    "pycharm": {
     "name": "#%%\n"
    }
   }
  },
  {
   "cell_type": "code",
   "execution_count": 199,
   "outputs": [],
   "source": [
    "sampled_betas = load_in_sample_voxels(voxel_list, betas, design_mat, stim_info, task_keys, task_average, eccentricity_path, ref_frame)"
   ],
   "metadata": {
    "collapsed": false,
    "pycharm": {
     "name": "#%%\n"
    }
   }
  },
  {
   "cell_type": "code",
   "execution_count": 200,
   "outputs": [],
   "source": [
    "sampled_p_opt = pd.read_hdf(os.path.join(output_dir, \"sfp_maps\", \"voxel-tuning\", \"nsdsyn\", f\"hemi-{hemi}_sub-{subj}_frame-{ref_frame}.hdf\"))\n",
    "sampled_p_opt = sampled_p_opt.query('voxel in @voxel_list')"
   ],
   "metadata": {
    "collapsed": false,
    "pycharm": {
     "name": "#%%\n"
    }
   }
  },
  {
   "cell_type": "code",
   "execution_count": 201,
   "outputs": [],
   "source": [
    "sampled_betas = sampled_betas.merge(sampled_df, on='voxel')"
   ],
   "metadata": {
    "collapsed": false,
    "pycharm": {
     "name": "#%%\n"
    }
   }
  },
  {
   "cell_type": "code",
   "execution_count": null,
   "outputs": [],
   "source": [
    "fig, axes = plt.subplots(7,3, sharex=True, sharey=True, figsize=(9,16))\n",
    "# Flatten the axes array for easy iteration\n",
    "flat_axes = axes.flatten()\n",
    "sns.set_theme()\n",
    "for i, v in enumerate(voxel_list):\n",
    "    v_tmp = sampled_betas.query('voxel == @v')\n",
    "    p_opt_tmp = sampled_p_opt.query('voxel == @v')\n",
    "    r2_val = np.round(sampled_betas.query('voxel == @v')['value'].unique().item(), 2)\n",
    "    roi = sampled_betas.query('voxel == @v')['ROI'].unique().item()\n",
    "    tuning.plot_logGaussian_fit(v_tmp, 'local_sf', 'betas', p_opt_tmp, flat_axes[i], ax_title=f'voxel {v}\\nr2={r2_val} ({roi})')\n",
    "utils.save_fig(os.path.join(fig_dir, 'subj01-lh-tuning-based-on-r2.png'))"
   ],
   "metadata": {
    "collapsed": false,
    "pycharm": {
     "name": "#%%\n",
     "is_executing": true
    }
   }
  },
  {
   "cell_type": "code",
   "execution_count": 152,
   "outputs": [
    {
     "data": {
      "text/plain": "24"
     },
     "execution_count": 152,
     "metadata": {},
     "output_type": "execute_result"
    }
   ],
   "source": [
    "len(voxel_list)"
   ],
   "metadata": {
    "collapsed": false,
    "pycharm": {
     "name": "#%%\n"
    }
   }
  },
  {
   "cell_type": "code",
   "execution_count": null,
   "outputs": [],
   "source": [],
   "metadata": {
    "collapsed": false,
    "pycharm": {
     "name": "#%%\n"
    }
   }
  }
 ],
 "metadata": {
  "kernelspec": {
   "display_name": "Python 3",
   "language": "python",
   "name": "python3"
  },
  "language_info": {
   "codemirror_mode": {
    "name": "ipython",
    "version": 2
   },
   "file_extension": ".py",
   "mimetype": "text/x-python",
   "name": "python",
   "nbconvert_exporter": "python",
   "pygments_lexer": "ipython2",
   "version": "2.7.6"
  }
 },
 "nbformat": 4,
 "nbformat_minor": 0
}