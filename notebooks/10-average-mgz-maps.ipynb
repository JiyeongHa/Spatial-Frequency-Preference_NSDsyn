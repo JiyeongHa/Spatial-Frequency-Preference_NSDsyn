{
 "cells": [
  {
   "cell_type": "code",
   "execution_count": 1,
   "metadata": {
    "collapsed": true
   },
   "outputs": [],
   "source": [
    "import sys\n",
    "sys.path.append('..')\n",
    "sys.path.append('/Users/jh7685/Documents/Projects/pysurfer')\n",
    "from pysurfer.mgz_helper import map_values_as_mgz\n",
    "from pysurfer.mgz_helper import load_mgzs\n",
    "import os\n",
    "import numpy as np\n",
    "import warnings\n",
    "from itertools import product\n",
    "warnings.filterwarnings(\"ignore\", category=UserWarning)\n",
    "\n",
    "%load_ext autoreload\n",
    "%autoreload 2"
   ]
  },
  {
   "cell_type": "markdown",
   "source": [
    "# Configurations"
   ],
   "metadata": {
    "collapsed": false,
    "pycharm": {
     "name": "#%% md\n"
    }
   }
  },
  {
   "cell_type": "code",
   "execution_count": 33,
   "outputs": [],
   "source": [
    "nsd_dir ='/Volumes/server/Projects/sfp_nsd/natural-scenes-dataset'\n",
    "output_dir='/Volumes/server/Projects/sfp_nsd/derivatives'\n",
    "fs_subj_dir='/Volumes/server/Projects/sfp_nsd/natural-scenes-dataset/nsddata/freesurfer'\n",
    "overlay_dir='/Volumes/server/Projects/sfp_nsd/derivatives/sfp_maps/mgzs/nsdsyn'\n",
    "fig_dir='/Volumes/server/Projects/sfp_nsd/derivatives/figures/brain_maps/nsdsyn'\n",
    "\n",
    "sn_list = [f'subj{sn:02d}' for sn in np.arange(1,9)]"
   ],
   "metadata": {
    "collapsed": false,
    "pycharm": {
     "name": "#%%\n"
    }
   }
  },
  {
   "cell_type": "markdown",
   "source": [
    "# Make mask out of them"
   ],
   "metadata": {
    "collapsed": false,
    "pycharm": {
     "name": "#%% md\n"
    }
   }
  },
  {
   "cell_type": "code",
   "execution_count": null,
   "outputs": [],
   "source": [
    "threshold=6\n",
    "for sn, hemi in product(sn_list, ['lh', 'rh']):\n",
    "    f_path = os.path.join(overlay_dir, f'{hemi}.sub-{sn}_value-precision.mgz')\n",
    "    precision_mask = load_mgzs(f_path, fdata_only=True, squeeze=False)\n",
    "    precision_mask[precision_mask < threshold] = 0\n",
    "    precision_mask[precision_mask > threshold] = 1\n",
    "    save_path = os.path.join(overlay_dir, f'{hemi}.sub-{sn}_value-precision_masked.mgz')\n",
    "    map_values_as_mgz(template=f_path, data=precision_mask, save_path=save_path)"
   ],
   "metadata": {
    "collapsed": false,
    "pycharm": {
     "name": "#%%\n"
    }
   }
  },
  {
   "cell_type": "markdown",
   "source": [
    "# Multiply mask and sfp maps"
   ],
   "metadata": {
    "collapsed": false
   }
  },
  {
   "cell_type": "code",
   "execution_count": 32,
   "outputs": [
    {
     "ename": "NameError",
     "evalue": "name 'sn_list' is not defined",
     "output_type": "error",
     "traceback": [
      "\u001B[0;31m---------------------------------------------------------------------------\u001B[0m",
      "\u001B[0;31mNameError\u001B[0m                                 Traceback (most recent call last)",
      "\u001B[0;32m/var/folders/dc/rp0klyw131l30jr45p7_7gnnnl2r2_/T/ipykernel_47203/3054333509.py\u001B[0m in \u001B[0;36m<module>\u001B[0;34m\u001B[0m\n\u001B[1;32m      1\u001B[0m \u001B[0mthreshold\u001B[0m\u001B[0;34m=\u001B[0m\u001B[0;36m6\u001B[0m\u001B[0;34m\u001B[0m\u001B[0;34m\u001B[0m\u001B[0m\n\u001B[0;32m----> 2\u001B[0;31m \u001B[0;32mfor\u001B[0m \u001B[0msn\u001B[0m\u001B[0;34m,\u001B[0m \u001B[0mhemi\u001B[0m \u001B[0;32min\u001B[0m \u001B[0mproduct\u001B[0m\u001B[0;34m(\u001B[0m\u001B[0msn_list\u001B[0m\u001B[0;34m,\u001B[0m \u001B[0;34m[\u001B[0m\u001B[0;34m'lh'\u001B[0m\u001B[0;34m,\u001B[0m \u001B[0;34m'rh'\u001B[0m\u001B[0;34m]\u001B[0m\u001B[0;34m)\u001B[0m\u001B[0;34m:\u001B[0m\u001B[0;34m\u001B[0m\u001B[0;34m\u001B[0m\u001B[0m\n\u001B[0m\u001B[1;32m      3\u001B[0m     \u001B[0;32mfor\u001B[0m \u001B[0mmy_val\u001B[0m \u001B[0;32min\u001B[0m \u001B[0;34m[\u001B[0m\u001B[0;34m'mode'\u001B[0m\u001B[0;34m,\u001B[0m \u001B[0;34m'amp'\u001B[0m\u001B[0;34m,\u001B[0m \u001B[0;34m'sigma'\u001B[0m\u001B[0;34m]\u001B[0m\u001B[0;34m:\u001B[0m\u001B[0;34m\u001B[0m\u001B[0;34m\u001B[0m\u001B[0m\n\u001B[1;32m      4\u001B[0m         \u001B[0mf_path\u001B[0m \u001B[0;34m=\u001B[0m \u001B[0mos\u001B[0m\u001B[0;34m.\u001B[0m\u001B[0mpath\u001B[0m\u001B[0;34m.\u001B[0m\u001B[0mjoin\u001B[0m\u001B[0;34m(\u001B[0m\u001B[0moverlay_dir\u001B[0m\u001B[0;34m,\u001B[0m \u001B[0;34mf'{hemi}.sub-{sn}_value-precision.mgz'\u001B[0m\u001B[0;34m)\u001B[0m\u001B[0;34m\u001B[0m\u001B[0;34m\u001B[0m\u001B[0m\n\u001B[1;32m      5\u001B[0m         \u001B[0mprecision_mask\u001B[0m \u001B[0;34m=\u001B[0m \u001B[0mload_mgzs\u001B[0m\u001B[0;34m(\u001B[0m\u001B[0mf_path\u001B[0m\u001B[0;34m,\u001B[0m \u001B[0mfdata_only\u001B[0m\u001B[0;34m=\u001B[0m\u001B[0;32mTrue\u001B[0m\u001B[0;34m,\u001B[0m \u001B[0msqueeze\u001B[0m\u001B[0;34m=\u001B[0m\u001B[0;32mFalse\u001B[0m\u001B[0;34m)\u001B[0m\u001B[0;34m\u001B[0m\u001B[0;34m\u001B[0m\u001B[0m\n",
      "\u001B[0;31mNameError\u001B[0m: name 'sn_list' is not defined"
     ]
    }
   ],
   "source": [
    "threshold=6\n",
    "for sn, hemi in product(sn_list, ['lh', 'rh']):\n",
    "    for my_val in ['mode', 'amp', 'sigma']:\n",
    "        f_path = os.path.join(overlay_dir, f'{hemi}.sub-{sn}_value-precision.mgz')\n",
    "        precision_mask = load_mgzs(f_path, fdata_only=True, squeeze=False)\n",
    "        mode_map = load_mgzs(os.path.join(overlay_dir, f'{hemi}.sub-{sn}_value-{my_val}.mgz'), fdata_only=True, squeeze=False)\n",
    "        precision_mask = np.greater(precision_mask, threshold)\n",
    "        mode_map[precision_mask == False] = np.nan\n",
    "        save_path = os.path.join(overlay_dir, f'{hemi}.sub-{sn}_value-{my_val}_masked.mgz')\n",
    "        map_values_as_mgz(template=f_path, data=mode_map, save_path=save_path)\n"
   ],
   "metadata": {
    "collapsed": false,
    "pycharm": {
     "name": "#%%\n"
    }
   }
  },
  {
   "cell_type": "markdown",
   "source": [
    "# Load spatial frequency preference (peak) maps for all subjects\n",
    "The transformation to fsaverage space should be done in the .sh script"
   ],
   "metadata": {
    "collapsed": false,
    "pycharm": {
     "name": "#%% md\n"
    }
   }
  },
  {
   "cell_type": "code",
   "execution_count": 2,
   "outputs": [],
   "source": [
    "subj_list = [f'subj{i:02d}' for i in range(1, 9)]\n",
    "val_list = ['mode', 'amp', 'sigma']\n",
    "\n",
    "nsd_dir ='/Volumes/server/Projects/sfp_nsd/natural-scenes-dataset'\n",
    "output_dir='/Volumes/server/Projects/sfp_nsd/derivatives'\n",
    "fs_subj_dir='/Volumes/server/Projects/sfp_nsd/natural-scenes-dataset/nsddata/freesurfer'\n",
    "overlay_dir='/Volumes/server/Projects/sfp_nsd/derivatives/sfp_maps/mgzs/nsdsyn'\n",
    "fig_dir='/Volumes/server/Projects/sfp_nsd/derivatives/figures/brain_maps/nsdsyn'"
   ],
   "metadata": {
    "collapsed": false,
    "pycharm": {
     "name": "#%%\n"
    }
   }
  },
  {
   "cell_type": "markdown",
   "source": [
    "# Average them & save the averaged sfp map"
   ],
   "metadata": {
    "collapsed": false,
    "pycharm": {
     "name": "#%% md\n"
    }
   }
  },
  {
   "cell_type": "code",
   "execution_count": 23,
   "outputs": [
    {
     "name": "stderr",
     "output_type": "stream",
     "text": [
      "/Users/jh7685/opt/miniconda3/envs/sfp/lib/python3.7/site-packages/ipykernel_launcher.py:10: RuntimeWarning: Mean of empty slice\n",
      "  # Remove the CWD from sys.path while we load stuff.\n"
     ]
    }
   ],
   "source": [
    "all_mgzs = {}\n",
    "for hemi, my_val in product(['lh', 'rh'], val_list[:1]):\n",
    "    tmp_mgzs = []\n",
    "    for subj in subj_list:\n",
    "        f_path = os.path.join(overlay_dir, f'{hemi}.sub-{subj}_value-{my_val}_space-fsaverage_masked.mgz')\n",
    "        tmp_mgz = load_mgzs(f_path, fdata_only=True, squeeze=True)\n",
    "        tmp_mgzs.append(tmp_mgz)\n",
    "    k = f'{hemi}-{my_val}'\n",
    "    tmp_mgzs = np.asarray(tmp_mgzs)\n",
    "    all_mgzs[k] = np.nanmean(tmp_mgzs, axis=0)"
   ],
   "metadata": {
    "collapsed": false,
    "pycharm": {
     "name": "#%%\n"
    }
   }
  },
  {
   "cell_type": "code",
   "execution_count": 31,
   "outputs": [],
   "source": [
    "for hemi, my_val in product(['lh', 'rh'], val_list[:0]):\n",
    "    k = f'{hemi}-{my_val}'\n",
    "    f_path = os.path.join(overlay_dir, f'{hemi}.sub-subj01_value-{my_val}_space-fsaverage_masked.mgz')\n",
    "    save_path = os.path.join(overlay_dir, f'{hemi}.sub-fsaverage_value-{my_val}_space-fsaverage_masked.mgz')\n",
    "    map_values_as_mgz(f_path, all_mgzs[k], save_path)"
   ],
   "metadata": {
    "collapsed": false,
    "pycharm": {
     "name": "#%%\n"
    }
   }
  }
 ],
 "metadata": {
  "kernelspec": {
   "display_name": "Python 3",
   "language": "python",
   "name": "python3"
  },
  "language_info": {
   "codemirror_mode": {
    "name": "ipython",
    "version": 2
   },
   "file_extension": ".py",
   "mimetype": "text/x-python",
   "name": "python",
   "nbconvert_exporter": "python",
   "pygments_lexer": "ipython2",
   "version": "2.7.6"
  }
 },
 "nbformat": 4,
 "nbformat_minor": 0
}