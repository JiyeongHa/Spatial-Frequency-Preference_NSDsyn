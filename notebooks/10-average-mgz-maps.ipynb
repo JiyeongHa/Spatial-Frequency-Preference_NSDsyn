{
 "cells": [
  {
   "cell_type": "code",
   "execution_count": 2,
   "metadata": {
    "collapsed": true
   },
   "outputs": [
    {
     "name": "stdout",
     "output_type": "stream",
     "text": [
      "The autoreload extension is already loaded. To reload it, use:\n",
      "  %reload_ext autoreload\n"
     ]
    }
   ],
   "source": [
    "import sys\n",
    "sys.path.append('..')\n",
    "sys.path.append('/Users/jh7685/Documents/Projects/pysurfer')\n",
    "from pysurfer.mgz_helper import map_values_as_mgz\n",
    "from pysurfer.mgz_helper import load_mgzs\n",
    "import os\n",
    "import pandas as pd\n",
    "import numpy as np\n",
    "from sfp_nsdsyn import *\n",
    "import warnings\n",
    "from itertools import product\n",
    "warnings.filterwarnings(\"ignore\", category=UserWarning)\n",
    "\n",
    "%load_ext autoreload\n",
    "%autoreload 2"
   ]
  },
  {
   "cell_type": "markdown",
   "source": [
    "# Load spatial frequency preference (peak) maps for all subjects and average them"
   ],
   "metadata": {
    "collapsed": false,
    "pycharm": {
     "name": "#%% md\n"
    }
   }
  },
  {
   "cell_type": "code",
   "execution_count": 18,
   "outputs": [],
   "source": [
    "subj_list = [f'subj{i:02d}' for i in range(1, 9)]\n",
    "val_list = ['mode', 'amp', 'sigma']\n",
    "\n",
    "nsd_dir ='/Volumes/server/Projects/sfp_nsd/natural-scenes-dataset'\n",
    "output_dir='/Volumes/server/Projects/sfp_nsd/derivatives'\n",
    "fs_subj_dir='/Volumes/server/Projects/sfp_nsd/natural-scenes-dataset/nsddata/freesurfer'\n",
    "overlay_dir=os.path.join(output_dir, 'sfp_maps/mgzs/nsdsyn')\n",
    "fig_dir='/Volumes/server/Projects/sfp_nsd/derivatives/figures/sfp_anova/brain_maps/nsdsyn/ss'"
   ],
   "metadata": {
    "collapsed": false,
    "pycharm": {
     "name": "#%%\n"
    }
   }
  },
  {
   "cell_type": "code",
   "execution_count": 19,
   "outputs": [],
   "source": [
    "all_mgzs = {}\n",
    "for hemi, my_val in product(['lh', 'rh'], val_list):\n",
    "    tmp_mgzs = []\n",
    "    for subj in subj_list:\n",
    "        f_path = os.path.join(overlay_dir, f'{hemi}.sub-{subj}_value-{my_val}_space-fsaverage.mgz')\n",
    "        tmp_mgz = load_mgzs(f_path, fdata_only=False, squeeze=False)\n",
    "        tmp_mgzs.append(tmp_mgz.get_fdata())\n",
    "    k = f'{hemi}-{my_val}'\n",
    "    all_mgzs[k] = np.mean(tmp_mgzs, axis=0)\n"
   ],
   "metadata": {
    "collapsed": false,
    "pycharm": {
     "name": "#%%\n"
    }
   }
  },
  {
   "cell_type": "markdown",
   "source": [
    "## Save the averaged map"
   ],
   "metadata": {
    "collapsed": false,
    "pycharm": {
     "name": "#%% md\n"
    }
   }
  },
  {
   "cell_type": "code",
   "execution_count": 22,
   "outputs": [],
   "source": [
    "\n",
    "for hemi, my_val in product(['lh', 'rh'], val_list):\n",
    "    k = f'{hemi}-{my_val}'\n",
    "    f_path = os.path.join(overlay_dir, f'{hemi}.sub-subj01_value-{my_val}_space-fsaverage.mgz')\n",
    "    save_path = os.path.join(overlay_dir, f'{hemi}.sub-avg_value-{my_val}_space-fsaverage.mgz')\n",
    "    map_values_as_mgz(f_path, all_mgzs[k], save_path)\n"
   ],
   "metadata": {
    "collapsed": false,
    "pycharm": {
     "name": "#%%\n"
    }
   }
  },
  {
   "cell_type": "markdown",
   "source": [
    "# Load precision_v map for all subjects and save the average"
   ],
   "metadata": {
    "collapsed": false,
    "pycharm": {
     "name": "#%% md\n"
    }
   }
  },
  {
   "cell_type": "code",
   "execution_count": 23,
   "outputs": [],
   "source": [
    "for hemi, my_val in product(['lh', 'rh'], ['precision']):\n",
    "    tmp_mgzs = []\n",
    "    for subj in subj_list:\n",
    "        f_path = os.path.join(overlay_dir, f'{hemi}.sub-{subj}_value-{my_val}_space-fsaverage.mgz')\n",
    "        tmp_mgz = load_mgzs(f_path, fdata_only=False, squeeze=False)\n",
    "        tmp_mgzs.append(tmp_mgz.get_fdata())\n",
    "    k = f'{hemi}-{my_val}'\n",
    "    all_mgzs[k] = np.mean(tmp_mgzs, axis=0)\n",
    "    save_path = os.path.join(overlay_dir, f'{hemi}.sub-avg_value-{my_val}_space-fsaverage.mgz')\n",
    "    map_values_as_mgz(f_path, all_mgzs[k], save_path)"
   ],
   "metadata": {
    "collapsed": false,
    "pycharm": {
     "name": "#%%\n"
    }
   }
  },
  {
   "cell_type": "markdown",
   "source": [
    "# Make a precision mask"
   ],
   "metadata": {
    "collapsed": false,
    "pycharm": {
     "name": "#%% md\n"
    }
   }
  },
  {
   "cell_type": "code",
   "execution_count": 34,
   "outputs": [],
   "source": [
    "precision_mask = {}\n",
    "threshold=13\n",
    "for hemi in ['lh', 'rh']:\n",
    "    tmp_mgz = all_mgzs[f'{hemi}-precision']\n",
    "    precision_mask[hemi] = np.greater(tmp_mgz, threshold)"
   ],
   "metadata": {
    "collapsed": false,
    "pycharm": {
     "name": "#%%\n"
    }
   }
  },
  {
   "cell_type": "markdown",
   "source": [
    "# Apply the precision mask to the averaged maps"
   ],
   "metadata": {
    "collapsed": false,
    "pycharm": {
     "name": "#%% md\n"
    }
   }
  },
  {
   "cell_type": "code",
   "execution_count": 35,
   "outputs": [],
   "source": [
    "for hemi, my_val in product(['lh', 'rh'], val_list):\n",
    "    k = f'{hemi}-{my_val}'\n",
    "    all_mgzs[k][precision_mask[hemi] == False] = 0\n",
    "    save_path = os.path.join(overlay_dir, f'{hemi}.sub-avg_value-{my_val}_space-fsaverage_masked.mgz')\n",
    "    map_values_as_mgz(f_path, all_mgzs[k], save_path)"
   ],
   "metadata": {
    "collapsed": false,
    "pycharm": {
     "name": "#%%\n"
    }
   }
  }
 ],
 "metadata": {
  "kernelspec": {
   "display_name": "Python 3",
   "language": "python",
   "name": "python3"
  },
  "language_info": {
   "codemirror_mode": {
    "name": "ipython",
    "version": 2
   },
   "file_extension": ".py",
   "mimetype": "text/x-python",
   "name": "python",
   "nbconvert_exporter": "python",
   "pygments_lexer": "ipython2",
   "version": "2.7.6"
  }
 },
 "nbformat": 4,
 "nbformat_minor": 0
}