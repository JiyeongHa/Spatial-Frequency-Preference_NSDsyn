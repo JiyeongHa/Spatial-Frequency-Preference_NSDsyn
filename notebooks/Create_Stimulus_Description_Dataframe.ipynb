{
 "cells": [
  {
   "cell_type": "markdown",
   "source": [
    "# Steps\n",
    "This part explains what steps I have taken so far in order to scatter-plot one subject’s beta values as a function of spatial frequency."
   ],
   "metadata": {
    "collapsed": false
   }
  },
  {
   "cell_type": "code",
   "metadata": {
    "collapsed": true,
    "pycharm": {
     "name": "#%%\n"
    }
   },
   "source": [
    "import sys\n",
    "sys.path.append('..')\n",
    "import pandas as pd\n",
    "import numpy as np\n",
    "import os\n",
    "import save_stimuli_description"
   ],
   "execution_count": 9,
   "outputs": []
  },
  {
   "cell_type": "markdown",
   "source": [
    "## 1. Make a .csv file that contains stimuli information\n",
    "I first created a dataframe that contains all stimuli information in order of the image index in the NSD synthetic experimental design.\n",
    "As with the experiment by Broderick et al (2022), the experiment contains 4 different stimulus types: pinwheel, forward spiral, annulus, and reverse spiral. Adding to that, there was intermediate stimulus type - which has the same frequency across the visual field but ___. I first named them all differently (e.g. intermediate 1, intermediate 2, ..), but they all can be defined as just 'intermediate' because ___.\n",
    "Except for intermediate stimuli, all stimulus types had 6 different frequency levels and 4 different phase shifts. The order of stimulus class in the experimental design was pinwheel-forward spiral-annulus-reverse spiral. For each stimulus type, spiral images come in a group of 4, as the only difference in each group of 4 is just a phase shift. Image index and frequency level was organized in an ascending manner. For example, 4 pinwheel images with frequency level 1 is followed by 4 pinwheel images with frequency level 2, and then by the same stimulus class with frequency level 3.\n",
    "On the other hand, intermediate stimuli only had one frequency level. The total number of images were 112 (4 regular stim class * 4 phase * 6 frequency + 4 intermediate class * 4 phase * 1 frequency)."
   ],
   "metadata": {
    "collapsed": false,
    "pycharm": {
     "name": "#%% md\n"
    }
   }
  },
  {
   "cell_type": "code",
   "source": [
    "n_all_stims = 112 # number of sf stims presented in nsdsynthetic experiment\n",
    "regular_sf_stims = ['pinwheel', 'forward spiral', 'annulus', 'reverse spiral']\n",
    "base_sf_stims = ['intermediate 1', 'intermediate 2', 'intermediate 3', 'intermediate 4']\n",
    "freq_levels = np.arange(0, 6) # from K. Kay's nsdsynthetic experiment design.m\n",
    "phase_levels = [0.0, 1.570796327, 3.141592654, 4.71238898] # from K. Kay's nsdsynthetic experiment design.m\n",
    "used_phase_idx = np.arange(0, 8, 2)\n",
    "n_sf_stims = len(regular_sf_stims)\n",
    "n_sf_int_stims = 4\n",
    "n_phase = len(phase_levels)\n",
    "n_freq = len(freq_levels)\n",
    "\n",
    "save_file_name = 'nsdsynthetic_sf_stim_description.csv'\n",
    "save_path = os.path.join('/Users/jh7685/Dropbox/NYU/Projects/SF/natural-scenes-dataset/Deravatives',\n",
    "                         save_file_name)\n"
   ],
   "metadata": {
    "collapsed": false,
    "pycharm": {
     "name": "#%%\n"
    }
   },
   "execution_count": 12,
   "outputs": []
  },
  {
   "cell_type": "markdown",
   "source": [
    "Here we're loading task-sfp_stim_description.csv from the Broderick et al (2022) author's [OSF](https://osf.io/hcu78/) to read w_a and w_r information."
   ],
   "metadata": {
    "collapsed": false,
    "pycharm": {
     "name": "#%% md\n"
    }
   }
  },
  {
   "cell_type": "code",
   "execution_count": 13,
   "outputs": [],
   "source": [
    "# load Broderick et al's spatialFrequencyStim.mat\n",
    "original_stim_descriptions_path = '/Users/jh7685/Dropbox/NYU/Projects/SF/prac/task-sfp_stim_description.csv'\n",
    "stim_df = pd.read_csv(original_stim_descriptions_path)"
   ],
   "metadata": {
    "collapsed": false,
    "pycharm": {
     "name": "#%%\n"
    }
   }
  },
  {
   "cell_type": "markdown",
   "source": [
    "Columns indicate information type. Following columns were included in the final dataframe:\n",
    "1. image_idx: This indicates the no. of images in NSD synthetic experimental design. The total images used in the experiment was 784, and log-polar images started from 105 and finished at 216 (The image started from 1). Since most of my scripts will be written in Python, I reset the index as 104 to 215 assuming the very first number starts from 0.\n",
    "2. names: This indicates stimulus class name, such as pinwheel, annulus, etc.\n",
    "3. name_idx: This column contains numbers each corresponding to a different name in the column 2 (0: pinwheel, 1:forward spiral, 2:annulus, 3:reverse spiral, 4: intermediate1, 5:intermediate2, 6:intermediate3, 7:intermediate4)\n",
    "4. w_r: This is a radial frequency that specifies the number of radians per unit increase in ln(r).\n",
    "5. w_a: This is an angular frequency specifying the number of grating cycles per revolution around the image.\n",
    "6. frequency level: This indicates a local frequency level. Regular stimulus classes have 6 different levels (0-6)\n",
    "7. phase: This indicates how much phase shift there was for that specific image (see `phase_levels` variable in line 5).\n",
    "8. phase index: This indicates a phase level. In this column I just marked 4 different levels (0, 2, 4, 6), it's because NSD synthetic dataset used every other phase of a phase vector used in Broderick et al (2022).\n",
    "\n"
   ],
   "metadata": {
    "collapsed": false,
    "pycharm": {
     "name": "#%% md\n"
    }
   }
  },
  {
   "cell_type": "code",
   "execution_count": 10,
   "outputs": [],
   "source": [
    "df = save_stimuli_description.create_stimulus_df(regular_sf_stims, n_phase, n_freq, base_sf_stims, stim_df)"
   ],
   "metadata": {
    "collapsed": false,
    "pycharm": {
     "name": "#%%\n"
    }
   }
  },
  {
   "cell_type": "code",
   "execution_count": 11,
   "outputs": [
    {
     "data": {
      "text/plain": "  image_idx     names names_idx  w_r   w_a freq_lvl     phase phase_idx\n0       104  pinwheel         0  0.0   6.0        0       0.0         0\n1       105  pinwheel         0  0.0   6.0        0  1.570796         2\n2       106  pinwheel         0  0.0   6.0        0  3.141593         4\n3       107  pinwheel         0  0.0   6.0        0  4.712389         6\n4       108  pinwheel         0  0.0  11.0        1       0.0         0",
      "text/html": "<div>\n<style scoped>\n    .dataframe tbody tr th:only-of-type {\n        vertical-align: middle;\n    }\n\n    .dataframe tbody tr th {\n        vertical-align: top;\n    }\n\n    .dataframe thead th {\n        text-align: right;\n    }\n</style>\n<table border=\"1\" class=\"dataframe\">\n  <thead>\n    <tr style=\"text-align: right;\">\n      <th></th>\n      <th>image_idx</th>\n      <th>names</th>\n      <th>names_idx</th>\n      <th>w_r</th>\n      <th>w_a</th>\n      <th>freq_lvl</th>\n      <th>phase</th>\n      <th>phase_idx</th>\n    </tr>\n  </thead>\n  <tbody>\n    <tr>\n      <th>0</th>\n      <td>104</td>\n      <td>pinwheel</td>\n      <td>0</td>\n      <td>0.0</td>\n      <td>6.0</td>\n      <td>0</td>\n      <td>0.0</td>\n      <td>0</td>\n    </tr>\n    <tr>\n      <th>1</th>\n      <td>105</td>\n      <td>pinwheel</td>\n      <td>0</td>\n      <td>0.0</td>\n      <td>6.0</td>\n      <td>0</td>\n      <td>1.570796</td>\n      <td>2</td>\n    </tr>\n    <tr>\n      <th>2</th>\n      <td>106</td>\n      <td>pinwheel</td>\n      <td>0</td>\n      <td>0.0</td>\n      <td>6.0</td>\n      <td>0</td>\n      <td>3.141593</td>\n      <td>4</td>\n    </tr>\n    <tr>\n      <th>3</th>\n      <td>107</td>\n      <td>pinwheel</td>\n      <td>0</td>\n      <td>0.0</td>\n      <td>6.0</td>\n      <td>0</td>\n      <td>4.712389</td>\n      <td>6</td>\n    </tr>\n    <tr>\n      <th>4</th>\n      <td>108</td>\n      <td>pinwheel</td>\n      <td>0</td>\n      <td>0.0</td>\n      <td>11.0</td>\n      <td>1</td>\n      <td>0.0</td>\n      <td>0</td>\n    </tr>\n  </tbody>\n</table>\n</div>"
     },
     "execution_count": 11,
     "metadata": {},
     "output_type": "execute_result"
    }
   ],
   "source": [
    "df.head()"
   ],
   "metadata": {
    "collapsed": false,
    "pycharm": {
     "name": "#%%\n"
    }
   }
  }
 ],
 "metadata": {
  "kernelspec": {
   "display_name": "Python 3",
   "language": "python",
   "name": "python3"
  },
  "language_info": {
   "codemirror_mode": {
    "name": "ipython",
    "version": 2
   },
   "file_extension": ".py",
   "mimetype": "text/x-python",
   "name": "python",
   "nbconvert_exporter": "python",
   "pygments_lexer": "ipython2",
   "version": "2.7.6"
  }
 },
 "nbformat": 4,
 "nbformat_minor": 0
}