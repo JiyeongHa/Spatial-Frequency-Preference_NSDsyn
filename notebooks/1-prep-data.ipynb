{
 "cells": [
  {
   "cell_type": "code",
   "execution_count": 4,
   "metadata": {
    "collapsed": true
   },
   "outputs": [],
   "source": [
    "import sys\n",
    "sys.path.append('..')\n",
    "import os\n",
    "import pandas as pd\n",
    "import numpy as np\n",
    "import matplotlib.pyplot as plt\n",
    "import seaborn as sns\n",
    "from sfp_nsdsyn import *\n",
    "import warnings\n",
    "import itertools\n",
    "warnings.filterwarnings(\"ignore\", category=UserWarning)\n",
    "pd.options.mode.chained_assignment = None\n",
    "%load_ext autoreload\n",
    "%autoreload 2"
   ]
  },
  {
   "cell_type": "code",
   "execution_count": 5,
   "outputs": [],
   "source": [
    "nsd_dir = '/Volumes/server/Projects/sfp_nsd/natural-scenes-dataset/'\n",
    "fs_dir = '/Volumes/server/Projects/sfp_nsd/natural-scenes-dataset/nsddata/freesurfer'\n",
    "# inputs\n",
    "subj = utils.sub_number_to_string(1, dataset='nsdsyn')\n",
    "hemi = 'lh'\n",
    "design_mat = os.path.join(nsd_dir, 'nsddata', 'experiments', 'nsdsynthetic', 'nsdsynthetic_expdesign.mat')\n",
    "betas = os.path.join(nsd_dir, 'nsddata_betas', 'ppdata', subj, 'nativesurface', prep._get_beta_folder_name(3),\n",
    "                     f'{hemi}.betas_nsdsynthetic.hdf5')\n",
    "stim_info = os.path.join(nsd_dir, 'nsdsynthetic_sf_stim_description.csv')\n",
    "rois = [os.path.join(fs_dir, subj, 'label', f'{hemi}.prf-{roi}.mgz')\n",
    "        for roi in [\"visualrois\", \"eccrois\"]]\n",
    "prfs = [os.path.join(fs_dir, subj, 'label', f'{hemi}.prf{prf_param}.mgz')\n",
    "        for prf_param in [\"eccentricity\", \"angle\", \"size\"]]\n"
   ],
   "metadata": {
    "collapsed": false,
    "pycharm": {
     "name": "#%%\n"
    }
   }
  },
  {
   "cell_type": "code",
   "execution_count": 6,
   "outputs": [
    {
     "data": {
      "text/plain": "     stim_idx  image_idx           names   w_r   w_a     phase  class_idx  \\\n0           0        104        pinwheel   0.0   6.0  0.000000          0   \n1           1        105        pinwheel   0.0   6.0  1.570796          0   \n2           2        106        pinwheel   0.0   6.0  3.141593          0   \n3           3        107        pinwheel   0.0   6.0  4.712389          0   \n4           4        108        pinwheel   0.0  11.0  0.000000          1   \n..        ...        ...             ...   ...   ...       ...        ...   \n107       107        211  intermediate 3  34.0 -14.0  4.712389         26   \n108       108        212  intermediate 4  14.0 -34.0  0.000000         27   \n109       109        213  intermediate 4  14.0 -34.0  1.570796         27   \n110       110        214  intermediate 4  14.0 -34.0  3.141593         27   \n111       111        215  intermediate 4  14.0 -34.0  4.712389         27   \n\n     freq_lvl  \n0           0  \n1           0  \n2           0  \n3           0  \n4           1  \n..        ...  \n107         3  \n108         3  \n109         3  \n110         3  \n111         3  \n\n[112 rows x 8 columns]",
      "text/html": "<div>\n<style scoped>\n    .dataframe tbody tr th:only-of-type {\n        vertical-align: middle;\n    }\n\n    .dataframe tbody tr th {\n        vertical-align: top;\n    }\n\n    .dataframe thead th {\n        text-align: right;\n    }\n</style>\n<table border=\"1\" class=\"dataframe\">\n  <thead>\n    <tr style=\"text-align: right;\">\n      <th></th>\n      <th>stim_idx</th>\n      <th>image_idx</th>\n      <th>names</th>\n      <th>w_r</th>\n      <th>w_a</th>\n      <th>phase</th>\n      <th>class_idx</th>\n      <th>freq_lvl</th>\n    </tr>\n  </thead>\n  <tbody>\n    <tr>\n      <th>0</th>\n      <td>0</td>\n      <td>104</td>\n      <td>pinwheel</td>\n      <td>0.0</td>\n      <td>6.0</td>\n      <td>0.000000</td>\n      <td>0</td>\n      <td>0</td>\n    </tr>\n    <tr>\n      <th>1</th>\n      <td>1</td>\n      <td>105</td>\n      <td>pinwheel</td>\n      <td>0.0</td>\n      <td>6.0</td>\n      <td>1.570796</td>\n      <td>0</td>\n      <td>0</td>\n    </tr>\n    <tr>\n      <th>2</th>\n      <td>2</td>\n      <td>106</td>\n      <td>pinwheel</td>\n      <td>0.0</td>\n      <td>6.0</td>\n      <td>3.141593</td>\n      <td>0</td>\n      <td>0</td>\n    </tr>\n    <tr>\n      <th>3</th>\n      <td>3</td>\n      <td>107</td>\n      <td>pinwheel</td>\n      <td>0.0</td>\n      <td>6.0</td>\n      <td>4.712389</td>\n      <td>0</td>\n      <td>0</td>\n    </tr>\n    <tr>\n      <th>4</th>\n      <td>4</td>\n      <td>108</td>\n      <td>pinwheel</td>\n      <td>0.0</td>\n      <td>11.0</td>\n      <td>0.000000</td>\n      <td>1</td>\n      <td>1</td>\n    </tr>\n    <tr>\n      <th>...</th>\n      <td>...</td>\n      <td>...</td>\n      <td>...</td>\n      <td>...</td>\n      <td>...</td>\n      <td>...</td>\n      <td>...</td>\n      <td>...</td>\n    </tr>\n    <tr>\n      <th>107</th>\n      <td>107</td>\n      <td>211</td>\n      <td>intermediate 3</td>\n      <td>34.0</td>\n      <td>-14.0</td>\n      <td>4.712389</td>\n      <td>26</td>\n      <td>3</td>\n    </tr>\n    <tr>\n      <th>108</th>\n      <td>108</td>\n      <td>212</td>\n      <td>intermediate 4</td>\n      <td>14.0</td>\n      <td>-34.0</td>\n      <td>0.000000</td>\n      <td>27</td>\n      <td>3</td>\n    </tr>\n    <tr>\n      <th>109</th>\n      <td>109</td>\n      <td>213</td>\n      <td>intermediate 4</td>\n      <td>14.0</td>\n      <td>-34.0</td>\n      <td>1.570796</td>\n      <td>27</td>\n      <td>3</td>\n    </tr>\n    <tr>\n      <th>110</th>\n      <td>110</td>\n      <td>214</td>\n      <td>intermediate 4</td>\n      <td>14.0</td>\n      <td>-34.0</td>\n      <td>3.141593</td>\n      <td>27</td>\n      <td>3</td>\n    </tr>\n    <tr>\n      <th>111</th>\n      <td>111</td>\n      <td>215</td>\n      <td>intermediate 4</td>\n      <td>14.0</td>\n      <td>-34.0</td>\n      <td>4.712389</td>\n      <td>27</td>\n      <td>3</td>\n    </tr>\n  </tbody>\n</table>\n<p>112 rows × 8 columns</p>\n</div>"
     },
     "execution_count": 6,
     "metadata": {},
     "output_type": "execute_result"
    }
   ],
   "source": [
    "stim_df = prep.load_stim_info_as_df(stim_description_path=stim_info,\n",
    "                              drop_phase=False)\n",
    "stim_df"
   ],
   "metadata": {
    "collapsed": false,
    "pycharm": {
     "name": "#%%\n"
    }
   }
  },
  {
   "cell_type": "code",
   "execution_count": 7,
   "outputs": [
    {
     "data": {
      "text/plain": "{'visualrois': ['V1',\n  'V1',\n  'V1',\n  'V1',\n  'V1',\n  'V1',\n  'V1',\n  'V1',\n  'V2',\n  'V2',\n  'V2',\n  'V2',\n  'V2',\n  'V2',\n  'V2',\n  'V2',\n  'V2',\n  'V2',\n  'V2',\n  'V2',\n  'V1',\n  'V2',\n  'V1',\n  'V1',\n  'V1',\n  'V1',\n  'V1',\n  'V1',\n  'V1',\n  'V1',\n  'V1',\n  'V1',\n  'V1',\n  'V1',\n  'V1',\n  'V1',\n  'V1',\n  'V1',\n  'V1',\n  'V1',\n  'V1',\n  'V1',\n  'V1',\n  'V1',\n  'V1',\n  'V1',\n  'V1',\n  'V1',\n  'V1',\n  'V1',\n  'V1',\n  'V1',\n  'V1',\n  'V1',\n  'V1',\n  'V1',\n  'V1',\n  'V1',\n  'V1',\n  'V1',\n  'V1',\n  'V1',\n  'V1',\n  'V1',\n  'V1',\n  'V1',\n  'V1',\n  'V1',\n  'V2',\n  'V2',\n  'V2',\n  'V2',\n  'V2',\n  'V2',\n  'V1',\n  'V1',\n  'V1',\n  'V2',\n  'V2',\n  'V2',\n  'V2',\n  'V2',\n  'V2',\n  'V1',\n  'V1',\n  'V1',\n  'V1',\n  'V2',\n  'V2',\n  'V2',\n  'V2',\n  'V2',\n  'V2',\n  'V1',\n  'V1',\n  'V1',\n  'V2',\n  'V2',\n  'V2',\n  'V2',\n  'V2',\n  'V2',\n  'V2',\n  'V2',\n  'V2',\n  'V2',\n  'V2',\n  'V1',\n  'V1',\n  'V1',\n  'V2',\n  'V2',\n  'V2',\n  'V2',\n  'V2',\n  'V2',\n  'V2',\n  'V2',\n  'V2',\n  'V2',\n  'V2',\n  'V2',\n  'V2',\n  'V2',\n  'V2',\n  'V2',\n  'V2',\n  'V2',\n  'V2',\n  'V2',\n  'V2',\n  'V2',\n  'V2',\n  'V2',\n  'V2',\n  'V2',\n  'V2',\n  'V2',\n  'V2',\n  'V2',\n  'V2',\n  'V2',\n  'V2',\n  'V2',\n  'V2',\n  'V2',\n  'V2',\n  'V2',\n  'V2',\n  'V2',\n  'V2',\n  'V2',\n  'V2',\n  'V2',\n  'V1',\n  'V1',\n  'V1',\n  'V1',\n  'V2',\n  'V2',\n  'V2',\n  'V2',\n  'V2',\n  'V2',\n  'V2',\n  'V1',\n  'V2',\n  'V2',\n  'V1',\n  'V1',\n  'V1',\n  'V1',\n  'V1',\n  'V2',\n  'V2',\n  'V2',\n  'V2',\n  'V2',\n  'V2',\n  'V2',\n  'V1',\n  'V1',\n  'V1',\n  'V1',\n  'V1',\n  'V1',\n  'V1',\n  'V1',\n  'V1',\n  'V2',\n  'V2',\n  'V2',\n  'V2',\n  'V2',\n  'V2',\n  'V1',\n  'V1',\n  'V1',\n  'V1',\n  'V1',\n  'V1',\n  'V1',\n  'V1',\n  'V1',\n  'V2',\n  'V2',\n  'V2',\n  'V2',\n  'V2',\n  'V1',\n  'V1',\n  'V1',\n  'V1',\n  'V1',\n  'V1',\n  'V1',\n  'V1',\n  'V1',\n  'V1',\n  'V1',\n  'V1',\n  'V1',\n  'V1',\n  'V1',\n  'V1',\n  'V1',\n  'V1',\n  'V1',\n  'V1',\n  'V1',\n  'V1',\n  'V1',\n  'V1',\n  'V1',\n  'V1',\n  'V1',\n  'V1',\n  'V1',\n  'V1',\n  'V1',\n  'V1',\n  'V1',\n  'V1',\n  'V1',\n  'V1',\n  'V1',\n  'V1',\n  'V1',\n  'V1',\n  'V1',\n  'V1',\n  'V1',\n  'V1',\n  'V1',\n  'V1',\n  'V1',\n  'V1',\n  'V1',\n  'V1',\n  'V1',\n  'V1',\n  'V1',\n  'V1',\n  'V1',\n  'V1',\n  'V1',\n  'V1',\n  'V1',\n  'V1',\n  'V1',\n  'V1',\n  'V1',\n  'V1',\n  'V1',\n  'V1',\n  'V1',\n  'V1',\n  'V1',\n  'V1',\n  'V1',\n  'V1',\n  'V1',\n  'V2',\n  'V2',\n  'V2',\n  'V2',\n  'V2',\n  'V2',\n  'V2',\n  'V2',\n  'V2',\n  'V2',\n  'V2',\n  'V2',\n  'V2',\n  'V2',\n  'V2',\n  'V2',\n  'V2',\n  'V2',\n  'V2',\n  'V1',\n  'V1',\n  'V2',\n  'V2',\n  'V2',\n  'V2',\n  'V2',\n  'V2',\n  'V2',\n  'V1',\n  'V1',\n  'V1',\n  'V2',\n  'V2',\n  'V2',\n  'V2',\n  'V2',\n  'V1',\n  'V1',\n  'V2',\n  'V2',\n  'V2',\n  'V2',\n  'V2',\n  'V2',\n  'V1',\n  'V1',\n  'V2',\n  'V2',\n  'V2',\n  'V2',\n  'V2',\n  'V2',\n  'V2',\n  'V2',\n  'V2',\n  'V2',\n  'V2',\n  'V2',\n  'V1',\n  'V1',\n  'V1',\n  'V2',\n  'V2',\n  'V2',\n  'V2',\n  'V2',\n  'V2',\n  'V2',\n  'V2',\n  'V2',\n  'V2',\n  'V2',\n  'V2',\n  'V1',\n  'V1',\n  'V1',\n  'V1',\n  'V2',\n  'V2',\n  'V2',\n  'V2',\n  'V2',\n  'V2',\n  'V2',\n  'V2',\n  'V2',\n  'V1',\n  'V1',\n  'V1',\n  'V1',\n  'V1',\n  'V2',\n  'V2',\n  'V2',\n  'V2',\n  'V1',\n  'V1',\n  'V1',\n  'V1',\n  'V1',\n  'V1',\n  'V2',\n  'V1',\n  'V2',\n  'V1',\n  'V1',\n  'V1',\n  'V1',\n  'V1',\n  'V2',\n  'V2',\n  'V2',\n  'V1',\n  'V1',\n  'V1',\n  'V1',\n  'V1',\n  'V1',\n  'V1',\n  'V2',\n  'V2',\n  'V2',\n  'V1',\n  'V1',\n  'V1',\n  'V1',\n  'V1',\n  'V1',\n  'V2',\n  'V2',\n  'V2',\n  'V2',\n  'V2',\n  'V1',\n  'V1',\n  'V1',\n  'V1',\n  'V1',\n  'V1',\n  'V1',\n  'V1',\n  'V1',\n  'V1',\n  'V2',\n  'V2',\n  'V2',\n  'V1',\n  'V1',\n  'V1',\n  'V1',\n  'V1',\n  'V1',\n  'V1',\n  'V1',\n  'V1',\n  'V1',\n  'V1',\n  'V1',\n  'V1',\n  'V1',\n  'V1',\n  'V1',\n  'V1',\n  'V1',\n  'V1',\n  'V1',\n  'V1',\n  'V1',\n  'V1',\n  'V1',\n  'V1',\n  'V1',\n  'V1',\n  'V1',\n  'V1',\n  'V1',\n  'V1',\n  'V1',\n  'V1',\n  'V1',\n  'V1',\n  'V1',\n  'V1',\n  'V1',\n  'V1',\n  'V1',\n  'V1',\n  'V1',\n  'V1',\n  'V1',\n  'V1',\n  'V1',\n  'V1',\n  'V1',\n  'V1',\n  'V1',\n  'V1',\n  'V1',\n  'V1',\n  'V1',\n  'V1',\n  'V1',\n  'V1',\n  'V1',\n  'V1',\n  'V1',\n  'V1',\n  'V1',\n  'V1',\n  'V1',\n  'V1',\n  'V1',\n  'V1',\n  'V1',\n  'V1',\n  'V1',\n  'V1',\n  'V1',\n  'V1',\n  'V1',\n  'V1',\n  'V1',\n  'V1',\n  'V1',\n  'V1',\n  'V1',\n  'V1',\n  'V1',\n  'V1',\n  'V1',\n  'V1',\n  'V1',\n  'V1',\n  'V1',\n  'V1',\n  'V1',\n  'V1',\n  'V1',\n  'V1',\n  'V1',\n  'V1',\n  'V1',\n  'V1',\n  'V1',\n  'V1',\n  'V1',\n  'V1',\n  'V2',\n  'V2',\n  'V2',\n  'V2',\n  'V2',\n  'V2',\n  'V2',\n  'V2',\n  'V2',\n  'V2',\n  'V2',\n  'V2',\n  'V1',\n  'V1',\n  'V2',\n  'V2',\n  'V2',\n  'V1',\n  'V1',\n  'V2',\n  'V2',\n  'V2',\n  'V1',\n  'V1',\n  'V2',\n  'V2',\n  'V2',\n  'V2',\n  'V2',\n  'V2',\n  'V2',\n  'V2',\n  'V1',\n  'V1',\n  'V2',\n  'V2',\n  'V2',\n  'V2',\n  'V2',\n  'V2',\n  'V2',\n  'V2',\n  'V2',\n  'V2',\n  'V2',\n  'V2',\n  'V1',\n  'V1',\n  'V1',\n  'V2',\n  'V2',\n  'V2',\n  'V2',\n  'V2',\n  'V2',\n  'V2',\n  'V2',\n  'V2',\n  'V2',\n  'V1',\n  'V1',\n  'V2',\n  'V2',\n  'V2',\n  'V2',\n  'V2',\n  'V2',\n  'V1',\n  'V1',\n  'V1',\n  'V2',\n  'V2',\n  'V2',\n  'V1',\n  'V1',\n  'V1',\n  'V1',\n  'V1',\n  'V2',\n  'V2',\n  'V1',\n  'V2',\n  'V2',\n  'V1',\n  'V1',\n  'V1',\n  'V1',\n  'V1',\n  'V2',\n  'V2',\n  'V1',\n  'V1',\n  'V2',\n  'V1',\n  'V1',\n  'V1',\n  'V1',\n  'V2',\n  'V2',\n  'V1',\n  'V1',\n  'V1',\n  'V1',\n  'V1',\n  'V2',\n  'V2',\n  'V2',\n  'V1',\n  'V1',\n  'V1',\n  'V1',\n  'V1',\n  'V1',\n  'V2',\n  'V1',\n  'V1',\n  'V1',\n  'V1',\n  'V2',\n  'V2',\n  'V2',\n  'V2',\n  'V1',\n  'V1',\n  'V1',\n  'V1',\n  'V1',\n  'V1',\n  'V1',\n  'V1',\n  'V1',\n  'V1',\n  'V1',\n  'V1',\n  'V1',\n  'V1',\n  'V1',\n  'V1',\n  'V1',\n  'V1',\n  'V1',\n  'V1',\n  'V1',\n  'V1',\n  'V1',\n  'V1',\n  'V1',\n  'V1',\n  'V1',\n  'V1',\n  'V1',\n  'V1',\n  'V1',\n  'V1',\n  'V1',\n  'V1',\n  'V1',\n  'V1',\n  'V1',\n  'V1',\n  'V1',\n  'V1',\n  'V1',\n  'V1',\n  'V1',\n  'V1',\n  'V1',\n  'V1',\n  'V1',\n  'V1',\n  'V1',\n  'V1',\n  'V1',\n  'V1',\n  'V1',\n  'V1',\n  'V1',\n  'V1',\n  'V1',\n  'V1',\n  'V1',\n  'V1',\n  'V1',\n  'V1',\n  'V1',\n  'V1',\n  'V1',\n  'V1',\n  'V1',\n  'V1',\n  'V1',\n  'V1',\n  'V1',\n  'V1',\n  'V1',\n  'V1',\n  'V1',\n  'V1',\n  'V1',\n  'V1',\n  'V1',\n  'V1',\n  'V1',\n  'V1',\n  'V1',\n  'V1',\n  'V1',\n  'V1',\n  'V1',\n  'V1',\n  'V1',\n  'V1',\n  'V1',\n  'V1',\n  'V1',\n  'V1',\n  'V1',\n  'V1',\n  'V1',\n  'V1',\n  'V1',\n  'V1',\n  'V1',\n  'V1',\n  'V1',\n  'V1',\n  'V1',\n  'V1',\n  'V1',\n  'V1',\n  'V1',\n  'V1',\n  'V1',\n  'V1',\n  'V1',\n  'V1',\n  'V1',\n  'V1',\n  'V1',\n  'V1',\n  'V1',\n  'V1',\n  'V1',\n  'V1',\n  'V1',\n  'V1',\n  'V1',\n  'V1',\n  'V1',\n  'V1',\n  'V1',\n  'V1',\n  None,\n  None,\n  None,\n  None,\n  None,\n  'V1',\n  'V1',\n  None,\n  None,\n  None,\n  None,\n  None,\n  'V1',\n  'V1',\n  'V1',\n  'V1',\n  None,\n  None,\n  None,\n  'V1',\n  'V1',\n  'V1',\n  'V1',\n  'V1',\n  'V1',\n  'V1',\n  'V2',\n  'V2',\n  'V2',\n  'V2',\n  'V2',\n  'V2',\n  'V2',\n  'V2',\n  'V2',\n  'V2',\n  'V1',\n  'V1',\n  'V1',\n  'V2',\n  'V2',\n  'V1',\n  'V1',\n  'V2',\n  'V2',\n  'V2',\n  'V2',\n  'V2',\n  'V1',\n  'V2',\n  'V2',\n  'V2',\n  'V2',\n  'V2',\n  'V2',\n  'V2',\n  'V2',\n  'V2',\n  'V1',\n  'V2',\n  'V2',\n  'V2',\n  'V2',\n  'V2',\n  'V2',\n  'V2',\n  'V2',\n  'V2',\n  'V1',\n  'V1',\n  'V1',\n  'V2',\n  'V2',\n  'V2',\n  'V2',\n  'V2',\n  'V2',\n  'V2',\n  'V1',\n  'V1',\n  'V1',\n  'V2',\n  'V2',\n  'V2',\n  'V2',\n  'V2',\n  'V2',\n  'V2',\n  'V1',\n  'V1',\n  'V1',\n  'V2',\n  'V2',\n  'V2',\n  'V2',\n  'V2',\n  'V2',\n  'V1',\n  'V1',\n  'V1',\n  'V1',\n  'V2',\n  'V2',\n  'V2',\n  'V2',\n  'V2',\n  'V1',\n  'V1',\n  'V2',\n  'V2',\n  'V2',\n  'V2',\n  'V2',\n  'V1',\n  'V1',\n  'V1',\n  'V2',\n  'V2',\n  'V1',\n  'V2',\n  'V2',\n  'V1',\n  'V1',\n  'V1',\n  'V1',\n  'V2',\n  'V2',\n  'V1',\n  'V1',\n  'V2',\n  'V1',\n  'V1',\n  'V1',\n  'V2',\n  'V2',\n  'V2',\n  'V1',\n  'V1',\n  'V1',\n  'V1',\n  'V1',\n  'V1',\n  'V2',\n  'V2',\n  'V1',\n  'V1',\n  'V1',\n  'V1',\n  'V1',\n  'V1',\n  'V1',\n  'V2',\n  'V2',\n  'V2',\n  'V2',\n  'V1',\n  'V1',\n  'V1',\n  'V1',\n  'V1',\n  'V1',\n  'V1',\n  'V1',\n  'V1',\n  'V1',\n  'V1',\n  'V1',\n  'V1',\n  'V1',\n  'V1',\n  'V1',\n  'V1',\n  'V1',\n  'V1',\n  'V2',\n  'V1',\n  'V1',\n  'V1',\n  'V1',\n  'V1',\n  'V1',\n  'V1',\n  'V1',\n  'V1',\n  'V1',\n  'V1',\n  'V1',\n  'V1',\n  'V1',\n  'V1',\n  'V1',\n  'V1',\n  'V1',\n  'V1',\n  'V1',\n  'V1',\n  'V1',\n  'V1',\n  'V1',\n  'V1',\n  'V1',\n  'V1',\n  'V1',\n  'V1',\n  'V1',\n  'V1',\n  'V1',\n  'V1',\n  'V1',\n  'V1',\n  'V1',\n  'V1',\n  'V1',\n  'V1',\n  'V1',\n  'V1',\n  'V1',\n  'V1',\n  'V1',\n  ...],\n 'eccrois': array([3., 3., 3., ..., 3., 2., 5.])}"
     },
     "execution_count": 7,
     "metadata": {},
     "output_type": "execute_result"
    }
   ],
   "source": [
    "mask, rois_dict = prep.load_common_mask_and_rois(rois, [[1,2,3,4,5,6,7],[1,2,3,4,5]])\n",
    "rois_dict"
   ],
   "metadata": {
    "collapsed": false,
    "pycharm": {
     "name": "#%%\n"
    }
   }
  },
  {
   "cell_type": "code",
   "execution_count": 8,
   "outputs": [],
   "source": [
    "prf_dict = prep.load_prf_properties_as_dict(prfs, mask)"
   ],
   "metadata": {
    "collapsed": false,
    "pycharm": {
     "name": "#%%\n"
    }
   }
  },
  {
   "cell_type": "code",
   "source": [
    "betas_dict = prep.load_betas_as_dict(betas, design_mat, stim_df['image_idx'], mask, task_keys=['fixation_task','memory_task'], average=True)"
   ],
   "metadata": {
    "collapsed": false,
    "pycharm": {
     "name": "#%%\n"
    }
   },
   "execution_count": 9,
   "outputs": []
  },
  {
   "cell_type": "code",
   "execution_count": 10,
   "outputs": [],
   "source": [
    "betas_df = prep.melt_2D_betas_dict_into_df(betas_dict, x_axis='voxel', y_axis='stim_idx', long_format=True)"
   ],
   "metadata": {
    "collapsed": false,
    "pycharm": {
     "name": "#%%\n"
    }
   }
  },
  {
   "cell_type": "code",
   "execution_count": 11,
   "outputs": [
    {
     "data": {
      "text/plain": "         voxel stim_idx      task     betas\n0            0        0  fixation  1.966667\n1            0        1  fixation  1.096667\n2            0        2  fixation  2.103333\n3            0        3  fixation  1.630000\n4            0        4  fixation  2.940000\n...        ...      ...       ...       ...\n3666091  10910      107       avg  2.618333\n3666092  10910      108       avg  2.253333\n3666093  10910      109       avg  1.633333\n3666094  10910      110       avg  1.805000\n3666095  10910      111       avg  2.786667\n\n[3666096 rows x 4 columns]",
      "text/html": "<div>\n<style scoped>\n    .dataframe tbody tr th:only-of-type {\n        vertical-align: middle;\n    }\n\n    .dataframe tbody tr th {\n        vertical-align: top;\n    }\n\n    .dataframe thead th {\n        text-align: right;\n    }\n</style>\n<table border=\"1\" class=\"dataframe\">\n  <thead>\n    <tr style=\"text-align: right;\">\n      <th></th>\n      <th>voxel</th>\n      <th>stim_idx</th>\n      <th>task</th>\n      <th>betas</th>\n    </tr>\n  </thead>\n  <tbody>\n    <tr>\n      <th>0</th>\n      <td>0</td>\n      <td>0</td>\n      <td>fixation</td>\n      <td>1.966667</td>\n    </tr>\n    <tr>\n      <th>1</th>\n      <td>0</td>\n      <td>1</td>\n      <td>fixation</td>\n      <td>1.096667</td>\n    </tr>\n    <tr>\n      <th>2</th>\n      <td>0</td>\n      <td>2</td>\n      <td>fixation</td>\n      <td>2.103333</td>\n    </tr>\n    <tr>\n      <th>3</th>\n      <td>0</td>\n      <td>3</td>\n      <td>fixation</td>\n      <td>1.630000</td>\n    </tr>\n    <tr>\n      <th>4</th>\n      <td>0</td>\n      <td>4</td>\n      <td>fixation</td>\n      <td>2.940000</td>\n    </tr>\n    <tr>\n      <th>...</th>\n      <td>...</td>\n      <td>...</td>\n      <td>...</td>\n      <td>...</td>\n    </tr>\n    <tr>\n      <th>3666091</th>\n      <td>10910</td>\n      <td>107</td>\n      <td>avg</td>\n      <td>2.618333</td>\n    </tr>\n    <tr>\n      <th>3666092</th>\n      <td>10910</td>\n      <td>108</td>\n      <td>avg</td>\n      <td>2.253333</td>\n    </tr>\n    <tr>\n      <th>3666093</th>\n      <td>10910</td>\n      <td>109</td>\n      <td>avg</td>\n      <td>1.633333</td>\n    </tr>\n    <tr>\n      <th>3666094</th>\n      <td>10910</td>\n      <td>110</td>\n      <td>avg</td>\n      <td>1.805000</td>\n    </tr>\n    <tr>\n      <th>3666095</th>\n      <td>10910</td>\n      <td>111</td>\n      <td>avg</td>\n      <td>2.786667</td>\n    </tr>\n  </tbody>\n</table>\n<p>3666096 rows × 4 columns</p>\n</div>"
     },
     "execution_count": 11,
     "metadata": {},
     "output_type": "execute_result"
    }
   ],
   "source": [
    "load_common_mask_and_rois(rois_path, rois_vals)"
   ],
   "metadata": {
    "collapsed": false,
    "pycharm": {
     "name": "#%%\n"
    }
   }
  },
  {
   "cell_type": "code",
   "execution_count": 12,
   "outputs": [],
   "source": [
    "betas_prf_df = prep.add_1D_prf_dict_to_df(prf_dict, betas_df, rois_dict, on='voxel')"
   ],
   "metadata": {
    "collapsed": false,
    "pycharm": {
     "name": "#%%\n"
    }
   }
  },
  {
   "cell_type": "code",
   "execution_count": 13,
   "outputs": [
    {
     "data": {
      "text/plain": "         voxel stim_idx      task     betas  eccentricity       angle  \\\n0            0        0  fixation  1.966667      1.370705  292.141510   \n1            0        1  fixation  1.096667      1.370705  292.141510   \n2            0        2  fixation  2.103333      1.370705  292.141510   \n3            0        3  fixation  1.630000      1.370705  292.141510   \n4            0        4  fixation  2.940000      1.370705  292.141510   \n...        ...      ...       ...       ...           ...         ...   \n3666091  10910      107       avg  2.618333      6.167487   32.136745   \n3666092  10910      108       avg  2.253333      6.167487   32.136745   \n3666093  10910      109       avg  1.633333      6.167487   32.136745   \n3666094  10910      110       avg  1.805000      6.167487   32.136745   \n3666095  10910      111       avg  2.786667      6.167487   32.136745   \n\n              size visualrois  eccrois  \n0        84.840942         V1      3.0  \n1        84.840942         V1      3.0  \n2        84.840942         V1      3.0  \n3        84.840942         V1      3.0  \n4        84.840942         V1      3.0  \n...            ...        ...      ...  \n3666091   1.082151       None      5.0  \n3666092   1.082151       None      5.0  \n3666093   1.082151       None      5.0  \n3666094   1.082151       None      5.0  \n3666095   1.082151       None      5.0  \n\n[3666096 rows x 9 columns]",
      "text/html": "<div>\n<style scoped>\n    .dataframe tbody tr th:only-of-type {\n        vertical-align: middle;\n    }\n\n    .dataframe tbody tr th {\n        vertical-align: top;\n    }\n\n    .dataframe thead th {\n        text-align: right;\n    }\n</style>\n<table border=\"1\" class=\"dataframe\">\n  <thead>\n    <tr style=\"text-align: right;\">\n      <th></th>\n      <th>voxel</th>\n      <th>stim_idx</th>\n      <th>task</th>\n      <th>betas</th>\n      <th>eccentricity</th>\n      <th>angle</th>\n      <th>size</th>\n      <th>visualrois</th>\n      <th>eccrois</th>\n    </tr>\n  </thead>\n  <tbody>\n    <tr>\n      <th>0</th>\n      <td>0</td>\n      <td>0</td>\n      <td>fixation</td>\n      <td>1.966667</td>\n      <td>1.370705</td>\n      <td>292.141510</td>\n      <td>84.840942</td>\n      <td>V1</td>\n      <td>3.0</td>\n    </tr>\n    <tr>\n      <th>1</th>\n      <td>0</td>\n      <td>1</td>\n      <td>fixation</td>\n      <td>1.096667</td>\n      <td>1.370705</td>\n      <td>292.141510</td>\n      <td>84.840942</td>\n      <td>V1</td>\n      <td>3.0</td>\n    </tr>\n    <tr>\n      <th>2</th>\n      <td>0</td>\n      <td>2</td>\n      <td>fixation</td>\n      <td>2.103333</td>\n      <td>1.370705</td>\n      <td>292.141510</td>\n      <td>84.840942</td>\n      <td>V1</td>\n      <td>3.0</td>\n    </tr>\n    <tr>\n      <th>3</th>\n      <td>0</td>\n      <td>3</td>\n      <td>fixation</td>\n      <td>1.630000</td>\n      <td>1.370705</td>\n      <td>292.141510</td>\n      <td>84.840942</td>\n      <td>V1</td>\n      <td>3.0</td>\n    </tr>\n    <tr>\n      <th>4</th>\n      <td>0</td>\n      <td>4</td>\n      <td>fixation</td>\n      <td>2.940000</td>\n      <td>1.370705</td>\n      <td>292.141510</td>\n      <td>84.840942</td>\n      <td>V1</td>\n      <td>3.0</td>\n    </tr>\n    <tr>\n      <th>...</th>\n      <td>...</td>\n      <td>...</td>\n      <td>...</td>\n      <td>...</td>\n      <td>...</td>\n      <td>...</td>\n      <td>...</td>\n      <td>...</td>\n      <td>...</td>\n    </tr>\n    <tr>\n      <th>3666091</th>\n      <td>10910</td>\n      <td>107</td>\n      <td>avg</td>\n      <td>2.618333</td>\n      <td>6.167487</td>\n      <td>32.136745</td>\n      <td>1.082151</td>\n      <td>None</td>\n      <td>5.0</td>\n    </tr>\n    <tr>\n      <th>3666092</th>\n      <td>10910</td>\n      <td>108</td>\n      <td>avg</td>\n      <td>2.253333</td>\n      <td>6.167487</td>\n      <td>32.136745</td>\n      <td>1.082151</td>\n      <td>None</td>\n      <td>5.0</td>\n    </tr>\n    <tr>\n      <th>3666093</th>\n      <td>10910</td>\n      <td>109</td>\n      <td>avg</td>\n      <td>1.633333</td>\n      <td>6.167487</td>\n      <td>32.136745</td>\n      <td>1.082151</td>\n      <td>None</td>\n      <td>5.0</td>\n    </tr>\n    <tr>\n      <th>3666094</th>\n      <td>10910</td>\n      <td>110</td>\n      <td>avg</td>\n      <td>1.805000</td>\n      <td>6.167487</td>\n      <td>32.136745</td>\n      <td>1.082151</td>\n      <td>None</td>\n      <td>5.0</td>\n    </tr>\n    <tr>\n      <th>3666095</th>\n      <td>10910</td>\n      <td>111</td>\n      <td>avg</td>\n      <td>2.786667</td>\n      <td>6.167487</td>\n      <td>32.136745</td>\n      <td>1.082151</td>\n      <td>None</td>\n      <td>5.0</td>\n    </tr>\n  </tbody>\n</table>\n<p>3666096 rows × 9 columns</p>\n</div>"
     },
     "execution_count": 13,
     "metadata": {},
     "output_type": "execute_result"
    }
   ],
   "source": [
    "betas_prf_df"
   ],
   "metadata": {
    "collapsed": false,
    "pycharm": {
     "name": "#%%\n"
    }
   }
  },
  {
   "cell_type": "code",
   "execution_count": 14,
   "outputs": [
    {
     "data": {
      "text/plain": "     stim_idx  image_idx           names   w_r   w_a     phase  class_idx  \\\n0           0        104        pinwheel   0.0   6.0  0.000000          0   \n1           1        105        pinwheel   0.0   6.0  1.570796          0   \n2           2        106        pinwheel   0.0   6.0  3.141593          0   \n3           3        107        pinwheel   0.0   6.0  4.712389          0   \n4           4        108        pinwheel   0.0  11.0  0.000000          1   \n..        ...        ...             ...   ...   ...       ...        ...   \n107       107        211  intermediate 3  34.0 -14.0  4.712389         26   \n108       108        212  intermediate 4  14.0 -34.0  0.000000         27   \n109       109        213  intermediate 4  14.0 -34.0  1.570796         27   \n110       110        214  intermediate 4  14.0 -34.0  3.141593         27   \n111       111        215  intermediate 4  14.0 -34.0  4.712389         27   \n\n     freq_lvl  \n0           0  \n1           0  \n2           0  \n3           0  \n4           1  \n..        ...  \n107         3  \n108         3  \n109         3  \n110         3  \n111         3  \n\n[112 rows x 8 columns]",
      "text/html": "<div>\n<style scoped>\n    .dataframe tbody tr th:only-of-type {\n        vertical-align: middle;\n    }\n\n    .dataframe tbody tr th {\n        vertical-align: top;\n    }\n\n    .dataframe thead th {\n        text-align: right;\n    }\n</style>\n<table border=\"1\" class=\"dataframe\">\n  <thead>\n    <tr style=\"text-align: right;\">\n      <th></th>\n      <th>stim_idx</th>\n      <th>image_idx</th>\n      <th>names</th>\n      <th>w_r</th>\n      <th>w_a</th>\n      <th>phase</th>\n      <th>class_idx</th>\n      <th>freq_lvl</th>\n    </tr>\n  </thead>\n  <tbody>\n    <tr>\n      <th>0</th>\n      <td>0</td>\n      <td>104</td>\n      <td>pinwheel</td>\n      <td>0.0</td>\n      <td>6.0</td>\n      <td>0.000000</td>\n      <td>0</td>\n      <td>0</td>\n    </tr>\n    <tr>\n      <th>1</th>\n      <td>1</td>\n      <td>105</td>\n      <td>pinwheel</td>\n      <td>0.0</td>\n      <td>6.0</td>\n      <td>1.570796</td>\n      <td>0</td>\n      <td>0</td>\n    </tr>\n    <tr>\n      <th>2</th>\n      <td>2</td>\n      <td>106</td>\n      <td>pinwheel</td>\n      <td>0.0</td>\n      <td>6.0</td>\n      <td>3.141593</td>\n      <td>0</td>\n      <td>0</td>\n    </tr>\n    <tr>\n      <th>3</th>\n      <td>3</td>\n      <td>107</td>\n      <td>pinwheel</td>\n      <td>0.0</td>\n      <td>6.0</td>\n      <td>4.712389</td>\n      <td>0</td>\n      <td>0</td>\n    </tr>\n    <tr>\n      <th>4</th>\n      <td>4</td>\n      <td>108</td>\n      <td>pinwheel</td>\n      <td>0.0</td>\n      <td>11.0</td>\n      <td>0.000000</td>\n      <td>1</td>\n      <td>1</td>\n    </tr>\n    <tr>\n      <th>...</th>\n      <td>...</td>\n      <td>...</td>\n      <td>...</td>\n      <td>...</td>\n      <td>...</td>\n      <td>...</td>\n      <td>...</td>\n      <td>...</td>\n    </tr>\n    <tr>\n      <th>107</th>\n      <td>107</td>\n      <td>211</td>\n      <td>intermediate 3</td>\n      <td>34.0</td>\n      <td>-14.0</td>\n      <td>4.712389</td>\n      <td>26</td>\n      <td>3</td>\n    </tr>\n    <tr>\n      <th>108</th>\n      <td>108</td>\n      <td>212</td>\n      <td>intermediate 4</td>\n      <td>14.0</td>\n      <td>-34.0</td>\n      <td>0.000000</td>\n      <td>27</td>\n      <td>3</td>\n    </tr>\n    <tr>\n      <th>109</th>\n      <td>109</td>\n      <td>213</td>\n      <td>intermediate 4</td>\n      <td>14.0</td>\n      <td>-34.0</td>\n      <td>1.570796</td>\n      <td>27</td>\n      <td>3</td>\n    </tr>\n    <tr>\n      <th>110</th>\n      <td>110</td>\n      <td>214</td>\n      <td>intermediate 4</td>\n      <td>14.0</td>\n      <td>-34.0</td>\n      <td>3.141593</td>\n      <td>27</td>\n      <td>3</td>\n    </tr>\n    <tr>\n      <th>111</th>\n      <td>111</td>\n      <td>215</td>\n      <td>intermediate 4</td>\n      <td>14.0</td>\n      <td>-34.0</td>\n      <td>4.712389</td>\n      <td>27</td>\n      <td>3</td>\n    </tr>\n  </tbody>\n</table>\n<p>112 rows × 8 columns</p>\n</div>"
     },
     "execution_count": 14,
     "metadata": {},
     "output_type": "execute_result"
    }
   ],
   "source": [
    "stim_df"
   ],
   "metadata": {
    "collapsed": false,
    "pycharm": {
     "name": "#%%\n"
    }
   }
  },
  {
   "cell_type": "code",
   "execution_count": 15,
   "outputs": [
    {
     "data": {
      "text/plain": "        stim_idx  image_idx           names   w_r   w_a     phase  class_idx  \\\n0              0        104        pinwheel   0.0   6.0  0.000000          0   \n1              0        104        pinwheel   0.0   6.0  0.000000          0   \n2              0        104        pinwheel   0.0   6.0  0.000000          0   \n3              0        104        pinwheel   0.0   6.0  0.000000          0   \n4              0        104        pinwheel   0.0   6.0  0.000000          0   \n...          ...        ...             ...   ...   ...       ...        ...   \n3666091      111        215  intermediate 4  14.0 -34.0  4.712389         27   \n3666092      111        215  intermediate 4  14.0 -34.0  4.712389         27   \n3666093      111        215  intermediate 4  14.0 -34.0  4.712389         27   \n3666094      111        215  intermediate 4  14.0 -34.0  4.712389         27   \n3666095      111        215  intermediate 4  14.0 -34.0  4.712389         27   \n\n         freq_lvl  voxel      task     betas  eccentricity       angle  \\\n0               0      0  fixation  1.966667      1.370705  292.141510   \n1               0      0    memory  0.676667      1.370705  292.141510   \n2               0      0       avg  1.321667      1.370705  292.141510   \n3               0      1  fixation  1.883333      1.270235  291.033051   \n4               0      1    memory  0.763333      1.270235  291.033051   \n...           ...    ...       ...       ...           ...         ...   \n3666091         3  10909    memory -0.143333      1.249840    5.056096   \n3666092         3  10909       avg  0.035000      1.249840    5.056096   \n3666093         3  10910  fixation  2.303333      6.167487   32.136745   \n3666094         3  10910    memory  3.270000      6.167487   32.136745   \n3666095         3  10910       avg  2.786667      6.167487   32.136745   \n\n               size visualrois  eccrois  \n0         84.840942         V1      3.0  \n1         84.840942         V1      3.0  \n2         84.840942         V1      3.0  \n3        170.579865         V1      3.0  \n4        170.579865         V1      3.0  \n...             ...        ...      ...  \n3666091   53.251953         V1      2.0  \n3666092   53.251953         V1      2.0  \n3666093    1.082151       None      5.0  \n3666094    1.082151       None      5.0  \n3666095    1.082151       None      5.0  \n\n[3666096 rows x 16 columns]",
      "text/html": "<div>\n<style scoped>\n    .dataframe tbody tr th:only-of-type {\n        vertical-align: middle;\n    }\n\n    .dataframe tbody tr th {\n        vertical-align: top;\n    }\n\n    .dataframe thead th {\n        text-align: right;\n    }\n</style>\n<table border=\"1\" class=\"dataframe\">\n  <thead>\n    <tr style=\"text-align: right;\">\n      <th></th>\n      <th>stim_idx</th>\n      <th>image_idx</th>\n      <th>names</th>\n      <th>w_r</th>\n      <th>w_a</th>\n      <th>phase</th>\n      <th>class_idx</th>\n      <th>freq_lvl</th>\n      <th>voxel</th>\n      <th>task</th>\n      <th>betas</th>\n      <th>eccentricity</th>\n      <th>angle</th>\n      <th>size</th>\n      <th>visualrois</th>\n      <th>eccrois</th>\n    </tr>\n  </thead>\n  <tbody>\n    <tr>\n      <th>0</th>\n      <td>0</td>\n      <td>104</td>\n      <td>pinwheel</td>\n      <td>0.0</td>\n      <td>6.0</td>\n      <td>0.000000</td>\n      <td>0</td>\n      <td>0</td>\n      <td>0</td>\n      <td>fixation</td>\n      <td>1.966667</td>\n      <td>1.370705</td>\n      <td>292.141510</td>\n      <td>84.840942</td>\n      <td>V1</td>\n      <td>3.0</td>\n    </tr>\n    <tr>\n      <th>1</th>\n      <td>0</td>\n      <td>104</td>\n      <td>pinwheel</td>\n      <td>0.0</td>\n      <td>6.0</td>\n      <td>0.000000</td>\n      <td>0</td>\n      <td>0</td>\n      <td>0</td>\n      <td>memory</td>\n      <td>0.676667</td>\n      <td>1.370705</td>\n      <td>292.141510</td>\n      <td>84.840942</td>\n      <td>V1</td>\n      <td>3.0</td>\n    </tr>\n    <tr>\n      <th>2</th>\n      <td>0</td>\n      <td>104</td>\n      <td>pinwheel</td>\n      <td>0.0</td>\n      <td>6.0</td>\n      <td>0.000000</td>\n      <td>0</td>\n      <td>0</td>\n      <td>0</td>\n      <td>avg</td>\n      <td>1.321667</td>\n      <td>1.370705</td>\n      <td>292.141510</td>\n      <td>84.840942</td>\n      <td>V1</td>\n      <td>3.0</td>\n    </tr>\n    <tr>\n      <th>3</th>\n      <td>0</td>\n      <td>104</td>\n      <td>pinwheel</td>\n      <td>0.0</td>\n      <td>6.0</td>\n      <td>0.000000</td>\n      <td>0</td>\n      <td>0</td>\n      <td>1</td>\n      <td>fixation</td>\n      <td>1.883333</td>\n      <td>1.270235</td>\n      <td>291.033051</td>\n      <td>170.579865</td>\n      <td>V1</td>\n      <td>3.0</td>\n    </tr>\n    <tr>\n      <th>4</th>\n      <td>0</td>\n      <td>104</td>\n      <td>pinwheel</td>\n      <td>0.0</td>\n      <td>6.0</td>\n      <td>0.000000</td>\n      <td>0</td>\n      <td>0</td>\n      <td>1</td>\n      <td>memory</td>\n      <td>0.763333</td>\n      <td>1.270235</td>\n      <td>291.033051</td>\n      <td>170.579865</td>\n      <td>V1</td>\n      <td>3.0</td>\n    </tr>\n    <tr>\n      <th>...</th>\n      <td>...</td>\n      <td>...</td>\n      <td>...</td>\n      <td>...</td>\n      <td>...</td>\n      <td>...</td>\n      <td>...</td>\n      <td>...</td>\n      <td>...</td>\n      <td>...</td>\n      <td>...</td>\n      <td>...</td>\n      <td>...</td>\n      <td>...</td>\n      <td>...</td>\n      <td>...</td>\n    </tr>\n    <tr>\n      <th>3666091</th>\n      <td>111</td>\n      <td>215</td>\n      <td>intermediate 4</td>\n      <td>14.0</td>\n      <td>-34.0</td>\n      <td>4.712389</td>\n      <td>27</td>\n      <td>3</td>\n      <td>10909</td>\n      <td>memory</td>\n      <td>-0.143333</td>\n      <td>1.249840</td>\n      <td>5.056096</td>\n      <td>53.251953</td>\n      <td>V1</td>\n      <td>2.0</td>\n    </tr>\n    <tr>\n      <th>3666092</th>\n      <td>111</td>\n      <td>215</td>\n      <td>intermediate 4</td>\n      <td>14.0</td>\n      <td>-34.0</td>\n      <td>4.712389</td>\n      <td>27</td>\n      <td>3</td>\n      <td>10909</td>\n      <td>avg</td>\n      <td>0.035000</td>\n      <td>1.249840</td>\n      <td>5.056096</td>\n      <td>53.251953</td>\n      <td>V1</td>\n      <td>2.0</td>\n    </tr>\n    <tr>\n      <th>3666093</th>\n      <td>111</td>\n      <td>215</td>\n      <td>intermediate 4</td>\n      <td>14.0</td>\n      <td>-34.0</td>\n      <td>4.712389</td>\n      <td>27</td>\n      <td>3</td>\n      <td>10910</td>\n      <td>fixation</td>\n      <td>2.303333</td>\n      <td>6.167487</td>\n      <td>32.136745</td>\n      <td>1.082151</td>\n      <td>None</td>\n      <td>5.0</td>\n    </tr>\n    <tr>\n      <th>3666094</th>\n      <td>111</td>\n      <td>215</td>\n      <td>intermediate 4</td>\n      <td>14.0</td>\n      <td>-34.0</td>\n      <td>4.712389</td>\n      <td>27</td>\n      <td>3</td>\n      <td>10910</td>\n      <td>memory</td>\n      <td>3.270000</td>\n      <td>6.167487</td>\n      <td>32.136745</td>\n      <td>1.082151</td>\n      <td>None</td>\n      <td>5.0</td>\n    </tr>\n    <tr>\n      <th>3666095</th>\n      <td>111</td>\n      <td>215</td>\n      <td>intermediate 4</td>\n      <td>14.0</td>\n      <td>-34.0</td>\n      <td>4.712389</td>\n      <td>27</td>\n      <td>3</td>\n      <td>10910</td>\n      <td>avg</td>\n      <td>2.786667</td>\n      <td>6.167487</td>\n      <td>32.136745</td>\n      <td>1.082151</td>\n      <td>None</td>\n      <td>5.0</td>\n    </tr>\n  </tbody>\n</table>\n<p>3666096 rows × 16 columns</p>\n</div>"
     },
     "execution_count": 15,
     "metadata": {},
     "output_type": "execute_result"
    }
   ],
   "source": [
    "prep.merge_stim_df_and_betas_df(stim_df, betas_prf_df, on='stim_idx')"
   ],
   "metadata": {
    "collapsed": false,
    "pycharm": {
     "name": "#%%\n"
    }
   }
  },
  {
   "cell_type": "code",
   "execution_count": 16,
   "outputs": [],
   "source": [
    "sf_df = prep.merge_all(stim_df,\n",
    "                       betas_dict,\n",
    "                       prf_dict,\n",
    "                       rois_dict,\n",
    "                       betas_dict_xy=('voxel','stim_idx'),\n",
    "                       betas_long_format=True,\n",
    "                       between_stim_and_voxel='stim_idx',\n",
    "                       between_voxels='voxel')"
   ],
   "metadata": {
    "collapsed": false,
    "pycharm": {
     "name": "#%%\n"
    }
   }
  },
  {
   "cell_type": "code",
   "execution_count": 17,
   "outputs": [
    {
     "data": {
      "text/plain": "        stim_idx  image_idx           names   w_r   w_a     phase  class_idx  \\\n0              0        104        pinwheel   0.0   6.0  0.000000          0   \n1              0        104        pinwheel   0.0   6.0  0.000000          0   \n2              0        104        pinwheel   0.0   6.0  0.000000          0   \n3              0        104        pinwheel   0.0   6.0  0.000000          0   \n4              0        104        pinwheel   0.0   6.0  0.000000          0   \n...          ...        ...             ...   ...   ...       ...        ...   \n3666091      111        215  intermediate 4  14.0 -34.0  4.712389         27   \n3666092      111        215  intermediate 4  14.0 -34.0  4.712389         27   \n3666093      111        215  intermediate 4  14.0 -34.0  4.712389         27   \n3666094      111        215  intermediate 4  14.0 -34.0  4.712389         27   \n3666095      111        215  intermediate 4  14.0 -34.0  4.712389         27   \n\n         freq_lvl  voxel      task     betas  eccentricity       angle  \\\n0               0      0  fixation  1.966667      1.370705  292.141510   \n1               0      0    memory  0.676667      1.370705  292.141510   \n2               0      0       avg  1.321667      1.370705  292.141510   \n3               0      1  fixation  1.883333      1.270235  291.033051   \n4               0      1    memory  0.763333      1.270235  291.033051   \n...           ...    ...       ...       ...           ...         ...   \n3666091         3  10909    memory -0.143333      1.249840    5.056096   \n3666092         3  10909       avg  0.035000      1.249840    5.056096   \n3666093         3  10910  fixation  2.303333      6.167487   32.136745   \n3666094         3  10910    memory  3.270000      6.167487   32.136745   \n3666095         3  10910       avg  2.786667      6.167487   32.136745   \n\n               size visualrois  eccrois  \n0         84.840942         V1      3.0  \n1         84.840942         V1      3.0  \n2         84.840942         V1      3.0  \n3        170.579865         V1      3.0  \n4        170.579865         V1      3.0  \n...             ...        ...      ...  \n3666091   53.251953         V1      2.0  \n3666092   53.251953         V1      2.0  \n3666093    1.082151       None      5.0  \n3666094    1.082151       None      5.0  \n3666095    1.082151       None      5.0  \n\n[3666096 rows x 16 columns]",
      "text/html": "<div>\n<style scoped>\n    .dataframe tbody tr th:only-of-type {\n        vertical-align: middle;\n    }\n\n    .dataframe tbody tr th {\n        vertical-align: top;\n    }\n\n    .dataframe thead th {\n        text-align: right;\n    }\n</style>\n<table border=\"1\" class=\"dataframe\">\n  <thead>\n    <tr style=\"text-align: right;\">\n      <th></th>\n      <th>stim_idx</th>\n      <th>image_idx</th>\n      <th>names</th>\n      <th>w_r</th>\n      <th>w_a</th>\n      <th>phase</th>\n      <th>class_idx</th>\n      <th>freq_lvl</th>\n      <th>voxel</th>\n      <th>task</th>\n      <th>betas</th>\n      <th>eccentricity</th>\n      <th>angle</th>\n      <th>size</th>\n      <th>visualrois</th>\n      <th>eccrois</th>\n    </tr>\n  </thead>\n  <tbody>\n    <tr>\n      <th>0</th>\n      <td>0</td>\n      <td>104</td>\n      <td>pinwheel</td>\n      <td>0.0</td>\n      <td>6.0</td>\n      <td>0.000000</td>\n      <td>0</td>\n      <td>0</td>\n      <td>0</td>\n      <td>fixation</td>\n      <td>1.966667</td>\n      <td>1.370705</td>\n      <td>292.141510</td>\n      <td>84.840942</td>\n      <td>V1</td>\n      <td>3.0</td>\n    </tr>\n    <tr>\n      <th>1</th>\n      <td>0</td>\n      <td>104</td>\n      <td>pinwheel</td>\n      <td>0.0</td>\n      <td>6.0</td>\n      <td>0.000000</td>\n      <td>0</td>\n      <td>0</td>\n      <td>0</td>\n      <td>memory</td>\n      <td>0.676667</td>\n      <td>1.370705</td>\n      <td>292.141510</td>\n      <td>84.840942</td>\n      <td>V1</td>\n      <td>3.0</td>\n    </tr>\n    <tr>\n      <th>2</th>\n      <td>0</td>\n      <td>104</td>\n      <td>pinwheel</td>\n      <td>0.0</td>\n      <td>6.0</td>\n      <td>0.000000</td>\n      <td>0</td>\n      <td>0</td>\n      <td>0</td>\n      <td>avg</td>\n      <td>1.321667</td>\n      <td>1.370705</td>\n      <td>292.141510</td>\n      <td>84.840942</td>\n      <td>V1</td>\n      <td>3.0</td>\n    </tr>\n    <tr>\n      <th>3</th>\n      <td>0</td>\n      <td>104</td>\n      <td>pinwheel</td>\n      <td>0.0</td>\n      <td>6.0</td>\n      <td>0.000000</td>\n      <td>0</td>\n      <td>0</td>\n      <td>1</td>\n      <td>fixation</td>\n      <td>1.883333</td>\n      <td>1.270235</td>\n      <td>291.033051</td>\n      <td>170.579865</td>\n      <td>V1</td>\n      <td>3.0</td>\n    </tr>\n    <tr>\n      <th>4</th>\n      <td>0</td>\n      <td>104</td>\n      <td>pinwheel</td>\n      <td>0.0</td>\n      <td>6.0</td>\n      <td>0.000000</td>\n      <td>0</td>\n      <td>0</td>\n      <td>1</td>\n      <td>memory</td>\n      <td>0.763333</td>\n      <td>1.270235</td>\n      <td>291.033051</td>\n      <td>170.579865</td>\n      <td>V1</td>\n      <td>3.0</td>\n    </tr>\n    <tr>\n      <th>...</th>\n      <td>...</td>\n      <td>...</td>\n      <td>...</td>\n      <td>...</td>\n      <td>...</td>\n      <td>...</td>\n      <td>...</td>\n      <td>...</td>\n      <td>...</td>\n      <td>...</td>\n      <td>...</td>\n      <td>...</td>\n      <td>...</td>\n      <td>...</td>\n      <td>...</td>\n      <td>...</td>\n    </tr>\n    <tr>\n      <th>3666091</th>\n      <td>111</td>\n      <td>215</td>\n      <td>intermediate 4</td>\n      <td>14.0</td>\n      <td>-34.0</td>\n      <td>4.712389</td>\n      <td>27</td>\n      <td>3</td>\n      <td>10909</td>\n      <td>memory</td>\n      <td>-0.143333</td>\n      <td>1.249840</td>\n      <td>5.056096</td>\n      <td>53.251953</td>\n      <td>V1</td>\n      <td>2.0</td>\n    </tr>\n    <tr>\n      <th>3666092</th>\n      <td>111</td>\n      <td>215</td>\n      <td>intermediate 4</td>\n      <td>14.0</td>\n      <td>-34.0</td>\n      <td>4.712389</td>\n      <td>27</td>\n      <td>3</td>\n      <td>10909</td>\n      <td>avg</td>\n      <td>0.035000</td>\n      <td>1.249840</td>\n      <td>5.056096</td>\n      <td>53.251953</td>\n      <td>V1</td>\n      <td>2.0</td>\n    </tr>\n    <tr>\n      <th>3666093</th>\n      <td>111</td>\n      <td>215</td>\n      <td>intermediate 4</td>\n      <td>14.0</td>\n      <td>-34.0</td>\n      <td>4.712389</td>\n      <td>27</td>\n      <td>3</td>\n      <td>10910</td>\n      <td>fixation</td>\n      <td>2.303333</td>\n      <td>6.167487</td>\n      <td>32.136745</td>\n      <td>1.082151</td>\n      <td>None</td>\n      <td>5.0</td>\n    </tr>\n    <tr>\n      <th>3666094</th>\n      <td>111</td>\n      <td>215</td>\n      <td>intermediate 4</td>\n      <td>14.0</td>\n      <td>-34.0</td>\n      <td>4.712389</td>\n      <td>27</td>\n      <td>3</td>\n      <td>10910</td>\n      <td>memory</td>\n      <td>3.270000</td>\n      <td>6.167487</td>\n      <td>32.136745</td>\n      <td>1.082151</td>\n      <td>None</td>\n      <td>5.0</td>\n    </tr>\n    <tr>\n      <th>3666095</th>\n      <td>111</td>\n      <td>215</td>\n      <td>intermediate 4</td>\n      <td>14.0</td>\n      <td>-34.0</td>\n      <td>4.712389</td>\n      <td>27</td>\n      <td>3</td>\n      <td>10910</td>\n      <td>avg</td>\n      <td>2.786667</td>\n      <td>6.167487</td>\n      <td>32.136745</td>\n      <td>1.082151</td>\n      <td>None</td>\n      <td>5.0</td>\n    </tr>\n  </tbody>\n</table>\n<p>3666096 rows × 16 columns</p>\n</div>"
     },
     "execution_count": 17,
     "metadata": {},
     "output_type": "execute_result"
    }
   ],
   "source": [
    "sf_df"
   ],
   "metadata": {
    "collapsed": false,
    "pycharm": {
     "name": "#%%\n"
    }
   }
  },
  {
   "cell_type": "code",
   "execution_count": 40,
   "outputs": [],
   "source": [
    "sf_df['local_ori'] = prep.calculate_local_orientation(sf_df['w_a'],\n",
    "                                                      sf_df['w_r'],\n",
    "                                                      sf_df['angle'], radians=False)"
   ],
   "metadata": {
    "collapsed": false,
    "pycharm": {
     "name": "#%%\n"
    }
   }
  },
  {
   "cell_type": "code",
   "execution_count": 72,
   "outputs": [],
   "source": [
    "sf_df['local_sf'] = prep.calculate_local_sf(sf_df['w_a'],\n",
    "                                            sf_df['w_r'],\n",
    "                                            sf_df['eccentricity'])"
   ],
   "metadata": {
    "collapsed": false,
    "pycharm": {
     "name": "#%%\n"
    }
   }
  },
  {
   "cell_type": "code",
   "execution_count": null,
   "outputs": [],
   "source": [],
   "metadata": {
    "collapsed": false,
    "pycharm": {
     "name": "#%%\n"
    }
   }
  },
  {
   "cell_type": "code",
   "execution_count": 99,
   "outputs": [
    {
     "name": "stdout",
     "output_type": "stream",
     "text": [
      "**subject subj01 V1\n",
      "stored data: voxel: 0, ecc: 1.3707048892974854, angle: 292.1415100097656\n",
      "local orientation: 0.38644225103369223, local sf: 0.6966704985205044\n",
      "Billy function: local orientation: 0.38644225103369206, local sf: 0.6966704985205046\n",
      "**subject subj01 V2\n",
      "stored data: voxel: 0, ecc: 1.3707048892974854, angle: 292.1415100097656\n",
      "local orientation: 0.38644225103369223, local sf: 0.6966704985205044\n",
      "Billy function: local orientation: 0.38644225103369206, local sf: 0.6966704985205046\n",
      "**subject subj01 V3\n",
      "stored data: voxel: 0, ecc: 1.3707048892974854, angle: 292.1415100097656\n",
      "local orientation: 0.38644225103369223, local sf: 0.6966704985205044\n",
      "Billy function: local orientation: 0.38644225103369206, local sf: 0.6966704985205046\n",
      "**subject subj01 h4v\n",
      "stored data: voxel: 0, ecc: 1.3707048892974854, angle: 292.1415100097656\n",
      "local orientation: 0.38644225103369223, local sf: 0.6966704985205044\n",
      "Billy function: local orientation: 0.38644225103369206, local sf: 0.6966704985205046\n",
      "**subject subj02 V1\n",
      "stored data: voxel: 0, ecc: 1.3707048892974854, angle: 292.1415100097656\n",
      "local orientation: 0.38644225103369223, local sf: 0.6966704985205044\n",
      "Billy function: local orientation: 0.38644225103369206, local sf: 0.6966704985205046\n",
      "**subject subj02 V2\n",
      "stored data: voxel: 0, ecc: 1.3707048892974854, angle: 292.1415100097656\n",
      "local orientation: 0.38644225103369223, local sf: 0.6966704985205044\n",
      "Billy function: local orientation: 0.38644225103369206, local sf: 0.6966704985205046\n",
      "**subject subj02 V3\n",
      "stored data: voxel: 0, ecc: 1.3707048892974854, angle: 292.1415100097656\n",
      "local orientation: 0.38644225103369223, local sf: 0.6966704985205044\n",
      "Billy function: local orientation: 0.38644225103369206, local sf: 0.6966704985205046\n",
      "**subject subj02 h4v\n",
      "stored data: voxel: 0, ecc: 1.3707048892974854, angle: 292.1415100097656\n",
      "local orientation: 0.38644225103369223, local sf: 0.6966704985205044\n",
      "Billy function: local orientation: 0.38644225103369206, local sf: 0.6966704985205046\n",
      "**subject subj03 V1\n",
      "stored data: voxel: 0, ecc: 1.3707048892974854, angle: 292.1415100097656\n",
      "local orientation: 0.38644225103369223, local sf: 0.6966704985205044\n",
      "Billy function: local orientation: 0.38644225103369206, local sf: 0.6966704985205046\n",
      "**subject subj03 V2\n",
      "stored data: voxel: 0, ecc: 1.3707048892974854, angle: 292.1415100097656\n",
      "local orientation: 0.38644225103369223, local sf: 0.6966704985205044\n",
      "Billy function: local orientation: 0.38644225103369206, local sf: 0.6966704985205046\n",
      "**subject subj03 V3\n",
      "stored data: voxel: 0, ecc: 1.3707048892974854, angle: 292.1415100097656\n",
      "local orientation: 0.38644225103369223, local sf: 0.6966704985205044\n",
      "Billy function: local orientation: 0.38644225103369206, local sf: 0.6966704985205046\n",
      "**subject subj03 h4v\n",
      "stored data: voxel: 0, ecc: 1.3707048892974854, angle: 292.1415100097656\n",
      "local orientation: 0.38644225103369223, local sf: 0.6966704985205044\n",
      "Billy function: local orientation: 0.38644225103369206, local sf: 0.6966704985205046\n",
      "**subject subj04 V1\n",
      "stored data: voxel: 0, ecc: 1.3707048892974854, angle: 292.1415100097656\n",
      "local orientation: 0.38644225103369223, local sf: 0.6966704985205044\n",
      "Billy function: local orientation: 0.38644225103369206, local sf: 0.6966704985205046\n",
      "**subject subj04 V2\n",
      "stored data: voxel: 0, ecc: 1.3707048892974854, angle: 292.1415100097656\n",
      "local orientation: 0.38644225103369223, local sf: 0.6966704985205044\n",
      "Billy function: local orientation: 0.38644225103369206, local sf: 0.6966704985205046\n",
      "**subject subj04 V3\n",
      "stored data: voxel: 0, ecc: 1.3707048892974854, angle: 292.1415100097656\n",
      "local orientation: 0.38644225103369223, local sf: 0.6966704985205044\n",
      "Billy function: local orientation: 0.38644225103369206, local sf: 0.6966704985205046\n",
      "**subject subj04 h4v\n",
      "stored data: voxel: 0, ecc: 1.3707048892974854, angle: 292.1415100097656\n",
      "local orientation: 0.38644225103369223, local sf: 0.6966704985205044\n",
      "Billy function: local orientation: 0.38644225103369206, local sf: 0.6966704985205046\n",
      "**subject subj05 V1\n",
      "stored data: voxel: 0, ecc: 1.3707048892974854, angle: 292.1415100097656\n",
      "local orientation: 0.38644225103369223, local sf: 0.6966704985205044\n",
      "Billy function: local orientation: 0.38644225103369206, local sf: 0.6966704985205046\n",
      "**subject subj05 V2\n",
      "stored data: voxel: 0, ecc: 1.3707048892974854, angle: 292.1415100097656\n",
      "local orientation: 0.38644225103369223, local sf: 0.6966704985205044\n",
      "Billy function: local orientation: 0.38644225103369206, local sf: 0.6966704985205046\n",
      "**subject subj05 V3\n",
      "stored data: voxel: 0, ecc: 1.3707048892974854, angle: 292.1415100097656\n",
      "local orientation: 0.38644225103369223, local sf: 0.6966704985205044\n",
      "Billy function: local orientation: 0.38644225103369206, local sf: 0.6966704985205046\n",
      "**subject subj05 h4v\n",
      "stored data: voxel: 0, ecc: 1.3707048892974854, angle: 292.1415100097656\n",
      "local orientation: 0.38644225103369223, local sf: 0.6966704985205044\n",
      "Billy function: local orientation: 0.38644225103369206, local sf: 0.6966704985205046\n",
      "**subject subj06 V1\n",
      "stored data: voxel: 0, ecc: 1.3707048892974854, angle: 292.1415100097656\n",
      "local orientation: 0.38644225103369223, local sf: 0.6966704985205044\n",
      "Billy function: local orientation: 0.38644225103369206, local sf: 0.6966704985205046\n",
      "**subject subj06 V2\n",
      "stored data: voxel: 0, ecc: 1.3707048892974854, angle: 292.1415100097656\n",
      "local orientation: 0.38644225103369223, local sf: 0.6966704985205044\n",
      "Billy function: local orientation: 0.38644225103369206, local sf: 0.6966704985205046\n",
      "**subject subj06 V3\n",
      "stored data: voxel: 0, ecc: 1.3707048892974854, angle: 292.1415100097656\n",
      "local orientation: 0.38644225103369223, local sf: 0.6966704985205044\n",
      "Billy function: local orientation: 0.38644225103369206, local sf: 0.6966704985205046\n",
      "**subject subj06 h4v\n",
      "stored data: voxel: 0, ecc: 1.3707048892974854, angle: 292.1415100097656\n",
      "local orientation: 0.38644225103369223, local sf: 0.6966704985205044\n",
      "Billy function: local orientation: 0.38644225103369206, local sf: 0.6966704985205046\n",
      "**subject subj07 V1\n",
      "stored data: voxel: 0, ecc: 1.3707048892974854, angle: 292.1415100097656\n",
      "local orientation: 0.38644225103369223, local sf: 0.6966704985205044\n",
      "Billy function: local orientation: 0.38644225103369206, local sf: 0.6966704985205046\n",
      "**subject subj07 V2\n",
      "stored data: voxel: 0, ecc: 1.3707048892974854, angle: 292.1415100097656\n",
      "local orientation: 0.38644225103369223, local sf: 0.6966704985205044\n",
      "Billy function: local orientation: 0.38644225103369206, local sf: 0.6966704985205046\n",
      "**subject subj07 V3\n",
      "stored data: voxel: 0, ecc: 1.3707048892974854, angle: 292.1415100097656\n",
      "local orientation: 0.38644225103369223, local sf: 0.6966704985205044\n",
      "Billy function: local orientation: 0.38644225103369206, local sf: 0.6966704985205046\n",
      "**subject subj07 h4v\n",
      "stored data: voxel: 0, ecc: 1.3707048892974854, angle: 292.1415100097656\n",
      "local orientation: 0.38644225103369223, local sf: 0.6966704985205044\n",
      "Billy function: local orientation: 0.38644225103369206, local sf: 0.6966704985205046\n",
      "**subject subj08 V1\n",
      "stored data: voxel: 0, ecc: 1.3707048892974854, angle: 292.1415100097656\n",
      "local orientation: 0.38644225103369223, local sf: 0.6966704985205044\n",
      "Billy function: local orientation: 0.38644225103369206, local sf: 0.6966704985205046\n",
      "**subject subj08 V2\n",
      "stored data: voxel: 0, ecc: 1.3707048892974854, angle: 292.1415100097656\n",
      "local orientation: 0.38644225103369223, local sf: 0.6966704985205044\n",
      "Billy function: local orientation: 0.38644225103369206, local sf: 0.6966704985205046\n",
      "**subject subj08 V3\n",
      "stored data: voxel: 0, ecc: 1.3707048892974854, angle: 292.1415100097656\n",
      "local orientation: 0.38644225103369223, local sf: 0.6966704985205044\n",
      "Billy function: local orientation: 0.38644225103369206, local sf: 0.6966704985205046\n",
      "**subject subj08 h4v\n",
      "stored data: voxel: 0, ecc: 1.3707048892974854, angle: 292.1415100097656\n",
      "local orientation: 0.38644225103369223, local sf: 0.6966704985205044\n",
      "Billy function: local orientation: 0.38644225103369206, local sf: 0.6966704985205046\n"
     ]
    }
   ],
   "source": [
    "from sfp import stimuli\n",
    "sn_list = np.arange(1,9)\n",
    "roi_list = ['V1','V2','V3','h4v']\n",
    "\n",
    "for sn, roi in itertools.product(sn_list, roi_list):\n",
    "    subj = utils.sub_number_to_string(sn, 'nsdsyn')\n",
    "    print(f'**subject {subj} {roi}')\n",
    "    s = pd.read_csv(f'/Volumes/server/Projects/sfp_nsd/derivatives_old/dataframes/nsdsyn/{subj}_stim_voxel_info_df_vs-pRFsigma_{roi}_mean.csv')\n",
    "    random_vox = a.iloc[0]\n",
    "    print(f'stored data: voxel: {random_vox.voxel}, ecc: {random_vox.eccentricity}, angle: {random_vox.angle}\\nlocal orientation: {random_vox.local_ori}, local sf: {random_vox.local_sf}')\n",
    "    _, _, local_sf, local_ori = stimuli.sf_cpd(714/2, 4.2, eccen=random_vox.eccentricity, angle=np.deg2rad(random_vox.angle), w_r=random_vox.w_r, w_a=random_vox.w_a)\n",
    "    print(f'Billy function: local orientation: {local_ori}, local sf: {local_sf}')\n",
    "    if np.round(random_vox.local_ori,4) != np.round(local_ori, 4):\n",
    "        print('! different local orientation')\n",
    "    if np.round(random_vox.local_sf,4) != np.round(local_sf, 4):\n",
    "        print('! different local sf')"
   ],
   "metadata": {
    "collapsed": false,
    "pycharm": {
     "name": "#%%\n"
    }
   }
  }
 ],
 "metadata": {
  "kernelspec": {
   "display_name": "Python 3",
   "language": "python",
   "name": "python3"
  },
  "language_info": {
   "codemirror_mode": {
    "name": "ipython",
    "version": 2
   },
   "file_extension": ".py",
   "mimetype": "text/x-python",
   "name": "python",
   "nbconvert_exporter": "python",
   "pygments_lexer": "ipython2",
   "version": "2.7.6"
  }
 },
 "nbformat": 4,
 "nbformat_minor": 0
}