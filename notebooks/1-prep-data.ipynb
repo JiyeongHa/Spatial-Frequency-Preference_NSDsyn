{
 "cells": [
  {
   "cell_type": "code",
   "execution_count": 2,
   "metadata": {
    "collapsed": true
   },
   "outputs": [],
   "source": [
    "import sys\n",
    "sys.path.append('..')\n",
    "import os\n",
    "import pandas as pd\n",
    "import numpy as np\n",
    "import matplotlib.pyplot as plt\n",
    "import seaborn as sns\n",
    "from sfp_nsdsyn import *\n",
    "import warnings\n",
    "import itertools\n",
    "warnings.filterwarnings(\"ignore\", category=UserWarning)\n",
    "pd.options.mode.chained_assignment = None\n",
    "%load_ext autoreload\n",
    "%autoreload 2"
   ]
  },
  {
   "cell_type": "code",
   "execution_count": 104,
   "outputs": [],
   "source": [
    "nsd_dir = '/Volumes/server/Projects/sfp_nsd/natural-scenes-dataset/'\n",
    "fs_dir = '/Volumes/server/Projects/sfp_nsd/natural-scenes-dataset/nsddata/freesurfer'\n",
    "# inputs\n",
    "subj = utils.sub_number_to_string(1, dataset='nsdsyn')\n",
    "hemi = 'lh'\n",
    "design_mat = os.path.join(nsd_dir, 'nsddata', 'experiments', 'nsdsynthetic', 'nsdsynthetic_expdesign.mat')\n",
    "betas = os.path.join(nsd_dir, 'nsddata_betas', 'ppdata', subj, 'nativesurface', prep._get_beta_folder_name(3),\n",
    "                     f'{hemi}.betas_nsdsynthetic.hdf5')\n",
    "stim_info = os.path.join(nsd_dir, 'nsdsynthetic_sf_stim_description.csv')\n",
    "rois = [os.path.join(fs_dir, subj, 'label', f'{hemi}.prf-{roi}.mgz')\n",
    "        for roi in [\"visualrois\", \"eccrois\"]]\n",
    "prfs = [os.path.join(fs_dir, subj, 'label', f'{hemi}.prf{prf_param}.mgz')\n",
    "        for prf_param in [\"eccentricity\", \"angle\", \"size\"]]\n"
   ],
   "metadata": {
    "collapsed": false,
    "pycharm": {
     "name": "#%%\n"
    }
   }
  },
  {
   "cell_type": "code",
   "execution_count": 10,
   "outputs": [
    {
     "data": {
      "text/plain": "     image_idx           names  names_idx   w_r   w_a     phase  class_idx  \\\n0          104        pinwheel          0   0.0   6.0  0.000000          0   \n1          105        pinwheel          0   0.0   6.0  1.570796          0   \n2          106        pinwheel          0   0.0   6.0  3.141593          0   \n3          107        pinwheel          0   0.0   6.0  4.712389          0   \n4          108        pinwheel          0   0.0  11.0  0.000000          1   \n..         ...             ...        ...   ...   ...       ...        ...   \n107        211  intermediate 3          6  34.0 -14.0  4.712389         26   \n108        212  intermediate 4          7  14.0 -34.0  0.000000         27   \n109        213  intermediate 4          7  14.0 -34.0  1.570796         27   \n110        214  intermediate 4          7  14.0 -34.0  3.141593         27   \n111        215  intermediate 4          7  14.0 -34.0  4.712389         27   \n\n     freq_lvl  fixation_task  memory_task  \n0           0            552           87  \n1           0            208          673  \n2           0            356          635  \n3           0            152          431  \n4           1             14          479  \n..        ...            ...          ...  \n107         3            402          123  \n108         3            366          645  \n109         3            704          239  \n110         3            250          715  \n111         3             72          537  \n\n[112 rows x 10 columns]",
      "text/html": "<div>\n<style scoped>\n    .dataframe tbody tr th:only-of-type {\n        vertical-align: middle;\n    }\n\n    .dataframe tbody tr th {\n        vertical-align: top;\n    }\n\n    .dataframe thead th {\n        text-align: right;\n    }\n</style>\n<table border=\"1\" class=\"dataframe\">\n  <thead>\n    <tr style=\"text-align: right;\">\n      <th></th>\n      <th>image_idx</th>\n      <th>names</th>\n      <th>names_idx</th>\n      <th>w_r</th>\n      <th>w_a</th>\n      <th>phase</th>\n      <th>class_idx</th>\n      <th>freq_lvl</th>\n      <th>fixation_task</th>\n      <th>memory_task</th>\n    </tr>\n  </thead>\n  <tbody>\n    <tr>\n      <th>0</th>\n      <td>104</td>\n      <td>pinwheel</td>\n      <td>0</td>\n      <td>0.0</td>\n      <td>6.0</td>\n      <td>0.000000</td>\n      <td>0</td>\n      <td>0</td>\n      <td>552</td>\n      <td>87</td>\n    </tr>\n    <tr>\n      <th>1</th>\n      <td>105</td>\n      <td>pinwheel</td>\n      <td>0</td>\n      <td>0.0</td>\n      <td>6.0</td>\n      <td>1.570796</td>\n      <td>0</td>\n      <td>0</td>\n      <td>208</td>\n      <td>673</td>\n    </tr>\n    <tr>\n      <th>2</th>\n      <td>106</td>\n      <td>pinwheel</td>\n      <td>0</td>\n      <td>0.0</td>\n      <td>6.0</td>\n      <td>3.141593</td>\n      <td>0</td>\n      <td>0</td>\n      <td>356</td>\n      <td>635</td>\n    </tr>\n    <tr>\n      <th>3</th>\n      <td>107</td>\n      <td>pinwheel</td>\n      <td>0</td>\n      <td>0.0</td>\n      <td>6.0</td>\n      <td>4.712389</td>\n      <td>0</td>\n      <td>0</td>\n      <td>152</td>\n      <td>431</td>\n    </tr>\n    <tr>\n      <th>4</th>\n      <td>108</td>\n      <td>pinwheel</td>\n      <td>0</td>\n      <td>0.0</td>\n      <td>11.0</td>\n      <td>0.000000</td>\n      <td>1</td>\n      <td>1</td>\n      <td>14</td>\n      <td>479</td>\n    </tr>\n    <tr>\n      <th>...</th>\n      <td>...</td>\n      <td>...</td>\n      <td>...</td>\n      <td>...</td>\n      <td>...</td>\n      <td>...</td>\n      <td>...</td>\n      <td>...</td>\n      <td>...</td>\n      <td>...</td>\n    </tr>\n    <tr>\n      <th>107</th>\n      <td>211</td>\n      <td>intermediate 3</td>\n      <td>6</td>\n      <td>34.0</td>\n      <td>-14.0</td>\n      <td>4.712389</td>\n      <td>26</td>\n      <td>3</td>\n      <td>402</td>\n      <td>123</td>\n    </tr>\n    <tr>\n      <th>108</th>\n      <td>212</td>\n      <td>intermediate 4</td>\n      <td>7</td>\n      <td>14.0</td>\n      <td>-34.0</td>\n      <td>0.000000</td>\n      <td>27</td>\n      <td>3</td>\n      <td>366</td>\n      <td>645</td>\n    </tr>\n    <tr>\n      <th>109</th>\n      <td>213</td>\n      <td>intermediate 4</td>\n      <td>7</td>\n      <td>14.0</td>\n      <td>-34.0</td>\n      <td>1.570796</td>\n      <td>27</td>\n      <td>3</td>\n      <td>704</td>\n      <td>239</td>\n    </tr>\n    <tr>\n      <th>110</th>\n      <td>214</td>\n      <td>intermediate 4</td>\n      <td>7</td>\n      <td>14.0</td>\n      <td>-34.0</td>\n      <td>3.141593</td>\n      <td>27</td>\n      <td>3</td>\n      <td>250</td>\n      <td>715</td>\n    </tr>\n    <tr>\n      <th>111</th>\n      <td>215</td>\n      <td>intermediate 4</td>\n      <td>7</td>\n      <td>14.0</td>\n      <td>-34.0</td>\n      <td>4.712389</td>\n      <td>27</td>\n      <td>3</td>\n      <td>72</td>\n      <td>537</td>\n    </tr>\n  </tbody>\n</table>\n<p>112 rows × 10 columns</p>\n</div>"
     },
     "execution_count": 10,
     "metadata": {},
     "output_type": "execute_result"
    }
   ],
   "source": [
    "stim_df = prep.load_stim_info(stim_description_path=stim_info,\n",
    "                              drop_phase=False)\n",
    "stim_df"
   ],
   "metadata": {
    "collapsed": false,
    "pycharm": {
     "name": "#%%\n"
    }
   }
  },
  {
   "cell_type": "code",
   "execution_count": 250,
   "outputs": [],
   "source": [
    "mask, rois_mgzs = prep.load_common_mask_and_rois(rois, [[1,2,3,4,5,6,7],[1,2,3,4,5]])"
   ],
   "metadata": {
    "collapsed": false,
    "pycharm": {
     "name": "#%%\n"
    }
   }
  },
  {
   "cell_type": "code",
   "execution_count": 249,
   "outputs": [],
   "source": [
    "prf_mgzs = prep.load_prf_properties(prfs, mask)"
   ],
   "metadata": {
    "collapsed": false,
    "pycharm": {
     "name": "#%%\n"
    }
   }
  },
  {
   "cell_type": "code",
   "source": [
    "betas_mgzs = prep.load_betas(betas, design_mat, stim_df['image_idx'], mask, task_list=['fixation_task','memory_task'], average=True)"
   ],
   "metadata": {
    "collapsed": false,
    "pycharm": {
     "name": "#%%\n"
    }
   },
   "execution_count": 233,
   "outputs": []
  },
  {
   "cell_type": "code",
   "execution_count": 245,
   "outputs": [],
   "source": [
    "betas_df = prep.melt_2D_beta_mgzs_into_df(betas_mgzs, x_axis='voxel', y_axis='stim_idx', long_format=True)"
   ],
   "metadata": {
    "collapsed": false,
    "pycharm": {
     "name": "#%%\n"
    }
   }
  },
  {
   "cell_type": "code",
   "execution_count": 246,
   "outputs": [
    {
     "data": {
      "text/plain": "         voxel stim_idx      task     betas\n0            0        0  fixation  1.966667\n1            0        1  fixation  1.096667\n2            0        2  fixation  2.103333\n3            0        3  fixation  1.630000\n4            0        4  fixation  2.940000\n...        ...      ...       ...       ...\n3666091  10910      107       avg  2.618333\n3666092  10910      108       avg  2.253333\n3666093  10910      109       avg  1.633333\n3666094  10910      110       avg  1.805000\n3666095  10910      111       avg  2.786667\n\n[3666096 rows x 4 columns]",
      "text/html": "<div>\n<style scoped>\n    .dataframe tbody tr th:only-of-type {\n        vertical-align: middle;\n    }\n\n    .dataframe tbody tr th {\n        vertical-align: top;\n    }\n\n    .dataframe thead th {\n        text-align: right;\n    }\n</style>\n<table border=\"1\" class=\"dataframe\">\n  <thead>\n    <tr style=\"text-align: right;\">\n      <th></th>\n      <th>voxel</th>\n      <th>stim_idx</th>\n      <th>task</th>\n      <th>betas</th>\n    </tr>\n  </thead>\n  <tbody>\n    <tr>\n      <th>0</th>\n      <td>0</td>\n      <td>0</td>\n      <td>fixation</td>\n      <td>1.966667</td>\n    </tr>\n    <tr>\n      <th>1</th>\n      <td>0</td>\n      <td>1</td>\n      <td>fixation</td>\n      <td>1.096667</td>\n    </tr>\n    <tr>\n      <th>2</th>\n      <td>0</td>\n      <td>2</td>\n      <td>fixation</td>\n      <td>2.103333</td>\n    </tr>\n    <tr>\n      <th>3</th>\n      <td>0</td>\n      <td>3</td>\n      <td>fixation</td>\n      <td>1.630000</td>\n    </tr>\n    <tr>\n      <th>4</th>\n      <td>0</td>\n      <td>4</td>\n      <td>fixation</td>\n      <td>2.940000</td>\n    </tr>\n    <tr>\n      <th>...</th>\n      <td>...</td>\n      <td>...</td>\n      <td>...</td>\n      <td>...</td>\n    </tr>\n    <tr>\n      <th>3666091</th>\n      <td>10910</td>\n      <td>107</td>\n      <td>avg</td>\n      <td>2.618333</td>\n    </tr>\n    <tr>\n      <th>3666092</th>\n      <td>10910</td>\n      <td>108</td>\n      <td>avg</td>\n      <td>2.253333</td>\n    </tr>\n    <tr>\n      <th>3666093</th>\n      <td>10910</td>\n      <td>109</td>\n      <td>avg</td>\n      <td>1.633333</td>\n    </tr>\n    <tr>\n      <th>3666094</th>\n      <td>10910</td>\n      <td>110</td>\n      <td>avg</td>\n      <td>1.805000</td>\n    </tr>\n    <tr>\n      <th>3666095</th>\n      <td>10910</td>\n      <td>111</td>\n      <td>avg</td>\n      <td>2.786667</td>\n    </tr>\n  </tbody>\n</table>\n<p>3666096 rows × 4 columns</p>\n</div>"
     },
     "execution_count": 246,
     "metadata": {},
     "output_type": "execute_result"
    }
   ],
   "source": [
    "betas_df"
   ],
   "metadata": {
    "collapsed": false,
    "pycharm": {
     "name": "#%%\n"
    }
   }
  },
  {
   "cell_type": "code",
   "execution_count": 251,
   "outputs": [],
   "source": [
    "df = prep.add_prf_columns_to_df(prf_mgzs, betas_df, rois_mgzs, on='voxel')"
   ],
   "metadata": {
    "collapsed": false,
    "pycharm": {
     "name": "#%%\n"
    }
   }
  },
  {
   "cell_type": "code",
   "execution_count": 252,
   "outputs": [
    {
     "data": {
      "text/plain": "         voxel stim_idx      task     betas  lh.eccentricity    lh.angle  \\\n0            0        0  fixation  1.966667         1.370705  292.141510   \n1            0        1  fixation  1.096667         1.370705  292.141510   \n2            0        2  fixation  2.103333         1.370705  292.141510   \n3            0        3  fixation  1.630000         1.370705  292.141510   \n4            0        4  fixation  2.940000         1.370705  292.141510   \n...        ...      ...       ...       ...              ...         ...   \n3666091  10910      107       avg  2.618333         6.167487   32.136745   \n3666092  10910      108       avg  2.253333         6.167487   32.136745   \n3666093  10910      109       avg  1.633333         6.167487   32.136745   \n3666094  10910      110       avg  1.805000         6.167487   32.136745   \n3666095  10910      111       avg  2.786667         6.167487   32.136745   \n\n           lh.size lh.visualrois  lh.eccrois  \n0        84.840942            V1         3.0  \n1        84.840942            V1         3.0  \n2        84.840942            V1         3.0  \n3        84.840942            V1         3.0  \n4        84.840942            V1         3.0  \n...            ...           ...         ...  \n3666091   1.082151          None         5.0  \n3666092   1.082151          None         5.0  \n3666093   1.082151          None         5.0  \n3666094   1.082151          None         5.0  \n3666095   1.082151          None         5.0  \n\n[3666096 rows x 9 columns]",
      "text/html": "<div>\n<style scoped>\n    .dataframe tbody tr th:only-of-type {\n        vertical-align: middle;\n    }\n\n    .dataframe tbody tr th {\n        vertical-align: top;\n    }\n\n    .dataframe thead th {\n        text-align: right;\n    }\n</style>\n<table border=\"1\" class=\"dataframe\">\n  <thead>\n    <tr style=\"text-align: right;\">\n      <th></th>\n      <th>voxel</th>\n      <th>stim_idx</th>\n      <th>task</th>\n      <th>betas</th>\n      <th>lh.eccentricity</th>\n      <th>lh.angle</th>\n      <th>lh.size</th>\n      <th>lh.visualrois</th>\n      <th>lh.eccrois</th>\n    </tr>\n  </thead>\n  <tbody>\n    <tr>\n      <th>0</th>\n      <td>0</td>\n      <td>0</td>\n      <td>fixation</td>\n      <td>1.966667</td>\n      <td>1.370705</td>\n      <td>292.141510</td>\n      <td>84.840942</td>\n      <td>V1</td>\n      <td>3.0</td>\n    </tr>\n    <tr>\n      <th>1</th>\n      <td>0</td>\n      <td>1</td>\n      <td>fixation</td>\n      <td>1.096667</td>\n      <td>1.370705</td>\n      <td>292.141510</td>\n      <td>84.840942</td>\n      <td>V1</td>\n      <td>3.0</td>\n    </tr>\n    <tr>\n      <th>2</th>\n      <td>0</td>\n      <td>2</td>\n      <td>fixation</td>\n      <td>2.103333</td>\n      <td>1.370705</td>\n      <td>292.141510</td>\n      <td>84.840942</td>\n      <td>V1</td>\n      <td>3.0</td>\n    </tr>\n    <tr>\n      <th>3</th>\n      <td>0</td>\n      <td>3</td>\n      <td>fixation</td>\n      <td>1.630000</td>\n      <td>1.370705</td>\n      <td>292.141510</td>\n      <td>84.840942</td>\n      <td>V1</td>\n      <td>3.0</td>\n    </tr>\n    <tr>\n      <th>4</th>\n      <td>0</td>\n      <td>4</td>\n      <td>fixation</td>\n      <td>2.940000</td>\n      <td>1.370705</td>\n      <td>292.141510</td>\n      <td>84.840942</td>\n      <td>V1</td>\n      <td>3.0</td>\n    </tr>\n    <tr>\n      <th>...</th>\n      <td>...</td>\n      <td>...</td>\n      <td>...</td>\n      <td>...</td>\n      <td>...</td>\n      <td>...</td>\n      <td>...</td>\n      <td>...</td>\n      <td>...</td>\n    </tr>\n    <tr>\n      <th>3666091</th>\n      <td>10910</td>\n      <td>107</td>\n      <td>avg</td>\n      <td>2.618333</td>\n      <td>6.167487</td>\n      <td>32.136745</td>\n      <td>1.082151</td>\n      <td>None</td>\n      <td>5.0</td>\n    </tr>\n    <tr>\n      <th>3666092</th>\n      <td>10910</td>\n      <td>108</td>\n      <td>avg</td>\n      <td>2.253333</td>\n      <td>6.167487</td>\n      <td>32.136745</td>\n      <td>1.082151</td>\n      <td>None</td>\n      <td>5.0</td>\n    </tr>\n    <tr>\n      <th>3666093</th>\n      <td>10910</td>\n      <td>109</td>\n      <td>avg</td>\n      <td>1.633333</td>\n      <td>6.167487</td>\n      <td>32.136745</td>\n      <td>1.082151</td>\n      <td>None</td>\n      <td>5.0</td>\n    </tr>\n    <tr>\n      <th>3666094</th>\n      <td>10910</td>\n      <td>110</td>\n      <td>avg</td>\n      <td>1.805000</td>\n      <td>6.167487</td>\n      <td>32.136745</td>\n      <td>1.082151</td>\n      <td>None</td>\n      <td>5.0</td>\n    </tr>\n    <tr>\n      <th>3666095</th>\n      <td>10910</td>\n      <td>111</td>\n      <td>avg</td>\n      <td>2.786667</td>\n      <td>6.167487</td>\n      <td>32.136745</td>\n      <td>1.082151</td>\n      <td>None</td>\n      <td>5.0</td>\n    </tr>\n  </tbody>\n</table>\n<p>3666096 rows × 9 columns</p>\n</div>"
     },
     "execution_count": 252,
     "metadata": {},
     "output_type": "execute_result"
    }
   ],
   "source": [
    "df"
   ],
   "metadata": {
    "collapsed": false,
    "pycharm": {
     "name": "#%%\n"
    }
   }
  },
  {
   "cell_type": "code",
   "execution_count": null,
   "outputs": [],
   "source": [],
   "metadata": {
    "collapsed": false,
    "pycharm": {
     "name": "#%%\n"
    }
   }
  }
 ],
 "metadata": {
  "kernelspec": {
   "display_name": "Python 3",
   "language": "python",
   "name": "python3"
  },
  "language_info": {
   "codemirror_mode": {
    "name": "ipython",
    "version": 2
   },
   "file_extension": ".py",
   "mimetype": "text/x-python",
   "name": "python",
   "nbconvert_exporter": "python",
   "pygments_lexer": "ipython2",
   "version": "2.7.6"
  }
 },
 "nbformat": 4,
 "nbformat_minor": 0
}