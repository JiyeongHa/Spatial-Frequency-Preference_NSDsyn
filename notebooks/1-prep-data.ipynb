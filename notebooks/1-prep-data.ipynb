{
 "cells": [
  {
   "cell_type": "code",
   "execution_count": 1,
   "metadata": {
    "collapsed": true
   },
   "outputs": [],
   "source": [
    "import sys\n",
    "sys.path.append('..')\n",
    "import os\n",
    "import pandas as pd\n",
    "import numpy as np\n",
    "import matplotlib.pyplot as plt\n",
    "import seaborn as sns\n",
    "from sfp_nsdsyn import *\n",
    "import warnings\n",
    "import itertools\n",
    "warnings.filterwarnings(\"ignore\", category=UserWarning)\n",
    "pd.options.mode.chained_assignment = None\n",
    "%load_ext autoreload\n",
    "%autoreload 2"
   ]
  },
  {
   "cell_type": "code",
   "execution_count": 2,
   "outputs": [],
   "source": [
    "nsd_dir = '/Volumes/server/Projects/sfp_nsd/natural-scenes-dataset/'\n",
    "fs_dir = '/Volumes/server/Projects/sfp_nsd/natural-scenes-dataset/nsddata/freesurfer'\n",
    "# inputs\n",
    "subj = utils.sub_number_to_string(1, dataset='nsdsyn')\n",
    "hemi = 'lh'\n",
    "design_mat = os.path.join(nsd_dir, 'nsddata', 'experiments', 'nsdsynthetic', 'nsdsynthetic_expdesign.mat')\n",
    "betas = os.path.join(nsd_dir, 'nsddata_betas', 'ppdata', subj, 'nativesurface', prep._get_beta_folder_name(3),\n",
    "                     f'{hemi}.betas_nsdsynthetic.hdf5')\n",
    "stim_info = os.path.join(nsd_dir, 'nsdsynthetic_sf_stim_description.csv')\n",
    "rois = [os.path.join(fs_dir, subj, 'label', f'{hemi}.prf-{roi}.mgz')\n",
    "        for roi in [\"visualrois\", \"eccrois\"]]\n",
    "rois_vals = [[1,2],[1,2,3,4,5]]\n",
    "prfs = [os.path.join(fs_dir, subj, 'label', f'{hemi}.prf{prf_param}.mgz')\n",
    "        for prf_param in [\"eccentricity\", \"angle\", \"size\"]]\n"
   ],
   "metadata": {
    "collapsed": false,
    "pycharm": {
     "name": "#%%\n"
    }
   }
  },
  {
   "cell_type": "code",
   "execution_count": 3,
   "outputs": [
    {
     "data": {
      "text/plain": "     stim_idx  image_idx           names   w_r   w_a     phase  class_idx  \\\n0           0        104        pinwheel   0.0   6.0  0.000000          0   \n1           1        105        pinwheel   0.0   6.0  1.570796          0   \n2           2        106        pinwheel   0.0   6.0  3.141593          0   \n3           3        107        pinwheel   0.0   6.0  4.712389          0   \n4           4        108        pinwheel   0.0  11.0  0.000000          1   \n..        ...        ...             ...   ...   ...       ...        ...   \n107       107        211  intermediate 3  34.0 -14.0  4.712389         26   \n108       108        212  intermediate 4  14.0 -34.0  0.000000         27   \n109       109        213  intermediate 4  14.0 -34.0  1.570796         27   \n110       110        214  intermediate 4  14.0 -34.0  3.141593         27   \n111       111        215  intermediate 4  14.0 -34.0  4.712389         27   \n\n     freq_lvl  \n0           0  \n1           0  \n2           0  \n3           0  \n4           1  \n..        ...  \n107         3  \n108         3  \n109         3  \n110         3  \n111         3  \n\n[112 rows x 8 columns]",
      "text/html": "<div>\n<style scoped>\n    .dataframe tbody tr th:only-of-type {\n        vertical-align: middle;\n    }\n\n    .dataframe tbody tr th {\n        vertical-align: top;\n    }\n\n    .dataframe thead th {\n        text-align: right;\n    }\n</style>\n<table border=\"1\" class=\"dataframe\">\n  <thead>\n    <tr style=\"text-align: right;\">\n      <th></th>\n      <th>stim_idx</th>\n      <th>image_idx</th>\n      <th>names</th>\n      <th>w_r</th>\n      <th>w_a</th>\n      <th>phase</th>\n      <th>class_idx</th>\n      <th>freq_lvl</th>\n    </tr>\n  </thead>\n  <tbody>\n    <tr>\n      <th>0</th>\n      <td>0</td>\n      <td>104</td>\n      <td>pinwheel</td>\n      <td>0.0</td>\n      <td>6.0</td>\n      <td>0.000000</td>\n      <td>0</td>\n      <td>0</td>\n    </tr>\n    <tr>\n      <th>1</th>\n      <td>1</td>\n      <td>105</td>\n      <td>pinwheel</td>\n      <td>0.0</td>\n      <td>6.0</td>\n      <td>1.570796</td>\n      <td>0</td>\n      <td>0</td>\n    </tr>\n    <tr>\n      <th>2</th>\n      <td>2</td>\n      <td>106</td>\n      <td>pinwheel</td>\n      <td>0.0</td>\n      <td>6.0</td>\n      <td>3.141593</td>\n      <td>0</td>\n      <td>0</td>\n    </tr>\n    <tr>\n      <th>3</th>\n      <td>3</td>\n      <td>107</td>\n      <td>pinwheel</td>\n      <td>0.0</td>\n      <td>6.0</td>\n      <td>4.712389</td>\n      <td>0</td>\n      <td>0</td>\n    </tr>\n    <tr>\n      <th>4</th>\n      <td>4</td>\n      <td>108</td>\n      <td>pinwheel</td>\n      <td>0.0</td>\n      <td>11.0</td>\n      <td>0.000000</td>\n      <td>1</td>\n      <td>1</td>\n    </tr>\n    <tr>\n      <th>...</th>\n      <td>...</td>\n      <td>...</td>\n      <td>...</td>\n      <td>...</td>\n      <td>...</td>\n      <td>...</td>\n      <td>...</td>\n      <td>...</td>\n    </tr>\n    <tr>\n      <th>107</th>\n      <td>107</td>\n      <td>211</td>\n      <td>intermediate 3</td>\n      <td>34.0</td>\n      <td>-14.0</td>\n      <td>4.712389</td>\n      <td>26</td>\n      <td>3</td>\n    </tr>\n    <tr>\n      <th>108</th>\n      <td>108</td>\n      <td>212</td>\n      <td>intermediate 4</td>\n      <td>14.0</td>\n      <td>-34.0</td>\n      <td>0.000000</td>\n      <td>27</td>\n      <td>3</td>\n    </tr>\n    <tr>\n      <th>109</th>\n      <td>109</td>\n      <td>213</td>\n      <td>intermediate 4</td>\n      <td>14.0</td>\n      <td>-34.0</td>\n      <td>1.570796</td>\n      <td>27</td>\n      <td>3</td>\n    </tr>\n    <tr>\n      <th>110</th>\n      <td>110</td>\n      <td>214</td>\n      <td>intermediate 4</td>\n      <td>14.0</td>\n      <td>-34.0</td>\n      <td>3.141593</td>\n      <td>27</td>\n      <td>3</td>\n    </tr>\n    <tr>\n      <th>111</th>\n      <td>111</td>\n      <td>215</td>\n      <td>intermediate 4</td>\n      <td>14.0</td>\n      <td>-34.0</td>\n      <td>4.712389</td>\n      <td>27</td>\n      <td>3</td>\n    </tr>\n  </tbody>\n</table>\n<p>112 rows × 8 columns</p>\n</div>"
     },
     "execution_count": 3,
     "metadata": {},
     "output_type": "execute_result"
    }
   ],
   "source": [
    "stim_df = prep.load_stim_info_as_df(stim_description_path=stim_info,\n",
    "                              drop_phase=False)\n",
    "stim_df"
   ],
   "metadata": {
    "collapsed": false,
    "pycharm": {
     "name": "#%%\n"
    }
   }
  },
  {
   "cell_type": "code",
   "execution_count": 4,
   "outputs": [],
   "source": [
    "mask, rois_dict = prep.load_common_mask_and_rois(rois, [[1,2],[1,2,3,4,5]])"
   ],
   "metadata": {
    "collapsed": false,
    "pycharm": {
     "name": "#%%\n"
    }
   }
  },
  {
   "cell_type": "code",
   "execution_count": 5,
   "outputs": [],
   "source": [
    "prf_dict = prep.load_prf_properties_as_dict(prfs, mask, angle_to_radians=True)"
   ],
   "metadata": {
    "collapsed": false,
    "pycharm": {
     "name": "#%%\n"
    }
   }
  },
  {
   "cell_type": "code",
   "source": [
    "betas_dict = prep.load_betas_as_dict(betas, design_mat, stim_df['image_idx'], mask, task_keys=['fixation_task','memory_task'], average=True)\n",
    "betas_dict.keys()"
   ],
   "metadata": {
    "collapsed": false,
    "pycharm": {
     "name": "#%%\n"
    }
   },
   "execution_count": 9,
   "outputs": [
    {
     "data": {
      "text/plain": "dict_keys(['avg_betas'])"
     },
     "execution_count": 9,
     "metadata": {},
     "output_type": "execute_result"
    }
   ]
  },
  {
   "cell_type": "code",
   "execution_count": 10,
   "outputs": [],
   "source": [
    "hemi = 'lh'\n",
    "design_mat = os.path.join(nsd_dir, 'nsddata', 'experiments', 'nsdsynthetic', 'nsdsynthetic_expdesign.mat')\n",
    "betas = os.path.join(nsd_dir, 'nsddata_betas', 'ppdata', subj, 'nativesurface', prep._get_beta_folder_name(3),\n",
    "                     f'{hemi}.betas_nsdsynthetic.hdf5')\n",
    "stim_info = os.path.join(nsd_dir, 'nsdsynthetic_sf_stim_description.csv')\n",
    "rois = [os.path.join(fs_dir, subj, 'label', f'{hemi}.prf-{roi}.mgz')\n",
    "        for roi in [\"visualrois\", \"eccrois\"]]\n",
    "rois_vals = [[1,2],[1,2,3,4,5]]\n",
    "prfs = [os.path.join(fs_dir, subj, 'label', f'{hemi}.prf{prf_param}.mgz')\n",
    "        for prf_param in [\"eccentricity\", \"angle\", \"size\"]]"
   ],
   "metadata": {
    "collapsed": false,
    "pycharm": {
     "name": "#%%\n"
    }
   }
  },
  {
   "cell_type": "code",
   "execution_count": 11,
   "outputs": [],
   "source": [
    "lh_df = prep.make_sf_dataframe(stim_info,\n",
    "                              design_mat,\n",
    "                              rois, rois_vals,\n",
    "                              prfs,\n",
    "                              betas,\n",
    "                              task_keys=['fixation_task','memory_task'],\n",
    "                              task_average=True,\n",
    "                              angle_to_radians=True)"
   ],
   "metadata": {
    "collapsed": false,
    "pycharm": {
     "name": "#%%\n"
    }
   }
  },
  {
   "cell_type": "code",
   "execution_count": 112,
   "outputs": [],
   "source": [
    "hemi = 'rh'\n",
    "design_mat = os.path.join(nsd_dir, 'nsddata', 'experiments', 'nsdsynthetic', 'nsdsynthetic_expdesign.mat')\n",
    "betas = os.path.join(nsd_dir, 'nsddata_betas', 'ppdata', subj, 'nativesurface', prep._get_beta_folder_name(3),\n",
    "                     f'{hemi}.betas_nsdsynthetic.hdf5')\n",
    "stim_info = os.path.join(nsd_dir, 'nsdsynthetic_sf_stim_description.csv')\n",
    "rois = [os.path.join(fs_dir, subj, 'label', f'{hemi}.prf-{roi}.mgz')\n",
    "        for roi in [\"visualrois\", \"eccrois\"]]\n",
    "rois_vals = [[1,2],[1,2,3,4,5]]\n",
    "prfs = [os.path.join(fs_dir, subj, 'label', f'{hemi}.prf{prf_param}.mgz')\n",
    "        for prf_param in [\"eccentricity\", \"angle\", \"size\"]]"
   ],
   "metadata": {
    "collapsed": false,
    "pycharm": {
     "name": "#%%\n"
    }
   }
  },
  {
   "cell_type": "code",
   "execution_count": 113,
   "outputs": [],
   "source": [
    "rh_df = prep.make_sf_dataframe(stim_info,\n",
    "                              design_mat,\n",
    "                              rois, rois_vals,\n",
    "                              prfs,\n",
    "                              betas,\n",
    "                              task_keys=['fixation_task','memory_task'],\n",
    "                              task_average=True,\n",
    "                              angle_to_radians=True)"
   ],
   "metadata": {
    "collapsed": false,
    "pycharm": {
     "name": "#%%\n"
    }
   }
  },
  {
   "cell_type": "code",
   "execution_count": 115,
   "outputs": [],
   "source": [
    "sf_df = prep.concat_lh_rh_df(lh_df, rh_df)"
   ],
   "metadata": {
    "collapsed": false,
    "pycharm": {
     "name": "#%%\n"
    }
   }
  },
  {
   "cell_type": "code",
   "execution_count": 117,
   "outputs": [
    {
     "data": {
      "text/plain": "        stim_idx  image_idx           names   w_r   w_a     phase  class_idx  \\\n1235469      111        215  intermediate 4  14.0 -34.0  4.712389         27   \n1235470      111        215  intermediate 4  14.0 -34.0  4.712389         27   \n1235471      111        215  intermediate 4  14.0 -34.0  4.712389         27   \n1235472        0        104        pinwheel   0.0   6.0  0.000000          0   \n1235473        0        104        pinwheel   0.0   6.0  0.000000          0   \n1235474        0        104        pinwheel   0.0   6.0  0.000000          0   \n\n         freq_lvl  voxel      task     betas  eccentricity     angle  \\\n1235469         3   3676  fixation  2.303333      6.167487  0.560892   \n1235470         3   3676    memory  3.270000      6.167487  0.560892   \n1235471         3   3676       avg  2.786667      6.167487  0.560892   \n1235472         0   3677  fixation  2.330000      3.133089  2.971282   \n1235473         0   3677    memory  1.103333      3.133089  2.971282   \n1235474         0   3677       avg  1.716667      3.133089  2.971282   \n\n             size  visualrois vroinames  eccrois  local_sf  local_ori hemi  \n1235469  1.082151         1.0        V1      5.0  0.948856   2.522295   lh  \n1235470  1.082151         1.0        V1      5.0  0.948856   2.522295   lh  \n1235471  1.082151         1.0        V1      5.0  0.948856   2.522295   lh  \n1235472  0.921039         2.0        V1      3.0  0.304789   1.400486   rh  \n1235473  0.921039         2.0        V1      3.0  0.304789   1.400486   rh  \n1235474  0.921039         2.0        V1      3.0  0.304789   1.400486   rh  ",
      "text/html": "<div>\n<style scoped>\n    .dataframe tbody tr th:only-of-type {\n        vertical-align: middle;\n    }\n\n    .dataframe tbody tr th {\n        vertical-align: top;\n    }\n\n    .dataframe thead th {\n        text-align: right;\n    }\n</style>\n<table border=\"1\" class=\"dataframe\">\n  <thead>\n    <tr style=\"text-align: right;\">\n      <th></th>\n      <th>stim_idx</th>\n      <th>image_idx</th>\n      <th>names</th>\n      <th>w_r</th>\n      <th>w_a</th>\n      <th>phase</th>\n      <th>class_idx</th>\n      <th>freq_lvl</th>\n      <th>voxel</th>\n      <th>task</th>\n      <th>betas</th>\n      <th>eccentricity</th>\n      <th>angle</th>\n      <th>size</th>\n      <th>visualrois</th>\n      <th>vroinames</th>\n      <th>eccrois</th>\n      <th>local_sf</th>\n      <th>local_ori</th>\n      <th>hemi</th>\n    </tr>\n  </thead>\n  <tbody>\n    <tr>\n      <th>1235469</th>\n      <td>111</td>\n      <td>215</td>\n      <td>intermediate 4</td>\n      <td>14.0</td>\n      <td>-34.0</td>\n      <td>4.712389</td>\n      <td>27</td>\n      <td>3</td>\n      <td>3676</td>\n      <td>fixation</td>\n      <td>2.303333</td>\n      <td>6.167487</td>\n      <td>0.560892</td>\n      <td>1.082151</td>\n      <td>1.0</td>\n      <td>V1</td>\n      <td>5.0</td>\n      <td>0.948856</td>\n      <td>2.522295</td>\n      <td>lh</td>\n    </tr>\n    <tr>\n      <th>1235470</th>\n      <td>111</td>\n      <td>215</td>\n      <td>intermediate 4</td>\n      <td>14.0</td>\n      <td>-34.0</td>\n      <td>4.712389</td>\n      <td>27</td>\n      <td>3</td>\n      <td>3676</td>\n      <td>memory</td>\n      <td>3.270000</td>\n      <td>6.167487</td>\n      <td>0.560892</td>\n      <td>1.082151</td>\n      <td>1.0</td>\n      <td>V1</td>\n      <td>5.0</td>\n      <td>0.948856</td>\n      <td>2.522295</td>\n      <td>lh</td>\n    </tr>\n    <tr>\n      <th>1235471</th>\n      <td>111</td>\n      <td>215</td>\n      <td>intermediate 4</td>\n      <td>14.0</td>\n      <td>-34.0</td>\n      <td>4.712389</td>\n      <td>27</td>\n      <td>3</td>\n      <td>3676</td>\n      <td>avg</td>\n      <td>2.786667</td>\n      <td>6.167487</td>\n      <td>0.560892</td>\n      <td>1.082151</td>\n      <td>1.0</td>\n      <td>V1</td>\n      <td>5.0</td>\n      <td>0.948856</td>\n      <td>2.522295</td>\n      <td>lh</td>\n    </tr>\n    <tr>\n      <th>1235472</th>\n      <td>0</td>\n      <td>104</td>\n      <td>pinwheel</td>\n      <td>0.0</td>\n      <td>6.0</td>\n      <td>0.000000</td>\n      <td>0</td>\n      <td>0</td>\n      <td>3677</td>\n      <td>fixation</td>\n      <td>2.330000</td>\n      <td>3.133089</td>\n      <td>2.971282</td>\n      <td>0.921039</td>\n      <td>2.0</td>\n      <td>V1</td>\n      <td>3.0</td>\n      <td>0.304789</td>\n      <td>1.400486</td>\n      <td>rh</td>\n    </tr>\n    <tr>\n      <th>1235473</th>\n      <td>0</td>\n      <td>104</td>\n      <td>pinwheel</td>\n      <td>0.0</td>\n      <td>6.0</td>\n      <td>0.000000</td>\n      <td>0</td>\n      <td>0</td>\n      <td>3677</td>\n      <td>memory</td>\n      <td>1.103333</td>\n      <td>3.133089</td>\n      <td>2.971282</td>\n      <td>0.921039</td>\n      <td>2.0</td>\n      <td>V1</td>\n      <td>3.0</td>\n      <td>0.304789</td>\n      <td>1.400486</td>\n      <td>rh</td>\n    </tr>\n    <tr>\n      <th>1235474</th>\n      <td>0</td>\n      <td>104</td>\n      <td>pinwheel</td>\n      <td>0.0</td>\n      <td>6.0</td>\n      <td>0.000000</td>\n      <td>0</td>\n      <td>0</td>\n      <td>3677</td>\n      <td>avg</td>\n      <td>1.716667</td>\n      <td>3.133089</td>\n      <td>2.971282</td>\n      <td>0.921039</td>\n      <td>2.0</td>\n      <td>V1</td>\n      <td>3.0</td>\n      <td>0.304789</td>\n      <td>1.400486</td>\n      <td>rh</td>\n    </tr>\n  </tbody>\n</table>\n</div>"
     },
     "execution_count": 117,
     "metadata": {},
     "output_type": "execute_result"
    }
   ],
   "source": [
    "sf_df.iloc[sf_df.query('hemi == \"lh\"').shape[0]-3:sf_df.query('hemi == \"lh\"').shape[0]+3]"
   ],
   "metadata": {
    "collapsed": false,
    "pycharm": {
     "name": "#%%\n"
    }
   }
  },
  {
   "cell_type": "code",
   "execution_count": 2,
   "outputs": [],
   "source": [
    "sf_df = pd.read_csv('/Users/auna/Dropbox/NYU/Projects/SF/5_voxel_example.csv')"
   ],
   "metadata": {
    "collapsed": false,
    "pycharm": {
     "name": "#%%\n"
    }
   }
  },
  {
   "cell_type": "code",
   "execution_count": 4,
   "outputs": [
    {
     "data": {
      "text/plain": "      stim_idx  image_idx           names   w_r   w_a     phase  class_idx  \\\n0            0        104        pinwheel   0.0   6.0  0.000000          0   \n1            0        104        pinwheel   0.0   6.0  0.000000          0   \n2            0        104        pinwheel   0.0   6.0  0.000000          0   \n3            0        104        pinwheel   0.0   6.0  0.000000          0   \n4            0        104        pinwheel   0.0   6.0  0.000000          0   \n...        ...        ...             ...   ...   ...       ...        ...   \n2011       111        215  intermediate 4  14.0 -34.0  4.712389         27   \n2012       111        215  intermediate 4  14.0 -34.0  4.712389         27   \n2013       111        215  intermediate 4  14.0 -34.0  4.712389         27   \n2014       111        215  intermediate 4  14.0 -34.0  4.712389         27   \n2015       111        215  intermediate 4  14.0 -34.0  4.712389         27   \n\n      freq_lvl  voxel      task     betas  eccentricity       angle  \\\n0            0      0  fixation  1.966667      1.370705  292.141510   \n1            0      0    memory  0.676667      1.370705  292.141510   \n2            0      0       avg  1.321667      1.370705  292.141510   \n3            0      1  fixation  1.883333      1.270235  291.033051   \n4            0      1    memory  0.763333      1.270235  291.033051   \n...        ...    ...       ...       ...           ...         ...   \n2011         3      4    memory  0.876667      1.247216  293.439117   \n2012         3      4       avg  1.195000      1.247216  293.439117   \n2013         3      5  fixation  1.170000      1.251555  290.870575   \n2014         3      5    memory  0.656667      1.251555  290.870575   \n2015         3      5       avg  0.913333      1.251555  290.870575   \n\n            size  visualrois vroinames  eccrois  local_sf  local_ori  \n0      84.840942         2.0        V1      3.0  0.696670   0.386442  \n1      84.840942         2.0        V1      3.0  0.696670   0.386442  \n2      84.840942         2.0        V1      3.0  0.696670   0.386442  \n3     170.579865         2.0        V1      3.0  0.751774   0.367096  \n4     170.579865         2.0        V1      3.0  0.751774   0.367096  \n...          ...         ...       ...      ...       ...        ...  \n2011  249.670349         2.0        V1      3.0  4.692096   0.799697  \n2012  249.670349         2.0        V1      3.0  4.692096   0.799697  \n2013  170.228104         2.0        V1      3.0  4.675828   0.754867  \n2014  170.228104         2.0        V1      3.0  4.675828   0.754867  \n2015  170.228104         2.0        V1      3.0  4.675828   0.754867  \n\n[2016 rows x 19 columns]",
      "text/html": "<div>\n<style scoped>\n    .dataframe tbody tr th:only-of-type {\n        vertical-align: middle;\n    }\n\n    .dataframe tbody tr th {\n        vertical-align: top;\n    }\n\n    .dataframe thead th {\n        text-align: right;\n    }\n</style>\n<table border=\"1\" class=\"dataframe\">\n  <thead>\n    <tr style=\"text-align: right;\">\n      <th></th>\n      <th>stim_idx</th>\n      <th>image_idx</th>\n      <th>names</th>\n      <th>w_r</th>\n      <th>w_a</th>\n      <th>phase</th>\n      <th>class_idx</th>\n      <th>freq_lvl</th>\n      <th>voxel</th>\n      <th>task</th>\n      <th>betas</th>\n      <th>eccentricity</th>\n      <th>angle</th>\n      <th>size</th>\n      <th>visualrois</th>\n      <th>vroinames</th>\n      <th>eccrois</th>\n      <th>local_sf</th>\n      <th>local_ori</th>\n    </tr>\n  </thead>\n  <tbody>\n    <tr>\n      <th>0</th>\n      <td>0</td>\n      <td>104</td>\n      <td>pinwheel</td>\n      <td>0.0</td>\n      <td>6.0</td>\n      <td>0.000000</td>\n      <td>0</td>\n      <td>0</td>\n      <td>0</td>\n      <td>fixation</td>\n      <td>1.966667</td>\n      <td>1.370705</td>\n      <td>292.141510</td>\n      <td>84.840942</td>\n      <td>2.0</td>\n      <td>V1</td>\n      <td>3.0</td>\n      <td>0.696670</td>\n      <td>0.386442</td>\n    </tr>\n    <tr>\n      <th>1</th>\n      <td>0</td>\n      <td>104</td>\n      <td>pinwheel</td>\n      <td>0.0</td>\n      <td>6.0</td>\n      <td>0.000000</td>\n      <td>0</td>\n      <td>0</td>\n      <td>0</td>\n      <td>memory</td>\n      <td>0.676667</td>\n      <td>1.370705</td>\n      <td>292.141510</td>\n      <td>84.840942</td>\n      <td>2.0</td>\n      <td>V1</td>\n      <td>3.0</td>\n      <td>0.696670</td>\n      <td>0.386442</td>\n    </tr>\n    <tr>\n      <th>2</th>\n      <td>0</td>\n      <td>104</td>\n      <td>pinwheel</td>\n      <td>0.0</td>\n      <td>6.0</td>\n      <td>0.000000</td>\n      <td>0</td>\n      <td>0</td>\n      <td>0</td>\n      <td>avg</td>\n      <td>1.321667</td>\n      <td>1.370705</td>\n      <td>292.141510</td>\n      <td>84.840942</td>\n      <td>2.0</td>\n      <td>V1</td>\n      <td>3.0</td>\n      <td>0.696670</td>\n      <td>0.386442</td>\n    </tr>\n    <tr>\n      <th>3</th>\n      <td>0</td>\n      <td>104</td>\n      <td>pinwheel</td>\n      <td>0.0</td>\n      <td>6.0</td>\n      <td>0.000000</td>\n      <td>0</td>\n      <td>0</td>\n      <td>1</td>\n      <td>fixation</td>\n      <td>1.883333</td>\n      <td>1.270235</td>\n      <td>291.033051</td>\n      <td>170.579865</td>\n      <td>2.0</td>\n      <td>V1</td>\n      <td>3.0</td>\n      <td>0.751774</td>\n      <td>0.367096</td>\n    </tr>\n    <tr>\n      <th>4</th>\n      <td>0</td>\n      <td>104</td>\n      <td>pinwheel</td>\n      <td>0.0</td>\n      <td>6.0</td>\n      <td>0.000000</td>\n      <td>0</td>\n      <td>0</td>\n      <td>1</td>\n      <td>memory</td>\n      <td>0.763333</td>\n      <td>1.270235</td>\n      <td>291.033051</td>\n      <td>170.579865</td>\n      <td>2.0</td>\n      <td>V1</td>\n      <td>3.0</td>\n      <td>0.751774</td>\n      <td>0.367096</td>\n    </tr>\n    <tr>\n      <th>...</th>\n      <td>...</td>\n      <td>...</td>\n      <td>...</td>\n      <td>...</td>\n      <td>...</td>\n      <td>...</td>\n      <td>...</td>\n      <td>...</td>\n      <td>...</td>\n      <td>...</td>\n      <td>...</td>\n      <td>...</td>\n      <td>...</td>\n      <td>...</td>\n      <td>...</td>\n      <td>...</td>\n      <td>...</td>\n      <td>...</td>\n      <td>...</td>\n    </tr>\n    <tr>\n      <th>2011</th>\n      <td>111</td>\n      <td>215</td>\n      <td>intermediate 4</td>\n      <td>14.0</td>\n      <td>-34.0</td>\n      <td>4.712389</td>\n      <td>27</td>\n      <td>3</td>\n      <td>4</td>\n      <td>memory</td>\n      <td>0.876667</td>\n      <td>1.247216</td>\n      <td>293.439117</td>\n      <td>249.670349</td>\n      <td>2.0</td>\n      <td>V1</td>\n      <td>3.0</td>\n      <td>4.692096</td>\n      <td>0.799697</td>\n    </tr>\n    <tr>\n      <th>2012</th>\n      <td>111</td>\n      <td>215</td>\n      <td>intermediate 4</td>\n      <td>14.0</td>\n      <td>-34.0</td>\n      <td>4.712389</td>\n      <td>27</td>\n      <td>3</td>\n      <td>4</td>\n      <td>avg</td>\n      <td>1.195000</td>\n      <td>1.247216</td>\n      <td>293.439117</td>\n      <td>249.670349</td>\n      <td>2.0</td>\n      <td>V1</td>\n      <td>3.0</td>\n      <td>4.692096</td>\n      <td>0.799697</td>\n    </tr>\n    <tr>\n      <th>2013</th>\n      <td>111</td>\n      <td>215</td>\n      <td>intermediate 4</td>\n      <td>14.0</td>\n      <td>-34.0</td>\n      <td>4.712389</td>\n      <td>27</td>\n      <td>3</td>\n      <td>5</td>\n      <td>fixation</td>\n      <td>1.170000</td>\n      <td>1.251555</td>\n      <td>290.870575</td>\n      <td>170.228104</td>\n      <td>2.0</td>\n      <td>V1</td>\n      <td>3.0</td>\n      <td>4.675828</td>\n      <td>0.754867</td>\n    </tr>\n    <tr>\n      <th>2014</th>\n      <td>111</td>\n      <td>215</td>\n      <td>intermediate 4</td>\n      <td>14.0</td>\n      <td>-34.0</td>\n      <td>4.712389</td>\n      <td>27</td>\n      <td>3</td>\n      <td>5</td>\n      <td>memory</td>\n      <td>0.656667</td>\n      <td>1.251555</td>\n      <td>290.870575</td>\n      <td>170.228104</td>\n      <td>2.0</td>\n      <td>V1</td>\n      <td>3.0</td>\n      <td>4.675828</td>\n      <td>0.754867</td>\n    </tr>\n    <tr>\n      <th>2015</th>\n      <td>111</td>\n      <td>215</td>\n      <td>intermediate 4</td>\n      <td>14.0</td>\n      <td>-34.0</td>\n      <td>4.712389</td>\n      <td>27</td>\n      <td>3</td>\n      <td>5</td>\n      <td>avg</td>\n      <td>0.913333</td>\n      <td>1.251555</td>\n      <td>290.870575</td>\n      <td>170.228104</td>\n      <td>2.0</td>\n      <td>V1</td>\n      <td>3.0</td>\n      <td>4.675828</td>\n      <td>0.754867</td>\n    </tr>\n  </tbody>\n</table>\n<p>2016 rows × 19 columns</p>\n</div>"
     },
     "execution_count": 4,
     "metadata": {},
     "output_type": "execute_result"
    }
   ],
   "source": [
    "sf_df"
   ],
   "metadata": {
    "collapsed": false,
    "pycharm": {
     "name": "#%%\n"
    }
   }
  },
  {
   "cell_type": "code",
   "execution_count": 13,
   "outputs": [
    {
     "data": {
      "text/plain": "Empty DataFrame\nColumns: [stim_idx, image_idx, names, w_r, w_a, phase, class_idx, freq_lvl, voxel, task, betas, eccentricity, angle, size, visualrois, vroinames, eccrois, local_sf, local_ori]\nIndex: []",
      "text/html": "<div>\n<style scoped>\n    .dataframe tbody tr th:only-of-type {\n        vertical-align: middle;\n    }\n\n    .dataframe tbody tr th {\n        vertical-align: top;\n    }\n\n    .dataframe thead th {\n        text-align: right;\n    }\n</style>\n<table border=\"1\" class=\"dataframe\">\n  <thead>\n    <tr style=\"text-align: right;\">\n      <th></th>\n      <th>stim_idx</th>\n      <th>image_idx</th>\n      <th>names</th>\n      <th>w_r</th>\n      <th>w_a</th>\n      <th>phase</th>\n      <th>class_idx</th>\n      <th>freq_lvl</th>\n      <th>voxel</th>\n      <th>task</th>\n      <th>betas</th>\n      <th>eccentricity</th>\n      <th>angle</th>\n      <th>size</th>\n      <th>visualrois</th>\n      <th>vroinames</th>\n      <th>eccrois</th>\n      <th>local_sf</th>\n      <th>local_ori</th>\n    </tr>\n  </thead>\n  <tbody>\n  </tbody>\n</table>\n</div>"
     },
     "execution_count": 13,
     "metadata": {},
     "output_type": "execute_result"
    }
   ],
   "source": [
    "vs_df = vs.drop_voxels_with_negative_mean_amplitudes(sf_df)\n",
    "vs_df.groupby('voxel').filter(lambda x: (x.eccentricity + x.size <= 180).all())"
   ],
   "metadata": {
    "collapsed": false,
    "pycharm": {
     "name": "#%%\n"
    }
   }
  },
  {
   "cell_type": "code",
   "execution_count": 12,
   "outputs": [
    {
     "data": {
      "text/plain": "      stim_idx  image_idx           names   w_r   w_a     phase  class_idx  \\\n0            0        104        pinwheel   0.0   6.0  0.000000          0   \n1            0        104        pinwheel   0.0   6.0  0.000000          0   \n2            0        104        pinwheel   0.0   6.0  0.000000          0   \n3            0        104        pinwheel   0.0   6.0  0.000000          0   \n4            0        104        pinwheel   0.0   6.0  0.000000          0   \n...        ...        ...             ...   ...   ...       ...        ...   \n2011       111        215  intermediate 4  14.0 -34.0  4.712389         27   \n2012       111        215  intermediate 4  14.0 -34.0  4.712389         27   \n2013       111        215  intermediate 4  14.0 -34.0  4.712389         27   \n2014       111        215  intermediate 4  14.0 -34.0  4.712389         27   \n2015       111        215  intermediate 4  14.0 -34.0  4.712389         27   \n\n      freq_lvl  voxel      task     betas  eccentricity       angle  \\\n0            0      0  fixation  1.966667      1.370705  292.141510   \n1            0      0    memory  0.676667      1.370705  292.141510   \n2            0      0       avg  1.321667      1.370705  292.141510   \n3            0      1  fixation  1.883333      1.270235  291.033051   \n4            0      1    memory  0.763333      1.270235  291.033051   \n...        ...    ...       ...       ...           ...         ...   \n2011         3      4    memory  0.876667      1.247216  293.439117   \n2012         3      4       avg  1.195000      1.247216  293.439117   \n2013         3      5  fixation  1.170000      1.251555  290.870575   \n2014         3      5    memory  0.656667      1.251555  290.870575   \n2015         3      5       avg  0.913333      1.251555  290.870575   \n\n            size  visualrois vroinames  eccrois  local_sf  local_ori  \n0      84.840942         2.0        V1      3.0  0.696670   0.386442  \n1      84.840942         2.0        V1      3.0  0.696670   0.386442  \n2      84.840942         2.0        V1      3.0  0.696670   0.386442  \n3     170.579865         2.0        V1      3.0  0.751774   0.367096  \n4     170.579865         2.0        V1      3.0  0.751774   0.367096  \n...          ...         ...       ...      ...       ...        ...  \n2011  249.670349         2.0        V1      3.0  4.692096   0.799697  \n2012  249.670349         2.0        V1      3.0  4.692096   0.799697  \n2013  170.228104         2.0        V1      3.0  4.675828   0.754867  \n2014  170.228104         2.0        V1      3.0  4.675828   0.754867  \n2015  170.228104         2.0        V1      3.0  4.675828   0.754867  \n\n[2016 rows x 19 columns]",
      "text/html": "<div>\n<style scoped>\n    .dataframe tbody tr th:only-of-type {\n        vertical-align: middle;\n    }\n\n    .dataframe tbody tr th {\n        vertical-align: top;\n    }\n\n    .dataframe thead th {\n        text-align: right;\n    }\n</style>\n<table border=\"1\" class=\"dataframe\">\n  <thead>\n    <tr style=\"text-align: right;\">\n      <th></th>\n      <th>stim_idx</th>\n      <th>image_idx</th>\n      <th>names</th>\n      <th>w_r</th>\n      <th>w_a</th>\n      <th>phase</th>\n      <th>class_idx</th>\n      <th>freq_lvl</th>\n      <th>voxel</th>\n      <th>task</th>\n      <th>betas</th>\n      <th>eccentricity</th>\n      <th>angle</th>\n      <th>size</th>\n      <th>visualrois</th>\n      <th>vroinames</th>\n      <th>eccrois</th>\n      <th>local_sf</th>\n      <th>local_ori</th>\n    </tr>\n  </thead>\n  <tbody>\n    <tr>\n      <th>0</th>\n      <td>0</td>\n      <td>104</td>\n      <td>pinwheel</td>\n      <td>0.0</td>\n      <td>6.0</td>\n      <td>0.000000</td>\n      <td>0</td>\n      <td>0</td>\n      <td>0</td>\n      <td>fixation</td>\n      <td>1.966667</td>\n      <td>1.370705</td>\n      <td>292.141510</td>\n      <td>84.840942</td>\n      <td>2.0</td>\n      <td>V1</td>\n      <td>3.0</td>\n      <td>0.696670</td>\n      <td>0.386442</td>\n    </tr>\n    <tr>\n      <th>1</th>\n      <td>0</td>\n      <td>104</td>\n      <td>pinwheel</td>\n      <td>0.0</td>\n      <td>6.0</td>\n      <td>0.000000</td>\n      <td>0</td>\n      <td>0</td>\n      <td>0</td>\n      <td>memory</td>\n      <td>0.676667</td>\n      <td>1.370705</td>\n      <td>292.141510</td>\n      <td>84.840942</td>\n      <td>2.0</td>\n      <td>V1</td>\n      <td>3.0</td>\n      <td>0.696670</td>\n      <td>0.386442</td>\n    </tr>\n    <tr>\n      <th>2</th>\n      <td>0</td>\n      <td>104</td>\n      <td>pinwheel</td>\n      <td>0.0</td>\n      <td>6.0</td>\n      <td>0.000000</td>\n      <td>0</td>\n      <td>0</td>\n      <td>0</td>\n      <td>avg</td>\n      <td>1.321667</td>\n      <td>1.370705</td>\n      <td>292.141510</td>\n      <td>84.840942</td>\n      <td>2.0</td>\n      <td>V1</td>\n      <td>3.0</td>\n      <td>0.696670</td>\n      <td>0.386442</td>\n    </tr>\n    <tr>\n      <th>3</th>\n      <td>0</td>\n      <td>104</td>\n      <td>pinwheel</td>\n      <td>0.0</td>\n      <td>6.0</td>\n      <td>0.000000</td>\n      <td>0</td>\n      <td>0</td>\n      <td>1</td>\n      <td>fixation</td>\n      <td>1.883333</td>\n      <td>1.270235</td>\n      <td>291.033051</td>\n      <td>170.579865</td>\n      <td>2.0</td>\n      <td>V1</td>\n      <td>3.0</td>\n      <td>0.751774</td>\n      <td>0.367096</td>\n    </tr>\n    <tr>\n      <th>4</th>\n      <td>0</td>\n      <td>104</td>\n      <td>pinwheel</td>\n      <td>0.0</td>\n      <td>6.0</td>\n      <td>0.000000</td>\n      <td>0</td>\n      <td>0</td>\n      <td>1</td>\n      <td>memory</td>\n      <td>0.763333</td>\n      <td>1.270235</td>\n      <td>291.033051</td>\n      <td>170.579865</td>\n      <td>2.0</td>\n      <td>V1</td>\n      <td>3.0</td>\n      <td>0.751774</td>\n      <td>0.367096</td>\n    </tr>\n    <tr>\n      <th>...</th>\n      <td>...</td>\n      <td>...</td>\n      <td>...</td>\n      <td>...</td>\n      <td>...</td>\n      <td>...</td>\n      <td>...</td>\n      <td>...</td>\n      <td>...</td>\n      <td>...</td>\n      <td>...</td>\n      <td>...</td>\n      <td>...</td>\n      <td>...</td>\n      <td>...</td>\n      <td>...</td>\n      <td>...</td>\n      <td>...</td>\n      <td>...</td>\n    </tr>\n    <tr>\n      <th>2011</th>\n      <td>111</td>\n      <td>215</td>\n      <td>intermediate 4</td>\n      <td>14.0</td>\n      <td>-34.0</td>\n      <td>4.712389</td>\n      <td>27</td>\n      <td>3</td>\n      <td>4</td>\n      <td>memory</td>\n      <td>0.876667</td>\n      <td>1.247216</td>\n      <td>293.439117</td>\n      <td>249.670349</td>\n      <td>2.0</td>\n      <td>V1</td>\n      <td>3.0</td>\n      <td>4.692096</td>\n      <td>0.799697</td>\n    </tr>\n    <tr>\n      <th>2012</th>\n      <td>111</td>\n      <td>215</td>\n      <td>intermediate 4</td>\n      <td>14.0</td>\n      <td>-34.0</td>\n      <td>4.712389</td>\n      <td>27</td>\n      <td>3</td>\n      <td>4</td>\n      <td>avg</td>\n      <td>1.195000</td>\n      <td>1.247216</td>\n      <td>293.439117</td>\n      <td>249.670349</td>\n      <td>2.0</td>\n      <td>V1</td>\n      <td>3.0</td>\n      <td>4.692096</td>\n      <td>0.799697</td>\n    </tr>\n    <tr>\n      <th>2013</th>\n      <td>111</td>\n      <td>215</td>\n      <td>intermediate 4</td>\n      <td>14.0</td>\n      <td>-34.0</td>\n      <td>4.712389</td>\n      <td>27</td>\n      <td>3</td>\n      <td>5</td>\n      <td>fixation</td>\n      <td>1.170000</td>\n      <td>1.251555</td>\n      <td>290.870575</td>\n      <td>170.228104</td>\n      <td>2.0</td>\n      <td>V1</td>\n      <td>3.0</td>\n      <td>4.675828</td>\n      <td>0.754867</td>\n    </tr>\n    <tr>\n      <th>2014</th>\n      <td>111</td>\n      <td>215</td>\n      <td>intermediate 4</td>\n      <td>14.0</td>\n      <td>-34.0</td>\n      <td>4.712389</td>\n      <td>27</td>\n      <td>3</td>\n      <td>5</td>\n      <td>memory</td>\n      <td>0.656667</td>\n      <td>1.251555</td>\n      <td>290.870575</td>\n      <td>170.228104</td>\n      <td>2.0</td>\n      <td>V1</td>\n      <td>3.0</td>\n      <td>4.675828</td>\n      <td>0.754867</td>\n    </tr>\n    <tr>\n      <th>2015</th>\n      <td>111</td>\n      <td>215</td>\n      <td>intermediate 4</td>\n      <td>14.0</td>\n      <td>-34.0</td>\n      <td>4.712389</td>\n      <td>27</td>\n      <td>3</td>\n      <td>5</td>\n      <td>avg</td>\n      <td>0.913333</td>\n      <td>1.251555</td>\n      <td>290.870575</td>\n      <td>170.228104</td>\n      <td>2.0</td>\n      <td>V1</td>\n      <td>3.0</td>\n      <td>4.675828</td>\n      <td>0.754867</td>\n    </tr>\n  </tbody>\n</table>\n<p>2016 rows × 19 columns</p>\n</div>"
     },
     "execution_count": 12,
     "metadata": {},
     "output_type": "execute_result"
    }
   ],
   "source": [
    "vs_df"
   ],
   "metadata": {
    "collapsed": false,
    "pycharm": {
     "name": "#%%\n"
    }
   }
  },
  {
   "cell_type": "code",
   "execution_count": 242,
   "outputs": [
    {
     "name": "stdout",
     "output_type": "stream",
     "text": [
      "4784\n"
     ]
    },
    {
     "data": {
      "text/plain": "2308"
     },
     "execution_count": 242,
     "metadata": {},
     "output_type": "execute_result"
    }
   ],
   "source": [
    "vs_df = vs.select_voxels(sf_df, drop_by=True, inner_border=vs.pix_to_deg(42.878), outer_border=vs.pix_to_deg(714/2), return_voxel_list=False)\n",
    "print(sf_df.voxel.nunique() - vs_df.voxel.nunique())\n",
    "vs_df.voxel.nunique()"
   ],
   "metadata": {
    "collapsed": false,
    "pycharm": {
     "name": "#%%\n"
    }
   }
  },
  {
   "cell_type": "code",
   "execution_count": 262,
   "outputs": [
    {
     "name": "stdout",
     "output_type": "stream",
     "text": [
      "(2382912, 20)\n",
      "(787584, 20)\n",
      "(1352064, 20)\n"
     ]
    }
   ],
   "source": [
    "df =pd.read_csv('/Volumes/server/Projects/sfp_nsd/derivatives/dataframes/nsdsyn/dset-nsdsyn_subj01_roi-V1_vs-None.csv')\n",
    "size_df = pd.read_csv('/Volumes/server/Projects/sfp_nsd/derivatives/dataframes/nsdsyn/dset-nsdsyn_subj01_roi-V1_vs-pRFsize.csv')\n",
    "center_df = pd.read_csv('/Volumes/server/Projects/sfp_nsd/derivatives/dataframes/nsdsyn/dset-nsdsyn_subj01_roi-V1_vs-pRFcenter.csv')\n",
    "print(df.shape)\n",
    "print(size_df.shape)\n",
    "print(center_df.shape)\n"
   ],
   "metadata": {
    "collapsed": false,
    "pycharm": {
     "name": "#%%\n"
    }
   }
  },
  {
   "cell_type": "code",
   "execution_count": 265,
   "outputs": [
    {
     "data": {
      "text/plain": "4.198755299029564"
     },
     "execution_count": 265,
     "metadata": {},
     "output_type": "execute_result"
    }
   ],
   "source": [
    "vs.pix_to_deg(42.878)\n",
    "vs.pix_to_deg(714/2)"
   ],
   "metadata": {
    "collapsed": false,
    "pycharm": {
     "name": "#%%\n"
    }
   }
  },
  {
   "cell_type": "code",
   "execution_count": 273,
   "outputs": [
    {
     "data": {
      "text/plain": "Empty DataFrame\nColumns: [stim_idx, image_idx, names, w_r, w_a, phase, class_idx, freq_lvl, voxel, task, betas, eccentricity, angle, size, visualrois, vroinames, eccrois, local_sf, local_ori, hemi]\nIndex: []",
      "text/html": "<div>\n<style scoped>\n    .dataframe tbody tr th:only-of-type {\n        vertical-align: middle;\n    }\n\n    .dataframe tbody tr th {\n        vertical-align: top;\n    }\n\n    .dataframe thead th {\n        text-align: right;\n    }\n</style>\n<table border=\"1\" class=\"dataframe\">\n  <thead>\n    <tr style=\"text-align: right;\">\n      <th></th>\n      <th>stim_idx</th>\n      <th>image_idx</th>\n      <th>names</th>\n      <th>w_r</th>\n      <th>w_a</th>\n      <th>phase</th>\n      <th>class_idx</th>\n      <th>freq_lvl</th>\n      <th>voxel</th>\n      <th>task</th>\n      <th>betas</th>\n      <th>eccentricity</th>\n      <th>angle</th>\n      <th>size</th>\n      <th>visualrois</th>\n      <th>vroinames</th>\n      <th>eccrois</th>\n      <th>local_sf</th>\n      <th>local_ori</th>\n      <th>hemi</th>\n    </tr>\n  </thead>\n  <tbody>\n  </tbody>\n</table>\n</div>"
     },
     "execution_count": 273,
     "metadata": {},
     "output_type": "execute_result"
    }
   ],
   "source": [
    "center_df.query('eccentricity < 0.5')"
   ],
   "metadata": {
    "collapsed": false,
    "pycharm": {
     "name": "#%%\n"
    }
   }
  },
  {
   "cell_type": "code",
   "execution_count": 247,
   "outputs": [
    {
     "data": {
      "text/plain": "array([  10,   11,   12, ..., 7089, 7090, 7091])"
     },
     "execution_count": 247,
     "metadata": {},
     "output_type": "execute_result"
    }
   ],
   "source": [
    "a = pd.read_csv('/Volumes/server/Projects/sfp_nsd/derivatives/dataframes/nsdsyn/subj01_stim_voxel_info_df_vs-pRFsigma_V1_mean_fix.csv')\n",
    "a.voxel.nunique()\n",
    "np.sort(vs_df.voxel.unique())\n"
   ],
   "metadata": {
    "collapsed": false,
    "pycharm": {
     "name": "#%%\n"
    }
   }
  },
  {
   "cell_type": "code",
   "execution_count": 14,
   "outputs": [
    {
     "data": {
      "text/plain": "dict_items([(1, 'noise_SD'), (2, 'sigma_v_squared')])"
     },
     "execution_count": 14,
     "metadata": {},
     "output_type": "execute_result"
    }
   ],
   "source": [
    "p_dict = {1: 'noise_SD', 2: 'sigma_v_squared'}\n",
    "p_dict.items()"
   ],
   "metadata": {
    "collapsed": false,
    "pycharm": {
     "name": "#%%\n"
    }
   }
  },
  {
   "cell_type": "code",
   "execution_count": 122,
   "outputs": [
    {
     "name": "stdout",
     "output_type": "stream",
     "text": [
      "**subject subj01 V1\n",
      "max angle: 6.28249448319282\n",
      "stored data: voxel: 23, ecc: 1.5560641288757324, angle: 5.030774682393625\n",
      "local orientation: 0.3183857020089355, local sf: 0.6136827145043924\n",
      "Billy function: local orientation: 0.31838570200893535, local sf: 0.6136827145043924\n",
      "**subject subj01 V2\n",
      "max angle: 6.282144543825583\n",
      "stored data: voxel: 17, ecc: 1.5684274435043335, angle: 5.022842190770715\n",
      "local orientation: 0.3104532103860249, local sf: 0.608845288002469\n",
      "Billy function: local orientation: 0.31045321038602475, local sf: 0.608845288002469\n",
      "**subject subj01 V3\n",
      "max angle: 6.279914945360969\n",
      "stored data: voxel: 1130, ecc: 2.7071726322174072, angle: 5.812868928142721\n",
      "local orientation: 1.1004799477580312, local sf: 0.3527405852094488\n",
      "Billy function: local orientation: 1.100479947758031, local sf: 0.35274058520944884\n",
      "**subject subj01 h4v\n",
      "max angle: 6.270196537911052\n",
      "stored data: voxel: 8196, ecc: 1.372119665145874, angle: 6.07241901008519\n",
      "local orientation: 1.3600300297005, local sf: 0.6959521700680901\n",
      "Billy function: local orientation: 1.3600300297004997, local sf: 0.69595217006809\n",
      "**subject subj02 V1\n",
      "max angle: 6.282726178207657\n",
      "stored data: voxel: 30, ecc: 2.132549285888672, angle: 4.822877142425461\n",
      "local orientation: 0.1104881620407711, local sf: 0.4477878494392853\n",
      "Billy function: local orientation: 0.110488162040771, local sf: 0.44778784943928535\n",
      "**subject subj02 V2\n",
      "max angle: 6.282970656395726\n",
      "stored data: voxel: 15, ecc: 1.752269625663757, angle: 4.892601895557044\n",
      "local orientation: 0.1802129151723539, local sf: 0.5449673067234992\n",
      "Billy function: local orientation: 0.18021291517235377, local sf: 0.5449673067234995\n",
      "**subject subj02 V3\n",
      "max angle: 6.282254798694713\n",
      "stored data: voxel: 518, ecc: 1.0628470182418823, angle: 5.887134903565107\n",
      "local orientation: 1.1747459231804172, local sf: 0.898463882535962\n",
      "Billy function: local orientation: 1.174745923180417, local sf: 0.8984638825359621\n",
      "**subject subj02 h4v\n",
      "max angle: 6.259646158936594\n",
      "stored data: voxel: 7799, ecc: 2.370086431503296, angle: 0.2118847415284462\n",
      "local orientation: 1.7826810683233427, local sf: 0.4029092128702159\n",
      "Billy function: local orientation: 1.7826810683233427, local sf: 0.40290921287021586\n",
      "**subject subj03 V1\n",
      "max angle: 6.282123238536863\n",
      "stored data: voxel: 28, ecc: 3.745095729827881, angle: 4.886228951068484\n",
      "local orientation: 0.1738399706837947, local sf: 0.2549813749608102\n",
      "Billy function: local orientation: 0.1738399706837946, local sf: 0.25498137496081025\n",
      "**subject subj03 V2\n",
      "max angle: 6.280583931426797\n",
      "stored data: voxel: 26, ecc: 3.0515410900115967, angle: 5.259989228991219\n",
      "local orientation: 0.5476002486065292, local sf: 0.3129335736874324\n",
      "Billy function: local orientation: 0.547600248606529, local sf: 0.3129335736874325\n",
      "**subject subj03 V3\n",
      "max angle: 6.253999724793408\n",
      "stored data: voxel: 1108, ecc: 3.432806491851806, angle: 5.959634670552552\n",
      "local orientation: 1.247245690167862, local sf: 0.278177538063394\n",
      "Billy function: local orientation: 1.2472456901678617, local sf: 0.2781775380633941\n",
      "**subject subj03 h4v\n",
      "max angle: 6.279847833701499\n",
      "stored data: voxel: 7569, ecc: 2.030683994293213, angle: 0.6733465260597187\n",
      "local orientation: 2.2441428528546155, local sf: 0.4702502512626239\n",
      "Billy function: local orientation: 2.2441428528546155, local sf: 0.4702502512626239\n",
      "**subject subj04 V1\n",
      "max angle: 6.282742689806415\n",
      "stored data: voxel: 90, ecc: 2.263263463973999, angle: 4.604591676309335\n",
      "local orientation: 3.0337953495144383, local sf: 0.4219259815534859\n",
      "Billy function: local orientation: 6.175388003104231, local sf: 0.4219259815534858\n",
      "! different local orientation\n",
      "**subject subj04 V2\n",
      "max angle: 6.283060138608352\n",
      "stored data: voxel: 2, ecc: 2.2237205505371094, angle: 5.648257343268269\n",
      "local orientation: 0.9358683628835792, local sf: 0.4294288049461618\n",
      "Billy function: local orientation: 0.9358683628835791, local sf: 0.42942880494616187\n",
      "**subject subj04 V3\n",
      "max angle: 6.280482198673156\n",
      "stored data: voxel: 8, ecc: 3.5871787071228027, angle: 6.03825118593169\n",
      "local orientation: 1.3258622055470006, local sf: 0.266206324389481\n",
      "Billy function: local orientation: 1.3258622055470004, local sf: 0.266206324389481\n",
      "**subject subj04 h4v\n",
      "max angle: 6.270483094044344\n",
      "stored data: voxel: 3715, ecc: 0.6815341711044312, angle: 0.3213566579420002\n",
      "local orientation: 1.8921529847368967, local sf: 1.401147145716702\n",
      "Billy function: local orientation: 1.892152984736897, local sf: 1.4011471457167022\n",
      "**subject subj05 V1\n",
      "max angle: 6.281351454452958\n",
      "stored data: voxel: 28, ecc: 3.55426025390625, angle: 5.184246264428275\n",
      "local orientation: 0.471857284043585, local sf: 0.2686718445847831\n",
      "Billy function: local orientation: 0.47185728404358485, local sf: 0.2686718445847832\n",
      "**subject subj05 V2\n",
      "max angle: 6.261534872781678\n",
      "stored data: voxel: 14, ecc: 3.430759191513061, angle: 4.774567400251424\n",
      "local orientation: 0.0621784198667345, local sf: 0.278343540086887\n",
      "Billy function: local orientation: 0.062178419866734363, local sf: 0.2783435400868871\n",
      "**subject subj05 V3\n",
      "max angle: 6.226581948738824\n",
      "stored data: voxel: 838, ecc: 2.999394416809082, angle: 5.167071005926136\n",
      "local orientation: 0.4546820255414463, local sf: 0.3183741535290573\n",
      "Billy function: local orientation: 0.4546820255414461, local sf: 0.31837415352905735\n",
      "**subject subj05 h4v\n",
      "max angle: 6.28135624814292\n",
      "stored data: voxel: 6189, ecc: 1.2916975021362305, angle: 6.070343342331582\n",
      "local orientation: 1.3579543619468923, local sf: 0.739282732197046\n",
      "Billy function: local orientation: 1.3579543619468921, local sf: 0.7392827321970458\n",
      "**subject subj06 V1\n",
      "max angle: 6.283134707118875\n",
      "stored data: voxel: 0, ecc: 1.8562179803848269, angle: 4.594995774269561\n",
      "local orientation: 3.0241994474746647, local sf: 0.5144490941486292\n",
      "Billy function: local orientation: 6.165792101064458, local sf: 0.5144490941486292\n",
      "! different local orientation\n",
      "**subject subj06 V2\n",
      "max angle: 6.282432165223312\n",
      "stored data: voxel: 29, ecc: 1.1972510814666748, angle: 4.527018054813071\n",
      "local orientation: 2.956221728018175, local sf: 0.7976018341796355\n",
      "Billy function: local orientation: 6.097814381607968, local sf: 0.7976018341796355\n",
      "! different local orientation\n",
      "**subject subj06 V3\n",
      "max angle: 6.282154131205508\n",
      "stored data: voxel: 935, ecc: 1.80799663066864, angle: 5.572513846073107\n",
      "local orientation: 0.8601248656884177, local sf: 0.5281700432141936\n",
      "Billy function: local orientation: 0.8601248656884176, local sf: 0.5281700432141936\n",
      "**subject subj06 h4v\n",
      "max angle: 6.281907522488567\n",
      "stored data: voxel: 5394, ecc: 2.112099885940552, angle: 5.8413461096789385\n",
      "local orientation: 1.1289571292942489, local sf: 0.452123341754799\n",
      "Billy function: local orientation: 1.1289571292942486, local sf: 0.4521233417547989\n",
      "**subject subj07 V1\n",
      "max angle: 6.280937599219559\n",
      "stored data: voxel: 4, ecc: 3.907506227493286, angle: 4.775497376104079\n",
      "local orientation: 0.0631083957193894, local sf: 0.2443834002956845\n",
      "Billy function: local orientation: 0.06310839571938925, local sf: 0.2443834002956846\n",
      "**subject subj07 V2\n",
      "max angle: 6.2813035175533365\n",
      "stored data: voxel: 102, ecc: 2.630488395690918, angle: 4.721473555495168\n",
      "local orientation: 0.009084575110478, local sf: 0.3630237107738893\n",
      "Billy function: local orientation: 0.009084575110477817, local sf: 0.3630237107738894\n",
      "**subject subj07 V3\n",
      "max angle: 6.282571182232214\n",
      "stored data: voxel: 1227, ecc: 3.144408226013184, angle: 5.677916435696264\n",
      "local orientation: 0.965527455311574, local sf: 0.3036913752646341\n",
      "Billy function: local orientation: 0.9655274553115738, local sf: 0.303691375264634\n",
      "**subject subj07 h4v\n",
      "max angle: 6.281970905722511\n",
      "stored data: voxel: 6198, ecc: 0.8819253444671631, angle: 4.016771569972102\n",
      "local orientation: 2.4459752431772053, local sf: 1.0827783378062643\n",
      "Billy function: local orientation: 5.587567896766998, local sf: 1.0827783378062645\n",
      "! different local orientation\n",
      "**subject subj08 V1\n",
      "max angle: 6.282948285842569\n",
      "stored data: voxel: 85, ecc: 2.993405103683472, angle: 4.940216020054352\n",
      "local orientation: 0.2278270396696626, local sf: 0.3190111680428096\n",
      "Billy function: local orientation: 0.2278270396696625, local sf: 0.31901116804280966\n",
      "**subject subj08 V2\n",
      "max angle: 6.279968741214988\n",
      "stored data: voxel: 9, ecc: 4.084707260131836, angle: 4.986336643812344\n",
      "local orientation: 0.2739476634276547, local sf: 0.2337816635899022\n",
      "Billy function: local orientation: 0.2739476634276545, local sf: 0.23378166358990224\n",
      "**subject subj08 V3\n",
      "max angle: 6.280623878843148\n",
      "stored data: voxel: 762, ecc: 1.728091835975647, angle: 5.7848338313474565\n",
      "local orientation: 1.0724448509627669, local sf: 0.552591962227654\n",
      "Billy function: local orientation: 1.0724448509627666, local sf: 0.552591962227654\n",
      "**subject subj08 h4v\n",
      "max angle: 6.276708499408514\n",
      "stored data: voxel: 6224, ecc: 3.3221824169158936, angle: 5.743605967144158\n",
      "local orientation: 1.0312169867594685, local sf: 0.2874404649452901\n",
      "Billy function: local orientation: 1.0312169867594685, local sf: 0.28744046494529013\n"
     ]
    }
   ],
   "source": [
    "from sfp import stimuli\n",
    "sn_list = np.arange(1,9)\n",
    "roi_list = ['V1','V2','V3','h4v']\n",
    "\n",
    "for sn, roi in itertools.product(sn_list, roi_list):\n",
    "    subj = utils.sub_number_to_string(sn, 'nsdsyn')\n",
    "    print(f'**subject {subj} {roi}')\n",
    "    s = pd.read_csv(f'/Volumes/server/Projects/sfp_nsd/derivatives/dataframes/nsdsyn/{subj}_stim_voxel_info_df_vs-pRFsigma_{roi}_mean_fix.csv')\n",
    "    print(f'max angle: {s.angle.max()}')\n",
    "    random_vox = s.iloc[0]\n",
    "    print(f'stored data: voxel: {random_vox.voxel}, ecc: {random_vox.eccentricity}, angle: {random_vox.angle}\\nlocal orientation: {random_vox.local_ori}, local sf: {random_vox.local_sf}')\n",
    "    _, _, local_sf2, local_ori2 = stimuli.sf_cpd(714/2, 4.2, eccen=random_vox.eccentricity, angle=random_vox.angle, w_r=random_vox.w_r, w_a=random_vox.w_a)\n",
    "    print(f'Billy function: local orientation: {local_ori2}, local sf: {local_sf2}')\n",
    "    if np.round(random_vox.local_ori,4) != np.round(local_ori2, 4):\n",
    "        print('! different local orientation')\n",
    "    if np.round(random_vox.local_sf,4) != np.round(local_sf2, 4):\n",
    "        print('! different local sf')"
   ],
   "metadata": {
    "collapsed": false,
    "pycharm": {
     "name": "#%%\n"
    }
   }
  }
 ],
 "metadata": {
  "kernelspec": {
   "display_name": "Python 3",
   "language": "python",
   "name": "python3"
  },
  "language_info": {
   "codemirror_mode": {
    "name": "ipython",
    "version": 2
   },
   "file_extension": ".py",
   "mimetype": "text/x-python",
   "name": "python",
   "nbconvert_exporter": "python",
   "pygments_lexer": "ipython2",
   "version": "2.7.6"
  }
 },
 "nbformat": 4,
 "nbformat_minor": 0
}