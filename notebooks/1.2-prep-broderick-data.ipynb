{
 "cells": [
  {
   "cell_type": "code",
   "execution_count": 1,
   "id": "initial_id",
   "metadata": {
    "collapsed": true,
    "ExecuteTime": {
     "end_time": "2024-05-27T08:39:30.682186Z",
     "start_time": "2024-05-27T08:39:28.890076Z"
    }
   },
   "outputs": [],
   "source": [
    "import sys\n",
    "sys.path.append('..')\n",
    "import os\n",
    "import pandas as pd\n",
    "import numpy as np\n",
    "import matplotlib.pyplot as plt\n",
    "import seaborn as sns\n",
    "from sfp_nsdsyn import *\n",
    "import warnings\n",
    "import itertools\n",
    "warnings.filterwarnings(\"ignore\", category=UserWarning)\n",
    "pd.options.mode.chained_assignment = None\n",
    "%load_ext autoreload\n",
    "%autoreload 2"
   ]
  },
  {
   "cell_type": "code",
   "outputs": [],
   "source": [
    "#broderick path information\n",
    "subj='sub-wlsubj001'\n",
    "broderick_dir = '/Volumes/server/Projects/sfp_nsd/Broderick_dataset'\n",
    "stim_info = os.path.join(broderick_dir, 'stimuli', 'task-sfprescaled_stim_description.csv')\n",
    "lh_varea_path=os.path.join(broderick_dir, 'derivatives', 'prf_solutions', subj, 'bayesian_posterior', 'lh.inferred_varea.mgz')\n",
    "lh_eccentricity_path=os.path.join(broderick_dir, 'derivatives', 'prf_solutions', subj, 'bayesian_posterior', 'lh.inferred_eccen.mgz')\n",
    "lh_angle_path=os.path.join(broderick_dir, 'derivatives', 'prf_solutions', subj, 'bayesian_posterior', 'lh.inferred_angle.mgz')\n",
    "lh_sigma_path=os.path.join(broderick_dir, 'derivatives', 'prf_solutions', subj, 'bayesian_posterior', 'lh.inferred_sigma.mgz')\n",
    "lh_prf_path_list = [lh_eccentricity_path, lh_angle_path, lh_sigma_path, lh_varea_path]\n",
    "\n",
    "rh_varea_path=os.path.join(broderick_dir, 'derivatives', 'prf_solutions', subj, 'bayesian_posterior', 'rh.inferred_varea.mgz')\n",
    "rh_eccentricity_path=os.path.join(broderick_dir, 'derivatives', 'prf_solutions', subj, 'bayesian_posterior', 'rh.inferred_eccen.mgz')\n",
    "rh_angle_path=os.path.join(broderick_dir, 'derivatives', 'prf_solutions', subj, 'bayesian_posterior', 'rh.inferred_angle.mgz')\n",
    "rh_sigma_path=os.path.join(broderick_dir, 'derivatives', 'prf_solutions', subj, 'bayesian_posterior', 'rh.inferred_sigma.mgz')\n",
    "rh_prf_path_list = [rh_eccentricity_path, rh_angle_path, rh_sigma_path, rh_varea_path]\n",
    "\n",
    "betas_path = os.path.join(broderick_dir, 'derivatives', 'GLMdenoise', f'{subj}_ses-04_task-sfprescaled_results.mat')"
   ],
   "metadata": {
    "collapsed": false,
    "ExecuteTime": {
     "end_time": "2024-05-20T18:02:02.045144Z",
     "start_time": "2024-05-20T18:02:02.001946Z"
    }
   },
   "id": "d1fc2ab1b043a8a5",
   "execution_count": 51
  },
  {
   "cell_type": "markdown",
   "source": [
    "# Load stimulus information"
   ],
   "metadata": {
    "collapsed": false
   },
   "id": "44515d8a7baf14d8"
  },
  {
   "cell_type": "code",
   "outputs": [],
   "source": [
    "stim_info = brod.load_broderick_stim_info(stim_info)"
   ],
   "metadata": {
    "collapsed": false,
    "ExecuteTime": {
     "end_time": "2024-05-20T18:02:05.179779Z",
     "start_time": "2024-05-20T18:02:05.128388Z"
    }
   },
   "id": "534b7716cd645164",
   "execution_count": 52
  },
  {
   "cell_type": "code",
   "outputs": [],
   "source": [
    "mask = brod.make_lh_rh_masks(lh_varea_path, rh_varea_path,\n",
    "                             lh_eccentricity_path, rh_eccentricity_path,\n",
    "                             roi=\"V1\", eccen_range=[1, 12])"
   ],
   "metadata": {
    "collapsed": false,
    "ExecuteTime": {
     "end_time": "2024-05-20T18:02:14.918061Z",
     "start_time": "2024-05-20T18:02:14.859248Z"
    }
   },
   "id": "18cf52a66c88799a",
   "execution_count": 53
  },
  {
   "cell_type": "code",
   "outputs": [],
   "source": [
    "prf_df = brod.load_lh_rh_prf_proporties_as_df(lh_prf_path_list, \n",
    "                                              rh_prf_path_list, \n",
    "                                              lh_mask=mask['lh'], rh_mask=mask['rh'], angle_to_radians=True)"
   ],
   "metadata": {
    "collapsed": false,
    "ExecuteTime": {
     "end_time": "2024-05-08T23:00:26.329036Z",
     "start_time": "2024-05-08T23:00:26.061551Z"
    }
   },
   "id": "ebd989c74b77a824",
   "execution_count": 180
  },
  {
   "cell_type": "code",
   "outputs": [
    {
     "name": "stdout",
     "output_type": "stream",
     "text": [
      "(240885, 48, 100)\n"
     ]
    }
   ],
   "source": [
    "betas_df = brod.load_betas_as_df(betas_path, mask, results_names=['models'])"
   ],
   "metadata": {
    "collapsed": false,
    "ExecuteTime": {
     "end_time": "2024-05-20T18:07:17.887149Z",
     "start_time": "2024-05-20T18:05:56.820846Z"
    }
   },
   "id": "e451fba27d43b51e",
   "execution_count": 61
  },
  {
   "cell_type": "code",
   "outputs": [
    {
     "data": {
      "text/plain": "{'lh':          voxel  class_idx  bootstraps     betas\n 0            0          0           0  1.786868\n 1            0          0           1  1.799573\n 2            0          0           2  1.820887\n 3            0          0           3  2.107070\n 4            0          0           4  1.487799\n ...        ...        ...         ...       ...\n 8553595   1781         47          95  5.409488\n 8553596   1781         47          96  6.597688\n 8553597   1781         47          97  5.876988\n 8553598   1781         47          98  4.704140\n 8553599   1781         47          99  5.758471\n \n [8553600 rows x 4 columns],\n 'rh':           voxel  class_idx  bootstraps     betas\n 0             0          0           0  1.790975\n 1             0          0           1  1.807808\n 2             0          0           2  2.182446\n 3             0          0           3  2.270863\n 4             0          0           4  1.852887\n ...         ...        ...         ...       ...\n 10684795   2225         47          95  1.052833\n 10684796   2225         47          96  1.208026\n 10684797   2225         47          97  1.152905\n 10684798   2225         47          98  0.733636\n 10684799   2225         47          99  0.920957\n \n [10684800 rows x 4 columns]}"
     },
     "execution_count": 62,
     "metadata": {},
     "output_type": "execute_result"
    }
   ],
   "source": [
    "betas_df"
   ],
   "metadata": {
    "collapsed": false,
    "ExecuteTime": {
     "end_time": "2024-05-20T18:08:43.637969Z",
     "start_time": "2024-05-20T18:08:43.605648Z"
    }
   },
   "id": "91bfbd2809e02045",
   "execution_count": 62
  },
  {
   "cell_type": "code",
   "outputs": [],
   "source": [
    "prf_betas_df = brod.merge_prf_and_betas(prf_df, betas_df)\n",
    "prf_betas_df = brod.concat_lh_and_rh_df(prf_betas_df)"
   ],
   "metadata": {
    "collapsed": false,
    "ExecuteTime": {
     "end_time": "2024-05-08T22:38:56.764831Z",
     "start_time": "2024-05-08T22:38:56.716266Z"
    }
   },
   "id": "1ddfacc61e83aba2",
   "execution_count": 169
  },
  {
   "cell_type": "code",
   "outputs": [],
   "source": [
    "df = brod.merge_stim_df_and_betas_df(prf_betas_df, stim_df, on='class_idx')"
   ],
   "metadata": {
    "collapsed": false,
    "ExecuteTime": {
     "end_time": "2024-05-08T22:50:47.246239Z",
     "start_time": "2024-05-08T22:50:47.062061Z"
    }
   },
   "id": "908a8d6f8824be99",
   "execution_count": 177
  },
  {
   "cell_type": "code",
   "outputs": [],
   "source": [
    "df['local_ori'] = prep.calculate_local_orientation(df['w_a'], df['w_r'], df['eccentricity'], angle_in_radians=True, reference_frame='relative')"
   ],
   "metadata": {
    "collapsed": false,
    "ExecuteTime": {
     "end_time": "2024-05-08T23:02:11.678047Z",
     "start_time": "2024-05-08T23:02:11.620797Z"
    }
   },
   "id": "5b1278daf238da12",
   "execution_count": 186
  },
  {
   "cell_type": "code",
   "outputs": [],
   "source": [
    "df['local_sf'], df['local_ori'] = prep.calculate_local_stim_properties(df['w_a'], df['w_r'], \n",
    "                                     df['eccentricity'], df['angle'], angle_in_radians=False, reference_frame='relative')"
   ],
   "metadata": {
    "collapsed": false,
    "ExecuteTime": {
     "end_time": "2024-05-08T23:04:11.445066Z",
     "start_time": "2024-05-08T23:04:11.357474Z"
    }
   },
   "id": "8086e932af8b75d4",
   "execution_count": 187
  },
  {
   "cell_type": "code",
   "outputs": [],
   "source": [
    "\n",
    "broderick_sn_list = [1, 6, 7, 45, 46, 62, 64, 81, 95, 114, 115, 121]\n",
    "subj_list = [utils.sub_number_to_string(sn, dataset=\"broderick\") for sn in broderick_sn_list]"
   ],
   "metadata": {
    "collapsed": false,
    "ExecuteTime": {
     "end_time": "2024-05-20T17:33:20.143402Z",
     "start_time": "2024-05-20T17:33:20.116600Z"
    }
   },
   "id": "997e4ec5854b6af4",
   "execution_count": 36
  },
  {
   "cell_type": "code",
   "outputs": [
    {
     "name": "stdout",
     "output_type": "stream",
     "text": [
      "(240885, 48)\n"
     ]
    }
   ],
   "source": [
    "roi='V1'\n",
    "for sub in subj_list[:1]:\n",
    "    subj=f'sub-{sub}'\n",
    "    broderick_dir = '/Volumes/server/Projects/sfp_nsd/Broderick_dataset'\n",
    "    stim_info_path = os.path.join(broderick_dir, 'stimuli', 'task-sfprescaled_stim_description.csv')\n",
    "    lh_varea_path=os.path.join(broderick_dir, 'derivatives', 'prf_solutions', subj, 'bayesian_posterior', 'lh.inferred_varea.mgz')\n",
    "    lh_eccentricity_path=os.path.join(broderick_dir, 'derivatives', 'prf_solutions', subj, 'bayesian_posterior', 'lh.inferred_eccen.mgz')\n",
    "    lh_angle_path=os.path.join(broderick_dir, 'derivatives', 'prf_solutions', subj, 'bayesian_posterior', 'lh.inferred_angle.mgz')\n",
    "    lh_sigma_path=os.path.join(broderick_dir, 'derivatives', 'prf_solutions', subj, 'bayesian_posterior', 'lh.inferred_sigma.mgz')\n",
    "    lh_prf_path_list = [lh_eccentricity_path, lh_angle_path, lh_sigma_path, lh_varea_path]\n",
    "    \n",
    "    rh_varea_path=os.path.join(broderick_dir, 'derivatives', 'prf_solutions', subj, 'bayesian_posterior', 'rh.inferred_varea.mgz')\n",
    "    rh_eccentricity_path=os.path.join(broderick_dir, 'derivatives', 'prf_solutions', subj, 'bayesian_posterior', 'rh.inferred_eccen.mgz')\n",
    "    rh_angle_path=os.path.join(broderick_dir, 'derivatives', 'prf_solutions', subj, 'bayesian_posterior', 'rh.inferred_angle.mgz')\n",
    "    rh_sigma_path=os.path.join(broderick_dir, 'derivatives', 'prf_solutions', subj, 'bayesian_posterior', 'rh.inferred_sigma.mgz')\n",
    "    rh_prf_path_list = [rh_eccentricity_path, rh_angle_path, rh_sigma_path, rh_varea_path]\n",
    "    \n",
    "    betas_path = os.path.join(broderick_dir, 'derivatives', 'GLMdenoise', f'{subj}_ses-04_task-sfprescaled_results.mat')\n",
    "    bd_df = brod.make_broderick_sf_dataframe(stim_info_path,\n",
    "                                            lh_varea_path, rh_varea_path, \n",
    "                                            lh_eccentricity_path, rh_eccentricity_path,\n",
    "                                            lh_prf_path_list, rh_prf_path_list,\n",
    "                                            betas_path,\n",
    "                                            eccen_range=[1,12], roi=\"V1\",\n",
    "                                            angle_to_radians=True,\n",
    "                                            reference_frame='relative',\n",
    "                                            results_names=['modelmd'])\n",
    "    bd_df = vs.select_voxels(bd_df, drop_by='pRFcenter',\n",
    "                              inner_border=1, outer_border=12,\n",
    "                              to_group=['voxel'], return_voxel_list=False)\n",
    "    bd_dir_save = '/Volumes/server/Projects/sfp_nsd/derivatives/dataframes/broderick'\n",
    "    #bd_df.to_csv(os.path.join(bd_dir_save, f'dset-broderick_{subj}_roi-{roi}'))"
   ],
   "metadata": {
    "collapsed": false,
    "ExecuteTime": {
     "end_time": "2024-05-20T18:12:20.328611Z",
     "start_time": "2024-05-20T18:12:18.220868Z"
    }
   },
   "id": "8fc56aa994759a8c",
   "execution_count": 65
  },
  {
   "cell_type": "code",
   "outputs": [
    {
     "data": {
      "text/plain": "array(['lh', 'rh'], dtype=object)"
     },
     "execution_count": 43,
     "metadata": {},
     "output_type": "execute_result"
    }
   ],
   "source": [
    "bd_df.hemi.unique()"
   ],
   "metadata": {
    "collapsed": false,
    "ExecuteTime": {
     "end_time": "2024-05-20T17:48:32.158481Z",
     "start_time": "2024-05-20T17:48:32.121164Z"
    }
   },
   "id": "608bd414f95a0c4d",
   "execution_count": 43
  },
  {
   "cell_type": "markdown",
   "source": [],
   "metadata": {
    "collapsed": false
   },
   "id": "d99e5f4a9fc924ad"
  },
  {
   "cell_type": "code",
   "outputs": [
    {
     "data": {
      "text/plain": "  hemi  angle\n0   lh     90\n1   lh    135\n2   lh    180\n3   lh    225\n4   lh    270\n0   rh     90\n1   rh     45\n2   rh    360\n3   rh    315\n4   rh    270",
      "text/html": "<div>\n<style scoped>\n    .dataframe tbody tr th:only-of-type {\n        vertical-align: middle;\n    }\n\n    .dataframe tbody tr th {\n        vertical-align: top;\n    }\n\n    .dataframe thead th {\n        text-align: right;\n    }\n</style>\n<table border=\"1\" class=\"dataframe\">\n  <thead>\n    <tr style=\"text-align: right;\">\n      <th></th>\n      <th>hemi</th>\n      <th>angle</th>\n    </tr>\n  </thead>\n  <tbody>\n    <tr>\n      <th>0</th>\n      <td>lh</td>\n      <td>90</td>\n    </tr>\n    <tr>\n      <th>1</th>\n      <td>lh</td>\n      <td>135</td>\n    </tr>\n    <tr>\n      <th>2</th>\n      <td>lh</td>\n      <td>180</td>\n    </tr>\n    <tr>\n      <th>3</th>\n      <td>lh</td>\n      <td>225</td>\n    </tr>\n    <tr>\n      <th>4</th>\n      <td>lh</td>\n      <td>270</td>\n    </tr>\n    <tr>\n      <th>0</th>\n      <td>rh</td>\n      <td>90</td>\n    </tr>\n    <tr>\n      <th>1</th>\n      <td>rh</td>\n      <td>45</td>\n    </tr>\n    <tr>\n      <th>2</th>\n      <td>rh</td>\n      <td>360</td>\n    </tr>\n    <tr>\n      <th>3</th>\n      <td>rh</td>\n      <td>315</td>\n    </tr>\n    <tr>\n      <th>4</th>\n      <td>rh</td>\n      <td>270</td>\n    </tr>\n  </tbody>\n</table>\n</div>"
     },
     "execution_count": 27,
     "metadata": {},
     "output_type": "execute_result"
    }
   ],
   "source": [
    "answer = pd.DataFrame({'hemi': ['lh','lh','lh','lh','lh'], 'angle': [90, 135, 180, 225, 270]})\n",
    "answer = answer.append(pd.DataFrame({'hemi': ['rh','rh','rh','rh','rh'], 'angle': [90, 45, 360, 315, 270]}))\n",
    "answer"
   ],
   "metadata": {
    "collapsed": false,
    "ExecuteTime": {
     "end_time": "2024-05-20T15:46:50.796567Z",
     "start_time": "2024-05-20T15:46:50.767389Z"
    }
   },
   "id": "4d9d31c7646bc90f",
   "execution_count": 27
  },
  {
   "cell_type": "code",
   "outputs": [
    {
     "data": {
      "text/plain": "  hemi  angle\n0   lh      0\n1   lh     45\n2   lh     90\n3   lh    135\n4   lh    180\n0   rh      0\n1   rh     45\n2   rh     90\n3   rh    135\n4   rh    180",
      "text/html": "<div>\n<style scoped>\n    .dataframe tbody tr th:only-of-type {\n        vertical-align: middle;\n    }\n\n    .dataframe tbody tr th {\n        vertical-align: top;\n    }\n\n    .dataframe thead th {\n        text-align: right;\n    }\n</style>\n<table border=\"1\" class=\"dataframe\">\n  <thead>\n    <tr style=\"text-align: right;\">\n      <th></th>\n      <th>hemi</th>\n      <th>angle</th>\n    </tr>\n  </thead>\n  <tbody>\n    <tr>\n      <th>0</th>\n      <td>lh</td>\n      <td>0</td>\n    </tr>\n    <tr>\n      <th>1</th>\n      <td>lh</td>\n      <td>45</td>\n    </tr>\n    <tr>\n      <th>2</th>\n      <td>lh</td>\n      <td>90</td>\n    </tr>\n    <tr>\n      <th>3</th>\n      <td>lh</td>\n      <td>135</td>\n    </tr>\n    <tr>\n      <th>4</th>\n      <td>lh</td>\n      <td>180</td>\n    </tr>\n    <tr>\n      <th>0</th>\n      <td>rh</td>\n      <td>0</td>\n    </tr>\n    <tr>\n      <th>1</th>\n      <td>rh</td>\n      <td>45</td>\n    </tr>\n    <tr>\n      <th>2</th>\n      <td>rh</td>\n      <td>90</td>\n    </tr>\n    <tr>\n      <th>3</th>\n      <td>rh</td>\n      <td>135</td>\n    </tr>\n    <tr>\n      <th>4</th>\n      <td>rh</td>\n      <td>180</td>\n    </tr>\n  </tbody>\n</table>\n</div>"
     },
     "execution_count": 18,
     "metadata": {},
     "output_type": "execute_result"
    }
   ],
   "source": [
    "test = pd.DataFrame({'hemi': ['lh','lh','lh','lh','lh'], 'angle': [0, 45, 90, 135, 180]})\n",
    "test = test.append(pd.DataFrame({'hemi': ['rh','rh','rh','rh','rh'], 'angle': [0, 45, 90, 135, 180]}))\n",
    "test"
   ],
   "metadata": {
    "collapsed": false,
    "ExecuteTime": {
     "end_time": "2024-05-20T15:39:53.227720Z",
     "start_time": "2024-05-20T15:39:53.189708Z"
    }
   },
   "id": "b0c5ba37d81fa617",
   "execution_count": 18
  },
  {
   "cell_type": "code",
   "outputs": [],
   "source": [
    "test['new_angle_-90'] = test.apply(brod._transform_angle, axis=1)"
   ],
   "metadata": {
    "collapsed": false,
    "ExecuteTime": {
     "end_time": "2024-05-20T15:44:17.093876Z",
     "start_time": "2024-05-20T15:44:17.066713Z"
    }
   },
   "id": "d639223cd06d079c",
   "execution_count": 22
  },
  {
   "cell_type": "code",
   "outputs": [],
   "source": [
    "test['new_angle_+90'] = test.apply(brod._transform_angle_corrected, axis=1)"
   ],
   "metadata": {
    "collapsed": false,
    "ExecuteTime": {
     "end_time": "2024-05-20T15:45:09.469548Z",
     "start_time": "2024-05-20T15:45:09.440335Z"
    }
   },
   "id": "e22de5e95392b89e",
   "execution_count": 24
  },
  {
   "cell_type": "code",
   "outputs": [
    {
     "data": {
      "text/plain": "  hemi  angle  new_angle_-90  new_angle_+90 hemi  angle\n0   lh      0            270             90   lh     90\n1   lh     45            315            135   lh    135\n2   lh     90              0            180   lh    180\n3   lh    135             45            225   lh    225\n4   lh    180             90            270   lh    270\n0   rh      0            270             90   rh     90\n1   rh     45            225             45   rh     45\n2   rh     90            180              0   rh    360\n3   rh    135            135            315   rh    315\n4   rh    180             90            270   rh    270",
      "text/html": "<div>\n<style scoped>\n    .dataframe tbody tr th:only-of-type {\n        vertical-align: middle;\n    }\n\n    .dataframe tbody tr th {\n        vertical-align: top;\n    }\n\n    .dataframe thead th {\n        text-align: right;\n    }\n</style>\n<table border=\"1\" class=\"dataframe\">\n  <thead>\n    <tr style=\"text-align: right;\">\n      <th></th>\n      <th>hemi</th>\n      <th>angle</th>\n      <th>new_angle_-90</th>\n      <th>new_angle_+90</th>\n      <th>hemi</th>\n      <th>angle</th>\n    </tr>\n  </thead>\n  <tbody>\n    <tr>\n      <th>0</th>\n      <td>lh</td>\n      <td>0</td>\n      <td>270</td>\n      <td>90</td>\n      <td>lh</td>\n      <td>90</td>\n    </tr>\n    <tr>\n      <th>1</th>\n      <td>lh</td>\n      <td>45</td>\n      <td>315</td>\n      <td>135</td>\n      <td>lh</td>\n      <td>135</td>\n    </tr>\n    <tr>\n      <th>2</th>\n      <td>lh</td>\n      <td>90</td>\n      <td>0</td>\n      <td>180</td>\n      <td>lh</td>\n      <td>180</td>\n    </tr>\n    <tr>\n      <th>3</th>\n      <td>lh</td>\n      <td>135</td>\n      <td>45</td>\n      <td>225</td>\n      <td>lh</td>\n      <td>225</td>\n    </tr>\n    <tr>\n      <th>4</th>\n      <td>lh</td>\n      <td>180</td>\n      <td>90</td>\n      <td>270</td>\n      <td>lh</td>\n      <td>270</td>\n    </tr>\n    <tr>\n      <th>0</th>\n      <td>rh</td>\n      <td>0</td>\n      <td>270</td>\n      <td>90</td>\n      <td>rh</td>\n      <td>90</td>\n    </tr>\n    <tr>\n      <th>1</th>\n      <td>rh</td>\n      <td>45</td>\n      <td>225</td>\n      <td>45</td>\n      <td>rh</td>\n      <td>45</td>\n    </tr>\n    <tr>\n      <th>2</th>\n      <td>rh</td>\n      <td>90</td>\n      <td>180</td>\n      <td>0</td>\n      <td>rh</td>\n      <td>360</td>\n    </tr>\n    <tr>\n      <th>3</th>\n      <td>rh</td>\n      <td>135</td>\n      <td>135</td>\n      <td>315</td>\n      <td>rh</td>\n      <td>315</td>\n    </tr>\n    <tr>\n      <th>4</th>\n      <td>rh</td>\n      <td>180</td>\n      <td>90</td>\n      <td>270</td>\n      <td>rh</td>\n      <td>270</td>\n    </tr>\n  </tbody>\n</table>\n</div>"
     },
     "execution_count": 28,
     "metadata": {},
     "output_type": "execute_result"
    }
   ],
   "source": [
    "pd.concat((test,answer), axis=1)"
   ],
   "metadata": {
    "collapsed": false,
    "ExecuteTime": {
     "end_time": "2024-05-20T15:46:55.931689Z",
     "start_time": "2024-05-20T15:46:55.901242Z"
    }
   },
   "id": "d2d157a1a7c8df34",
   "execution_count": 28
  },
  {
   "cell_type": "code",
   "outputs": [
    {
     "data": {
      "text/plain": "12.39983801066225"
     },
     "execution_count": 70,
     "metadata": {},
     "output_type": "execute_result"
    }
   ],
   "source": [
    "np.rad2deg(0.216418)"
   ],
   "metadata": {
    "collapsed": false,
    "ExecuteTime": {
     "end_time": "2024-05-20T18:51:14.178483Z",
     "start_time": "2024-05-20T18:51:14.145103Z"
    }
   },
   "id": "c034c2bc6c6ab611",
   "execution_count": 70
  },
  {
   "cell_type": "code",
   "outputs": [
    {
     "ename": "ValueError",
     "evalue": "operands could not be broadcast together with shapes (90,) (180,) (90,) ",
     "output_type": "error",
     "traceback": [
      "\u001B[0;31m---------------------------------------------------------------------------\u001B[0m",
      "\u001B[0;31mValueError\u001B[0m                                Traceback (most recent call last)",
      "\u001B[0;32m/var/folders/dc/rp0klyw131l30jr45p7_7gnnnl2r2_/T/ipykernel_67854/2215869790.py\u001B[0m in \u001B[0;36m<module>\u001B[0;34m\u001B[0m\n\u001B[1;32m      1\u001B[0m \u001B[0mnoah_angles\u001B[0m \u001B[0;34m=\u001B[0m \u001B[0mnp\u001B[0m\u001B[0;34m.\u001B[0m\u001B[0mflip\u001B[0m\u001B[0;34m(\u001B[0m\u001B[0mnp\u001B[0m\u001B[0;34m.\u001B[0m\u001B[0marange\u001B[0m\u001B[0;34m(\u001B[0m\u001B[0;36m0\u001B[0m\u001B[0;34m,\u001B[0m\u001B[0;36m90\u001B[0m\u001B[0;34m)\u001B[0m\u001B[0;34m)\u001B[0m\u001B[0;34m\u001B[0m\u001B[0;34m\u001B[0m\u001B[0m\n\u001B[0;32m----> 2\u001B[0;31m \u001B[0mnoah_angles\u001B[0m \u001B[0;34m+=\u001B[0m \u001B[0mnp\u001B[0m\u001B[0;34m.\u001B[0m\u001B[0marange\u001B[0m\u001B[0;34m(\u001B[0m\u001B[0;36m0\u001B[0m\u001B[0;34m,\u001B[0m\u001B[0;36m180\u001B[0m\u001B[0;34m)\u001B[0m\u001B[0;34m\u001B[0m\u001B[0;34m\u001B[0m\u001B[0m\n\u001B[0m",
      "\u001B[0;31mValueError\u001B[0m: operands could not be broadcast together with shapes (90,) (180,) (90,) "
     ]
    }
   ],
   "source": [
    "noah_angles = np.flip(np.arange(0,90))"
   ],
   "metadata": {
    "collapsed": false,
    "ExecuteTime": {
     "end_time": "2024-05-20T19:12:42.973402Z",
     "start_time": "2024-05-20T19:12:42.942152Z"
    }
   },
   "id": "1ee2bc41b48778ae",
   "execution_count": 90
  },
  {
   "cell_type": "code",
   "outputs": [],
   "source": [
    "ground_truth = np.arange(0, 360)\n",
    "noah_angles = np.flip(np.arange(0,90))\n",
    "noah_angles = np.concatenate((noah_angles, np.arange(0,180)))\n",
    "noah_angles = np.concatenate((noah_angles, np.flip(np.arange(90,180))))\n",
    "\n",
    "adjusted_noah_angles = np.flip(np.arange(0,90))\n",
    "adjusted_noah_angles = np.concatenate((adjusted_noah_angles, np.flip(np.arange(-180,0))))\n",
    "adjusted_noah_angles = np.concatenate((adjusted_noah_angles, np.flip(np.arange(90,180))))\n",
    "\n",
    "billy_angles = np.mod((adjusted_noah_angles-90), 360)\n",
    "\n",
    "corrected_angles = np.arange(-90,0)\n",
    "corrected_angles = np.concatenate((corrected_angles, np.arange(0,180)))\n",
    "corrected_angles = np.concatenate((corrected_angles, np.arange(-180,-90)))\n",
    "corrected_angles = np.mod((corrected_angles+90), 360)"
   ],
   "metadata": {
    "collapsed": false,
    "ExecuteTime": {
     "end_time": "2024-05-20T20:09:00.752293Z",
     "start_time": "2024-05-20T20:09:00.722416Z"
    }
   },
   "id": "48659c37f052b04d",
   "execution_count": 133
  },
  {
   "cell_type": "code",
   "outputs": [
    {
     "data": {
      "text/plain": "array([ 89,  53,  17,  18,  54,  90, 126, 162, 161, 125])"
     },
     "execution_count": 99,
     "metadata": {},
     "output_type": "execute_result"
    }
   ],
   "source": [
    "noah_angles[::36]"
   ],
   "metadata": {
    "collapsed": false,
    "ExecuteTime": {
     "end_time": "2024-05-20T19:15:11.754918Z",
     "start_time": "2024-05-20T19:15:11.727726Z"
    }
   },
   "id": "b43f8b6fe2a9ee14",
   "execution_count": 99
  },
  {
   "cell_type": "code",
   "outputs": [
    {
     "data": {
      "text/plain": "<Figure size 1008x720 with 5 Axes>",
      "image/png": "[encoded data removed]"
     },
     "metadata": {
      "needs_background": "light"
     },
     "output_type": "display_data"
    }
   ],
   "source": [
    "import matplotlib.pyplot as plt\n",
    "import matplotlib as mpl\n",
    "\n",
    "rc = {'text.color': 'black',\n",
    "      'axes.labelcolor': 'black',\n",
    "      'xtick.color': 'black',\n",
    "      'ytick.color': 'black',\n",
    "      'axes.edgecolor': 'black',\n",
    "      'font.family': 'Helvetica',\n",
    "      'figure.dpi': 72 * 2,\n",
    "      'savefig.dpi': 72 * 4\n",
    "      }\n",
    "mpl.rcParams.update(rc)\n",
    "\n",
    "every=45\n",
    "fig, axes = plt.subplots(1,5, figsize=(7, 5), subplot_kw=dict(polar=True))\n",
    "\n",
    "for i in range(5):\n",
    "    # Remove all x and y ticks\n",
    "    axes[i].set_xticks([])  # Remove x ticks (theta)\n",
    "    axes[i].set_yticks([])  # Remove y ticks (r)\n",
    "    axes[i].plot(np.deg2rad(ground_truth), [1]*360)\n",
    "    axes[i].set_xticks(np.deg2rad(ground_truth)[::every])\n",
    "\n",
    "axes[0].set_title('Ground Truth')\n",
    "axes[1].set_title('Noah')\n",
    "axes[2].set_title('Adjusted Noahs')\n",
    "axes[3].set_title('Billy')\n",
    "axes[4].set_title('Corrected')\n",
    "axes[0].set_xticklabels(ground_truth[::every])\n",
    "axes[1].set_xticklabels(noah_angles[::every])\n",
    "axes[2].set_xticklabels(adjusted_noah_angles[::every])\n",
    "axes[3].set_xticklabels(billy_angles[::every])\n",
    "axes[4].set_xticklabels(corrected_angles[::every])\n",
    "\n",
    "plt.tight_layout()"
   ],
   "metadata": {
    "collapsed": false,
    "ExecuteTime": {
     "end_time": "2024-05-20T20:11:05.320161Z",
     "start_time": "2024-05-20T20:11:03.893116Z"
    }
   },
   "id": "5bc2b73f0fecb445",
   "execution_count": 135
  },
  {
   "cell_type": "code",
   "outputs": [
    {
     "name": "stdout",
     "output_type": "stream",
     "text": [
      "lh\n",
      "Before transformation\n",
      "Empty DataFrame\n",
      "Columns: [voxel, angle]\n",
      "Index: []\n",
      "After transformation\n",
      "Empty DataFrame\n",
      "Columns: [voxel, angle]\n",
      "Index: []\n",
      "rh\n",
      "Before transformation\n",
      "Empty DataFrame\n",
      "Columns: [voxel, angle]\n",
      "Index: []\n",
      "After transformation\n",
      "Empty DataFrame\n",
      "Columns: [voxel, angle]\n",
      "Index: []\n"
     ]
    },
    {
     "data": {
      "text/plain": "{'lh':    voxel  angle hemi\n 0      0     90   lh\n 1      1     45   lh\n 2      2      0   lh\n 3      3    315   lh\n 4      4    270   lh,\n 'rh':    voxel  angle hemi\n 0      0     90   rh\n 1      1    135   rh\n 2      2    180   rh\n 3      3    225   rh\n 4      4    270   rh}"
     },
     "execution_count": 123,
     "metadata": {},
     "output_type": "execute_result"
    }
   ],
   "source": [
    "prf_dict = {}\n",
    "prf_dict['lh_angle'] = [0, 45, 90, 135, 180]\n",
    "prf_dict['rh_angle'] = [0, 45, 90, 135, 180]\n",
    "\n",
    "brod.prf_mgzs_to_df(prf_dict, angle_to_radians=False, transform_func=brod._transform_angle_baseline)"
   ],
   "metadata": {
    "collapsed": false,
    "ExecuteTime": {
     "end_time": "2024-05-20T19:57:40.190752Z",
     "start_time": "2024-05-20T19:57:40.143944Z"
    }
   },
   "id": "8bff8d68eeb59b0",
   "execution_count": 123
  },
  {
   "cell_type": "code",
   "outputs": [],
   "source": [
    "prf"
   ],
   "metadata": {
    "collapsed": false
   },
   "id": "3928a4939dac29f5"
  }
 ],
 "metadata": {
  "kernelspec": {
   "display_name": "Python 3",
   "language": "python",
   "name": "python3"
  },
  "language_info": {
   "codemirror_mode": {
    "name": "ipython",
    "version": 2
   },
   "file_extension": ".py",
   "mimetype": "text/x-python",
   "name": "python",
   "nbconvert_exporter": "python",
   "pygments_lexer": "ipython2",
   "version": "2.7.6"
  }
 },
 "nbformat": 4,
 "nbformat_minor": 5
}
