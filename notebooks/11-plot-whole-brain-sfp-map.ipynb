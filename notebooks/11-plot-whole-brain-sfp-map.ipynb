{
 "cells": [
  {
   "cell_type": "code",
   "execution_count": 2,
   "metadata": {
    "collapsed": true
   },
   "outputs": [],
   "source": [
    "import os\n",
    "import sys\n",
    "sys.path.append('..')\n",
    "sys.path.append('/Users/jh7685/Documents/Projects/pysurfer')\n",
    "import pysurfer.freeview_helper as pyview\n",
    "import numpy as np\n",
    "import seaborn as sns\n",
    "import matplotlib as mpl\n",
    "import warnings\n",
    "import matplotlib.pyplot as plt\n",
    "import subprocess\n",
    "\n",
    "warnings.filterwarnings(\"ignore\", category=UserWarning)\n",
    "%load_ext autoreload\n",
    "%autoreload 2"
   ]
  },
  {
   "cell_type": "markdown",
   "source": [
    "# Configurations"
   ],
   "metadata": {
    "collapsed": false,
    "pycharm": {
     "name": "#%% md\n"
    }
   }
  },
  {
   "cell_type": "code",
   "execution_count": 3,
   "outputs": [],
   "source": [
    "nsd_dir ='/Volumes/server/Projects/sfp_nsd/natural-scenes-dataset'\n",
    "output_dir='/Volumes/server/Projects/sfp_nsd/derivatives'\n",
    "fs_subj_dir='/Volumes/server/Projects/sfp_nsd/natural-scenes-dataset/nsddata/freesurfer'\n",
    "overlay_dir='/Volumes/server/Projects/sfp_nsd/derivatives/sfp_maps/mgzs/nsdsyn'\n",
    "fig_dir='/Volumes/server/Projects/sfp_nsd/derivatives/figures/brain_maps/nsdsyn'\n",
    "\n",
    "sn_list = [f'subj{sn:02d}' for sn in np.arange(1,9)]"
   ],
   "metadata": {
    "collapsed": false,
    "pycharm": {
     "name": "#%%\n"
    }
   }
  },
  {
   "cell_type": "code",
   "execution_count": 4,
   "outputs": [],
   "source": [
    "ret_colors = sns.color_palette('Blues_r', as_cmap=True)\n",
    "ret_colors = np.round(ret_colors(np.linspace(0,1, 8)[::2])[:,0:3]*255).astype(int)\n",
    "ret_colors = [np.asarray(ret_colors[k, :]) for k in range(3) for _ in range(2)] + [np.asarray(ret_colors[3,:])]\n",
    "\n",
    "ffas_colors = [np.asarray([0,0,0]), np.asarray([0,0,0])]\n",
    "ppa_color = [np.asarray([0,0,0])]\n",
    "\n",
    "label_colors = ret_colors + ffas_colors + ppa_color"
   ],
   "metadata": {
    "collapsed": false,
    "pycharm": {
     "name": "#%%\n"
    }
   }
  },
  {
   "cell_type": "code",
   "execution_count": 52,
   "outputs": [
    {
     "data": {
      "text/plain": "[array([0, 0, 0]), array([0, 0, 0]), array([0, 0, 0])]"
     },
     "execution_count": 52,
     "metadata": {},
     "output_type": "execute_result"
    }
   ],
   "source": [
    "[np.asarray([0,0,0])]*3"
   ],
   "metadata": {
    "collapsed": false,
    "pycharm": {
     "name": "#%%\n"
    }
   }
  },
  {
   "cell_type": "code",
   "execution_count": 5,
   "outputs": [],
   "source": [
    "labels = ['V1v', 'V1d', 'V2v','V2d', 'V3v','V3d', 'hV4', 'FFA-1', 'FFA-2', 'PPA']\n",
    "labels = [f'bin-min-0.5_probmap_{roi}_smooth.label' for roi in labels]"
   ],
   "metadata": {
    "collapsed": false,
    "pycharm": {
     "name": "#%%\n"
    }
   }
  },
  {
   "cell_type": "markdown",
   "source": [
    "# Show Average sfp mask"
   ],
   "metadata": {
    "collapsed": false
   }
  },
  {
   "cell_type": "markdown",
   "source": [
    "## sfp map"
   ],
   "metadata": {
    "collapsed": false,
    "pycharm": {
     "name": "#%% md\n"
    }
   }
  },
  {
   "cell_type": "code",
   "execution_count": 6,
   "outputs": [],
   "source": [
    "surf='inflated'\n",
    "overlay_custom_log = pyview.make_custom_color_palettes_for_overlay(plt.get_cmap('hsv'),\n",
    "                                                               val_range=(1,128), n=10, log_scale=True)\n",
    "my_val='mode'\n",
    "thres=0\n",
    "ref_frame='absolute'\n",
    "overlay=f'mask-precision_space-fsaverage_sub-fsaverage_value-{my_val}_thres-{thres}_frame-{ref_frame}.mgz'\n",
    "save_path = os.path.join(fig_dir, 'ss', f'ss_view-ventral_sub-fsaverage_value-mode_space-fsaverage_masked.mgz')"
   ],
   "metadata": {
    "collapsed": false,
    "pycharm": {
     "name": "#%%\n"
    }
   }
  },
  {
   "cell_type": "code",
   "execution_count": 18,
   "outputs": [
    {
     "name": "stderr",
     "output_type": "stream",
     "text": [
      "sh: freeview: command not found\n"
     ]
    },
    {
     "data": {
      "text/plain": "32512"
     },
     "execution_count": 18,
     "metadata": {},
     "output_type": "execute_result"
    }
   ],
   "source": [
    "sn='fsaverage'\n",
    "label_dir=f'/Volumes/server/Projects/sfp_nsd/natural-scenes-dataset/nsddata/freesurfer/{sn}/label'\n",
    "save_path = os.path.join(fig_dir, 'ss', f'ss_view-posterior_sub-{sn}_value-mode_space-fsaverage_masked.mgz')\n",
    "\n",
    "lh_labels, lh_colors = pyview.get_subj_wise_labels('lh', labels, label_colors, label_dir)\n",
    "lh_obj = pyview.PyFreeview(fs_subj_dir,\n",
    "                           sn, 'lh', surf=surf,\n",
    "                           overlay=overlay, overlay_dir=overlay_dir,\n",
    "                           labels=lh_labels, label_dir=label_dir)\n",
    "\n",
    "rh_labels, rh_colors = pyview.get_subj_wise_labels('rh', labels, label_colors, label_dir)\n",
    "rh_obj = pyview.PyFreeview(fs_subj_dir,\n",
    "                           sn, 'rh', surf=surf,\n",
    "                           overlay=overlay, overlay_dir=overlay_dir,\n",
    "                           labels=rh_labels, label_dir=label_dir,\n",
    "                           view='posterior', cam_list=[1.25,0,-25,0], save_path=save_path)\n",
    "fnl_cm = lh_obj.to_command(\n",
    "    **{'label_colors': lh_colors,'label_opacity': 1, 'label_outline':  True, 'overlay_custom': overlay_custom_log}) + ':offset=-60,0,0' + rh_obj.to_command(\n",
    "    **{'label_colors': rh_colors,'label_opacity': 1, 'label_outline':  True, 'overlay_custom': overlay_custom_log}).split('freeview')[-1] + ' -viewsize 1024 1024'\n",
    "fnl_cm += ' -colorscale'\n",
    "os.system(fnl_cm)"
   ],
   "metadata": {
    "collapsed": false,
    "pycharm": {
     "name": "#%%\n"
    }
   }
  },
  {
   "cell_type": "code",
   "execution_count": null,
   "outputs": [],
   "source": [],
   "metadata": {
    "collapsed": false,
    "pycharm": {
     "name": "#%%\n"
    }
   }
  },
  {
   "cell_type": "code",
   "execution_count": 51,
   "outputs": [
    {
     "data": {
      "text/plain": "{'folder': '/Volumes/server/Projects/sfp_nsd/derivatives/figures/sfp_maps/mgzs/nsdsyn/ss',\n 'overlay': 'view-posterior_avg_mask-r2_space-fsaverage_sub-subj01_thres-0_frame-absolute.png'}"
     },
     "execution_count": 51,
     "metadata": {},
     "output_type": "execute_result"
    }
   ],
   "source": [
    "pyview.extract_info_from_filename(f_name)"
   ],
   "metadata": {
    "collapsed": false,
    "pycharm": {
     "name": "#%%\n"
    }
   }
  },
  {
   "cell_type": "markdown",
   "source": [
    "## r2 values"
   ],
   "metadata": {
    "collapsed": false
   }
  },
  {
   "cell_type": "code",
   "execution_count": 22,
   "outputs": [],
   "source": [
    "surf='inflated'\n",
    "overlay_custom = pyview.make_custom_color_palettes_for_overlay(plt.get_cmap('coolwarm'),val_range=(-1,1), n=100, log_scale=False)\n",
    "overlay_custom = '-1200.0,58,76,192,'+overlay_custom\n",
    "my_val='r2'\n",
    "thres=0\n",
    "ref_frame='absolute'\n",
    "overlay=f\"avg_space-fsaverage_sub-fsaverage_value-{my_val}_frame-{ref_frame}.mgz\""
   ],
   "metadata": {
    "collapsed": false,
    "pycharm": {
     "name": "#%%\n"
    }
   }
  },
  {
   "cell_type": "markdown",
   "source": [
    "## ventral view"
   ],
   "metadata": {
    "collapsed": false
   }
  },
  {
   "cell_type": "code",
   "execution_count": 23,
   "outputs": [
    {
     "data": {
      "text/plain": "CompletedProcess(args='freeview -f /Volumes/server/Projects/sfp_nsd/natural-scenes-dataset/nsddata/freesurfer/fsaverage/surf/lh.inflated:curvature_method=binary:overlay=/Volumes/server/Projects/sfp_nsd/derivatives/sfp_maps/mgzs/nsdsyn/lh.avg_space-fsaverage_sub-fsaverage_value-r2_frame-absolute.mgz:overlay_opacity=1:overlay_custom=-1200.0,58,76,192,-1.0,58,76,192,-0.979798,60,79,195,-0.959596,64,84,199,-0.9393939,66,88,202,-0.9191919,70,93,207,-0.8989899,72,96,209,-0.8787879,76,102,214,-0.8585859,80,107,218,-0.8383838,82,110,220,-0.8181818,86,115,224,-0.7979798,88,118,226,-0.7777778,92,123,229,-0.7575758,96,128,232,-0.7373737,99,131,234,-0.7171717,103,136,237,-0.6969697,105,139,239,-0.6767677,109,144,241,-0.6565657,112,147,243,-0.6363636,116,151,245,-0.6161616,120,155,247,-0.5959596,123,158,248,-0.5757576,127,162,250,-0.5555556,130,165,251,-0.5353535,134,169,252,-0.5151515,138,173,253,-0.4949495,141,175,253,-0.4747475,145,179,254,-0.4545455,148,181,254,-0.4343434,152,185,254,-0.4141414,155,187,254,-0.3939394,159,190,254,-0.3737374,163,193,254,-0.3535354,166,195,253,-0.3333333,170,198,253,-0.3131313,172,200,252,-0.2929293,176,203,251,-0.2727273,180,205,250,-0.2525253,183,207,249,-0.2323232,187,209,247,-0.2121212,189,210,246,-0.1919192,193,212,244,-0.1717172,197,213,242,-0.1515152,199,214,240,-0.1313131,202,216,238,-0.1111111,205,217,236,-0.0909091,208,218,233,-0.0707071,210,218,231,-0.0505051,214,219,228,-0.030303,217,220,224,-0.010101,219,220,222,0.010101,222,219,218,0.030303,224,218,215,0.0505051,227,217,211,0.0707071,230,215,207,0.0909091,231,214,204,0.1111111,234,211,199,0.1313131,236,210,196,0.1515152,237,207,192,0.1717172,239,206,188,0.1919192,241,203,184,0.2121212,242,200,179,0.2323232,243,198,176,0.2525253,244,195,171,0.2727273,245,193,168,0.2929293,246,189,164,0.3131313,246,186,159,0.3333333,246,183,156,0.3535354,247,179,151,0.3737374,247,177,148,0.3939394,247,173,143,0.4141414,246,169,138,0.4343434,246,166,135,0.4545455,245,161,130,0.4747475,245,158,127,0.4949495,244,154,123,0.5151515,243,150,120,0.5353535,242,145,115,0.5555556,240,141,111,0.5757576,239,137,108,0.5959596,237,132,103,0.6161616,236,128,100,0.6363636,234,123,96,0.6565657,231,117,92,0.6767677,230,114,89,0.6969697,227,108,84,0.7171717,225,104,82,0.7373737,222,98,78,0.7575758,220,94,75,0.7777778,217,88,71,0.7979798,214,82,67,0.8181818,211,77,64,0.8383838,207,70,61,0.8585859,205,66,58,0.8787879,201,59,55,0.8989899,197,50,51,0.9191919,194,45,49,0.9393939,190,35,45,0.959596,187,26,43,0.979798,182,13,40,1.0,179,3,38:label=/Volumes/server/Projects/sfp_nsd/natural-scenes-dataset/nsddata/freesurfer/fsaverage/label/lh.bin-min-0.5_probmap_V1v_smooth.label:label_outline=True:label_color=8,48,107:label_opacity=1:label=/Volumes/server/Projects/sfp_nsd/natural-scenes-dataset/nsddata/freesurfer/fsaverage/label/lh.bin-min-0.5_probmap_V1d_smooth.label:label_outline=True:label_color=8,48,107:label_opacity=1:label=/Volumes/server/Projects/sfp_nsd/natural-scenes-dataset/nsddata/freesurfer/fsaverage/label/lh.bin-min-0.5_probmap_V2v_smooth.label:label_outline=True:label_color=43,123,186:label_opacity=1:label=/Volumes/server/Projects/sfp_nsd/natural-scenes-dataset/nsddata/freesurfer/fsaverage/label/lh.bin-min-0.5_probmap_V2d_smooth.label:label_outline=True:label_color=43,123,186:label_opacity=1:label=/Volumes/server/Projects/sfp_nsd/natural-scenes-dataset/nsddata/freesurfer/fsaverage/label/lh.bin-min-0.5_probmap_V3v_smooth.label:label_outline=True:label_color=137,190,220:label_opacity=1:label=/Volumes/server/Projects/sfp_nsd/natural-scenes-dataset/nsddata/freesurfer/fsaverage/label/lh.bin-min-0.5_probmap_V3d_smooth.label:label_outline=True:label_color=137,190,220:label_opacity=1:label=/Volumes/server/Projects/sfp_nsd/natural-scenes-dataset/nsddata/freesurfer/fsaverage/label/lh.bin-min-0.5_probmap_hV4_smooth.label:label_outline=True:label_color=219,233,246:label_opacity=1:label=/Volumes/server/Projects/sfp_nsd/natural-scenes-dataset/nsddata/freesurfer/fsaverage/label/lh.bin-min-0.5_probmap_FFA-1_smooth.label:label_outline=True:label_color=0,0,0:label_opacity=1:label=/Volumes/server/Projects/sfp_nsd/natural-scenes-dataset/nsddata/freesurfer/fsaverage/label/lh.bin-min-0.5_probmap_FFA-2_smooth.label:label_outline=True:label_color=0,0,0:label_opacity=1:label=/Volumes/server/Projects/sfp_nsd/natural-scenes-dataset/nsddata/freesurfer/fsaverage/label/lh.bin-min-0.5_probmap_PPA_smooth.label:label_outline=True:label_color=0,0,0:label_opacity=1:offset=-60,0,0 -f /Volumes/server/Projects/sfp_nsd/natural-scenes-dataset/nsddata/freesurfer/fsaverage/surf/rh.inflated:curvature_method=binary:overlay=/Volumes/server/Projects/sfp_nsd/derivatives/sfp_maps/mgzs/nsdsyn/rh.avg_space-fsaverage_sub-fsaverage_value-r2_frame-absolute.mgz:overlay_opacity=1:overlay_custom=-1200.0,58,76,192,-1.0,58,76,192,-0.979798,60,79,195,-0.959596,64,84,199,-0.9393939,66,88,202,-0.9191919,70,93,207,-0.8989899,72,96,209,-0.8787879,76,102,214,-0.8585859,80,107,218,-0.8383838,82,110,220,-0.8181818,86,115,224,-0.7979798,88,118,226,-0.7777778,92,123,229,-0.7575758,96,128,232,-0.7373737,99,131,234,-0.7171717,103,136,237,-0.6969697,105,139,239,-0.6767677,109,144,241,-0.6565657,112,147,243,-0.6363636,116,151,245,-0.6161616,120,155,247,-0.5959596,123,158,248,-0.5757576,127,162,250,-0.5555556,130,165,251,-0.5353535,134,169,252,-0.5151515,138,173,253,-0.4949495,141,175,253,-0.4747475,145,179,254,-0.4545455,148,181,254,-0.4343434,152,185,254,-0.4141414,155,187,254,-0.3939394,159,190,254,-0.3737374,163,193,254,-0.3535354,166,195,253,-0.3333333,170,198,253,-0.3131313,172,200,252,-0.2929293,176,203,251,-0.2727273,180,205,250,-0.2525253,183,207,249,-0.2323232,187,209,247,-0.2121212,189,210,246,-0.1919192,193,212,244,-0.1717172,197,213,242,-0.1515152,199,214,240,-0.1313131,202,216,238,-0.1111111,205,217,236,-0.0909091,208,218,233,-0.0707071,210,218,231,-0.0505051,214,219,228,-0.030303,217,220,224,-0.010101,219,220,222,0.010101,222,219,218,0.030303,224,218,215,0.0505051,227,217,211,0.0707071,230,215,207,0.0909091,231,214,204,0.1111111,234,211,199,0.1313131,236,210,196,0.1515152,237,207,192,0.1717172,239,206,188,0.1919192,241,203,184,0.2121212,242,200,179,0.2323232,243,198,176,0.2525253,244,195,171,0.2727273,245,193,168,0.2929293,246,189,164,0.3131313,246,186,159,0.3333333,246,183,156,0.3535354,247,179,151,0.3737374,247,177,148,0.3939394,247,173,143,0.4141414,246,169,138,0.4343434,246,166,135,0.4545455,245,161,130,0.4747475,245,158,127,0.4949495,244,154,123,0.5151515,243,150,120,0.5353535,242,145,115,0.5555556,240,141,111,0.5757576,239,137,108,0.5959596,237,132,103,0.6161616,236,128,100,0.6363636,234,123,96,0.6565657,231,117,92,0.6767677,230,114,89,0.6969697,227,108,84,0.7171717,225,104,82,0.7373737,222,98,78,0.7575758,220,94,75,0.7777778,217,88,71,0.7979798,214,82,67,0.8181818,211,77,64,0.8383838,207,70,61,0.8585859,205,66,58,0.8787879,201,59,55,0.8989899,197,50,51,0.9191919,194,45,49,0.9393939,190,35,45,0.959596,187,26,43,0.979798,182,13,40,1.0,179,3,38:label=/Volumes/server/Projects/sfp_nsd/natural-scenes-dataset/nsddata/freesurfer/fsaverage/label/rh.bin-min-0.5_probmap_V1v_smooth.label:label_outline=True:label_color=8,48,107:label_opacity=1:label=/Volumes/server/Projects/sfp_nsd/natural-scenes-dataset/nsddata/freesurfer/fsaverage/label/rh.bin-min-0.5_probmap_V1d_smooth.label:label_outline=True:label_color=8,48,107:label_opacity=1:label=/Volumes/server/Projects/sfp_nsd/natural-scenes-dataset/nsddata/freesurfer/fsaverage/label/rh.bin-min-0.5_probmap_V2v_smooth.label:label_outline=True:label_color=43,123,186:label_opacity=1:label=/Volumes/server/Projects/sfp_nsd/natural-scenes-dataset/nsddata/freesurfer/fsaverage/label/rh.bin-min-0.5_probmap_V2d_smooth.label:label_outline=True:label_color=43,123,186:label_opacity=1:label=/Volumes/server/Projects/sfp_nsd/natural-scenes-dataset/nsddata/freesurfer/fsaverage/label/rh.bin-min-0.5_probmap_V3v_smooth.label:label_outline=True:label_color=137,190,220:label_opacity=1:label=/Volumes/server/Projects/sfp_nsd/natural-scenes-dataset/nsddata/freesurfer/fsaverage/label/rh.bin-min-0.5_probmap_V3d_smooth.label:label_outline=True:label_color=137,190,220:label_opacity=1:label=/Volumes/server/Projects/sfp_nsd/natural-scenes-dataset/nsddata/freesurfer/fsaverage/label/rh.bin-min-0.5_probmap_hV4_smooth.label:label_outline=True:label_color=219,233,246:label_opacity=1:label=/Volumes/server/Projects/sfp_nsd/natural-scenes-dataset/nsddata/freesurfer/fsaverage/label/rh.bin-min-0.5_probmap_FFA-1_smooth.label:label_outline=True:label_color=0,0,0:label_opacity=1:label=/Volumes/server/Projects/sfp_nsd/natural-scenes-dataset/nsddata/freesurfer/fsaverage/label/rh.bin-min-0.5_probmap_FFA-2_smooth.label:label_outline=True:label_color=0,0,0:label_opacity=1:label=/Volumes/server/Projects/sfp_nsd/natural-scenes-dataset/nsddata/freesurfer/fsaverage/label/rh.bin-min-0.5_probmap_PPA_smooth.label:label_outline=True:label_color=0,0,0:label_opacity=1 -cam Zoom 1.25 Azimuth 0 Elevation -30 Roll 0 -view inferior -ss /Volumes/server/Projects/sfp_nsd/derivatives/figures/brain_maps/nsdsyn/ss/ss_view-ventral_avg_sub-fsaverage_value-r2_frame-absolute.mgz -quit -viewsize 1024 1024', returncode=0)"
     },
     "execution_count": 23,
     "metadata": {},
     "output_type": "execute_result"
    }
   ],
   "source": [
    "label_dir=f'/Volumes/server/Projects/sfp_nsd/natural-scenes-dataset/nsddata/freesurfer/fsaverage/label'\n",
    "save_path = os.path.join(fig_dir, 'ss', f'ss_view-ventral_avg_sub-fsaverage_value-{my_val}_frame-{ref_frame}.mgz')\n",
    "\n",
    "lh_labels, lh_colors = pyview.get_subj_wise_labels('lh', labels, label_colors, label_dir)\n",
    "lh_obj = pyview.PyFreeview(fs_subj_dir,\n",
    "                           'fsaverage', 'lh', surf=surf,\n",
    "                           overlay=overlay, overlay_dir=overlay_dir,\n",
    "                           labels=lh_labels, label_dir=label_dir)\n",
    "\n",
    "rh_labels, rh_colors = pyview.get_subj_wise_labels('rh', labels, label_colors, label_dir)\n",
    "rh_obj = pyview.PyFreeview(fs_subj_dir,\n",
    "                           'fsaverage', 'rh', surf=surf,\n",
    "                           overlay=overlay, overlay_dir=overlay_dir,\n",
    "                           labels=rh_labels, label_dir=label_dir,\n",
    "                           view='inferior', cam_list=[1.25,0,-30,0], save_path=save_path)\n",
    "fnl_cm = lh_obj.to_command(\n",
    "    **{'label_colors': lh_colors,'label_opacity': 1, 'label_outline':  True, 'overlay_custom': overlay_custom}) + ':offset=-60,0,0' + rh_obj.to_command(\n",
    "    **{'label_colors': rh_colors,'label_opacity': 1, 'label_outline':  True, 'overlay_custom': overlay_custom}).split('freeview')[-1] + ' -viewsize 1024 1024'\n",
    "#fnl_cm += ' -colorscale'\n",
    "subprocess.run(fnl_cm, shell=True, capture_output=False)"
   ],
   "metadata": {
    "collapsed": false,
    "pycharm": {
     "name": "#%%\n"
    }
   }
  },
  {
   "cell_type": "markdown",
   "source": [
    "## posterior view"
   ],
   "metadata": {
    "collapsed": false
   }
  },
  {
   "cell_type": "code",
   "execution_count": 24,
   "outputs": [
    {
     "data": {
      "text/plain": "CompletedProcess(args='freeview -f /Volumes/server/Projects/sfp_nsd/natural-scenes-dataset/nsddata/freesurfer/fsaverage/surf/lh.inflated:curvature_method=binary:overlay=/Volumes/server/Projects/sfp_nsd/derivatives/sfp_maps/mgzs/nsdsyn/lh.avg_space-fsaverage_sub-fsaverage_value-r2_frame-absolute.mgz:overlay_opacity=1:overlay_custom=-1200.0,58,76,192,-1.0,58,76,192,-0.979798,60,79,195,-0.959596,64,84,199,-0.9393939,66,88,202,-0.9191919,70,93,207,-0.8989899,72,96,209,-0.8787879,76,102,214,-0.8585859,80,107,218,-0.8383838,82,110,220,-0.8181818,86,115,224,-0.7979798,88,118,226,-0.7777778,92,123,229,-0.7575758,96,128,232,-0.7373737,99,131,234,-0.7171717,103,136,237,-0.6969697,105,139,239,-0.6767677,109,144,241,-0.6565657,112,147,243,-0.6363636,116,151,245,-0.6161616,120,155,247,-0.5959596,123,158,248,-0.5757576,127,162,250,-0.5555556,130,165,251,-0.5353535,134,169,252,-0.5151515,138,173,253,-0.4949495,141,175,253,-0.4747475,145,179,254,-0.4545455,148,181,254,-0.4343434,152,185,254,-0.4141414,155,187,254,-0.3939394,159,190,254,-0.3737374,163,193,254,-0.3535354,166,195,253,-0.3333333,170,198,253,-0.3131313,172,200,252,-0.2929293,176,203,251,-0.2727273,180,205,250,-0.2525253,183,207,249,-0.2323232,187,209,247,-0.2121212,189,210,246,-0.1919192,193,212,244,-0.1717172,197,213,242,-0.1515152,199,214,240,-0.1313131,202,216,238,-0.1111111,205,217,236,-0.0909091,208,218,233,-0.0707071,210,218,231,-0.0505051,214,219,228,-0.030303,217,220,224,-0.010101,219,220,222,0.010101,222,219,218,0.030303,224,218,215,0.0505051,227,217,211,0.0707071,230,215,207,0.0909091,231,214,204,0.1111111,234,211,199,0.1313131,236,210,196,0.1515152,237,207,192,0.1717172,239,206,188,0.1919192,241,203,184,0.2121212,242,200,179,0.2323232,243,198,176,0.2525253,244,195,171,0.2727273,245,193,168,0.2929293,246,189,164,0.3131313,246,186,159,0.3333333,246,183,156,0.3535354,247,179,151,0.3737374,247,177,148,0.3939394,247,173,143,0.4141414,246,169,138,0.4343434,246,166,135,0.4545455,245,161,130,0.4747475,245,158,127,0.4949495,244,154,123,0.5151515,243,150,120,0.5353535,242,145,115,0.5555556,240,141,111,0.5757576,239,137,108,0.5959596,237,132,103,0.6161616,236,128,100,0.6363636,234,123,96,0.6565657,231,117,92,0.6767677,230,114,89,0.6969697,227,108,84,0.7171717,225,104,82,0.7373737,222,98,78,0.7575758,220,94,75,0.7777778,217,88,71,0.7979798,214,82,67,0.8181818,211,77,64,0.8383838,207,70,61,0.8585859,205,66,58,0.8787879,201,59,55,0.8989899,197,50,51,0.9191919,194,45,49,0.9393939,190,35,45,0.959596,187,26,43,0.979798,182,13,40,1.0,179,3,38:label=/Volumes/server/Projects/sfp_nsd/natural-scenes-dataset/nsddata/freesurfer/fsaverage/label/lh.bin-min-0.5_probmap_V1v_smooth.label:label_outline=True:label_color=8,48,107:label_opacity=1:label=/Volumes/server/Projects/sfp_nsd/natural-scenes-dataset/nsddata/freesurfer/fsaverage/label/lh.bin-min-0.5_probmap_V1d_smooth.label:label_outline=True:label_color=8,48,107:label_opacity=1:label=/Volumes/server/Projects/sfp_nsd/natural-scenes-dataset/nsddata/freesurfer/fsaverage/label/lh.bin-min-0.5_probmap_V2v_smooth.label:label_outline=True:label_color=43,123,186:label_opacity=1:label=/Volumes/server/Projects/sfp_nsd/natural-scenes-dataset/nsddata/freesurfer/fsaverage/label/lh.bin-min-0.5_probmap_V2d_smooth.label:label_outline=True:label_color=43,123,186:label_opacity=1:label=/Volumes/server/Projects/sfp_nsd/natural-scenes-dataset/nsddata/freesurfer/fsaverage/label/lh.bin-min-0.5_probmap_V3v_smooth.label:label_outline=True:label_color=137,190,220:label_opacity=1:label=/Volumes/server/Projects/sfp_nsd/natural-scenes-dataset/nsddata/freesurfer/fsaverage/label/lh.bin-min-0.5_probmap_V3d_smooth.label:label_outline=True:label_color=137,190,220:label_opacity=1:label=/Volumes/server/Projects/sfp_nsd/natural-scenes-dataset/nsddata/freesurfer/fsaverage/label/lh.bin-min-0.5_probmap_hV4_smooth.label:label_outline=True:label_color=219,233,246:label_opacity=1:label=/Volumes/server/Projects/sfp_nsd/natural-scenes-dataset/nsddata/freesurfer/fsaverage/label/lh.bin-min-0.5_probmap_FFA-1_smooth.label:label_outline=True:label_color=0,0,0:label_opacity=1:label=/Volumes/server/Projects/sfp_nsd/natural-scenes-dataset/nsddata/freesurfer/fsaverage/label/lh.bin-min-0.5_probmap_FFA-2_smooth.label:label_outline=True:label_color=0,0,0:label_opacity=1:label=/Volumes/server/Projects/sfp_nsd/natural-scenes-dataset/nsddata/freesurfer/fsaverage/label/lh.bin-min-0.5_probmap_PPA_smooth.label:label_outline=True:label_color=0,0,0:label_opacity=1:offset=-60,0,0 -f /Volumes/server/Projects/sfp_nsd/natural-scenes-dataset/nsddata/freesurfer/fsaverage/surf/rh.inflated:curvature_method=binary:overlay=/Volumes/server/Projects/sfp_nsd/derivatives/sfp_maps/mgzs/nsdsyn/rh.avg_space-fsaverage_sub-fsaverage_value-r2_frame-absolute.mgz:overlay_opacity=1:overlay_custom=-1200.0,58,76,192,-1.0,58,76,192,-0.979798,60,79,195,-0.959596,64,84,199,-0.9393939,66,88,202,-0.9191919,70,93,207,-0.8989899,72,96,209,-0.8787879,76,102,214,-0.8585859,80,107,218,-0.8383838,82,110,220,-0.8181818,86,115,224,-0.7979798,88,118,226,-0.7777778,92,123,229,-0.7575758,96,128,232,-0.7373737,99,131,234,-0.7171717,103,136,237,-0.6969697,105,139,239,-0.6767677,109,144,241,-0.6565657,112,147,243,-0.6363636,116,151,245,-0.6161616,120,155,247,-0.5959596,123,158,248,-0.5757576,127,162,250,-0.5555556,130,165,251,-0.5353535,134,169,252,-0.5151515,138,173,253,-0.4949495,141,175,253,-0.4747475,145,179,254,-0.4545455,148,181,254,-0.4343434,152,185,254,-0.4141414,155,187,254,-0.3939394,159,190,254,-0.3737374,163,193,254,-0.3535354,166,195,253,-0.3333333,170,198,253,-0.3131313,172,200,252,-0.2929293,176,203,251,-0.2727273,180,205,250,-0.2525253,183,207,249,-0.2323232,187,209,247,-0.2121212,189,210,246,-0.1919192,193,212,244,-0.1717172,197,213,242,-0.1515152,199,214,240,-0.1313131,202,216,238,-0.1111111,205,217,236,-0.0909091,208,218,233,-0.0707071,210,218,231,-0.0505051,214,219,228,-0.030303,217,220,224,-0.010101,219,220,222,0.010101,222,219,218,0.030303,224,218,215,0.0505051,227,217,211,0.0707071,230,215,207,0.0909091,231,214,204,0.1111111,234,211,199,0.1313131,236,210,196,0.1515152,237,207,192,0.1717172,239,206,188,0.1919192,241,203,184,0.2121212,242,200,179,0.2323232,243,198,176,0.2525253,244,195,171,0.2727273,245,193,168,0.2929293,246,189,164,0.3131313,246,186,159,0.3333333,246,183,156,0.3535354,247,179,151,0.3737374,247,177,148,0.3939394,247,173,143,0.4141414,246,169,138,0.4343434,246,166,135,0.4545455,245,161,130,0.4747475,245,158,127,0.4949495,244,154,123,0.5151515,243,150,120,0.5353535,242,145,115,0.5555556,240,141,111,0.5757576,239,137,108,0.5959596,237,132,103,0.6161616,236,128,100,0.6363636,234,123,96,0.6565657,231,117,92,0.6767677,230,114,89,0.6969697,227,108,84,0.7171717,225,104,82,0.7373737,222,98,78,0.7575758,220,94,75,0.7777778,217,88,71,0.7979798,214,82,67,0.8181818,211,77,64,0.8383838,207,70,61,0.8585859,205,66,58,0.8787879,201,59,55,0.8989899,197,50,51,0.9191919,194,45,49,0.9393939,190,35,45,0.959596,187,26,43,0.979798,182,13,40,1.0,179,3,38:label=/Volumes/server/Projects/sfp_nsd/natural-scenes-dataset/nsddata/freesurfer/fsaverage/label/rh.bin-min-0.5_probmap_V1v_smooth.label:label_outline=True:label_color=8,48,107:label_opacity=1:label=/Volumes/server/Projects/sfp_nsd/natural-scenes-dataset/nsddata/freesurfer/fsaverage/label/rh.bin-min-0.5_probmap_V1d_smooth.label:label_outline=True:label_color=8,48,107:label_opacity=1:label=/Volumes/server/Projects/sfp_nsd/natural-scenes-dataset/nsddata/freesurfer/fsaverage/label/rh.bin-min-0.5_probmap_V2v_smooth.label:label_outline=True:label_color=43,123,186:label_opacity=1:label=/Volumes/server/Projects/sfp_nsd/natural-scenes-dataset/nsddata/freesurfer/fsaverage/label/rh.bin-min-0.5_probmap_V2d_smooth.label:label_outline=True:label_color=43,123,186:label_opacity=1:label=/Volumes/server/Projects/sfp_nsd/natural-scenes-dataset/nsddata/freesurfer/fsaverage/label/rh.bin-min-0.5_probmap_V3v_smooth.label:label_outline=True:label_color=137,190,220:label_opacity=1:label=/Volumes/server/Projects/sfp_nsd/natural-scenes-dataset/nsddata/freesurfer/fsaverage/label/rh.bin-min-0.5_probmap_V3d_smooth.label:label_outline=True:label_color=137,190,220:label_opacity=1:label=/Volumes/server/Projects/sfp_nsd/natural-scenes-dataset/nsddata/freesurfer/fsaverage/label/rh.bin-min-0.5_probmap_hV4_smooth.label:label_outline=True:label_color=219,233,246:label_opacity=1:label=/Volumes/server/Projects/sfp_nsd/natural-scenes-dataset/nsddata/freesurfer/fsaverage/label/rh.bin-min-0.5_probmap_FFA-1_smooth.label:label_outline=True:label_color=0,0,0:label_opacity=1:label=/Volumes/server/Projects/sfp_nsd/natural-scenes-dataset/nsddata/freesurfer/fsaverage/label/rh.bin-min-0.5_probmap_FFA-2_smooth.label:label_outline=True:label_color=0,0,0:label_opacity=1:label=/Volumes/server/Projects/sfp_nsd/natural-scenes-dataset/nsddata/freesurfer/fsaverage/label/rh.bin-min-0.5_probmap_PPA_smooth.label:label_outline=True:label_color=0,0,0:label_opacity=1 -cam Zoom 1.25 Azimuth 0 Elevation -25 Roll 0 -view posterior -ss /Volumes/server/Projects/sfp_nsd/derivatives/figures/brain_maps/nsdsyn/ss/ss_view-posterior_avg_sub-fsaverage_value-r2_frame-absolute.mgz -quit -viewsize 1024 1024', returncode=0)"
     },
     "execution_count": 24,
     "metadata": {},
     "output_type": "execute_result"
    }
   ],
   "source": [
    "label_dir=f'/Volumes/server/Projects/sfp_nsd/natural-scenes-dataset/nsddata/freesurfer/fsaverage/label'\n",
    "save_path = os.path.join(fig_dir, 'ss', f'ss_view-posterior_avg_sub-fsaverage_value-{my_val}_frame-{ref_frame}.mgz')\n",
    "\n",
    "lh_labels, lh_colors = pyview.get_subj_wise_labels('lh', labels, label_colors, label_dir)\n",
    "lh_obj = pyview.PyFreeview(fs_subj_dir,\n",
    "                           'fsaverage', 'lh', surf=surf,\n",
    "                           overlay=overlay, overlay_dir=overlay_dir,\n",
    "                           labels=lh_labels, label_dir=label_dir)\n",
    "\n",
    "rh_labels, rh_colors = pyview.get_subj_wise_labels('rh', labels, label_colors, label_dir)\n",
    "rh_obj = pyview.PyFreeview(fs_subj_dir,\n",
    "                           'fsaverage', 'rh', surf=surf,\n",
    "                           overlay=overlay, overlay_dir=overlay_dir,\n",
    "                           labels=rh_labels, label_dir=label_dir,\n",
    "                           view='posterior', cam_list=[1.25,0,-25,0], save_path=save_path)\n",
    "fnl_cm = lh_obj.to_command(\n",
    "    **{'label_colors': lh_colors,'label_opacity': 1, 'label_outline':  True, 'overlay_custom': overlay_custom}) + ':offset=-60,0,0' + rh_obj.to_command(\n",
    "    **{'label_colors': rh_colors,'label_opacity': 1, 'label_outline':  True, 'overlay_custom': overlay_custom}).split('freeview')[-1] + ' -viewsize 1024 1024'\n",
    "#fnl_cm += ' -colorscale'\n",
    "subprocess.run(fnl_cm, shell=True, capture_output=False)"
   ],
   "metadata": {
    "collapsed": false,
    "pycharm": {
     "name": "#%%\n"
    }
   }
  },
  {
   "cell_type": "markdown",
   "source": [
    "## individual maps"
   ],
   "metadata": {
    "collapsed": false,
    "pycharm": {
     "name": "#%% md\n"
    }
   }
  },
  {
   "cell_type": "code",
   "execution_count": 36,
   "outputs": [],
   "source": [
    "surf='inflated'\n",
    "overlay_custom = pyview.make_custom_color_palettes_for_overlay(plt.get_cmap('coolwarm'),val_range=(-1,1), n=100, log_scale=False)\n",
    "overlay_custom = '-1200.0,58,76,192,'+overlay_custom\n",
    "my_val='r2'\n",
    "thres=0\n",
    "ref_frame='absolute'\n",
    "labels = ['V1v', 'V1d', 'V2v','V2d', 'V3v','V3d', 'hV4', 'aFFA', 'pFFA', 'PPA']\n",
    "labels = [f'{roi}.label' for roi in labels]"
   ],
   "metadata": {
    "collapsed": false,
    "pycharm": {
     "name": "#%%\n"
    }
   }
  },
  {
   "cell_type": "code",
   "execution_count": 37,
   "outputs": [],
   "source": [
    "for sn in sn_list[1:]:\n",
    "    overlay_file=f'mask-precision_sub-{sn}_value-{my_val}_thres-{thres}_frame-{ref_frame}.mgz'\n",
    "    label_dir=os.path.join(fs_subj_dir, sn, 'label')\n",
    "    save_path = os.path.join(fig_dir, 'ss', f'ss_view-ventral_sub-{sn}_value-{my_val}.mgz')\n",
    "    lh_labels, lh_colors = pyview.get_subj_wise_labels('lh', labels, label_colors, label_dir)\n",
    "    lh_obj = pyview.PyFreeview(fs_subj_dir,\n",
    "                               sn, 'lh', surf=surf, labels=lh_labels, label_dir=label_dir,\n",
    "                               overlay=overlay_file, overlay_dir=overlay_dir)\n",
    "\n",
    "    rh_labels, rh_colors = pyview.get_subj_wise_labels('rh', labels, label_colors, label_dir)\n",
    "    rh_obj = pyview.PyFreeview(fs_subj_dir,\n",
    "                               sn, 'rh', surf=surf, labels=rh_labels, label_dir=label_dir,\n",
    "                               overlay=overlay_file, overlay_dir=overlay_dir,\n",
    "                               view='inferior', cam_list=[1.25,0,-35,0], save_path=save_path)\n",
    "    fnl_cm = lh_obj.to_command(\n",
    "        **{'label_colors': lh_colors,'label_opacity': 1, 'label_outline':  True, 'overlay_custom': overlay_custom}) + ':offset=-60,0,0' + rh_obj.to_command(\n",
    "        **{'label_colors': rh_colors,'label_opacity': 1, 'label_outline':  True, 'overlay_custom': overlay_custom}).split('freeview')[-1] + ' -viewsize 1024 1024'\n",
    "#    fnl_cm += ' -colorscale'\n",
    "    subprocess.run(fnl_cm, shell=True)"
   ],
   "metadata": {
    "collapsed": false,
    "pycharm": {
     "name": "#%%\n"
    }
   }
  },
  {
   "cell_type": "markdown",
   "source": [
    "# Show individual sfp map"
   ],
   "metadata": {
    "collapsed": false,
    "pycharm": {
     "name": "#%% md\n"
    }
   }
  },
  {
   "cell_type": "code",
   "execution_count": 19,
   "outputs": [],
   "source": [
    "labels = ['V1v', 'V1d', 'V2v','V2d', 'V3v','V3d', 'hV4', 'aFFA', 'pFFA', 'PPA']\n",
    "labels = [f'{roi}.label' for roi in labels]"
   ],
   "metadata": {
    "collapsed": false,
    "pycharm": {
     "name": "#%%\n"
    }
   }
  },
  {
   "cell_type": "code",
   "execution_count": 35,
   "outputs": [
    {
     "name": "stdout",
     "output_type": "stream",
     "text": [
      "NaN found at voxel (1, 0, 0, 0)\n",
      "NaN found at voxel (131802, 0, 0, 0)\n",
      "NaN found at voxel (143784, 0, 0, 0)\n",
      "NaN found at voxel (95856, 0, 0, 0)\n",
      "NaN found at voxel (35946, 0, 0, 0)\n",
      "NaN found at voxel (23964, 0, 0, 0)\n",
      "NaN found at voxel (227652, 0, 0, 0)\n",
      "NaN found at voxel (11985, 0, 0, 0)\n",
      "NaN found at voxel (191709, 0, 0, 0)\n",
      "NaN found at voxel (191709, 0, 0, 0)\n"
     ]
    },
    {
     "name": "stderr",
     "output_type": "stream",
     "text": [
      "error: WARNING: 207699 NaNs found in volume /Volumes/server/Projects/sfp_nsd/derivatives/sfp_maps/mgzs/nsdsyn/lh.sub-subj02_value-mode_masked.mgz...\n",
      "\n",
      "error: WARNING: 202129 NaNs found in volume /Volumes/server/Projects/sfp_nsd/derivatives/sfp_maps/mgzs/nsdsyn/rh.sub-subj02_value-mode_masked.mgz...\n",
      "\n"
     ]
    },
    {
     "name": "stdout",
     "output_type": "stream",
     "text": [
      "NaN found at voxel (43, 0, 0, 0)\n",
      "NaN found at voxel (144502, 0, 0, 0)\n",
      "NaN found at voxel (144502, 0, 0, 0)\n"
     ]
    },
    {
     "name": "stderr",
     "output_type": "stream",
     "text": [
      "error: WARNING: 218588 NaNs found in volume /Volumes/server/Projects/sfp_nsd/derivatives/sfp_maps/mgzs/nsdsyn/lh.sub-subj03_value-mode_masked.mgz...\n",
      "\n",
      "QThread: Destroyed while thread is still running\n",
      "/Applications/freesurfer/7.2.0/bin/freeview: line 2: 16551 Abort trap: 6           $FREESURFER_HOME/Freeview.app/Contents/MacOS/freeview \"$@\"\n",
      "QThread: Destroyed while thread is still running\n",
      "/Applications/freesurfer/7.2.0/bin/freeview: line 2: 16629 Abort trap: 6           $FREESURFER_HOME/Freeview.app/Contents/MacOS/freeview \"$@\"\n"
     ]
    }
   ],
   "source": [
    "for sn in sn_list[1:]:\n",
    "    overlay_file=f'sub-{sn}_value-mode_masked.mgz'\n",
    "    label_dir=os.path.join(fs_subj_dir, sn, 'label')\n",
    "    save_path = os.path.join(fig_dir, 'ss', f'ss_view-ventral_sub-{sn}_value-mode_masked.mgz')\n",
    "    lh_labels, lh_colors = pyview.get_subj_wise_labels('lh', labels, label_colors, label_dir)\n",
    "    lh_obj = pyview.PyFreeview(fs_subj_dir,\n",
    "                               sn, 'lh', surf=surf, labels=lh_labels, label_dir=label_dir,\n",
    "                               overlay=overlay_file, overlay_dir=overlay_dir)\n",
    "\n",
    "    rh_labels, rh_colors = pyview.get_subj_wise_labels('rh', labels, label_colors, label_dir)\n",
    "    rh_obj = pyview.PyFreeview(fs_subj_dir,\n",
    "                               sn, 'rh', surf=surf, labels=rh_labels, label_dir=label_dir,\n",
    "                               overlay=overlay_file, overlay_dir=overlay_dir,\n",
    "                               view='inferior', cam_list=[1.25,0,-35,0], save_path=save_path)\n",
    "    fnl_cm = lh_obj.to_command(\n",
    "        **{'label_colors': lh_colors,'label_opacity': 1, 'label_outline':  True, 'overlay_custom': overlay_custom_log}) + ':offset=-60,0,0' + rh_obj.to_command(\n",
    "        **{'label_colors': rh_colors,'label_opacity': 1, 'label_outline':  True, 'overlay_custom': overlay_custom_log}).split('freeview')[-1] + ' -viewsize 1024 1024'\n",
    "    fnl_cm += ' -colorscale'\n",
    "    os.system(fnl_cm)"
   ],
   "metadata": {
    "collapsed": false,
    "pycharm": {
     "name": "#%%\n"
    }
   }
  },
  {
   "cell_type": "code",
   "execution_count": 29,
   "outputs": [
    {
     "name": "stdout",
     "output_type": "stream",
     "text": [
      "NaN found at voxel (181617, 0, 0, 0)\n",
      "NaN found at voxel (215670, 0, 0, 0)\n",
      "NaN found at voxel (90810, 0, 0, 0)\n",
      "NaN found at voxel (34055, 0, 0, 0)\n",
      "NaN found at voxel (45406, 0, 0, 0)\n",
      "NaN found at voxel (68, 0, 0, 0)\n",
      "NaN found at voxel (22703, 0, 0, 0)\n",
      "NaN found at voxel (136213, 0, 0, 0)\n",
      "NaN found at voxel (136213, 0, 0, 0)\n"
     ]
    },
    {
     "name": "stderr",
     "output_type": "stream",
     "text": [
      "error: WARNING: 195641 NaNs found in volume /Volumes/server/Projects/sfp_nsd/derivatives/sfp_maps/mgzs/nsdsyn/lh.sub-subj01_value-mode_masked.mgz...\n",
      "\n",
      "error: WARNING: 194545 NaNs found in volume /Volumes/server/Projects/sfp_nsd/derivatives/sfp_maps/mgzs/nsdsyn/rh.sub-subj01_value-mode_masked.mgz...\n",
      "\n"
     ]
    },
    {
     "name": "stdout",
     "output_type": "stream",
     "text": [
      "NaN found at voxel (1, 0, 0, 0)\n",
      "NaN found at voxel (143784, 0, 0, 0)\n",
      "NaN found at voxel (191709, 0, 0, 0)\n",
      "NaN found at voxel (191709, 0, 0, 0)\n"
     ]
    },
    {
     "name": "stderr",
     "output_type": "stream",
     "text": [
      "error: WARNING: 207699 NaNs found in volume /Volumes/server/Projects/sfp_nsd/derivatives/sfp_maps/mgzs/nsdsyn/lh.sub-subj02_value-mode_masked.mgz...\n",
      "\n",
      "error: WARNING: 202129 NaNs found in volume /Volumes/server/Projects/sfp_nsd/derivatives/sfp_maps/mgzs/nsdsyn/rh.sub-subj02_value-mode_masked.mgz...\n",
      "\n"
     ]
    },
    {
     "name": "stdout",
     "output_type": "stream",
     "text": [
      "NaN found at voxel (43, 0, 0, 0)\n",
      "NaN found at voxel (192666, 0, 0, 0)\n",
      "NaN found at voxel (96336, 0, 0, 0)\n",
      "NaN found at voxel (144502, 0, 0, 0)\n",
      "NaN found at voxel (48171, 0, 0, 0)\n",
      "NaN found at voxel (48171, 0, 0, 0)\n",
      "\n"
     ]
    },
    {
     "name": "stderr",
     "output_type": "stream",
     "text": [
      "error: WARNING: 218588 NaNs found in volume /Volumes/server/Projects/sfp_nsd/derivatives/sfp_maps/mgzs/nsdsyn/lh.sub-subj03_value-mode_masked.mgz...\n",
      "\n",
      "error: WARNING: 217427 NaNs found in volume /Volumes/server/Projects/sfp_nsd/derivatives/sfp_maps/mgzs/nsdsyn/rh.sub-subj03_value-mode_masked.mgz...\n",
      "\n"
     ]
    },
    {
     "name": "stdout",
     "output_type": "stream",
     "text": [
      "NaN found at voxel (182799, 0, 0, 0)\n",
      "NaN found at voxel (137100, 0, 0, 0)\n",
      "NaN found at voxel (80, 0, 0, 0)\n",
      "NaN found at voxel (91400, 0, 0, 0)\n",
      "NaN found at voxel (91400, 0, 0, 0)\n",
      "\n"
     ]
    },
    {
     "name": "stderr",
     "output_type": "stream",
     "text": [
      "error: WARNING: 207141 NaNs found in volume /Volumes/server/Projects/sfp_nsd/derivatives/sfp_maps/mgzs/nsdsyn/lh.sub-subj04_value-mode_masked.mgz...\n",
      "\n",
      "error: WARNING: 204213 NaNs found in volume /Volumes/server/Projects/sfp_nsd/derivatives/sfp_maps/mgzs/nsdsyn/rh.sub-subj04_value-mode_masked.mgz...\n",
      "\n"
     ]
    },
    {
     "name": "stdout",
     "output_type": "stream",
     "text": [
      "NaN found at voxel (16, 0, 0, 0)\n",
      "NaN found at voxel (158078, 0, 0, 0)\n",
      "NaN found at voxel (118560, 0, 0, 0)\n",
      "NaN found at voxel (118560, 0, 0, 0)\n"
     ]
    },
    {
     "name": "stderr",
     "output_type": "stream",
     "text": [
      "error: WARNING: 179767 NaNs found in volume /Volumes/server/Projects/sfp_nsd/derivatives/sfp_maps/mgzs/nsdsyn/lh.sub-subj05_value-mode_masked.mgz...\n",
      "\n",
      "error: WARNING: 177288 NaNs found in volume /Volumes/server/Projects/sfp_nsd/derivatives/sfp_maps/mgzs/nsdsyn/rh.sub-subj05_value-mode_masked.mgz...\n",
      "\n"
     ]
    },
    {
     "name": "stdout",
     "output_type": "stream",
     "text": [
      "NaN found at voxel (2, 0, 0, 0)\n",
      "NaN found at voxel (38046, 0, 0, 0)\n",
      "NaN found at voxel (152184, 0, 0, 0)\n",
      "NaN found at voxel (25364, 0, 0, 0)\n",
      "NaN found at voxel (50728, 0, 0, 0)\n",
      "NaN found at voxel (190229, 0, 0, 0)\n",
      "NaN found at voxel (139502, 0, 0, 0)\n",
      "NaN found at voxel (12686, 0, 0, 0)\n",
      "NaN found at voxel (240953, 0, 0, 0)\n",
      "NaN found at voxel (202910, 0, 0, 0)\n",
      "NaN found at voxel (202910, 0, 0, 0)\n"
     ]
    },
    {
     "name": "stderr",
     "output_type": "stream",
     "text": [
      "error: WARNING: 236706 NaNs found in volume /Volumes/server/Projects/sfp_nsd/derivatives/sfp_maps/mgzs/nsdsyn/lh.sub-subj06_value-mode_masked.mgz...\n",
      "\n",
      "error: WARNING: 236593 NaNs found in volume /Volumes/server/Projects/sfp_nsd/derivatives/sfp_maps/mgzs/nsdsyn/rh.sub-subj06_value-mode_masked.mgz...\n",
      "\n"
     ]
    },
    {
     "name": "stdout",
     "output_type": "stream",
     "text": [
      "NaN found at voxel (29817, 0, 0, 0)\n",
      "NaN found at voxel (168956, 0, 0, 0)\n",
      "NaN found at voxel (59634, 0, 0, 0)\n",
      "NaN found at voxel (188832, 0, 0, 0)\n",
      "NaN found at voxel (19878, 0, 0, 0)\n",
      "NaN found at voxel (9939, 0, 0, 0)\n",
      "NaN found at voxel (149080, 0, 0, 0)\n",
      "NaN found at voxel (119266, 0, 0, 0)\n",
      "NaN found at voxel (109328, 0, 0, 0)\n",
      "NaN found at voxel (178894, 0, 0, 0)\n",
      "NaN found at voxel (79512, 0, 0, 0)\n",
      "NaN found at voxel (69573, 0, 0, 0)\n",
      "NaN found at voxel (39756, 0, 0, 0)\n",
      "NaN found at voxel (89451, 0, 0, 0)\n",
      "NaN found at voxel (139142, 0, 0, 0)\n",
      "NaN found at voxel (159018, 0, 0, 0)\n",
      "NaN found at voxel (5, 0, 0, 0)\n",
      "NaN found at voxel (5, 0, 0, 0)\n",
      ", 0)\n"
     ]
    },
    {
     "name": "stderr",
     "output_type": "stream",
     "text": [
      "error: WARNING: 177633 NaNs found in volume /Volumes/server/Projects/sfp_nsd/derivatives/sfp_maps/mgzs/nsdsyn/lh.sub-subj07_value-mode_masked.mgz...\n",
      "\n",
      "error: WARNING: 179012 NaNs found in volume /Volumes/server/Projects/sfp_nsd/derivatives/sfp_maps/mgzs/nsdsyn/rh.sub-subj07_value-mode_masked.mgz...\n",
      "\n"
     ]
    },
    {
     "name": "stdout",
     "output_type": "stream",
     "text": [
      "NaN found at voxel (179492, 0, 0, 0)\n",
      "NaN found at voxel (213146, 0, 0, 0)\n",
      "NaN found at voxel (201928, 0, 0, 0)\n",
      "NaN found at voxel (0, 0, 0, 0)\n",
      "NaN found at voxel (134620, 0, 0, 0)\n",
      "NaN found at voxel (22438, 0, 0, 0)\n",
      "NaN found at voxel (11219, 0, 0, 0)\n",
      "NaN found at voxel (123402, 0, 0, 0)\n",
      "NaN found at voxel (89748, 0, 0, 0)\n",
      "NaN found at voxel (33657, 0, 0, 0)\n",
      "NaN found at voxel (157056, 0, 0, 0)\n",
      "NaN found at voxel (157056, 0, 0, 0)\n"
     ]
    },
    {
     "name": "stderr",
     "output_type": "stream",
     "text": [
      "error: WARNING: 213855 NaNs found in volume /Volumes/server/Projects/sfp_nsd/derivatives/sfp_maps/mgzs/nsdsyn/lh.sub-subj08_value-mode_masked.mgz...\n",
      "\n",
      "error: WARNING: 212577 NaNs found in volume /Volumes/server/Projects/sfp_nsd/derivatives/sfp_maps/mgzs/nsdsyn/rh.sub-subj08_value-mode_masked.mgz...\n",
      "\n"
     ]
    }
   ],
   "source": [
    "for sn in sn_list:\n",
    "    overlay_file=f'sub-{sn}_value-mode_masked.mgz'\n",
    "    label_dir=os.path.join(fs_subj_dir, sn, 'label')\n",
    "    save_path = os.path.join(fig_dir, 'ss', f'ss_view-posterior_sub-{sn}_value-mode_masked.mgz')\n",
    "    lh_labels, lh_colors = pyview.get_subj_wise_labels('lh', labels, label_colors, label_dir)\n",
    "    lh_obj = pyview.PyFreeview(fs_subj_dir,\n",
    "                               sn, 'lh', surf=surf, labels=lh_labels, label_dir=label_dir,\n",
    "                               overlay=overlay_file, overlay_dir=overlay_dir)\n",
    "\n",
    "    rh_labels, rh_colors = pyview.get_subj_wise_labels('rh', labels, label_colors, label_dir)\n",
    "    rh_obj = pyview.PyFreeview(fs_subj_dir,\n",
    "                               sn, 'rh', surf=surf, labels=rh_labels, label_dir=label_dir,\n",
    "                               overlay=overlay_file, overlay_dir=overlay_dir,\n",
    "                               view='posterior', cam_list=[1.25,0,-25,0], save_path=save_path)\n",
    "    fnl_cm = lh_obj.to_command(\n",
    "        **{'label_colors': lh_colors,'label_opacity': 1, 'label_outline':  True, 'overlay_custom': overlay_custom_log}) + ':offset=-60,0,0' + rh_obj.to_command(\n",
    "        **{'label_colors': rh_colors,'label_opacity': 1, 'label_outline':  True, 'overlay_custom': overlay_custom_log}).split('freeview')[-1] + ' -viewsize 1024 1024'\n",
    "    fnl_cm += ' -colorscale'\n",
    "    os.system(fnl_cm)"
   ],
   "metadata": {
    "collapsed": false,
    "pycharm": {
     "name": "#%%\n"
    }
   }
  },
  {
   "cell_type": "markdown",
   "source": [
    "# Save colorbar in log scale separately"
   ],
   "metadata": {
    "collapsed": false,
    "pycharm": {
     "name": "#%% md\n"
    }
   }
  },
  {
   "cell_type": "code",
   "execution_count": 29,
   "outputs": [
    {
     "data": {
      "text/plain": "<Figure size 432x72 with 1 Axes>",
      "image/png": "[encoded data removed]"
     },
     "metadata": {
      "needs_background": "light"
     },
     "output_type": "display_data"
    }
   ],
   "source": [
    "import matplotlib.pyplot as plt\n",
    "import matplotlib as mpl\n",
    "import numpy as np\n",
    "\n",
    "# Create a figure and a single subplot\n",
    "fig, ax = plt.subplots(figsize=(6, 1))\n",
    "fig.subplots_adjust(bottom=0.5)\n",
    "\n",
    "# Create a colormap\n",
    "cmap = mpl.cm.coolwarm\n",
    "\n",
    "# Create a Normalize object which maps values to the [0, 1] interval\n",
    "norm = mpl.colors.Normalize(vmin=-1, vmax=1)\n",
    "\n",
    "# Create a ScalarMappable and initialize a data structure\n",
    "sm = mpl.cm.ScalarMappable(cmap=cmap, norm=norm)\n",
    "sm.set_array([])\n",
    "\n",
    "# Create the colorbar\n",
    "cbar = plt.colorbar(sm, cax=ax, orientation='horizontal')\n",
    "\n",
    "plt.savefig(os.path.join(fig_dir, 'colorbar_image.png'), bbox_inches='tight')"
   ],
   "metadata": {
    "collapsed": false,
    "pycharm": {
     "name": "#%%\n"
    }
   }
  },
  {
   "cell_type": "code",
   "execution_count": null,
   "outputs": [],
   "source": [],
   "metadata": {
    "collapsed": false,
    "pycharm": {
     "name": "#%%\n"
    }
   }
  },
  {
   "cell_type": "code",
   "execution_count": 49,
   "outputs": [],
   "source": [
    "thres=(0.1, 13)\n",
    "overlay_custom=None\n",
    "for sn in subj_list[1:2]:\n",
    "    lh_labels = []\n",
    "    lh_colors = []\n",
    "    rh_labels = []\n",
    "    rh_colors = []\n",
    "    overlay=f'sub-{sn}_method-curvefit_value-mode.mgz'\n",
    "    label_dir=f'/Volumes/server/Projects/sfp_nsd/natural-scenes-dataset/nsddata/freesurfer/{sn}/label'\n",
    "    output_path = os.path.join(fig_dir, f'ss_ang-ventral_sub-{sn}_method-curvefit_value-mode.png')\n",
    "    for l, c in zip(labels, label_colors):\n",
    "            if os.path.exists(os.path.join(label_dir, f'lh.{l}')):\n",
    "                lh_labels.append(l)\n",
    "                lh_colors.append(c)\n",
    "            if os.path.exists(os.path.join(label_dir, f'rh.{l}')):\n",
    "                rh_labels.append(l)\n",
    "                rh_colors.append(c)\n",
    "    lh_obj = pyview.PyFreeview(fs_subj_dir,\n",
    "                               sn, 'lh', surf=surf,\n",
    "                               overlay=overlay, overlay_dir=overlay_dir,\n",
    "                               labels=lh_labels, label_dir=label_dir)\n",
    "    rh_obj = pyview.PyFreeview(fs_subj_dir,\n",
    "                               sn, 'rh', surf=surf,\n",
    "                               overlay=overlay, overlay_dir=overlay_dir,\n",
    "                               labels=rh_labels, label_dir=label_dir,\n",
    "                               view='inferior', cam_list=[1.25,0,-30,0], save_path=output_path)\n",
    "    fnl_cm = lh_obj.to_command(**{'label_colors': lh_colors,'label_opacity': 1, 'label_outline':  True, 'overlay_threshold':thres, 'overlay_color': 'colorwheel', 'overlay_custom': overlay_custom}) +  rh_obj.to_command(**{'label_colors': rh_colors,'label_opacity': 1, 'label_outline': True, 'overlay_color': 'colorwheel', 'overlay_custom': overlay_custom, 'overlay_threshold':thres}).split('freeview')[-1]\n",
    "    fnl_cm = fnl_cm + ' -viewsize 1024 1024'\n",
    "    os.system(fnl_cm)\n"
   ],
   "metadata": {
    "collapsed": false,
    "pycharm": {
     "name": "#%%\n"
    }
   }
  },
  {
   "cell_type": "code",
   "execution_count": 51,
   "outputs": [],
   "source": [
    "thres=(0.5, 10)\n",
    "overlay_custom=None\n",
    "for sn in subj_list:\n",
    "    lh_labels = []\n",
    "    lh_colors = []\n",
    "    rh_labels = []\n",
    "    rh_colors = []\n",
    "    overlay=f'sub-{sn}_method-curvefit_value-sigma.mgz'\n",
    "    label_dir=f'/Volumes/server/Projects/sfp_nsd/natural-scenes-dataset/nsddata/freesurfer/{sn}/label'\n",
    "    output_path = os.path.join(fig_dir, f'ss_ang-ventral_sub-{sn}_method-curvefit_value-sigma.png')\n",
    "    for l, c in zip(labels, label_colors):\n",
    "            if os.path.exists(os.path.join(label_dir, f'lh.{l}')):\n",
    "                lh_labels.append(l)\n",
    "                lh_colors.append(c)\n",
    "            if os.path.exists(os.path.join(label_dir, f'rh.{l}')):\n",
    "                rh_labels.append(l)\n",
    "                rh_colors.append(c)\n",
    "    lh_obj = pyview.PyFreeview(fs_subj_dir,\n",
    "                               sn, 'lh', surf=surf,\n",
    "                               overlay=overlay, overlay_dir=overlay_dir,\n",
    "                               labels=lh_labels, label_dir=label_dir)\n",
    "    rh_obj = pyview.PyFreeview(fs_subj_dir,\n",
    "                               sn, 'rh', surf=surf,\n",
    "                               overlay=overlay, overlay_dir=overlay_dir,\n",
    "                               labels=rh_labels, label_dir=label_dir,\n",
    "                               view='inferior', cam_list=[1.25,0,-30,0], save_path=output_path)\n",
    "    fnl_cm = lh_obj.to_command(**{'label_colors': lh_colors,'label_opacity': 1, 'label_outline':  True, 'overlay_threshold':thres, 'overlay_color': 'colorwheel', 'overlay_custom': overlay_custom}) +  rh_obj.to_command(**{'label_colors': rh_colors,'label_opacity': 1, 'label_outline': True, 'overlay_color': 'colorwheel', 'overlay_custom': overlay_custom, 'overlay_threshold':thres}).split('freeview')[-1]\n",
    "    fnl_cm = fnl_cm + ' -viewsize 1024 1024'\n",
    "    os.system(fnl_cm)\n"
   ],
   "metadata": {
    "collapsed": false,
    "pycharm": {
     "name": "#%%\n"
    }
   }
  },
  {
   "cell_type": "code",
   "execution_count": 52,
   "outputs": [],
   "source": [
    "thres=(1, 10)\n",
    "overlay_custom=None\n",
    "for sn in subj_list:\n",
    "    lh_labels = []\n",
    "    lh_colors = []\n",
    "    rh_labels = []\n",
    "    rh_colors = []\n",
    "    overlay=f'sub-{sn}_method-curvefit_value-amp.mgz'\n",
    "    label_dir=f'/Volumes/server/Projects/sfp_nsd/natural-scenes-dataset/nsddata/freesurfer/{sn}/label'\n",
    "    output_path = os.path.join(fig_dir, f'ss_ang-ventral_sub-{sn}_method-curvefit_value-amp.png')\n",
    "    for l, c in zip(labels, label_colors):\n",
    "            if os.path.exists(os.path.join(label_dir, f'lh.{l}')):\n",
    "                lh_labels.append(l)\n",
    "                lh_colors.append(c)\n",
    "            if os.path.exists(os.path.join(label_dir, f'rh.{l}')):\n",
    "                rh_labels.append(l)\n",
    "                rh_colors.append(c)\n",
    "    lh_obj = pyview.PyFreeview(fs_subj_dir,\n",
    "                               sn, 'lh', surf=surf,\n",
    "                               overlay=overlay, overlay_dir=overlay_dir,\n",
    "                               labels=lh_labels, label_dir=label_dir)\n",
    "    rh_obj = pyview.PyFreeview(fs_subj_dir,\n",
    "                               sn, 'rh', surf=surf,\n",
    "                               overlay=overlay, overlay_dir=overlay_dir,\n",
    "                               labels=rh_labels, label_dir=label_dir,\n",
    "                               view='inferior', cam_list=[1.25,0,-30,0], save_path=output_path)\n",
    "    fnl_cm = lh_obj.to_command(**{'label_colors': lh_colors,'label_opacity': 1, 'label_outline':  True, 'overlay_threshold':thres, 'overlay_color': 'colorwheel', 'overlay_custom': overlay_custom}) +  rh_obj.to_command(**{'label_colors': rh_colors,'label_opacity': 1, 'label_outline': True, 'overlay_color': 'colorwheel', 'overlay_custom': overlay_custom, 'overlay_threshold':thres}).split('freeview')[-1]\n",
    "    fnl_cm = fnl_cm + ' -viewsize 1024 1024'\n",
    "    os.system(fnl_cm)\n"
   ],
   "metadata": {
    "collapsed": false,
    "pycharm": {
     "name": "#%%\n"
    }
   }
  },
  {
   "cell_type": "code",
   "execution_count": 24,
   "outputs": [],
   "source": [
    "thres=(2,4)\n",
    "overlay_custom=None\n",
    "for sn in subj_list[:1]:\n",
    "    lh_labels = []\n",
    "    lh_colors = []\n",
    "    rh_labels = []\n",
    "    rh_colors = []\n",
    "    overlay=f'sub-{sn}_stat-anova_value-F.mgz'\n",
    "    label_dir=f'/Volumes/server/Projects/sfp_nsd/natural-scenes-dataset/nsddata/freesurfer/{sn}/label'\n",
    "    output_path = os.path.join(fig_dir, f'ss_ang-ventral_sub-{sn}_stat-anova_value-F.png')\n",
    "    for l, c in zip(labels, label_colors):\n",
    "            if os.path.exists(os.path.join(label_dir, f'lh.{l}')):\n",
    "                lh_labels.append(l)\n",
    "                lh_colors.append(c)\n",
    "            if os.path.exists(os.path.join(label_dir, f'rh.{l}')):\n",
    "                rh_labels.append(l)\n",
    "                rh_colors.append(c)\n",
    "    lh_obj = pyview.PyFreeview(fs_subj_dir,\n",
    "                               sn, 'lh', surf=surf,\n",
    "                               overlay=overlay, overlay_dir=overlay_dir,\n",
    "                               labels=lh_labels, label_dir=label_dir)\n",
    "    rh_obj = pyview.PyFreeview(fs_subj_dir,\n",
    "                               sn, 'rh', surf=surf,\n",
    "                               overlay=overlay, overlay_dir=overlay_dir,\n",
    "                               labels=rh_labels, label_dir=label_dir,\n",
    "                               view='inferior', cam_list=[1.25,0,-30,0], save_path=output_path)\n",
    "    fnl_cm = lh_obj.to_command(**{'label_colors': lh_colors,'label_opacity': 1, 'label_outline':  True, 'overlay_threshold':thres, 'overlay_custom': overlay_custom}) +  rh_obj.to_command(**{'label_colors': rh_colors,'label_opacity': 1, 'label_outline': True, 'overlay_custom': overlay_custom, 'overlay_threshold':thres}).split('freeview')[-1]\n",
    "    fnl_cm = fnl_cm + ' -viewsize 1024 1024'\n",
    "    os.system(fnl_cm)\n"
   ],
   "metadata": {
    "collapsed": false,
    "pycharm": {
     "name": "#%%\n"
    }
   }
  },
  {
   "cell_type": "code",
   "execution_count": 25,
   "outputs": [],
   "source": [
    "\n",
    "thres=(2,4)\n",
    "overlay_custom=None\n",
    "for sn in subj_list:\n",
    "    lh_labels = []\n",
    "    lh_colors = []\n",
    "    rh_labels = []\n",
    "    rh_colors = []\n",
    "    overlay=f'sub-{sn}_stat-anova_value-F.mgz'\n",
    "    label_dir=f'/Volumes/server/Projects/sfp_nsd/natural-scenes-dataset/nsddata/freesurfer/{sn}/label'\n",
    "    output_path = os.path.join(fig_dir, f'ss_ang-occipital_sub-{sn}_stat-anova_value-F.png')\n",
    "    for l, c in zip(labels, label_colors):\n",
    "            if os.path.exists(os.path.join(label_dir, f'lh.{l}')):\n",
    "                lh_labels.append(l)\n",
    "                lh_colors.append(c)\n",
    "            if os.path.exists(os.path.join(label_dir, f'rh.{l}')):\n",
    "                rh_labels.append(l)\n",
    "                rh_colors.append(c)\n",
    "    lh_obj = pyview.PyFreeview(fs_subj_dir,\n",
    "                               sn, 'lh', surf=surf,\n",
    "                               overlay=overlay, overlay_dir=overlay_dir,\n",
    "                               labels=lh_labels, label_dir=label_dir)\n",
    "    rh_obj = pyview.PyFreeview(fs_subj_dir,\n",
    "                               sn, 'rh', surf=surf,\n",
    "                               overlay=overlay, overlay_dir=overlay_dir,\n",
    "                               labels=rh_labels, label_dir=label_dir,\n",
    "                               view='inferior', cam_list=None, save_path=output_path)\n",
    "    fnl_cm = lh_obj.to_command(**{'label_colors': lh_colors,'label_opacity': 1, 'label_outline':  True, 'overlay_threshold':thres, 'overlay_custom': overlay_custom}) +  rh_obj.to_command(**{'label_colors': rh_colors,'label_opacity': 1, 'label_outline': True, 'overlay_custom': overlay_custom, 'overlay_threshold':thres}).split('freeview')[-1]\n",
    "    fnl_cm = fnl_cm + ' -viewsize 1024 1024' + ' -view posterior -cam Elevation -25 Zoom 1.25'\n",
    "    os.system(fnl_cm)\n"
   ],
   "metadata": {
    "collapsed": false,
    "pycharm": {
     "name": "#%%\n"
    }
   }
  }
 ],
 "metadata": {
  "kernelspec": {
   "name": "sfp",
   "language": "python",
   "display_name": "sfp"
  },
  "language_info": {
   "codemirror_mode": {
    "name": "ipython",
    "version": 2
   },
   "file_extension": ".py",
   "mimetype": "text/x-python",
   "name": "python",
   "nbconvert_exporter": "python",
   "pygments_lexer": "ipython2",
   "version": "2.7.6"
  }
 },
 "nbformat": 4,
 "nbformat_minor": 0
}