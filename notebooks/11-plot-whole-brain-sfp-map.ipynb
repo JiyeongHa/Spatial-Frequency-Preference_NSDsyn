{
 "cells": [
  {
   "cell_type": "code",
   "execution_count": 2,
   "metadata": {
    "collapsed": true
   },
   "outputs": [],
   "source": [
    "import sys\n",
    "sys.path.append('..')\n",
    "sys.path.append('/Users/jh7685/Documents/Projects/pysurfer')\n",
    "import pysurfer.freeview_helper as pyview\n",
    "import os\n",
    "import seaborn as sns\n",
    "import numpy as np\n",
    "import seaborn as sns\n",
    "import warnings\n",
    "from itertools import product\n",
    "warnings.filterwarnings(\"ignore\", category=UserWarning)\n",
    "%load_ext autoreload\n",
    "%autoreload 2"
   ]
  },
  {
   "cell_type": "markdown",
   "source": [
    "# Configurations"
   ],
   "metadata": {
    "collapsed": false,
    "pycharm": {
     "name": "#%% md\n"
    }
   }
  },
  {
   "cell_type": "code",
   "execution_count": 3,
   "outputs": [],
   "source": [
    "nsd_dir ='/Volumes/server/Projects/sfp_nsd/natural-scenes-dataset'\n",
    "output_dir='/Volumes/server/Projects/sfp_nsd/derivatives'\n",
    "fs_subj_dir='/Volumes/server/Projects/sfp_nsd/natural-scenes-dataset/nsddata/freesurfer'\n",
    "overlay_dir='/Volumes/server/Projects/sfp_nsd/derivatives/sfp_maps/mgzs/nsdsyn'\n",
    "fig_dir='/Volumes/server/Projects/sfp_nsd/derivatives/figures/sfp_anova/brain_maps/nsdsyn/ss'"
   ],
   "metadata": {
    "collapsed": false,
    "pycharm": {
     "name": "#%%\n"
    }
   }
  },
  {
   "cell_type": "markdown",
   "source": [
    "# Show Average precision mask"
   ],
   "metadata": {
    "collapsed": false,
    "pycharm": {
     "name": "#%% md\n"
    }
   }
  },
  {
   "cell_type": "code",
   "execution_count": 4,
   "outputs": [],
   "source": [
    "sn='fsaverage'\n",
    "surf='inflated'"
   ],
   "metadata": {
    "collapsed": false,
    "pycharm": {
     "name": "#%%\n"
    }
   }
  },
  {
   "cell_type": "code",
   "execution_count": 5,
   "outputs": [],
   "source": [
    "ret_colors = sns.color_palette('Blues_r', as_cmap=True)\n",
    "ret_colors = np.round(ret_colors(np.linspace(0,1, 8)[::2])[:,0:3]*255).astype(int)\n",
    "ret_colors = [np.asarray(ret_colors[k, :]) for k in range(3) for _ in range(2)] + [np.asarray(ret_colors[3,:])]\n",
    "\n",
    "ffas_colors = [np.asarray([255,255,255]), np.asarray([255,255,255])]\n",
    "ppa_color = [np.asarray([0,0,0])]\n",
    "\n",
    "label_colors = ret_colors + ffas_colors + ppa_color"
   ],
   "metadata": {
    "collapsed": false,
    "pycharm": {
     "name": "#%%\n"
    }
   }
  },
  {
   "cell_type": "code",
   "execution_count": 6,
   "outputs": [],
   "source": [
    "labels = ['V1v', 'V1d', 'V2v','V2d', 'V3v','V3d', 'hV4', 'FFA-1', 'FFA-2', 'PPA']\n",
    "labels = [f'bin-min-0.5_probmap_{roi}_smooth.label' for roi in labels]"
   ],
   "metadata": {
    "collapsed": false,
    "pycharm": {
     "name": "#%%\n"
    }
   }
  },
  {
   "cell_type": "code",
   "execution_count": 49,
   "outputs": [
    {
     "name": "stderr",
     "output_type": "stream",
     "text": [
      "2024-01-30 15:32:54.850 freeview[10305:4736700] TSM AdjustCapsLockLEDForKeyTransitionHandling - _ISSetPhysicalKeyboardCapsLockLED Inhibit\n"
     ]
    },
    {
     "data": {
      "text/plain": "2"
     },
     "execution_count": 49,
     "metadata": {},
     "output_type": "execute_result"
    }
   ],
   "source": [
    "thres=(15,20)\n",
    "overlay_custom=None\n",
    "lh_labels = []\n",
    "lh_colors = []\n",
    "rh_labels = []\n",
    "rh_colors = []\n",
    "overlay=f'sub-{sn}_value-precision_space-fsaverage.mgz'\n",
    "label_dir=f'/Volumes/server/Projects/sfp_nsd/natural-scenes-dataset/nsddata/freesurfer/{sn}/label'\n",
    "output_path = os.path.join(fig_dir, f'ss_ang-ventral_sub-{sn}_value-precision.png')\n",
    "for l, c in zip(labels, label_colors):\n",
    "        if os.path.exists(os.path.join(label_dir, f'lh.{l}')):\n",
    "            lh_labels.append(l)\n",
    "            lh_colors.append(c)\n",
    "        if os.path.exists(os.path.join(label_dir, f'rh.{l}')):\n",
    "            rh_labels.append(l)\n",
    "            rh_colors.append(c)\n",
    "lh_obj = pyview.PyFreeview(fs_subj_dir,\n",
    "                           sn, 'lh', surf=surf,\n",
    "                           overlay=overlay, overlay_dir=overlay_dir,\n",
    "                           labels=lh_labels, label_dir=label_dir)\n",
    "rh_obj = pyview.PyFreeview(fs_subj_dir,\n",
    "                           sn, 'rh', surf=surf,\n",
    "                           overlay=overlay, overlay_dir=overlay_dir,\n",
    "                           labels=rh_labels, label_dir=label_dir,\n",
    "                           view='inferior', cam_list=[1.25,0,-30,0], save_path=None)\n",
    "fnl_cm = lh_obj.to_command(**{'label_colors': lh_colors,'label_opacity': 1, 'label_outline':  True, 'overlay_threshold':thres, 'overlay_color': 'heatmap', 'overlay_custom': overlay_custom}) +  rh_obj.to_command(**{'label_colors': rh_colors,'label_opacity': 1, 'label_outline': True, 'overlay_color': 'heatmap', 'overlay_custom': overlay_custom, 'overlay_threshold':thres}).split('freeview')[-1]\n",
    "fnl_cm = fnl_cm + ' -viewsize 1024 1024'\n",
    "os.system(fnl_cm)\n"
   ],
   "metadata": {
    "collapsed": false,
    "pycharm": {
     "name": "#%%\n"
    }
   }
  },
  {
   "cell_type": "code",
   "execution_count": 7,
   "outputs": [
    {
     "name": "stderr",
     "output_type": "stream",
     "text": [
      "2024-01-30 16:55:47.318 freeview[12780:4828121] TSM AdjustCapsLockLEDForKeyTransitionHandling - _ISSetPhysicalKeyboardCapsLockLED Inhibit\n"
     ]
    },
    {
     "data": {
      "text/plain": "0"
     },
     "execution_count": 7,
     "metadata": {},
     "output_type": "execute_result"
    }
   ],
   "source": [
    "thres=(6,128)\n",
    "overlay_custom=None\n",
    "lh_labels = []\n",
    "lh_colors = []\n",
    "rh_labels = []\n",
    "rh_colors = []\n",
    "overlay=f'sub-{sn}_value-mode_space-fsaverage_masked.mgz'\n",
    "label_dir=f'/Volumes/server/Projects/sfp_nsd/natural-scenes-dataset/nsddata/freesurfer/{sn}/label'\n",
    "#output_path = os.path.join(fig_dir, f'ss_ang-ventral_sub-{sn}_value-precision.png')\n",
    "\n",
    "for l, c in zip(labels, label_colors):\n",
    "        if os.path.exists(os.path.join(label_dir, f'lh.{l}')):\n",
    "            lh_labels.append(l)\n",
    "            lh_colors.append(c)\n",
    "        if os.path.exists(os.path.join(label_dir, f'rh.{l}')):\n",
    "            rh_labels.append(l)\n",
    "            rh_colors.append(c)\n",
    "lh_obj = pyview.PyFreeview(fs_subj_dir,\n",
    "                           sn, 'lh', surf=surf,\n",
    "                           overlay=overlay, overlay_dir=overlay_dir,\n",
    "                           labels=lh_labels, label_dir=label_dir)\n",
    "rh_obj = pyview.PyFreeview(fs_subj_dir,\n",
    "                           sn, 'rh', surf=surf,\n",
    "                           overlay=overlay, overlay_dir=overlay_dir,\n",
    "                           labels=rh_labels, label_dir=label_dir,\n",
    "                           view='inferior', cam_list=[1.25,0,-30,0], save_path=None)\n",
    "fnl_cm = lh_obj.to_command(**{'label_colors': lh_colors,'label_opacity': 1, 'label_outline':  True, 'overlay_threshold':thres, 'overlay_color': 'colorwheel', 'overlay_custom': overlay_custom}) +  rh_obj.to_command(**{'label_colors': rh_colors,'label_opacity': 1, 'label_outline': True, 'overlay_color': 'heatmap', 'overlay_custom': overlay_custom, 'overlay_threshold':thres}).split('freeview')[-1]\n",
    "fnl_cm = fnl_cm + ' -viewsize 1024 1024'\n",
    "os.system(fnl_cm)\n"
   ],
   "metadata": {
    "collapsed": false,
    "pycharm": {
     "name": "#%%\n"
    }
   }
  },
  {
   "cell_type": "code",
   "execution_count": 49,
   "outputs": [],
   "source": [
    "thres=(0.1, 13)\n",
    "overlay_custom=None\n",
    "for sn in subj_list[1:2]:\n",
    "    lh_labels = []\n",
    "    lh_colors = []\n",
    "    rh_labels = []\n",
    "    rh_colors = []\n",
    "    overlay=f'sub-{sn}_method-curvefit_value-mode.mgz'\n",
    "    label_dir=f'/Volumes/server/Projects/sfp_nsd/natural-scenes-dataset/nsddata/freesurfer/{sn}/label'\n",
    "    output_path = os.path.join(fig_dir, f'ss_ang-ventral_sub-{sn}_method-curvefit_value-mode.png')\n",
    "    for l, c in zip(labels, label_colors):\n",
    "            if os.path.exists(os.path.join(label_dir, f'lh.{l}')):\n",
    "                lh_labels.append(l)\n",
    "                lh_colors.append(c)\n",
    "            if os.path.exists(os.path.join(label_dir, f'rh.{l}')):\n",
    "                rh_labels.append(l)\n",
    "                rh_colors.append(c)\n",
    "    lh_obj = pyview.PyFreeview(fs_subj_dir,\n",
    "                               sn, 'lh', surf=surf,\n",
    "                               overlay=overlay, overlay_dir=overlay_dir,\n",
    "                               labels=lh_labels, label_dir=label_dir)\n",
    "    rh_obj = pyview.PyFreeview(fs_subj_dir,\n",
    "                               sn, 'rh', surf=surf,\n",
    "                               overlay=overlay, overlay_dir=overlay_dir,\n",
    "                               labels=rh_labels, label_dir=label_dir,\n",
    "                               view='inferior', cam_list=[1.25,0,-30,0], save_path=output_path)\n",
    "    fnl_cm = lh_obj.to_command(**{'label_colors': lh_colors,'label_opacity': 1, 'label_outline':  True, 'overlay_threshold':thres, 'overlay_color': 'colorwheel', 'overlay_custom': overlay_custom}) +  rh_obj.to_command(**{'label_colors': rh_colors,'label_opacity': 1, 'label_outline': True, 'overlay_color': 'colorwheel', 'overlay_custom': overlay_custom, 'overlay_threshold':thres}).split('freeview')[-1]\n",
    "    fnl_cm = fnl_cm + ' -viewsize 1024 1024'\n",
    "    os.system(fnl_cm)\n"
   ],
   "metadata": {
    "collapsed": false,
    "pycharm": {
     "name": "#%%\n"
    }
   }
  },
  {
   "cell_type": "code",
   "execution_count": 51,
   "outputs": [],
   "source": [
    "thres=(0.5, 10)\n",
    "overlay_custom=None\n",
    "for sn in subj_list:\n",
    "    lh_labels = []\n",
    "    lh_colors = []\n",
    "    rh_labels = []\n",
    "    rh_colors = []\n",
    "    overlay=f'sub-{sn}_method-curvefit_value-sigma.mgz'\n",
    "    label_dir=f'/Volumes/server/Projects/sfp_nsd/natural-scenes-dataset/nsddata/freesurfer/{sn}/label'\n",
    "    output_path = os.path.join(fig_dir, f'ss_ang-ventral_sub-{sn}_method-curvefit_value-sigma.png')\n",
    "    for l, c in zip(labels, label_colors):\n",
    "            if os.path.exists(os.path.join(label_dir, f'lh.{l}')):\n",
    "                lh_labels.append(l)\n",
    "                lh_colors.append(c)\n",
    "            if os.path.exists(os.path.join(label_dir, f'rh.{l}')):\n",
    "                rh_labels.append(l)\n",
    "                rh_colors.append(c)\n",
    "    lh_obj = pyview.PyFreeview(fs_subj_dir,\n",
    "                               sn, 'lh', surf=surf,\n",
    "                               overlay=overlay, overlay_dir=overlay_dir,\n",
    "                               labels=lh_labels, label_dir=label_dir)\n",
    "    rh_obj = pyview.PyFreeview(fs_subj_dir,\n",
    "                               sn, 'rh', surf=surf,\n",
    "                               overlay=overlay, overlay_dir=overlay_dir,\n",
    "                               labels=rh_labels, label_dir=label_dir,\n",
    "                               view='inferior', cam_list=[1.25,0,-30,0], save_path=output_path)\n",
    "    fnl_cm = lh_obj.to_command(**{'label_colors': lh_colors,'label_opacity': 1, 'label_outline':  True, 'overlay_threshold':thres, 'overlay_color': 'colorwheel', 'overlay_custom': overlay_custom}) +  rh_obj.to_command(**{'label_colors': rh_colors,'label_opacity': 1, 'label_outline': True, 'overlay_color': 'colorwheel', 'overlay_custom': overlay_custom, 'overlay_threshold':thres}).split('freeview')[-1]\n",
    "    fnl_cm = fnl_cm + ' -viewsize 1024 1024'\n",
    "    os.system(fnl_cm)\n"
   ],
   "metadata": {
    "collapsed": false,
    "pycharm": {
     "name": "#%%\n"
    }
   }
  },
  {
   "cell_type": "code",
   "execution_count": 52,
   "outputs": [],
   "source": [
    "thres=(1, 10)\n",
    "overlay_custom=None\n",
    "for sn in subj_list:\n",
    "    lh_labels = []\n",
    "    lh_colors = []\n",
    "    rh_labels = []\n",
    "    rh_colors = []\n",
    "    overlay=f'sub-{sn}_method-curvefit_value-amp.mgz'\n",
    "    label_dir=f'/Volumes/server/Projects/sfp_nsd/natural-scenes-dataset/nsddata/freesurfer/{sn}/label'\n",
    "    output_path = os.path.join(fig_dir, f'ss_ang-ventral_sub-{sn}_method-curvefit_value-amp.png')\n",
    "    for l, c in zip(labels, label_colors):\n",
    "            if os.path.exists(os.path.join(label_dir, f'lh.{l}')):\n",
    "                lh_labels.append(l)\n",
    "                lh_colors.append(c)\n",
    "            if os.path.exists(os.path.join(label_dir, f'rh.{l}')):\n",
    "                rh_labels.append(l)\n",
    "                rh_colors.append(c)\n",
    "    lh_obj = pyview.PyFreeview(fs_subj_dir,\n",
    "                               sn, 'lh', surf=surf,\n",
    "                               overlay=overlay, overlay_dir=overlay_dir,\n",
    "                               labels=lh_labels, label_dir=label_dir)\n",
    "    rh_obj = pyview.PyFreeview(fs_subj_dir,\n",
    "                               sn, 'rh', surf=surf,\n",
    "                               overlay=overlay, overlay_dir=overlay_dir,\n",
    "                               labels=rh_labels, label_dir=label_dir,\n",
    "                               view='inferior', cam_list=[1.25,0,-30,0], save_path=output_path)\n",
    "    fnl_cm = lh_obj.to_command(**{'label_colors': lh_colors,'label_opacity': 1, 'label_outline':  True, 'overlay_threshold':thres, 'overlay_color': 'colorwheel', 'overlay_custom': overlay_custom}) +  rh_obj.to_command(**{'label_colors': rh_colors,'label_opacity': 1, 'label_outline': True, 'overlay_color': 'colorwheel', 'overlay_custom': overlay_custom, 'overlay_threshold':thres}).split('freeview')[-1]\n",
    "    fnl_cm = fnl_cm + ' -viewsize 1024 1024'\n",
    "    os.system(fnl_cm)\n"
   ],
   "metadata": {
    "collapsed": false,
    "pycharm": {
     "name": "#%%\n"
    }
   }
  },
  {
   "cell_type": "code",
   "execution_count": 24,
   "outputs": [],
   "source": [
    "thres=(2,4)\n",
    "overlay_custom=None\n",
    "for sn in subj_list[:1]:\n",
    "    lh_labels = []\n",
    "    lh_colors = []\n",
    "    rh_labels = []\n",
    "    rh_colors = []\n",
    "    overlay=f'sub-{sn}_stat-anova_value-F.mgz'\n",
    "    label_dir=f'/Volumes/server/Projects/sfp_nsd/natural-scenes-dataset/nsddata/freesurfer/{sn}/label'\n",
    "    output_path = os.path.join(fig_dir, f'ss_ang-ventral_sub-{sn}_stat-anova_value-F.png')\n",
    "    for l, c in zip(labels, label_colors):\n",
    "            if os.path.exists(os.path.join(label_dir, f'lh.{l}')):\n",
    "                lh_labels.append(l)\n",
    "                lh_colors.append(c)\n",
    "            if os.path.exists(os.path.join(label_dir, f'rh.{l}')):\n",
    "                rh_labels.append(l)\n",
    "                rh_colors.append(c)\n",
    "    lh_obj = pyview.PyFreeview(fs_subj_dir,\n",
    "                               sn, 'lh', surf=surf,\n",
    "                               overlay=overlay, overlay_dir=overlay_dir,\n",
    "                               labels=lh_labels, label_dir=label_dir)\n",
    "    rh_obj = pyview.PyFreeview(fs_subj_dir,\n",
    "                               sn, 'rh', surf=surf,\n",
    "                               overlay=overlay, overlay_dir=overlay_dir,\n",
    "                               labels=rh_labels, label_dir=label_dir,\n",
    "                               view='inferior', cam_list=[1.25,0,-30,0], save_path=output_path)\n",
    "    fnl_cm = lh_obj.to_command(**{'label_colors': lh_colors,'label_opacity': 1, 'label_outline':  True, 'overlay_threshold':thres, 'overlay_custom': overlay_custom}) +  rh_obj.to_command(**{'label_colors': rh_colors,'label_opacity': 1, 'label_outline': True, 'overlay_custom': overlay_custom, 'overlay_threshold':thres}).split('freeview')[-1]\n",
    "    fnl_cm = fnl_cm + ' -viewsize 1024 1024'\n",
    "    os.system(fnl_cm)\n"
   ],
   "metadata": {
    "collapsed": false,
    "pycharm": {
     "name": "#%%\n"
    }
   }
  },
  {
   "cell_type": "code",
   "execution_count": 25,
   "outputs": [],
   "source": [
    "\n",
    "thres=(2,4)\n",
    "overlay_custom=None\n",
    "for sn in subj_list:\n",
    "    lh_labels = []\n",
    "    lh_colors = []\n",
    "    rh_labels = []\n",
    "    rh_colors = []\n",
    "    overlay=f'sub-{sn}_stat-anova_value-F.mgz'\n",
    "    label_dir=f'/Volumes/server/Projects/sfp_nsd/natural-scenes-dataset/nsddata/freesurfer/{sn}/label'\n",
    "    output_path = os.path.join(fig_dir, f'ss_ang-occipital_sub-{sn}_stat-anova_value-F.png')\n",
    "    for l, c in zip(labels, label_colors):\n",
    "            if os.path.exists(os.path.join(label_dir, f'lh.{l}')):\n",
    "                lh_labels.append(l)\n",
    "                lh_colors.append(c)\n",
    "            if os.path.exists(os.path.join(label_dir, f'rh.{l}')):\n",
    "                rh_labels.append(l)\n",
    "                rh_colors.append(c)\n",
    "    lh_obj = pyview.PyFreeview(fs_subj_dir,\n",
    "                               sn, 'lh', surf=surf,\n",
    "                               overlay=overlay, overlay_dir=overlay_dir,\n",
    "                               labels=lh_labels, label_dir=label_dir)\n",
    "    rh_obj = pyview.PyFreeview(fs_subj_dir,\n",
    "                               sn, 'rh', surf=surf,\n",
    "                               overlay=overlay, overlay_dir=overlay_dir,\n",
    "                               labels=rh_labels, label_dir=label_dir,\n",
    "                               view='inferior', cam_list=None, save_path=output_path)\n",
    "    fnl_cm = lh_obj.to_command(**{'label_colors': lh_colors,'label_opacity': 1, 'label_outline':  True, 'overlay_threshold':thres, 'overlay_custom': overlay_custom}) +  rh_obj.to_command(**{'label_colors': rh_colors,'label_opacity': 1, 'label_outline': True, 'overlay_custom': overlay_custom, 'overlay_threshold':thres}).split('freeview')[-1]\n",
    "    fnl_cm = fnl_cm + ' -viewsize 1024 1024' + ' -view posterior -cam Elevation -25 Zoom 1.25'\n",
    "    os.system(fnl_cm)\n"
   ],
   "metadata": {
    "collapsed": false,
    "pycharm": {
     "name": "#%%\n"
    }
   }
  }
 ],
 "metadata": {
  "kernelspec": {
   "display_name": "Python 3",
   "language": "python",
   "name": "python3"
  },
  "language_info": {
   "codemirror_mode": {
    "name": "ipython",
    "version": 2
   },
   "file_extension": ".py",
   "mimetype": "text/x-python",
   "name": "python",
   "nbconvert_exporter": "python",
   "pygments_lexer": "ipython2",
   "version": "2.7.6"
  }
 },
 "nbformat": 4,
 "nbformat_minor": 0
}