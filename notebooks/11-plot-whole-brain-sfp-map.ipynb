{
 "cells": [
  {
   "cell_type": "code",
   "execution_count": 15,
   "metadata": {
    "collapsed": true
   },
   "outputs": [
    {
     "name": "stdout",
     "output_type": "stream",
     "text": [
      "The autoreload extension is already loaded. To reload it, use:\n",
      "  %reload_ext autoreload\n"
     ]
    }
   ],
   "source": [
    "import os\n",
    "import sys\n",
    "sys.path.append('..')\n",
    "sys.path.append('/Users/jh7685/Documents/Projects/pysurfer')\n",
    "import pysurfer.freeview_helper as pyview\n",
    "import numpy as np\n",
    "import seaborn as sns\n",
    "import matplotlib as mpl\n",
    "import warnings\n",
    "import matplotlib.pyplot as plt\n",
    "\n",
    "warnings.filterwarnings(\"ignore\", category=UserWarning)\n",
    "%load_ext autoreload\n",
    "%autoreload 2"
   ]
  },
  {
   "cell_type": "markdown",
   "source": [
    "# Configurations"
   ],
   "metadata": {
    "collapsed": false,
    "pycharm": {
     "name": "#%% md\n"
    }
   }
  },
  {
   "cell_type": "code",
   "execution_count": 8,
   "outputs": [],
   "source": [
    "nsd_dir ='/Volumes/server/Projects/sfp_nsd/natural-scenes-dataset'\n",
    "output_dir='/Volumes/server/Projects/sfp_nsd/derivatives'\n",
    "fs_subj_dir='/Volumes/server/Projects/sfp_nsd/natural-scenes-dataset/nsddata/freesurfer'\n",
    "overlay_dir='/Volumes/server/Projects/sfp_nsd/derivatives/sfp_maps/mgzs/nsdsyn'\n",
    "fig_dir='/Volumes/server/Projects/sfp_nsd/derivatives/figures/brain_maps/nsdsyn'\n",
    "\n",
    "sn_list = [f'subj{sn:02d}' for sn in np.arange(1,9)]"
   ],
   "metadata": {
    "collapsed": false,
    "pycharm": {
     "name": "#%%\n"
    }
   }
  },
  {
   "cell_type": "code",
   "execution_count": 9,
   "outputs": [],
   "source": [
    "ret_colors = sns.color_palette('Blues_r', as_cmap=True)\n",
    "ret_colors = np.round(ret_colors(np.linspace(0,1, 8)[::2])[:,0:3]*255).astype(int)\n",
    "ret_colors = [np.asarray(ret_colors[k, :]) for k in range(3) for _ in range(2)] + [np.asarray(ret_colors[3,:])]\n",
    "\n",
    "ffas_colors = [np.asarray([255,255,255]), np.asarray([255,255,255])]\n",
    "ppa_color = [np.asarray([0,0,0])]\n",
    "\n",
    "label_colors = ret_colors + ffas_colors + ppa_color"
   ],
   "metadata": {
    "collapsed": false,
    "pycharm": {
     "name": "#%%\n"
    }
   }
  },
  {
   "cell_type": "code",
   "execution_count": 10,
   "outputs": [],
   "source": [
    "labels = ['V1v', 'V1d', 'V2v','V2d', 'V3v','V3d', 'hV4', 'FFA-1', 'FFA-2', 'PPA']\n",
    "labels = [f'bin-min-0.5_probmap_{roi}_smooth.label' for roi in labels]"
   ],
   "metadata": {
    "collapsed": false,
    "pycharm": {
     "name": "#%%\n"
    }
   }
  },
  {
   "cell_type": "markdown",
   "source": [
    "# Show Average sfp mask"
   ],
   "metadata": {
    "collapsed": false
   }
  },
  {
   "cell_type": "code",
   "execution_count": 22,
   "outputs": [],
   "source": [
    "surf='inflated'\n",
    "overlay_custom_log = pyview.make_custom_color_palettes_for_overlay(plt.get_cmap('autumn'),\n",
    "                                                               val_range=(1,128), n=100, log_scale=True)"
   ],
   "metadata": {
    "collapsed": false,
    "pycharm": {
     "name": "#%%\n"
    }
   }
  },
  {
   "cell_type": "code",
   "execution_count": 23,
   "outputs": [
    {
     "data": {
      "text/plain": "0"
     },
     "execution_count": 23,
     "metadata": {},
     "output_type": "execute_result"
    }
   ],
   "source": [
    "sn='fsaverage'\n",
    "overlay=f'sub-{sn}_value-mode_space-fsaverage_masked.mgz'\n",
    "label_dir=f'/Volumes/server/Projects/sfp_nsd/natural-scenes-dataset/nsddata/freesurfer/{sn}/label'\n",
    "save_path = os.path.join(fig_dir, 'ss', f'ss_view-ventral_sub-{sn}_value-mode_space-fsaverage_masked.mgz')\n",
    "\n",
    "lh_labels, lh_colors = pyview.get_subj_wise_labels('lh', labels, label_colors, label_dir)\n",
    "lh_obj = pyview.PyFreeview(fs_subj_dir,\n",
    "                           sn, 'lh', surf=surf,\n",
    "                           overlay=overlay, overlay_dir=overlay_dir,\n",
    "                           labels=lh_labels, label_dir=label_dir)\n",
    "\n",
    "rh_labels, rh_colors = pyview.get_subj_wise_labels('rh', labels, label_colors, label_dir)\n",
    "rh_obj = pyview.PyFreeview(fs_subj_dir,\n",
    "                           sn, 'rh', surf=surf,\n",
    "                           overlay=overlay, overlay_dir=overlay_dir,\n",
    "                           labels=rh_labels, label_dir=label_dir,\n",
    "                           view='inferior', cam_list=[1.25,0,-30,0], save_path=save_path)\n",
    "fnl_cm = lh_obj.to_command(\n",
    "    **{'label_colors': lh_colors,'label_opacity': 1, 'label_outline':  True, 'overlay_custom': overlay_custom_log}) + ':offset=-60,0,0' + rh_obj.to_command(\n",
    "    **{'label_colors': rh_colors,'label_opacity': 1, 'label_outline':  True, 'overlay_custom': overlay_custom_log}).split('freeview')[-1] + ' -viewsize 1024 1024'\n",
    "fnl_cm += ' -colorscale'\n",
    "os.system(fnl_cm)"
   ],
   "metadata": {
    "collapsed": false,
    "pycharm": {
     "name": "#%%\n"
    }
   }
  },
  {
   "cell_type": "code",
   "execution_count": 24,
   "outputs": [
    {
     "data": {
      "text/plain": "0"
     },
     "execution_count": 24,
     "metadata": {},
     "output_type": "execute_result"
    }
   ],
   "source": [
    "sn='fsaverage'\n",
    "overlay=f'sub-{sn}_value-mode_space-fsaverage_masked.mgz'\n",
    "label_dir=f'/Volumes/server/Projects/sfp_nsd/natural-scenes-dataset/nsddata/freesurfer/{sn}/label'\n",
    "save_path = os.path.join(fig_dir, 'ss', f'ss_view-posterior_sub-{sn}_value-mode_space-fsaverage_masked.mgz')\n",
    "\n",
    "lh_labels, lh_colors = pyview.get_subj_wise_labels('lh', labels, label_colors, label_dir)\n",
    "lh_obj = pyview.PyFreeview(fs_subj_dir,\n",
    "                           sn, 'lh', surf=surf,\n",
    "                           overlay=overlay, overlay_dir=overlay_dir,\n",
    "                           labels=lh_labels, label_dir=label_dir)\n",
    "\n",
    "rh_labels, rh_colors = pyview.get_subj_wise_labels('rh', labels, label_colors, label_dir)\n",
    "rh_obj = pyview.PyFreeview(fs_subj_dir,\n",
    "                           sn, 'rh', surf=surf,\n",
    "                           overlay=overlay, overlay_dir=overlay_dir,\n",
    "                           labels=rh_labels, label_dir=label_dir,\n",
    "                           view='posterior', cam_list=[1.25,0,-25,0], save_path=save_path)\n",
    "fnl_cm = lh_obj.to_command(\n",
    "    **{'label_colors': lh_colors,'label_opacity': 1, 'label_outline':  True, 'overlay_custom': overlay_custom_log}) + ':offset=-60,0,0' + rh_obj.to_command(\n",
    "    **{'label_colors': rh_colors,'label_opacity': 1, 'label_outline':  True, 'overlay_custom': overlay_custom_log}).split('freeview')[-1] + ' -viewsize 1024 1024'\n",
    "fnl_cm += ' -colorscale'\n",
    "os.system(fnl_cm)"
   ],
   "metadata": {
    "collapsed": false,
    "pycharm": {
     "name": "#%%\n"
    }
   }
  },
  {
   "cell_type": "markdown",
   "source": [
    "# Show individual sfp map"
   ],
   "metadata": {
    "collapsed": false,
    "pycharm": {
     "name": "#%% md\n"
    }
   }
  },
  {
   "cell_type": "code",
   "execution_count": 26,
   "outputs": [],
   "source": [
    "labels = ['V1v', 'V1d', 'V2v','V2d', 'V3v','V3d', 'hV4', 'aFFA', 'pFFA', 'PPA']\n",
    "labels = [f'{roi}.label' for roi in labels]"
   ],
   "metadata": {
    "collapsed": false,
    "pycharm": {
     "name": "#%%\n"
    }
   }
  },
  {
   "cell_type": "code",
   "execution_count": 28,
   "outputs": [
    {
     "name": "stdout",
     "output_type": "stream",
     "text": [
      "NaN found at voxel (216748, 0, 0, 0)\n",
      "NaN found at voxel (120420, 0, 0, 0)\n",
      "NaN found at voxel (43, 0, 0, 0)\n",
      "NaN found at voxel (36126, 0, 0, 0)\n",
      "NaN found at voxel (96336, 0, 0, 0)\n",
      "NaN found at voxel (132461, 0, 0, 0)\n",
      "NaN found at voxel (228789, 0, 0, 0)\n",
      "NaN found at voxel (204707, 0, 0, 0)\n",
      "NaN found at voxel (108378, 0, 0, 0)\n",
      "NaN found at voxel (180625, 0, 0, 0)\n",
      "NaN found at voxel (192666, 0, 0, 0)\n",
      "NaN found at voxel (192666, 0, 0, 0)\n"
     ]
    },
    {
     "name": "stderr",
     "output_type": "stream",
     "text": [
      "error: WARNING: 218588 NaNs found in volume /Volumes/server/Projects/sfp_nsd/derivatives/sfp_maps/mgzs/nsdsyn/lh.sub-subj03_value-mode_masked.mgz...\n",
      "\n",
      "error: WARNING: 217427 NaNs found in volume /Volumes/server/Projects/sfp_nsd/derivatives/sfp_maps/mgzs/nsdsyn/rh.sub-subj03_value-mode_masked.mgz...\n",
      "\n"
     ]
    },
    {
     "name": "stdout",
     "output_type": "stream",
     "text": [
      "NaN found at voxel (34275, 0, 0, 0)\n",
      "NaN found at voxel (114250, 0, 0, 0)\n",
      "NaN found at voxel (80, 0, 0, 0)\n",
      "NaN found at voxel (205647, 0, 0, 0)\n",
      "NaN found at voxel (137100, 0, 0, 0)\n",
      "NaN found at voxel (182799, 0, 0, 0)\n",
      "NaN found at voxel (217071, 0, 0, 0)\n",
      "NaN found at voxel (22850, 0, 0, 0)\n",
      "NaN found at voxel (125675, 0, 0, 0)\n",
      "NaN found at voxel (159950, 0, 0, 0)\n",
      "NaN found at voxel (194223, 0, 0, 0)\n",
      "NaN found at voxel (79975, 0, 0, 0)\n",
      "NaN found at voxel (171375, 0, 0, 0)\n",
      "NaN found at voxel (91400, 0, 0, 0)\n",
      "NaN found at voxel (11431, 0, 0, 0)\n",
      "NaN found at voxel (11431, 0, 0, 0)\n",
      "\n"
     ]
    },
    {
     "name": "stderr",
     "output_type": "stream",
     "text": [
      "error: WARNING: 207141 NaNs found in volume /Volumes/server/Projects/sfp_nsd/derivatives/sfp_maps/mgzs/nsdsyn/lh.sub-subj04_value-mode_masked.mgz...\n",
      "\n",
      "error: WARNING: 204213 NaNs found in volume /Volumes/server/Projects/sfp_nsd/derivatives/sfp_maps/mgzs/nsdsyn/rh.sub-subj04_value-mode_masked.mgz...\n",
      "\n"
     ]
    },
    {
     "name": "stdout",
     "output_type": "stream",
     "text": [
      "NaN found at voxel (19763, 0, 0, 0)\n",
      "NaN found at voxel (49400, 0, 0, 0)\n",
      "NaN found at voxel (148199, 0, 0, 0)\n",
      "NaN found at voxel (158078, 0, 0, 0)\n",
      "NaN found at voxel (167957, 0, 0, 0)\n",
      "NaN found at voxel (79040, 0, 0, 0)\n",
      "NaN found at voxel (108680, 0, 0, 0)\n",
      "NaN found at voxel (69160, 0, 0, 0)\n",
      "NaN found at voxel (59280, 0, 0, 0)\n",
      "NaN found at voxel (16, 0, 0, 0)\n",
      "NaN found at voxel (187715, 0, 0, 0)\n",
      "NaN found at voxel (9923, 0, 0, 0)\n",
      "NaN found at voxel (29640, 0, 0, 0)\n",
      "NaN found at voxel (29640, 0, 0, 0)\n",
      "\n"
     ]
    },
    {
     "name": "stderr",
     "output_type": "stream",
     "text": [
      "error: WARNING: 179767 NaNs found in volume /Volumes/server/Projects/sfp_nsd/derivatives/sfp_maps/mgzs/nsdsyn/lh.sub-subj05_value-mode_masked.mgz...\n",
      "\n",
      "error: WARNING: 177288 NaNs found in volume /Volumes/server/Projects/sfp_nsd/derivatives/sfp_maps/mgzs/nsdsyn/rh.sub-subj05_value-mode_masked.mgz...\n",
      "\n"
     ]
    },
    {
     "name": "stdout",
     "output_type": "stream",
     "text": [
      "NaN found at voxel (2, 0, 0, 0)\n",
      "NaN found at voxel (202910, 0, 0, 0)\n",
      "NaN found at voxel (152184, 0, 0, 0)\n",
      "NaN found at voxel (152184, 0, 0, 0)\n"
     ]
    },
    {
     "name": "stderr",
     "output_type": "stream",
     "text": [
      "error: WARNING: 236706 NaNs found in volume /Volumes/server/Projects/sfp_nsd/derivatives/sfp_maps/mgzs/nsdsyn/lh.sub-subj06_value-mode_masked.mgz...\n",
      "\n",
      "error: WARNING: 236593 NaNs found in volume /Volumes/server/Projects/sfp_nsd/derivatives/sfp_maps/mgzs/nsdsyn/rh.sub-subj06_value-mode_masked.mgz...\n",
      "\n"
     ]
    },
    {
     "name": "stdout",
     "output_type": "stream",
     "text": [
      "NaN found at voxel (5, 0, 0, 0)\n",
      "NaN found at voxel (119266, 0, 0, 0)\n",
      "NaN found at voxel (119266, 0, 0, 0)\n"
     ]
    },
    {
     "name": "stderr",
     "output_type": "stream",
     "text": [
      "error: WARNING: 177633 NaNs found in volume /Volumes/server/Projects/sfp_nsd/derivatives/sfp_maps/mgzs/nsdsyn/lh.sub-subj07_value-mode_masked.mgz...\n",
      "\n",
      "error: WARNING: 179012 NaNs found in volume /Volumes/server/Projects/sfp_nsd/derivatives/sfp_maps/mgzs/nsdsyn/rh.sub-subj07_value-mode_masked.mgz...\n",
      "\n"
     ]
    },
    {
     "name": "stdout",
     "output_type": "stream",
     "text": [
      "NaN found at voxel (0, 0, 0, 0)\n",
      "NaN found at voxel (89748, 0, 0, 0)\n",
      "NaN found at voxel (134620, 0, 0, 0)\n",
      "NaN found at voxel (22438, 0, 0, 0)\n",
      "NaN found at voxel (44876, 0, 0, 0)\n",
      "NaN found at voxel (179492, 0, 0, 0)\n",
      "NaN found at voxel (179492, 0, 0, 0)\n"
     ]
    },
    {
     "name": "stderr",
     "output_type": "stream",
     "text": [
      "error: WARNING: 213855 NaNs found in volume /Volumes/server/Projects/sfp_nsd/derivatives/sfp_maps/mgzs/nsdsyn/lh.sub-subj08_value-mode_masked.mgz...\n",
      "\n",
      "error: WARNING: 212577 NaNs found in volume /Volumes/server/Projects/sfp_nsd/derivatives/sfp_maps/mgzs/nsdsyn/rh.sub-subj08_value-mode_masked.mgz...\n",
      "\n"
     ]
    }
   ],
   "source": [
    "for sn in sn_list[2:]:\n",
    "    overlay_file=f'sub-{sn}_value-mode_masked.mgz'\n",
    "    label_dir=os.path.join(fs_subj_dir, sn, 'label')\n",
    "    save_path = os.path.join(fig_dir, 'ss', f'ss_view-ventral_sub-{sn}_value-mode_masked.mgz')\n",
    "    lh_labels, lh_colors = pyview.get_subj_wise_labels('lh', labels, label_colors, label_dir)\n",
    "    lh_obj = pyview.PyFreeview(fs_subj_dir,\n",
    "                               sn, 'lh', surf=surf, labels=lh_labels, label_dir=label_dir,\n",
    "                               overlay=overlay_file, overlay_dir=overlay_dir)\n",
    "\n",
    "    rh_labels, rh_colors = pyview.get_subj_wise_labels('rh', labels, label_colors, label_dir)\n",
    "    rh_obj = pyview.PyFreeview(fs_subj_dir,\n",
    "                               sn, 'rh', surf=surf, labels=rh_labels, label_dir=label_dir,\n",
    "                               overlay=overlay_file, overlay_dir=overlay_dir,\n",
    "                               view='inferior', cam_list=[1.25,0,-35,0], save_path=save_path)\n",
    "    fnl_cm = lh_obj.to_command(\n",
    "        **{'label_colors': lh_colors,'label_opacity': 1, 'label_outline':  True, 'overlay_custom': overlay_custom_log}) + ':offset=-60,0,0' + rh_obj.to_command(\n",
    "        **{'label_colors': rh_colors,'label_opacity': 1, 'label_outline':  True, 'overlay_custom': overlay_custom_log}).split('freeview')[-1] + ' -viewsize 1024 1024'\n",
    "    fnl_cm += ' -colorscale'\n",
    "    os.system(fnl_cm)"
   ],
   "metadata": {
    "collapsed": false,
    "pycharm": {
     "name": "#%%\n"
    }
   }
  },
  {
   "cell_type": "code",
   "execution_count": 29,
   "outputs": [
    {
     "name": "stdout",
     "output_type": "stream",
     "text": [
      "NaN found at voxel (181617, 0, 0, 0)\n",
      "NaN found at voxel (215670, 0, 0, 0)\n",
      "NaN found at voxel (90810, 0, 0, 0)\n",
      "NaN found at voxel (34055, 0, 0, 0)\n",
      "NaN found at voxel (45406, 0, 0, 0)\n",
      "NaN found at voxel (68, 0, 0, 0)\n",
      "NaN found at voxel (22703, 0, 0, 0)\n",
      "NaN found at voxel (136213, 0, 0, 0)\n",
      "NaN found at voxel (136213, 0, 0, 0)\n"
     ]
    },
    {
     "name": "stderr",
     "output_type": "stream",
     "text": [
      "error: WARNING: 195641 NaNs found in volume /Volumes/server/Projects/sfp_nsd/derivatives/sfp_maps/mgzs/nsdsyn/lh.sub-subj01_value-mode_masked.mgz...\n",
      "\n",
      "error: WARNING: 194545 NaNs found in volume /Volumes/server/Projects/sfp_nsd/derivatives/sfp_maps/mgzs/nsdsyn/rh.sub-subj01_value-mode_masked.mgz...\n",
      "\n"
     ]
    },
    {
     "name": "stdout",
     "output_type": "stream",
     "text": [
      "NaN found at voxel (1, 0, 0, 0)\n",
      "NaN found at voxel (143784, 0, 0, 0)\n",
      "NaN found at voxel (191709, 0, 0, 0)\n",
      "NaN found at voxel (191709, 0, 0, 0)\n"
     ]
    },
    {
     "name": "stderr",
     "output_type": "stream",
     "text": [
      "error: WARNING: 207699 NaNs found in volume /Volumes/server/Projects/sfp_nsd/derivatives/sfp_maps/mgzs/nsdsyn/lh.sub-subj02_value-mode_masked.mgz...\n",
      "\n",
      "error: WARNING: 202129 NaNs found in volume /Volumes/server/Projects/sfp_nsd/derivatives/sfp_maps/mgzs/nsdsyn/rh.sub-subj02_value-mode_masked.mgz...\n",
      "\n"
     ]
    },
    {
     "name": "stdout",
     "output_type": "stream",
     "text": [
      "NaN found at voxel (43, 0, 0, 0)\n",
      "NaN found at voxel (192666, 0, 0, 0)\n",
      "NaN found at voxel (96336, 0, 0, 0)\n",
      "NaN found at voxel (144502, 0, 0, 0)\n",
      "NaN found at voxel (48171, 0, 0, 0)\n",
      "NaN found at voxel (48171, 0, 0, 0)\n",
      "\n"
     ]
    },
    {
     "name": "stderr",
     "output_type": "stream",
     "text": [
      "error: WARNING: 218588 NaNs found in volume /Volumes/server/Projects/sfp_nsd/derivatives/sfp_maps/mgzs/nsdsyn/lh.sub-subj03_value-mode_masked.mgz...\n",
      "\n",
      "error: WARNING: 217427 NaNs found in volume /Volumes/server/Projects/sfp_nsd/derivatives/sfp_maps/mgzs/nsdsyn/rh.sub-subj03_value-mode_masked.mgz...\n",
      "\n"
     ]
    },
    {
     "name": "stdout",
     "output_type": "stream",
     "text": [
      "NaN found at voxel (182799, 0, 0, 0)\n",
      "NaN found at voxel (137100, 0, 0, 0)\n",
      "NaN found at voxel (80, 0, 0, 0)\n",
      "NaN found at voxel (91400, 0, 0, 0)\n",
      "NaN found at voxel (91400, 0, 0, 0)\n",
      "\n"
     ]
    },
    {
     "name": "stderr",
     "output_type": "stream",
     "text": [
      "error: WARNING: 207141 NaNs found in volume /Volumes/server/Projects/sfp_nsd/derivatives/sfp_maps/mgzs/nsdsyn/lh.sub-subj04_value-mode_masked.mgz...\n",
      "\n",
      "error: WARNING: 204213 NaNs found in volume /Volumes/server/Projects/sfp_nsd/derivatives/sfp_maps/mgzs/nsdsyn/rh.sub-subj04_value-mode_masked.mgz...\n",
      "\n"
     ]
    },
    {
     "name": "stdout",
     "output_type": "stream",
     "text": [
      "NaN found at voxel (16, 0, 0, 0)\n",
      "NaN found at voxel (158078, 0, 0, 0)\n",
      "NaN found at voxel (118560, 0, 0, 0)\n",
      "NaN found at voxel (118560, 0, 0, 0)\n"
     ]
    },
    {
     "name": "stderr",
     "output_type": "stream",
     "text": [
      "error: WARNING: 179767 NaNs found in volume /Volumes/server/Projects/sfp_nsd/derivatives/sfp_maps/mgzs/nsdsyn/lh.sub-subj05_value-mode_masked.mgz...\n",
      "\n",
      "error: WARNING: 177288 NaNs found in volume /Volumes/server/Projects/sfp_nsd/derivatives/sfp_maps/mgzs/nsdsyn/rh.sub-subj05_value-mode_masked.mgz...\n",
      "\n"
     ]
    },
    {
     "name": "stdout",
     "output_type": "stream",
     "text": [
      "NaN found at voxel (2, 0, 0, 0)\n",
      "NaN found at voxel (38046, 0, 0, 0)\n",
      "NaN found at voxel (152184, 0, 0, 0)\n",
      "NaN found at voxel (25364, 0, 0, 0)\n",
      "NaN found at voxel (50728, 0, 0, 0)\n",
      "NaN found at voxel (190229, 0, 0, 0)\n",
      "NaN found at voxel (139502, 0, 0, 0)\n",
      "NaN found at voxel (12686, 0, 0, 0)\n",
      "NaN found at voxel (240953, 0, 0, 0)\n",
      "NaN found at voxel (202910, 0, 0, 0)\n",
      "NaN found at voxel (202910, 0, 0, 0)\n"
     ]
    },
    {
     "name": "stderr",
     "output_type": "stream",
     "text": [
      "error: WARNING: 236706 NaNs found in volume /Volumes/server/Projects/sfp_nsd/derivatives/sfp_maps/mgzs/nsdsyn/lh.sub-subj06_value-mode_masked.mgz...\n",
      "\n",
      "error: WARNING: 236593 NaNs found in volume /Volumes/server/Projects/sfp_nsd/derivatives/sfp_maps/mgzs/nsdsyn/rh.sub-subj06_value-mode_masked.mgz...\n",
      "\n"
     ]
    },
    {
     "name": "stdout",
     "output_type": "stream",
     "text": [
      "NaN found at voxel (29817, 0, 0, 0)\n",
      "NaN found at voxel (168956, 0, 0, 0)\n",
      "NaN found at voxel (59634, 0, 0, 0)\n",
      "NaN found at voxel (188832, 0, 0, 0)\n",
      "NaN found at voxel (19878, 0, 0, 0)\n",
      "NaN found at voxel (9939, 0, 0, 0)\n",
      "NaN found at voxel (149080, 0, 0, 0)\n",
      "NaN found at voxel (119266, 0, 0, 0)\n",
      "NaN found at voxel (109328, 0, 0, 0)\n",
      "NaN found at voxel (178894, 0, 0, 0)\n",
      "NaN found at voxel (79512, 0, 0, 0)\n",
      "NaN found at voxel (69573, 0, 0, 0)\n",
      "NaN found at voxel (39756, 0, 0, 0)\n",
      "NaN found at voxel (89451, 0, 0, 0)\n",
      "NaN found at voxel (139142, 0, 0, 0)\n",
      "NaN found at voxel (159018, 0, 0, 0)\n",
      "NaN found at voxel (5, 0, 0, 0)\n",
      "NaN found at voxel (5, 0, 0, 0)\n",
      ", 0)\n"
     ]
    },
    {
     "name": "stderr",
     "output_type": "stream",
     "text": [
      "error: WARNING: 177633 NaNs found in volume /Volumes/server/Projects/sfp_nsd/derivatives/sfp_maps/mgzs/nsdsyn/lh.sub-subj07_value-mode_masked.mgz...\n",
      "\n",
      "error: WARNING: 179012 NaNs found in volume /Volumes/server/Projects/sfp_nsd/derivatives/sfp_maps/mgzs/nsdsyn/rh.sub-subj07_value-mode_masked.mgz...\n",
      "\n"
     ]
    },
    {
     "name": "stdout",
     "output_type": "stream",
     "text": [
      "NaN found at voxel (179492, 0, 0, 0)\n",
      "NaN found at voxel (213146, 0, 0, 0)\n",
      "NaN found at voxel (201928, 0, 0, 0)\n",
      "NaN found at voxel (0, 0, 0, 0)\n",
      "NaN found at voxel (134620, 0, 0, 0)\n",
      "NaN found at voxel (22438, 0, 0, 0)\n",
      "NaN found at voxel (11219, 0, 0, 0)\n",
      "NaN found at voxel (123402, 0, 0, 0)\n",
      "NaN found at voxel (89748, 0, 0, 0)\n",
      "NaN found at voxel (33657, 0, 0, 0)\n",
      "NaN found at voxel (157056, 0, 0, 0)\n",
      "NaN found at voxel (157056, 0, 0, 0)\n"
     ]
    },
    {
     "name": "stderr",
     "output_type": "stream",
     "text": [
      "error: WARNING: 213855 NaNs found in volume /Volumes/server/Projects/sfp_nsd/derivatives/sfp_maps/mgzs/nsdsyn/lh.sub-subj08_value-mode_masked.mgz...\n",
      "\n",
      "error: WARNING: 212577 NaNs found in volume /Volumes/server/Projects/sfp_nsd/derivatives/sfp_maps/mgzs/nsdsyn/rh.sub-subj08_value-mode_masked.mgz...\n",
      "\n"
     ]
    }
   ],
   "source": [
    "for sn in sn_list:\n",
    "    overlay_file=f'sub-{sn}_value-mode_masked.mgz'\n",
    "    label_dir=os.path.join(fs_subj_dir, sn, 'label')\n",
    "    save_path = os.path.join(fig_dir, 'ss', f'ss_view-posterior_sub-{sn}_value-mode_masked.mgz')\n",
    "    lh_labels, lh_colors = pyview.get_subj_wise_labels('lh', labels, label_colors, label_dir)\n",
    "    lh_obj = pyview.PyFreeview(fs_subj_dir,\n",
    "                               sn, 'lh', surf=surf, labels=lh_labels, label_dir=label_dir,\n",
    "                               overlay=overlay_file, overlay_dir=overlay_dir)\n",
    "\n",
    "    rh_labels, rh_colors = pyview.get_subj_wise_labels('rh', labels, label_colors, label_dir)\n",
    "    rh_obj = pyview.PyFreeview(fs_subj_dir,\n",
    "                               sn, 'rh', surf=surf, labels=rh_labels, label_dir=label_dir,\n",
    "                               overlay=overlay_file, overlay_dir=overlay_dir,\n",
    "                               view='posterior', cam_list=[1.25,0,-25,0], save_path=save_path)\n",
    "    fnl_cm = lh_obj.to_command(\n",
    "        **{'label_colors': lh_colors,'label_opacity': 1, 'label_outline':  True, 'overlay_custom': overlay_custom_log}) + ':offset=-60,0,0' + rh_obj.to_command(\n",
    "        **{'label_colors': rh_colors,'label_opacity': 1, 'label_outline':  True, 'overlay_custom': overlay_custom_log}).split('freeview')[-1] + ' -viewsize 1024 1024'\n",
    "    fnl_cm += ' -colorscale'\n",
    "    os.system(fnl_cm)"
   ],
   "metadata": {
    "collapsed": false,
    "pycharm": {
     "name": "#%%\n"
    }
   }
  },
  {
   "cell_type": "markdown",
   "source": [
    "# Save colorbar in log scale separately"
   ],
   "metadata": {
    "collapsed": false,
    "pycharm": {
     "name": "#%% md\n"
    }
   }
  },
  {
   "cell_type": "code",
   "execution_count": 20,
   "outputs": [
    {
     "data": {
      "text/plain": "<Figure size 432x288 with 1 Axes>",
      "image/png": "[encoded data removed]"
     },
     "metadata": {
      "needs_background": "light"
     },
     "output_type": "display_data"
    },
    {
     "data": {
      "text/plain": "<Figure size 72x360 with 1 Axes>",
      "image/png": "[encoded data removed]"
     },
     "metadata": {
      "needs_background": "light"
     },
     "output_type": "display_data"
    }
   ],
   "source": [
    "# Sample data\n",
    "data = np.random.uniform(0.001, 100, size=(10, 10))\n",
    "\n",
    "# Create a log scale color map\n",
    "cmap = plt.cm.autumn\n",
    "norm = mpl.colors.LogNorm(vmin=1, vmax=128)\n",
    "\n",
    "# Plot the data with log scale color map\n",
    "im = plt.imshow(data, cmap=cmap, norm=norm)\n",
    "\n",
    "# Create a separate figure for the colorbar\n",
    "fig_cb = plt.figure(figsize=(1, 5))  # Adjust the figure size as needed\n",
    "cb_ax = fig_cb.add_axes([0, 0, 1, 1])  # Full height, full width\n",
    "\n",
    "# Add the colorbar to the separate figure\n",
    "cb = plt.colorbar(im, cax=cb_ax)\n",
    "cb.ax.tick_params(axis='y', labelsize=15)\n",
    "# Save the colorbar as an image\n",
    "fig_cb.savefig(os.path.join(fig_dir, 'log_colorbar_image.png'), bbox_inches='tight')"
   ],
   "metadata": {
    "collapsed": false,
    "pycharm": {
     "name": "#%%\n"
    }
   }
  },
  {
   "cell_type": "code",
   "execution_count": null,
   "outputs": [],
   "source": [],
   "metadata": {
    "collapsed": false,
    "pycharm": {
     "name": "#%%\n"
    }
   }
  },
  {
   "cell_type": "code",
   "execution_count": 49,
   "outputs": [],
   "source": [
    "thres=(0.1, 13)\n",
    "overlay_custom=None\n",
    "for sn in subj_list[1:2]:\n",
    "    lh_labels = []\n",
    "    lh_colors = []\n",
    "    rh_labels = []\n",
    "    rh_colors = []\n",
    "    overlay=f'sub-{sn}_method-curvefit_value-mode.mgz'\n",
    "    label_dir=f'/Volumes/server/Projects/sfp_nsd/natural-scenes-dataset/nsddata/freesurfer/{sn}/label'\n",
    "    output_path = os.path.join(fig_dir, f'ss_ang-ventral_sub-{sn}_method-curvefit_value-mode.png')\n",
    "    for l, c in zip(labels, label_colors):\n",
    "            if os.path.exists(os.path.join(label_dir, f'lh.{l}')):\n",
    "                lh_labels.append(l)\n",
    "                lh_colors.append(c)\n",
    "            if os.path.exists(os.path.join(label_dir, f'rh.{l}')):\n",
    "                rh_labels.append(l)\n",
    "                rh_colors.append(c)\n",
    "    lh_obj = pyview.PyFreeview(fs_subj_dir,\n",
    "                               sn, 'lh', surf=surf,\n",
    "                               overlay=overlay, overlay_dir=overlay_dir,\n",
    "                               labels=lh_labels, label_dir=label_dir)\n",
    "    rh_obj = pyview.PyFreeview(fs_subj_dir,\n",
    "                               sn, 'rh', surf=surf,\n",
    "                               overlay=overlay, overlay_dir=overlay_dir,\n",
    "                               labels=rh_labels, label_dir=label_dir,\n",
    "                               view='inferior', cam_list=[1.25,0,-30,0], save_path=output_path)\n",
    "    fnl_cm = lh_obj.to_command(**{'label_colors': lh_colors,'label_opacity': 1, 'label_outline':  True, 'overlay_threshold':thres, 'overlay_color': 'colorwheel', 'overlay_custom': overlay_custom}) +  rh_obj.to_command(**{'label_colors': rh_colors,'label_opacity': 1, 'label_outline': True, 'overlay_color': 'colorwheel', 'overlay_custom': overlay_custom, 'overlay_threshold':thres}).split('freeview')[-1]\n",
    "    fnl_cm = fnl_cm + ' -viewsize 1024 1024'\n",
    "    os.system(fnl_cm)\n"
   ],
   "metadata": {
    "collapsed": false,
    "pycharm": {
     "name": "#%%\n"
    }
   }
  },
  {
   "cell_type": "code",
   "execution_count": 51,
   "outputs": [],
   "source": [
    "thres=(0.5, 10)\n",
    "overlay_custom=None\n",
    "for sn in subj_list:\n",
    "    lh_labels = []\n",
    "    lh_colors = []\n",
    "    rh_labels = []\n",
    "    rh_colors = []\n",
    "    overlay=f'sub-{sn}_method-curvefit_value-sigma.mgz'\n",
    "    label_dir=f'/Volumes/server/Projects/sfp_nsd/natural-scenes-dataset/nsddata/freesurfer/{sn}/label'\n",
    "    output_path = os.path.join(fig_dir, f'ss_ang-ventral_sub-{sn}_method-curvefit_value-sigma.png')\n",
    "    for l, c in zip(labels, label_colors):\n",
    "            if os.path.exists(os.path.join(label_dir, f'lh.{l}')):\n",
    "                lh_labels.append(l)\n",
    "                lh_colors.append(c)\n",
    "            if os.path.exists(os.path.join(label_dir, f'rh.{l}')):\n",
    "                rh_labels.append(l)\n",
    "                rh_colors.append(c)\n",
    "    lh_obj = pyview.PyFreeview(fs_subj_dir,\n",
    "                               sn, 'lh', surf=surf,\n",
    "                               overlay=overlay, overlay_dir=overlay_dir,\n",
    "                               labels=lh_labels, label_dir=label_dir)\n",
    "    rh_obj = pyview.PyFreeview(fs_subj_dir,\n",
    "                               sn, 'rh', surf=surf,\n",
    "                               overlay=overlay, overlay_dir=overlay_dir,\n",
    "                               labels=rh_labels, label_dir=label_dir,\n",
    "                               view='inferior', cam_list=[1.25,0,-30,0], save_path=output_path)\n",
    "    fnl_cm = lh_obj.to_command(**{'label_colors': lh_colors,'label_opacity': 1, 'label_outline':  True, 'overlay_threshold':thres, 'overlay_color': 'colorwheel', 'overlay_custom': overlay_custom}) +  rh_obj.to_command(**{'label_colors': rh_colors,'label_opacity': 1, 'label_outline': True, 'overlay_color': 'colorwheel', 'overlay_custom': overlay_custom, 'overlay_threshold':thres}).split('freeview')[-1]\n",
    "    fnl_cm = fnl_cm + ' -viewsize 1024 1024'\n",
    "    os.system(fnl_cm)\n"
   ],
   "metadata": {
    "collapsed": false,
    "pycharm": {
     "name": "#%%\n"
    }
   }
  },
  {
   "cell_type": "code",
   "execution_count": 52,
   "outputs": [],
   "source": [
    "thres=(1, 10)\n",
    "overlay_custom=None\n",
    "for sn in subj_list:\n",
    "    lh_labels = []\n",
    "    lh_colors = []\n",
    "    rh_labels = []\n",
    "    rh_colors = []\n",
    "    overlay=f'sub-{sn}_method-curvefit_value-amp.mgz'\n",
    "    label_dir=f'/Volumes/server/Projects/sfp_nsd/natural-scenes-dataset/nsddata/freesurfer/{sn}/label'\n",
    "    output_path = os.path.join(fig_dir, f'ss_ang-ventral_sub-{sn}_method-curvefit_value-amp.png')\n",
    "    for l, c in zip(labels, label_colors):\n",
    "            if os.path.exists(os.path.join(label_dir, f'lh.{l}')):\n",
    "                lh_labels.append(l)\n",
    "                lh_colors.append(c)\n",
    "            if os.path.exists(os.path.join(label_dir, f'rh.{l}')):\n",
    "                rh_labels.append(l)\n",
    "                rh_colors.append(c)\n",
    "    lh_obj = pyview.PyFreeview(fs_subj_dir,\n",
    "                               sn, 'lh', surf=surf,\n",
    "                               overlay=overlay, overlay_dir=overlay_dir,\n",
    "                               labels=lh_labels, label_dir=label_dir)\n",
    "    rh_obj = pyview.PyFreeview(fs_subj_dir,\n",
    "                               sn, 'rh', surf=surf,\n",
    "                               overlay=overlay, overlay_dir=overlay_dir,\n",
    "                               labels=rh_labels, label_dir=label_dir,\n",
    "                               view='inferior', cam_list=[1.25,0,-30,0], save_path=output_path)\n",
    "    fnl_cm = lh_obj.to_command(**{'label_colors': lh_colors,'label_opacity': 1, 'label_outline':  True, 'overlay_threshold':thres, 'overlay_color': 'colorwheel', 'overlay_custom': overlay_custom}) +  rh_obj.to_command(**{'label_colors': rh_colors,'label_opacity': 1, 'label_outline': True, 'overlay_color': 'colorwheel', 'overlay_custom': overlay_custom, 'overlay_threshold':thres}).split('freeview')[-1]\n",
    "    fnl_cm = fnl_cm + ' -viewsize 1024 1024'\n",
    "    os.system(fnl_cm)\n"
   ],
   "metadata": {
    "collapsed": false,
    "pycharm": {
     "name": "#%%\n"
    }
   }
  },
  {
   "cell_type": "code",
   "execution_count": 24,
   "outputs": [],
   "source": [
    "thres=(2,4)\n",
    "overlay_custom=None\n",
    "for sn in subj_list[:1]:\n",
    "    lh_labels = []\n",
    "    lh_colors = []\n",
    "    rh_labels = []\n",
    "    rh_colors = []\n",
    "    overlay=f'sub-{sn}_stat-anova_value-F.mgz'\n",
    "    label_dir=f'/Volumes/server/Projects/sfp_nsd/natural-scenes-dataset/nsddata/freesurfer/{sn}/label'\n",
    "    output_path = os.path.join(fig_dir, f'ss_ang-ventral_sub-{sn}_stat-anova_value-F.png')\n",
    "    for l, c in zip(labels, label_colors):\n",
    "            if os.path.exists(os.path.join(label_dir, f'lh.{l}')):\n",
    "                lh_labels.append(l)\n",
    "                lh_colors.append(c)\n",
    "            if os.path.exists(os.path.join(label_dir, f'rh.{l}')):\n",
    "                rh_labels.append(l)\n",
    "                rh_colors.append(c)\n",
    "    lh_obj = pyview.PyFreeview(fs_subj_dir,\n",
    "                               sn, 'lh', surf=surf,\n",
    "                               overlay=overlay, overlay_dir=overlay_dir,\n",
    "                               labels=lh_labels, label_dir=label_dir)\n",
    "    rh_obj = pyview.PyFreeview(fs_subj_dir,\n",
    "                               sn, 'rh', surf=surf,\n",
    "                               overlay=overlay, overlay_dir=overlay_dir,\n",
    "                               labels=rh_labels, label_dir=label_dir,\n",
    "                               view='inferior', cam_list=[1.25,0,-30,0], save_path=output_path)\n",
    "    fnl_cm = lh_obj.to_command(**{'label_colors': lh_colors,'label_opacity': 1, 'label_outline':  True, 'overlay_threshold':thres, 'overlay_custom': overlay_custom}) +  rh_obj.to_command(**{'label_colors': rh_colors,'label_opacity': 1, 'label_outline': True, 'overlay_custom': overlay_custom, 'overlay_threshold':thres}).split('freeview')[-1]\n",
    "    fnl_cm = fnl_cm + ' -viewsize 1024 1024'\n",
    "    os.system(fnl_cm)\n"
   ],
   "metadata": {
    "collapsed": false,
    "pycharm": {
     "name": "#%%\n"
    }
   }
  },
  {
   "cell_type": "code",
   "execution_count": 25,
   "outputs": [],
   "source": [
    "\n",
    "thres=(2,4)\n",
    "overlay_custom=None\n",
    "for sn in subj_list:\n",
    "    lh_labels = []\n",
    "    lh_colors = []\n",
    "    rh_labels = []\n",
    "    rh_colors = []\n",
    "    overlay=f'sub-{sn}_stat-anova_value-F.mgz'\n",
    "    label_dir=f'/Volumes/server/Projects/sfp_nsd/natural-scenes-dataset/nsddata/freesurfer/{sn}/label'\n",
    "    output_path = os.path.join(fig_dir, f'ss_ang-occipital_sub-{sn}_stat-anova_value-F.png')\n",
    "    for l, c in zip(labels, label_colors):\n",
    "            if os.path.exists(os.path.join(label_dir, f'lh.{l}')):\n",
    "                lh_labels.append(l)\n",
    "                lh_colors.append(c)\n",
    "            if os.path.exists(os.path.join(label_dir, f'rh.{l}')):\n",
    "                rh_labels.append(l)\n",
    "                rh_colors.append(c)\n",
    "    lh_obj = pyview.PyFreeview(fs_subj_dir,\n",
    "                               sn, 'lh', surf=surf,\n",
    "                               overlay=overlay, overlay_dir=overlay_dir,\n",
    "                               labels=lh_labels, label_dir=label_dir)\n",
    "    rh_obj = pyview.PyFreeview(fs_subj_dir,\n",
    "                               sn, 'rh', surf=surf,\n",
    "                               overlay=overlay, overlay_dir=overlay_dir,\n",
    "                               labels=rh_labels, label_dir=label_dir,\n",
    "                               view='inferior', cam_list=None, save_path=output_path)\n",
    "    fnl_cm = lh_obj.to_command(**{'label_colors': lh_colors,'label_opacity': 1, 'label_outline':  True, 'overlay_threshold':thres, 'overlay_custom': overlay_custom}) +  rh_obj.to_command(**{'label_colors': rh_colors,'label_opacity': 1, 'label_outline': True, 'overlay_custom': overlay_custom, 'overlay_threshold':thres}).split('freeview')[-1]\n",
    "    fnl_cm = fnl_cm + ' -viewsize 1024 1024' + ' -view posterior -cam Elevation -25 Zoom 1.25'\n",
    "    os.system(fnl_cm)\n"
   ],
   "metadata": {
    "collapsed": false,
    "pycharm": {
     "name": "#%%\n"
    }
   }
  }
 ],
 "metadata": {
  "kernelspec": {
   "display_name": "Python 3",
   "language": "python",
   "name": "python3"
  },
  "language_info": {
   "codemirror_mode": {
    "name": "ipython",
    "version": 2
   },
   "file_extension": ".py",
   "mimetype": "text/x-python",
   "name": "python",
   "nbconvert_exporter": "python",
   "pygments_lexer": "ipython2",
   "version": "2.7.6"
  }
 },
 "nbformat": 4,
 "nbformat_minor": 0
}