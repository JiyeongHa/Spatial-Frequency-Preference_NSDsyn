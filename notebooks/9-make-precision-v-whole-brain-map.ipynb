{
 "cells": [
  {
   "cell_type": "code",
   "execution_count": 3,
   "metadata": {
    "collapsed": true
   },
   "outputs": [
    {
     "name": "stdout",
     "output_type": "stream",
     "text": [
      "The autoreload extension is already loaded. To reload it, use:\n",
      "  %reload_ext autoreload\n"
     ]
    }
   ],
   "source": [
    "import sys\n",
    "sys.path.append('..')\n",
    "sys.path.append('/Users/jh7685/Documents/Projects/pysurfer')\n",
    "import numpy as np\n",
    "from pysurfer.mgz_helper import map_values_as_mgz\n",
    "import os\n",
    "from sfp_nsdsyn import *\n",
    "import warnings\n",
    "from itertools import product\n",
    "warnings.filterwarnings(\"ignore\", category=UserWarning)\n",
    "\n",
    "%load_ext autoreload\n",
    "%autoreload 2"
   ]
  },
  {
   "cell_type": "code",
   "execution_count": 4,
   "metadata": {
    "pycharm": {
     "name": "#%%\n"
    }
   },
   "outputs": [],
   "source": [
    "nsd_dir ='/Volumes/server/Projects/sfp_nsd/natural-scenes-dataset'\n",
    "output_dir='/Volmes/server/Projects/sfp_nsd/derivatives'\n",
    "#freesurfer_dir='/Volumes/server/Projects/sfp_nsd/natural-scenes-dataset/nsddata/freesurfer'"
   ]
  },
  {
   "cell_type": "code",
   "execution_count": 5,
   "metadata": {
    "pycharm": {
     "name": "#%%\n"
    }
   },
   "outputs": [],
   "source": [
    "subj='subj01'\n",
    "hemi='lh'\n",
    "stim_list = ['annulus', 'pinwheel', 'forward spiral', 'reverse spiral']\n",
    "betas = os.path.join(nsd_dir, 'nsddata_betas', 'ppdata', f'{subj}', 'nativesurface', 'nsdsyntheticbetas_fithrf_GLMdenoise_RR', f'{hemi}.betas_nsdsynthetic.hdf5')\n",
    "design_mat=os.path.join(nsd_dir, 'nsddata', 'experiments', 'nsdsynthetic', 'nsdsynthetic_expdesign.mat')\n",
    "task_keys=['fixation_task','memory_task']\n",
    "stim_info=os.path.join(nsd_dir, 'nsdsyn_stim_description.csv')\n",
    "task_average=True\n",
    "eccentricity_path= os.path.join(nsd_dir, 'nsddata', 'freesurfer', f'{subj}', 'label',  f'{hemi}.prfeccentricity.mgz')"
   ]
  },
  {
   "cell_type": "markdown",
   "metadata": {
    "pycharm": {
     "name": "#%% md\n"
    }
   },
   "source": [
    "# Load whole brain betas"
   ]
  },
  {
   "cell_type": "code",
   "execution_count": 6,
   "metadata": {
    "pycharm": {
     "name": "#%%\n"
    }
   },
   "outputs": [],
   "source": [
    "betas_df = sfm.get_whole_brain_betas(betas_path=betas, design_mat_path=design_mat,\n",
    "                          stim_info_path=stim_info,\n",
    "                          task_keys=task_keys, task_average=False, eccentricity_path=eccentricity_path,\n",
    "                          x_axis='voxel', y_axis='stim_idx', long_format=True)\n",
    "betas_df = betas_df.query('names in @stim_list')"
   ]
  },
  {
   "cell_type": "markdown",
   "metadata": {
    "pycharm": {
     "name": "#%% md\n"
    }
   },
   "source": [
    "# Normalize betas by the frequency magnitude (?)"
   ]
  },
  {
   "cell_type": "code",
   "execution_count": 7,
   "metadata": {
    "pycharm": {
     "name": "#%%\n"
    }
   },
   "outputs": [],
   "source": [
    "betas_df['normed_betas'] = bts.normalize_betas_by_frequency_magnitude(betas_df, betas='betas', freq_lvl='freq_lvl')"
   ]
  },
  {
   "cell_type": "markdown",
   "source": [
    "## NaN values???"
   ],
   "metadata": {
    "collapsed": false,
    "pycharm": {
     "name": "#%% md\n"
    }
   }
  },
  {
   "cell_type": "code",
   "execution_count": 107,
   "outputs": [
    {
     "data": {
      "text/plain": "0      0.363028\n1      2.243133\n2      0.791020\n3      2.831621\n4      0.401242\n         ...   \n379   -2.525187\n380    0.310012\n381    1.189318\n382    0.000000\n383    1.048404\nLength: 384, dtype: float64"
     },
     "execution_count": 107,
     "metadata": {},
     "output_type": "execute_result"
    }
   ],
   "source": [
    "tmp_df = betas_df.query('194587 < voxel < 194590')\n",
    "\n",
    "bts.normalize_betas_by_frequency_magnitude(tmp_df, betas='betas', freq_lvl='freq_lvl')"
   ],
   "metadata": {
    "collapsed": false,
    "pycharm": {
     "name": "#%%\n"
    }
   }
  },
  {
   "cell_type": "code",
   "execution_count": 135,
   "outputs": [
    {
     "data": {
      "text/plain": "         stim_idx  image_idx           names   w_r   w_a     phase  class_idx  \\\n43587936        0        104        pinwheel   0.0   6.0  0.000000          0   \n43587937        0        104        pinwheel   0.0   6.0  0.000000          0   \n43587938        1        105        pinwheel   0.0   6.0  1.570796          0   \n43587939        1        105        pinwheel   0.0   6.0  1.570796          0   \n43587940        2        106        pinwheel   0.0   6.0  3.141593          0   \n...           ...        ...             ...   ...   ...       ...        ...   \n43588123       93        197  reverse spiral  91.0 -91.0  1.570796         23   \n43588124       94        198  reverse spiral  91.0 -91.0  3.141593         23   \n43588125       94        198  reverse spiral  91.0 -91.0  3.141593         23   \n43588126       95        199  reverse spiral  91.0 -91.0  4.712389         23   \n43588127       95        199  reverse spiral  91.0 -91.0  4.712389         23   \n\n          freq_lvl   voxel      task     betas  eccentricity    local_sf  \\\n43587936         0  194589  fixation  0.353333      2.336213    6.000000   \n43587937         0  194589    memory  2.076667      2.336213    6.000000   \n43587938         0  194589  fixation  1.293333      2.336213    6.000000   \n43587939         0  194589    memory  3.410000      2.336213    6.000000   \n43587940         0  194589  fixation  0.130000      2.336213    6.000000   \n...            ...     ...       ...       ...           ...         ...   \n43588123         5  194589    memory -1.493333      2.336213  128.693434   \n43588124         5  194589  fixation  0.183333      2.336213  128.693434   \n43588125         5  194589    memory  0.703333      2.336213  128.693434   \n43588126         5  194589  fixation  0.000000      2.336213  128.693434   \n43588127         5  194589    memory  0.620000      2.336213  128.693434   \n\n          normed_betas  \n43587936     -0.071187  \n43587937      0.468191  \n43587938     -0.102673  \n43587939      0.898051  \n43587940     -0.267636  \n...                ...  \n43588123           NaN  \n43588124           NaN  \n43588125           NaN  \n43588126           NaN  \n43588127           NaN  \n\n[192 rows x 14 columns]",
      "text/html": "<div>\n<style scoped>\n    .dataframe tbody tr th:only-of-type {\n        vertical-align: middle;\n    }\n\n    .dataframe tbody tr th {\n        vertical-align: top;\n    }\n\n    .dataframe thead th {\n        text-align: right;\n    }\n</style>\n<table border=\"1\" class=\"dataframe\">\n  <thead>\n    <tr style=\"text-align: right;\">\n      <th></th>\n      <th>stim_idx</th>\n      <th>image_idx</th>\n      <th>names</th>\n      <th>w_r</th>\n      <th>w_a</th>\n      <th>phase</th>\n      <th>class_idx</th>\n      <th>freq_lvl</th>\n      <th>voxel</th>\n      <th>task</th>\n      <th>betas</th>\n      <th>eccentricity</th>\n      <th>local_sf</th>\n      <th>normed_betas</th>\n    </tr>\n  </thead>\n  <tbody>\n    <tr>\n      <th>43587936</th>\n      <td>0</td>\n      <td>104</td>\n      <td>pinwheel</td>\n      <td>0.0</td>\n      <td>6.0</td>\n      <td>0.000000</td>\n      <td>0</td>\n      <td>0</td>\n      <td>194589</td>\n      <td>fixation</td>\n      <td>0.353333</td>\n      <td>2.336213</td>\n      <td>6.000000</td>\n      <td>-0.071187</td>\n    </tr>\n    <tr>\n      <th>43587937</th>\n      <td>0</td>\n      <td>104</td>\n      <td>pinwheel</td>\n      <td>0.0</td>\n      <td>6.0</td>\n      <td>0.000000</td>\n      <td>0</td>\n      <td>0</td>\n      <td>194589</td>\n      <td>memory</td>\n      <td>2.076667</td>\n      <td>2.336213</td>\n      <td>6.000000</td>\n      <td>0.468191</td>\n    </tr>\n    <tr>\n      <th>43587938</th>\n      <td>1</td>\n      <td>105</td>\n      <td>pinwheel</td>\n      <td>0.0</td>\n      <td>6.0</td>\n      <td>1.570796</td>\n      <td>0</td>\n      <td>0</td>\n      <td>194589</td>\n      <td>fixation</td>\n      <td>1.293333</td>\n      <td>2.336213</td>\n      <td>6.000000</td>\n      <td>-0.102673</td>\n    </tr>\n    <tr>\n      <th>43587939</th>\n      <td>1</td>\n      <td>105</td>\n      <td>pinwheel</td>\n      <td>0.0</td>\n      <td>6.0</td>\n      <td>1.570796</td>\n      <td>0</td>\n      <td>0</td>\n      <td>194589</td>\n      <td>memory</td>\n      <td>3.410000</td>\n      <td>2.336213</td>\n      <td>6.000000</td>\n      <td>0.898051</td>\n    </tr>\n    <tr>\n      <th>43587940</th>\n      <td>2</td>\n      <td>106</td>\n      <td>pinwheel</td>\n      <td>0.0</td>\n      <td>6.0</td>\n      <td>3.141593</td>\n      <td>0</td>\n      <td>0</td>\n      <td>194589</td>\n      <td>fixation</td>\n      <td>0.130000</td>\n      <td>2.336213</td>\n      <td>6.000000</td>\n      <td>-0.267636</td>\n    </tr>\n    <tr>\n      <th>...</th>\n      <td>...</td>\n      <td>...</td>\n      <td>...</td>\n      <td>...</td>\n      <td>...</td>\n      <td>...</td>\n      <td>...</td>\n      <td>...</td>\n      <td>...</td>\n      <td>...</td>\n      <td>...</td>\n      <td>...</td>\n      <td>...</td>\n      <td>...</td>\n    </tr>\n    <tr>\n      <th>43588123</th>\n      <td>93</td>\n      <td>197</td>\n      <td>reverse spiral</td>\n      <td>91.0</td>\n      <td>-91.0</td>\n      <td>1.570796</td>\n      <td>23</td>\n      <td>5</td>\n      <td>194589</td>\n      <td>memory</td>\n      <td>-1.493333</td>\n      <td>2.336213</td>\n      <td>128.693434</td>\n      <td>NaN</td>\n    </tr>\n    <tr>\n      <th>43588124</th>\n      <td>94</td>\n      <td>198</td>\n      <td>reverse spiral</td>\n      <td>91.0</td>\n      <td>-91.0</td>\n      <td>3.141593</td>\n      <td>23</td>\n      <td>5</td>\n      <td>194589</td>\n      <td>fixation</td>\n      <td>0.183333</td>\n      <td>2.336213</td>\n      <td>128.693434</td>\n      <td>NaN</td>\n    </tr>\n    <tr>\n      <th>43588125</th>\n      <td>94</td>\n      <td>198</td>\n      <td>reverse spiral</td>\n      <td>91.0</td>\n      <td>-91.0</td>\n      <td>3.141593</td>\n      <td>23</td>\n      <td>5</td>\n      <td>194589</td>\n      <td>memory</td>\n      <td>0.703333</td>\n      <td>2.336213</td>\n      <td>128.693434</td>\n      <td>NaN</td>\n    </tr>\n    <tr>\n      <th>43588126</th>\n      <td>95</td>\n      <td>199</td>\n      <td>reverse spiral</td>\n      <td>91.0</td>\n      <td>-91.0</td>\n      <td>4.712389</td>\n      <td>23</td>\n      <td>5</td>\n      <td>194589</td>\n      <td>fixation</td>\n      <td>0.000000</td>\n      <td>2.336213</td>\n      <td>128.693434</td>\n      <td>NaN</td>\n    </tr>\n    <tr>\n      <th>43588127</th>\n      <td>95</td>\n      <td>199</td>\n      <td>reverse spiral</td>\n      <td>91.0</td>\n      <td>-91.0</td>\n      <td>4.712389</td>\n      <td>23</td>\n      <td>5</td>\n      <td>194589</td>\n      <td>memory</td>\n      <td>0.620000</td>\n      <td>2.336213</td>\n      <td>128.693434</td>\n      <td>NaN</td>\n    </tr>\n  </tbody>\n</table>\n<p>192 rows × 14 columns</p>\n</div>"
     },
     "execution_count": 135,
     "metadata": {},
     "output_type": "execute_result"
    }
   ],
   "source": [
    "betas_df['normed_betas'] = bts.normalize_betas_by_frequency_magnitude(betas_df, betas='betas', freq_lvl='freq_lvl')\n",
    "betas_df.query('voxel == 194589')"
   ],
   "metadata": {
    "collapsed": false,
    "pycharm": {
     "name": "#%%\n"
    }
   }
  },
  {
   "cell_type": "code",
   "execution_count": 168,
   "outputs": [
    {
     "data": {
      "text/plain": "      voxel     betas    length  normed_betas\n0    194589  0.353333  0.591375      0.597477\n1    194589  2.076667  0.591375      3.511589\n2    194589  1.293333  0.591375      2.186993\n3    194589  3.410000  0.591375      5.766221\n4    194589  0.130000  0.591375      0.219827\n..      ...       ...       ...           ...\n187  194589 -1.493333  0.591375     -2.525187\n188  194589  0.183333  0.591375      0.310012\n189  194589  0.703333  0.591375      1.189318\n190  194589  0.000000  0.591375      0.000000\n191  194589  0.620000  0.591375      1.048404\n\n[192 rows x 4 columns]",
      "text/html": "<div>\n<style scoped>\n    .dataframe tbody tr th:only-of-type {\n        vertical-align: middle;\n    }\n\n    .dataframe tbody tr th {\n        vertical-align: top;\n    }\n\n    .dataframe thead th {\n        text-align: right;\n    }\n</style>\n<table border=\"1\" class=\"dataframe\">\n  <thead>\n    <tr style=\"text-align: right;\">\n      <th></th>\n      <th>voxel</th>\n      <th>betas</th>\n      <th>length</th>\n      <th>normed_betas</th>\n    </tr>\n  </thead>\n  <tbody>\n    <tr>\n      <th>0</th>\n      <td>194589</td>\n      <td>0.353333</td>\n      <td>0.591375</td>\n      <td>0.597477</td>\n    </tr>\n    <tr>\n      <th>1</th>\n      <td>194589</td>\n      <td>2.076667</td>\n      <td>0.591375</td>\n      <td>3.511589</td>\n    </tr>\n    <tr>\n      <th>2</th>\n      <td>194589</td>\n      <td>1.293333</td>\n      <td>0.591375</td>\n      <td>2.186993</td>\n    </tr>\n    <tr>\n      <th>3</th>\n      <td>194589</td>\n      <td>3.410000</td>\n      <td>0.591375</td>\n      <td>5.766221</td>\n    </tr>\n    <tr>\n      <th>4</th>\n      <td>194589</td>\n      <td>0.130000</td>\n      <td>0.591375</td>\n      <td>0.219827</td>\n    </tr>\n    <tr>\n      <th>...</th>\n      <td>...</td>\n      <td>...</td>\n      <td>...</td>\n      <td>...</td>\n    </tr>\n    <tr>\n      <th>187</th>\n      <td>194589</td>\n      <td>-1.493333</td>\n      <td>0.591375</td>\n      <td>-2.525187</td>\n    </tr>\n    <tr>\n      <th>188</th>\n      <td>194589</td>\n      <td>0.183333</td>\n      <td>0.591375</td>\n      <td>0.310012</td>\n    </tr>\n    <tr>\n      <th>189</th>\n      <td>194589</td>\n      <td>0.703333</td>\n      <td>0.591375</td>\n      <td>1.189318</td>\n    </tr>\n    <tr>\n      <th>190</th>\n      <td>194589</td>\n      <td>0.000000</td>\n      <td>0.591375</td>\n      <td>0.000000</td>\n    </tr>\n    <tr>\n      <th>191</th>\n      <td>194589</td>\n      <td>0.620000</td>\n      <td>0.591375</td>\n      <td>1.048404</td>\n    </tr>\n  </tbody>\n</table>\n<p>192 rows × 4 columns</p>\n</div>"
     },
     "execution_count": 168,
     "metadata": {},
     "output_type": "execute_result"
    }
   ],
   "source": [
    "new_df = betas_df.query('voxel == 194589')\n",
    "a = bts.normalize_betas_by_frequency_magnitude(new_df, betas='betas', freq_lvl='freq_lvl')\n",
    "\n",
    "new_df_2 = pd.merge(new_df[['voxel','betas']], a, on='voxel')\n",
    "new_df_2['normed_betas'] = np.divide(new_df_2['betas'], new_df_2['length'])\n",
    "new_df_2"
   ],
   "metadata": {
    "collapsed": false,
    "pycharm": {
     "name": "#%%\n"
    }
   }
  },
  {
   "cell_type": "code",
   "execution_count": 170,
   "outputs": [
    {
     "data": {
      "text/plain": "stim_idx        False\nimage_idx       False\nnames           False\nw_r             False\nw_a             False\nphase           False\nclass_idx       False\nfreq_lvl        False\nvoxel           False\ntask            False\nbetas           False\neccentricity    False\nlocal_sf        False\nnormed_betas    False\nlength          False\ndtype: bool"
     },
     "execution_count": 170,
     "metadata": {},
     "output_type": "execute_result"
    }
   ],
   "source": [
    "a = bts.normalize_betas_by_frequency_magnitude(betas_df, betas='betas', freq_lvl='freq_lvl')\n",
    "a.isna().any()"
   ],
   "metadata": {
    "collapsed": false,
    "pycharm": {
     "name": "#%%\n"
    }
   }
  },
  {
   "cell_type": "code",
   "execution_count": 161,
   "outputs": [
    {
     "data": {
      "text/plain": "stim_idx         object\nimage_idx         int64\nnames            object\nw_r             float64\nw_a             float64\nphase           float64\nclass_idx         int64\nfreq_lvl          int64\nvoxel             int64\ntask             object\nbetas           float32\neccentricity    float64\nlocal_sf        float64\nnormed_betas    float64\nlength          float64\ndtype: object"
     },
     "execution_count": 161,
     "metadata": {},
     "output_type": "execute_result"
    }
   ],
   "source": [
    "new_df.dtypes"
   ],
   "metadata": {
    "collapsed": false,
    "pycharm": {
     "name": "#%%\n"
    }
   }
  },
  {
   "cell_type": "code",
   "execution_count": 151,
   "outputs": [
    {
     "data": {
      "text/plain": "voxel       int64\nbetas     float32\nlength    float64\nnormed    float64\ndtype: object"
     },
     "execution_count": 151,
     "metadata": {},
     "output_type": "execute_result"
    }
   ],
   "source": [
    "a.dtypes"
   ],
   "metadata": {
    "collapsed": false,
    "pycharm": {
     "name": "#%%\n"
    }
   }
  },
  {
   "cell_type": "code",
   "execution_count": null,
   "outputs": [],
   "source": [],
   "metadata": {
    "collapsed": false,
    "pycharm": {
     "name": "#%%\n"
    }
   }
  },
  {
   "cell_type": "code",
   "execution_count": 109,
   "outputs": [
    {
     "data": {
      "text/plain": "           voxel     betas  normed_betas\n43588032  194589 -0.626667           NaN\n43588033  194589  1.370000           NaN\n43588034  194589  1.053333           NaN\n43588035  194589  0.240000           NaN\n43588036  194589  1.186667           NaN\n...          ...       ...           ...\n50852667  227020  2.403333           NaN\n50852668  227020 -8.046667           NaN\n50852669  227020  1.286667           NaN\n50852670  227020  0.453333           NaN\n50852671  227020  4.303333           NaN\n\n[6226848 rows x 3 columns]",
      "text/html": "<div>\n<style scoped>\n    .dataframe tbody tr th:only-of-type {\n        vertical-align: middle;\n    }\n\n    .dataframe tbody tr th {\n        vertical-align: top;\n    }\n\n    .dataframe thead th {\n        text-align: right;\n    }\n</style>\n<table border=\"1\" class=\"dataframe\">\n  <thead>\n    <tr style=\"text-align: right;\">\n      <th></th>\n      <th>voxel</th>\n      <th>betas</th>\n      <th>normed_betas</th>\n    </tr>\n  </thead>\n  <tbody>\n    <tr>\n      <th>43588032</th>\n      <td>194589</td>\n      <td>-0.626667</td>\n      <td>NaN</td>\n    </tr>\n    <tr>\n      <th>43588033</th>\n      <td>194589</td>\n      <td>1.370000</td>\n      <td>NaN</td>\n    </tr>\n    <tr>\n      <th>43588034</th>\n      <td>194589</td>\n      <td>1.053333</td>\n      <td>NaN</td>\n    </tr>\n    <tr>\n      <th>43588035</th>\n      <td>194589</td>\n      <td>0.240000</td>\n      <td>NaN</td>\n    </tr>\n    <tr>\n      <th>43588036</th>\n      <td>194589</td>\n      <td>1.186667</td>\n      <td>NaN</td>\n    </tr>\n    <tr>\n      <th>...</th>\n      <td>...</td>\n      <td>...</td>\n      <td>...</td>\n    </tr>\n    <tr>\n      <th>50852667</th>\n      <td>227020</td>\n      <td>2.403333</td>\n      <td>NaN</td>\n    </tr>\n    <tr>\n      <th>50852668</th>\n      <td>227020</td>\n      <td>-8.046667</td>\n      <td>NaN</td>\n    </tr>\n    <tr>\n      <th>50852669</th>\n      <td>227020</td>\n      <td>1.286667</td>\n      <td>NaN</td>\n    </tr>\n    <tr>\n      <th>50852670</th>\n      <td>227020</td>\n      <td>0.453333</td>\n      <td>NaN</td>\n    </tr>\n    <tr>\n      <th>50852671</th>\n      <td>227020</td>\n      <td>4.303333</td>\n      <td>NaN</td>\n    </tr>\n  </tbody>\n</table>\n<p>6226848 rows × 3 columns</p>\n</div>"
     },
     "execution_count": 109,
     "metadata": {},
     "output_type": "execute_result"
    }
   ],
   "source": [
    "new_df[new_df['normed_betas'].isna()][['voxel','betas','normed_betas']]"
   ],
   "metadata": {
    "collapsed": false,
    "pycharm": {
     "name": "#%%\n"
    }
   }
  },
  {
   "cell_type": "code",
   "execution_count": 117,
   "outputs": [],
   "source": [
    "tmp_df = betas_df.query('194587 < voxel < 194590')\n",
    "tmp = tmp_df.groupby(['voxel', 'freq_lvl'])['betas'].mean().reset_index()\n",
    "tmp = tmp.pivot('voxel', 'freq_lvl', 'betas')\n",
    "length = np.linalg.norm(tmp, axis=1, keepdims=True)\n",
    "length = np.concatenate((tmp.index.to_numpy().reshape(-1,1), length), axis=1)"
   ],
   "metadata": {
    "collapsed": false,
    "pycharm": {
     "name": "#%%\n"
    }
   }
  },
  {
   "cell_type": "code",
   "execution_count": 118,
   "outputs": [
    {
     "data": {
      "text/plain": "      voxel    length\n0  194588.0  0.872292\n1  194589.0  0.591375",
      "text/html": "<div>\n<style scoped>\n    .dataframe tbody tr th:only-of-type {\n        vertical-align: middle;\n    }\n\n    .dataframe tbody tr th {\n        vertical-align: top;\n    }\n\n    .dataframe thead th {\n        text-align: right;\n    }\n</style>\n<table border=\"1\" class=\"dataframe\">\n  <thead>\n    <tr style=\"text-align: right;\">\n      <th></th>\n      <th>voxel</th>\n      <th>length</th>\n    </tr>\n  </thead>\n  <tbody>\n    <tr>\n      <th>0</th>\n      <td>194588.0</td>\n      <td>0.872292</td>\n    </tr>\n    <tr>\n      <th>1</th>\n      <td>194589.0</td>\n      <td>0.591375</td>\n    </tr>\n  </tbody>\n</table>\n</div>"
     },
     "execution_count": 118,
     "metadata": {},
     "output_type": "execute_result"
    }
   ],
   "source": [
    "length_df = pd.DataFrame(length, columns=['voxel', 'length'])\n",
    "length_df"
   ],
   "metadata": {
    "collapsed": false,
    "pycharm": {
     "name": "#%%\n"
    }
   }
  },
  {
   "cell_type": "code",
   "execution_count": 119,
   "outputs": [
    {
     "data": {
      "text/plain": "      voxel     betas    length\n0    194588  0.316667  0.872292\n1    194588  1.956667  0.872292\n2    194588  0.690000  0.872292\n3    194588  2.470000  0.872292\n4    194588  0.350000  0.872292\n..      ...       ...       ...\n379  194589 -1.493333  0.591375\n380  194589  0.183333  0.591375\n381  194589  0.703333  0.591375\n382  194589  0.000000  0.591375\n383  194589  0.620000  0.591375\n\n[384 rows x 3 columns]",
      "text/html": "<div>\n<style scoped>\n    .dataframe tbody tr th:only-of-type {\n        vertical-align: middle;\n    }\n\n    .dataframe tbody tr th {\n        vertical-align: top;\n    }\n\n    .dataframe thead th {\n        text-align: right;\n    }\n</style>\n<table border=\"1\" class=\"dataframe\">\n  <thead>\n    <tr style=\"text-align: right;\">\n      <th></th>\n      <th>voxel</th>\n      <th>betas</th>\n      <th>length</th>\n    </tr>\n  </thead>\n  <tbody>\n    <tr>\n      <th>0</th>\n      <td>194588</td>\n      <td>0.316667</td>\n      <td>0.872292</td>\n    </tr>\n    <tr>\n      <th>1</th>\n      <td>194588</td>\n      <td>1.956667</td>\n      <td>0.872292</td>\n    </tr>\n    <tr>\n      <th>2</th>\n      <td>194588</td>\n      <td>0.690000</td>\n      <td>0.872292</td>\n    </tr>\n    <tr>\n      <th>3</th>\n      <td>194588</td>\n      <td>2.470000</td>\n      <td>0.872292</td>\n    </tr>\n    <tr>\n      <th>4</th>\n      <td>194588</td>\n      <td>0.350000</td>\n      <td>0.872292</td>\n    </tr>\n    <tr>\n      <th>...</th>\n      <td>...</td>\n      <td>...</td>\n      <td>...</td>\n    </tr>\n    <tr>\n      <th>379</th>\n      <td>194589</td>\n      <td>-1.493333</td>\n      <td>0.591375</td>\n    </tr>\n    <tr>\n      <th>380</th>\n      <td>194589</td>\n      <td>0.183333</td>\n      <td>0.591375</td>\n    </tr>\n    <tr>\n      <th>381</th>\n      <td>194589</td>\n      <td>0.703333</td>\n      <td>0.591375</td>\n    </tr>\n    <tr>\n      <th>382</th>\n      <td>194589</td>\n      <td>0.000000</td>\n      <td>0.591375</td>\n    </tr>\n    <tr>\n      <th>383</th>\n      <td>194589</td>\n      <td>0.620000</td>\n      <td>0.591375</td>\n    </tr>\n  </tbody>\n</table>\n<p>384 rows × 3 columns</p>\n</div>"
     },
     "execution_count": 119,
     "metadata": {},
     "output_type": "execute_result"
    }
   ],
   "source": [
    "tmp_df = pd.merge(tmp_df[['voxel', 'betas']], length_df, on='voxel')\n",
    "tmp_df"
   ],
   "metadata": {
    "collapsed": false,
    "pycharm": {
     "name": "#%%\n"
    }
   }
  },
  {
   "cell_type": "code",
   "execution_count": 123,
   "outputs": [
    {
     "data": {
      "text/plain": "     voxel  betas  length  normed_betas\n0    False  False   False         False\n1    False  False   False         False\n2    False  False   False         False\n3    False  False   False         False\n4    False  False   False         False\n..     ...    ...     ...           ...\n379  False  False   False         False\n380  False  False   False         False\n381  False  False   False         False\n382  False  False   False         False\n383  False  False   False         False\n\n[384 rows x 4 columns]",
      "text/html": "<div>\n<style scoped>\n    .dataframe tbody tr th:only-of-type {\n        vertical-align: middle;\n    }\n\n    .dataframe tbody tr th {\n        vertical-align: top;\n    }\n\n    .dataframe thead th {\n        text-align: right;\n    }\n</style>\n<table border=\"1\" class=\"dataframe\">\n  <thead>\n    <tr style=\"text-align: right;\">\n      <th></th>\n      <th>voxel</th>\n      <th>betas</th>\n      <th>length</th>\n      <th>normed_betas</th>\n    </tr>\n  </thead>\n  <tbody>\n    <tr>\n      <th>0</th>\n      <td>False</td>\n      <td>False</td>\n      <td>False</td>\n      <td>False</td>\n    </tr>\n    <tr>\n      <th>1</th>\n      <td>False</td>\n      <td>False</td>\n      <td>False</td>\n      <td>False</td>\n    </tr>\n    <tr>\n      <th>2</th>\n      <td>False</td>\n      <td>False</td>\n      <td>False</td>\n      <td>False</td>\n    </tr>\n    <tr>\n      <th>3</th>\n      <td>False</td>\n      <td>False</td>\n      <td>False</td>\n      <td>False</td>\n    </tr>\n    <tr>\n      <th>4</th>\n      <td>False</td>\n      <td>False</td>\n      <td>False</td>\n      <td>False</td>\n    </tr>\n    <tr>\n      <th>...</th>\n      <td>...</td>\n      <td>...</td>\n      <td>...</td>\n      <td>...</td>\n    </tr>\n    <tr>\n      <th>379</th>\n      <td>False</td>\n      <td>False</td>\n      <td>False</td>\n      <td>False</td>\n    </tr>\n    <tr>\n      <th>380</th>\n      <td>False</td>\n      <td>False</td>\n      <td>False</td>\n      <td>False</td>\n    </tr>\n    <tr>\n      <th>381</th>\n      <td>False</td>\n      <td>False</td>\n      <td>False</td>\n      <td>False</td>\n    </tr>\n    <tr>\n      <th>382</th>\n      <td>False</td>\n      <td>False</td>\n      <td>False</td>\n      <td>False</td>\n    </tr>\n    <tr>\n      <th>383</th>\n      <td>False</td>\n      <td>False</td>\n      <td>False</td>\n      <td>False</td>\n    </tr>\n  </tbody>\n</table>\n<p>384 rows × 4 columns</p>\n</div>"
     },
     "execution_count": 123,
     "metadata": {},
     "output_type": "execute_result"
    }
   ],
   "source": [
    "tmp_df['normed_betas'] = tmp_df['betas'] / tmp_df['length']\n",
    "tmp_df.isna()"
   ],
   "metadata": {
    "collapsed": false,
    "pycharm": {
     "name": "#%%\n"
    }
   }
  },
  {
   "cell_type": "code",
   "execution_count": 94,
   "outputs": [],
   "source": [
    "betas_df['normed_betas'] = tmp_df['betas'] / tmp_df['length']"
   ],
   "metadata": {
    "collapsed": false,
    "pycharm": {
     "name": "#%%\n"
    }
   }
  },
  {
   "cell_type": "code",
   "execution_count": null,
   "outputs": [],
   "source": [
    "betas"
   ],
   "metadata": {
    "collapsed": false,
    "pycharm": {
     "name": "#%%\n"
    }
   }
  },
  {
   "cell_type": "code",
   "execution_count": 95,
   "outputs": [
    {
     "data": {
      "text/plain": "           voxel     betas  normed_betas\n43588032  194589 -0.626667           NaN\n43588033  194589  1.370000           NaN\n43588034  194589  1.053333           NaN\n43588035  194589  0.240000           NaN\n43588036  194589  1.186667           NaN\n...          ...       ...           ...\n50852667  227020  2.403333           NaN\n50852668  227020 -8.046667           NaN\n50852669  227020  1.286667           NaN\n50852670  227020  0.453333           NaN\n50852671  227020  4.303333           NaN\n\n[6226848 rows x 3 columns]",
      "text/html": "<div>\n<style scoped>\n    .dataframe tbody tr th:only-of-type {\n        vertical-align: middle;\n    }\n\n    .dataframe tbody tr th {\n        vertical-align: top;\n    }\n\n    .dataframe thead th {\n        text-align: right;\n    }\n</style>\n<table border=\"1\" class=\"dataframe\">\n  <thead>\n    <tr style=\"text-align: right;\">\n      <th></th>\n      <th>voxel</th>\n      <th>betas</th>\n      <th>normed_betas</th>\n    </tr>\n  </thead>\n  <tbody>\n    <tr>\n      <th>43588032</th>\n      <td>194589</td>\n      <td>-0.626667</td>\n      <td>NaN</td>\n    </tr>\n    <tr>\n      <th>43588033</th>\n      <td>194589</td>\n      <td>1.370000</td>\n      <td>NaN</td>\n    </tr>\n    <tr>\n      <th>43588034</th>\n      <td>194589</td>\n      <td>1.053333</td>\n      <td>NaN</td>\n    </tr>\n    <tr>\n      <th>43588035</th>\n      <td>194589</td>\n      <td>0.240000</td>\n      <td>NaN</td>\n    </tr>\n    <tr>\n      <th>43588036</th>\n      <td>194589</td>\n      <td>1.186667</td>\n      <td>NaN</td>\n    </tr>\n    <tr>\n      <th>...</th>\n      <td>...</td>\n      <td>...</td>\n      <td>...</td>\n    </tr>\n    <tr>\n      <th>50852667</th>\n      <td>227020</td>\n      <td>2.403333</td>\n      <td>NaN</td>\n    </tr>\n    <tr>\n      <th>50852668</th>\n      <td>227020</td>\n      <td>-8.046667</td>\n      <td>NaN</td>\n    </tr>\n    <tr>\n      <th>50852669</th>\n      <td>227020</td>\n      <td>1.286667</td>\n      <td>NaN</td>\n    </tr>\n    <tr>\n      <th>50852670</th>\n      <td>227020</td>\n      <td>0.453333</td>\n      <td>NaN</td>\n    </tr>\n    <tr>\n      <th>50852671</th>\n      <td>227020</td>\n      <td>4.303333</td>\n      <td>NaN</td>\n    </tr>\n  </tbody>\n</table>\n<p>6226848 rows × 3 columns</p>\n</div>"
     },
     "execution_count": 95,
     "metadata": {},
     "output_type": "execute_result"
    }
   ],
   "source": [
    "betas_df[betas_df['normed_betas'].isna()][['voxel','betas','normed_betas']]"
   ],
   "metadata": {
    "collapsed": false,
    "pycharm": {
     "name": "#%%\n"
    }
   }
  },
  {
   "cell_type": "code",
   "execution_count": 26,
   "outputs": [
    {
     "data": {
      "text/plain": "[43588032,\n 43588033,\n 43588034,\n 43588035,\n 43588036,\n 43588037,\n 43588038,\n 43588039,\n 43588040,\n 43588041,\n 43588042,\n 43588043,\n 43588044,\n 43588045,\n 43588046,\n 43588047,\n 43588048,\n 43588049,\n 43588050,\n 43588051,\n 43588052,\n 43588053,\n 43588054,\n 43588055,\n 43588056,\n 43588057,\n 43588058,\n 43588059,\n 43588060,\n 43588061,\n 43588062,\n 43588063,\n 43588064,\n 43588065,\n 43588066,\n 43588067,\n 43588068,\n 43588069,\n 43588070,\n 43588071,\n 43588072,\n 43588073,\n 43588074,\n 43588075,\n 43588076,\n 43588077,\n 43588078,\n 43588079,\n 43588080,\n 43588081,\n 43588082,\n 43588083,\n 43588084,\n 43588085,\n 43588086,\n 43588087,\n 43588088,\n 43588089,\n 43588090,\n 43588091,\n 43588092,\n 43588093,\n 43588094,\n 43588095,\n 43588096,\n 43588097,\n 43588098,\n 43588099,\n 43588100,\n 43588101,\n 43588102,\n 43588103,\n 43588104,\n 43588105,\n 43588106,\n 43588107,\n 43588108,\n 43588109,\n 43588110,\n 43588111,\n 43588112,\n 43588113,\n 43588114,\n 43588115,\n 43588116,\n 43588117,\n 43588118,\n 43588119,\n 43588120,\n 43588121,\n 43588122,\n 43588123,\n 43588124,\n 43588125,\n 43588126,\n 43588127,\n 43588160,\n 43588161,\n 43588162,\n 43588163,\n 43588164,\n 43588165,\n 43588166,\n 43588167,\n 43588168,\n 43588169,\n 43588170,\n 43588171,\n 43588172,\n 43588173,\n 43588174,\n 43588175,\n 43588176,\n 43588177,\n 43588178,\n 43588179,\n 43588180,\n 43588181,\n 43588182,\n 43588183,\n 43588184,\n 43588185,\n 43588186,\n 43588187,\n 43588188,\n 43588189,\n 43588190,\n 43588191,\n 43588192,\n 43588193,\n 43588194,\n 43588195,\n 43588196,\n 43588197,\n 43588198,\n 43588199,\n 43588200,\n 43588201,\n 43588202,\n 43588203,\n 43588204,\n 43588205,\n 43588206,\n 43588207,\n 43588208,\n 43588209,\n 43588210,\n 43588211,\n 43588212,\n 43588213,\n 43588214,\n 43588215,\n 43588216,\n 43588217,\n 43588218,\n 43588219,\n 43588220,\n 43588221,\n 43588222,\n 43588223,\n 43588224,\n 43588225,\n 43588226,\n 43588227,\n 43588228,\n 43588229,\n 43588230,\n 43588231,\n 43588232,\n 43588233,\n 43588234,\n 43588235,\n 43588236,\n 43588237,\n 43588238,\n 43588239,\n 43588240,\n 43588241,\n 43588242,\n 43588243,\n 43588244,\n 43588245,\n 43588246,\n 43588247,\n 43588248,\n 43588249,\n 43588250,\n 43588251,\n 43588252,\n 43588253,\n 43588254,\n 43588255,\n 43588256,\n 43588257,\n 43588258,\n 43588259,\n 43588260,\n 43588261,\n 43588262,\n 43588263,\n 43588264,\n 43588265,\n 43588266,\n 43588267,\n 43588268,\n 43588269,\n 43588270,\n 43588271,\n 43588272,\n 43588273,\n 43588274,\n 43588275,\n 43588276,\n 43588277,\n 43588278,\n 43588279,\n 43588280,\n 43588281,\n 43588282,\n 43588283,\n 43588284,\n 43588285,\n 43588286,\n 43588287,\n 43588288,\n 43588289,\n 43588290,\n 43588291,\n 43588292,\n 43588293,\n 43588294,\n 43588295,\n 43588296,\n 43588297,\n 43588298,\n 43588299,\n 43588300,\n 43588301,\n 43588302,\n 43588303,\n 43588304,\n 43588305,\n 43588306,\n 43588307,\n 43588308,\n 43588309,\n 43588310,\n 43588311,\n 43588312,\n 43588313,\n 43588314,\n 43588315,\n 43588316,\n 43588317,\n 43588318,\n 43588319,\n 43588320,\n 43588321,\n 43588322,\n 43588323,\n 43588324,\n 43588325,\n 43588326,\n 43588327,\n 43588328,\n 43588329,\n 43588330,\n 43588331,\n 43588332,\n 43588333,\n 43588334,\n 43588335,\n 43588336,\n 43588337,\n 43588338,\n 43588339,\n 43588340,\n 43588341,\n 43588342,\n 43588343,\n 43588344,\n 43588345,\n 43588346,\n 43588347,\n 43588348,\n 43588349,\n 43588350,\n 43588351,\n 43588384,\n 43588385,\n 43588386,\n 43588387,\n 43588388,\n 43588389,\n 43588390,\n 43588391,\n 43588392,\n 43588393,\n 43588394,\n 43588395,\n 43588396,\n 43588397,\n 43588398,\n 43588399,\n 43588400,\n 43588401,\n 43588402,\n 43588403,\n 43588404,\n 43588405,\n 43588406,\n 43588407,\n 43588408,\n 43588409,\n 43588410,\n 43588411,\n 43588412,\n 43588413,\n 43588414,\n 43588415,\n 43588416,\n 43588417,\n 43588418,\n 43588419,\n 43588420,\n 43588421,\n 43588422,\n 43588423,\n 43588424,\n 43588425,\n 43588426,\n 43588427,\n 43588428,\n 43588429,\n 43588430,\n 43588431,\n 43588432,\n 43588433,\n 43588434,\n 43588435,\n 43588436,\n 43588437,\n 43588438,\n 43588439,\n 43588440,\n 43588441,\n 43588442,\n 43588443,\n 43588444,\n 43588445,\n 43588446,\n 43588447,\n 43588448,\n 43588449,\n 43588450,\n 43588451,\n 43588452,\n 43588453,\n 43588454,\n 43588455,\n 43588456,\n 43588457,\n 43588458,\n 43588459,\n 43588460,\n 43588461,\n 43588462,\n 43588463,\n 43588464,\n 43588465,\n 43588466,\n 43588467,\n 43588468,\n 43588469,\n 43588470,\n 43588471,\n 43588472,\n 43588473,\n 43588474,\n 43588475,\n 43588476,\n 43588477,\n 43588478,\n 43588479,\n 43588480,\n 43588481,\n 43588482,\n 43588483,\n 43588484,\n 43588485,\n 43588486,\n 43588487,\n 43588488,\n 43588489,\n 43588490,\n 43588491,\n 43588492,\n 43588493,\n 43588494,\n 43588495,\n 43588496,\n 43588497,\n 43588498,\n 43588499,\n 43588500,\n 43588501,\n 43588502,\n 43588503,\n 43588504,\n 43588505,\n 43588506,\n 43588507,\n 43588508,\n 43588509,\n 43588510,\n 43588511,\n 43588512,\n 43588513,\n 43588514,\n 43588515,\n 43588516,\n 43588517,\n 43588518,\n 43588519,\n 43588520,\n 43588521,\n 43588522,\n 43588523,\n 43588524,\n 43588525,\n 43588526,\n 43588527,\n 43588528,\n 43588529,\n 43588530,\n 43588531,\n 43588532,\n 43588533,\n 43588534,\n 43588535,\n 43588536,\n 43588537,\n 43588538,\n 43588539,\n 43588540,\n 43588541,\n 43588542,\n 43588543,\n 43588544,\n 43588545,\n 43588546,\n 43588547,\n 43588548,\n 43588549,\n 43588550,\n 43588551,\n 43588552,\n 43588553,\n 43588554,\n 43588555,\n 43588556,\n 43588557,\n 43588558,\n 43588559,\n 43588560,\n 43588561,\n 43588562,\n 43588563,\n 43588564,\n 43588565,\n 43588566,\n 43588567,\n 43588568,\n 43588569,\n 43588570,\n 43588571,\n 43588572,\n 43588573,\n 43588574,\n 43588575,\n 43588608,\n 43588609,\n 43588610,\n 43588611,\n 43588612,\n 43588613,\n 43588614,\n 43588615,\n 43588616,\n 43588617,\n 43588618,\n 43588619,\n 43588620,\n 43588621,\n 43588622,\n 43588623,\n 43588624,\n 43588625,\n 43588626,\n 43588627,\n 43588628,\n 43588629,\n 43588630,\n 43588631,\n 43588632,\n 43588633,\n 43588634,\n 43588635,\n 43588636,\n 43588637,\n 43588638,\n 43588639,\n 43588640,\n 43588641,\n 43588642,\n 43588643,\n 43588644,\n 43588645,\n 43588646,\n 43588647,\n 43588648,\n 43588649,\n 43588650,\n 43588651,\n 43588652,\n 43588653,\n 43588654,\n 43588655,\n 43588656,\n 43588657,\n 43588658,\n 43588659,\n 43588660,\n 43588661,\n 43588662,\n 43588663,\n 43588664,\n 43588665,\n 43588666,\n 43588667,\n 43588668,\n 43588669,\n 43588670,\n 43588671,\n 43588672,\n 43588673,\n 43588674,\n 43588675,\n 43588676,\n 43588677,\n 43588678,\n 43588679,\n 43588680,\n 43588681,\n 43588682,\n 43588683,\n 43588684,\n 43588685,\n 43588686,\n 43588687,\n 43588688,\n 43588689,\n 43588690,\n 43588691,\n 43588692,\n 43588693,\n 43588694,\n 43588695,\n 43588696,\n 43588697,\n 43588698,\n 43588699,\n 43588700,\n 43588701,\n 43588702,\n 43588703,\n 43588704,\n 43588705,\n 43588706,\n 43588707,\n 43588708,\n 43588709,\n 43588710,\n 43588711,\n 43588712,\n 43588713,\n 43588714,\n 43588715,\n 43588716,\n 43588717,\n 43588718,\n 43588719,\n 43588720,\n 43588721,\n 43588722,\n 43588723,\n 43588724,\n 43588725,\n 43588726,\n 43588727,\n 43588728,\n 43588729,\n 43588730,\n 43588731,\n 43588732,\n 43588733,\n 43588734,\n 43588735,\n 43588736,\n 43588737,\n 43588738,\n 43588739,\n 43588740,\n 43588741,\n 43588742,\n 43588743,\n 43588744,\n 43588745,\n 43588746,\n 43588747,\n 43588748,\n 43588749,\n 43588750,\n 43588751,\n 43588752,\n 43588753,\n 43588754,\n 43588755,\n 43588756,\n 43588757,\n 43588758,\n 43588759,\n 43588760,\n 43588761,\n 43588762,\n 43588763,\n 43588764,\n 43588765,\n 43588766,\n 43588767,\n 43588768,\n 43588769,\n 43588770,\n 43588771,\n 43588772,\n 43588773,\n 43588774,\n 43588775,\n 43588776,\n 43588777,\n 43588778,\n 43588779,\n 43588780,\n 43588781,\n 43588782,\n 43588783,\n 43588784,\n 43588785,\n 43588786,\n 43588787,\n 43588788,\n 43588789,\n 43588790,\n 43588791,\n 43588792,\n 43588793,\n 43588794,\n 43588795,\n 43588796,\n 43588797,\n 43588798,\n 43588799,\n 43588832,\n 43588833,\n 43588834,\n 43588835,\n 43588836,\n 43588837,\n 43588838,\n 43588839,\n 43588840,\n 43588841,\n 43588842,\n 43588843,\n 43588844,\n 43588845,\n 43588846,\n 43588847,\n 43588848,\n 43588849,\n 43588850,\n 43588851,\n 43588852,\n 43588853,\n 43588854,\n 43588855,\n 43588856,\n 43588857,\n 43588858,\n 43588859,\n 43588860,\n 43588861,\n 43588862,\n 43588863,\n 43588864,\n 43588865,\n 43588866,\n 43588867,\n 43588868,\n 43588869,\n 43588870,\n 43588871,\n 43588872,\n 43588873,\n 43588874,\n 43588875,\n 43588876,\n 43588877,\n 43588878,\n 43588879,\n 43588880,\n 43588881,\n 43588882,\n 43588883,\n 43588884,\n 43588885,\n 43588886,\n 43588887,\n 43588888,\n 43588889,\n 43588890,\n 43588891,\n 43588892,\n 43588893,\n 43588894,\n 43588895,\n 43588896,\n 43588897,\n 43588898,\n 43588899,\n 43588900,\n 43588901,\n 43588902,\n 43588903,\n 43588904,\n 43588905,\n 43588906,\n 43588907,\n 43588908,\n 43588909,\n 43588910,\n 43588911,\n 43588912,\n 43588913,\n 43588914,\n 43588915,\n 43588916,\n 43588917,\n 43588918,\n 43588919,\n 43588920,\n 43588921,\n 43588922,\n 43588923,\n 43588924,\n 43588925,\n 43588926,\n 43588927,\n 43588928,\n 43588929,\n 43588930,\n 43588931,\n 43588932,\n 43588933,\n 43588934,\n 43588935,\n 43588936,\n 43588937,\n 43588938,\n 43588939,\n 43588940,\n 43588941,\n 43588942,\n 43588943,\n 43588944,\n 43588945,\n 43588946,\n 43588947,\n 43588948,\n 43588949,\n 43588950,\n 43588951,\n 43588952,\n 43588953,\n 43588954,\n 43588955,\n 43588956,\n 43588957,\n 43588958,\n 43588959,\n 43588960,\n 43588961,\n 43588962,\n 43588963,\n 43588964,\n 43588965,\n 43588966,\n 43588967,\n 43588968,\n 43588969,\n 43588970,\n 43588971,\n 43588972,\n 43588973,\n 43588974,\n 43588975,\n 43588976,\n 43588977,\n 43588978,\n 43588979,\n 43588980,\n 43588981,\n 43588982,\n 43588983,\n 43588984,\n 43588985,\n 43588986,\n 43588987,\n 43588988,\n 43588989,\n 43588990,\n 43588991,\n 43588992,\n 43588993,\n 43588994,\n 43588995,\n 43588996,\n 43588997,\n 43588998,\n 43588999,\n 43589000,\n 43589001,\n 43589002,\n 43589003,\n 43589004,\n 43589005,\n 43589006,\n 43589007,\n 43589008,\n 43589009,\n 43589010,\n 43589011,\n 43589012,\n 43589013,\n 43589014,\n 43589015,\n 43589016,\n 43589017,\n 43589018,\n 43589019,\n 43589020,\n 43589021,\n 43589022,\n 43589023,\n 43589056,\n 43589057,\n 43589058,\n 43589059,\n 43589060,\n 43589061,\n 43589062,\n 43589063,\n 43589064,\n 43589065,\n 43589066,\n 43589067,\n 43589068,\n 43589069,\n 43589070,\n 43589071,\n 43589072,\n 43589073,\n 43589074,\n 43589075,\n 43589076,\n 43589077,\n 43589078,\n 43589079,\n 43589080,\n 43589081,\n 43589082,\n 43589083,\n 43589084,\n 43589085,\n 43589086,\n 43589087,\n 43589088,\n 43589089,\n 43589090,\n 43589091,\n 43589092,\n 43589093,\n 43589094,\n 43589095,\n 43589096,\n 43589097,\n 43589098,\n 43589099,\n 43589100,\n 43589101,\n 43589102,\n 43589103,\n 43589104,\n 43589105,\n 43589106,\n 43589107,\n 43589108,\n 43589109,\n 43589110,\n 43589111,\n 43589112,\n 43589113,\n 43589114,\n 43589115,\n 43589116,\n 43589117,\n 43589118,\n 43589119,\n 43589120,\n 43589121,\n 43589122,\n 43589123,\n 43589124,\n 43589125,\n 43589126,\n 43589127,\n 43589128,\n 43589129,\n 43589130,\n 43589131,\n 43589132,\n 43589133,\n 43589134,\n 43589135,\n 43589136,\n 43589137,\n 43589138,\n 43589139,\n 43589140,\n 43589141,\n 43589142,\n 43589143,\n 43589144,\n 43589145,\n 43589146,\n 43589147,\n 43589148,\n 43589149,\n 43589150,\n 43589151,\n 43589152,\n 43589153,\n 43589154,\n 43589155,\n 43589156,\n 43589157,\n 43589158,\n 43589159,\n 43589160,\n 43589161,\n 43589162,\n 43589163,\n 43589164,\n 43589165,\n 43589166,\n 43589167,\n 43589168,\n 43589169,\n 43589170,\n 43589171,\n 43589172,\n 43589173,\n 43589174,\n 43589175,\n 43589176,\n 43589177,\n 43589178,\n 43589179,\n 43589180,\n 43589181,\n 43589182,\n 43589183,\n 43589184,\n 43589185,\n 43589186,\n 43589187,\n 43589188,\n 43589189,\n 43589190,\n 43589191,\n ...]"
     },
     "execution_count": 26,
     "metadata": {},
     "output_type": "execute_result"
    }
   ],
   "source": [
    "betas_df[betas_df['normed_betas'].isna()].index.to_list()"
   ],
   "metadata": {
    "collapsed": false,
    "pycharm": {
     "name": "#%%\n"
    }
   }
  },
  {
   "cell_type": "code",
   "execution_count": 17,
   "outputs": [
    {
     "data": {
      "text/plain": "0.14285682822293974"
     },
     "execution_count": 17,
     "metadata": {},
     "output_type": "execute_result"
    }
   ],
   "source": [
    "betas_df[betas_df['normed_betas'].isna()].index.shape[0]/betas_df.index.shape[0]"
   ],
   "metadata": {
    "collapsed": false,
    "pycharm": {
     "name": "#%%\n"
    }
   }
  },
  {
   "cell_type": "markdown",
   "metadata": {
    "pycharm": {
     "name": "#%% md\n"
    }
   },
   "source": [
    "# Get sigma_v for each voxel and map it in mgz"
   ]
  },
  {
   "cell_type": "code",
   "execution_count": 11,
   "metadata": {
    "pycharm": {
     "name": "#%%\n"
    }
   },
   "outputs": [],
   "source": [
    "sigma_v = bts.get_sigma_v_for_whole_brain(betas_df, betas='normed_betas')"
   ]
  },
  {
   "cell_type": "code",
   "execution_count": 12,
   "metadata": {
    "pycharm": {
     "name": "#%%\n"
    }
   },
   "outputs": [
    {
     "data": {
      "text/plain": [
       "<nibabel.freesurfer.mghformat.MGHImage at 0x7fc7b8b4cf10>"
      ]
     },
     "execution_count": 12,
     "metadata": {},
     "output_type": "execute_result"
    }
   ],
   "source": [
    "map_values_as_mgz(eccentricity_path, 1/sigma_v,         save_path=f'/Volumes/server/Projects/sfp_nsd/derivatives/sfp_maps/mgzs/nsdsyn/{hemi}.sub-{subj}_value-precision.mgz')"
   ]
  },
  {
   "cell_type": "markdown",
   "metadata": {
    "pycharm": {
     "name": "#%% md\n"
    }
   },
   "source": [
    "# Plot precision maps"
   ]
  },
  {
   "cell_type": "code",
   "execution_count": 22,
   "metadata": {
    "pycharm": {
     "name": "#%%\n"
    }
   },
   "outputs": [],
   "source": [
    "import neuropythy as ny\n",
    "import ipyvolume as ipv\n",
    "\n",
    "%gui qt\n",
    "ny.config['freesurfer_subject_paths'] = '/Volumes/server/Projects/sfp_nsd/natural-scenes-dataset/nsddata/freesurfer'"
   ]
  },
  {
   "cell_type": "code",
   "execution_count": 19,
   "metadata": {
    "pycharm": {
     "name": "#%%\n"
    }
   },
   "outputs": [
    {
     "ename": "RuntimeError",
     "evalue": "load failure: the requested object could not be loaded, probably because you do not have ipyvolume installed correctly",
     "output_type": "error",
     "traceback": [
      "\u001B[0;31m---------------------------------------------------------------------------\u001B[0m",
      "\u001B[0;31mRuntimeError\u001B[0m                              Traceback (most recent call last)",
      "\u001B[0;32m/var/folders/dc/rp0klyw131l30jr45p7_7gnnnl2r2_/T/ipykernel_25002/59675570.py\u001B[0m in \u001B[0;36m<module>\u001B[0;34m\u001B[0m\n\u001B[1;32m      1\u001B[0m \u001B[0msub\u001B[0m \u001B[0;34m=\u001B[0m \u001B[0mny\u001B[0m\u001B[0;34m.\u001B[0m\u001B[0mfreesurfer_subject\u001B[0m\u001B[0;34m(\u001B[0m\u001B[0;34m'/Volumes/server/Projects/sfp_nsd/natural-scenes-dataset/nsddata/freesurfer/subj01'\u001B[0m\u001B[0;34m)\u001B[0m\u001B[0;34m\u001B[0m\u001B[0;34m\u001B[0m\u001B[0m\n\u001B[1;32m      2\u001B[0m \u001B[0msurf\u001B[0m \u001B[0;34m=\u001B[0m \u001B[0msub\u001B[0m\u001B[0;34m.\u001B[0m\u001B[0mlh\u001B[0m\u001B[0;34m.\u001B[0m\u001B[0msurface\u001B[0m\u001B[0;34m(\u001B[0m\u001B[0;34m'pial'\u001B[0m\u001B[0;34m)\u001B[0m\u001B[0;34m\u001B[0m\u001B[0;34m\u001B[0m\u001B[0m\n\u001B[0;32m----> 3\u001B[0;31m \u001B[0mny\u001B[0m\u001B[0;34m.\u001B[0m\u001B[0mcortex_plot\u001B[0m\u001B[0;34m(\u001B[0m\u001B[0msurf\u001B[0m\u001B[0;34m,\u001B[0m \u001B[0mcolor\u001B[0m\u001B[0;34m=\u001B[0m\u001B[0;34m'thickness'\u001B[0m\u001B[0;34m,\u001B[0m \u001B[0mcmap\u001B[0m\u001B[0;34m=\u001B[0m\u001B[0;34m'hot'\u001B[0m\u001B[0;34m,\u001B[0m \u001B[0mvmin\u001B[0m\u001B[0;34m=\u001B[0m\u001B[0;36m2\u001B[0m\u001B[0;34m,\u001B[0m \u001B[0mvmax\u001B[0m\u001B[0;34m=\u001B[0m\u001B[0;36m6\u001B[0m\u001B[0;34m)\u001B[0m\u001B[0;34m\u001B[0m\u001B[0;34m\u001B[0m\u001B[0m\n\u001B[0m",
      "\u001B[0;32m~/opt/miniconda3/envs/sfp/lib/python3.7/site-packages/neuropythy/graphics/core.py\u001B[0m in \u001B[0;36mcortex_plot\u001B[0;34m(mesh, *args, **opts)\u001B[0m\n\u001B[1;32m   1378\u001B[0m     \u001B[0;32mif\u001B[0m \u001B[0;32mnot\u001B[0m \u001B[0misinstance\u001B[0m\u001B[0;34m(\u001B[0m\u001B[0mmesh\u001B[0m\u001B[0;34m,\u001B[0m \u001B[0mgeo\u001B[0m\u001B[0;34m.\u001B[0m\u001B[0mMesh\u001B[0m\u001B[0;34m)\u001B[0m \u001B[0;32mor\u001B[0m \u001B[0mmesh\u001B[0m\u001B[0;34m.\u001B[0m\u001B[0mcoordinates\u001B[0m\u001B[0;34m.\u001B[0m\u001B[0mshape\u001B[0m\u001B[0;34m[\u001B[0m\u001B[0;36m0\u001B[0m\u001B[0;34m]\u001B[0m \u001B[0;34m>\u001B[0m \u001B[0;36m2\u001B[0m\u001B[0;34m:\u001B[0m\u001B[0;34m\u001B[0m\u001B[0;34m\u001B[0m\u001B[0m\n\u001B[1;32m   1379\u001B[0m         \u001B[0;31m# must be a 3D call\u001B[0m\u001B[0;34m\u001B[0m\u001B[0;34m\u001B[0m\u001B[0;34m\u001B[0m\u001B[0m\n\u001B[0;32m-> 1380\u001B[0;31m         \u001B[0;32mreturn\u001B[0m \u001B[0mcortex_plot_3D\u001B[0m\u001B[0;34m(\u001B[0m\u001B[0mmesh\u001B[0m\u001B[0;34m,\u001B[0m \u001B[0;34m*\u001B[0m\u001B[0margs\u001B[0m\u001B[0;34m,\u001B[0m \u001B[0;34m**\u001B[0m\u001B[0mopts\u001B[0m\u001B[0;34m)\u001B[0m\u001B[0;34m\u001B[0m\u001B[0;34m\u001B[0m\u001B[0m\n\u001B[0m\u001B[1;32m   1381\u001B[0m     \u001B[0;32melse\u001B[0m\u001B[0;34m:\u001B[0m\u001B[0;34m\u001B[0m\u001B[0;34m\u001B[0m\u001B[0m\n\u001B[1;32m   1382\u001B[0m         \u001B[0;32mreturn\u001B[0m \u001B[0mcortex_plot_2D\u001B[0m\u001B[0;34m(\u001B[0m\u001B[0mmesh\u001B[0m\u001B[0;34m,\u001B[0m \u001B[0;34m*\u001B[0m\u001B[0margs\u001B[0m\u001B[0;34m,\u001B[0m \u001B[0;34m**\u001B[0m\u001B[0mopts\u001B[0m\u001B[0;34m)\u001B[0m\u001B[0;34m\u001B[0m\u001B[0;34m\u001B[0m\u001B[0m\n",
      "\u001B[0;32m~/opt/miniconda3/envs/sfp/lib/python3.7/site-packages/neuropythy/graphics/core.py\u001B[0m in \u001B[0;36m_ipyvolume_load_error\u001B[0;34m(*args, **kwargs)\u001B[0m\n\u001B[1;32m   1156\u001B[0m \u001B[0;31m# If we're using Python 2, we're compatible with pysurfer:\u001B[0m\u001B[0;34m\u001B[0m\u001B[0;34m\u001B[0m\u001B[0;34m\u001B[0m\u001B[0m\n\u001B[1;32m   1157\u001B[0m \u001B[0;32mdef\u001B[0m \u001B[0m_ipyvolume_load_error\u001B[0m\u001B[0;34m(\u001B[0m\u001B[0;34m*\u001B[0m\u001B[0margs\u001B[0m\u001B[0;34m,\u001B[0m \u001B[0;34m**\u001B[0m\u001B[0mkwargs\u001B[0m\u001B[0;34m)\u001B[0m\u001B[0;34m:\u001B[0m\u001B[0;34m\u001B[0m\u001B[0;34m\u001B[0m\u001B[0m\n\u001B[0;32m-> 1158\u001B[0;31m     raise RuntimeError('load failure: the requested object could not be loaded, probably ' +\n\u001B[0m\u001B[1;32m   1159\u001B[0m                        'because you do not have ipyvolume installed correctly')\n\u001B[1;32m   1160\u001B[0m \u001B[0mcortex_plot_3D\u001B[0m \u001B[0;34m=\u001B[0m \u001B[0m_ipyvolume_load_error\u001B[0m\u001B[0;34m\u001B[0m\u001B[0;34m\u001B[0m\u001B[0m\n",
      "\u001B[0;31mRuntimeError\u001B[0m: load failure: the requested object could not be loaded, probably because you do not have ipyvolume installed correctly"
     ]
    }
   ],
   "source": [
    "sub = ny.freesurfer_subject('/Volumes/server/Projects/sfp_nsd/natural-scenes-dataset/nsddata/freesurfer/subj01')\n",
    "surf = sub.lh.surface('pial')\n",
    "ny.cortex_plot(surf, color='thickness', cmap='hot', vmin=2, vmax=6)"
   ]
  },
  {
   "cell_type": "code",
   "execution_count": null,
   "metadata": {
    "pycharm": {
     "name": "#%%\n"
    }
   },
   "outputs": [],
   "source": []
  }
 ],
 "metadata": {
  "kernelspec": {
   "display_name": "Python 3 (ipykernel)",
   "language": "python",
   "name": "python3"
  },
  "language_info": {
   "codemirror_mode": {
    "name": "ipython",
    "version": 3
   },
   "file_extension": ".py",
   "mimetype": "text/x-python",
   "name": "python",
   "nbconvert_exporter": "python",
   "pygments_lexer": "ipython3",
   "version": "3.7.12"
  }
 },
 "nbformat": 4,
 "nbformat_minor": 1
}