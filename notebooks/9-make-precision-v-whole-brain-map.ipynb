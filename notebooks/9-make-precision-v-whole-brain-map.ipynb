{
 "cells": [
  {
   "cell_type": "code",
   "execution_count": 3,
   "metadata": {
    "collapsed": true
   },
   "outputs": [
    {
     "name": "stdout",
     "output_type": "stream",
     "text": [
      "The autoreload extension is already loaded. To reload it, use:\n",
      "  %reload_ext autoreload\n"
     ]
    }
   ],
   "source": [
    "import sys\n",
    "sys.path.append('..')\n",
    "sys.path.append('/Users/jh7685/Documents/Projects/pysurfer')\n",
    "import numpy as np\n",
    "from pysurfer.mgz_helper import map_values_as_mgz\n",
    "import os\n",
    "from sfp_nsdsyn import *\n",
    "import warnings\n",
    "from itertools import product\n",
    "warnings.filterwarnings(\"ignore\", category=UserWarning)\n",
    "\n",
    "%load_ext autoreload\n",
    "%autoreload 2"
   ]
  },
  {
   "cell_type": "markdown",
   "source": [
    "# Configurations"
   ],
   "metadata": {
    "collapsed": false,
    "pycharm": {
     "name": "#%% md\n"
    }
   }
  },
  {
   "cell_type": "code",
   "execution_count": 4,
   "metadata": {
    "pycharm": {
     "name": "#%%\n"
    }
   },
   "outputs": [],
   "source": [
    "nsd_dir ='/Volumes/server/Projects/sfp_nsd/natural-scenes-dataset'\n",
    "output_dir='/Volmes/server/Projects/sfp_nsd/derivatives'"
   ]
  },
  {
   "cell_type": "code",
   "execution_count": 5,
   "metadata": {
    "pycharm": {
     "name": "#%%\n"
    }
   },
   "outputs": [],
   "source": [
    "subj='subj01'\n",
    "hemi='lh'\n",
    "stim_list = ['annulus', 'pinwheel', 'forward spiral', 'reverse spiral']\n",
    "betas = os.path.join(nsd_dir, 'nsddata_betas', 'ppdata', f'{subj}', 'nativesurface', 'nsdsyntheticbetas_fithrf_GLMdenoise_RR', f'{hemi}.betas_nsdsynthetic.hdf5')\n",
    "design_mat=os.path.join(nsd_dir, 'nsddata', 'experiments', 'nsdsynthetic', 'nsdsynthetic_expdesign.mat')\n",
    "task_keys=['fixation_task','memory_task']\n",
    "stim_info=os.path.join(nsd_dir, 'nsdsyn_stim_description.csv')\n",
    "task_average=True\n",
    "eccentricity_path= os.path.join(nsd_dir, 'nsddata', 'freesurfer', f'{subj}', 'label',  f'{hemi}.prfeccentricity.mgz')"
   ]
  },
  {
   "cell_type": "markdown",
   "metadata": {
    "pycharm": {
     "name": "#%% md\n"
    }
   },
   "source": [
    "# Load whole brain betas"
   ]
  },
  {
   "cell_type": "code",
   "execution_count": 6,
   "metadata": {
    "pycharm": {
     "name": "#%%\n"
    }
   },
   "outputs": [],
   "source": [
    "betas_df = sfm.get_whole_brain_betas(betas_path=betas, design_mat_path=design_mat,\n",
    "                          stim_info_path=stim_info,\n",
    "                          task_keys=task_keys, task_average=False, eccentricity_path=eccentricity_path,\n",
    "                          x_axis='voxel', y_axis='stim_idx', long_format=True)\n",
    "betas_df = betas_df.query('names in @stim_list')"
   ]
  },
  {
   "cell_type": "markdown",
   "metadata": {
    "pycharm": {
     "name": "#%% md\n"
    }
   },
   "source": [
    "# Normalize betas by the frequency magnitude (?)"
   ]
  },
  {
   "cell_type": "code",
   "execution_count": 7,
   "metadata": {
    "pycharm": {
     "name": "#%%\n"
    }
   },
   "outputs": [],
   "source": [
    "betas_df['normed_betas'] = bts.normalize_betas_by_frequency_magnitude(betas_df, betas='betas', freq_lvl='freq_lvl')"
   ]
  },
  {
   "cell_type": "markdown",
   "source": [
    "## NaN values???"
   ],
   "metadata": {
    "collapsed": false,
    "pycharm": {
     "name": "#%% md\n"
    }
   }
  },
  {
   "cell_type": "code",
   "execution_count": 107,
   "outputs": [
    {
     "data": {
      "text/plain": "0      0.363028\n1      2.243133\n2      0.791020\n3      2.831621\n4      0.401242\n         ...   \n379   -2.525187\n380    0.310012\n381    1.189318\n382    0.000000\n383    1.048404\nLength: 384, dtype: float64"
     },
     "execution_count": 107,
     "metadata": {},
     "output_type": "execute_result"
    }
   ],
   "source": [
    "tmp_df = betas_df.query('194587 < voxel < 194590')\n",
    "\n",
    "bts.normalize_betas_by_frequency_magnitude(tmp_df, betas='betas', freq_lvl='freq_lvl')"
   ],
   "metadata": {
    "collapsed": false,
    "pycharm": {
     "name": "#%%\n"
    }
   }
  },
  {
   "cell_type": "code",
   "execution_count": 135,
   "outputs": [
    {
     "data": {
      "text/plain": "         stim_idx  image_idx           names   w_r   w_a     phase  class_idx  \\\n43587936        0        104        pinwheel   0.0   6.0  0.000000          0   \n43587937        0        104        pinwheel   0.0   6.0  0.000000          0   \n43587938        1        105        pinwheel   0.0   6.0  1.570796          0   \n43587939        1        105        pinwheel   0.0   6.0  1.570796          0   \n43587940        2        106        pinwheel   0.0   6.0  3.141593          0   \n...           ...        ...             ...   ...   ...       ...        ...   \n43588123       93        197  reverse spiral  91.0 -91.0  1.570796         23   \n43588124       94        198  reverse spiral  91.0 -91.0  3.141593         23   \n43588125       94        198  reverse spiral  91.0 -91.0  3.141593         23   \n43588126       95        199  reverse spiral  91.0 -91.0  4.712389         23   \n43588127       95        199  reverse spiral  91.0 -91.0  4.712389         23   \n\n          freq_lvl   voxel      task     betas  eccentricity    local_sf  \\\n43587936         0  194589  fixation  0.353333      2.336213    6.000000   \n43587937         0  194589    memory  2.076667      2.336213    6.000000   \n43587938         0  194589  fixation  1.293333      2.336213    6.000000   \n43587939         0  194589    memory  3.410000      2.336213    6.000000   \n43587940         0  194589  fixation  0.130000      2.336213    6.000000   \n...            ...     ...       ...       ...           ...         ...   \n43588123         5  194589    memory -1.493333      2.336213  128.693434   \n43588124         5  194589  fixation  0.183333      2.336213  128.693434   \n43588125         5  194589    memory  0.703333      2.336213  128.693434   \n43588126         5  194589  fixation  0.000000      2.336213  128.693434   \n43588127         5  194589    memory  0.620000      2.336213  128.693434   \n\n          normed_betas  \n43587936     -0.071187  \n43587937      0.468191  \n43587938     -0.102673  \n43587939      0.898051  \n43587940     -0.267636  \n...                ...  \n43588123           NaN  \n43588124           NaN  \n43588125           NaN  \n43588126           NaN  \n43588127           NaN  \n\n[192 rows x 14 columns]",
      "text/html": "<div>\n<style scoped>\n    .dataframe tbody tr th:only-of-type {\n        vertical-align: middle;\n    }\n\n    .dataframe tbody tr th {\n        vertical-align: top;\n    }\n\n    .dataframe thead th {\n        text-align: right;\n    }\n</style>\n<table border=\"1\" class=\"dataframe\">\n  <thead>\n    <tr style=\"text-align: right;\">\n      <th></th>\n      <th>stim_idx</th>\n      <th>image_idx</th>\n      <th>names</th>\n      <th>w_r</th>\n      <th>w_a</th>\n      <th>phase</th>\n      <th>class_idx</th>\n      <th>freq_lvl</th>\n      <th>voxel</th>\n      <th>task</th>\n      <th>betas</th>\n      <th>eccentricity</th>\n      <th>local_sf</th>\n      <th>normed_betas</th>\n    </tr>\n  </thead>\n  <tbody>\n    <tr>\n      <th>43587936</th>\n      <td>0</td>\n      <td>104</td>\n      <td>pinwheel</td>\n      <td>0.0</td>\n      <td>6.0</td>\n      <td>0.000000</td>\n      <td>0</td>\n      <td>0</td>\n      <td>194589</td>\n      <td>fixation</td>\n      <td>0.353333</td>\n      <td>2.336213</td>\n      <td>6.000000</td>\n      <td>-0.071187</td>\n    </tr>\n    <tr>\n      <th>43587937</th>\n      <td>0</td>\n      <td>104</td>\n      <td>pinwheel</td>\n      <td>0.0</td>\n      <td>6.0</td>\n      <td>0.000000</td>\n      <td>0</td>\n      <td>0</td>\n      <td>194589</td>\n      <td>memory</td>\n      <td>2.076667</td>\n      <td>2.336213</td>\n      <td>6.000000</td>\n      <td>0.468191</td>\n    </tr>\n    <tr>\n      <th>43587938</th>\n      <td>1</td>\n      <td>105</td>\n      <td>pinwheel</td>\n      <td>0.0</td>\n      <td>6.0</td>\n      <td>1.570796</td>\n      <td>0</td>\n      <td>0</td>\n      <td>194589</td>\n      <td>fixation</td>\n      <td>1.293333</td>\n      <td>2.336213</td>\n      <td>6.000000</td>\n      <td>-0.102673</td>\n    </tr>\n    <tr>\n      <th>43587939</th>\n      <td>1</td>\n      <td>105</td>\n      <td>pinwheel</td>\n      <td>0.0</td>\n      <td>6.0</td>\n      <td>1.570796</td>\n      <td>0</td>\n      <td>0</td>\n      <td>194589</td>\n      <td>memory</td>\n      <td>3.410000</td>\n      <td>2.336213</td>\n      <td>6.000000</td>\n      <td>0.898051</td>\n    </tr>\n    <tr>\n      <th>43587940</th>\n      <td>2</td>\n      <td>106</td>\n      <td>pinwheel</td>\n      <td>0.0</td>\n      <td>6.0</td>\n      <td>3.141593</td>\n      <td>0</td>\n      <td>0</td>\n      <td>194589</td>\n      <td>fixation</td>\n      <td>0.130000</td>\n      <td>2.336213</td>\n      <td>6.000000</td>\n      <td>-0.267636</td>\n    </tr>\n    <tr>\n      <th>...</th>\n      <td>...</td>\n      <td>...</td>\n      <td>...</td>\n      <td>...</td>\n      <td>...</td>\n      <td>...</td>\n      <td>...</td>\n      <td>...</td>\n      <td>...</td>\n      <td>...</td>\n      <td>...</td>\n      <td>...</td>\n      <td>...</td>\n      <td>...</td>\n    </tr>\n    <tr>\n      <th>43588123</th>\n      <td>93</td>\n      <td>197</td>\n      <td>reverse spiral</td>\n      <td>91.0</td>\n      <td>-91.0</td>\n      <td>1.570796</td>\n      <td>23</td>\n      <td>5</td>\n      <td>194589</td>\n      <td>memory</td>\n      <td>-1.493333</td>\n      <td>2.336213</td>\n      <td>128.693434</td>\n      <td>NaN</td>\n    </tr>\n    <tr>\n      <th>43588124</th>\n      <td>94</td>\n      <td>198</td>\n      <td>reverse spiral</td>\n      <td>91.0</td>\n      <td>-91.0</td>\n      <td>3.141593</td>\n      <td>23</td>\n      <td>5</td>\n      <td>194589</td>\n      <td>fixation</td>\n      <td>0.183333</td>\n      <td>2.336213</td>\n      <td>128.693434</td>\n      <td>NaN</td>\n    </tr>\n    <tr>\n      <th>43588125</th>\n      <td>94</td>\n      <td>198</td>\n      <td>reverse spiral</td>\n      <td>91.0</td>\n      <td>-91.0</td>\n      <td>3.141593</td>\n      <td>23</td>\n      <td>5</td>\n      <td>194589</td>\n      <td>memory</td>\n      <td>0.703333</td>\n      <td>2.336213</td>\n      <td>128.693434</td>\n      <td>NaN</td>\n    </tr>\n    <tr>\n      <th>43588126</th>\n      <td>95</td>\n      <td>199</td>\n      <td>reverse spiral</td>\n      <td>91.0</td>\n      <td>-91.0</td>\n      <td>4.712389</td>\n      <td>23</td>\n      <td>5</td>\n      <td>194589</td>\n      <td>fixation</td>\n      <td>0.000000</td>\n      <td>2.336213</td>\n      <td>128.693434</td>\n      <td>NaN</td>\n    </tr>\n    <tr>\n      <th>43588127</th>\n      <td>95</td>\n      <td>199</td>\n      <td>reverse spiral</td>\n      <td>91.0</td>\n      <td>-91.0</td>\n      <td>4.712389</td>\n      <td>23</td>\n      <td>5</td>\n      <td>194589</td>\n      <td>memory</td>\n      <td>0.620000</td>\n      <td>2.336213</td>\n      <td>128.693434</td>\n      <td>NaN</td>\n    </tr>\n  </tbody>\n</table>\n<p>192 rows × 14 columns</p>\n</div>"
     },
     "execution_count": 135,
     "metadata": {},
     "output_type": "execute_result"
    }
   ],
   "source": [
    "betas_df['normed_betas'] = bts.normalize_betas_by_frequency_magnitude(betas_df, betas='betas', freq_lvl='freq_lvl')\n",
    "betas_df.query('voxel == 194589')"
   ],
   "metadata": {
    "collapsed": false,
    "pycharm": {
     "name": "#%%\n"
    }
   }
  },
  {
   "cell_type": "code",
   "execution_count": 168,
   "outputs": [
    {
     "data": {
      "text/plain": "      voxel     betas    length  normed_betas\n0    194589  0.353333  0.591375      0.597477\n1    194589  2.076667  0.591375      3.511589\n2    194589  1.293333  0.591375      2.186993\n3    194589  3.410000  0.591375      5.766221\n4    194589  0.130000  0.591375      0.219827\n..      ...       ...       ...           ...\n187  194589 -1.493333  0.591375     -2.525187\n188  194589  0.183333  0.591375      0.310012\n189  194589  0.703333  0.591375      1.189318\n190  194589  0.000000  0.591375      0.000000\n191  194589  0.620000  0.591375      1.048404\n\n[192 rows x 4 columns]",
      "text/html": "<div>\n<style scoped>\n    .dataframe tbody tr th:only-of-type {\n        vertical-align: middle;\n    }\n\n    .dataframe tbody tr th {\n        vertical-align: top;\n    }\n\n    .dataframe thead th {\n        text-align: right;\n    }\n</style>\n<table border=\"1\" class=\"dataframe\">\n  <thead>\n    <tr style=\"text-align: right;\">\n      <th></th>\n      <th>voxel</th>\n      <th>betas</th>\n      <th>length</th>\n      <th>normed_betas</th>\n    </tr>\n  </thead>\n  <tbody>\n    <tr>\n      <th>0</th>\n      <td>194589</td>\n      <td>0.353333</td>\n      <td>0.591375</td>\n      <td>0.597477</td>\n    </tr>\n    <tr>\n      <th>1</th>\n      <td>194589</td>\n      <td>2.076667</td>\n      <td>0.591375</td>\n      <td>3.511589</td>\n    </tr>\n    <tr>\n      <th>2</th>\n      <td>194589</td>\n      <td>1.293333</td>\n      <td>0.591375</td>\n      <td>2.186993</td>\n    </tr>\n    <tr>\n      <th>3</th>\n      <td>194589</td>\n      <td>3.410000</td>\n      <td>0.591375</td>\n      <td>5.766221</td>\n    </tr>\n    <tr>\n      <th>4</th>\n      <td>194589</td>\n      <td>0.130000</td>\n      <td>0.591375</td>\n      <td>0.219827</td>\n    </tr>\n    <tr>\n      <th>...</th>\n      <td>...</td>\n      <td>...</td>\n      <td>...</td>\n      <td>...</td>\n    </tr>\n    <tr>\n      <th>187</th>\n      <td>194589</td>\n      <td>-1.493333</td>\n      <td>0.591375</td>\n      <td>-2.525187</td>\n    </tr>\n    <tr>\n      <th>188</th>\n      <td>194589</td>\n      <td>0.183333</td>\n      <td>0.591375</td>\n      <td>0.310012</td>\n    </tr>\n    <tr>\n      <th>189</th>\n      <td>194589</td>\n      <td>0.703333</td>\n      <td>0.591375</td>\n      <td>1.189318</td>\n    </tr>\n    <tr>\n      <th>190</th>\n      <td>194589</td>\n      <td>0.000000</td>\n      <td>0.591375</td>\n      <td>0.000000</td>\n    </tr>\n    <tr>\n      <th>191</th>\n      <td>194589</td>\n      <td>0.620000</td>\n      <td>0.591375</td>\n      <td>1.048404</td>\n    </tr>\n  </tbody>\n</table>\n<p>192 rows × 4 columns</p>\n</div>"
     },
     "execution_count": 168,
     "metadata": {},
     "output_type": "execute_result"
    }
   ],
   "source": [
    "new_df = betas_df.query('voxel == 194589')\n",
    "a = bts.normalize_betas_by_frequency_magnitude(new_df, betas='betas', freq_lvl='freq_lvl')\n",
    "\n",
    "new_df_2 = pd.merge(new_df[['voxel','betas']], a, on='voxel')\n",
    "new_df_2['normed_betas'] = np.divide(new_df_2['betas'], new_df_2['length'])\n",
    "new_df_2"
   ],
   "metadata": {
    "collapsed": false,
    "pycharm": {
     "name": "#%%\n"
    }
   }
  },
  {
   "cell_type": "code",
   "execution_count": 171,
   "outputs": [],
   "source": [
    "betas_df = bts.normalize_betas_by_frequency_magnitude(betas_df, betas='betas', freq_lvl='freq_lvl')"
   ],
   "metadata": {
    "collapsed": false,
    "pycharm": {
     "name": "#%%\n"
    }
   }
  },
  {
   "cell_type": "code",
   "execution_count": 117,
   "outputs": [],
   "source": [
    "tmp_df = betas_df.query('194587 < voxel < 194590')\n",
    "tmp = tmp_df.groupby(['voxel', 'freq_lvl'])['betas'].mean().reset_index()\n",
    "tmp = tmp.pivot('voxel', 'freq_lvl', 'betas')\n",
    "length = np.linalg.norm(tmp, axis=1, keepdims=True)\n",
    "length = np.concatenate((tmp.index.to_numpy().reshape(-1,1), length), axis=1)"
   ],
   "metadata": {
    "collapsed": false,
    "pycharm": {
     "name": "#%%\n"
    }
   }
  },
  {
   "cell_type": "markdown",
   "source": [
    "# Get sigma_v for each voxel and map it in mgz"
   ],
   "metadata": {
    "collapsed": false
   }
  },
  {
   "cell_type": "code",
   "execution_count": 172,
   "metadata": {
    "pycharm": {
     "name": "#%%\n"
    }
   },
   "outputs": [],
   "source": [
    "sigma_v = bts.get_sigma_v_for_whole_brain(betas_df, betas='normed_betas')"
   ]
  },
  {
   "cell_type": "code",
   "execution_count": 12,
   "metadata": {
    "pycharm": {
     "name": "#%%\n"
    }
   },
   "outputs": [
    {
     "data": {
      "text/plain": [
       "<nibabel.freesurfer.mghformat.MGHImage at 0x7fc7b8b4cf10>"
      ]
     },
     "execution_count": 12,
     "metadata": {},
     "output_type": "execute_result"
    }
   ],
   "source": [
    "map_values_as_mgz(eccentricity_path, 1/sigma_v,         save_path=f'/Volumes/server/Projects/sfp_nsd/derivatives/sfp_maps/mgzs/nsdsyn/{hemi}.sub-{subj}_value-precision.mgz')"
   ]
  },
  {
   "cell_type": "markdown",
   "metadata": {
    "pycharm": {
     "name": "#%% md\n"
    }
   },
   "source": [
    "# Plot precision maps"
   ]
  },
  {
   "cell_type": "code",
   "execution_count": 22,
   "metadata": {
    "pycharm": {
     "name": "#%%\n"
    }
   },
   "outputs": [],
   "source": [
    "import neuropythy as ny\n",
    "import ipyvolume as ipv\n",
    "\n",
    "%gui qt\n",
    "ny.config['freesurfer_subject_paths'] = '/Volumes/server/Projects/sfp_nsd/natural-scenes-dataset/nsddata/freesurfer'"
   ]
  },
  {
   "cell_type": "code",
   "execution_count": 19,
   "metadata": {
    "pycharm": {
     "name": "#%%\n"
    }
   },
   "outputs": [
    {
     "ename": "RuntimeError",
     "evalue": "load failure: the requested object could not be loaded, probably because you do not have ipyvolume installed correctly",
     "output_type": "error",
     "traceback": [
      "\u001B[0;31m---------------------------------------------------------------------------\u001B[0m",
      "\u001B[0;31mRuntimeError\u001B[0m                              Traceback (most recent call last)",
      "\u001B[0;32m/var/folders/dc/rp0klyw131l30jr45p7_7gnnnl2r2_/T/ipykernel_25002/59675570.py\u001B[0m in \u001B[0;36m<module>\u001B[0;34m\u001B[0m\n\u001B[1;32m      1\u001B[0m \u001B[0msub\u001B[0m \u001B[0;34m=\u001B[0m \u001B[0mny\u001B[0m\u001B[0;34m.\u001B[0m\u001B[0mfreesurfer_subject\u001B[0m\u001B[0;34m(\u001B[0m\u001B[0;34m'/Volumes/server/Projects/sfp_nsd/natural-scenes-dataset/nsddata/freesurfer/subj01'\u001B[0m\u001B[0;34m)\u001B[0m\u001B[0;34m\u001B[0m\u001B[0;34m\u001B[0m\u001B[0m\n\u001B[1;32m      2\u001B[0m \u001B[0msurf\u001B[0m \u001B[0;34m=\u001B[0m \u001B[0msub\u001B[0m\u001B[0;34m.\u001B[0m\u001B[0mlh\u001B[0m\u001B[0;34m.\u001B[0m\u001B[0msurface\u001B[0m\u001B[0;34m(\u001B[0m\u001B[0;34m'pial'\u001B[0m\u001B[0;34m)\u001B[0m\u001B[0;34m\u001B[0m\u001B[0;34m\u001B[0m\u001B[0m\n\u001B[0;32m----> 3\u001B[0;31m \u001B[0mny\u001B[0m\u001B[0;34m.\u001B[0m\u001B[0mcortex_plot\u001B[0m\u001B[0;34m(\u001B[0m\u001B[0msurf\u001B[0m\u001B[0;34m,\u001B[0m \u001B[0mcolor\u001B[0m\u001B[0;34m=\u001B[0m\u001B[0;34m'thickness'\u001B[0m\u001B[0;34m,\u001B[0m \u001B[0mcmap\u001B[0m\u001B[0;34m=\u001B[0m\u001B[0;34m'hot'\u001B[0m\u001B[0;34m,\u001B[0m \u001B[0mvmin\u001B[0m\u001B[0;34m=\u001B[0m\u001B[0;36m2\u001B[0m\u001B[0;34m,\u001B[0m \u001B[0mvmax\u001B[0m\u001B[0;34m=\u001B[0m\u001B[0;36m6\u001B[0m\u001B[0;34m)\u001B[0m\u001B[0;34m\u001B[0m\u001B[0;34m\u001B[0m\u001B[0m\n\u001B[0m",
      "\u001B[0;32m~/opt/miniconda3/envs/sfp/lib/python3.7/site-packages/neuropythy/graphics/core.py\u001B[0m in \u001B[0;36mcortex_plot\u001B[0;34m(mesh, *args, **opts)\u001B[0m\n\u001B[1;32m   1378\u001B[0m     \u001B[0;32mif\u001B[0m \u001B[0;32mnot\u001B[0m \u001B[0misinstance\u001B[0m\u001B[0;34m(\u001B[0m\u001B[0mmesh\u001B[0m\u001B[0;34m,\u001B[0m \u001B[0mgeo\u001B[0m\u001B[0;34m.\u001B[0m\u001B[0mMesh\u001B[0m\u001B[0;34m)\u001B[0m \u001B[0;32mor\u001B[0m \u001B[0mmesh\u001B[0m\u001B[0;34m.\u001B[0m\u001B[0mcoordinates\u001B[0m\u001B[0;34m.\u001B[0m\u001B[0mshape\u001B[0m\u001B[0;34m[\u001B[0m\u001B[0;36m0\u001B[0m\u001B[0;34m]\u001B[0m \u001B[0;34m>\u001B[0m \u001B[0;36m2\u001B[0m\u001B[0;34m:\u001B[0m\u001B[0;34m\u001B[0m\u001B[0;34m\u001B[0m\u001B[0m\n\u001B[1;32m   1379\u001B[0m         \u001B[0;31m# must be a 3D call\u001B[0m\u001B[0;34m\u001B[0m\u001B[0;34m\u001B[0m\u001B[0;34m\u001B[0m\u001B[0m\n\u001B[0;32m-> 1380\u001B[0;31m         \u001B[0;32mreturn\u001B[0m \u001B[0mcortex_plot_3D\u001B[0m\u001B[0;34m(\u001B[0m\u001B[0mmesh\u001B[0m\u001B[0;34m,\u001B[0m \u001B[0;34m*\u001B[0m\u001B[0margs\u001B[0m\u001B[0;34m,\u001B[0m \u001B[0;34m**\u001B[0m\u001B[0mopts\u001B[0m\u001B[0;34m)\u001B[0m\u001B[0;34m\u001B[0m\u001B[0;34m\u001B[0m\u001B[0m\n\u001B[0m\u001B[1;32m   1381\u001B[0m     \u001B[0;32melse\u001B[0m\u001B[0;34m:\u001B[0m\u001B[0;34m\u001B[0m\u001B[0;34m\u001B[0m\u001B[0m\n\u001B[1;32m   1382\u001B[0m         \u001B[0;32mreturn\u001B[0m \u001B[0mcortex_plot_2D\u001B[0m\u001B[0;34m(\u001B[0m\u001B[0mmesh\u001B[0m\u001B[0;34m,\u001B[0m \u001B[0;34m*\u001B[0m\u001B[0margs\u001B[0m\u001B[0;34m,\u001B[0m \u001B[0;34m**\u001B[0m\u001B[0mopts\u001B[0m\u001B[0;34m)\u001B[0m\u001B[0;34m\u001B[0m\u001B[0;34m\u001B[0m\u001B[0m\n",
      "\u001B[0;32m~/opt/miniconda3/envs/sfp/lib/python3.7/site-packages/neuropythy/graphics/core.py\u001B[0m in \u001B[0;36m_ipyvolume_load_error\u001B[0;34m(*args, **kwargs)\u001B[0m\n\u001B[1;32m   1156\u001B[0m \u001B[0;31m# If we're using Python 2, we're compatible with pysurfer:\u001B[0m\u001B[0;34m\u001B[0m\u001B[0;34m\u001B[0m\u001B[0;34m\u001B[0m\u001B[0m\n\u001B[1;32m   1157\u001B[0m \u001B[0;32mdef\u001B[0m \u001B[0m_ipyvolume_load_error\u001B[0m\u001B[0;34m(\u001B[0m\u001B[0;34m*\u001B[0m\u001B[0margs\u001B[0m\u001B[0;34m,\u001B[0m \u001B[0;34m**\u001B[0m\u001B[0mkwargs\u001B[0m\u001B[0;34m)\u001B[0m\u001B[0;34m:\u001B[0m\u001B[0;34m\u001B[0m\u001B[0;34m\u001B[0m\u001B[0m\n\u001B[0;32m-> 1158\u001B[0;31m     raise RuntimeError('load failure: the requested object could not be loaded, probably ' +\n\u001B[0m\u001B[1;32m   1159\u001B[0m                        'because you do not have ipyvolume installed correctly')\n\u001B[1;32m   1160\u001B[0m \u001B[0mcortex_plot_3D\u001B[0m \u001B[0;34m=\u001B[0m \u001B[0m_ipyvolume_load_error\u001B[0m\u001B[0;34m\u001B[0m\u001B[0;34m\u001B[0m\u001B[0m\n",
      "\u001B[0;31mRuntimeError\u001B[0m: load failure: the requested object could not be loaded, probably because you do not have ipyvolume installed correctly"
     ]
    }
   ],
   "source": [
    "sub = ny.freesurfer_subject('/Volumes/server/Projects/sfp_nsd/natural-scenes-dataset/nsddata/freesurfer/subj01')\n",
    "surf = sub.lh.surface('pial')\n",
    "ny.cortex_plot(surf, color='thickness', cmap='hot', vmin=2, vmax=6)"
   ]
  },
  {
   "cell_type": "code",
   "execution_count": null,
   "metadata": {
    "pycharm": {
     "name": "#%%\n"
    }
   },
   "outputs": [],
   "source": []
  }
 ],
 "metadata": {
  "kernelspec": {
   "display_name": "Python 3 (ipykernel)",
   "language": "python",
   "name": "python3"
  },
  "language_info": {
   "codemirror_mode": {
    "name": "ipython",
    "version": 3
   },
   "file_extension": ".py",
   "mimetype": "text/x-python",
   "name": "python",
   "nbconvert_exporter": "python",
   "pygments_lexer": "ipython3",
   "version": "3.7.12"
  }
 },
 "nbformat": 4,
 "nbformat_minor": 1
}
