{
 "cells": [
  {
   "cell_type": "code",
   "execution_count": 1,
   "metadata": {
    "collapsed": true,
    "ExecuteTime": {
     "start_time": "2023-05-01T22:26:25.157482Z",
     "end_time": "2023-05-01T22:26:25.161955Z"
    }
   },
   "outputs": [],
   "source": [
    "import sys\n",
    "sys.path.append('..')\n",
    "import os\n",
    "import pandas as pd\n",
    "import numpy as np\n",
    "import matplotlib.pyplot as plt\n",
    "import seaborn as sns\n",
    "from sfp_nsdsyn import *\n",
    "import warnings\n",
    "import itertools\n",
    "warnings.filterwarnings(\"ignore\", category=UserWarning)\n",
    "pd.options.mode.chained_assignment = None\n",
    "%load_ext autoreload\n",
    "%autoreload 2"
   ]
  },
  {
   "cell_type": "code",
   "execution_count": 6,
   "outputs": [],
   "source": [
    "output_dir='/Volumes/server/Projects/sfp_nsd/derivatives'\n",
    "dset='nsdsyn'\n",
    "subj='subj01'\n",
    "roi='V1'\n",
    "vs='pRFsize'"
   ],
   "metadata": {
    "collapsed": false,
    "ExecuteTime": {
     "start_time": "2023-05-01T22:28:23.107815Z",
     "end_time": "2023-05-01T22:28:23.107951Z"
    }
   }
  },
  {
   "cell_type": "code",
   "execution_count": 7,
   "outputs": [
    {
     "data": {
      "text/plain": "   stim_idx  image_idx     names  w_r  w_a  phase  class_idx  freq_lvl  voxel  \\\n0         0        104  pinwheel  0.0  6.0    0.0          0         0     10   \n1         0        104  pinwheel  0.0  6.0    0.0          0         0     11   \n2         0        104  pinwheel  0.0  6.0    0.0          0         0     12   \n3         0        104  pinwheel  0.0  6.0    0.0          0         0     16   \n4         0        104  pinwheel  0.0  6.0    0.0          0         0     17   \n\n  task  ...  eccentricity     angle      size  visualrois  vroinames eccrois  \\\n0  avg  ...      1.556064  5.030775  0.971252         2.0         V1     3.0   \n1  avg  ...      1.302301  4.925383  0.693124         2.0         V1     3.0   \n2  avg  ...      1.081738  4.781199  0.559847         2.0         V1     3.0   \n3  avg  ...      1.473532  4.971115  0.963097         2.0         V1     3.0   \n4  avg  ...      1.495256  5.002201  0.945766         2.0         V1     3.0   \n\n   local_sf  local_ori  hemi     sub  \n0  0.613683   0.318386    lh  subj01  \n1  0.733263   0.212994    lh  subj01  \n2  0.882773   0.068810    lh  subj01  \n3  0.648055   0.258726    lh  subj01  \n4  0.638639   0.289812    lh  subj01  \n\n[5 rows x 21 columns]",
      "text/html": "<div>\n<style scoped>\n    .dataframe tbody tr th:only-of-type {\n        vertical-align: middle;\n    }\n\n    .dataframe tbody tr th {\n        vertical-align: top;\n    }\n\n    .dataframe thead th {\n        text-align: right;\n    }\n</style>\n<table border=\"1\" class=\"dataframe\">\n  <thead>\n    <tr style=\"text-align: right;\">\n      <th></th>\n      <th>stim_idx</th>\n      <th>image_idx</th>\n      <th>names</th>\n      <th>w_r</th>\n      <th>w_a</th>\n      <th>phase</th>\n      <th>class_idx</th>\n      <th>freq_lvl</th>\n      <th>voxel</th>\n      <th>task</th>\n      <th>...</th>\n      <th>eccentricity</th>\n      <th>angle</th>\n      <th>size</th>\n      <th>visualrois</th>\n      <th>vroinames</th>\n      <th>eccrois</th>\n      <th>local_sf</th>\n      <th>local_ori</th>\n      <th>hemi</th>\n      <th>sub</th>\n    </tr>\n  </thead>\n  <tbody>\n    <tr>\n      <th>0</th>\n      <td>0</td>\n      <td>104</td>\n      <td>pinwheel</td>\n      <td>0.0</td>\n      <td>6.0</td>\n      <td>0.0</td>\n      <td>0</td>\n      <td>0</td>\n      <td>10</td>\n      <td>avg</td>\n      <td>...</td>\n      <td>1.556064</td>\n      <td>5.030775</td>\n      <td>0.971252</td>\n      <td>2.0</td>\n      <td>V1</td>\n      <td>3.0</td>\n      <td>0.613683</td>\n      <td>0.318386</td>\n      <td>lh</td>\n      <td>subj01</td>\n    </tr>\n    <tr>\n      <th>1</th>\n      <td>0</td>\n      <td>104</td>\n      <td>pinwheel</td>\n      <td>0.0</td>\n      <td>6.0</td>\n      <td>0.0</td>\n      <td>0</td>\n      <td>0</td>\n      <td>11</td>\n      <td>avg</td>\n      <td>...</td>\n      <td>1.302301</td>\n      <td>4.925383</td>\n      <td>0.693124</td>\n      <td>2.0</td>\n      <td>V1</td>\n      <td>3.0</td>\n      <td>0.733263</td>\n      <td>0.212994</td>\n      <td>lh</td>\n      <td>subj01</td>\n    </tr>\n    <tr>\n      <th>2</th>\n      <td>0</td>\n      <td>104</td>\n      <td>pinwheel</td>\n      <td>0.0</td>\n      <td>6.0</td>\n      <td>0.0</td>\n      <td>0</td>\n      <td>0</td>\n      <td>12</td>\n      <td>avg</td>\n      <td>...</td>\n      <td>1.081738</td>\n      <td>4.781199</td>\n      <td>0.559847</td>\n      <td>2.0</td>\n      <td>V1</td>\n      <td>3.0</td>\n      <td>0.882773</td>\n      <td>0.068810</td>\n      <td>lh</td>\n      <td>subj01</td>\n    </tr>\n    <tr>\n      <th>3</th>\n      <td>0</td>\n      <td>104</td>\n      <td>pinwheel</td>\n      <td>0.0</td>\n      <td>6.0</td>\n      <td>0.0</td>\n      <td>0</td>\n      <td>0</td>\n      <td>16</td>\n      <td>avg</td>\n      <td>...</td>\n      <td>1.473532</td>\n      <td>4.971115</td>\n      <td>0.963097</td>\n      <td>2.0</td>\n      <td>V1</td>\n      <td>3.0</td>\n      <td>0.648055</td>\n      <td>0.258726</td>\n      <td>lh</td>\n      <td>subj01</td>\n    </tr>\n    <tr>\n      <th>4</th>\n      <td>0</td>\n      <td>104</td>\n      <td>pinwheel</td>\n      <td>0.0</td>\n      <td>6.0</td>\n      <td>0.0</td>\n      <td>0</td>\n      <td>0</td>\n      <td>17</td>\n      <td>avg</td>\n      <td>...</td>\n      <td>1.495256</td>\n      <td>5.002201</td>\n      <td>0.945766</td>\n      <td>2.0</td>\n      <td>V1</td>\n      <td>3.0</td>\n      <td>0.638639</td>\n      <td>0.289812</td>\n      <td>lh</td>\n      <td>subj01</td>\n    </tr>\n  </tbody>\n</table>\n<p>5 rows × 21 columns</p>\n</div>"
     },
     "execution_count": 7,
     "metadata": {},
     "output_type": "execute_result"
    }
   ],
   "source": [
    "subj_df_path = os.path.join(output_dir, 'dataframes', dset, f'dset-{dset}_sub-{subj}_roi-{roi}_vs-{vs}.csv')\n",
    "subj_df = pd.read_csv(subj_df_path)\n",
    "subj_df.head()"
   ],
   "metadata": {
    "collapsed": false,
    "ExecuteTime": {
     "start_time": "2023-05-01T22:29:00.242385Z",
     "end_time": "2023-05-01T22:29:00.242459Z"
    }
   }
  },
  {
   "cell_type": "code",
   "execution_count": 10,
   "outputs": [
    {
     "data": {
      "text/plain": "      sub  voxel vroinames  noise_SD  sigma_v_squared\n0  subj01     10        V1  0.586458         0.409426\n1  subj01     11        V1  0.438531         0.223560\n2  subj01     12        V1  0.480373         0.264642\n3  subj01     16        V1  0.718100         0.606524\n4  subj01     17        V1  0.613964         0.451716",
      "text/html": "<div>\n<style scoped>\n    .dataframe tbody tr th:only-of-type {\n        vertical-align: middle;\n    }\n\n    .dataframe tbody tr th {\n        vertical-align: top;\n    }\n\n    .dataframe thead th {\n        text-align: right;\n    }\n</style>\n<table border=\"1\" class=\"dataframe\">\n  <thead>\n    <tr style=\"text-align: right;\">\n      <th></th>\n      <th>sub</th>\n      <th>voxel</th>\n      <th>vroinames</th>\n      <th>noise_SD</th>\n      <th>sigma_v_squared</th>\n    </tr>\n  </thead>\n  <tbody>\n    <tr>\n      <th>0</th>\n      <td>subj01</td>\n      <td>10</td>\n      <td>V1</td>\n      <td>0.586458</td>\n      <td>0.409426</td>\n    </tr>\n    <tr>\n      <th>1</th>\n      <td>subj01</td>\n      <td>11</td>\n      <td>V1</td>\n      <td>0.438531</td>\n      <td>0.223560</td>\n    </tr>\n    <tr>\n      <th>2</th>\n      <td>subj01</td>\n      <td>12</td>\n      <td>V1</td>\n      <td>0.480373</td>\n      <td>0.264642</td>\n    </tr>\n    <tr>\n      <th>3</th>\n      <td>subj01</td>\n      <td>16</td>\n      <td>V1</td>\n      <td>0.718100</td>\n      <td>0.606524</td>\n    </tr>\n    <tr>\n      <th>4</th>\n      <td>subj01</td>\n      <td>17</td>\n      <td>V1</td>\n      <td>0.613964</td>\n      <td>0.451716</td>\n    </tr>\n  </tbody>\n</table>\n</div>"
     },
     "execution_count": 10,
     "metadata": {},
     "output_type": "execute_result"
    }
   ],
   "source": [
    "precision_path = os.path.join(output_dir, 'dataframes', dset, 'precision', f'precision-v_dset-{dset}_sub-{subj}_roi-{roi}_vs-{vs}.csv')\n",
    "precision_df = pd.read_csv(precision_path)\n",
    "precision_df.head()"
   ],
   "metadata": {
    "collapsed": false,
    "ExecuteTime": {
     "start_time": "2023-05-01T22:29:25.103110Z",
     "end_time": "2023-05-01T22:29:25.103249Z"
    }
   }
  },
  {
   "cell_type": "code",
   "execution_count": 14,
   "outputs": [],
   "source": [
    "df = subj_df.merge(precision_df, on=['sub','voxel','vroinames'])"
   ],
   "metadata": {
    "collapsed": false
   }
  },
  {
   "cell_type": "code",
   "execution_count": 37,
   "outputs": [],
   "source": [
    "w_avg = df.groupby(['sub', 'voxel', 'class_idx', 'vroinames']).mean().reset_index()"
   ],
   "metadata": {
    "collapsed": false,
    "pycharm": {
     "name": "#%%\n"
    }
   }
  },
  {
   "cell_type": "code",
   "execution_count": 56,
   "outputs": [],
   "source": [
    "pt_path = '/Volumes/server/Projects/sfp_nsd/derivatives/sfp_model/results_2D/test3.pt'"
   ],
   "metadata": {
    "collapsed": false,
    "pycharm": {
     "name": "#%%\n"
    }
   }
  },
  {
   "cell_type": "code",
   "execution_count": 38,
   "outputs": [
    {
     "data": {
      "text/plain": "class_idx        0         1         2         3         4         5   \\\nvoxel                                                                   \n10         0.318386  0.318386  0.318386  0.318386  0.318386  0.318386   \n11         0.212994  0.212994  0.212994  0.212994  0.212994  0.212994   \n12         0.068810  0.068810  0.068810  0.068810  0.068810  0.068810   \n16         0.258726  0.258726  0.258726  0.258726  0.258726  0.258726   \n17         0.289812  0.289812  0.289812  0.289812  0.289812  0.289812   \n...             ...       ...       ...       ...       ...       ...   \n7086       0.309419  0.309419  0.309419  0.309419  0.309419  0.309419   \n7087       0.270359  0.270359  0.270359  0.270359  0.270359  0.270359   \n7089       0.271274  0.271274  0.271274  0.271274  0.271274  0.271274   \n7090       0.276253  0.276253  0.276253  0.276253  0.276253  0.276253   \n7091       0.296889  0.296889  0.296889  0.296889  0.296889  0.296889   \n\nclass_idx        6         7         8         9   ...        18        19  \\\nvoxel                                              ...                       \n10         2.674580  2.674580  2.674580  2.674580  ...  1.103784  1.103784   \n11         2.569189  2.569189  2.569189  2.569189  ...  0.998392  0.998392   \n12         2.425005  2.425005  2.425005  2.425005  ...  0.854208  0.854208   \n16         2.614921  2.614921  2.614921  2.614921  ...  1.044124  1.044124   \n17         2.646006  2.646006  2.646006  2.646006  ...  1.075210  1.075210   \n...             ...       ...       ...       ...  ...       ...       ...   \n7086       2.665613  2.665613  2.665613  2.665613  ...  1.094817  1.094817   \n7087       2.626553  2.626553  2.626553  2.626553  ...  1.055757  1.055757   \n7089       2.627468  2.627468  2.627468  2.627468  ...  1.056672  1.056672   \n7090       2.632448  2.632448  2.632448  2.632448  ...  1.061652  1.061652   \n7091       2.653083  2.653083  2.653083  2.653083  ...  1.082287  1.082287   \n\nclass_idx        20        21        22        23        24        25  \\\nvoxel                                                                   \n10         1.103784  1.103784  1.103784  1.103784  3.069371  2.279789   \n11         0.998392  0.998392  0.998392  0.998392  2.963980  2.174398   \n12         0.854208  0.854208  0.854208  0.854208  2.819796  2.030214   \n16         1.044124  1.044124  1.044124  1.044124  3.009712  2.220129   \n17         1.075210  1.075210  1.075210  1.075210  3.040797  2.251215   \n...             ...       ...       ...       ...       ...       ...   \n7086       1.094817  1.094817  1.094817  1.094817  3.060404  2.270822   \n7087       1.055757  1.055757  1.055757  1.055757  3.021344  2.231762   \n7089       1.056672  1.056672  1.056672  1.056672  3.022260  2.232677   \n7090       1.061652  1.061652  1.061652  1.061652  3.027239  2.237657   \n7091       1.082287  1.082287  1.082287  1.082287  3.047874  2.258292   \n\nclass_idx        26        27  \nvoxel                          \n10         1.498575  0.708993  \n11         1.393184  0.603601  \n12         1.249000  0.459417  \n16         1.438915  0.649333  \n17         1.470001  0.680419  \n...             ...       ...  \n7086       1.489608  0.700026  \n7087       1.450548  0.660966  \n7089       1.451463  0.661881  \n7090       1.456443  0.666860  \n7091       1.477078  0.687496  \n\n[2308 rows x 28 columns]",
      "text/html": "<div>\n<style scoped>\n    .dataframe tbody tr th:only-of-type {\n        vertical-align: middle;\n    }\n\n    .dataframe tbody tr th {\n        vertical-align: top;\n    }\n\n    .dataframe thead th {\n        text-align: right;\n    }\n</style>\n<table border=\"1\" class=\"dataframe\">\n  <thead>\n    <tr style=\"text-align: right;\">\n      <th>class_idx</th>\n      <th>0</th>\n      <th>1</th>\n      <th>2</th>\n      <th>3</th>\n      <th>4</th>\n      <th>5</th>\n      <th>6</th>\n      <th>7</th>\n      <th>8</th>\n      <th>9</th>\n      <th>...</th>\n      <th>18</th>\n      <th>19</th>\n      <th>20</th>\n      <th>21</th>\n      <th>22</th>\n      <th>23</th>\n      <th>24</th>\n      <th>25</th>\n      <th>26</th>\n      <th>27</th>\n    </tr>\n    <tr>\n      <th>voxel</th>\n      <th></th>\n      <th></th>\n      <th></th>\n      <th></th>\n      <th></th>\n      <th></th>\n      <th></th>\n      <th></th>\n      <th></th>\n      <th></th>\n      <th></th>\n      <th></th>\n      <th></th>\n      <th></th>\n      <th></th>\n      <th></th>\n      <th></th>\n      <th></th>\n      <th></th>\n      <th></th>\n      <th></th>\n    </tr>\n  </thead>\n  <tbody>\n    <tr>\n      <th>10</th>\n      <td>0.318386</td>\n      <td>0.318386</td>\n      <td>0.318386</td>\n      <td>0.318386</td>\n      <td>0.318386</td>\n      <td>0.318386</td>\n      <td>2.674580</td>\n      <td>2.674580</td>\n      <td>2.674580</td>\n      <td>2.674580</td>\n      <td>...</td>\n      <td>1.103784</td>\n      <td>1.103784</td>\n      <td>1.103784</td>\n      <td>1.103784</td>\n      <td>1.103784</td>\n      <td>1.103784</td>\n      <td>3.069371</td>\n      <td>2.279789</td>\n      <td>1.498575</td>\n      <td>0.708993</td>\n    </tr>\n    <tr>\n      <th>11</th>\n      <td>0.212994</td>\n      <td>0.212994</td>\n      <td>0.212994</td>\n      <td>0.212994</td>\n      <td>0.212994</td>\n      <td>0.212994</td>\n      <td>2.569189</td>\n      <td>2.569189</td>\n      <td>2.569189</td>\n      <td>2.569189</td>\n      <td>...</td>\n      <td>0.998392</td>\n      <td>0.998392</td>\n      <td>0.998392</td>\n      <td>0.998392</td>\n      <td>0.998392</td>\n      <td>0.998392</td>\n      <td>2.963980</td>\n      <td>2.174398</td>\n      <td>1.393184</td>\n      <td>0.603601</td>\n    </tr>\n    <tr>\n      <th>12</th>\n      <td>0.068810</td>\n      <td>0.068810</td>\n      <td>0.068810</td>\n      <td>0.068810</td>\n      <td>0.068810</td>\n      <td>0.068810</td>\n      <td>2.425005</td>\n      <td>2.425005</td>\n      <td>2.425005</td>\n      <td>2.425005</td>\n      <td>...</td>\n      <td>0.854208</td>\n      <td>0.854208</td>\n      <td>0.854208</td>\n      <td>0.854208</td>\n      <td>0.854208</td>\n      <td>0.854208</td>\n      <td>2.819796</td>\n      <td>2.030214</td>\n      <td>1.249000</td>\n      <td>0.459417</td>\n    </tr>\n    <tr>\n      <th>16</th>\n      <td>0.258726</td>\n      <td>0.258726</td>\n      <td>0.258726</td>\n      <td>0.258726</td>\n      <td>0.258726</td>\n      <td>0.258726</td>\n      <td>2.614921</td>\n      <td>2.614921</td>\n      <td>2.614921</td>\n      <td>2.614921</td>\n      <td>...</td>\n      <td>1.044124</td>\n      <td>1.044124</td>\n      <td>1.044124</td>\n      <td>1.044124</td>\n      <td>1.044124</td>\n      <td>1.044124</td>\n      <td>3.009712</td>\n      <td>2.220129</td>\n      <td>1.438915</td>\n      <td>0.649333</td>\n    </tr>\n    <tr>\n      <th>17</th>\n      <td>0.289812</td>\n      <td>0.289812</td>\n      <td>0.289812</td>\n      <td>0.289812</td>\n      <td>0.289812</td>\n      <td>0.289812</td>\n      <td>2.646006</td>\n      <td>2.646006</td>\n      <td>2.646006</td>\n      <td>2.646006</td>\n      <td>...</td>\n      <td>1.075210</td>\n      <td>1.075210</td>\n      <td>1.075210</td>\n      <td>1.075210</td>\n      <td>1.075210</td>\n      <td>1.075210</td>\n      <td>3.040797</td>\n      <td>2.251215</td>\n      <td>1.470001</td>\n      <td>0.680419</td>\n    </tr>\n    <tr>\n      <th>...</th>\n      <td>...</td>\n      <td>...</td>\n      <td>...</td>\n      <td>...</td>\n      <td>...</td>\n      <td>...</td>\n      <td>...</td>\n      <td>...</td>\n      <td>...</td>\n      <td>...</td>\n      <td>...</td>\n      <td>...</td>\n      <td>...</td>\n      <td>...</td>\n      <td>...</td>\n      <td>...</td>\n      <td>...</td>\n      <td>...</td>\n      <td>...</td>\n      <td>...</td>\n      <td>...</td>\n    </tr>\n    <tr>\n      <th>7086</th>\n      <td>0.309419</td>\n      <td>0.309419</td>\n      <td>0.309419</td>\n      <td>0.309419</td>\n      <td>0.309419</td>\n      <td>0.309419</td>\n      <td>2.665613</td>\n      <td>2.665613</td>\n      <td>2.665613</td>\n      <td>2.665613</td>\n      <td>...</td>\n      <td>1.094817</td>\n      <td>1.094817</td>\n      <td>1.094817</td>\n      <td>1.094817</td>\n      <td>1.094817</td>\n      <td>1.094817</td>\n      <td>3.060404</td>\n      <td>2.270822</td>\n      <td>1.489608</td>\n      <td>0.700026</td>\n    </tr>\n    <tr>\n      <th>7087</th>\n      <td>0.270359</td>\n      <td>0.270359</td>\n      <td>0.270359</td>\n      <td>0.270359</td>\n      <td>0.270359</td>\n      <td>0.270359</td>\n      <td>2.626553</td>\n      <td>2.626553</td>\n      <td>2.626553</td>\n      <td>2.626553</td>\n      <td>...</td>\n      <td>1.055757</td>\n      <td>1.055757</td>\n      <td>1.055757</td>\n      <td>1.055757</td>\n      <td>1.055757</td>\n      <td>1.055757</td>\n      <td>3.021344</td>\n      <td>2.231762</td>\n      <td>1.450548</td>\n      <td>0.660966</td>\n    </tr>\n    <tr>\n      <th>7089</th>\n      <td>0.271274</td>\n      <td>0.271274</td>\n      <td>0.271274</td>\n      <td>0.271274</td>\n      <td>0.271274</td>\n      <td>0.271274</td>\n      <td>2.627468</td>\n      <td>2.627468</td>\n      <td>2.627468</td>\n      <td>2.627468</td>\n      <td>...</td>\n      <td>1.056672</td>\n      <td>1.056672</td>\n      <td>1.056672</td>\n      <td>1.056672</td>\n      <td>1.056672</td>\n      <td>1.056672</td>\n      <td>3.022260</td>\n      <td>2.232677</td>\n      <td>1.451463</td>\n      <td>0.661881</td>\n    </tr>\n    <tr>\n      <th>7090</th>\n      <td>0.276253</td>\n      <td>0.276253</td>\n      <td>0.276253</td>\n      <td>0.276253</td>\n      <td>0.276253</td>\n      <td>0.276253</td>\n      <td>2.632448</td>\n      <td>2.632448</td>\n      <td>2.632448</td>\n      <td>2.632448</td>\n      <td>...</td>\n      <td>1.061652</td>\n      <td>1.061652</td>\n      <td>1.061652</td>\n      <td>1.061652</td>\n      <td>1.061652</td>\n      <td>1.061652</td>\n      <td>3.027239</td>\n      <td>2.237657</td>\n      <td>1.456443</td>\n      <td>0.666860</td>\n    </tr>\n    <tr>\n      <th>7091</th>\n      <td>0.296889</td>\n      <td>0.296889</td>\n      <td>0.296889</td>\n      <td>0.296889</td>\n      <td>0.296889</td>\n      <td>0.296889</td>\n      <td>2.653083</td>\n      <td>2.653083</td>\n      <td>2.653083</td>\n      <td>2.653083</td>\n      <td>...</td>\n      <td>1.082287</td>\n      <td>1.082287</td>\n      <td>1.082287</td>\n      <td>1.082287</td>\n      <td>1.082287</td>\n      <td>1.082287</td>\n      <td>3.047874</td>\n      <td>2.258292</td>\n      <td>1.477078</td>\n      <td>0.687496</td>\n    </tr>\n  </tbody>\n</table>\n<p>2308 rows × 28 columns</p>\n</div>"
     },
     "execution_count": 38,
     "metadata": {},
     "output_type": "execute_result"
    }
   ],
   "source": [
    "w_avg.pivot('voxel', 'class_idx', 'local_ori')"
   ],
   "metadata": {
    "collapsed": false,
    "pycharm": {
     "name": "#%%\n"
    }
   }
  },
  {
   "cell_type": "code",
   "execution_count": 59,
   "outputs": [
    {
     "name": "stdout",
     "output_type": "stream",
     "text": [
      "**epoch no.0 loss: 0.129\n",
      "**epoch no.1 loss: 0.128\n",
      "**epoch no.2 loss: 0.128\n",
      "**epoch no.3: Finished! final model params...\n",
      " {'sigma': 0.0384337417781353, 'slope': 0.31463325023651123, 'intercept': 0.43112248182296753, 'p_1': 0.060593124479055405, 'p_2': 0.08446389436721802, 'p_3': 0.08890348672866821, 'p_4': 0.059790268540382385, 'A_1': 0.866459310054779, 'A_2': 0.883697509765625}\n",
      "Elapsed time: 0.07 sec\n"
     ]
    }
   ],
   "source": [
    "my_dataset = model.SpatialFrequencyDataset(w_avg, beta_col='betas')\n",
    "my_model = model.SpatialFrequencyModel(full_ver=True)\n",
    "loss_history, model_history, losses = model.fit_model(my_model, my_dataset,\n",
    "                                                      save_path=pt_path,\n",
    "                                                      learning_rate=0.001, max_epoch=3,\n",
    "                                                      print_every=1, loss_all_voxels=False)"
   ],
   "metadata": {
    "collapsed": false,
    "pycharm": {
     "name": "#%%\n"
    }
   }
  },
  {
   "cell_type": "code",
   "execution_count": 60,
   "outputs": [
    {
     "name": "stdout",
     "output_type": "stream",
     "text": [
      "sigma: Parameter containing:\n",
      "tensor([0.0394], requires_grad=True)\n",
      "slope: Parameter containing:\n",
      "tensor([0.3156], requires_grad=True)\n",
      "intercept: Parameter containing:\n",
      "tensor([0.4321], requires_grad=True)\n",
      "p_1: Parameter containing:\n",
      "tensor([0.0616], requires_grad=True)\n",
      "p_2: Parameter containing:\n",
      "tensor([0.0854], requires_grad=True)\n",
      "p_3: Parameter containing:\n",
      "tensor([0.0879], requires_grad=True)\n",
      "p_4: Parameter containing:\n",
      "tensor([0.0588], requires_grad=True)\n",
      "A_1: Parameter containing:\n",
      "tensor([0.8656], requires_grad=True)\n",
      "A_2: Parameter containing:\n",
      "tensor([0.8828], requires_grad=True)\n"
     ]
    }
   ],
   "source": [
    "import torch\n",
    "another_model = model.SpatialFrequencyModel(full_ver=True)\n",
    "another_model.load_state_dict(torch.load(pt_path))\n",
    "another_model.eval()\n",
    "for name, param in another_model.named_parameters():\n",
    "    print(f'{name}: {param}')"
   ],
   "metadata": {
    "collapsed": false,
    "pycharm": {
     "name": "#%%\n"
    }
   }
  },
  {
   "cell_type": "code",
   "execution_count": 41,
   "outputs": [
    {
     "data": {
      "text/plain": "   epoch      loss\n0      0  0.096106\n1      1  0.095947",
      "text/html": "<div>\n<style scoped>\n    .dataframe tbody tr th:only-of-type {\n        vertical-align: middle;\n    }\n\n    .dataframe tbody tr th {\n        vertical-align: top;\n    }\n\n    .dataframe thead th {\n        text-align: right;\n    }\n</style>\n<table border=\"1\" class=\"dataframe\">\n  <thead>\n    <tr style=\"text-align: right;\">\n      <th></th>\n      <th>epoch</th>\n      <th>loss</th>\n    </tr>\n  </thead>\n  <tbody>\n    <tr>\n      <th>0</th>\n      <td>0</td>\n      <td>0.096106</td>\n    </tr>\n    <tr>\n      <th>1</th>\n      <td>1</td>\n      <td>0.095947</td>\n    </tr>\n  </tbody>\n</table>\n</div>"
     },
     "execution_count": 41,
     "metadata": {},
     "output_type": "execute_result"
    }
   ],
   "source": [
    "loss_history"
   ],
   "metadata": {
    "collapsed": false,
    "pycharm": {
     "name": "#%%\n"
    }
   }
  },
  {
   "cell_type": "code",
   "execution_count": 42,
   "outputs": [
    {
     "data": {
      "text/plain": "   epoch     sigma     slope  intercept      p_1       p_2       p_3  \\\n0      0  0.619453  0.444037   0.691521  0.08782  0.044759  0.080649   \n1      1  0.620453  0.443037   0.690521  0.08682  0.043759  0.081649   \n\n        p_4       A_1       A_2  \n0  0.071719  0.294542  0.939823  \n1  0.072719  0.293542  0.938823  ",
      "text/html": "<div>\n<style scoped>\n    .dataframe tbody tr th:only-of-type {\n        vertical-align: middle;\n    }\n\n    .dataframe tbody tr th {\n        vertical-align: top;\n    }\n\n    .dataframe thead th {\n        text-align: right;\n    }\n</style>\n<table border=\"1\" class=\"dataframe\">\n  <thead>\n    <tr style=\"text-align: right;\">\n      <th></th>\n      <th>epoch</th>\n      <th>sigma</th>\n      <th>slope</th>\n      <th>intercept</th>\n      <th>p_1</th>\n      <th>p_2</th>\n      <th>p_3</th>\n      <th>p_4</th>\n      <th>A_1</th>\n      <th>A_2</th>\n    </tr>\n  </thead>\n  <tbody>\n    <tr>\n      <th>0</th>\n      <td>0</td>\n      <td>0.619453</td>\n      <td>0.444037</td>\n      <td>0.691521</td>\n      <td>0.08782</td>\n      <td>0.044759</td>\n      <td>0.080649</td>\n      <td>0.071719</td>\n      <td>0.294542</td>\n      <td>0.939823</td>\n    </tr>\n    <tr>\n      <th>1</th>\n      <td>1</td>\n      <td>0.620453</td>\n      <td>0.443037</td>\n      <td>0.690521</td>\n      <td>0.08682</td>\n      <td>0.043759</td>\n      <td>0.081649</td>\n      <td>0.072719</td>\n      <td>0.293542</td>\n      <td>0.938823</td>\n    </tr>\n  </tbody>\n</table>\n</div>"
     },
     "execution_count": 42,
     "metadata": {},
     "output_type": "execute_result"
    }
   ],
   "source": [
    "model_history"
   ],
   "metadata": {
    "collapsed": false,
    "pycharm": {
     "name": "#%%\n"
    }
   }
  },
  {
   "cell_type": "code",
   "execution_count": 69,
   "outputs": [],
   "source": [
    "old_file='/Volumes/server/Projects/sfp_nsd/derivatives/sfp_model/results_2D/model_history_dset-nsdsyn_bts-mean_full_ver-True_subj01_lr-0.0005_eph-20000_V1.h5'\n",
    "new_file='/Volumes/server/Projects/sfp_nsd/derivatives/sfp_model/results_2D/nsdsyn/model-history_lr-0.0005_eph-10000_dset-nsdsyn_sub-subj01_roi-V1_vs-pRFsize.h5'"
   ],
   "metadata": {
    "collapsed": false,
    "pycharm": {
     "name": "#%%\n"
    }
   }
  },
  {
   "cell_type": "code",
   "execution_count": 70,
   "outputs": [],
   "source": [
    "old_f = pd.read_hdf(old_file)\n",
    "new_f = pd.read_hdf(new_file)"
   ],
   "metadata": {
    "collapsed": false,
    "pycharm": {
     "name": "#%%\n"
    }
   }
  },
  {
   "cell_type": "code",
   "execution_count": 71,
   "outputs": [
    {
     "data": {
      "text/plain": "       epoch     sigma     slope  intercept       p_1       p_2       p_3  \\\n19999  19999  2.464081  0.139384   0.215651  0.028885 -0.020794 -0.262531   \n\n            p_4       A_1       A_2  \n19999 -0.014679  0.021958 -0.003817  ",
      "text/html": "<div>\n<style scoped>\n    .dataframe tbody tr th:only-of-type {\n        vertical-align: middle;\n    }\n\n    .dataframe tbody tr th {\n        vertical-align: top;\n    }\n\n    .dataframe thead th {\n        text-align: right;\n    }\n</style>\n<table border=\"1\" class=\"dataframe\">\n  <thead>\n    <tr style=\"text-align: right;\">\n      <th></th>\n      <th>epoch</th>\n      <th>sigma</th>\n      <th>slope</th>\n      <th>intercept</th>\n      <th>p_1</th>\n      <th>p_2</th>\n      <th>p_3</th>\n      <th>p_4</th>\n      <th>A_1</th>\n      <th>A_2</th>\n    </tr>\n  </thead>\n  <tbody>\n    <tr>\n      <th>19999</th>\n      <td>19999</td>\n      <td>2.464081</td>\n      <td>0.139384</td>\n      <td>0.215651</td>\n      <td>0.028885</td>\n      <td>-0.020794</td>\n      <td>-0.262531</td>\n      <td>-0.014679</td>\n      <td>0.021958</td>\n      <td>-0.003817</td>\n    </tr>\n  </tbody>\n</table>\n</div>"
     },
     "execution_count": 71,
     "metadata": {},
     "output_type": "execute_result"
    }
   ],
   "source": [
    "old_f.query('epoch == 19999')"
   ],
   "metadata": {
    "collapsed": false,
    "pycharm": {
     "name": "#%%\n"
    }
   }
  },
  {
   "cell_type": "code",
   "execution_count": 66,
   "outputs": [
    {
     "data": {
      "text/plain": "      epoch     sigma     slope  intercept      p_1       p_2       p_3  \\\n9999   9999  2.374602  0.146491   0.201589  0.02126 -0.020941 -0.254096   \n\n           p_4       A_1       A_2  \n9999 -0.015825  0.023916 -0.006775  ",
      "text/html": "<div>\n<style scoped>\n    .dataframe tbody tr th:only-of-type {\n        vertical-align: middle;\n    }\n\n    .dataframe tbody tr th {\n        vertical-align: top;\n    }\n\n    .dataframe thead th {\n        text-align: right;\n    }\n</style>\n<table border=\"1\" class=\"dataframe\">\n  <thead>\n    <tr style=\"text-align: right;\">\n      <th></th>\n      <th>epoch</th>\n      <th>sigma</th>\n      <th>slope</th>\n      <th>intercept</th>\n      <th>p_1</th>\n      <th>p_2</th>\n      <th>p_3</th>\n      <th>p_4</th>\n      <th>A_1</th>\n      <th>A_2</th>\n    </tr>\n  </thead>\n  <tbody>\n    <tr>\n      <th>9999</th>\n      <td>9999</td>\n      <td>2.374602</td>\n      <td>0.146491</td>\n      <td>0.201589</td>\n      <td>0.02126</td>\n      <td>-0.020941</td>\n      <td>-0.254096</td>\n      <td>-0.015825</td>\n      <td>0.023916</td>\n      <td>-0.006775</td>\n    </tr>\n  </tbody>\n</table>\n</div>"
     },
     "execution_count": 66,
     "metadata": {},
     "output_type": "execute_result"
    }
   ],
   "source": [
    "new_f.query('epoch == 9999')"
   ],
   "metadata": {
    "collapsed": false,
    "pycharm": {
     "name": "#%%\n"
    }
   }
  }
 ],
 "metadata": {
  "kernelspec": {
   "display_name": "Python 3",
   "language": "python",
   "name": "python3"
  },
  "language_info": {
   "codemirror_mode": {
    "name": "ipython",
    "version": 2
   },
   "file_extension": ".py",
   "mimetype": "text/x-python",
   "name": "python",
   "nbconvert_exporter": "python",
   "pygments_lexer": "ipython2",
   "version": "2.7.6"
  }
 },
 "nbformat": 4,
 "nbformat_minor": 0
}