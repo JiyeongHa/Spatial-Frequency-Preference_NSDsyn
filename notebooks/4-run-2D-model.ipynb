{
 "cells": [
  {
   "cell_type": "code",
   "execution_count": 1,
   "metadata": {
    "collapsed": true,
    "ExecuteTime": {
     "start_time": "2023-05-01T22:26:25.157482Z",
     "end_time": "2023-05-01T22:26:25.161955Z"
    }
   },
   "outputs": [],
   "source": [
    "import sys\n",
    "sys.path.append('..')\n",
    "import os\n",
    "import pandas as pd\n",
    "import numpy as np\n",
    "import matplotlib.pyplot as plt\n",
    "import seaborn as sns\n",
    "from sfp_nsdsyn import *\n",
    "import warnings\n",
    "import itertools\n",
    "warnings.filterwarnings(\"ignore\", category=UserWarning)\n",
    "pd.options.mode.chained_assignment = None\n",
    "%load_ext autoreload\n",
    "%autoreload 2"
   ]
  },
  {
   "cell_type": "code",
   "execution_count": 3,
   "outputs": [],
   "source": [
    "output_dir='/Volumes/sfp_nsd/derivatives'\n",
    "dset='nsdsyn'\n",
    "subj='subj01'\n",
    "roi='V1'\n",
    "vs='pRFsize'"
   ],
   "metadata": {
    "collapsed": false,
    "ExecuteTime": {
     "start_time": "2023-05-01T22:28:23.107815Z",
     "end_time": "2023-05-01T22:28:23.107951Z"
    }
   }
  },
  {
   "cell_type": "code",
   "execution_count": 6,
   "outputs": [
    {
     "data": {
      "text/plain": "   stim_idx  image_idx     names  w_r  w_a  phase  class_idx  freq_lvl  voxel   \n0         0        104  pinwheel  0.0  6.0    0.0          0         0     10  \\\n1         0        104  pinwheel  0.0  6.0    0.0          0         0     11   \n2         0        104  pinwheel  0.0  6.0    0.0          0         0     12   \n3         0        104  pinwheel  0.0  6.0    0.0          0         0     16   \n4         0        104  pinwheel  0.0  6.0    0.0          0         0     17   \n\n  task  ...  eccentricity     angle      size  visualrois  vroinames eccrois   \n0  avg  ...      1.556064  5.030775  0.971252         2.0         V1     3.0  \\\n1  avg  ...      1.302301  4.925383  0.693124         2.0         V1     3.0   \n2  avg  ...      1.081738  4.781199  0.559847         2.0         V1     3.0   \n3  avg  ...      1.473532  4.971115  0.963097         2.0         V1     3.0   \n4  avg  ...      1.495256  5.002201  0.945766         2.0         V1     3.0   \n\n   local_sf  local_ori  hemi     sub  \n0  0.613683   0.318386    lh  subj01  \n1  0.733263   0.212994    lh  subj01  \n2  0.882773   0.068810    lh  subj01  \n3  0.648055   0.258726    lh  subj01  \n4  0.638639   0.289812    lh  subj01  \n\n[5 rows x 21 columns]",
      "text/html": "<div>\n<style scoped>\n    .dataframe tbody tr th:only-of-type {\n        vertical-align: middle;\n    }\n\n    .dataframe tbody tr th {\n        vertical-align: top;\n    }\n\n    .dataframe thead th {\n        text-align: right;\n    }\n</style>\n<table border=\"1\" class=\"dataframe\">\n  <thead>\n    <tr style=\"text-align: right;\">\n      <th></th>\n      <th>stim_idx</th>\n      <th>image_idx</th>\n      <th>names</th>\n      <th>w_r</th>\n      <th>w_a</th>\n      <th>phase</th>\n      <th>class_idx</th>\n      <th>freq_lvl</th>\n      <th>voxel</th>\n      <th>task</th>\n      <th>...</th>\n      <th>eccentricity</th>\n      <th>angle</th>\n      <th>size</th>\n      <th>visualrois</th>\n      <th>vroinames</th>\n      <th>eccrois</th>\n      <th>local_sf</th>\n      <th>local_ori</th>\n      <th>hemi</th>\n      <th>sub</th>\n    </tr>\n  </thead>\n  <tbody>\n    <tr>\n      <th>0</th>\n      <td>0</td>\n      <td>104</td>\n      <td>pinwheel</td>\n      <td>0.0</td>\n      <td>6.0</td>\n      <td>0.0</td>\n      <td>0</td>\n      <td>0</td>\n      <td>10</td>\n      <td>avg</td>\n      <td>...</td>\n      <td>1.556064</td>\n      <td>5.030775</td>\n      <td>0.971252</td>\n      <td>2.0</td>\n      <td>V1</td>\n      <td>3.0</td>\n      <td>0.613683</td>\n      <td>0.318386</td>\n      <td>lh</td>\n      <td>subj01</td>\n    </tr>\n    <tr>\n      <th>1</th>\n      <td>0</td>\n      <td>104</td>\n      <td>pinwheel</td>\n      <td>0.0</td>\n      <td>6.0</td>\n      <td>0.0</td>\n      <td>0</td>\n      <td>0</td>\n      <td>11</td>\n      <td>avg</td>\n      <td>...</td>\n      <td>1.302301</td>\n      <td>4.925383</td>\n      <td>0.693124</td>\n      <td>2.0</td>\n      <td>V1</td>\n      <td>3.0</td>\n      <td>0.733263</td>\n      <td>0.212994</td>\n      <td>lh</td>\n      <td>subj01</td>\n    </tr>\n    <tr>\n      <th>2</th>\n      <td>0</td>\n      <td>104</td>\n      <td>pinwheel</td>\n      <td>0.0</td>\n      <td>6.0</td>\n      <td>0.0</td>\n      <td>0</td>\n      <td>0</td>\n      <td>12</td>\n      <td>avg</td>\n      <td>...</td>\n      <td>1.081738</td>\n      <td>4.781199</td>\n      <td>0.559847</td>\n      <td>2.0</td>\n      <td>V1</td>\n      <td>3.0</td>\n      <td>0.882773</td>\n      <td>0.068810</td>\n      <td>lh</td>\n      <td>subj01</td>\n    </tr>\n    <tr>\n      <th>3</th>\n      <td>0</td>\n      <td>104</td>\n      <td>pinwheel</td>\n      <td>0.0</td>\n      <td>6.0</td>\n      <td>0.0</td>\n      <td>0</td>\n      <td>0</td>\n      <td>16</td>\n      <td>avg</td>\n      <td>...</td>\n      <td>1.473532</td>\n      <td>4.971115</td>\n      <td>0.963097</td>\n      <td>2.0</td>\n      <td>V1</td>\n      <td>3.0</td>\n      <td>0.648055</td>\n      <td>0.258726</td>\n      <td>lh</td>\n      <td>subj01</td>\n    </tr>\n    <tr>\n      <th>4</th>\n      <td>0</td>\n      <td>104</td>\n      <td>pinwheel</td>\n      <td>0.0</td>\n      <td>6.0</td>\n      <td>0.0</td>\n      <td>0</td>\n      <td>0</td>\n      <td>17</td>\n      <td>avg</td>\n      <td>...</td>\n      <td>1.495256</td>\n      <td>5.002201</td>\n      <td>0.945766</td>\n      <td>2.0</td>\n      <td>V1</td>\n      <td>3.0</td>\n      <td>0.638639</td>\n      <td>0.289812</td>\n      <td>lh</td>\n      <td>subj01</td>\n    </tr>\n  </tbody>\n</table>\n<p>5 rows × 21 columns</p>\n</div>"
     },
     "execution_count": 6,
     "metadata": {},
     "output_type": "execute_result"
    }
   ],
   "source": [
    "subj_df_path = os.path.join(output_dir, 'dataframes', dset, f'dset-{dset}_sub-{subj}_roi-{roi}_vs-{vs}.csv')\n",
    "subj_df = pd.read_csv(subj_df_path)\n",
    "subj_df.head()"
   ],
   "metadata": {
    "collapsed": false,
    "ExecuteTime": {
     "start_time": "2023-05-01T22:29:00.242385Z",
     "end_time": "2023-05-01T22:29:00.242459Z"
    }
   }
  },
  {
   "cell_type": "code",
   "execution_count": 7,
   "outputs": [],
   "source": [
    "precision_path = os.path.join(output_dir, 'dataframes', dset, f'dset-{dset}_sub-{subj}_roi-{roi}_vs-{vs}.csv')\n",
    "precision_df = pd.read_csv(precision_path)"
   ],
   "metadata": {
    "collapsed": false,
    "ExecuteTime": {
     "start_time": "2023-05-01T22:29:25.103110Z",
     "end_time": "2023-05-01T22:29:25.103249Z"
    }
   }
  },
  {
   "cell_type": "code",
   "execution_count": null,
   "outputs": [],
   "source": [],
   "metadata": {
    "collapsed": false
   }
  }
 ],
 "metadata": {
  "kernelspec": {
   "display_name": "Python 3",
   "language": "python",
   "name": "python3"
  },
  "language_info": {
   "codemirror_mode": {
    "name": "ipython",
    "version": 2
   },
   "file_extension": ".py",
   "mimetype": "text/x-python",
   "name": "python",
   "nbconvert_exporter": "python",
   "pygments_lexer": "ipython2",
   "version": "2.7.6"
  }
 },
 "nbformat": 4,
 "nbformat_minor": 0
}
