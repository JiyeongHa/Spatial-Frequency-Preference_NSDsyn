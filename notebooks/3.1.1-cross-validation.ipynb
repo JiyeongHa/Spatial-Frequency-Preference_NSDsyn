{
 "cells": [
  {
   "cell_type": "code",
   "execution_count": 1,
   "metadata": {
    "ExecuteTime": {
     "end_time": "2024-05-29T09:28:31.843334Z",
     "start_time": "2024-05-29T09:28:31.814668Z"
    },
    "collapsed": true
   },
   "outputs": [],
   "source": [
    "import sys\n",
    "sys.path.append('..')\n",
    "import os\n",
    "import pandas as pd\n",
    "import numpy as np\n",
    "import matplotlib.pyplot as plt\n",
    "import seaborn as sns\n",
    "import sfp_nsdsyn.two_dimensional_model as two_d\n",
    "import sfp_nsdsyn.cross_validation_2d_model as cv2d\n",
    "import warnings\n",
    "from sfp_nsdsyn import utils\n",
    "import itertools\n",
    "warnings.filterwarnings(\"ignore\", category=UserWarning)\n",
    "pd.options.mode.chained_assignment = None\n",
    "%load_ext autoreload\n",
    "%autoreload 2"
   ]
  },
  {
   "cell_type": "code",
   "execution_count": 2,
   "metadata": {},
   "outputs": [],
   "source": [
    "output_dir='/Volumes/server/Projects/sfp_nsd/derivatives'\n",
    "dset='nsdsyn'\n",
    "subj='subj01'\n",
    "roi='V1'\n",
    "vs='pRFsize'\n",
    "df = utils.load_dataframe(output_dir, dset, subj, roi, vs)\n",
    "df = df.groupby(['sub', 'voxel', 'class_idx', 'names','vroinames']).mean().reset_index()"
   ]
  },
  {
   "cell_type": "code",
   "execution_count": null,
   "metadata": {},
   "outputs": [
    {
     "name": "stdout",
     "output_type": "stream",
     "text": [
      "\n",
      "==================================================\n",
      "Fold 1/7\n",
      "==================================================\n",
      "**epoch no.0 loss: 0.057\n",
      "**epoch no.99 loss: 0.056\n",
      "**epoch no.199 loss: 0.055\n",
      "**epoch no.299 loss: 0.055\n",
      "**epoch no.399 loss: 0.054\n",
      "**epoch no.499 loss: 0.053\n",
      "**epoch no.599 loss: 0.053\n",
      "**epoch no.699 loss: 0.052\n",
      "**epoch no.799 loss: 0.051\n",
      "**epoch no.899 loss: 0.051\n",
      "**epoch no.999 loss: 0.05\n",
      "*epoch no.1000: Finished! final model params...\n",
      " {'sigma': 0.74, 'slope': 0.69, 'intercept': 0.79, 'p_1': 0.14, 'p_2': 0.14, 'p_3': 0.08, 'p_4': -0.08, 'A_1': 0.54, 'A_2': 0.09}\n",
      "Elapsed time: 7.78 sec\n",
      "\n",
      "==================================================\n",
      "Fold 2/7\n",
      "==================================================\n",
      "**epoch no.0 loss: 0.048\n",
      "**epoch no.99 loss: 0.047\n",
      "**epoch no.199 loss: 0.047\n",
      "**epoch no.299 loss: 0.046\n",
      "**epoch no.399 loss: 0.045\n",
      "**epoch no.499 loss: 0.045\n",
      "**epoch no.599 loss: 0.044\n",
      "**epoch no.699 loss: 0.043\n",
      "**epoch no.799 loss: 0.042\n",
      "**epoch no.899 loss: 0.042\n",
      "**epoch no.999 loss: 0.041\n",
      "*epoch no.1000: Finished! final model params...\n",
      " {'sigma': 0.84, 'slope': 0.59, 'intercept': 0.68, 'p_1': 0.23, 'p_2': 0.24, 'p_3': 0.18, 'p_4': -0.0, 'A_1': 0.44, 'A_2': 0.02}\n",
      "Elapsed time: 8.11 sec\n",
      "\n",
      "==================================================\n",
      "Fold 3/7\n",
      "==================================================\n",
      "**epoch no.0 loss: 0.042\n",
      "**epoch no.99 loss: 0.041\n",
      "**epoch no.199 loss: 0.04\n",
      "**epoch no.299 loss: 0.039\n",
      "**epoch no.399 loss: 0.038\n",
      "**epoch no.499 loss: 0.037\n",
      "**epoch no.599 loss: 0.036\n",
      "**epoch no.699 loss: 0.035\n",
      "**epoch no.799 loss: 0.034\n",
      "**epoch no.899 loss: 0.033\n",
      "**epoch no.999 loss: 0.031\n",
      "*epoch no.1000: Finished! final model params...\n",
      " {'sigma': 0.94, 'slope': 0.48, 'intercept': 0.58, 'p_1': 0.33, 'p_2': 0.34, 'p_3': 0.29, 'p_4': 0.12, 'A_1': 0.34, 'A_2': -0.07}\n",
      "Elapsed time: 7.84 sec\n",
      "\n",
      "==================================================\n",
      "Fold 4/7\n",
      "==================================================\n",
      "**epoch no.0 loss: 0.033\n",
      "**epoch no.99 loss: 0.032\n",
      "**epoch no.199 loss: 0.031\n",
      "**epoch no.299 loss: 0.03\n",
      "**epoch no.399 loss: 0.029\n",
      "**epoch no.499 loss: 0.029\n",
      "**epoch no.599 loss: 0.028\n",
      "**epoch no.699 loss: 0.027\n"
     ]
    },
    {
     "ename": "KeyboardInterrupt",
     "evalue": "",
     "output_type": "error",
     "traceback": [
      "\u001b[0;31m---------------------------------------------------------------------------\u001b[0m",
      "\u001b[0;31mKeyboardInterrupt\u001b[0m                         Traceback (most recent call last)",
      "\u001b[0;32m<ipython-input-75-aba575800312>\u001b[0m in \u001b[0;36m<module>\u001b[0;34m\u001b[0m\n\u001b[1;32m      8\u001b[0m                                                \u001b[0msave_path\u001b[0m\u001b[0;34m=\u001b[0m\u001b[0;32mNone\u001b[0m\u001b[0;34m,\u001b[0m\u001b[0;34m\u001b[0m\u001b[0;34m\u001b[0m\u001b[0m\n\u001b[1;32m      9\u001b[0m                                                \u001b[0mloss_all_voxels\u001b[0m\u001b[0;34m=\u001b[0m\u001b[0;32mFalse\u001b[0m\u001b[0;34m,\u001b[0m\u001b[0;34m\u001b[0m\u001b[0;34m\u001b[0m\u001b[0m\n\u001b[0;32m---> 10\u001b[0;31m                                                random_state=42)\n\u001b[0m",
      "\u001b[0;32m~/Projects/spatial-frequency-preferences_NSDsyn/sfp_nsdsyn/cross_validation_2d_model.py\u001b[0m in \u001b[0;36mrun_cross_validation\u001b[0;34m(df, sfp_model, n_folds, n_test_classes, learning_rate, max_epoch, print_every, save_path, loss_all_voxels, random_state)\u001b[0m\n\u001b[1;32m    124\u001b[0m                                                          \u001b[0mprint_every\u001b[0m\u001b[0;34m=\u001b[0m\u001b[0mprint_every\u001b[0m\u001b[0;34m,\u001b[0m\u001b[0;34m\u001b[0m\u001b[0;34m\u001b[0m\u001b[0m\n\u001b[1;32m    125\u001b[0m                                                          \u001b[0msave_path\u001b[0m\u001b[0;34m=\u001b[0m\u001b[0;32mNone\u001b[0m\u001b[0;34m,\u001b[0m\u001b[0;34m\u001b[0m\u001b[0;34m\u001b[0m\u001b[0m\n\u001b[0;32m--> 126\u001b[0;31m                                                          loss_all_voxels=loss_all_voxels)\n\u001b[0m\u001b[1;32m    127\u001b[0m \u001b[0;34m\u001b[0m\u001b[0m\n\u001b[1;32m    128\u001b[0m         \u001b[0;31m# Get predictions on testing data\u001b[0m\u001b[0;34m\u001b[0m\u001b[0;34m\u001b[0m\u001b[0;34m\u001b[0m\u001b[0m\n",
      "\u001b[0;32m~/Projects/spatial-frequency-preferences_NSDsyn/sfp_nsdsyn/two_dimensional_model.py\u001b[0m in \u001b[0;36mfit_model\u001b[0;34m(sfp_model, dataset, learning_rate, max_epoch, print_every, save_path, loss_all_voxels, anomaly_detection, amsgrad, eps)\u001b[0m\n\u001b[1;32m    301\u001b[0m             \u001b[0mprint\u001b[0m\u001b[0;34m(\u001b[0m\u001b[0;34mf'**epoch no.{t} loss: {np.round(loss.item(), 3)}'\u001b[0m\u001b[0;34m)\u001b[0m\u001b[0;34m\u001b[0m\u001b[0;34m\u001b[0m\u001b[0m\n\u001b[1;32m    302\u001b[0m         \u001b[0moptimizer\u001b[0m\u001b[0;34m.\u001b[0m\u001b[0mzero_grad\u001b[0m\u001b[0;34m(\u001b[0m\u001b[0;34m)\u001b[0m  \u001b[0;31m# clear previous gradients\u001b[0m\u001b[0;34m\u001b[0m\u001b[0;34m\u001b[0m\u001b[0m\n\u001b[0;32m--> 303\u001b[0;31m         \u001b[0mloss\u001b[0m\u001b[0;34m.\u001b[0m\u001b[0mbackward\u001b[0m\u001b[0;34m(\u001b[0m\u001b[0;34m)\u001b[0m  \u001b[0;31m# compute gradients of all variables wrt loss\u001b[0m\u001b[0;34m\u001b[0m\u001b[0;34m\u001b[0m\u001b[0m\n\u001b[0m\u001b[1;32m    304\u001b[0m         \u001b[0moptimizer\u001b[0m\u001b[0;34m.\u001b[0m\u001b[0mstep\u001b[0m\u001b[0;34m(\u001b[0m\u001b[0;34m)\u001b[0m  \u001b[0;31m# perform updates using calculated gradients\u001b[0m\u001b[0;34m\u001b[0m\u001b[0;34m\u001b[0m\u001b[0m\n\u001b[1;32m    305\u001b[0m         \u001b[0mmodel_values\u001b[0m \u001b[0;34m=\u001b[0m \u001b[0;34m[\u001b[0m\u001b[0mv\u001b[0m\u001b[0;34m.\u001b[0m\u001b[0mdetach\u001b[0m\u001b[0;34m(\u001b[0m\u001b[0;34m)\u001b[0m\u001b[0;34m.\u001b[0m\u001b[0mnumpy\u001b[0m\u001b[0;34m(\u001b[0m\u001b[0;34m)\u001b[0m\u001b[0;34m.\u001b[0m\u001b[0mitem\u001b[0m\u001b[0;34m(\u001b[0m\u001b[0;34m)\u001b[0m \u001b[0;32mfor\u001b[0m \u001b[0mv\u001b[0m \u001b[0;32min\u001b[0m \u001b[0msfp_model\u001b[0m\u001b[0;34m.\u001b[0m\u001b[0mparameters\u001b[0m\u001b[0;34m(\u001b[0m\u001b[0;34m)\u001b[0m \u001b[0;32mif\u001b[0m \u001b[0mv\u001b[0m\u001b[0;34m.\u001b[0m\u001b[0mrequires_grad\u001b[0m\u001b[0;34m]\u001b[0m  \u001b[0;31m# output needs to be put in there\u001b[0m\u001b[0;34m\u001b[0m\u001b[0;34m\u001b[0m\u001b[0m\n",
      "\u001b[0;32m~/opt/miniconda3/envs/sfp/lib/python3.7/site-packages/torch/_tensor.py\u001b[0m in \u001b[0;36mbackward\u001b[0;34m(self, gradient, retain_graph, create_graph, inputs)\u001b[0m\n\u001b[1;32m    487\u001b[0m             )\n\u001b[1;32m    488\u001b[0m         torch.autograd.backward(\n\u001b[0;32m--> 489\u001b[0;31m             \u001b[0mself\u001b[0m\u001b[0;34m,\u001b[0m \u001b[0mgradient\u001b[0m\u001b[0;34m,\u001b[0m \u001b[0mretain_graph\u001b[0m\u001b[0;34m,\u001b[0m \u001b[0mcreate_graph\u001b[0m\u001b[0;34m,\u001b[0m \u001b[0minputs\u001b[0m\u001b[0;34m=\u001b[0m\u001b[0minputs\u001b[0m\u001b[0;34m\u001b[0m\u001b[0;34m\u001b[0m\u001b[0m\n\u001b[0m\u001b[1;32m    490\u001b[0m         )\n\u001b[1;32m    491\u001b[0m \u001b[0;34m\u001b[0m\u001b[0m\n",
      "\u001b[0;32m~/opt/miniconda3/envs/sfp/lib/python3.7/site-packages/torch/autograd/__init__.py\u001b[0m in \u001b[0;36mbackward\u001b[0;34m(tensors, grad_tensors, retain_graph, create_graph, grad_variables, inputs)\u001b[0m\n\u001b[1;32m    197\u001b[0m     Variable._execution_engine.run_backward(  # Calls into the C++ engine to run the backward pass\n\u001b[1;32m    198\u001b[0m         \u001b[0mtensors\u001b[0m\u001b[0;34m,\u001b[0m \u001b[0mgrad_tensors_\u001b[0m\u001b[0;34m,\u001b[0m \u001b[0mretain_graph\u001b[0m\u001b[0;34m,\u001b[0m \u001b[0mcreate_graph\u001b[0m\u001b[0;34m,\u001b[0m \u001b[0minputs\u001b[0m\u001b[0;34m,\u001b[0m\u001b[0;34m\u001b[0m\u001b[0;34m\u001b[0m\u001b[0m\n\u001b[0;32m--> 199\u001b[0;31m         allow_unreachable=True, accumulate_grad=True)  # Calls into the C++ engine to run the backward pass\n\u001b[0m\u001b[1;32m    200\u001b[0m \u001b[0;34m\u001b[0m\u001b[0m\n\u001b[1;32m    201\u001b[0m def grad(\n",
      "\u001b[0;31mKeyboardInterrupt\u001b[0m: "
     ]
    }
   ],
   "source": [
    "sfp_model = two_d.SpatialFrequencyModel()\n",
    "cv_results, cv_losses = cv2d.run_cross_validation(df, sfp_model, \n",
    "                                               n_folds=7, \n",
    "                                               n_test_classes=4, \n",
    "                                               learning_rate=1e-4, \n",
    "                                               max_epoch=1000, \n",
    "                                               print_every=100, \n",
    "                                               save_path=None, \n",
    "                                               loss_all_voxels=False, \n",
    "                                               random_state=42)\n"
   ]
  }
 ],
 "metadata": {
  "kernelspec": {
   "display_name": "sfp",
   "language": "python",
   "name": "python3"
  },
  "language_info": {
   "codemirror_mode": {
    "name": "ipython",
    "version": 3
   },
   "file_extension": ".py",
   "mimetype": "text/x-python",
   "name": "python",
   "nbconvert_exporter": "python",
   "pygments_lexer": "ipython3",
   "version": "3.7.12"
  }
 },
 "nbformat": 4,
 "nbformat_minor": 0
}
