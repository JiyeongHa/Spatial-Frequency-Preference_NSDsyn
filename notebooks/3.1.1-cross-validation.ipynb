{
 "cells": [
  {
   "cell_type": "code",
   "execution_count": 1,
   "metadata": {
    "ExecuteTime": {
     "end_time": "2024-05-29T09:28:31.843334Z",
     "start_time": "2024-05-29T09:28:31.814668Z"
    },
    "collapsed": true
   },
   "outputs": [],
   "source": [
    "import sys\n",
    "sys.path.append('..')\n",
    "import os\n",
    "import pandas as pd\n",
    "import numpy as np\n",
    "import matplotlib.pyplot as plt\n",
    "import seaborn as sns\n",
    "import sfp_nsdsyn.two_dimensional_model as two_d\n",
    "import sfp_nsdsyn.cross_validation_2d_model as cv2d\n",
    "import warnings\n",
    "from sfp_nsdsyn import utils\n",
    "import itertools\n",
    "warnings.filterwarnings(\"ignore\", category=UserWarning)\n",
    "pd.options.mode.chained_assignment = None\n",
    "%load_ext autoreload\n",
    "%autoreload 2"
   ]
  },
  {
   "cell_type": "code",
   "execution_count": 2,
   "metadata": {},
   "outputs": [],
   "source": [
    "output_dir='/Volumes/server/Projects/sfp_nsd/derivatives'\n",
    "dset='nsdsyn'\n",
    "subj='subj01'\n",
    "roi='V1'\n",
    "vs='pRFsize'\n",
    "df = utils.load_dataframe(output_dir, dset, subj, roi, vs)\n",
    "df = df.groupby(['sub', 'voxel', 'class_idx', 'names','vroinames']).mean().reset_index()"
   ]
  },
  {
   "cell_type": "code",
   "execution_count": 86,
   "metadata": {},
   "outputs": [
    {
     "name": "stdout",
     "output_type": "stream",
     "text": [
      "\n",
      "==================================================\n",
      "Fold 1/7\n",
      "==================================================\n",
      "**epoch no.0 loss: 0.044\n",
      "*epoch no.2: Finished! final model params...\n",
      " {'sigma': 0.78, 'slope': 0.34, 'intercept': 0.94, 'p_1': 0.01, 'p_2': 0.09, 'p_3': 0.02, 'p_4': 0.05, 'A_1': 0.07, 'A_2': 0.4}\n",
      "Elapsed time: 0.02 sec\n",
      "\n",
      "==================================================\n",
      "Fold 2/7\n",
      "==================================================\n",
      "**epoch no.0 loss: 0.041\n",
      "*epoch no.2: Finished! final model params...\n",
      " {'sigma': 0.78, 'slope': 0.34, 'intercept': 0.94, 'p_1': 0.01, 'p_2': 0.09, 'p_3': 0.02, 'p_4': 0.05, 'A_1': 0.07, 'A_2': 0.4}\n",
      "Elapsed time: 0.02 sec\n",
      "\n",
      "==================================================\n",
      "Fold 3/7\n",
      "==================================================\n",
      "**epoch no.0 loss: 0.042\n",
      "*epoch no.2: Finished! final model params...\n",
      " {'sigma': 0.78, 'slope': 0.34, 'intercept': 0.94, 'p_1': 0.01, 'p_2': 0.09, 'p_3': 0.02, 'p_4': 0.05, 'A_1': 0.07, 'A_2': 0.4}\n",
      "Elapsed time: 0.02 sec\n",
      "\n",
      "==================================================\n",
      "Fold 4/7\n",
      "==================================================\n",
      "**epoch no.0 loss: 0.043\n",
      "*epoch no.2: Finished! final model params...\n",
      " {'sigma': 0.78, 'slope': 0.34, 'intercept': 0.94, 'p_1': 0.01, 'p_2': 0.09, 'p_3': 0.02, 'p_4': 0.05, 'A_1': 0.07, 'A_2': 0.4}\n",
      "Elapsed time: 0.02 sec\n",
      "\n",
      "==================================================\n",
      "Fold 5/7\n",
      "==================================================\n",
      "**epoch no.0 loss: 0.039\n",
      "*epoch no.2: Finished! final model params...\n",
      " {'sigma': 0.78, 'slope': 0.34, 'intercept': 0.94, 'p_1': 0.01, 'p_2': 0.09, 'p_3': 0.02, 'p_4': 0.05, 'A_1': 0.07, 'A_2': 0.4}\n",
      "Elapsed time: 0.02 sec\n",
      "\n",
      "==================================================\n",
      "Fold 6/7\n",
      "==================================================\n",
      "**epoch no.0 loss: 0.039\n",
      "*epoch no.2: Finished! final model params...\n",
      " {'sigma': 0.78, 'slope': 0.34, 'intercept': 0.94, 'p_1': 0.01, 'p_2': 0.09, 'p_3': 0.02, 'p_4': 0.05, 'A_1': 0.07, 'A_2': 0.4}\n",
      "Elapsed time: 0.02 sec\n",
      "\n",
      "==================================================\n",
      "Fold 7/7\n",
      "==================================================\n",
      "**epoch no.0 loss: 0.042\n",
      "*epoch no.2: Finished! final model params...\n",
      " {'sigma': 0.78, 'slope': 0.34, 'intercept': 0.94, 'p_1': 0.01, 'p_2': 0.09, 'p_3': 0.01, 'p_4': 0.05, 'A_1': 0.07, 'A_2': 0.4}\n",
      "Elapsed time: 0.02 sec\n",
      "Test loss: 0.0355\n"
     ]
    }
   ],
   "source": [
    "sfp_model = two_d.SpatialFrequencyModel()\n",
    "cv_results, cv_losses = cv2d.run_cross_validation(df, sfp_model, \n",
    "                                               n_folds=7, \n",
    "                                               n_test_classes=4, \n",
    "                                               learning_rate=1e-4, \n",
    "                                               max_epoch=2, \n",
    "                                               print_every=100, \n",
    "                                               random_state=42)\n"
   ]
  },
  {
   "cell_type": "code",
   "execution_count": 90,
   "metadata": {},
   "outputs": [
    {
     "data": {
      "text/plain": [
       "array([0.02863195, 0.04803467, 0.04623995, ..., 0.05495894, 0.0490094 ,\n",
       "       0.05865856])"
      ]
     },
     "execution_count": 90,
     "metadata": {},
     "output_type": "execute_result"
    }
   ],
   "source": [
    "cv_losses.detach().numpy()"
   ]
  },
  {
   "cell_type": "code",
   "execution_count": 100,
   "metadata": {},
   "outputs": [],
   "source": [
    "max_epoch = 30000\n",
    "nsd_subj_list = ['subj01', 'subj02', 'subj03', 'subj04', 'subj05', 'subj06', 'subj07', 'subj08']\n",
    "\n",
    "loss_df = pd.DataFrame({})\n",
    "for subj in nsd_subj_list[:2]:\n",
    "    train_loss = pd.read_hdf(f'/Volumes/server/Projects/sfp_nsd/derivatives/sfp_model/results_2D/nsdsyn/corrected/loss-history_lr-0.0005_eph-30000_sub-{subj}_roi-V1_vs-pRFsize.h5')\n",
    "    test_loss = np.load(f'/Volumes/server/Projects/sfp_nsd/derivatives/sfp_model/cross_validation/nsdsyn/model-1/cvlosses_bts-False_lr-0.0005_eph-30000_sub-{subj}_roi-V1_vs-pRFsize.npy')\n",
    "    tmp = pd.DataFrame({'subj': [subj], \n",
    "                        'train_mean_loss': [train_loss.query('epoch == @max_epoch-1')['loss'].item()],\n",
    "                        'test_mean_loss': [test_loss.mean()],\n",
    "                        })\n",
    "    loss_df = pd.concat([loss_df, tmp], axis=0)\n",
    "\n",
    "\n",
    "\n"
   ]
  },
  {
   "cell_type": "code",
   "execution_count": 102,
   "metadata": {},
   "outputs": [
    {
     "data": {
      "text/html": [
       "<div>\n",
       "<style scoped>\n",
       "    .dataframe tbody tr th:only-of-type {\n",
       "        vertical-align: middle;\n",
       "    }\n",
       "\n",
       "    .dataframe tbody tr th {\n",
       "        vertical-align: top;\n",
       "    }\n",
       "\n",
       "    .dataframe thead th {\n",
       "        text-align: right;\n",
       "    }\n",
       "</style>\n",
       "<table border=\"1\" class=\"dataframe\">\n",
       "  <thead>\n",
       "    <tr style=\"text-align: right;\">\n",
       "      <th></th>\n",
       "      <th>fold</th>\n",
       "      <th>test_classes</th>\n",
       "      <th>sigma</th>\n",
       "      <th>slope</th>\n",
       "      <th>intercept</th>\n",
       "      <th>p_1</th>\n",
       "      <th>p_2</th>\n",
       "      <th>p_3</th>\n",
       "      <th>p_4</th>\n",
       "      <th>A_1</th>\n",
       "      <th>A_2</th>\n",
       "    </tr>\n",
       "  </thead>\n",
       "  <tbody>\n",
       "    <tr>\n",
       "      <th>0</th>\n",
       "      <td>0</td>\n",
       "      <td>[18 16  3 21]</td>\n",
       "      <td>2.528584</td>\n",
       "      <td>0.135677</td>\n",
       "      <td>0.273609</td>\n",
       "      <td>-0.094468</td>\n",
       "      <td>0.024804</td>\n",
       "      <td>-0.192949</td>\n",
       "      <td>-0.007711</td>\n",
       "      <td>0.085125</td>\n",
       "      <td>-0.020095</td>\n",
       "    </tr>\n",
       "    <tr>\n",
       "      <th>1</th>\n",
       "      <td>1</td>\n",
       "      <td>[ 5  6  2 27]</td>\n",
       "      <td>2.381408</td>\n",
       "      <td>0.172235</td>\n",
       "      <td>0.217421</td>\n",
       "      <td>-0.051729</td>\n",
       "      <td>0.016940</td>\n",
       "      <td>-0.289116</td>\n",
       "      <td>0.044692</td>\n",
       "      <td>0.077384</td>\n",
       "      <td>-0.011702</td>\n",
       "    </tr>\n",
       "    <tr>\n",
       "      <th>2</th>\n",
       "      <td>2</td>\n",
       "      <td>[12  7 10 17]</td>\n",
       "      <td>2.653118</td>\n",
       "      <td>0.125977</td>\n",
       "      <td>0.341817</td>\n",
       "      <td>-0.100426</td>\n",
       "      <td>-0.010608</td>\n",
       "      <td>-0.184935</td>\n",
       "      <td>0.045035</td>\n",
       "      <td>0.087633</td>\n",
       "      <td>-0.013171</td>\n",
       "    </tr>\n",
       "    <tr>\n",
       "      <th>3</th>\n",
       "      <td>3</td>\n",
       "      <td>[ 0 26 25 14]</td>\n",
       "      <td>2.450733</td>\n",
       "      <td>0.154401</td>\n",
       "      <td>0.244995</td>\n",
       "      <td>-0.067695</td>\n",
       "      <td>0.012135</td>\n",
       "      <td>-0.305609</td>\n",
       "      <td>0.035673</td>\n",
       "      <td>0.072337</td>\n",
       "      <td>-0.013143</td>\n",
       "    </tr>\n",
       "    <tr>\n",
       "      <th>4</th>\n",
       "      <td>4</td>\n",
       "      <td>[23 24 19  8]</td>\n",
       "      <td>2.558670</td>\n",
       "      <td>0.140593</td>\n",
       "      <td>0.284998</td>\n",
       "      <td>-0.055584</td>\n",
       "      <td>-0.020705</td>\n",
       "      <td>-0.315272</td>\n",
       "      <td>0.039840</td>\n",
       "      <td>0.085760</td>\n",
       "      <td>-0.013825</td>\n",
       "    </tr>\n",
       "    <tr>\n",
       "      <th>5</th>\n",
       "      <td>5</td>\n",
       "      <td>[ 9  4  1 15]</td>\n",
       "      <td>2.554207</td>\n",
       "      <td>0.132607</td>\n",
       "      <td>0.261325</td>\n",
       "      <td>-0.056628</td>\n",
       "      <td>0.000472</td>\n",
       "      <td>-0.179138</td>\n",
       "      <td>-0.042741</td>\n",
       "      <td>0.070708</td>\n",
       "      <td>-0.022408</td>\n",
       "    </tr>\n",
       "    <tr>\n",
       "      <th>6</th>\n",
       "      <td>6</td>\n",
       "      <td>[11 22 13 20]</td>\n",
       "      <td>2.685035</td>\n",
       "      <td>0.105868</td>\n",
       "      <td>0.318183</td>\n",
       "      <td>-0.094474</td>\n",
       "      <td>-0.009001</td>\n",
       "      <td>-0.311549</td>\n",
       "      <td>0.045119</td>\n",
       "      <td>0.084734</td>\n",
       "      <td>-0.014832</td>\n",
       "    </tr>\n",
       "  </tbody>\n",
       "</table>\n",
       "</div>"
      ],
      "text/plain": [
       "   fold   test_classes     sigma     slope  intercept       p_1       p_2  \\\n",
       "0     0  [18 16  3 21]  2.528584  0.135677   0.273609 -0.094468  0.024804   \n",
       "1     1  [ 5  6  2 27]  2.381408  0.172235   0.217421 -0.051729  0.016940   \n",
       "2     2  [12  7 10 17]  2.653118  0.125977   0.341817 -0.100426 -0.010608   \n",
       "3     3  [ 0 26 25 14]  2.450733  0.154401   0.244995 -0.067695  0.012135   \n",
       "4     4  [23 24 19  8]  2.558670  0.140593   0.284998 -0.055584 -0.020705   \n",
       "5     5  [ 9  4  1 15]  2.554207  0.132607   0.261325 -0.056628  0.000472   \n",
       "6     6  [11 22 13 20]  2.685035  0.105868   0.318183 -0.094474 -0.009001   \n",
       "\n",
       "        p_3       p_4       A_1       A_2  \n",
       "0 -0.192949 -0.007711  0.085125 -0.020095  \n",
       "1 -0.289116  0.044692  0.077384 -0.011702  \n",
       "2 -0.184935  0.045035  0.087633 -0.013171  \n",
       "3 -0.305609  0.035673  0.072337 -0.013143  \n",
       "4 -0.315272  0.039840  0.085760 -0.013825  \n",
       "5 -0.179138 -0.042741  0.070708 -0.022408  \n",
       "6 -0.311549  0.045119  0.084734 -0.014832  "
      ]
     },
     "execution_count": 102,
     "metadata": {},
     "output_type": "execute_result"
    }
   ],
   "source": [
    "pd.read_csv('/Volumes/server/Projects/sfp_nsd/derivatives/sfp_model/cross_validation/nsdsyn/model-1/cvresults_bts-False_lr-0.0005_eph-30000_sub-subj01_roi-V1_vs-pRFsize.csv')"
   ]
  },
  {
   "cell_type": "code",
   "execution_count": 101,
   "metadata": {},
   "outputs": [
    {
     "data": {
      "text/html": [
       "<div>\n",
       "<style scoped>\n",
       "    .dataframe tbody tr th:only-of-type {\n",
       "        vertical-align: middle;\n",
       "    }\n",
       "\n",
       "    .dataframe tbody tr th {\n",
       "        vertical-align: top;\n",
       "    }\n",
       "\n",
       "    .dataframe thead th {\n",
       "        text-align: right;\n",
       "    }\n",
       "</style>\n",
       "<table border=\"1\" class=\"dataframe\">\n",
       "  <thead>\n",
       "    <tr style=\"text-align: right;\">\n",
       "      <th></th>\n",
       "      <th>subj</th>\n",
       "      <th>train_mean_loss</th>\n",
       "      <th>test_mean_loss</th>\n",
       "    </tr>\n",
       "  </thead>\n",
       "  <tbody>\n",
       "    <tr>\n",
       "      <th>0</th>\n",
       "      <td>subj01</td>\n",
       "      <td>0.003005</td>\n",
       "      <td>0.003188</td>\n",
       "    </tr>\n",
       "    <tr>\n",
       "      <th>0</th>\n",
       "      <td>subj02</td>\n",
       "      <td>0.004129</td>\n",
       "      <td>0.004354</td>\n",
       "    </tr>\n",
       "  </tbody>\n",
       "</table>\n",
       "</div>"
      ],
      "text/plain": [
       "     subj  train_mean_loss  test_mean_loss\n",
       "0  subj01         0.003005        0.003188\n",
       "0  subj02         0.004129        0.004354"
      ]
     },
     "execution_count": 101,
     "metadata": {},
     "output_type": "execute_result"
    }
   ],
   "source": [
    "loss_df"
   ]
  },
  {
   "cell_type": "code",
   "execution_count": null,
   "metadata": {},
   "outputs": [
    {
     "data": {
      "text/plain": [
       "0.0030051774015131738"
      ]
     },
     "execution_count": 84,
     "metadata": {},
     "output_type": "execute_result"
    }
   ],
   "source": [
    "sns.set_context(\"notebook\")\n",
    "sample_df = loss_df.melt(id_vars=['sub'], \n",
    "                        var_name='loss_type', \n",
    "                        value_name='loss')\n",
    "fig = plt.figure(figsize=(8, 13), dpi=300)\n",
    "# Create GridSpec with custom width ratios for top row\n",
    "gs = gridspec.GridSpec(3, 2, width_ratios=[1, 2], height_ratios=[1, 1, 1])\n",
    "\n",
    "# Create axes using the GridSpec\n",
    "axes = np.empty((2, 2), dtype=object)\n",
    "axes[0, 0] = fig.add_subplot(gs[0, 0])  # larger\n",
    "# Plot 1: Train vs Test loss across folds & subjects\n",
    "sns.barplot(ax=axes[0, 0], \n",
    "            data=sample_df, \n",
    "            x='loss_type', y='loss', hue='loss_type', errorbar=('ci', 68))"
   ]
  },
  {
   "cell_type": "code",
   "execution_count": null,
   "metadata": {},
   "outputs": [],
   "source": []
  }
 ],
 "metadata": {
  "kernelspec": {
   "display_name": "sfp",
   "language": "python",
   "name": "python3"
  },
  "language_info": {
   "codemirror_mode": {
    "name": "ipython",
    "version": 3
   },
   "file_extension": ".py",
   "mimetype": "text/x-python",
   "name": "python",
   "nbconvert_exporter": "python",
   "pygments_lexer": "ipython3",
   "version": "3.7.12"
  }
 },
 "nbformat": 4,
 "nbformat_minor": 0
}
