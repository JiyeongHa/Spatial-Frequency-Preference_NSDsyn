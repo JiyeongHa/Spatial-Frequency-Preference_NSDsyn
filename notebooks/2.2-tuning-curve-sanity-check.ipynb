{
 "cells": [
  {
   "cell_type": "code",
   "id": "initial_id",
   "metadata": {
    "collapsed": true,
    "ExecuteTime": {
     "end_time": "2024-09-23T15:56:50.909126Z",
     "start_time": "2024-09-23T15:56:50.875245Z"
    }
   },
   "source": [
    "import sys\n",
    "sys.path.append('..')\n",
    "import os\n",
    "import pandas as pd\n",
    "import numpy as np\n",
    "import matplotlib.pyplot as plt\n",
    "import seaborn as sns\n",
    "from sfp_nsdsyn import *\n",
    "import warnings\n",
    "import itertools\n",
    "\n",
    "warnings.filterwarnings(\"ignore\", category=UserWarning)\n",
    "pd.options.mode.chained_assignment = None\n",
    "%load_ext autoreload\n",
    "%autoreload 2"
   ],
   "outputs": [
    {
     "name": "stdout",
     "output_type": "stream",
     "text": [
      "The autoreload extension is already loaded. To reload it, use:\n",
      "  %reload_ext autoreload\n"
     ]
    }
   ],
   "execution_count": 2
  },
  {
   "cell_type": "markdown",
   "source": [
    "# Configurations"
   ],
   "metadata": {
    "collapsed": false
   },
   "id": "5ff692ac3167f2e0"
  },
  {
   "cell_type": "code",
   "source": [
    "output_dir = '/Volumes/server/Projects/sfp_nsd/derivatives'\n",
    "fig_dir = os.path.join(output_dir, 'figures/sfp_model/results_1D/nsdsyn')\n",
    "precision_dir = '/Volumes/server/Projects/sfp_nsd/derivatives/dataframes/nsdsyn/precision'\n",
    "stim_classes = ['annulus', 'pinwheel', 'forward spiral', 'reverse spiral']\n",
    "roi_list = ['V1', 'V2', 'V3']\n",
    "lr = 0.005\n",
    "max_epoch = 8000\n",
    "subj_list = [utils.sub_number_to_string(sn, 'nsdsyn') for sn in np.arange(1, 9)]\n",
    "subj = 'subj02'\n",
    "roi = 'V2'\n",
    "voxels = 'pRFcenter'\n",
    "stim_class = 'forward-spiral'\n",
    "\n",
    "# Eccentricity bin information\n",
    "e1, e2 = 0.5, 4\n",
    "enum = 7\n",
    "enum_range = range(7) if enum == 7 else range(3)\n",
    "bin_list, bin_labels = tuning.get_bin_labels(e1, e2, enum=enum)\n",
    "ecc_colors = utils.get_continuous_colors(len(bin_labels) + 1, '#3f0377')\n",
    "ecc_colors = ecc_colors[1:][::-1]\n",
    "ecc_colors = dict(zip(bin_labels, ecc_colors))\n",
    "\n",
    "# Figure settings\n",
    "utils.set_rcParams({'figure.dpi': 72*2})\n",
    "sns.set_context(\"notebook\", font_scale=2)"
   ],
   "metadata": {
    "collapsed": false,
    "ExecuteTime": {
     "end_time": "2024-09-23T15:56:55.084752Z",
     "start_time": "2024-09-23T15:56:55.053312Z"
    }
   },
   "id": "de43f160a04e2787",
   "outputs": [],
   "execution_count": 3
  },
  {
   "cell_type": "markdown",
   "source": "## Load in loss",
   "metadata": {
    "collapsed": false
   },
   "id": "159c92d736124d86"
  },
  {
   "cell_type": "code",
   "source": [
    "args = ['class', 'lr', 'eph', 'sub', 'roi', 'curbin']\n",
    "l, m = [], []\n",
    "for curbin, roi, subj, stim_class in itertools.product(enum_range, roi_list, subj_list, ['avg']):\n",
    "    stim_class = stim_class.replace(' ', '-')\n",
    "    loss_file_name = f'loss-history_class-{stim_class}_lr-{lr}_eph-{max_epoch}_e1-{e1}_e2-{e2}_nbin-{enum}_curbin-{curbin}_sub-{subj}_roi-{roi}_vs-{voxels}.h5'\n",
    "    l.append(os.path.join(output_dir, 'sfp_model', 'results_1D', 'nsdsyn', loss_file_name))\n",
    "\n",
    "cur_loss_df = pd.DataFrame({})\n",
    "for l_file in l:\n",
    "    tmp_df = utils.load_dataframes([l_file], *args)\n",
    "    tmp_df = tmp_df.query('epoch == @max_epoch-1')\n",
    "    cur_loss_df = pd.concat((cur_loss_df, tmp_df), axis=0)"
   ],
   "metadata": {
    "collapsed": false,
    "ExecuteTime": {
     "end_time": "2024-09-23T15:57:23.859921Z",
     "start_time": "2024-09-23T15:57:18.318346Z"
    }
   },
   "id": "654c57eba584329a",
   "outputs": [],
   "execution_count": 5
  },
  {
   "metadata": {
    "ExecuteTime": {
     "end_time": "2024-09-23T15:57:39.924577Z",
     "start_time": "2024-09-23T15:57:34.329271Z"
    }
   },
   "cell_type": "code",
   "source": [
    "args = ['class', 'lr', 'eph', 'sub', 'roi', 'curbin']\n",
    "l, m = [], []\n",
    "for curbin, roi, subj, stim_class in itertools.product(enum_range, roi_list, subj_list, ['avg']):\n",
    "    stim_class = stim_class.replace(' ', '-')\n",
    "    loss_file_name = f'loss-history_class-{stim_class}_lr-{lr}_eph-{max_epoch}_e1-{e1}_e2-{e2}_nbin-{enum}_curbin-{curbin}_dset-nsdsyn_sub-{subj}_roi-{roi}_vs-{voxels}.h5'\n",
    "    l.append(os.path.join(output_dir, 'before_w_a_correction', 'sfp_model', 'results_1D', 'nsdsyn', loss_file_name))\n",
    "\n",
    "old_loss_df = pd.DataFrame({})\n",
    "for l_file in l:\n",
    "    tmp_df = utils.load_dataframes([l_file], *args)\n",
    "    tmp_df = tmp_df.query('epoch == @max_epoch-1')\n",
    "    old_loss_df = pd.concat((old_loss_df, tmp_df), axis=0)"
   ],
   "id": "778d48879183af57",
   "outputs": [],
   "execution_count": 7
  },
  {
   "cell_type": "code",
   "source": [
    "cur_loss_df['df_type'] = 'corrected'\n",
    "old_loss_df['df_type'] = 'uncorrected'\n",
    "loss_df = pd.concat((cur_loss_df, old_loss_df), axis=0)\n"
   ],
   "metadata": {
    "collapsed": false,
    "ExecuteTime": {
     "end_time": "2024-09-23T15:58:34.576333Z",
     "start_time": "2024-09-23T15:58:34.546706Z"
    }
   },
   "id": "5e73834ffb62cace",
   "outputs": [],
   "execution_count": 8
  },
  {
   "cell_type": "code",
   "outputs": [],
   "source": [
    "sns.set_context(\"notebook\", font_scale=2)\n",
    "\n",
    "for stim_class in ['avg']:\n",
    "    g = sns.catplot(data=loss_df.query('names == @stim_class'), sharey=True, \n",
    "                    hue_order=subj_list, order=bin_labels,\n",
    "                    x='ecc_bin',y='loss', hue='sub',\n",
    "                    col='vroinames', kind='point', height=utils.get_height_based_on_width(6,1.5), aspect=1.3)\n",
    "    g.set_xticklabels(rotation=30)\n",
    "    g.set(ylim=[-0.05,0.6])\n",
    "\n",
    "    # Access the axes and set grid properties\n",
    "    for ax in g.axes.flat:\n",
    "        ax.yaxis.grid(True)  # Show y-axis grid lines\n",
    "        ax.yaxis.grid(which='major', linestyle='-', linewidth=2)  # Set grid line style and width\n",
    "    g.fig.suptitle(stim_class, y=1.05)\n",
    "    plt.savefig(os.path.join(fig_dir, f'ecc_loss_{stim_class}.png'), bbox_inches='tight')\n",
    "    plt.close()"
   ],
   "metadata": {
    "collapsed": false,
    "ExecuteTime": {
     "end_time": "2024-05-01T20:37:02.356197Z",
     "start_time": "2024-05-01T20:36:50.660776Z"
    }
   },
   "id": "366d1cc3deb5e6a4",
   "execution_count": 29
  },
  {
   "cell_type": "code",
   "outputs": [],
   "source": [],
   "metadata": {
    "collapsed": false
   },
   "id": "7764159f9448153a",
   "execution_count": null
  }
 ],
 "metadata": {
  "kernelspec": {
   "display_name": "Python 3",
   "language": "python",
   "name": "python3"
  },
  "language_info": {
   "codemirror_mode": {
    "name": "ipython",
    "version": 2
   },
   "file_extension": ".py",
   "mimetype": "text/x-python",
   "name": "python",
   "nbconvert_exporter": "python",
   "pygments_lexer": "ipython2",
   "version": "2.7.6"
  }
 },
 "nbformat": 4,
 "nbformat_minor": 5
}
