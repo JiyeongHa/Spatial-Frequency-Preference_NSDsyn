{
 "cells": [
  {
   "cell_type": "code",
   "execution_count": 2,
   "id": "initial_id",
   "metadata": {
    "collapsed": true,
    "ExecuteTime": {
     "end_time": "2024-05-01T19:41:28.771669Z",
     "start_time": "2024-05-01T19:41:27.854104Z"
    }
   },
   "outputs": [],
   "source": [
    "import sys\n",
    "sys.path.append('..')\n",
    "import os\n",
    "import pandas as pd\n",
    "import numpy as np\n",
    "import matplotlib.pyplot as plt\n",
    "import seaborn as sns\n",
    "from sfp_nsdsyn import *\n",
    "import warnings\n",
    "import itertools\n",
    "\n",
    "warnings.filterwarnings(\"ignore\", category=UserWarning)\n",
    "pd.options.mode.chained_assignment = None\n",
    "%load_ext autoreload\n",
    "%autoreload 2"
   ]
  },
  {
   "cell_type": "markdown",
   "source": [
    "# Configurations"
   ],
   "metadata": {
    "collapsed": false
   },
   "id": "5ff692ac3167f2e0"
  },
  {
   "cell_type": "code",
   "outputs": [],
   "source": [
    "output_dir = '/Volumes/server/Projects/sfp_nsd/derivatives'\n",
    "fig_dir = os.path.join(output_dir, 'figures/sfp_model/results_1D/nsdsyn')\n",
    "precision_dir = '/Volumes/server/Projects/sfp_nsd/derivatives/dataframes/nsdsyn/precision'\n",
    "stim_classes = ['annulus', 'pinwheel', 'forward spiral', 'reverse spiral']\n",
    "roi_list = ['V1', 'V2', 'V3']\n",
    "lr = 0.005\n",
    "max_epoch = 8000\n",
    "subj_list = [utils.sub_number_to_string(sn, 'nsdsyn') for sn in np.arange(1, 9)]\n",
    "subj = 'subj02'\n",
    "roi = 'V2'\n",
    "voxels = 'pRFcenter'\n",
    "stim_class = 'forward-spiral'\n",
    "\n",
    "# Eccentricity bin information\n",
    "e1, e2 = 0.5, 4\n",
    "enum = 7\n",
    "enum_range = range(7) if enum == 7 else range(3)\n",
    "bin_list, bin_labels = tuning.get_bin_labels(e1, e2, enum=enum)\n",
    "ecc_colors = utils.get_continuous_colors(len(bin_labels) + 1, '#3f0377')\n",
    "ecc_colors = ecc_colors[1:][::-1]\n",
    "ecc_colors = dict(zip(bin_labels, ecc_colors))\n",
    "\n",
    "# Figure settings\n",
    "utils.set_rcParams({'figure.dpi': 72*2})\n",
    "sns.set_context(\"notebook\", font_scale=2)"
   ],
   "metadata": {
    "collapsed": false,
    "ExecuteTime": {
     "end_time": "2024-05-01T19:53:02.015357Z",
     "start_time": "2024-05-01T19:53:01.980632Z"
    }
   },
   "id": "de43f160a04e2787",
   "execution_count": 11
  },
  {
   "cell_type": "markdown",
   "source": [
    "# Mode value for each eccentricity"
   ],
   "metadata": {
    "collapsed": false
   },
   "id": "bf7baa9706d7314c"
  },
  {
   "cell_type": "markdown",
   "source": [
    "## Load data and model"
   ],
   "metadata": {
    "collapsed": false
   },
   "id": "84252360184e11e0"
  },
  {
   "cell_type": "code",
   "outputs": [],
   "source": [
    "f, m = [], []\n",
    "for subj, roi in itertools.product(subj_list, roi_list):\n",
    "    file_name = f'e1-{e1}_e2-{e2}_nbin-{enum}_dset-nsdsyn_sub-{subj}_roi-{roi}_vs-{voxels}.csv'\n",
    "    f.append(os.path.join(output_dir, 'dataframes', 'nsdsyn', 'binned', file_name))\n",
    "\n",
    "subj_df = utils.load_dataframes(f)\n",
    "subj_df = subj_df.groupby(['sub','ecc_bin','vroinames','freq_lvl']).mean().reset_index()\n",
    "\n",
    "args = ['sub', 'class','dset', 'lr', 'eph', 'roi', 'e1', 'e2', 'nbin', 'curbin']\n",
    "\n",
    "pt_file_list = []\n",
    "for subj, roi, curbin in itertools.product(subj_list, roi_list, enum_range):\n",
    "    file_name = f'model-params_class-{stim_class}_lr-{lr}_eph-{max_epoch}_e1-{e1}_e2-{e2}_nbin-{enum}_curbin-{curbin}_dset-nsdsyn_sub-{subj}_roi-{roi}_vs-{voxels}.pt'\n",
    "    pt_file_list.append(os.path.join(output_dir, 'sfp_model', 'results_1D', 'nsdsyn', file_name))\n",
    "    \n",
    "tuning_df = tuning.load_all_models(pt_file_list, *args)"
   ],
   "metadata": {
    "collapsed": false,
    "ExecuteTime": {
     "end_time": "2024-05-01T19:41:43.952874Z",
     "start_time": "2024-05-01T19:41:38.769299Z"
    }
   },
   "id": "9269b6fe595e0626",
   "execution_count": 5
  },
  {
   "cell_type": "code",
   "outputs": [],
   "source": [
    "\n",
    "for stim_class in stim_classes+['avg']:\n",
    "    g = sns.catplot(data=tuning_df.query('names == @stim_class'), sharey=True,\n",
    "                    hue_order=subj_list,order=bin_labels,\n",
    "                x='ecc_bin',y='mode', hue='sub', \n",
    "                    col='vroinames', kind='point', height=utils.get_height_based_on_width(6,1.5), aspect=1.3)\n",
    "    g.set_xticklabels(rotation=30)\n",
    "    g.set(ylim=[-0.5,14.5], yticks=[0,1,3,5,7,9,11,13])\n",
    "    \n",
    "    # Access the axes and set grid properties\n",
    "    for ax in g.axes.flat:\n",
    "        ax.yaxis.grid(True)  # Show y-axis grid lines\n",
    "        ax.yaxis.grid(which='major', linestyle='-', linewidth=2)  # Set grid line style and width\n",
    "    g.fig.suptitle(stim_class, y=1.05)\n",
    "    plt.savefig(os.path.join(fig_dir, f'ecc_mode_{stim_class}.png'), bbox_inches='tight')\n",
    "    plt.close()"
   ],
   "metadata": {
    "collapsed": false
   },
   "id": "eea0cafe6d3ce4e8"
  },
  {
   "cell_type": "code",
   "outputs": [],
   "source": [],
   "metadata": {
    "collapsed": false
   },
   "id": "c83e840ab7d11a96"
  },
  {
   "cell_type": "markdown",
   "source": [
    "# Loss for each eccentricity"
   ],
   "metadata": {
    "collapsed": false
   },
   "id": "cb9be086a2ff398f"
  },
  {
   "cell_type": "markdown",
   "source": [
    "## Load in loss and model history"
   ],
   "metadata": {
    "collapsed": false
   },
   "id": "159c92d736124d86"
  },
  {
   "cell_type": "code",
   "outputs": [
    {
     "ename": "KeyboardInterrupt",
     "evalue": "",
     "output_type": "error",
     "traceback": [
      "\u001B[0;31m---------------------------------------------------------------------------\u001B[0m",
      "\u001B[0;31mKeyboardInterrupt\u001B[0m                         Traceback (most recent call last)",
      "\u001B[0;32m/var/folders/dc/rp0klyw131l30jr45p7_7gnnnl2r2_/T/ipykernel_1808/2656246676.py\u001B[0m in \u001B[0;36m<module>\u001B[0;34m\u001B[0m\n\u001B[1;32m     10\u001B[0m \u001B[0mloss_df\u001B[0m \u001B[0;34m=\u001B[0m \u001B[0mpd\u001B[0m\u001B[0;34m.\u001B[0m\u001B[0mDataFrame\u001B[0m\u001B[0;34m(\u001B[0m\u001B[0;34m{\u001B[0m\u001B[0;34m}\u001B[0m\u001B[0;34m)\u001B[0m\u001B[0;34m\u001B[0m\u001B[0;34m\u001B[0m\u001B[0m\n\u001B[1;32m     11\u001B[0m \u001B[0;32mfor\u001B[0m \u001B[0ml_file\u001B[0m \u001B[0;32min\u001B[0m \u001B[0ml\u001B[0m\u001B[0;34m:\u001B[0m\u001B[0;34m\u001B[0m\u001B[0;34m\u001B[0m\u001B[0m\n\u001B[0;32m---> 12\u001B[0;31m     \u001B[0mtmp_df\u001B[0m \u001B[0;34m=\u001B[0m \u001B[0mutils\u001B[0m\u001B[0;34m.\u001B[0m\u001B[0mload_dataframes\u001B[0m\u001B[0;34m(\u001B[0m\u001B[0;34m[\u001B[0m\u001B[0ml_file\u001B[0m\u001B[0;34m]\u001B[0m\u001B[0;34m,\u001B[0m \u001B[0;34m*\u001B[0m\u001B[0margs\u001B[0m\u001B[0;34m)\u001B[0m\u001B[0;34m\u001B[0m\u001B[0;34m\u001B[0m\u001B[0m\n\u001B[0m\u001B[1;32m     13\u001B[0m     \u001B[0mtmp_df\u001B[0m \u001B[0;34m=\u001B[0m \u001B[0mtmp_df\u001B[0m\u001B[0;34m.\u001B[0m\u001B[0mquery\u001B[0m\u001B[0;34m(\u001B[0m\u001B[0;34m'epoch == @max_epoch-1'\u001B[0m\u001B[0;34m)\u001B[0m\u001B[0;34m\u001B[0m\u001B[0;34m\u001B[0m\u001B[0m\n\u001B[1;32m     14\u001B[0m     \u001B[0mloss_df\u001B[0m \u001B[0;34m=\u001B[0m \u001B[0mpd\u001B[0m\u001B[0;34m.\u001B[0m\u001B[0mconcat\u001B[0m\u001B[0;34m(\u001B[0m\u001B[0;34m(\u001B[0m\u001B[0mloss_df\u001B[0m\u001B[0;34m,\u001B[0m \u001B[0mtmp_df\u001B[0m\u001B[0;34m)\u001B[0m\u001B[0;34m,\u001B[0m \u001B[0maxis\u001B[0m\u001B[0;34m=\u001B[0m\u001B[0;36m0\u001B[0m\u001B[0;34m)\u001B[0m\u001B[0;34m\u001B[0m\u001B[0;34m\u001B[0m\u001B[0m\n",
      "\u001B[0;32m~/Documents/Projects/spatial-frequency-preferences_NSDsyn/sfp_nsdsyn/utils.py\u001B[0m in \u001B[0;36mload_dataframes\u001B[0;34m(file_list, *args)\u001B[0m\n\u001B[1;32m    319\u001B[0m         \u001B[0mf_type\u001B[0m \u001B[0;34m=\u001B[0m \u001B[0mf\u001B[0m\u001B[0;34m.\u001B[0m\u001B[0msplit\u001B[0m\u001B[0;34m(\u001B[0m\u001B[0;34m'.'\u001B[0m\u001B[0;34m)\u001B[0m\u001B[0;34m[\u001B[0m\u001B[0;34m-\u001B[0m\u001B[0;36m1\u001B[0m\u001B[0;34m]\u001B[0m\u001B[0;34m\u001B[0m\u001B[0;34m\u001B[0m\u001B[0m\n\u001B[1;32m    320\u001B[0m         \u001B[0;32mif\u001B[0m \u001B[0mf_type\u001B[0m \u001B[0;34m==\u001B[0m \u001B[0;34m'h5'\u001B[0m\u001B[0;32mor\u001B[0m \u001B[0mf_type\u001B[0m \u001B[0;34m==\u001B[0m \u001B[0;34m'hdf'\u001B[0m\u001B[0;34m:\u001B[0m\u001B[0;34m\u001B[0m\u001B[0;34m\u001B[0m\u001B[0m\n\u001B[0;32m--> 321\u001B[0;31m             \u001B[0mtmp\u001B[0m \u001B[0;34m=\u001B[0m \u001B[0mpd\u001B[0m\u001B[0;34m.\u001B[0m\u001B[0mread_hdf\u001B[0m\u001B[0;34m(\u001B[0m\u001B[0mf\u001B[0m\u001B[0;34m)\u001B[0m\u001B[0;34m\u001B[0m\u001B[0;34m\u001B[0m\u001B[0m\n\u001B[0m\u001B[1;32m    322\u001B[0m         \u001B[0;32melif\u001B[0m \u001B[0mf_type\u001B[0m \u001B[0;34m==\u001B[0m \u001B[0;34m'csv'\u001B[0m\u001B[0;34m:\u001B[0m\u001B[0;34m\u001B[0m\u001B[0;34m\u001B[0m\u001B[0m\n\u001B[1;32m    323\u001B[0m             \u001B[0mtmp\u001B[0m \u001B[0;34m=\u001B[0m \u001B[0mpd\u001B[0m\u001B[0;34m.\u001B[0m\u001B[0mread_csv\u001B[0m\u001B[0;34m(\u001B[0m\u001B[0mf\u001B[0m\u001B[0;34m)\u001B[0m\u001B[0;34m\u001B[0m\u001B[0;34m\u001B[0m\u001B[0m\n",
      "\u001B[0;32m~/opt/miniconda3/envs/sfp/lib/python3.7/site-packages/pandas/io/pytables.py\u001B[0m in \u001B[0;36mread_hdf\u001B[0;34m(path_or_buf, key, mode, errors, where, start, stop, columns, iterator, chunksize, **kwargs)\u001B[0m\n\u001B[1;32m    434\u001B[0m     \u001B[0;32mtry\u001B[0m\u001B[0;34m:\u001B[0m\u001B[0;34m\u001B[0m\u001B[0;34m\u001B[0m\u001B[0m\n\u001B[1;32m    435\u001B[0m         \u001B[0;32mif\u001B[0m \u001B[0mkey\u001B[0m \u001B[0;32mis\u001B[0m \u001B[0;32mNone\u001B[0m\u001B[0;34m:\u001B[0m\u001B[0;34m\u001B[0m\u001B[0;34m\u001B[0m\u001B[0m\n\u001B[0;32m--> 436\u001B[0;31m             \u001B[0mgroups\u001B[0m \u001B[0;34m=\u001B[0m \u001B[0mstore\u001B[0m\u001B[0;34m.\u001B[0m\u001B[0mgroups\u001B[0m\u001B[0;34m(\u001B[0m\u001B[0;34m)\u001B[0m\u001B[0;34m\u001B[0m\u001B[0;34m\u001B[0m\u001B[0m\n\u001B[0m\u001B[1;32m    437\u001B[0m             \u001B[0;32mif\u001B[0m \u001B[0mlen\u001B[0m\u001B[0;34m(\u001B[0m\u001B[0mgroups\u001B[0m\u001B[0;34m)\u001B[0m \u001B[0;34m==\u001B[0m \u001B[0;36m0\u001B[0m\u001B[0;34m:\u001B[0m\u001B[0;34m\u001B[0m\u001B[0;34m\u001B[0m\u001B[0m\n\u001B[1;32m    438\u001B[0m                 raise ValueError(\n",
      "\u001B[0;32m~/opt/miniconda3/envs/sfp/lib/python3.7/site-packages/pandas/io/pytables.py\u001B[0m in \u001B[0;36mgroups\u001B[0;34m(self)\u001B[0m\n\u001B[1;32m   1433\u001B[0m         return [\n\u001B[1;32m   1434\u001B[0m             \u001B[0mg\u001B[0m\u001B[0;34m\u001B[0m\u001B[0;34m\u001B[0m\u001B[0m\n\u001B[0;32m-> 1435\u001B[0;31m             \u001B[0;32mfor\u001B[0m \u001B[0mg\u001B[0m \u001B[0;32min\u001B[0m \u001B[0mself\u001B[0m\u001B[0;34m.\u001B[0m\u001B[0m_handle\u001B[0m\u001B[0;34m.\u001B[0m\u001B[0mwalk_groups\u001B[0m\u001B[0;34m(\u001B[0m\u001B[0;34m)\u001B[0m\u001B[0;34m\u001B[0m\u001B[0;34m\u001B[0m\u001B[0m\n\u001B[0m\u001B[1;32m   1436\u001B[0m             if (\n\u001B[1;32m   1437\u001B[0m                 \u001B[0;32mnot\u001B[0m \u001B[0misinstance\u001B[0m\u001B[0;34m(\u001B[0m\u001B[0mg\u001B[0m\u001B[0;34m,\u001B[0m \u001B[0m_table_mod\u001B[0m\u001B[0;34m.\u001B[0m\u001B[0mlink\u001B[0m\u001B[0;34m.\u001B[0m\u001B[0mLink\u001B[0m\u001B[0;34m)\u001B[0m\u001B[0;34m\u001B[0m\u001B[0;34m\u001B[0m\u001B[0m\n",
      "\u001B[0;32m~/opt/miniconda3/envs/sfp/lib/python3.7/site-packages/pandas/io/pytables.py\u001B[0m in \u001B[0;36m<listcomp>\u001B[0;34m(.0)\u001B[0m\n\u001B[1;32m   1432\u001B[0m         \u001B[0;32massert\u001B[0m \u001B[0m_table_mod\u001B[0m \u001B[0;32mis\u001B[0m \u001B[0;32mnot\u001B[0m \u001B[0;32mNone\u001B[0m  \u001B[0;31m# for mypy\u001B[0m\u001B[0;34m\u001B[0m\u001B[0;34m\u001B[0m\u001B[0m\n\u001B[1;32m   1433\u001B[0m         return [\n\u001B[0;32m-> 1434\u001B[0;31m             \u001B[0mg\u001B[0m\u001B[0;34m\u001B[0m\u001B[0;34m\u001B[0m\u001B[0m\n\u001B[0m\u001B[1;32m   1435\u001B[0m             \u001B[0;32mfor\u001B[0m \u001B[0mg\u001B[0m \u001B[0;32min\u001B[0m \u001B[0mself\u001B[0m\u001B[0;34m.\u001B[0m\u001B[0m_handle\u001B[0m\u001B[0;34m.\u001B[0m\u001B[0mwalk_groups\u001B[0m\u001B[0;34m(\u001B[0m\u001B[0;34m)\u001B[0m\u001B[0;34m\u001B[0m\u001B[0;34m\u001B[0m\u001B[0m\n\u001B[1;32m   1436\u001B[0m             if (\n",
      "\u001B[0;32m~/opt/miniconda3/envs/sfp/lib/python3.7/site-packages/tables/group.py\u001B[0m in \u001B[0;36m_f_walk_groups\u001B[0;34m(self)\u001B[0m\n\u001B[1;32m    754\u001B[0m             \u001B[0;32mfor\u001B[0m \u001B[0mgroupname\u001B[0m \u001B[0;32min\u001B[0m \u001B[0mgroupnames\u001B[0m\u001B[0;34m:\u001B[0m\u001B[0;34m\u001B[0m\u001B[0;34m\u001B[0m\u001B[0m\n\u001B[1;32m    755\u001B[0m                 \u001B[0;31m# TODO: check recursion\u001B[0m\u001B[0;34m\u001B[0m\u001B[0;34m\u001B[0m\u001B[0;34m\u001B[0m\u001B[0m\n\u001B[0;32m--> 756\u001B[0;31m                 \u001B[0mstack\u001B[0m\u001B[0;34m.\u001B[0m\u001B[0mappend\u001B[0m\u001B[0;34m(\u001B[0m\u001B[0mobjgroup\u001B[0m\u001B[0;34m.\u001B[0m\u001B[0m_v_groups\u001B[0m\u001B[0;34m[\u001B[0m\u001B[0mgroupname\u001B[0m\u001B[0;34m]\u001B[0m\u001B[0;34m)\u001B[0m\u001B[0;34m\u001B[0m\u001B[0;34m\u001B[0m\u001B[0m\n\u001B[0m\u001B[1;32m    757\u001B[0m                 \u001B[0;32myield\u001B[0m \u001B[0mobjgroup\u001B[0m\u001B[0;34m.\u001B[0m\u001B[0m_v_groups\u001B[0m\u001B[0;34m[\u001B[0m\u001B[0mgroupname\u001B[0m\u001B[0;34m]\u001B[0m\u001B[0;34m\u001B[0m\u001B[0;34m\u001B[0m\u001B[0m\n\u001B[1;32m    758\u001B[0m \u001B[0;34m\u001B[0m\u001B[0m\n",
      "\u001B[0;32m~/opt/miniconda3/envs/sfp/lib/python3.7/site-packages/tables/misc/proxydict.py\u001B[0m in \u001B[0;36m__getitem__\u001B[0;34m(self, key)\u001B[0m\n\u001B[1;32m     21\u001B[0m \u001B[0;34m\u001B[0m\u001B[0m\n\u001B[1;32m     22\u001B[0m         \u001B[0;31m# Values are not actually stored to avoid extra references.\u001B[0m\u001B[0;34m\u001B[0m\u001B[0;34m\u001B[0m\u001B[0;34m\u001B[0m\u001B[0m\n\u001B[0;32m---> 23\u001B[0;31m         \u001B[0;32mreturn\u001B[0m \u001B[0mself\u001B[0m\u001B[0;34m.\u001B[0m\u001B[0m_get_value_from_container\u001B[0m\u001B[0;34m(\u001B[0m\u001B[0mself\u001B[0m\u001B[0;34m.\u001B[0m\u001B[0m_get_container\u001B[0m\u001B[0;34m(\u001B[0m\u001B[0;34m)\u001B[0m\u001B[0;34m,\u001B[0m \u001B[0mkey\u001B[0m\u001B[0;34m)\u001B[0m\u001B[0;34m\u001B[0m\u001B[0;34m\u001B[0m\u001B[0m\n\u001B[0m\u001B[1;32m     24\u001B[0m \u001B[0;34m\u001B[0m\u001B[0m\n\u001B[1;32m     25\u001B[0m     \u001B[0;32mdef\u001B[0m \u001B[0m__setitem__\u001B[0m\u001B[0;34m(\u001B[0m\u001B[0mself\u001B[0m\u001B[0;34m,\u001B[0m \u001B[0mkey\u001B[0m\u001B[0;34m,\u001B[0m \u001B[0mvalue\u001B[0m\u001B[0;34m)\u001B[0m\u001B[0;34m:\u001B[0m\u001B[0;34m\u001B[0m\u001B[0;34m\u001B[0m\u001B[0m\n",
      "\u001B[0;32m~/opt/miniconda3/envs/sfp/lib/python3.7/site-packages/tables/group.py\u001B[0m in \u001B[0;36m_get_value_from_container\u001B[0;34m(self, container, key)\u001B[0m\n\u001B[1;32m     26\u001B[0m \u001B[0;32mclass\u001B[0m \u001B[0m_ChildrenDict\u001B[0m\u001B[0;34m(\u001B[0m\u001B[0mProxyDict\u001B[0m\u001B[0;34m)\u001B[0m\u001B[0;34m:\u001B[0m\u001B[0;34m\u001B[0m\u001B[0;34m\u001B[0m\u001B[0m\n\u001B[1;32m     27\u001B[0m     \u001B[0;32mdef\u001B[0m \u001B[0m_get_value_from_container\u001B[0m\u001B[0;34m(\u001B[0m\u001B[0mself\u001B[0m\u001B[0;34m,\u001B[0m \u001B[0mcontainer\u001B[0m\u001B[0;34m,\u001B[0m \u001B[0mkey\u001B[0m\u001B[0;34m)\u001B[0m\u001B[0;34m:\u001B[0m\u001B[0;34m\u001B[0m\u001B[0;34m\u001B[0m\u001B[0m\n\u001B[0;32m---> 28\u001B[0;31m         \u001B[0;32mreturn\u001B[0m \u001B[0mcontainer\u001B[0m\u001B[0;34m.\u001B[0m\u001B[0m_f_get_child\u001B[0m\u001B[0;34m(\u001B[0m\u001B[0mkey\u001B[0m\u001B[0;34m)\u001B[0m\u001B[0;34m\u001B[0m\u001B[0;34m\u001B[0m\u001B[0m\n\u001B[0m\u001B[1;32m     29\u001B[0m \u001B[0;34m\u001B[0m\u001B[0m\n\u001B[1;32m     30\u001B[0m \u001B[0;34m\u001B[0m\u001B[0m\n",
      "\u001B[0;32m~/opt/miniconda3/envs/sfp/lib/python3.7/site-packages/tables/group.py\u001B[0m in \u001B[0;36m_f_get_child\u001B[0;34m(self, childname)\u001B[0m\n\u001B[1;32m    683\u001B[0m \u001B[0;34m\u001B[0m\u001B[0m\n\u001B[1;32m    684\u001B[0m         \u001B[0mchildpath\u001B[0m \u001B[0;34m=\u001B[0m \u001B[0mjoin_path\u001B[0m\u001B[0;34m(\u001B[0m\u001B[0mself\u001B[0m\u001B[0;34m.\u001B[0m\u001B[0m_v_pathname\u001B[0m\u001B[0;34m,\u001B[0m \u001B[0mchildname\u001B[0m\u001B[0;34m)\u001B[0m\u001B[0;34m\u001B[0m\u001B[0;34m\u001B[0m\u001B[0m\n\u001B[0;32m--> 685\u001B[0;31m         \u001B[0;32mreturn\u001B[0m \u001B[0mself\u001B[0m\u001B[0;34m.\u001B[0m\u001B[0m_v_file\u001B[0m\u001B[0;34m.\u001B[0m\u001B[0m_get_node\u001B[0m\u001B[0;34m(\u001B[0m\u001B[0mchildpath\u001B[0m\u001B[0;34m)\u001B[0m\u001B[0;34m\u001B[0m\u001B[0;34m\u001B[0m\u001B[0m\n\u001B[0m\u001B[1;32m    686\u001B[0m \u001B[0;34m\u001B[0m\u001B[0m\n\u001B[1;32m    687\u001B[0m     \u001B[0;32mdef\u001B[0m \u001B[0m_f_list_nodes\u001B[0m\u001B[0;34m(\u001B[0m\u001B[0mself\u001B[0m\u001B[0;34m,\u001B[0m \u001B[0mclassname\u001B[0m\u001B[0;34m=\u001B[0m\u001B[0;32mNone\u001B[0m\u001B[0;34m)\u001B[0m\u001B[0;34m:\u001B[0m\u001B[0;34m\u001B[0m\u001B[0;34m\u001B[0m\u001B[0m\n",
      "\u001B[0;32m~/opt/miniconda3/envs/sfp/lib/python3.7/site-packages/tables/file.py\u001B[0m in \u001B[0;36m_get_node\u001B[0;34m(self, nodepath)\u001B[0m\n\u001B[1;32m   1554\u001B[0m             \u001B[0;32mreturn\u001B[0m \u001B[0mself\u001B[0m\u001B[0;34m.\u001B[0m\u001B[0mroot\u001B[0m\u001B[0;34m\u001B[0m\u001B[0;34m\u001B[0m\u001B[0m\n\u001B[1;32m   1555\u001B[0m \u001B[0;34m\u001B[0m\u001B[0m\n\u001B[0;32m-> 1556\u001B[0;31m         \u001B[0mnode\u001B[0m \u001B[0;34m=\u001B[0m \u001B[0mself\u001B[0m\u001B[0;34m.\u001B[0m\u001B[0m_node_manager\u001B[0m\u001B[0;34m.\u001B[0m\u001B[0mget_node\u001B[0m\u001B[0;34m(\u001B[0m\u001B[0mnodepath\u001B[0m\u001B[0;34m)\u001B[0m\u001B[0;34m\u001B[0m\u001B[0;34m\u001B[0m\u001B[0m\n\u001B[0m\u001B[1;32m   1557\u001B[0m         \u001B[0;32massert\u001B[0m \u001B[0mnode\u001B[0m \u001B[0;32mis\u001B[0m \u001B[0;32mnot\u001B[0m \u001B[0;32mNone\u001B[0m\u001B[0;34m,\u001B[0m \u001B[0;34m\"unable to instantiate node ``%s``\"\u001B[0m \u001B[0;34m%\u001B[0m \u001B[0mnodepath\u001B[0m\u001B[0;34m\u001B[0m\u001B[0;34m\u001B[0m\u001B[0m\n\u001B[1;32m   1558\u001B[0m \u001B[0;34m\u001B[0m\u001B[0m\n",
      "\u001B[0;32m~/opt/miniconda3/envs/sfp/lib/python3.7/site-packages/tables/file.py\u001B[0m in \u001B[0;36mget_node\u001B[0;34m(self, key)\u001B[0m\n\u001B[1;32m    415\u001B[0m \u001B[0;34m\u001B[0m\u001B[0m\n\u001B[1;32m    416\u001B[0m         \u001B[0;32mif\u001B[0m \u001B[0mself\u001B[0m\u001B[0;34m.\u001B[0m\u001B[0mnode_factory\u001B[0m\u001B[0;34m:\u001B[0m\u001B[0;34m\u001B[0m\u001B[0;34m\u001B[0m\u001B[0m\n\u001B[0;32m--> 417\u001B[0;31m             \u001B[0mnode\u001B[0m \u001B[0;34m=\u001B[0m \u001B[0mself\u001B[0m\u001B[0;34m.\u001B[0m\u001B[0mnode_factory\u001B[0m\u001B[0;34m(\u001B[0m\u001B[0mkey\u001B[0m\u001B[0;34m)\u001B[0m\u001B[0;34m\u001B[0m\u001B[0;34m\u001B[0m\u001B[0m\n\u001B[0m\u001B[1;32m    418\u001B[0m             \u001B[0mself\u001B[0m\u001B[0;34m.\u001B[0m\u001B[0mcache_node\u001B[0m\u001B[0;34m(\u001B[0m\u001B[0mnode\u001B[0m\u001B[0;34m,\u001B[0m \u001B[0mkey\u001B[0m\u001B[0;34m)\u001B[0m\u001B[0;34m\u001B[0m\u001B[0;34m\u001B[0m\u001B[0m\n\u001B[1;32m    419\u001B[0m \u001B[0;34m\u001B[0m\u001B[0m\n",
      "\u001B[0;32m~/opt/miniconda3/envs/sfp/lib/python3.7/site-packages/tables/group.py\u001B[0m in \u001B[0;36m_g_load_child\u001B[0;34m(self, childname)\u001B[0m\n\u001B[1;32m   1149\u001B[0m                 \u001B[0;31m# Default is a Group class\u001B[0m\u001B[0;34m\u001B[0m\u001B[0;34m\u001B[0m\u001B[0;34m\u001B[0m\u001B[0m\n\u001B[1;32m   1150\u001B[0m                 \u001B[0mChildClass\u001B[0m \u001B[0;34m=\u001B[0m \u001B[0mGroup\u001B[0m\u001B[0;34m\u001B[0m\u001B[0;34m\u001B[0m\u001B[0m\n\u001B[0;32m-> 1151\u001B[0;31m             \u001B[0;32mreturn\u001B[0m \u001B[0mChildClass\u001B[0m\u001B[0;34m(\u001B[0m\u001B[0mself\u001B[0m\u001B[0;34m,\u001B[0m \u001B[0mchildname\u001B[0m\u001B[0;34m,\u001B[0m \u001B[0mnew\u001B[0m\u001B[0;34m=\u001B[0m\u001B[0;32mFalse\u001B[0m\u001B[0;34m)\u001B[0m\u001B[0;34m\u001B[0m\u001B[0;34m\u001B[0m\u001B[0m\n\u001B[0m\u001B[1;32m   1152\u001B[0m         \u001B[0;32melif\u001B[0m \u001B[0mnode_type\u001B[0m \u001B[0;34m==\u001B[0m \u001B[0;34m\"Leaf\"\u001B[0m\u001B[0;34m:\u001B[0m\u001B[0;34m\u001B[0m\u001B[0;34m\u001B[0m\u001B[0m\n\u001B[1;32m   1153\u001B[0m             \u001B[0mChildClass\u001B[0m \u001B[0;34m=\u001B[0m \u001B[0mself\u001B[0m\u001B[0;34m.\u001B[0m\u001B[0m_g_get_child_leaf_class\u001B[0m\u001B[0;34m(\u001B[0m\u001B[0mchildname\u001B[0m\u001B[0;34m,\u001B[0m \u001B[0mwarn\u001B[0m\u001B[0;34m=\u001B[0m\u001B[0;32mTrue\u001B[0m\u001B[0;34m)\u001B[0m\u001B[0;34m\u001B[0m\u001B[0;34m\u001B[0m\u001B[0m\n",
      "\u001B[0;32m~/opt/miniconda3/envs/sfp/lib/python3.7/site-packages/tables/group.py\u001B[0m in \u001B[0;36m__init__\u001B[0;34m(self, parentnode, name, title, new, filters, _log)\u001B[0m\n\u001B[1;32m    219\u001B[0m \u001B[0;34m\u001B[0m\u001B[0m\n\u001B[1;32m    220\u001B[0m         \u001B[0;31m# Finally, set up this object as a node.\u001B[0m\u001B[0;34m\u001B[0m\u001B[0;34m\u001B[0m\u001B[0;34m\u001B[0m\u001B[0m\n\u001B[0;32m--> 221\u001B[0;31m         \u001B[0msuper\u001B[0m\u001B[0;34m(\u001B[0m\u001B[0;34m)\u001B[0m\u001B[0;34m.\u001B[0m\u001B[0m__init__\u001B[0m\u001B[0;34m(\u001B[0m\u001B[0mparentnode\u001B[0m\u001B[0;34m,\u001B[0m \u001B[0mname\u001B[0m\u001B[0;34m,\u001B[0m \u001B[0m_log\u001B[0m\u001B[0;34m)\u001B[0m\u001B[0;34m\u001B[0m\u001B[0;34m\u001B[0m\u001B[0m\n\u001B[0m\u001B[1;32m    222\u001B[0m \u001B[0;34m\u001B[0m\u001B[0m\n\u001B[1;32m    223\u001B[0m     \u001B[0;32mdef\u001B[0m \u001B[0m_g_post_init_hook\u001B[0m\u001B[0;34m(\u001B[0m\u001B[0mself\u001B[0m\u001B[0;34m)\u001B[0m\u001B[0;34m:\u001B[0m\u001B[0;34m\u001B[0m\u001B[0;34m\u001B[0m\u001B[0m\n",
      "\u001B[0;32m~/opt/miniconda3/envs/sfp/lib/python3.7/site-packages/tables/node.py\u001B[0m in \u001B[0;36m__init__\u001B[0;34m(self, parentnode, name, _log)\u001B[0m\n\u001B[1;32m    256\u001B[0m \u001B[0;34m\u001B[0m\u001B[0m\n\u001B[1;32m    257\u001B[0m             \u001B[0;31m# This allows extra operations after creating the node.\u001B[0m\u001B[0;34m\u001B[0m\u001B[0;34m\u001B[0m\u001B[0;34m\u001B[0m\u001B[0m\n\u001B[0;32m--> 258\u001B[0;31m             \u001B[0mself\u001B[0m\u001B[0;34m.\u001B[0m\u001B[0m_g_post_init_hook\u001B[0m\u001B[0;34m(\u001B[0m\u001B[0;34m)\u001B[0m\u001B[0;34m\u001B[0m\u001B[0;34m\u001B[0m\u001B[0m\n\u001B[0m\u001B[1;32m    259\u001B[0m         \u001B[0;32mexcept\u001B[0m \u001B[0mException\u001B[0m\u001B[0;34m:\u001B[0m\u001B[0;34m\u001B[0m\u001B[0;34m\u001B[0m\u001B[0m\n\u001B[1;32m    260\u001B[0m             \u001B[0;31m# If anything happens, the node must be closed\u001B[0m\u001B[0;34m\u001B[0m\u001B[0;34m\u001B[0m\u001B[0;34m\u001B[0m\u001B[0m\n",
      "\u001B[0;32m~/opt/miniconda3/envs/sfp/lib/python3.7/site-packages/tables/group.py\u001B[0m in \u001B[0;36m_g_post_init_hook\u001B[0;34m(self)\u001B[0m\n\u001B[1;32m    243\u001B[0m         \u001B[0;32melse\u001B[0m\u001B[0;34m:\u001B[0m\u001B[0;34m\u001B[0m\u001B[0;34m\u001B[0m\u001B[0m\n\u001B[1;32m    244\u001B[0m             \u001B[0;31m# If the file has PyTables format, get the VERSION attr\u001B[0m\u001B[0;34m\u001B[0m\u001B[0;34m\u001B[0m\u001B[0;34m\u001B[0m\u001B[0m\n\u001B[0;32m--> 245\u001B[0;31m             \u001B[0;32mif\u001B[0m \u001B[0;34m'VERSION'\u001B[0m \u001B[0;32min\u001B[0m \u001B[0mself\u001B[0m\u001B[0;34m.\u001B[0m\u001B[0m_v_attrs\u001B[0m\u001B[0;34m.\u001B[0m\u001B[0m_v_attrnamessys\u001B[0m\u001B[0;34m:\u001B[0m\u001B[0;34m\u001B[0m\u001B[0;34m\u001B[0m\u001B[0m\n\u001B[0m\u001B[1;32m    246\u001B[0m                 \u001B[0mself\u001B[0m\u001B[0;34m.\u001B[0m\u001B[0m_v_version\u001B[0m \u001B[0;34m=\u001B[0m \u001B[0mself\u001B[0m\u001B[0;34m.\u001B[0m\u001B[0m_v_attrs\u001B[0m\u001B[0;34m.\u001B[0m\u001B[0mVERSION\u001B[0m\u001B[0;34m\u001B[0m\u001B[0;34m\u001B[0m\u001B[0m\n\u001B[1;32m    247\u001B[0m             \u001B[0;32melse\u001B[0m\u001B[0;34m:\u001B[0m\u001B[0;34m\u001B[0m\u001B[0;34m\u001B[0m\u001B[0m\n",
      "\u001B[0;32m~/opt/miniconda3/envs/sfp/lib/python3.7/site-packages/tables/utils.py\u001B[0m in \u001B[0;36mnewfget\u001B[0;34m(self)\u001B[0m\n\u001B[1;32m    223\u001B[0m         \u001B[0;32mif\u001B[0m \u001B[0mname\u001B[0m \u001B[0;32min\u001B[0m \u001B[0mmydict\u001B[0m\u001B[0;34m:\u001B[0m\u001B[0;34m\u001B[0m\u001B[0;34m\u001B[0m\u001B[0m\n\u001B[1;32m    224\u001B[0m             \u001B[0;32mreturn\u001B[0m \u001B[0mmydict\u001B[0m\u001B[0;34m[\u001B[0m\u001B[0mname\u001B[0m\u001B[0;34m]\u001B[0m\u001B[0;34m\u001B[0m\u001B[0;34m\u001B[0m\u001B[0m\n\u001B[0;32m--> 225\u001B[0;31m         \u001B[0mmydict\u001B[0m\u001B[0;34m[\u001B[0m\u001B[0mname\u001B[0m\u001B[0;34m]\u001B[0m \u001B[0;34m=\u001B[0m \u001B[0mvalue\u001B[0m \u001B[0;34m=\u001B[0m \u001B[0mfget\u001B[0m\u001B[0;34m(\u001B[0m\u001B[0mself\u001B[0m\u001B[0;34m)\u001B[0m\u001B[0;34m\u001B[0m\u001B[0;34m\u001B[0m\u001B[0m\n\u001B[0m\u001B[1;32m    226\u001B[0m         \u001B[0;32mreturn\u001B[0m \u001B[0mvalue\u001B[0m\u001B[0;34m\u001B[0m\u001B[0;34m\u001B[0m\u001B[0m\n\u001B[1;32m    227\u001B[0m \u001B[0;34m\u001B[0m\u001B[0m\n",
      "\u001B[0;32m~/opt/miniconda3/envs/sfp/lib/python3.7/site-packages/tables/node.py\u001B[0m in \u001B[0;36m_v_attrs\u001B[0;34m(self)\u001B[0m\n\u001B[1;32m    157\u001B[0m         \"\"\"\n\u001B[1;32m    158\u001B[0m \u001B[0;34m\u001B[0m\u001B[0m\n\u001B[0;32m--> 159\u001B[0;31m         \u001B[0;32mreturn\u001B[0m \u001B[0mself\u001B[0m\u001B[0;34m.\u001B[0m\u001B[0m_AttributeSet\u001B[0m\u001B[0;34m(\u001B[0m\u001B[0mself\u001B[0m\u001B[0;34m)\u001B[0m\u001B[0;34m\u001B[0m\u001B[0;34m\u001B[0m\u001B[0m\n\u001B[0m\u001B[1;32m    160\u001B[0m \u001B[0;34m\u001B[0m\u001B[0m\n\u001B[1;32m    161\u001B[0m     \u001B[0;31m# '_v_title' is a direct read-write shorthand for the 'TITLE' attribute\u001B[0m\u001B[0;34m\u001B[0m\u001B[0;34m\u001B[0m\u001B[0;34m\u001B[0m\u001B[0m\n",
      "\u001B[0;32m~/opt/miniconda3/envs/sfp/lib/python3.7/site-packages/tables/attributeset.py\u001B[0m in \u001B[0;36m__init__\u001B[0;34m(self, node)\u001B[0m\n\u001B[1;32m    230\u001B[0m             \u001B[0;31m# put the attributes on the local dictionary to allow\u001B[0m\u001B[0;34m\u001B[0m\u001B[0;34m\u001B[0m\u001B[0;34m\u001B[0m\u001B[0m\n\u001B[1;32m    231\u001B[0m             \u001B[0;31m# tab-completion\u001B[0m\u001B[0;34m\u001B[0m\u001B[0;34m\u001B[0m\u001B[0;34m\u001B[0m\u001B[0m\n\u001B[0;32m--> 232\u001B[0;31m             \u001B[0mself\u001B[0m\u001B[0;34m.\u001B[0m\u001B[0m__getattr__\u001B[0m\u001B[0;34m(\u001B[0m\u001B[0mattr\u001B[0m\u001B[0;34m)\u001B[0m\u001B[0;34m\u001B[0m\u001B[0;34m\u001B[0m\u001B[0m\n\u001B[0m\u001B[1;32m    233\u001B[0m             \u001B[0;32mif\u001B[0m \u001B[0missysattrname\u001B[0m\u001B[0;34m(\u001B[0m\u001B[0mattr\u001B[0m\u001B[0;34m)\u001B[0m\u001B[0;34m:\u001B[0m\u001B[0;34m\u001B[0m\u001B[0;34m\u001B[0m\u001B[0m\n\u001B[1;32m    234\u001B[0m                 \u001B[0mself\u001B[0m\u001B[0;34m.\u001B[0m\u001B[0m_v_attrnamessys\u001B[0m\u001B[0;34m.\u001B[0m\u001B[0mappend\u001B[0m\u001B[0;34m(\u001B[0m\u001B[0mattr\u001B[0m\u001B[0;34m)\u001B[0m\u001B[0;34m\u001B[0m\u001B[0;34m\u001B[0m\u001B[0m\n",
      "\u001B[0;32m~/opt/miniconda3/envs/sfp/lib/python3.7/site-packages/tables/attributeset.py\u001B[0m in \u001B[0;36m__getattr__\u001B[0;34m(self, name)\u001B[0m\n\u001B[1;32m    367\u001B[0m         \u001B[0;32melif\u001B[0m \u001B[0mname\u001B[0m \u001B[0;34m==\u001B[0m \u001B[0;34m'TITLE'\u001B[0m \u001B[0;32mand\u001B[0m \u001B[0;32mnot\u001B[0m \u001B[0misinstance\u001B[0m\u001B[0;34m(\u001B[0m\u001B[0mvalue\u001B[0m\u001B[0;34m,\u001B[0m \u001B[0mstr\u001B[0m\u001B[0;34m)\u001B[0m\u001B[0;34m:\u001B[0m\u001B[0;34m\u001B[0m\u001B[0;34m\u001B[0m\u001B[0m\n\u001B[1;32m    368\u001B[0m             \u001B[0mretval\u001B[0m \u001B[0;34m=\u001B[0m \u001B[0mvalue\u001B[0m\u001B[0;34m.\u001B[0m\u001B[0mdecode\u001B[0m\u001B[0;34m(\u001B[0m\u001B[0;34m'utf-8'\u001B[0m\u001B[0;34m)\u001B[0m\u001B[0;34m\u001B[0m\u001B[0;34m\u001B[0m\u001B[0m\n\u001B[0;32m--> 369\u001B[0;31m         elif (issysattrname(name) and isinstance(value, (bytes, str)) and\n\u001B[0m\u001B[1;32m    370\u001B[0m               not isinstance(value, str) and not _field_fill_re.match(name)):\n\u001B[1;32m    371\u001B[0m             \u001B[0;31m# system attributes should always be str\u001B[0m\u001B[0;34m\u001B[0m\u001B[0;34m\u001B[0m\u001B[0;34m\u001B[0m\u001B[0m\n",
      "\u001B[0;32m~/opt/miniconda3/envs/sfp/lib/python3.7/site-packages/tables/attributeset.py\u001B[0m in \u001B[0;36missysattrname\u001B[0;34m(name)\u001B[0m\n\u001B[1;32m     50\u001B[0m \u001B[0;34m\u001B[0m\u001B[0m\n\u001B[1;32m     51\u001B[0m     return bool(name in SYS_ATTRS or np.prod(\n\u001B[0;32m---> 52\u001B[0;31m         [name.startswith(prefix) for prefix in SYS_ATTRS_PREFIXES]))\n\u001B[0m\u001B[1;32m     53\u001B[0m \u001B[0;34m\u001B[0m\u001B[0m\n\u001B[1;32m     54\u001B[0m \u001B[0;34m\u001B[0m\u001B[0m\n",
      "\u001B[0;32m<__array_function__ internals>\u001B[0m in \u001B[0;36mprod\u001B[0;34m(*args, **kwargs)\u001B[0m\n",
      "\u001B[0;32m~/opt/miniconda3/envs/sfp/lib/python3.7/site-packages/numpy/core/fromnumeric.py\u001B[0m in \u001B[0;36mprod\u001B[0;34m(a, axis, dtype, out, keepdims, initial, where)\u001B[0m\n\u001B[1;32m   3050\u001B[0m     \"\"\"\n\u001B[1;32m   3051\u001B[0m     return _wrapreduction(a, np.multiply, 'prod', axis, dtype, out,\n\u001B[0;32m-> 3052\u001B[0;31m                           keepdims=keepdims, initial=initial, where=where)\n\u001B[0m\u001B[1;32m   3053\u001B[0m \u001B[0;34m\u001B[0m\u001B[0m\n\u001B[1;32m   3054\u001B[0m \u001B[0;34m\u001B[0m\u001B[0m\n",
      "\u001B[0;32m~/opt/miniconda3/envs/sfp/lib/python3.7/site-packages/numpy/core/fromnumeric.py\u001B[0m in \u001B[0;36m_wrapreduction\u001B[0;34m(obj, ufunc, method, axis, dtype, out, **kwargs)\u001B[0m\n\u001B[1;32m     84\u001B[0m                 \u001B[0;32mreturn\u001B[0m \u001B[0mreduction\u001B[0m\u001B[0;34m(\u001B[0m\u001B[0maxis\u001B[0m\u001B[0;34m=\u001B[0m\u001B[0maxis\u001B[0m\u001B[0;34m,\u001B[0m \u001B[0mout\u001B[0m\u001B[0;34m=\u001B[0m\u001B[0mout\u001B[0m\u001B[0;34m,\u001B[0m \u001B[0;34m**\u001B[0m\u001B[0mpasskwargs\u001B[0m\u001B[0;34m)\u001B[0m\u001B[0;34m\u001B[0m\u001B[0;34m\u001B[0m\u001B[0m\n\u001B[1;32m     85\u001B[0m \u001B[0;34m\u001B[0m\u001B[0m\n\u001B[0;32m---> 86\u001B[0;31m     \u001B[0;32mreturn\u001B[0m \u001B[0mufunc\u001B[0m\u001B[0;34m.\u001B[0m\u001B[0mreduce\u001B[0m\u001B[0;34m(\u001B[0m\u001B[0mobj\u001B[0m\u001B[0;34m,\u001B[0m \u001B[0maxis\u001B[0m\u001B[0;34m,\u001B[0m \u001B[0mdtype\u001B[0m\u001B[0;34m,\u001B[0m \u001B[0mout\u001B[0m\u001B[0;34m,\u001B[0m \u001B[0;34m**\u001B[0m\u001B[0mpasskwargs\u001B[0m\u001B[0;34m)\u001B[0m\u001B[0;34m\u001B[0m\u001B[0;34m\u001B[0m\u001B[0m\n\u001B[0m\u001B[1;32m     87\u001B[0m \u001B[0;34m\u001B[0m\u001B[0m\n\u001B[1;32m     88\u001B[0m \u001B[0;34m\u001B[0m\u001B[0m\n",
      "\u001B[0;31mKeyboardInterrupt\u001B[0m: "
     ]
    }
   ],
   "source": [
    "args = ['class', 'lr', 'eph', 'dset', 'sub', 'roi', 'curbin']\n",
    "l, m = [], []\n",
    "for curbin, roi, subj, stim_class in itertools.product(enum_range, roi_list, subj_list, stim_classes+['avg']):\n",
    "    stim_class = stim_class.replace(' ', '-')\n",
    "    loss_file_name = f'loss-history_class-{stim_class}_lr-{lr}_eph-{max_epoch}_e1-{e1}_e2-{e2}_nbin-{enum}_curbin-{curbin}_dset-nsdsyn_sub-{subj}_roi-{roi}_vs-{voxels}.h5'\n",
    "    l.append(os.path.join(output_dir, 'sfp_model', 'results_1D', 'nsdsyn', loss_file_name))"
   ],
   "metadata": {
    "collapsed": false,
    "ExecuteTime": {
     "end_time": "2024-05-01T20:03:35.378448Z",
     "start_time": "2024-05-01T20:03:11.851322Z"
    }
   },
   "id": "654c57eba584329a",
   "execution_count": 23
  },
  {
   "cell_type": "code",
   "outputs": [],
   "source": [
    "loss_df = pd.DataFrame({})    \n",
    "for l_file in l:\n",
    "    tmp_df = utils.load_dataframes([l_file], *args)\n",
    "    tmp_df = tmp_df.query('epoch == @max_epoch-1')\n",
    "    loss_df = pd.concat((loss_df, tmp_df), axis=0)"
   ],
   "metadata": {
    "collapsed": false,
    "ExecuteTime": {
     "end_time": "2024-05-01T20:04:31.028420Z",
     "start_time": "2024-05-01T20:04:11.697475Z"
    }
   },
   "id": "5e73834ffb62cace",
   "execution_count": 25
  },
  {
   "cell_type": "code",
   "outputs": [],
   "source": [
    "sns.set_context(\"notebook\", font_scale=2)\n",
    "\n",
    "for stim_class in stim_classes + ['avg']:\n",
    "    g = sns.catplot(data=loss_df.query('names == @stim_class'), sharey=True, \n",
    "                    hue_order=subj_list, order=bin_labels,\n",
    "                    x='ecc_bin',y='loss', hue='sub',\n",
    "                    col='vroinames', kind='point', height=utils.get_height_based_on_width(6,1.5), aspect=1.3)\n",
    "    g.set_xticklabels(rotation=30)\n",
    "    g.set(ylim=[-0.05,0.6])\n",
    "\n",
    "    # Access the axes and set grid properties\n",
    "    for ax in g.axes.flat:\n",
    "        ax.yaxis.grid(True)  # Show y-axis grid lines\n",
    "        ax.yaxis.grid(which='major', linestyle='-', linewidth=2)  # Set grid line style and width\n",
    "    g.fig.suptitle(stim_class, y=1.05)\n",
    "    plt.savefig(os.path.join(fig_dir, f'ecc_loss_{stim_class}.png'), bbox_inches='tight')\n",
    "    plt.close()"
   ],
   "metadata": {
    "collapsed": false,
    "ExecuteTime": {
     "end_time": "2024-05-01T20:37:02.356197Z",
     "start_time": "2024-05-01T20:36:50.660776Z"
    }
   },
   "id": "366d1cc3deb5e6a4",
   "execution_count": 29
  },
  {
   "cell_type": "code",
   "outputs": [],
   "source": [],
   "metadata": {
    "collapsed": false
   },
   "id": "7764159f9448153a"
  }
 ],
 "metadata": {
  "kernelspec": {
   "display_name": "Python 3",
   "language": "python",
   "name": "python3"
  },
  "language_info": {
   "codemirror_mode": {
    "name": "ipython",
    "version": 2
   },
   "file_extension": ".py",
   "mimetype": "text/x-python",
   "name": "python",
   "nbconvert_exporter": "python",
   "pygments_lexer": "ipython2",
   "version": "2.7.6"
  }
 },
 "nbformat": 4,
 "nbformat_minor": 5
}
