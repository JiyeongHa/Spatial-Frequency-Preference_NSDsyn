{
 "cells": [
  {
   "cell_type": "code",
   "execution_count": 1,
   "metadata": {
    "collapsed": true
   },
   "outputs": [],
   "source": [
    "import sys\n",
    "sys.path.append('..')\n",
    "import os\n",
    "import pandas as pd\n",
    "import numpy as np\n",
    "import matplotlib.pyplot as plt\n",
    "import seaborn as sns\n",
    "from sfp_nsdsyn import *\n",
    "import warnings\n",
    "import itertools\n",
    "warnings.filterwarnings(\"ignore\", category=UserWarning)\n",
    "pd.options.mode.chained_assignment = None\n",
    "%load_ext autoreload\n",
    "%autoreload 2"
   ]
  },
  {
   "cell_type": "code",
   "execution_count": 80,
   "outputs": [],
   "source": [
    "#TODO  make it organized\n",
    "results_dir='/Volumes/server/Projects/sfp_nsd/derivatives/sfp_model/results_1D/nsdsyn'\n",
    "dataset = 'nsdsyn'\n",
    "full_ver= [True]\n",
    "if dataset == 'nsdsyn':\n",
    "    sn_list = np.arange(1,9)\n",
    "    stat = 'mean'\n",
    "elif dataset == 'broderick':\n",
    "    sn_list=[1, 6, 7, 45, 46, 62, 64, 81, 95, 114, 115, 121]\n",
    "    stat = 'median'\n",
    "lr = 0.005\n",
    "max_epoch = 10000\n",
    "roi = 'V1'\n",
    "fig_dir='/Volumes/server/Projects/sfp_nsd/derivatives/figures/sfp_model/results_1D/nsdsyn'"
   ],
   "metadata": {
    "collapsed": false,
    "pycharm": {
     "name": "#%%\n"
    }
   }
  },
  {
   "cell_type": "code",
   "execution_count": 81,
   "outputs": [],
   "source": [
    "subj = 'subj01'\n",
    "e1, e2 = 0.5, 4\n",
    "enum = 'log3'\n",
    "stim_type_list = ['forward-spiral', 'reverse-spiral', 'annulus', 'pinwheel']\n",
    "subj_list = [utils.sub_number_to_string(sn, 'nsdsyn') for sn in np.arange(1,9)]"
   ],
   "metadata": {
    "collapsed": false,
    "pycharm": {
     "name": "#%%\n"
    }
   }
  },
  {
   "cell_type": "code",
   "execution_count": 100,
   "outputs": [
    {
     "data": {
      "text/plain": "           ecc_bin  epoch     slope      mode     sigma           names  \\\n0      0.5-1.0 deg      0  0.338554  0.565806  0.616071  forward spiral   \n1      0.5-1.0 deg      1  0.343554  0.570806  0.621071  forward spiral   \n2      0.5-1.0 deg      2  0.348560  0.575810  0.626075  forward spiral   \n3      0.5-1.0 deg      3  0.353575  0.580822  0.631086  forward spiral   \n4      0.5-1.0 deg      4  0.358603  0.585844  0.636107  forward spiral   \n...            ...    ...       ...       ...       ...             ...   \n29995  2.0-4.0 deg   9995  3.192883  1.860084  2.397060        pinwheel   \n29996  2.0-4.0 deg   9996  3.192883  1.860084  2.397060        pinwheel   \n29997  2.0-4.0 deg   9997  3.192883  1.860084  2.397060        pinwheel   \n29998  2.0-4.0 deg   9998  3.192883  1.860084  2.397060        pinwheel   \n29999  2.0-4.0 deg   9999  3.192883  1.860084  2.397060        pinwheel   \n\n      lr_rate max_epoch    dset     sub vroinames  \n0       0.005     10000  nsdsyn  subj01        V1  \n1       0.005     10000  nsdsyn  subj01        V1  \n2       0.005     10000  nsdsyn  subj01        V1  \n3       0.005     10000  nsdsyn  subj01        V1  \n4       0.005     10000  nsdsyn  subj01        V1  \n...       ...       ...     ...     ...       ...  \n29995   0.005     10000  nsdsyn  subj08        V1  \n29996   0.005     10000  nsdsyn  subj08        V1  \n29997   0.005     10000  nsdsyn  subj08        V1  \n29998   0.005     10000  nsdsyn  subj08        V1  \n29999   0.005     10000  nsdsyn  subj08        V1  \n\n[960000 rows x 11 columns]",
      "text/html": "<div>\n<style scoped>\n    .dataframe tbody tr th:only-of-type {\n        vertical-align: middle;\n    }\n\n    .dataframe tbody tr th {\n        vertical-align: top;\n    }\n\n    .dataframe thead th {\n        text-align: right;\n    }\n</style>\n<table border=\"1\" class=\"dataframe\">\n  <thead>\n    <tr style=\"text-align: right;\">\n      <th></th>\n      <th>ecc_bin</th>\n      <th>epoch</th>\n      <th>slope</th>\n      <th>mode</th>\n      <th>sigma</th>\n      <th>names</th>\n      <th>lr_rate</th>\n      <th>max_epoch</th>\n      <th>dset</th>\n      <th>sub</th>\n      <th>vroinames</th>\n    </tr>\n  </thead>\n  <tbody>\n    <tr>\n      <th>0</th>\n      <td>0.5-1.0 deg</td>\n      <td>0</td>\n      <td>0.338554</td>\n      <td>0.565806</td>\n      <td>0.616071</td>\n      <td>forward spiral</td>\n      <td>0.005</td>\n      <td>10000</td>\n      <td>nsdsyn</td>\n      <td>subj01</td>\n      <td>V1</td>\n    </tr>\n    <tr>\n      <th>1</th>\n      <td>0.5-1.0 deg</td>\n      <td>1</td>\n      <td>0.343554</td>\n      <td>0.570806</td>\n      <td>0.621071</td>\n      <td>forward spiral</td>\n      <td>0.005</td>\n      <td>10000</td>\n      <td>nsdsyn</td>\n      <td>subj01</td>\n      <td>V1</td>\n    </tr>\n    <tr>\n      <th>2</th>\n      <td>0.5-1.0 deg</td>\n      <td>2</td>\n      <td>0.348560</td>\n      <td>0.575810</td>\n      <td>0.626075</td>\n      <td>forward spiral</td>\n      <td>0.005</td>\n      <td>10000</td>\n      <td>nsdsyn</td>\n      <td>subj01</td>\n      <td>V1</td>\n    </tr>\n    <tr>\n      <th>3</th>\n      <td>0.5-1.0 deg</td>\n      <td>3</td>\n      <td>0.353575</td>\n      <td>0.580822</td>\n      <td>0.631086</td>\n      <td>forward spiral</td>\n      <td>0.005</td>\n      <td>10000</td>\n      <td>nsdsyn</td>\n      <td>subj01</td>\n      <td>V1</td>\n    </tr>\n    <tr>\n      <th>4</th>\n      <td>0.5-1.0 deg</td>\n      <td>4</td>\n      <td>0.358603</td>\n      <td>0.585844</td>\n      <td>0.636107</td>\n      <td>forward spiral</td>\n      <td>0.005</td>\n      <td>10000</td>\n      <td>nsdsyn</td>\n      <td>subj01</td>\n      <td>V1</td>\n    </tr>\n    <tr>\n      <th>...</th>\n      <td>...</td>\n      <td>...</td>\n      <td>...</td>\n      <td>...</td>\n      <td>...</td>\n      <td>...</td>\n      <td>...</td>\n      <td>...</td>\n      <td>...</td>\n      <td>...</td>\n      <td>...</td>\n    </tr>\n    <tr>\n      <th>29995</th>\n      <td>2.0-4.0 deg</td>\n      <td>9995</td>\n      <td>3.192883</td>\n      <td>1.860084</td>\n      <td>2.397060</td>\n      <td>pinwheel</td>\n      <td>0.005</td>\n      <td>10000</td>\n      <td>nsdsyn</td>\n      <td>subj08</td>\n      <td>V1</td>\n    </tr>\n    <tr>\n      <th>29996</th>\n      <td>2.0-4.0 deg</td>\n      <td>9996</td>\n      <td>3.192883</td>\n      <td>1.860084</td>\n      <td>2.397060</td>\n      <td>pinwheel</td>\n      <td>0.005</td>\n      <td>10000</td>\n      <td>nsdsyn</td>\n      <td>subj08</td>\n      <td>V1</td>\n    </tr>\n    <tr>\n      <th>29997</th>\n      <td>2.0-4.0 deg</td>\n      <td>9997</td>\n      <td>3.192883</td>\n      <td>1.860084</td>\n      <td>2.397060</td>\n      <td>pinwheel</td>\n      <td>0.005</td>\n      <td>10000</td>\n      <td>nsdsyn</td>\n      <td>subj08</td>\n      <td>V1</td>\n    </tr>\n    <tr>\n      <th>29998</th>\n      <td>2.0-4.0 deg</td>\n      <td>9998</td>\n      <td>3.192883</td>\n      <td>1.860084</td>\n      <td>2.397060</td>\n      <td>pinwheel</td>\n      <td>0.005</td>\n      <td>10000</td>\n      <td>nsdsyn</td>\n      <td>subj08</td>\n      <td>V1</td>\n    </tr>\n    <tr>\n      <th>29999</th>\n      <td>2.0-4.0 deg</td>\n      <td>9999</td>\n      <td>3.192883</td>\n      <td>1.860084</td>\n      <td>2.397060</td>\n      <td>pinwheel</td>\n      <td>0.005</td>\n      <td>10000</td>\n      <td>nsdsyn</td>\n      <td>subj08</td>\n      <td>V1</td>\n    </tr>\n  </tbody>\n</table>\n<p>960000 rows × 11 columns</p>\n</div>"
     },
     "execution_count": 100,
     "metadata": {},
     "output_type": "execute_result"
    }
   ],
   "source": [
    "f = []\n",
    "for stim_type, subj in itertools.product(stim_type_list, subj_list):\n",
    "    file_name = f'model-history_class-{stim_type}_lr-{lr}_eph-{max_epoch}_binned-ecc-{e1}-{e2}_nbin-{enum}_dset-nsdsyn_sub-{subj}_roi-{roi}_vs-pRFcenter.h5'\n",
    "    f.append(os.path.join(results_dir, file_name))\n",
    "args = ['class','lr','eph','dset','sub','roi']\n",
    "tuning.load_history_files(f, *args)"
   ],
   "metadata": {
    "collapsed": false,
    "pycharm": {
     "name": "#%%\n"
    }
   }
  },
  {
   "cell_type": "code",
   "execution_count": 99,
   "outputs": [
    {
     "data": {
      "text/plain": "'pinwheel'"
     },
     "execution_count": 99,
     "metadata": {},
     "output_type": "execute_result"
    }
   ],
   "source": [
    "arg='class'\n",
    "\n",
    "[k for k in file_name.split('_') if arg in k][0][len(arg)+1:].replace('-', ' ')"
   ],
   "metadata": {
    "collapsed": false,
    "pycharm": {
     "name": "#%%\n"
    }
   }
  },
  {
   "cell_type": "code",
   "execution_count": 87,
   "outputs": [
    {
     "data": {
      "text/plain": "['class', 'lr', 'eph', 'nbin', 'dset', 'sub', 'roi', 'vs']"
     },
     "execution_count": 87,
     "metadata": {},
     "output_type": "execute_result"
    }
   ],
   "source": [
    "args = [k.split('-')[0] for k in file_name.split('_')]\n",
    "args.remove('model')\n",
    "args.remove('binned')\n",
    "args"
   ],
   "metadata": {
    "collapsed": false,
    "pycharm": {
     "name": "#%%\n"
    }
   }
  },
  {
   "cell_type": "code",
   "execution_count": 67,
   "outputs": [
    {
     "data": {
      "text/plain": "['history',\n 'class',\n 'lr',\n 'eph',\n 'binned',\n 'nbin',\n 'dset',\n 'subj08',\n 'roi',\n 'vs']"
     },
     "execution_count": 67,
     "metadata": {},
     "output_type": "execute_result"
    }
   ],
   "source": [
    "for stim_type, subj in itertools.product(stim_type_list, subj_list):\n",
    "\n",
    "file_name = f'model_history_class-{stim_type}_lr-{lr}_eph-{max_epoch}_binned-ecc-{e1}-{e2}_nbin-{enum}_dset-nsdsyn_{subj}_roi-{roi}_vs-pRFcenter.h5'\n",
    "e = [k.split('-')[0] for k in file_name.split('_')]\n",
    "e.remove('model')\n",
    "e"
   ],
   "metadata": {
    "collapsed": false,
    "pycharm": {
     "name": "#%%\n"
    }
   }
  },
  {
   "cell_type": "code",
   "execution_count": 58,
   "outputs": [
    {
     "data": {
      "text/plain": "['/Volumes/server/Projects/sfp',\n 'nsd/derivatives/sfp',\n 'model/results',\n '1D/model',\n 'history',\n 'class-forward-spiral',\n 'lr-0.005',\n 'eph-10000',\n 'binned-ecc-0.5-4',\n 'nbin-log3',\n 'dset-nsdsyn',\n 'subj01',\n 'roi-V1',\n 'vs-pRFcenter.h5']"
     },
     "execution_count": 58,
     "metadata": {},
     "output_type": "execute_result"
    }
   ],
   "source": [
    "f[0].split('_')"
   ],
   "metadata": {
    "collapsed": false,
    "pycharm": {
     "name": "#%%\n"
    }
   }
  },
  {
   "cell_type": "code",
   "execution_count": 53,
   "outputs": [
    {
     "data": {
      "text/plain": "           ecc_bin  epoch     slope      mode     sigma    subj    dset  \\\n0      0.5-1.0 deg      0  0.830505  1.481678  1.495316  subj01  nsdsyn   \n1      0.5-1.0 deg      1  0.835505  1.486678  1.500316  subj01  nsdsyn   \n2      0.5-1.0 deg      2  0.840505  1.491678  1.505316  subj01  nsdsyn   \n3      0.5-1.0 deg      3  0.845505  1.496678  1.510317  subj01  nsdsyn   \n4      0.5-1.0 deg      4  0.850506  1.501677  1.515319  subj01  nsdsyn   \n...            ...    ...       ...       ...       ...     ...     ...   \n29995  2.0-4.0 deg   9995  3.192883  1.860084  2.397060  subj08  nsdsyn   \n29996  2.0-4.0 deg   9996  3.192883  1.860084  2.397060  subj08  nsdsyn   \n29997  2.0-4.0 deg   9997  3.192883  1.860084  2.397060  subj08  nsdsyn   \n29998  2.0-4.0 deg   9998  3.192883  1.860084  2.397060  subj08  nsdsyn   \n29999  2.0-4.0 deg   9999  3.192883  1.860084  2.397060  subj08  nsdsyn   \n\n      lr_rate max_epoch vroinames           names  \n0       0.005     10000        V1  forward spiral  \n1       0.005     10000        V1  forward spiral  \n2       0.005     10000        V1  forward spiral  \n3       0.005     10000        V1  forward spiral  \n4       0.005     10000        V1  forward spiral  \n...       ...       ...       ...             ...  \n29995   0.005     10000        V1        pinwheel  \n29996   0.005     10000        V1        pinwheel  \n29997   0.005     10000        V1        pinwheel  \n29998   0.005     10000        V1        pinwheel  \n29999   0.005     10000        V1        pinwheel  \n\n[960000 rows x 11 columns]",
      "text/html": "<div>\n<style scoped>\n    .dataframe tbody tr th:only-of-type {\n        vertical-align: middle;\n    }\n\n    .dataframe tbody tr th {\n        vertical-align: top;\n    }\n\n    .dataframe thead th {\n        text-align: right;\n    }\n</style>\n<table border=\"1\" class=\"dataframe\">\n  <thead>\n    <tr style=\"text-align: right;\">\n      <th></th>\n      <th>ecc_bin</th>\n      <th>epoch</th>\n      <th>slope</th>\n      <th>mode</th>\n      <th>sigma</th>\n      <th>subj</th>\n      <th>dset</th>\n      <th>lr_rate</th>\n      <th>max_epoch</th>\n      <th>vroinames</th>\n      <th>names</th>\n    </tr>\n  </thead>\n  <tbody>\n    <tr>\n      <th>0</th>\n      <td>0.5-1.0 deg</td>\n      <td>0</td>\n      <td>0.830505</td>\n      <td>1.481678</td>\n      <td>1.495316</td>\n      <td>subj01</td>\n      <td>nsdsyn</td>\n      <td>0.005</td>\n      <td>10000</td>\n      <td>V1</td>\n      <td>forward spiral</td>\n    </tr>\n    <tr>\n      <th>1</th>\n      <td>0.5-1.0 deg</td>\n      <td>1</td>\n      <td>0.835505</td>\n      <td>1.486678</td>\n      <td>1.500316</td>\n      <td>subj01</td>\n      <td>nsdsyn</td>\n      <td>0.005</td>\n      <td>10000</td>\n      <td>V1</td>\n      <td>forward spiral</td>\n    </tr>\n    <tr>\n      <th>2</th>\n      <td>0.5-1.0 deg</td>\n      <td>2</td>\n      <td>0.840505</td>\n      <td>1.491678</td>\n      <td>1.505316</td>\n      <td>subj01</td>\n      <td>nsdsyn</td>\n      <td>0.005</td>\n      <td>10000</td>\n      <td>V1</td>\n      <td>forward spiral</td>\n    </tr>\n    <tr>\n      <th>3</th>\n      <td>0.5-1.0 deg</td>\n      <td>3</td>\n      <td>0.845505</td>\n      <td>1.496678</td>\n      <td>1.510317</td>\n      <td>subj01</td>\n      <td>nsdsyn</td>\n      <td>0.005</td>\n      <td>10000</td>\n      <td>V1</td>\n      <td>forward spiral</td>\n    </tr>\n    <tr>\n      <th>4</th>\n      <td>0.5-1.0 deg</td>\n      <td>4</td>\n      <td>0.850506</td>\n      <td>1.501677</td>\n      <td>1.515319</td>\n      <td>subj01</td>\n      <td>nsdsyn</td>\n      <td>0.005</td>\n      <td>10000</td>\n      <td>V1</td>\n      <td>forward spiral</td>\n    </tr>\n    <tr>\n      <th>...</th>\n      <td>...</td>\n      <td>...</td>\n      <td>...</td>\n      <td>...</td>\n      <td>...</td>\n      <td>...</td>\n      <td>...</td>\n      <td>...</td>\n      <td>...</td>\n      <td>...</td>\n      <td>...</td>\n    </tr>\n    <tr>\n      <th>29995</th>\n      <td>2.0-4.0 deg</td>\n      <td>9995</td>\n      <td>3.192883</td>\n      <td>1.860084</td>\n      <td>2.397060</td>\n      <td>subj08</td>\n      <td>nsdsyn</td>\n      <td>0.005</td>\n      <td>10000</td>\n      <td>V1</td>\n      <td>pinwheel</td>\n    </tr>\n    <tr>\n      <th>29996</th>\n      <td>2.0-4.0 deg</td>\n      <td>9996</td>\n      <td>3.192883</td>\n      <td>1.860084</td>\n      <td>2.397060</td>\n      <td>subj08</td>\n      <td>nsdsyn</td>\n      <td>0.005</td>\n      <td>10000</td>\n      <td>V1</td>\n      <td>pinwheel</td>\n    </tr>\n    <tr>\n      <th>29997</th>\n      <td>2.0-4.0 deg</td>\n      <td>9997</td>\n      <td>3.192883</td>\n      <td>1.860084</td>\n      <td>2.397060</td>\n      <td>subj08</td>\n      <td>nsdsyn</td>\n      <td>0.005</td>\n      <td>10000</td>\n      <td>V1</td>\n      <td>pinwheel</td>\n    </tr>\n    <tr>\n      <th>29998</th>\n      <td>2.0-4.0 deg</td>\n      <td>9998</td>\n      <td>3.192883</td>\n      <td>1.860084</td>\n      <td>2.397060</td>\n      <td>subj08</td>\n      <td>nsdsyn</td>\n      <td>0.005</td>\n      <td>10000</td>\n      <td>V1</td>\n      <td>pinwheel</td>\n    </tr>\n    <tr>\n      <th>29999</th>\n      <td>2.0-4.0 deg</td>\n      <td>9999</td>\n      <td>3.192883</td>\n      <td>1.860084</td>\n      <td>2.397060</td>\n      <td>subj08</td>\n      <td>nsdsyn</td>\n      <td>0.005</td>\n      <td>10000</td>\n      <td>V1</td>\n      <td>pinwheel</td>\n    </tr>\n  </tbody>\n</table>\n<p>960000 rows × 11 columns</p>\n</div>"
     },
     "execution_count": 53,
     "metadata": {},
     "output_type": "execute_result"
    }
   ],
   "source": [
    "\n",
    "args = []\n",
    "subj_df = tuning.load_history_files(f, *args)\n",
    "subj_df"
   ],
   "metadata": {
    "collapsed": false,
    "pycharm": {
     "name": "#%%\n"
    }
   }
  },
  {
   "cell_type": "code",
   "execution_count": 47,
   "outputs": [],
   "source": [
    "\n",
    "def match_wildcards_with_col(arg):\n",
    "    switcher = {'roi': 'vroinames',\n",
    "                'eph': 'max_epoch',\n",
    "                'lr': 'lr_rate',\n",
    "                'class': 'names'}\n",
    "    return switcher.get(arg, arg)\n"
   ],
   "metadata": {
    "collapsed": false,
    "pycharm": {
     "name": "#%%\n"
    }
   }
  },
  {
   "cell_type": "code",
   "execution_count": 49,
   "outputs": [
    {
     "data": {
      "text/plain": "'vroinames'"
     },
     "execution_count": 49,
     "metadata": {},
     "output_type": "execute_result"
    }
   ],
   "source": [
    "match_wildcards_with_col('roi')"
   ],
   "metadata": {
    "collapsed": false,
    "pycharm": {
     "name": "#%%\n"
    }
   }
  },
  {
   "cell_type": "code",
   "execution_count": 20,
   "outputs": [
    {
     "data": {
      "text/plain": "'pinwheel'"
     },
     "execution_count": 20,
     "metadata": {},
     "output_type": "execute_result"
    }
   ],
   "source": [
    " [names for names in f.split('_') if 'class' in names][0][6:].replace('-', ' ')"
   ],
   "metadata": {
    "collapsed": false,
    "pycharm": {
     "name": "#%%\n"
    }
   }
  },
  {
   "cell_type": "code",
   "execution_count": null,
   "outputs": [],
   "source": [
    "all_model_history = model.load_history_df_subj(results_dir, dataset, stat, full_ver, sn_list, lr_rate, max_epoch, 'model', roi_list)\n",
    "final_params = all_model_history.query('epoch == 29999')"
   ],
   "metadata": {
    "collapsed": false,
    "pycharm": {
     "name": "#%%\n"
    }
   }
  }
 ],
 "metadata": {
  "kernelspec": {
   "display_name": "Python 3",
   "language": "python",
   "name": "python3"
  },
  "language_info": {
   "codemirror_mode": {
    "name": "ipython",
    "version": 2
   },
   "file_extension": ".py",
   "mimetype": "text/x-python",
   "name": "python",
   "nbconvert_exporter": "python",
   "pygments_lexer": "ipython2",
   "version": "2.7.6"
  }
 },
 "nbformat": 4,
 "nbformat_minor": 0
}