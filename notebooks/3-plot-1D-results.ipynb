{
 "cells": [
  {
   "cell_type": "code",
   "execution_count": null,
   "metadata": {
    "collapsed": true
   },
   "outputs": [],
   "source": [
    "import sys\n",
    "sys.path.append('..')\n",
    "import os\n",
    "import pandas as pd\n",
    "import numpy as np\n",
    "import matplotlib.pyplot as plt\n",
    "import seaborn as sns\n",
    "from sfp_nsdsyn import *\n",
    "import warnings\n",
    "import itertools\n",
    "warnings.filterwarnings(\"ignore\", category=UserWarning)\n",
    "pd.options.mode.chained_assignment = None\n",
    "%load_ext autoreload\n",
    "%autoreload 2\n",
    "%matplotlib inline"
   ]
  },
  {
   "cell_type": "code",
   "execution_count": 105,
   "outputs": [],
   "source": [
    "#TODO  make it organized\n",
    "results_dir='/Volumes/server/Projects/sfp_nsd/derivatives/sfp_model/results_1D/nsdsyn'\n",
    "dataset = 'nsdsyn'\n",
    "full_ver= [True]\n",
    "if dataset == 'nsdsyn':\n",
    "    sn_list = np.arange(1,9)\n",
    "    stat = 'mean'\n",
    "elif dataset == 'broderick':\n",
    "    sn_list=[1, 6, 7, 45, 46, 62, 64, 81, 95, 114, 115, 121]\n",
    "    stat = 'median'\n",
    "lr = 0.005\n",
    "max_epoch = 10000\n",
    "roi = 'V1'\n",
    "fig_dir='/Volumes/server/Projects/sfp_nsd/derivatives/figures/sfp_model/results_1D/nsdsyn'"
   ],
   "metadata": {
    "collapsed": false,
    "pycharm": {
     "name": "#%%\n"
    }
   }
  },
  {
   "cell_type": "code",
   "execution_count": 106,
   "outputs": [],
   "source": [
    "subj = 'subj01'\n",
    "e1, e2 = 0.5, 4\n",
    "enum = 'log3'\n",
    "stim_type_list = ['forward-spiral', 'reverse-spiral', 'annulus', 'pinwheel']\n",
    "subj_list = [utils.sub_number_to_string(sn, 'nsdsyn') for sn in np.arange(1,9)]"
   ],
   "metadata": {
    "collapsed": false,
    "pycharm": {
     "name": "#%%\n"
    }
   }
  },
  {
   "cell_type": "code",
   "execution_count": 109,
   "outputs": [
    {
     "data": {
      "text/plain": "       ecc_bin  epoch     slope      mode     sigma           names lr_rate  \\\n0  0.5-1.0 deg      0  0.338554  0.565806  0.616071  forward spiral   0.005   \n1  0.5-1.0 deg      1  0.343554  0.570806  0.621071  forward spiral   0.005   \n2  0.5-1.0 deg      2  0.348560  0.575810  0.626075  forward spiral   0.005   \n3  0.5-1.0 deg      3  0.353575  0.580822  0.631086  forward spiral   0.005   \n4  0.5-1.0 deg      4  0.358603  0.585844  0.636107  forward spiral   0.005   \n\n  max_epoch    dset     sub vroinames  \n0     10000  nsdsyn  subj01        V1  \n1     10000  nsdsyn  subj01        V1  \n2     10000  nsdsyn  subj01        V1  \n3     10000  nsdsyn  subj01        V1  \n4     10000  nsdsyn  subj01        V1  ",
      "text/html": "<div>\n<style scoped>\n    .dataframe tbody tr th:only-of-type {\n        vertical-align: middle;\n    }\n\n    .dataframe tbody tr th {\n        vertical-align: top;\n    }\n\n    .dataframe thead th {\n        text-align: right;\n    }\n</style>\n<table border=\"1\" class=\"dataframe\">\n  <thead>\n    <tr style=\"text-align: right;\">\n      <th></th>\n      <th>ecc_bin</th>\n      <th>epoch</th>\n      <th>slope</th>\n      <th>mode</th>\n      <th>sigma</th>\n      <th>names</th>\n      <th>lr_rate</th>\n      <th>max_epoch</th>\n      <th>dset</th>\n      <th>sub</th>\n      <th>vroinames</th>\n    </tr>\n  </thead>\n  <tbody>\n    <tr>\n      <th>0</th>\n      <td>0.5-1.0 deg</td>\n      <td>0</td>\n      <td>0.338554</td>\n      <td>0.565806</td>\n      <td>0.616071</td>\n      <td>forward spiral</td>\n      <td>0.005</td>\n      <td>10000</td>\n      <td>nsdsyn</td>\n      <td>subj01</td>\n      <td>V1</td>\n    </tr>\n    <tr>\n      <th>1</th>\n      <td>0.5-1.0 deg</td>\n      <td>1</td>\n      <td>0.343554</td>\n      <td>0.570806</td>\n      <td>0.621071</td>\n      <td>forward spiral</td>\n      <td>0.005</td>\n      <td>10000</td>\n      <td>nsdsyn</td>\n      <td>subj01</td>\n      <td>V1</td>\n    </tr>\n    <tr>\n      <th>2</th>\n      <td>0.5-1.0 deg</td>\n      <td>2</td>\n      <td>0.348560</td>\n      <td>0.575810</td>\n      <td>0.626075</td>\n      <td>forward spiral</td>\n      <td>0.005</td>\n      <td>10000</td>\n      <td>nsdsyn</td>\n      <td>subj01</td>\n      <td>V1</td>\n    </tr>\n    <tr>\n      <th>3</th>\n      <td>0.5-1.0 deg</td>\n      <td>3</td>\n      <td>0.353575</td>\n      <td>0.580822</td>\n      <td>0.631086</td>\n      <td>forward spiral</td>\n      <td>0.005</td>\n      <td>10000</td>\n      <td>nsdsyn</td>\n      <td>subj01</td>\n      <td>V1</td>\n    </tr>\n    <tr>\n      <th>4</th>\n      <td>0.5-1.0 deg</td>\n      <td>4</td>\n      <td>0.358603</td>\n      <td>0.585844</td>\n      <td>0.636107</td>\n      <td>forward spiral</td>\n      <td>0.005</td>\n      <td>10000</td>\n      <td>nsdsyn</td>\n      <td>subj01</td>\n      <td>V1</td>\n    </tr>\n  </tbody>\n</table>\n</div>"
     },
     "execution_count": 109,
     "metadata": {},
     "output_type": "execute_result"
    }
   ],
   "source": [
    "df.head()"
   ],
   "metadata": {
    "collapsed": false,
    "pycharm": {
     "name": "#%%\n"
    }
   }
  },
  {
   "cell_type": "code",
   "execution_count": 115,
   "outputs": [],
   "source": [
    "f = []\n",
    "for stim_type, subj in itertools.product(stim_type_list, subj_list):\n",
    "    file_name = f'loss-history_class-{stim_type}_lr-{lr}_eph-{max_epoch}_binned-ecc-{e1}-{e2}_nbin-{enum}_dset-nsdsyn_sub-{subj}_roi-{roi}_vs-pRFcenter.h5'\n",
    "    f.append(os.path.join(results_dir, file_name))\n",
    "args = ['class','lr','eph','dset','sub','roi']\n",
    "df = tuning.load_history_files(f, *args)"
   ],
   "metadata": {
    "collapsed": false,
    "pycharm": {
     "name": "#%%\n"
    }
   }
  },
  {
   "cell_type": "code",
   "execution_count": 116,
   "outputs": [
    {
     "data": {
      "text/plain": "           ecc_bin  epoch      loss           names lr_rate max_epoch    dset  \\\n0      0.5-1.0 deg      0  3.928444  forward spiral   0.005     10000  nsdsyn   \n1      0.5-1.0 deg      1  3.924952  forward spiral   0.005     10000  nsdsyn   \n2      0.5-1.0 deg      2  3.921293  forward spiral   0.005     10000  nsdsyn   \n3      0.5-1.0 deg      3  3.917464  forward spiral   0.005     10000  nsdsyn   \n4      0.5-1.0 deg      4  3.913462  forward spiral   0.005     10000  nsdsyn   \n...            ...    ...       ...             ...     ...       ...     ...   \n29995  2.0-4.0 deg   9995  0.025981        pinwheel   0.005     10000  nsdsyn   \n29996  2.0-4.0 deg   9996  0.025981        pinwheel   0.005     10000  nsdsyn   \n29997  2.0-4.0 deg   9997  0.025981        pinwheel   0.005     10000  nsdsyn   \n29998  2.0-4.0 deg   9998  0.025981        pinwheel   0.005     10000  nsdsyn   \n29999  2.0-4.0 deg   9999  0.025981        pinwheel   0.005     10000  nsdsyn   \n\n          sub vroinames  \n0      subj01        V1  \n1      subj01        V1  \n2      subj01        V1  \n3      subj01        V1  \n4      subj01        V1  \n...       ...       ...  \n29995  subj08        V1  \n29996  subj08        V1  \n29997  subj08        V1  \n29998  subj08        V1  \n29999  subj08        V1  \n\n[960000 rows x 9 columns]",
      "text/html": "<div>\n<style scoped>\n    .dataframe tbody tr th:only-of-type {\n        vertical-align: middle;\n    }\n\n    .dataframe tbody tr th {\n        vertical-align: top;\n    }\n\n    .dataframe thead th {\n        text-align: right;\n    }\n</style>\n<table border=\"1\" class=\"dataframe\">\n  <thead>\n    <tr style=\"text-align: right;\">\n      <th></th>\n      <th>ecc_bin</th>\n      <th>epoch</th>\n      <th>loss</th>\n      <th>names</th>\n      <th>lr_rate</th>\n      <th>max_epoch</th>\n      <th>dset</th>\n      <th>sub</th>\n      <th>vroinames</th>\n    </tr>\n  </thead>\n  <tbody>\n    <tr>\n      <th>0</th>\n      <td>0.5-1.0 deg</td>\n      <td>0</td>\n      <td>3.928444</td>\n      <td>forward spiral</td>\n      <td>0.005</td>\n      <td>10000</td>\n      <td>nsdsyn</td>\n      <td>subj01</td>\n      <td>V1</td>\n    </tr>\n    <tr>\n      <th>1</th>\n      <td>0.5-1.0 deg</td>\n      <td>1</td>\n      <td>3.924952</td>\n      <td>forward spiral</td>\n      <td>0.005</td>\n      <td>10000</td>\n      <td>nsdsyn</td>\n      <td>subj01</td>\n      <td>V1</td>\n    </tr>\n    <tr>\n      <th>2</th>\n      <td>0.5-1.0 deg</td>\n      <td>2</td>\n      <td>3.921293</td>\n      <td>forward spiral</td>\n      <td>0.005</td>\n      <td>10000</td>\n      <td>nsdsyn</td>\n      <td>subj01</td>\n      <td>V1</td>\n    </tr>\n    <tr>\n      <th>3</th>\n      <td>0.5-1.0 deg</td>\n      <td>3</td>\n      <td>3.917464</td>\n      <td>forward spiral</td>\n      <td>0.005</td>\n      <td>10000</td>\n      <td>nsdsyn</td>\n      <td>subj01</td>\n      <td>V1</td>\n    </tr>\n    <tr>\n      <th>4</th>\n      <td>0.5-1.0 deg</td>\n      <td>4</td>\n      <td>3.913462</td>\n      <td>forward spiral</td>\n      <td>0.005</td>\n      <td>10000</td>\n      <td>nsdsyn</td>\n      <td>subj01</td>\n      <td>V1</td>\n    </tr>\n    <tr>\n      <th>...</th>\n      <td>...</td>\n      <td>...</td>\n      <td>...</td>\n      <td>...</td>\n      <td>...</td>\n      <td>...</td>\n      <td>...</td>\n      <td>...</td>\n      <td>...</td>\n    </tr>\n    <tr>\n      <th>29995</th>\n      <td>2.0-4.0 deg</td>\n      <td>9995</td>\n      <td>0.025981</td>\n      <td>pinwheel</td>\n      <td>0.005</td>\n      <td>10000</td>\n      <td>nsdsyn</td>\n      <td>subj08</td>\n      <td>V1</td>\n    </tr>\n    <tr>\n      <th>29996</th>\n      <td>2.0-4.0 deg</td>\n      <td>9996</td>\n      <td>0.025981</td>\n      <td>pinwheel</td>\n      <td>0.005</td>\n      <td>10000</td>\n      <td>nsdsyn</td>\n      <td>subj08</td>\n      <td>V1</td>\n    </tr>\n    <tr>\n      <th>29997</th>\n      <td>2.0-4.0 deg</td>\n      <td>9997</td>\n      <td>0.025981</td>\n      <td>pinwheel</td>\n      <td>0.005</td>\n      <td>10000</td>\n      <td>nsdsyn</td>\n      <td>subj08</td>\n      <td>V1</td>\n    </tr>\n    <tr>\n      <th>29998</th>\n      <td>2.0-4.0 deg</td>\n      <td>9998</td>\n      <td>0.025981</td>\n      <td>pinwheel</td>\n      <td>0.005</td>\n      <td>10000</td>\n      <td>nsdsyn</td>\n      <td>subj08</td>\n      <td>V1</td>\n    </tr>\n    <tr>\n      <th>29999</th>\n      <td>2.0-4.0 deg</td>\n      <td>9999</td>\n      <td>0.025981</td>\n      <td>pinwheel</td>\n      <td>0.005</td>\n      <td>10000</td>\n      <td>nsdsyn</td>\n      <td>subj08</td>\n      <td>V1</td>\n    </tr>\n  </tbody>\n</table>\n<p>960000 rows × 9 columns</p>\n</div>"
     },
     "execution_count": 116,
     "metadata": {},
     "output_type": "execute_result"
    }
   ],
   "source": [
    "df"
   ],
   "metadata": {
    "collapsed": false,
    "pycharm": {
     "name": "#%%\n"
    }
   }
  },
  {
   "cell_type": "markdown",
   "source": [
    "# Plot loss history"
   ],
   "metadata": {
    "collapsed": false
   }
  },
  {
   "cell_type": "code",
   "execution_count": null,
   "outputs": [],
   "source": [
    "vis.plot_loss_history(df, hue='sub', hue_order=subj_list, col='names')"
   ],
   "metadata": {
    "collapsed": false,
    "pycharm": {
     "name": "#%%\n",
     "is_executing": true
    }
   }
  },
  {
   "cell_type": "code",
   "execution_count": null,
   "outputs": [],
   "source": [
    "plt.show()"
   ],
   "metadata": {
    "collapsed": false,
    "pycharm": {
     "name": "#%%\n"
    }
   }
  },
  {
   "cell_type": "markdown",
   "source": [
    "# Plot parameter history"
   ],
   "metadata": {
    "collapsed": false,
    "pycharm": {
     "name": "#%% md\n"
    }
   }
  },
  {
   "cell_type": "code",
   "execution_count": 108,
   "outputs": [],
   "source": [
    "f = []\n",
    "for stim_type, subj in itertools.product(stim_type_list, subj_list):\n",
    "    file_name = f'model-history_class-{stim_type}_lr-{lr}_eph-{max_epoch}_binned-ecc-{e1}-{e2}_nbin-{enum}_dset-nsdsyn_sub-{subj}_roi-{roi}_vs-pRFcenter.h5'\n",
    "    f.append(os.path.join(results_dir, file_name))\n",
    "args = ['class','lr','eph','dset','sub','roi']\n",
    "model_df = tuning.load_history_files(f, *args)"
   ],
   "metadata": {
    "collapsed": false,
    "pycharm": {
     "name": "#%%\n"
    }
   }
  },
  {
   "cell_type": "code",
   "execution_count": null,
   "outputs": [],
   "source": [
    "vis.plot_param_history(model_df, hue='sub', hue_order=subj_list)"
   ],
   "metadata": {
    "collapsed": false,
    "pycharm": {
     "name": "#%%\n"
    }
   }
  }
 ],
 "metadata": {
  "kernelspec": {
   "display_name": "Python 3",
   "language": "python",
   "name": "python3"
  },
  "language_info": {
   "codemirror_mode": {
    "name": "ipython",
    "version": 2
   },
   "file_extension": ".py",
   "mimetype": "text/x-python",
   "name": "python",
   "nbconvert_exporter": "python",
   "pygments_lexer": "ipython2",
   "version": "2.7.6"
  }
 },
 "nbformat": 4,
 "nbformat_minor": 0
}