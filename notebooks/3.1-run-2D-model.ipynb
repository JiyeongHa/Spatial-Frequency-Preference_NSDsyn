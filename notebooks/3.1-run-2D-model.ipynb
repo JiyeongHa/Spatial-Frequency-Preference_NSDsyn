{
 "cells": [
  {
   "cell_type": "code",
   "execution_count": 3,
   "metadata": {
    "collapsed": true,
    "ExecuteTime": {
     "end_time": "2024-05-29T09:28:31.843334Z",
     "start_time": "2024-05-29T09:28:31.814668Z"
    }
   },
   "outputs": [
    {
     "name": "stdout",
     "output_type": "stream",
     "text": [
      "The autoreload extension is already loaded. To reload it, use:\n",
      "  %reload_ext autoreload\n"
     ]
    }
   ],
   "source": [
    "import sys\n",
    "sys.path.append('..')\n",
    "import os\n",
    "import pandas as pd\n",
    "import numpy as np\n",
    "import matplotlib.pyplot as plt\n",
    "import seaborn as sns\n",
    "from sfp_nsdsyn import *\n",
    "import warnings\n",
    "import itertools\n",
    "warnings.filterwarnings(\"ignore\", category=UserWarning)\n",
    "pd.options.mode.chained_assignment = None\n",
    "%load_ext autoreload\n",
    "%autoreload 2"
   ]
  },
  {
   "cell_type": "code",
   "execution_count": 6,
   "outputs": [],
   "source": [
    "output_dir='/Volumes/server/Projects/sfp_nsd/derivatives'\n",
    "dset='nsdsyn'\n",
    "subj='subj01'\n",
    "roi='V1'\n",
    "vs='pRFsize'"
   ],
   "metadata": {
    "collapsed": false,
    "ExecuteTime": {
     "start_time": "2023-05-01T22:28:23.107815Z",
     "end_time": "2023-05-01T22:28:23.107951Z"
    }
   }
  },
  {
   "cell_type": "code",
   "execution_count": 7,
   "outputs": [
    {
     "data": {
      "text/plain": "   stim_idx  image_idx     names  w_r  w_a  phase  class_idx  freq_lvl  voxel  \\\n0         0        104  pinwheel  0.0  6.0    0.0          0         0     10   \n1         0        104  pinwheel  0.0  6.0    0.0          0         0     11   \n2         0        104  pinwheel  0.0  6.0    0.0          0         0     12   \n3         0        104  pinwheel  0.0  6.0    0.0          0         0     16   \n4         0        104  pinwheel  0.0  6.0    0.0          0         0     17   \n\n  task  ...  eccentricity     angle      size  visualrois  vroinames eccrois  \\\n0  avg  ...      1.556064  5.030775  0.971252         2.0         V1     3.0   \n1  avg  ...      1.302301  4.925383  0.693124         2.0         V1     3.0   \n2  avg  ...      1.081738  4.781199  0.559847         2.0         V1     3.0   \n3  avg  ...      1.473532  4.971115  0.963097         2.0         V1     3.0   \n4  avg  ...      1.495256  5.002201  0.945766         2.0         V1     3.0   \n\n   local_sf  local_ori  hemi     sub  \n0  0.613683   0.318386    lh  subj01  \n1  0.733263   0.212994    lh  subj01  \n2  0.882773   0.068810    lh  subj01  \n3  0.648055   0.258726    lh  subj01  \n4  0.638639   0.289812    lh  subj01  \n\n[5 rows x 21 columns]",
      "text/html": "<div>\n<style scoped>\n    .dataframe tbody tr th:only-of-type {\n        vertical-align: middle;\n    }\n\n    .dataframe tbody tr th {\n        vertical-align: top;\n    }\n\n    .dataframe thead th {\n        text-align: right;\n    }\n</style>\n<table border=\"1\" class=\"dataframe\">\n  <thead>\n    <tr style=\"text-align: right;\">\n      <th></th>\n      <th>stim_idx</th>\n      <th>image_idx</th>\n      <th>names</th>\n      <th>w_r</th>\n      <th>w_a</th>\n      <th>phase</th>\n      <th>class_idx</th>\n      <th>freq_lvl</th>\n      <th>voxel</th>\n      <th>task</th>\n      <th>...</th>\n      <th>eccentricity</th>\n      <th>angle</th>\n      <th>size</th>\n      <th>visualrois</th>\n      <th>vroinames</th>\n      <th>eccrois</th>\n      <th>local_sf</th>\n      <th>local_ori</th>\n      <th>hemi</th>\n      <th>sub</th>\n    </tr>\n  </thead>\n  <tbody>\n    <tr>\n      <th>0</th>\n      <td>0</td>\n      <td>104</td>\n      <td>pinwheel</td>\n      <td>0.0</td>\n      <td>6.0</td>\n      <td>0.0</td>\n      <td>0</td>\n      <td>0</td>\n      <td>10</td>\n      <td>avg</td>\n      <td>...</td>\n      <td>1.556064</td>\n      <td>5.030775</td>\n      <td>0.971252</td>\n      <td>2.0</td>\n      <td>V1</td>\n      <td>3.0</td>\n      <td>0.613683</td>\n      <td>0.318386</td>\n      <td>lh</td>\n      <td>subj01</td>\n    </tr>\n    <tr>\n      <th>1</th>\n      <td>0</td>\n      <td>104</td>\n      <td>pinwheel</td>\n      <td>0.0</td>\n      <td>6.0</td>\n      <td>0.0</td>\n      <td>0</td>\n      <td>0</td>\n      <td>11</td>\n      <td>avg</td>\n      <td>...</td>\n      <td>1.302301</td>\n      <td>4.925383</td>\n      <td>0.693124</td>\n      <td>2.0</td>\n      <td>V1</td>\n      <td>3.0</td>\n      <td>0.733263</td>\n      <td>0.212994</td>\n      <td>lh</td>\n      <td>subj01</td>\n    </tr>\n    <tr>\n      <th>2</th>\n      <td>0</td>\n      <td>104</td>\n      <td>pinwheel</td>\n      <td>0.0</td>\n      <td>6.0</td>\n      <td>0.0</td>\n      <td>0</td>\n      <td>0</td>\n      <td>12</td>\n      <td>avg</td>\n      <td>...</td>\n      <td>1.081738</td>\n      <td>4.781199</td>\n      <td>0.559847</td>\n      <td>2.0</td>\n      <td>V1</td>\n      <td>3.0</td>\n      <td>0.882773</td>\n      <td>0.068810</td>\n      <td>lh</td>\n      <td>subj01</td>\n    </tr>\n    <tr>\n      <th>3</th>\n      <td>0</td>\n      <td>104</td>\n      <td>pinwheel</td>\n      <td>0.0</td>\n      <td>6.0</td>\n      <td>0.0</td>\n      <td>0</td>\n      <td>0</td>\n      <td>16</td>\n      <td>avg</td>\n      <td>...</td>\n      <td>1.473532</td>\n      <td>4.971115</td>\n      <td>0.963097</td>\n      <td>2.0</td>\n      <td>V1</td>\n      <td>3.0</td>\n      <td>0.648055</td>\n      <td>0.258726</td>\n      <td>lh</td>\n      <td>subj01</td>\n    </tr>\n    <tr>\n      <th>4</th>\n      <td>0</td>\n      <td>104</td>\n      <td>pinwheel</td>\n      <td>0.0</td>\n      <td>6.0</td>\n      <td>0.0</td>\n      <td>0</td>\n      <td>0</td>\n      <td>17</td>\n      <td>avg</td>\n      <td>...</td>\n      <td>1.495256</td>\n      <td>5.002201</td>\n      <td>0.945766</td>\n      <td>2.0</td>\n      <td>V1</td>\n      <td>3.0</td>\n      <td>0.638639</td>\n      <td>0.289812</td>\n      <td>lh</td>\n      <td>subj01</td>\n    </tr>\n  </tbody>\n</table>\n<p>5 rows × 21 columns</p>\n</div>"
     },
     "execution_count": 7,
     "metadata": {},
     "output_type": "execute_result"
    }
   ],
   "source": [
    "subj_df_path = os.path.join(output_dir, 'dataframes', dset, f'dset-{dset}_sub-{subj}_roi-{roi}_vs-{vs}.csv')\n",
    "subj_df = pd.read_csv(subj_df_path)\n",
    "subj_df.head()"
   ],
   "metadata": {
    "collapsed": false,
    "ExecuteTime": {
     "start_time": "2023-05-01T22:29:00.242385Z",
     "end_time": "2023-05-01T22:29:00.242459Z"
    }
   }
  },
  {
   "cell_type": "code",
   "execution_count": 10,
   "outputs": [
    {
     "data": {
      "text/plain": "      sub  voxel vroinames  noise_SD  sigma_v_squared\n0  subj01     10        V1  0.586458         0.409426\n1  subj01     11        V1  0.438531         0.223560\n2  subj01     12        V1  0.480373         0.264642\n3  subj01     16        V1  0.718100         0.606524\n4  subj01     17        V1  0.613964         0.451716",
      "text/html": "<div>\n<style scoped>\n    .dataframe tbody tr th:only-of-type {\n        vertical-align: middle;\n    }\n\n    .dataframe tbody tr th {\n        vertical-align: top;\n    }\n\n    .dataframe thead th {\n        text-align: right;\n    }\n</style>\n<table border=\"1\" class=\"dataframe\">\n  <thead>\n    <tr style=\"text-align: right;\">\n      <th></th>\n      <th>sub</th>\n      <th>voxel</th>\n      <th>vroinames</th>\n      <th>noise_SD</th>\n      <th>sigma_v_squared</th>\n    </tr>\n  </thead>\n  <tbody>\n    <tr>\n      <th>0</th>\n      <td>subj01</td>\n      <td>10</td>\n      <td>V1</td>\n      <td>0.586458</td>\n      <td>0.409426</td>\n    </tr>\n    <tr>\n      <th>1</th>\n      <td>subj01</td>\n      <td>11</td>\n      <td>V1</td>\n      <td>0.438531</td>\n      <td>0.223560</td>\n    </tr>\n    <tr>\n      <th>2</th>\n      <td>subj01</td>\n      <td>12</td>\n      <td>V1</td>\n      <td>0.480373</td>\n      <td>0.264642</td>\n    </tr>\n    <tr>\n      <th>3</th>\n      <td>subj01</td>\n      <td>16</td>\n      <td>V1</td>\n      <td>0.718100</td>\n      <td>0.606524</td>\n    </tr>\n    <tr>\n      <th>4</th>\n      <td>subj01</td>\n      <td>17</td>\n      <td>V1</td>\n      <td>0.613964</td>\n      <td>0.451716</td>\n    </tr>\n  </tbody>\n</table>\n</div>"
     },
     "execution_count": 10,
     "metadata": {},
     "output_type": "execute_result"
    }
   ],
   "source": [
    "precision_path = os.path.join(output_dir, 'dataframes', dset, 'precision', f'precision-v_dset-{dset}_sub-{subj}_roi-{roi}_vs-{vs}.csv')\n",
    "precision_df = pd.read_csv(precision_path)\n",
    "precision_df.head()"
   ],
   "metadata": {
    "collapsed": false,
    "ExecuteTime": {
     "start_time": "2023-05-01T22:29:25.103110Z",
     "end_time": "2023-05-01T22:29:25.103249Z"
    }
   }
  },
  {
   "cell_type": "code",
   "execution_count": 14,
   "outputs": [],
   "source": [
    "df = subj_df.merge(precision_df, on=['sub','voxel','vroinames'])"
   ],
   "metadata": {
    "collapsed": false
   }
  },
  {
   "cell_type": "code",
   "execution_count": 37,
   "outputs": [],
   "source": [
    "w_avg = df.groupby(['sub', 'voxel', 'class_idx', 'vroinames']).mean().reset_index()"
   ],
   "metadata": {
    "collapsed": false,
    "pycharm": {
     "name": "#%%\n"
    }
   }
  },
  {
   "cell_type": "code",
   "execution_count": 56,
   "outputs": [],
   "source": [
    "pt_path = '/Volumes/server/Projects/sfp_nsd/derivatives/sfp_model/results_2D/test3.pt'"
   ],
   "metadata": {
    "collapsed": false,
    "pycharm": {
     "name": "#%%\n"
    }
   }
  },
  {
   "cell_type": "code",
   "execution_count": 38,
   "outputs": [
    {
     "data": {
      "text/plain": "class_idx        0         1         2         3         4         5   \\\nvoxel                                                                   \n10         0.318386  0.318386  0.318386  0.318386  0.318386  0.318386   \n11         0.212994  0.212994  0.212994  0.212994  0.212994  0.212994   \n12         0.068810  0.068810  0.068810  0.068810  0.068810  0.068810   \n16         0.258726  0.258726  0.258726  0.258726  0.258726  0.258726   \n17         0.289812  0.289812  0.289812  0.289812  0.289812  0.289812   \n...             ...       ...       ...       ...       ...       ...   \n7086       0.309419  0.309419  0.309419  0.309419  0.309419  0.309419   \n7087       0.270359  0.270359  0.270359  0.270359  0.270359  0.270359   \n7089       0.271274  0.271274  0.271274  0.271274  0.271274  0.271274   \n7090       0.276253  0.276253  0.276253  0.276253  0.276253  0.276253   \n7091       0.296889  0.296889  0.296889  0.296889  0.296889  0.296889   \n\nclass_idx        6         7         8         9   ...        18        19  \\\nvoxel                                              ...                       \n10         2.674580  2.674580  2.674580  2.674580  ...  1.103784  1.103784   \n11         2.569189  2.569189  2.569189  2.569189  ...  0.998392  0.998392   \n12         2.425005  2.425005  2.425005  2.425005  ...  0.854208  0.854208   \n16         2.614921  2.614921  2.614921  2.614921  ...  1.044124  1.044124   \n17         2.646006  2.646006  2.646006  2.646006  ...  1.075210  1.075210   \n...             ...       ...       ...       ...  ...       ...       ...   \n7086       2.665613  2.665613  2.665613  2.665613  ...  1.094817  1.094817   \n7087       2.626553  2.626553  2.626553  2.626553  ...  1.055757  1.055757   \n7089       2.627468  2.627468  2.627468  2.627468  ...  1.056672  1.056672   \n7090       2.632448  2.632448  2.632448  2.632448  ...  1.061652  1.061652   \n7091       2.653083  2.653083  2.653083  2.653083  ...  1.082287  1.082287   \n\nclass_idx        20        21        22        23        24        25  \\\nvoxel                                                                   \n10         1.103784  1.103784  1.103784  1.103784  3.069371  2.279789   \n11         0.998392  0.998392  0.998392  0.998392  2.963980  2.174398   \n12         0.854208  0.854208  0.854208  0.854208  2.819796  2.030214   \n16         1.044124  1.044124  1.044124  1.044124  3.009712  2.220129   \n17         1.075210  1.075210  1.075210  1.075210  3.040797  2.251215   \n...             ...       ...       ...       ...       ...       ...   \n7086       1.094817  1.094817  1.094817  1.094817  3.060404  2.270822   \n7087       1.055757  1.055757  1.055757  1.055757  3.021344  2.231762   \n7089       1.056672  1.056672  1.056672  1.056672  3.022260  2.232677   \n7090       1.061652  1.061652  1.061652  1.061652  3.027239  2.237657   \n7091       1.082287  1.082287  1.082287  1.082287  3.047874  2.258292   \n\nclass_idx        26        27  \nvoxel                          \n10         1.498575  0.708993  \n11         1.393184  0.603601  \n12         1.249000  0.459417  \n16         1.438915  0.649333  \n17         1.470001  0.680419  \n...             ...       ...  \n7086       1.489608  0.700026  \n7087       1.450548  0.660966  \n7089       1.451463  0.661881  \n7090       1.456443  0.666860  \n7091       1.477078  0.687496  \n\n[2308 rows x 28 columns]",
      "text/html": "<div>\n<style scoped>\n    .dataframe tbody tr th:only-of-type {\n        vertical-align: middle;\n    }\n\n    .dataframe tbody tr th {\n        vertical-align: top;\n    }\n\n    .dataframe thead th {\n        text-align: right;\n    }\n</style>\n<table border=\"1\" class=\"dataframe\">\n  <thead>\n    <tr style=\"text-align: right;\">\n      <th>class_idx</th>\n      <th>0</th>\n      <th>1</th>\n      <th>2</th>\n      <th>3</th>\n      <th>4</th>\n      <th>5</th>\n      <th>6</th>\n      <th>7</th>\n      <th>8</th>\n      <th>9</th>\n      <th>...</th>\n      <th>18</th>\n      <th>19</th>\n      <th>20</th>\n      <th>21</th>\n      <th>22</th>\n      <th>23</th>\n      <th>24</th>\n      <th>25</th>\n      <th>26</th>\n      <th>27</th>\n    </tr>\n    <tr>\n      <th>voxel</th>\n      <th></th>\n      <th></th>\n      <th></th>\n      <th></th>\n      <th></th>\n      <th></th>\n      <th></th>\n      <th></th>\n      <th></th>\n      <th></th>\n      <th></th>\n      <th></th>\n      <th></th>\n      <th></th>\n      <th></th>\n      <th></th>\n      <th></th>\n      <th></th>\n      <th></th>\n      <th></th>\n      <th></th>\n    </tr>\n  </thead>\n  <tbody>\n    <tr>\n      <th>10</th>\n      <td>0.318386</td>\n      <td>0.318386</td>\n      <td>0.318386</td>\n      <td>0.318386</td>\n      <td>0.318386</td>\n      <td>0.318386</td>\n      <td>2.674580</td>\n      <td>2.674580</td>\n      <td>2.674580</td>\n      <td>2.674580</td>\n      <td>...</td>\n      <td>1.103784</td>\n      <td>1.103784</td>\n      <td>1.103784</td>\n      <td>1.103784</td>\n      <td>1.103784</td>\n      <td>1.103784</td>\n      <td>3.069371</td>\n      <td>2.279789</td>\n      <td>1.498575</td>\n      <td>0.708993</td>\n    </tr>\n    <tr>\n      <th>11</th>\n      <td>0.212994</td>\n      <td>0.212994</td>\n      <td>0.212994</td>\n      <td>0.212994</td>\n      <td>0.212994</td>\n      <td>0.212994</td>\n      <td>2.569189</td>\n      <td>2.569189</td>\n      <td>2.569189</td>\n      <td>2.569189</td>\n      <td>...</td>\n      <td>0.998392</td>\n      <td>0.998392</td>\n      <td>0.998392</td>\n      <td>0.998392</td>\n      <td>0.998392</td>\n      <td>0.998392</td>\n      <td>2.963980</td>\n      <td>2.174398</td>\n      <td>1.393184</td>\n      <td>0.603601</td>\n    </tr>\n    <tr>\n      <th>12</th>\n      <td>0.068810</td>\n      <td>0.068810</td>\n      <td>0.068810</td>\n      <td>0.068810</td>\n      <td>0.068810</td>\n      <td>0.068810</td>\n      <td>2.425005</td>\n      <td>2.425005</td>\n      <td>2.425005</td>\n      <td>2.425005</td>\n      <td>...</td>\n      <td>0.854208</td>\n      <td>0.854208</td>\n      <td>0.854208</td>\n      <td>0.854208</td>\n      <td>0.854208</td>\n      <td>0.854208</td>\n      <td>2.819796</td>\n      <td>2.030214</td>\n      <td>1.249000</td>\n      <td>0.459417</td>\n    </tr>\n    <tr>\n      <th>16</th>\n      <td>0.258726</td>\n      <td>0.258726</td>\n      <td>0.258726</td>\n      <td>0.258726</td>\n      <td>0.258726</td>\n      <td>0.258726</td>\n      <td>2.614921</td>\n      <td>2.614921</td>\n      <td>2.614921</td>\n      <td>2.614921</td>\n      <td>...</td>\n      <td>1.044124</td>\n      <td>1.044124</td>\n      <td>1.044124</td>\n      <td>1.044124</td>\n      <td>1.044124</td>\n      <td>1.044124</td>\n      <td>3.009712</td>\n      <td>2.220129</td>\n      <td>1.438915</td>\n      <td>0.649333</td>\n    </tr>\n    <tr>\n      <th>17</th>\n      <td>0.289812</td>\n      <td>0.289812</td>\n      <td>0.289812</td>\n      <td>0.289812</td>\n      <td>0.289812</td>\n      <td>0.289812</td>\n      <td>2.646006</td>\n      <td>2.646006</td>\n      <td>2.646006</td>\n      <td>2.646006</td>\n      <td>...</td>\n      <td>1.075210</td>\n      <td>1.075210</td>\n      <td>1.075210</td>\n      <td>1.075210</td>\n      <td>1.075210</td>\n      <td>1.075210</td>\n      <td>3.040797</td>\n      <td>2.251215</td>\n      <td>1.470001</td>\n      <td>0.680419</td>\n    </tr>\n    <tr>\n      <th>...</th>\n      <td>...</td>\n      <td>...</td>\n      <td>...</td>\n      <td>...</td>\n      <td>...</td>\n      <td>...</td>\n      <td>...</td>\n      <td>...</td>\n      <td>...</td>\n      <td>...</td>\n      <td>...</td>\n      <td>...</td>\n      <td>...</td>\n      <td>...</td>\n      <td>...</td>\n      <td>...</td>\n      <td>...</td>\n      <td>...</td>\n      <td>...</td>\n      <td>...</td>\n      <td>...</td>\n    </tr>\n    <tr>\n      <th>7086</th>\n      <td>0.309419</td>\n      <td>0.309419</td>\n      <td>0.309419</td>\n      <td>0.309419</td>\n      <td>0.309419</td>\n      <td>0.309419</td>\n      <td>2.665613</td>\n      <td>2.665613</td>\n      <td>2.665613</td>\n      <td>2.665613</td>\n      <td>...</td>\n      <td>1.094817</td>\n      <td>1.094817</td>\n      <td>1.094817</td>\n      <td>1.094817</td>\n      <td>1.094817</td>\n      <td>1.094817</td>\n      <td>3.060404</td>\n      <td>2.270822</td>\n      <td>1.489608</td>\n      <td>0.700026</td>\n    </tr>\n    <tr>\n      <th>7087</th>\n      <td>0.270359</td>\n      <td>0.270359</td>\n      <td>0.270359</td>\n      <td>0.270359</td>\n      <td>0.270359</td>\n      <td>0.270359</td>\n      <td>2.626553</td>\n      <td>2.626553</td>\n      <td>2.626553</td>\n      <td>2.626553</td>\n      <td>...</td>\n      <td>1.055757</td>\n      <td>1.055757</td>\n      <td>1.055757</td>\n      <td>1.055757</td>\n      <td>1.055757</td>\n      <td>1.055757</td>\n      <td>3.021344</td>\n      <td>2.231762</td>\n      <td>1.450548</td>\n      <td>0.660966</td>\n    </tr>\n    <tr>\n      <th>7089</th>\n      <td>0.271274</td>\n      <td>0.271274</td>\n      <td>0.271274</td>\n      <td>0.271274</td>\n      <td>0.271274</td>\n      <td>0.271274</td>\n      <td>2.627468</td>\n      <td>2.627468</td>\n      <td>2.627468</td>\n      <td>2.627468</td>\n      <td>...</td>\n      <td>1.056672</td>\n      <td>1.056672</td>\n      <td>1.056672</td>\n      <td>1.056672</td>\n      <td>1.056672</td>\n      <td>1.056672</td>\n      <td>3.022260</td>\n      <td>2.232677</td>\n      <td>1.451463</td>\n      <td>0.661881</td>\n    </tr>\n    <tr>\n      <th>7090</th>\n      <td>0.276253</td>\n      <td>0.276253</td>\n      <td>0.276253</td>\n      <td>0.276253</td>\n      <td>0.276253</td>\n      <td>0.276253</td>\n      <td>2.632448</td>\n      <td>2.632448</td>\n      <td>2.632448</td>\n      <td>2.632448</td>\n      <td>...</td>\n      <td>1.061652</td>\n      <td>1.061652</td>\n      <td>1.061652</td>\n      <td>1.061652</td>\n      <td>1.061652</td>\n      <td>1.061652</td>\n      <td>3.027239</td>\n      <td>2.237657</td>\n      <td>1.456443</td>\n      <td>0.666860</td>\n    </tr>\n    <tr>\n      <th>7091</th>\n      <td>0.296889</td>\n      <td>0.296889</td>\n      <td>0.296889</td>\n      <td>0.296889</td>\n      <td>0.296889</td>\n      <td>0.296889</td>\n      <td>2.653083</td>\n      <td>2.653083</td>\n      <td>2.653083</td>\n      <td>2.653083</td>\n      <td>...</td>\n      <td>1.082287</td>\n      <td>1.082287</td>\n      <td>1.082287</td>\n      <td>1.082287</td>\n      <td>1.082287</td>\n      <td>1.082287</td>\n      <td>3.047874</td>\n      <td>2.258292</td>\n      <td>1.477078</td>\n      <td>0.687496</td>\n    </tr>\n  </tbody>\n</table>\n<p>2308 rows × 28 columns</p>\n</div>"
     },
     "execution_count": 38,
     "metadata": {},
     "output_type": "execute_result"
    }
   ],
   "source": [
    "w_avg.pivot('voxel', 'class_idx', 'local_ori')"
   ],
   "metadata": {
    "collapsed": false,
    "pycharm": {
     "name": "#%%\n"
    }
   }
  },
  {
   "cell_type": "code",
   "execution_count": 59,
   "outputs": [
    {
     "name": "stdout",
     "output_type": "stream",
     "text": [
      "**epoch no.0 loss: 0.129\n",
      "**epoch no.1 loss: 0.128\n",
      "**epoch no.2 loss: 0.128\n",
      "**epoch no.3: Finished! final model params...\n",
      " {'sigma': 0.0384337417781353, 'slope': 0.31463325023651123, 'intercept': 0.43112248182296753, 'p_1': 0.060593124479055405, 'p_2': 0.08446389436721802, 'p_3': 0.08890348672866821, 'p_4': 0.059790268540382385, 'A_1': 0.866459310054779, 'A_2': 0.883697509765625}\n",
      "Elapsed time: 0.07 sec\n"
     ]
    }
   ],
   "source": [
    "my_dataset = model.SpatialFrequencyDataset(w_avg, beta_col='betas')\n",
    "my_model = model.SpatialFrequencyModel(full_ver=True)\n",
    "loss_history, model_history, losses = model.fit_model(my_model, my_dataset,\n",
    "                                                      save_path=pt_path,\n",
    "                                                      learning_rate=0.001, max_epoch=3,\n",
    "                                                      print_every=1, loss_all_voxels=False)"
   ],
   "metadata": {
    "collapsed": false,
    "pycharm": {
     "name": "#%%\n"
    }
   }
  },
  {
   "cell_type": "code",
   "execution_count": 60,
   "outputs": [
    {
     "name": "stdout",
     "output_type": "stream",
     "text": [
      "sigma: Parameter containing:\n",
      "tensor([0.0394], requires_grad=True)\n",
      "slope: Parameter containing:\n",
      "tensor([0.3156], requires_grad=True)\n",
      "intercept: Parameter containing:\n",
      "tensor([0.4321], requires_grad=True)\n",
      "p_1: Parameter containing:\n",
      "tensor([0.0616], requires_grad=True)\n",
      "p_2: Parameter containing:\n",
      "tensor([0.0854], requires_grad=True)\n",
      "p_3: Parameter containing:\n",
      "tensor([0.0879], requires_grad=True)\n",
      "p_4: Parameter containing:\n",
      "tensor([0.0588], requires_grad=True)\n",
      "A_1: Parameter containing:\n",
      "tensor([0.8656], requires_grad=True)\n",
      "A_2: Parameter containing:\n",
      "tensor([0.8828], requires_grad=True)\n"
     ]
    }
   ],
   "source": [
    "import torch\n",
    "another_model = model.SpatialFrequencyModel(full_ver=True)\n",
    "another_model.load_state_dict(torch.load(pt_path))\n",
    "another_model.eval()\n",
    "for name, param in another_model.named_parameters():\n",
    "    print(f'{name}: {param}')"
   ],
   "metadata": {
    "collapsed": false,
    "pycharm": {
     "name": "#%%\n"
    }
   }
  },
  {
   "cell_type": "code",
   "execution_count": 41,
   "outputs": [
    {
     "data": {
      "text/plain": "   epoch      loss\n0      0  0.096106\n1      1  0.095947",
      "text/html": "<div>\n<style scoped>\n    .dataframe tbody tr th:only-of-type {\n        vertical-align: middle;\n    }\n\n    .dataframe tbody tr th {\n        vertical-align: top;\n    }\n\n    .dataframe thead th {\n        text-align: right;\n    }\n</style>\n<table border=\"1\" class=\"dataframe\">\n  <thead>\n    <tr style=\"text-align: right;\">\n      <th></th>\n      <th>epoch</th>\n      <th>loss</th>\n    </tr>\n  </thead>\n  <tbody>\n    <tr>\n      <th>0</th>\n      <td>0</td>\n      <td>0.096106</td>\n    </tr>\n    <tr>\n      <th>1</th>\n      <td>1</td>\n      <td>0.095947</td>\n    </tr>\n  </tbody>\n</table>\n</div>"
     },
     "execution_count": 41,
     "metadata": {},
     "output_type": "execute_result"
    }
   ],
   "source": [
    "loss_history"
   ],
   "metadata": {
    "collapsed": false,
    "pycharm": {
     "name": "#%%\n"
    }
   }
  },
  {
   "cell_type": "code",
   "execution_count": 42,
   "outputs": [
    {
     "data": {
      "text/plain": "   epoch     sigma     slope  intercept      p_1       p_2       p_3  \\\n0      0  0.619453  0.444037   0.691521  0.08782  0.044759  0.080649   \n1      1  0.620453  0.443037   0.690521  0.08682  0.043759  0.081649   \n\n        p_4       A_1       A_2  \n0  0.071719  0.294542  0.939823  \n1  0.072719  0.293542  0.938823  ",
      "text/html": "<div>\n<style scoped>\n    .dataframe tbody tr th:only-of-type {\n        vertical-align: middle;\n    }\n\n    .dataframe tbody tr th {\n        vertical-align: top;\n    }\n\n    .dataframe thead th {\n        text-align: right;\n    }\n</style>\n<table border=\"1\" class=\"dataframe\">\n  <thead>\n    <tr style=\"text-align: right;\">\n      <th></th>\n      <th>epoch</th>\n      <th>sigma</th>\n      <th>slope</th>\n      <th>intercept</th>\n      <th>p_1</th>\n      <th>p_2</th>\n      <th>p_3</th>\n      <th>p_4</th>\n      <th>A_1</th>\n      <th>A_2</th>\n    </tr>\n  </thead>\n  <tbody>\n    <tr>\n      <th>0</th>\n      <td>0</td>\n      <td>0.619453</td>\n      <td>0.444037</td>\n      <td>0.691521</td>\n      <td>0.08782</td>\n      <td>0.044759</td>\n      <td>0.080649</td>\n      <td>0.071719</td>\n      <td>0.294542</td>\n      <td>0.939823</td>\n    </tr>\n    <tr>\n      <th>1</th>\n      <td>1</td>\n      <td>0.620453</td>\n      <td>0.443037</td>\n      <td>0.690521</td>\n      <td>0.08682</td>\n      <td>0.043759</td>\n      <td>0.081649</td>\n      <td>0.072719</td>\n      <td>0.293542</td>\n      <td>0.938823</td>\n    </tr>\n  </tbody>\n</table>\n</div>"
     },
     "execution_count": 42,
     "metadata": {},
     "output_type": "execute_result"
    }
   ],
   "source": [
    "model_history"
   ],
   "metadata": {
    "collapsed": false,
    "pycharm": {
     "name": "#%%\n"
    }
   }
  },
  {
   "cell_type": "code",
   "execution_count": 69,
   "outputs": [],
   "source": [
    "old_file='/Volumes/server/Projects/sfp_nsd/derivatives/sfp_model/results_2D/model_history_dset-nsdsyn_bts-mean_full_ver-True_subj01_lr-0.0005_eph-20000_V1.h5'\n",
    "new_file='/Volumes/server/Projects/sfp_nsd/derivatives/sfp_model/results_2D/nsdsyn/model-history_lr-0.0005_eph-10000_dset-nsdsyn_sub-subj01_roi-V1_vs-pRFsize.h5'"
   ],
   "metadata": {
    "collapsed": false,
    "pycharm": {
     "name": "#%%\n"
    }
   }
  },
  {
   "cell_type": "code",
   "execution_count": 70,
   "outputs": [],
   "source": [
    "old_f = pd.read_hdf(old_file)\n",
    "new_f = pd.read_hdf(new_file)"
   ],
   "metadata": {
    "collapsed": false,
    "pycharm": {
     "name": "#%%\n"
    }
   }
  },
  {
   "cell_type": "code",
   "execution_count": 71,
   "outputs": [
    {
     "data": {
      "text/plain": "       epoch     sigma     slope  intercept       p_1       p_2       p_3  \\\n19999  19999  2.464081  0.139384   0.215651  0.028885 -0.020794 -0.262531   \n\n            p_4       A_1       A_2  \n19999 -0.014679  0.021958 -0.003817  ",
      "text/html": "<div>\n<style scoped>\n    .dataframe tbody tr th:only-of-type {\n        vertical-align: middle;\n    }\n\n    .dataframe tbody tr th {\n        vertical-align: top;\n    }\n\n    .dataframe thead th {\n        text-align: right;\n    }\n</style>\n<table border=\"1\" class=\"dataframe\">\n  <thead>\n    <tr style=\"text-align: right;\">\n      <th></th>\n      <th>epoch</th>\n      <th>sigma</th>\n      <th>slope</th>\n      <th>intercept</th>\n      <th>p_1</th>\n      <th>p_2</th>\n      <th>p_3</th>\n      <th>p_4</th>\n      <th>A_1</th>\n      <th>A_2</th>\n    </tr>\n  </thead>\n  <tbody>\n    <tr>\n      <th>19999</th>\n      <td>19999</td>\n      <td>2.464081</td>\n      <td>0.139384</td>\n      <td>0.215651</td>\n      <td>0.028885</td>\n      <td>-0.020794</td>\n      <td>-0.262531</td>\n      <td>-0.014679</td>\n      <td>0.021958</td>\n      <td>-0.003817</td>\n    </tr>\n  </tbody>\n</table>\n</div>"
     },
     "execution_count": 71,
     "metadata": {},
     "output_type": "execute_result"
    }
   ],
   "source": [
    "old_f.query('epoch == 19999')"
   ],
   "metadata": {
    "collapsed": false,
    "pycharm": {
     "name": "#%%\n"
    }
   }
  },
  {
   "cell_type": "code",
   "execution_count": 66,
   "outputs": [
    {
     "data": {
      "text/plain": "      epoch     sigma     slope  intercept      p_1       p_2       p_3  \\\n9999   9999  2.374602  0.146491   0.201589  0.02126 -0.020941 -0.254096   \n\n           p_4       A_1       A_2  \n9999 -0.015825  0.023916 -0.006775  ",
      "text/html": "<div>\n<style scoped>\n    .dataframe tbody tr th:only-of-type {\n        vertical-align: middle;\n    }\n\n    .dataframe tbody tr th {\n        vertical-align: top;\n    }\n\n    .dataframe thead th {\n        text-align: right;\n    }\n</style>\n<table border=\"1\" class=\"dataframe\">\n  <thead>\n    <tr style=\"text-align: right;\">\n      <th></th>\n      <th>epoch</th>\n      <th>sigma</th>\n      <th>slope</th>\n      <th>intercept</th>\n      <th>p_1</th>\n      <th>p_2</th>\n      <th>p_3</th>\n      <th>p_4</th>\n      <th>A_1</th>\n      <th>A_2</th>\n    </tr>\n  </thead>\n  <tbody>\n    <tr>\n      <th>9999</th>\n      <td>9999</td>\n      <td>2.374602</td>\n      <td>0.146491</td>\n      <td>0.201589</td>\n      <td>0.02126</td>\n      <td>-0.020941</td>\n      <td>-0.254096</td>\n      <td>-0.015825</td>\n      <td>0.023916</td>\n      <td>-0.006775</td>\n    </tr>\n  </tbody>\n</table>\n</div>"
     },
     "execution_count": 66,
     "metadata": {},
     "output_type": "execute_result"
    }
   ],
   "source": [
    "new_f.query('epoch == 9999')"
   ],
   "metadata": {
    "collapsed": false,
    "pycharm": {
     "name": "#%%\n"
    }
   }
  },
  {
   "cell_type": "code",
   "outputs": [],
   "source": [],
   "metadata": {
    "collapsed": false
   }
  },
  {
   "cell_type": "code",
   "outputs": [],
   "source": [
    "subj_df = pd.read_csv('/Volumes/server/Projects/sfp_nsd/derivatives/dataframes/broderick/dset-broderick_sub-wlsubj001_roi-V1_vs-pRFcenter_tfunc-corrected.csv')\n",
    "precision_df = pd.read_csv('/Volumes/server/Projects/sfp_nsd/derivatives/dataframes/broderick/precision/precision-v_dset-broderick_sub-wlsubj001_roi-V1_vs-pRFsize.csv')\n"
   ],
   "metadata": {
    "collapsed": false,
    "ExecuteTime": {
     "end_time": "2024-05-29T09:29:14.891109Z",
     "start_time": "2024-05-29T09:29:14.536372Z"
    }
   },
   "execution_count": 5
  },
  {
   "cell_type": "code",
   "outputs": [],
   "source": [
    "df = subj_df.merge(precision_df, on=['sub', 'vroinames', 'voxel'])\n"
   ],
   "metadata": {
    "collapsed": false,
    "ExecuteTime": {
     "end_time": "2024-05-29T09:29:57.656830Z",
     "start_time": "2024-05-29T09:29:57.558800Z"
    }
   },
   "execution_count": 7
  },
  {
   "cell_type": "code",
   "outputs": [
    {
     "data": {
      "text/plain": "    Unnamed: 0  Unnamed: 0.1  voxel  class_idx     betas  eccentricity  \\\n0            0             0      0          0  1.579265      2.565532   \n1         3780          3780      0          1  0.927717      2.565532   \n2         7560          7560      0          2  2.201150      2.565532   \n3        11340         11340      0          3  2.780616      2.565532   \n4        15120         15120      0          4  1.862685      2.565532   \n5        18900         18900      0          5  2.306179      2.565532   \n6        22680         22680      0          6  2.549803      2.565532   \n7        26460         26460      0          7  2.625424      2.565532   \n8        30240         30240      0          8  3.204638      2.565532   \n9        34020         34020      0          9  2.849313      2.565532   \n10       37800         37800      0         10  1.417065      2.565532   \n11       41580         41580      0         11  0.814516      2.565532   \n12       45360         45360      0         12  2.526020      2.565532   \n13       49140         49140      0         13  2.283371      2.565532   \n14       52920         52920      0         14  2.149028      2.565532   \n15       56700         56700      0         15  2.401600      2.565532   \n16       60480         60480      0         16  1.732854      2.565532   \n17       64260         64260      0         17  2.715278      2.565532   \n18       68040         68040      0         18  2.841083      2.565532   \n19       71820         71820      0         19  2.280296      2.565532   \n20       75600         75600      0         20  0.925520      2.565532   \n21       79380         79380      0         21  1.946703      2.565532   \n22       83160         83160      0         22  1.626531      2.565532   \n23       86940         86940      0         23  2.481571      2.565532   \n24       90720         90720      0         24  2.609891      2.565532   \n25       94500         94500      0         25  2.248441      2.565532   \n26       98280         98280      0         26  2.571519      2.565532   \n27      102060        102060      0         27  2.059054      2.565532   \n28      105840        105840      0         28  2.737165      2.565532   \n29      109620        109620      0         29  2.822368      2.565532   \n30      113400        113400      0         30  1.233580      2.565532   \n31      117180        117180      0         31  2.228929      2.565532   \n32      120960        120960      0         32  1.718205      2.565532   \n33      124740        124740      0         33  2.594082      2.565532   \n34      128520        128520      0         34  2.498524      2.565532   \n35      132300        132300      0         35  2.155490      2.565532   \n36      136080        136080      0         36  2.258766      2.565532   \n37      139860        139860      0         37  1.859806      2.565532   \n38      143640        143640      0         38  3.107373      2.565532   \n39      147420        147420      0         39  2.621607      2.565532   \n40      151200        151200      0         40  2.301526      2.565532   \n41      154980        154980      0         41  1.841951      2.565532   \n42      158760        158760      0         42  1.725571      2.565532   \n43      162540        162540      0         43  2.502832      2.565532   \n44      166320        166320      0         44  1.787221      2.565532   \n45      170100        170100      0         45  1.795016      2.565532   \n46      173880        173880      0         46  3.183910      2.565532   \n47      177660        177660      0         47  2.206463      2.565532   \n\n       angle      size hemi    w_r    w_a  image_idx           names  \\\n0   4.733885  0.454929   lh    0.0    6.0          0        pinwheel   \n1   4.733885  0.454929   lh    0.0    8.0          8        pinwheel   \n2   4.733885  0.454929   lh    0.0   11.0         16        pinwheel   \n3   4.733885  0.454929   lh    0.0   16.0         24        pinwheel   \n4   4.733885  0.454929   lh    0.0   23.0         32        pinwheel   \n5   4.733885  0.454929   lh    0.0   32.0         40        pinwheel   \n6   4.733885  0.454929   lh    0.0   45.0         48        pinwheel   \n7   4.733885  0.454929   lh    0.0   64.0         56        pinwheel   \n8   4.733885  0.454929   lh    0.0   91.0         64        pinwheel   \n9   4.733885  0.454929   lh    0.0  128.0         72        pinwheel   \n10  4.733885  0.454929   lh    6.0    0.0         80         annulus   \n11  4.733885  0.454929   lh    8.0    0.0         88         annulus   \n12  4.733885  0.454929   lh   11.0    0.0         96         annulus   \n13  4.733885  0.454929   lh   16.0    0.0        104         annulus   \n14  4.733885  0.454929   lh   23.0    0.0        112         annulus   \n15  4.733885  0.454929   lh   32.0    0.0        120         annulus   \n16  4.733885  0.454929   lh   45.0    0.0        128         annulus   \n17  4.733885  0.454929   lh   64.0    0.0        136         annulus   \n18  4.733885  0.454929   lh   91.0    0.0        144         annulus   \n19  4.733885  0.454929   lh  128.0    0.0        152         annulus   \n20  4.733885  0.454929   lh    4.0    4.0        160  forward spiral   \n21  4.733885  0.454929   lh    6.0    6.0        168  forward spiral   \n22  4.733885  0.454929   lh    8.0    8.0        176  forward spiral   \n23  4.733885  0.454929   lh   11.0   11.0        184  forward spiral   \n24  4.733885  0.454929   lh   16.0   16.0        192  forward spiral   \n25  4.733885  0.454929   lh   23.0   23.0        200  forward spiral   \n26  4.733885  0.454929   lh   32.0   32.0        208  forward spiral   \n27  4.733885  0.454929   lh   45.0   45.0        216  forward spiral   \n28  4.733885  0.454929   lh   64.0   64.0        224  forward spiral   \n29  4.733885  0.454929   lh   91.0   91.0        232  forward spiral   \n30  4.733885  0.454929   lh    4.0   -4.0        240  reverse spiral   \n31  4.733885  0.454929   lh    6.0   -6.0        248  reverse spiral   \n32  4.733885  0.454929   lh    8.0   -8.0        256  reverse spiral   \n33  4.733885  0.454929   lh   11.0  -11.0        264  reverse spiral   \n34  4.733885  0.454929   lh   16.0  -16.0        272  reverse spiral   \n35  4.733885  0.454929   lh   23.0  -23.0        280  reverse spiral   \n36  4.733885  0.454929   lh   32.0  -32.0        288  reverse spiral   \n37  4.733885  0.454929   lh   45.0  -45.0        296  reverse spiral   \n38  4.733885  0.454929   lh   64.0  -64.0        304  reverse spiral   \n39  4.733885  0.454929   lh   91.0  -91.0        312  reverse spiral   \n40  4.733885  0.454929   lh    8.0   31.0        320        mixtures   \n41  4.733885  0.454929   lh   16.0   28.0        328        mixtures   \n42  4.733885  0.454929   lh   28.0   16.0        336        mixtures   \n43  4.733885  0.454929   lh   31.0    8.0        344        mixtures   \n44  4.733885  0.454929   lh   31.0   -8.0        352        mixtures   \n45  4.733885  0.454929   lh   28.0  -16.0        360        mixtures   \n46  4.733885  0.454929   lh   16.0  -28.0        368        mixtures   \n47  4.733885  0.454929   lh    8.0  -31.0        376        mixtures   \n\n    freq_lvl  local_sf  local_ori        sub vroinames  noise_SD  \\\n0          0  0.372215   0.021496  wlsubj001        V1  0.329872   \n1          1  0.496287   0.021496  wlsubj001        V1  0.329872   \n2          2  0.682394   0.021496  wlsubj001        V1  0.329872   \n3          3  0.992574   0.021496  wlsubj001        V1  0.329872   \n4          4  1.426825   0.021496  wlsubj001        V1  0.329872   \n5          5  1.985147   0.021496  wlsubj001        V1  0.329872   \n6          6  2.791613   0.021496  wlsubj001        V1  0.329872   \n7          7  3.970294   0.021496  wlsubj001        V1  0.329872   \n8          8  5.645262   0.021496  wlsubj001        V1  0.329872   \n9          9  7.940589   0.021496  wlsubj001        V1  0.329872   \n10         0  0.372215   1.592293  wlsubj001        V1  0.329872   \n11         1  0.496287   1.592293  wlsubj001        V1  0.329872   \n12         2  0.682394   1.592293  wlsubj001        V1  0.329872   \n13         3  0.992574   1.592293  wlsubj001        V1  0.329872   \n14         4  1.426825   1.592293  wlsubj001        V1  0.329872   \n15         5  1.985147   1.592293  wlsubj001        V1  0.329872   \n16         6  2.791613   1.592293  wlsubj001        V1  0.329872   \n17         7  3.970294   1.592293  wlsubj001        V1  0.329872   \n18         8  5.645262   1.592293  wlsubj001        V1  0.329872   \n19         9  7.940589   1.592293  wlsubj001        V1  0.329872   \n20         0  0.350928   2.377691  wlsubj001        V1  0.329872   \n21         1  0.526392   2.377691  wlsubj001        V1  0.329872   \n22         2  0.701856   2.377691  wlsubj001        V1  0.329872   \n23         3  0.965051   2.377691  wlsubj001        V1  0.329872   \n24         4  1.403711   2.377691  wlsubj001        V1  0.329872   \n25         5  2.017835   2.377691  wlsubj001        V1  0.329872   \n26         6  2.807422   2.377691  wlsubj001        V1  0.329872   \n27         7  3.947937   2.377691  wlsubj001        V1  0.329872   \n28         8  5.614844   2.377691  wlsubj001        V1  0.329872   \n29         9  7.983607   2.377691  wlsubj001        V1  0.329872   \n30         0  0.350928   0.806894  wlsubj001        V1  0.329872   \n31         1  0.526392   0.806894  wlsubj001        V1  0.329872   \n32         2  0.701856   0.806894  wlsubj001        V1  0.329872   \n33         3  0.965051   0.806894  wlsubj001        V1  0.329872   \n34         4  1.403711   0.806894  wlsubj001        V1  0.329872   \n35         5  2.017835   0.806894  wlsubj001        V1  0.329872   \n36         6  2.807422   0.806894  wlsubj001        V1  0.329872   \n37         7  3.947937   0.806894  wlsubj001        V1  0.329872   \n38         8  5.614844   0.806894  wlsubj001        V1  0.329872   \n39         9  7.983607   0.806894  wlsubj001        V1  0.329872   \n40         5  1.986116   2.910535  wlsubj001        V1  0.329872   \n41         5  2.000596   2.643943  wlsubj001        V1  0.329872   \n42         5  2.000596   2.111439  wlsubj001        V1  0.329872   \n43         5  1.986116   1.844847  wlsubj001        V1  0.329872   \n44         5  1.986116   1.339738  wlsubj001        V1  0.329872   \n45         5  2.000596   1.073146  wlsubj001        V1  0.329872   \n46         5  2.000596   0.540642  wlsubj001        V1  0.329872   \n47         5  1.986116   0.274051  wlsubj001        V1  0.329872   \n\n    sigma_v_squared  \n0          0.116537  \n1          0.116537  \n2          0.116537  \n3          0.116537  \n4          0.116537  \n5          0.116537  \n6          0.116537  \n7          0.116537  \n8          0.116537  \n9          0.116537  \n10         0.116537  \n11         0.116537  \n12         0.116537  \n13         0.116537  \n14         0.116537  \n15         0.116537  \n16         0.116537  \n17         0.116537  \n18         0.116537  \n19         0.116537  \n20         0.116537  \n21         0.116537  \n22         0.116537  \n23         0.116537  \n24         0.116537  \n25         0.116537  \n26         0.116537  \n27         0.116537  \n28         0.116537  \n29         0.116537  \n30         0.116537  \n31         0.116537  \n32         0.116537  \n33         0.116537  \n34         0.116537  \n35         0.116537  \n36         0.116537  \n37         0.116537  \n38         0.116537  \n39         0.116537  \n40         0.116537  \n41         0.116537  \n42         0.116537  \n43         0.116537  \n44         0.116537  \n45         0.116537  \n46         0.116537  \n47         0.116537  ",
      "text/html": "<div>\n<style scoped>\n    .dataframe tbody tr th:only-of-type {\n        vertical-align: middle;\n    }\n\n    .dataframe tbody tr th {\n        vertical-align: top;\n    }\n\n    .dataframe thead th {\n        text-align: right;\n    }\n</style>\n<table border=\"1\" class=\"dataframe\">\n  <thead>\n    <tr style=\"text-align: right;\">\n      <th></th>\n      <th>Unnamed: 0</th>\n      <th>Unnamed: 0.1</th>\n      <th>voxel</th>\n      <th>class_idx</th>\n      <th>betas</th>\n      <th>eccentricity</th>\n      <th>angle</th>\n      <th>size</th>\n      <th>hemi</th>\n      <th>w_r</th>\n      <th>w_a</th>\n      <th>image_idx</th>\n      <th>names</th>\n      <th>freq_lvl</th>\n      <th>local_sf</th>\n      <th>local_ori</th>\n      <th>sub</th>\n      <th>vroinames</th>\n      <th>noise_SD</th>\n      <th>sigma_v_squared</th>\n    </tr>\n  </thead>\n  <tbody>\n    <tr>\n      <th>0</th>\n      <td>0</td>\n      <td>0</td>\n      <td>0</td>\n      <td>0</td>\n      <td>1.579265</td>\n      <td>2.565532</td>\n      <td>4.733885</td>\n      <td>0.454929</td>\n      <td>lh</td>\n      <td>0.0</td>\n      <td>6.0</td>\n      <td>0</td>\n      <td>pinwheel</td>\n      <td>0</td>\n      <td>0.372215</td>\n      <td>0.021496</td>\n      <td>wlsubj001</td>\n      <td>V1</td>\n      <td>0.329872</td>\n      <td>0.116537</td>\n    </tr>\n    <tr>\n      <th>1</th>\n      <td>3780</td>\n      <td>3780</td>\n      <td>0</td>\n      <td>1</td>\n      <td>0.927717</td>\n      <td>2.565532</td>\n      <td>4.733885</td>\n      <td>0.454929</td>\n      <td>lh</td>\n      <td>0.0</td>\n      <td>8.0</td>\n      <td>8</td>\n      <td>pinwheel</td>\n      <td>1</td>\n      <td>0.496287</td>\n      <td>0.021496</td>\n      <td>wlsubj001</td>\n      <td>V1</td>\n      <td>0.329872</td>\n      <td>0.116537</td>\n    </tr>\n    <tr>\n      <th>2</th>\n      <td>7560</td>\n      <td>7560</td>\n      <td>0</td>\n      <td>2</td>\n      <td>2.201150</td>\n      <td>2.565532</td>\n      <td>4.733885</td>\n      <td>0.454929</td>\n      <td>lh</td>\n      <td>0.0</td>\n      <td>11.0</td>\n      <td>16</td>\n      <td>pinwheel</td>\n      <td>2</td>\n      <td>0.682394</td>\n      <td>0.021496</td>\n      <td>wlsubj001</td>\n      <td>V1</td>\n      <td>0.329872</td>\n      <td>0.116537</td>\n    </tr>\n    <tr>\n      <th>3</th>\n      <td>11340</td>\n      <td>11340</td>\n      <td>0</td>\n      <td>3</td>\n      <td>2.780616</td>\n      <td>2.565532</td>\n      <td>4.733885</td>\n      <td>0.454929</td>\n      <td>lh</td>\n      <td>0.0</td>\n      <td>16.0</td>\n      <td>24</td>\n      <td>pinwheel</td>\n      <td>3</td>\n      <td>0.992574</td>\n      <td>0.021496</td>\n      <td>wlsubj001</td>\n      <td>V1</td>\n      <td>0.329872</td>\n      <td>0.116537</td>\n    </tr>\n    <tr>\n      <th>4</th>\n      <td>15120</td>\n      <td>15120</td>\n      <td>0</td>\n      <td>4</td>\n      <td>1.862685</td>\n      <td>2.565532</td>\n      <td>4.733885</td>\n      <td>0.454929</td>\n      <td>lh</td>\n      <td>0.0</td>\n      <td>23.0</td>\n      <td>32</td>\n      <td>pinwheel</td>\n      <td>4</td>\n      <td>1.426825</td>\n      <td>0.021496</td>\n      <td>wlsubj001</td>\n      <td>V1</td>\n      <td>0.329872</td>\n      <td>0.116537</td>\n    </tr>\n    <tr>\n      <th>5</th>\n      <td>18900</td>\n      <td>18900</td>\n      <td>0</td>\n      <td>5</td>\n      <td>2.306179</td>\n      <td>2.565532</td>\n      <td>4.733885</td>\n      <td>0.454929</td>\n      <td>lh</td>\n      <td>0.0</td>\n      <td>32.0</td>\n      <td>40</td>\n      <td>pinwheel</td>\n      <td>5</td>\n      <td>1.985147</td>\n      <td>0.021496</td>\n      <td>wlsubj001</td>\n      <td>V1</td>\n      <td>0.329872</td>\n      <td>0.116537</td>\n    </tr>\n    <tr>\n      <th>6</th>\n      <td>22680</td>\n      <td>22680</td>\n      <td>0</td>\n      <td>6</td>\n      <td>2.549803</td>\n      <td>2.565532</td>\n      <td>4.733885</td>\n      <td>0.454929</td>\n      <td>lh</td>\n      <td>0.0</td>\n      <td>45.0</td>\n      <td>48</td>\n      <td>pinwheel</td>\n      <td>6</td>\n      <td>2.791613</td>\n      <td>0.021496</td>\n      <td>wlsubj001</td>\n      <td>V1</td>\n      <td>0.329872</td>\n      <td>0.116537</td>\n    </tr>\n    <tr>\n      <th>7</th>\n      <td>26460</td>\n      <td>26460</td>\n      <td>0</td>\n      <td>7</td>\n      <td>2.625424</td>\n      <td>2.565532</td>\n      <td>4.733885</td>\n      <td>0.454929</td>\n      <td>lh</td>\n      <td>0.0</td>\n      <td>64.0</td>\n      <td>56</td>\n      <td>pinwheel</td>\n      <td>7</td>\n      <td>3.970294</td>\n      <td>0.021496</td>\n      <td>wlsubj001</td>\n      <td>V1</td>\n      <td>0.329872</td>\n      <td>0.116537</td>\n    </tr>\n    <tr>\n      <th>8</th>\n      <td>30240</td>\n      <td>30240</td>\n      <td>0</td>\n      <td>8</td>\n      <td>3.204638</td>\n      <td>2.565532</td>\n      <td>4.733885</td>\n      <td>0.454929</td>\n      <td>lh</td>\n      <td>0.0</td>\n      <td>91.0</td>\n      <td>64</td>\n      <td>pinwheel</td>\n      <td>8</td>\n      <td>5.645262</td>\n      <td>0.021496</td>\n      <td>wlsubj001</td>\n      <td>V1</td>\n      <td>0.329872</td>\n      <td>0.116537</td>\n    </tr>\n    <tr>\n      <th>9</th>\n      <td>34020</td>\n      <td>34020</td>\n      <td>0</td>\n      <td>9</td>\n      <td>2.849313</td>\n      <td>2.565532</td>\n      <td>4.733885</td>\n      <td>0.454929</td>\n      <td>lh</td>\n      <td>0.0</td>\n      <td>128.0</td>\n      <td>72</td>\n      <td>pinwheel</td>\n      <td>9</td>\n      <td>7.940589</td>\n      <td>0.021496</td>\n      <td>wlsubj001</td>\n      <td>V1</td>\n      <td>0.329872</td>\n      <td>0.116537</td>\n    </tr>\n    <tr>\n      <th>10</th>\n      <td>37800</td>\n      <td>37800</td>\n      <td>0</td>\n      <td>10</td>\n      <td>1.417065</td>\n      <td>2.565532</td>\n      <td>4.733885</td>\n      <td>0.454929</td>\n      <td>lh</td>\n      <td>6.0</td>\n      <td>0.0</td>\n      <td>80</td>\n      <td>annulus</td>\n      <td>0</td>\n      <td>0.372215</td>\n      <td>1.592293</td>\n      <td>wlsubj001</td>\n      <td>V1</td>\n      <td>0.329872</td>\n      <td>0.116537</td>\n    </tr>\n    <tr>\n      <th>11</th>\n      <td>41580</td>\n      <td>41580</td>\n      <td>0</td>\n      <td>11</td>\n      <td>0.814516</td>\n      <td>2.565532</td>\n      <td>4.733885</td>\n      <td>0.454929</td>\n      <td>lh</td>\n      <td>8.0</td>\n      <td>0.0</td>\n      <td>88</td>\n      <td>annulus</td>\n      <td>1</td>\n      <td>0.496287</td>\n      <td>1.592293</td>\n      <td>wlsubj001</td>\n      <td>V1</td>\n      <td>0.329872</td>\n      <td>0.116537</td>\n    </tr>\n    <tr>\n      <th>12</th>\n      <td>45360</td>\n      <td>45360</td>\n      <td>0</td>\n      <td>12</td>\n      <td>2.526020</td>\n      <td>2.565532</td>\n      <td>4.733885</td>\n      <td>0.454929</td>\n      <td>lh</td>\n      <td>11.0</td>\n      <td>0.0</td>\n      <td>96</td>\n      <td>annulus</td>\n      <td>2</td>\n      <td>0.682394</td>\n      <td>1.592293</td>\n      <td>wlsubj001</td>\n      <td>V1</td>\n      <td>0.329872</td>\n      <td>0.116537</td>\n    </tr>\n    <tr>\n      <th>13</th>\n      <td>49140</td>\n      <td>49140</td>\n      <td>0</td>\n      <td>13</td>\n      <td>2.283371</td>\n      <td>2.565532</td>\n      <td>4.733885</td>\n      <td>0.454929</td>\n      <td>lh</td>\n      <td>16.0</td>\n      <td>0.0</td>\n      <td>104</td>\n      <td>annulus</td>\n      <td>3</td>\n      <td>0.992574</td>\n      <td>1.592293</td>\n      <td>wlsubj001</td>\n      <td>V1</td>\n      <td>0.329872</td>\n      <td>0.116537</td>\n    </tr>\n    <tr>\n      <th>14</th>\n      <td>52920</td>\n      <td>52920</td>\n      <td>0</td>\n      <td>14</td>\n      <td>2.149028</td>\n      <td>2.565532</td>\n      <td>4.733885</td>\n      <td>0.454929</td>\n      <td>lh</td>\n      <td>23.0</td>\n      <td>0.0</td>\n      <td>112</td>\n      <td>annulus</td>\n      <td>4</td>\n      <td>1.426825</td>\n      <td>1.592293</td>\n      <td>wlsubj001</td>\n      <td>V1</td>\n      <td>0.329872</td>\n      <td>0.116537</td>\n    </tr>\n    <tr>\n      <th>15</th>\n      <td>56700</td>\n      <td>56700</td>\n      <td>0</td>\n      <td>15</td>\n      <td>2.401600</td>\n      <td>2.565532</td>\n      <td>4.733885</td>\n      <td>0.454929</td>\n      <td>lh</td>\n      <td>32.0</td>\n      <td>0.0</td>\n      <td>120</td>\n      <td>annulus</td>\n      <td>5</td>\n      <td>1.985147</td>\n      <td>1.592293</td>\n      <td>wlsubj001</td>\n      <td>V1</td>\n      <td>0.329872</td>\n      <td>0.116537</td>\n    </tr>\n    <tr>\n      <th>16</th>\n      <td>60480</td>\n      <td>60480</td>\n      <td>0</td>\n      <td>16</td>\n      <td>1.732854</td>\n      <td>2.565532</td>\n      <td>4.733885</td>\n      <td>0.454929</td>\n      <td>lh</td>\n      <td>45.0</td>\n      <td>0.0</td>\n      <td>128</td>\n      <td>annulus</td>\n      <td>6</td>\n      <td>2.791613</td>\n      <td>1.592293</td>\n      <td>wlsubj001</td>\n      <td>V1</td>\n      <td>0.329872</td>\n      <td>0.116537</td>\n    </tr>\n    <tr>\n      <th>17</th>\n      <td>64260</td>\n      <td>64260</td>\n      <td>0</td>\n      <td>17</td>\n      <td>2.715278</td>\n      <td>2.565532</td>\n      <td>4.733885</td>\n      <td>0.454929</td>\n      <td>lh</td>\n      <td>64.0</td>\n      <td>0.0</td>\n      <td>136</td>\n      <td>annulus</td>\n      <td>7</td>\n      <td>3.970294</td>\n      <td>1.592293</td>\n      <td>wlsubj001</td>\n      <td>V1</td>\n      <td>0.329872</td>\n      <td>0.116537</td>\n    </tr>\n    <tr>\n      <th>18</th>\n      <td>68040</td>\n      <td>68040</td>\n      <td>0</td>\n      <td>18</td>\n      <td>2.841083</td>\n      <td>2.565532</td>\n      <td>4.733885</td>\n      <td>0.454929</td>\n      <td>lh</td>\n      <td>91.0</td>\n      <td>0.0</td>\n      <td>144</td>\n      <td>annulus</td>\n      <td>8</td>\n      <td>5.645262</td>\n      <td>1.592293</td>\n      <td>wlsubj001</td>\n      <td>V1</td>\n      <td>0.329872</td>\n      <td>0.116537</td>\n    </tr>\n    <tr>\n      <th>19</th>\n      <td>71820</td>\n      <td>71820</td>\n      <td>0</td>\n      <td>19</td>\n      <td>2.280296</td>\n      <td>2.565532</td>\n      <td>4.733885</td>\n      <td>0.454929</td>\n      <td>lh</td>\n      <td>128.0</td>\n      <td>0.0</td>\n      <td>152</td>\n      <td>annulus</td>\n      <td>9</td>\n      <td>7.940589</td>\n      <td>1.592293</td>\n      <td>wlsubj001</td>\n      <td>V1</td>\n      <td>0.329872</td>\n      <td>0.116537</td>\n    </tr>\n    <tr>\n      <th>20</th>\n      <td>75600</td>\n      <td>75600</td>\n      <td>0</td>\n      <td>20</td>\n      <td>0.925520</td>\n      <td>2.565532</td>\n      <td>4.733885</td>\n      <td>0.454929</td>\n      <td>lh</td>\n      <td>4.0</td>\n      <td>4.0</td>\n      <td>160</td>\n      <td>forward spiral</td>\n      <td>0</td>\n      <td>0.350928</td>\n      <td>2.377691</td>\n      <td>wlsubj001</td>\n      <td>V1</td>\n      <td>0.329872</td>\n      <td>0.116537</td>\n    </tr>\n    <tr>\n      <th>21</th>\n      <td>79380</td>\n      <td>79380</td>\n      <td>0</td>\n      <td>21</td>\n      <td>1.946703</td>\n      <td>2.565532</td>\n      <td>4.733885</td>\n      <td>0.454929</td>\n      <td>lh</td>\n      <td>6.0</td>\n      <td>6.0</td>\n      <td>168</td>\n      <td>forward spiral</td>\n      <td>1</td>\n      <td>0.526392</td>\n      <td>2.377691</td>\n      <td>wlsubj001</td>\n      <td>V1</td>\n      <td>0.329872</td>\n      <td>0.116537</td>\n    </tr>\n    <tr>\n      <th>22</th>\n      <td>83160</td>\n      <td>83160</td>\n      <td>0</td>\n      <td>22</td>\n      <td>1.626531</td>\n      <td>2.565532</td>\n      <td>4.733885</td>\n      <td>0.454929</td>\n      <td>lh</td>\n      <td>8.0</td>\n      <td>8.0</td>\n      <td>176</td>\n      <td>forward spiral</td>\n      <td>2</td>\n      <td>0.701856</td>\n      <td>2.377691</td>\n      <td>wlsubj001</td>\n      <td>V1</td>\n      <td>0.329872</td>\n      <td>0.116537</td>\n    </tr>\n    <tr>\n      <th>23</th>\n      <td>86940</td>\n      <td>86940</td>\n      <td>0</td>\n      <td>23</td>\n      <td>2.481571</td>\n      <td>2.565532</td>\n      <td>4.733885</td>\n      <td>0.454929</td>\n      <td>lh</td>\n      <td>11.0</td>\n      <td>11.0</td>\n      <td>184</td>\n      <td>forward spiral</td>\n      <td>3</td>\n      <td>0.965051</td>\n      <td>2.377691</td>\n      <td>wlsubj001</td>\n      <td>V1</td>\n      <td>0.329872</td>\n      <td>0.116537</td>\n    </tr>\n    <tr>\n      <th>24</th>\n      <td>90720</td>\n      <td>90720</td>\n      <td>0</td>\n      <td>24</td>\n      <td>2.609891</td>\n      <td>2.565532</td>\n      <td>4.733885</td>\n      <td>0.454929</td>\n      <td>lh</td>\n      <td>16.0</td>\n      <td>16.0</td>\n      <td>192</td>\n      <td>forward spiral</td>\n      <td>4</td>\n      <td>1.403711</td>\n      <td>2.377691</td>\n      <td>wlsubj001</td>\n      <td>V1</td>\n      <td>0.329872</td>\n      <td>0.116537</td>\n    </tr>\n    <tr>\n      <th>25</th>\n      <td>94500</td>\n      <td>94500</td>\n      <td>0</td>\n      <td>25</td>\n      <td>2.248441</td>\n      <td>2.565532</td>\n      <td>4.733885</td>\n      <td>0.454929</td>\n      <td>lh</td>\n      <td>23.0</td>\n      <td>23.0</td>\n      <td>200</td>\n      <td>forward spiral</td>\n      <td>5</td>\n      <td>2.017835</td>\n      <td>2.377691</td>\n      <td>wlsubj001</td>\n      <td>V1</td>\n      <td>0.329872</td>\n      <td>0.116537</td>\n    </tr>\n    <tr>\n      <th>26</th>\n      <td>98280</td>\n      <td>98280</td>\n      <td>0</td>\n      <td>26</td>\n      <td>2.571519</td>\n      <td>2.565532</td>\n      <td>4.733885</td>\n      <td>0.454929</td>\n      <td>lh</td>\n      <td>32.0</td>\n      <td>32.0</td>\n      <td>208</td>\n      <td>forward spiral</td>\n      <td>6</td>\n      <td>2.807422</td>\n      <td>2.377691</td>\n      <td>wlsubj001</td>\n      <td>V1</td>\n      <td>0.329872</td>\n      <td>0.116537</td>\n    </tr>\n    <tr>\n      <th>27</th>\n      <td>102060</td>\n      <td>102060</td>\n      <td>0</td>\n      <td>27</td>\n      <td>2.059054</td>\n      <td>2.565532</td>\n      <td>4.733885</td>\n      <td>0.454929</td>\n      <td>lh</td>\n      <td>45.0</td>\n      <td>45.0</td>\n      <td>216</td>\n      <td>forward spiral</td>\n      <td>7</td>\n      <td>3.947937</td>\n      <td>2.377691</td>\n      <td>wlsubj001</td>\n      <td>V1</td>\n      <td>0.329872</td>\n      <td>0.116537</td>\n    </tr>\n    <tr>\n      <th>28</th>\n      <td>105840</td>\n      <td>105840</td>\n      <td>0</td>\n      <td>28</td>\n      <td>2.737165</td>\n      <td>2.565532</td>\n      <td>4.733885</td>\n      <td>0.454929</td>\n      <td>lh</td>\n      <td>64.0</td>\n      <td>64.0</td>\n      <td>224</td>\n      <td>forward spiral</td>\n      <td>8</td>\n      <td>5.614844</td>\n      <td>2.377691</td>\n      <td>wlsubj001</td>\n      <td>V1</td>\n      <td>0.329872</td>\n      <td>0.116537</td>\n    </tr>\n    <tr>\n      <th>29</th>\n      <td>109620</td>\n      <td>109620</td>\n      <td>0</td>\n      <td>29</td>\n      <td>2.822368</td>\n      <td>2.565532</td>\n      <td>4.733885</td>\n      <td>0.454929</td>\n      <td>lh</td>\n      <td>91.0</td>\n      <td>91.0</td>\n      <td>232</td>\n      <td>forward spiral</td>\n      <td>9</td>\n      <td>7.983607</td>\n      <td>2.377691</td>\n      <td>wlsubj001</td>\n      <td>V1</td>\n      <td>0.329872</td>\n      <td>0.116537</td>\n    </tr>\n    <tr>\n      <th>30</th>\n      <td>113400</td>\n      <td>113400</td>\n      <td>0</td>\n      <td>30</td>\n      <td>1.233580</td>\n      <td>2.565532</td>\n      <td>4.733885</td>\n      <td>0.454929</td>\n      <td>lh</td>\n      <td>4.0</td>\n      <td>-4.0</td>\n      <td>240</td>\n      <td>reverse spiral</td>\n      <td>0</td>\n      <td>0.350928</td>\n      <td>0.806894</td>\n      <td>wlsubj001</td>\n      <td>V1</td>\n      <td>0.329872</td>\n      <td>0.116537</td>\n    </tr>\n    <tr>\n      <th>31</th>\n      <td>117180</td>\n      <td>117180</td>\n      <td>0</td>\n      <td>31</td>\n      <td>2.228929</td>\n      <td>2.565532</td>\n      <td>4.733885</td>\n      <td>0.454929</td>\n      <td>lh</td>\n      <td>6.0</td>\n      <td>-6.0</td>\n      <td>248</td>\n      <td>reverse spiral</td>\n      <td>1</td>\n      <td>0.526392</td>\n      <td>0.806894</td>\n      <td>wlsubj001</td>\n      <td>V1</td>\n      <td>0.329872</td>\n      <td>0.116537</td>\n    </tr>\n    <tr>\n      <th>32</th>\n      <td>120960</td>\n      <td>120960</td>\n      <td>0</td>\n      <td>32</td>\n      <td>1.718205</td>\n      <td>2.565532</td>\n      <td>4.733885</td>\n      <td>0.454929</td>\n      <td>lh</td>\n      <td>8.0</td>\n      <td>-8.0</td>\n      <td>256</td>\n      <td>reverse spiral</td>\n      <td>2</td>\n      <td>0.701856</td>\n      <td>0.806894</td>\n      <td>wlsubj001</td>\n      <td>V1</td>\n      <td>0.329872</td>\n      <td>0.116537</td>\n    </tr>\n    <tr>\n      <th>33</th>\n      <td>124740</td>\n      <td>124740</td>\n      <td>0</td>\n      <td>33</td>\n      <td>2.594082</td>\n      <td>2.565532</td>\n      <td>4.733885</td>\n      <td>0.454929</td>\n      <td>lh</td>\n      <td>11.0</td>\n      <td>-11.0</td>\n      <td>264</td>\n      <td>reverse spiral</td>\n      <td>3</td>\n      <td>0.965051</td>\n      <td>0.806894</td>\n      <td>wlsubj001</td>\n      <td>V1</td>\n      <td>0.329872</td>\n      <td>0.116537</td>\n    </tr>\n    <tr>\n      <th>34</th>\n      <td>128520</td>\n      <td>128520</td>\n      <td>0</td>\n      <td>34</td>\n      <td>2.498524</td>\n      <td>2.565532</td>\n      <td>4.733885</td>\n      <td>0.454929</td>\n      <td>lh</td>\n      <td>16.0</td>\n      <td>-16.0</td>\n      <td>272</td>\n      <td>reverse spiral</td>\n      <td>4</td>\n      <td>1.403711</td>\n      <td>0.806894</td>\n      <td>wlsubj001</td>\n      <td>V1</td>\n      <td>0.329872</td>\n      <td>0.116537</td>\n    </tr>\n    <tr>\n      <th>35</th>\n      <td>132300</td>\n      <td>132300</td>\n      <td>0</td>\n      <td>35</td>\n      <td>2.155490</td>\n      <td>2.565532</td>\n      <td>4.733885</td>\n      <td>0.454929</td>\n      <td>lh</td>\n      <td>23.0</td>\n      <td>-23.0</td>\n      <td>280</td>\n      <td>reverse spiral</td>\n      <td>5</td>\n      <td>2.017835</td>\n      <td>0.806894</td>\n      <td>wlsubj001</td>\n      <td>V1</td>\n      <td>0.329872</td>\n      <td>0.116537</td>\n    </tr>\n    <tr>\n      <th>36</th>\n      <td>136080</td>\n      <td>136080</td>\n      <td>0</td>\n      <td>36</td>\n      <td>2.258766</td>\n      <td>2.565532</td>\n      <td>4.733885</td>\n      <td>0.454929</td>\n      <td>lh</td>\n      <td>32.0</td>\n      <td>-32.0</td>\n      <td>288</td>\n      <td>reverse spiral</td>\n      <td>6</td>\n      <td>2.807422</td>\n      <td>0.806894</td>\n      <td>wlsubj001</td>\n      <td>V1</td>\n      <td>0.329872</td>\n      <td>0.116537</td>\n    </tr>\n    <tr>\n      <th>37</th>\n      <td>139860</td>\n      <td>139860</td>\n      <td>0</td>\n      <td>37</td>\n      <td>1.859806</td>\n      <td>2.565532</td>\n      <td>4.733885</td>\n      <td>0.454929</td>\n      <td>lh</td>\n      <td>45.0</td>\n      <td>-45.0</td>\n      <td>296</td>\n      <td>reverse spiral</td>\n      <td>7</td>\n      <td>3.947937</td>\n      <td>0.806894</td>\n      <td>wlsubj001</td>\n      <td>V1</td>\n      <td>0.329872</td>\n      <td>0.116537</td>\n    </tr>\n    <tr>\n      <th>38</th>\n      <td>143640</td>\n      <td>143640</td>\n      <td>0</td>\n      <td>38</td>\n      <td>3.107373</td>\n      <td>2.565532</td>\n      <td>4.733885</td>\n      <td>0.454929</td>\n      <td>lh</td>\n      <td>64.0</td>\n      <td>-64.0</td>\n      <td>304</td>\n      <td>reverse spiral</td>\n      <td>8</td>\n      <td>5.614844</td>\n      <td>0.806894</td>\n      <td>wlsubj001</td>\n      <td>V1</td>\n      <td>0.329872</td>\n      <td>0.116537</td>\n    </tr>\n    <tr>\n      <th>39</th>\n      <td>147420</td>\n      <td>147420</td>\n      <td>0</td>\n      <td>39</td>\n      <td>2.621607</td>\n      <td>2.565532</td>\n      <td>4.733885</td>\n      <td>0.454929</td>\n      <td>lh</td>\n      <td>91.0</td>\n      <td>-91.0</td>\n      <td>312</td>\n      <td>reverse spiral</td>\n      <td>9</td>\n      <td>7.983607</td>\n      <td>0.806894</td>\n      <td>wlsubj001</td>\n      <td>V1</td>\n      <td>0.329872</td>\n      <td>0.116537</td>\n    </tr>\n    <tr>\n      <th>40</th>\n      <td>151200</td>\n      <td>151200</td>\n      <td>0</td>\n      <td>40</td>\n      <td>2.301526</td>\n      <td>2.565532</td>\n      <td>4.733885</td>\n      <td>0.454929</td>\n      <td>lh</td>\n      <td>8.0</td>\n      <td>31.0</td>\n      <td>320</td>\n      <td>mixtures</td>\n      <td>5</td>\n      <td>1.986116</td>\n      <td>2.910535</td>\n      <td>wlsubj001</td>\n      <td>V1</td>\n      <td>0.329872</td>\n      <td>0.116537</td>\n    </tr>\n    <tr>\n      <th>41</th>\n      <td>154980</td>\n      <td>154980</td>\n      <td>0</td>\n      <td>41</td>\n      <td>1.841951</td>\n      <td>2.565532</td>\n      <td>4.733885</td>\n      <td>0.454929</td>\n      <td>lh</td>\n      <td>16.0</td>\n      <td>28.0</td>\n      <td>328</td>\n      <td>mixtures</td>\n      <td>5</td>\n      <td>2.000596</td>\n      <td>2.643943</td>\n      <td>wlsubj001</td>\n      <td>V1</td>\n      <td>0.329872</td>\n      <td>0.116537</td>\n    </tr>\n    <tr>\n      <th>42</th>\n      <td>158760</td>\n      <td>158760</td>\n      <td>0</td>\n      <td>42</td>\n      <td>1.725571</td>\n      <td>2.565532</td>\n      <td>4.733885</td>\n      <td>0.454929</td>\n      <td>lh</td>\n      <td>28.0</td>\n      <td>16.0</td>\n      <td>336</td>\n      <td>mixtures</td>\n      <td>5</td>\n      <td>2.000596</td>\n      <td>2.111439</td>\n      <td>wlsubj001</td>\n      <td>V1</td>\n      <td>0.329872</td>\n      <td>0.116537</td>\n    </tr>\n    <tr>\n      <th>43</th>\n      <td>162540</td>\n      <td>162540</td>\n      <td>0</td>\n      <td>43</td>\n      <td>2.502832</td>\n      <td>2.565532</td>\n      <td>4.733885</td>\n      <td>0.454929</td>\n      <td>lh</td>\n      <td>31.0</td>\n      <td>8.0</td>\n      <td>344</td>\n      <td>mixtures</td>\n      <td>5</td>\n      <td>1.986116</td>\n      <td>1.844847</td>\n      <td>wlsubj001</td>\n      <td>V1</td>\n      <td>0.329872</td>\n      <td>0.116537</td>\n    </tr>\n    <tr>\n      <th>44</th>\n      <td>166320</td>\n      <td>166320</td>\n      <td>0</td>\n      <td>44</td>\n      <td>1.787221</td>\n      <td>2.565532</td>\n      <td>4.733885</td>\n      <td>0.454929</td>\n      <td>lh</td>\n      <td>31.0</td>\n      <td>-8.0</td>\n      <td>352</td>\n      <td>mixtures</td>\n      <td>5</td>\n      <td>1.986116</td>\n      <td>1.339738</td>\n      <td>wlsubj001</td>\n      <td>V1</td>\n      <td>0.329872</td>\n      <td>0.116537</td>\n    </tr>\n    <tr>\n      <th>45</th>\n      <td>170100</td>\n      <td>170100</td>\n      <td>0</td>\n      <td>45</td>\n      <td>1.795016</td>\n      <td>2.565532</td>\n      <td>4.733885</td>\n      <td>0.454929</td>\n      <td>lh</td>\n      <td>28.0</td>\n      <td>-16.0</td>\n      <td>360</td>\n      <td>mixtures</td>\n      <td>5</td>\n      <td>2.000596</td>\n      <td>1.073146</td>\n      <td>wlsubj001</td>\n      <td>V1</td>\n      <td>0.329872</td>\n      <td>0.116537</td>\n    </tr>\n    <tr>\n      <th>46</th>\n      <td>173880</td>\n      <td>173880</td>\n      <td>0</td>\n      <td>46</td>\n      <td>3.183910</td>\n      <td>2.565532</td>\n      <td>4.733885</td>\n      <td>0.454929</td>\n      <td>lh</td>\n      <td>16.0</td>\n      <td>-28.0</td>\n      <td>368</td>\n      <td>mixtures</td>\n      <td>5</td>\n      <td>2.000596</td>\n      <td>0.540642</td>\n      <td>wlsubj001</td>\n      <td>V1</td>\n      <td>0.329872</td>\n      <td>0.116537</td>\n    </tr>\n    <tr>\n      <th>47</th>\n      <td>177660</td>\n      <td>177660</td>\n      <td>0</td>\n      <td>47</td>\n      <td>2.206463</td>\n      <td>2.565532</td>\n      <td>4.733885</td>\n      <td>0.454929</td>\n      <td>lh</td>\n      <td>8.0</td>\n      <td>-31.0</td>\n      <td>376</td>\n      <td>mixtures</td>\n      <td>5</td>\n      <td>1.986116</td>\n      <td>0.274051</td>\n      <td>wlsubj001</td>\n      <td>V1</td>\n      <td>0.329872</td>\n      <td>0.116537</td>\n    </tr>\n  </tbody>\n</table>\n</div>"
     },
     "execution_count": 11,
     "metadata": {},
     "output_type": "execute_result"
    }
   ],
   "source": [
    "df.query('voxel == 0')"
   ],
   "metadata": {
    "collapsed": false,
    "ExecuteTime": {
     "end_time": "2024-05-29T09:30:47.926195Z",
     "start_time": "2024-05-29T09:30:47.871393Z"
    }
   },
   "execution_count": 11
  },
  {
   "cell_type": "code",
   "outputs": [
    {
     "data": {
      "text/plain": "class_idx        0         1         2         3         4         5   \\\nvoxel                                                                   \n0          0.021496  0.021496  0.021496  0.021496  0.021496  0.021496   \n1          0.011616  0.011616  0.011616  0.011616  0.011616  0.011616   \n2          0.002687  0.002687  0.002687  0.002687  0.002687  0.002687   \n3          0.020216  0.020216  0.020216  0.020216  0.020216  0.020216   \n4          0.032599  0.032599  0.032599  0.032599  0.032599  0.032599   \n...             ...       ...       ...       ...       ...       ...   \n4003       0.152808  0.152808  0.152808  0.152808  0.152808  0.152808   \n4004       0.180886  0.180886  0.180886  0.180886  0.180886  0.180886   \n4005       0.201924  0.201924  0.201924  0.201924  0.201924  0.201924   \n4006       0.287737  0.287737  0.287737  0.287737  0.287737  0.287737   \n4007       0.176809  0.176809  0.176809  0.176809  0.176809  0.176809   \n\nclass_idx        6         7         8         9   ...        38        39  \\\nvoxel                                              ...                       \n0          0.021496  0.021496  0.021496  0.021496  ...  0.806894  0.806894   \n1          0.011616  0.011616  0.011616  0.011616  ...  0.797014  0.797014   \n2          0.002687  0.002687  0.002687  0.002687  ...  0.788085  0.788085   \n3          0.020216  0.020216  0.020216  0.020216  ...  0.805614  0.805614   \n4          0.032599  0.032599  0.032599  0.032599  ...  0.817998  0.817998   \n...             ...       ...       ...       ...  ...       ...       ...   \n4003       0.152808  0.152808  0.152808  0.152808  ...  0.938206  0.938206   \n4004       0.180886  0.180886  0.180886  0.180886  ...  0.966284  0.966284   \n4005       0.201924  0.201924  0.201924  0.201924  ...  0.987323  0.987323   \n4006       0.287737  0.287737  0.287737  0.287737  ...  1.073135  1.073135   \n4007       0.176809  0.176809  0.176809  0.176809  ...  0.962207  0.962207   \n\nclass_idx        40        41        42        43        44        45  \\\nvoxel                                                                   \n0          2.910535  2.643943  2.111439  1.844847  1.339738  1.073146   \n1          2.900655  2.634063  2.101559  1.834967  1.329858  1.063266   \n2          2.891725  2.625133  2.092629  1.826037  1.320929  1.054337   \n3          2.909255  2.642663  2.110159  1.843567  1.338458  1.071867   \n4          2.921638  2.655046  2.122542  1.855950  1.350842  1.084250   \n...             ...       ...       ...       ...       ...       ...   \n4003       3.041846  2.775254  2.242750  1.976158  1.471050  1.204458   \n4004       3.069925  2.803333  2.270829  2.004237  1.499128  1.232536   \n4005       3.090963  2.824371  2.291867  2.025275  1.520166  1.253575   \n4006       0.035182  2.910183  2.377679  2.111087  1.605979  1.339387   \n4007       3.065847  2.799255  2.266751  2.000159  1.495051  1.228459   \n\nclass_idx        46        47  \nvoxel                          \n0          0.540642  0.274051  \n1          0.530762  0.264170  \n2          0.521833  0.255241  \n3          0.539362  0.272771  \n4          0.551746  0.285154  \n...             ...       ...  \n4003       0.671954  0.405362  \n4004       0.700032  0.433440  \n4005       0.721071  0.454479  \n4006       0.806883  0.540291  \n4007       0.695955  0.429363  \n\n[3305 rows x 48 columns]",
      "text/html": "<div>\n<style scoped>\n    .dataframe tbody tr th:only-of-type {\n        vertical-align: middle;\n    }\n\n    .dataframe tbody tr th {\n        vertical-align: top;\n    }\n\n    .dataframe thead th {\n        text-align: right;\n    }\n</style>\n<table border=\"1\" class=\"dataframe\">\n  <thead>\n    <tr style=\"text-align: right;\">\n      <th>class_idx</th>\n      <th>0</th>\n      <th>1</th>\n      <th>2</th>\n      <th>3</th>\n      <th>4</th>\n      <th>5</th>\n      <th>6</th>\n      <th>7</th>\n      <th>8</th>\n      <th>9</th>\n      <th>...</th>\n      <th>38</th>\n      <th>39</th>\n      <th>40</th>\n      <th>41</th>\n      <th>42</th>\n      <th>43</th>\n      <th>44</th>\n      <th>45</th>\n      <th>46</th>\n      <th>47</th>\n    </tr>\n    <tr>\n      <th>voxel</th>\n      <th></th>\n      <th></th>\n      <th></th>\n      <th></th>\n      <th></th>\n      <th></th>\n      <th></th>\n      <th></th>\n      <th></th>\n      <th></th>\n      <th></th>\n      <th></th>\n      <th></th>\n      <th></th>\n      <th></th>\n      <th></th>\n      <th></th>\n      <th></th>\n      <th></th>\n      <th></th>\n      <th></th>\n    </tr>\n  </thead>\n  <tbody>\n    <tr>\n      <th>0</th>\n      <td>0.021496</td>\n      <td>0.021496</td>\n      <td>0.021496</td>\n      <td>0.021496</td>\n      <td>0.021496</td>\n      <td>0.021496</td>\n      <td>0.021496</td>\n      <td>0.021496</td>\n      <td>0.021496</td>\n      <td>0.021496</td>\n      <td>...</td>\n      <td>0.806894</td>\n      <td>0.806894</td>\n      <td>2.910535</td>\n      <td>2.643943</td>\n      <td>2.111439</td>\n      <td>1.844847</td>\n      <td>1.339738</td>\n      <td>1.073146</td>\n      <td>0.540642</td>\n      <td>0.274051</td>\n    </tr>\n    <tr>\n      <th>1</th>\n      <td>0.011616</td>\n      <td>0.011616</td>\n      <td>0.011616</td>\n      <td>0.011616</td>\n      <td>0.011616</td>\n      <td>0.011616</td>\n      <td>0.011616</td>\n      <td>0.011616</td>\n      <td>0.011616</td>\n      <td>0.011616</td>\n      <td>...</td>\n      <td>0.797014</td>\n      <td>0.797014</td>\n      <td>2.900655</td>\n      <td>2.634063</td>\n      <td>2.101559</td>\n      <td>1.834967</td>\n      <td>1.329858</td>\n      <td>1.063266</td>\n      <td>0.530762</td>\n      <td>0.264170</td>\n    </tr>\n    <tr>\n      <th>2</th>\n      <td>0.002687</td>\n      <td>0.002687</td>\n      <td>0.002687</td>\n      <td>0.002687</td>\n      <td>0.002687</td>\n      <td>0.002687</td>\n      <td>0.002687</td>\n      <td>0.002687</td>\n      <td>0.002687</td>\n      <td>0.002687</td>\n      <td>...</td>\n      <td>0.788085</td>\n      <td>0.788085</td>\n      <td>2.891725</td>\n      <td>2.625133</td>\n      <td>2.092629</td>\n      <td>1.826037</td>\n      <td>1.320929</td>\n      <td>1.054337</td>\n      <td>0.521833</td>\n      <td>0.255241</td>\n    </tr>\n    <tr>\n      <th>3</th>\n      <td>0.020216</td>\n      <td>0.020216</td>\n      <td>0.020216</td>\n      <td>0.020216</td>\n      <td>0.020216</td>\n      <td>0.020216</td>\n      <td>0.020216</td>\n      <td>0.020216</td>\n      <td>0.020216</td>\n      <td>0.020216</td>\n      <td>...</td>\n      <td>0.805614</td>\n      <td>0.805614</td>\n      <td>2.909255</td>\n      <td>2.642663</td>\n      <td>2.110159</td>\n      <td>1.843567</td>\n      <td>1.338458</td>\n      <td>1.071867</td>\n      <td>0.539362</td>\n      <td>0.272771</td>\n    </tr>\n    <tr>\n      <th>4</th>\n      <td>0.032599</td>\n      <td>0.032599</td>\n      <td>0.032599</td>\n      <td>0.032599</td>\n      <td>0.032599</td>\n      <td>0.032599</td>\n      <td>0.032599</td>\n      <td>0.032599</td>\n      <td>0.032599</td>\n      <td>0.032599</td>\n      <td>...</td>\n      <td>0.817998</td>\n      <td>0.817998</td>\n      <td>2.921638</td>\n      <td>2.655046</td>\n      <td>2.122542</td>\n      <td>1.855950</td>\n      <td>1.350842</td>\n      <td>1.084250</td>\n      <td>0.551746</td>\n      <td>0.285154</td>\n    </tr>\n    <tr>\n      <th>...</th>\n      <td>...</td>\n      <td>...</td>\n      <td>...</td>\n      <td>...</td>\n      <td>...</td>\n      <td>...</td>\n      <td>...</td>\n      <td>...</td>\n      <td>...</td>\n      <td>...</td>\n      <td>...</td>\n      <td>...</td>\n      <td>...</td>\n      <td>...</td>\n      <td>...</td>\n      <td>...</td>\n      <td>...</td>\n      <td>...</td>\n      <td>...</td>\n      <td>...</td>\n      <td>...</td>\n    </tr>\n    <tr>\n      <th>4003</th>\n      <td>0.152808</td>\n      <td>0.152808</td>\n      <td>0.152808</td>\n      <td>0.152808</td>\n      <td>0.152808</td>\n      <td>0.152808</td>\n      <td>0.152808</td>\n      <td>0.152808</td>\n      <td>0.152808</td>\n      <td>0.152808</td>\n      <td>...</td>\n      <td>0.938206</td>\n      <td>0.938206</td>\n      <td>3.041846</td>\n      <td>2.775254</td>\n      <td>2.242750</td>\n      <td>1.976158</td>\n      <td>1.471050</td>\n      <td>1.204458</td>\n      <td>0.671954</td>\n      <td>0.405362</td>\n    </tr>\n    <tr>\n      <th>4004</th>\n      <td>0.180886</td>\n      <td>0.180886</td>\n      <td>0.180886</td>\n      <td>0.180886</td>\n      <td>0.180886</td>\n      <td>0.180886</td>\n      <td>0.180886</td>\n      <td>0.180886</td>\n      <td>0.180886</td>\n      <td>0.180886</td>\n      <td>...</td>\n      <td>0.966284</td>\n      <td>0.966284</td>\n      <td>3.069925</td>\n      <td>2.803333</td>\n      <td>2.270829</td>\n      <td>2.004237</td>\n      <td>1.499128</td>\n      <td>1.232536</td>\n      <td>0.700032</td>\n      <td>0.433440</td>\n    </tr>\n    <tr>\n      <th>4005</th>\n      <td>0.201924</td>\n      <td>0.201924</td>\n      <td>0.201924</td>\n      <td>0.201924</td>\n      <td>0.201924</td>\n      <td>0.201924</td>\n      <td>0.201924</td>\n      <td>0.201924</td>\n      <td>0.201924</td>\n      <td>0.201924</td>\n      <td>...</td>\n      <td>0.987323</td>\n      <td>0.987323</td>\n      <td>3.090963</td>\n      <td>2.824371</td>\n      <td>2.291867</td>\n      <td>2.025275</td>\n      <td>1.520166</td>\n      <td>1.253575</td>\n      <td>0.721071</td>\n      <td>0.454479</td>\n    </tr>\n    <tr>\n      <th>4006</th>\n      <td>0.287737</td>\n      <td>0.287737</td>\n      <td>0.287737</td>\n      <td>0.287737</td>\n      <td>0.287737</td>\n      <td>0.287737</td>\n      <td>0.287737</td>\n      <td>0.287737</td>\n      <td>0.287737</td>\n      <td>0.287737</td>\n      <td>...</td>\n      <td>1.073135</td>\n      <td>1.073135</td>\n      <td>0.035182</td>\n      <td>2.910183</td>\n      <td>2.377679</td>\n      <td>2.111087</td>\n      <td>1.605979</td>\n      <td>1.339387</td>\n      <td>0.806883</td>\n      <td>0.540291</td>\n    </tr>\n    <tr>\n      <th>4007</th>\n      <td>0.176809</td>\n      <td>0.176809</td>\n      <td>0.176809</td>\n      <td>0.176809</td>\n      <td>0.176809</td>\n      <td>0.176809</td>\n      <td>0.176809</td>\n      <td>0.176809</td>\n      <td>0.176809</td>\n      <td>0.176809</td>\n      <td>...</td>\n      <td>0.962207</td>\n      <td>0.962207</td>\n      <td>3.065847</td>\n      <td>2.799255</td>\n      <td>2.266751</td>\n      <td>2.000159</td>\n      <td>1.495051</td>\n      <td>1.228459</td>\n      <td>0.695955</td>\n      <td>0.429363</td>\n    </tr>\n  </tbody>\n</table>\n<p>3305 rows × 48 columns</p>\n</div>"
     },
     "execution_count": 12,
     "metadata": {},
     "output_type": "execute_result"
    }
   ],
   "source": [
    "df.pivot('voxel', 'class_idx', 'local_ori')\n"
   ],
   "metadata": {
    "collapsed": false,
    "ExecuteTime": {
     "end_time": "2024-05-29T09:32:11.355357Z",
     "start_time": "2024-05-29T09:32:11.283351Z"
    }
   },
   "execution_count": 12
  },
  {
   "cell_type": "code",
   "outputs": [],
   "source": [
    "subj_model = model.SpatialFrequencyModel(full_ver=True)"
   ],
   "metadata": {
    "collapsed": false,
    "ExecuteTime": {
     "end_time": "2024-05-29T09:32:27.208021Z",
     "start_time": "2024-05-29T09:32:27.182286Z"
    }
   },
   "execution_count": 13
  },
  {
   "cell_type": "code",
   "outputs": [],
   "source": [
    "my_dataset = model.SpatialFrequencyDataset(df, beta_col='betas')"
   ],
   "metadata": {
    "collapsed": false,
    "ExecuteTime": {
     "end_time": "2024-05-29T09:32:33.515648Z",
     "start_time": "2024-05-29T09:32:33.319535Z"
    }
   },
   "execution_count": 14
  },
  {
   "cell_type": "code",
   "outputs": [
    {
     "data": {
      "text/plain": "voxel  class_idx  vroinames\n0      0          V1           1\n       1          V1           1\n       2          V1           1\n       3          V1           1\n       4          V1           1\n                              ..\n4007   43         V1           1\n       44         V1           1\n       45         V1           1\n       46         V1           1\n       47         V1           1\nName: local_ori, Length: 158640, dtype: int64"
     },
     "execution_count": 16,
     "metadata": {},
     "output_type": "execute_result"
    }
   ],
   "source": [
    "df.groupby(['voxel', 'class_idx', 'vroinames'])['local_ori'].count()"
   ],
   "metadata": {
    "collapsed": false,
    "ExecuteTime": {
     "end_time": "2024-05-29T09:37:17.473451Z",
     "start_time": "2024-05-29T09:37:17.416704Z"
    }
   },
   "execution_count": 16
  },
  {
   "cell_type": "code",
   "outputs": [],
   "source": [],
   "metadata": {
    "collapsed": false
   }
  }
 ],
 "metadata": {
  "kernelspec": {
   "display_name": "Python 3",
   "language": "python",
   "name": "python3"
  },
  "language_info": {
   "codemirror_mode": {
    "name": "ipython",
    "version": 2
   },
   "file_extension": ".py",
   "mimetype": "text/x-python",
   "name": "python",
   "nbconvert_exporter": "python",
   "pygments_lexer": "ipython2",
   "version": "2.7.6"
  }
 },
 "nbformat": 4,
 "nbformat_minor": 0
}
