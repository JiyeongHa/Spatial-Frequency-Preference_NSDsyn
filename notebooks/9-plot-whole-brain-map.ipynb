{
 "cells": [
  {
   "cell_type": "code",
   "execution_count": 1,
   "metadata": {
    "collapsed": true
   },
   "outputs": [],
   "source": [
    "import sys\n",
    "sys.path.append('..')\n",
    "sys.path.append('/Users/jh7685/Documents/Projects/pysurfer')\n",
    "from pysurfer.mgz_helper import map_values_as_mgz\n",
    "import pysurfer.freeview_helper as pyview\n",
    "import os\n",
    "import pandas as pd\n",
    "import numpy as np\n",
    "import matplotlib.pyplot as plt\n",
    "import seaborn as sns\n",
    "from sfp_nsdsyn import *\n",
    "from scipy.stats import f_oneway\n",
    "import warnings\n",
    "from itertools import product\n",
    "warnings.filterwarnings(\"ignore\", category=UserWarning)\n",
    "pd.options.mode.chained_assignment = None\n",
    "%load_ext autoreload\n",
    "%autoreload 2"
   ]
  },
  {
   "cell_type": "code",
   "execution_count": 2,
   "outputs": [],
   "source": [
    "nsd_dir ='/Volumes/server/Projects/sfp_nsd/natural-scenes-dataset'\n",
    "output_dir='/Volumes/server/Projects/sfp_nsd/derivatives'\n",
    "fs_subj_dir='/Volumes/server/Projects/sfp_nsd/natural-scenes-dataset/nsddata/freesurfer'\n",
    "overlay_dir='/Volumes/server/Projects/sfp_nsd/derivatives/sfp_maps/mgzs/nsdsyn'\n",
    "fig_dir='/Volumes/server/Projects/sfp_nsd/derivatives/figures/sfp_anova/brain_maps/nsdsyn/ss'"
   ],
   "metadata": {
    "collapsed": false,
    "pycharm": {
     "name": "#%%\n"
    }
   }
  },
  {
   "cell_type": "code",
   "execution_count": 36,
   "outputs": [],
   "source": [
    "subj_list = ['subj%02d' % sn for sn in np.arange(1,9)]\n",
    "sn='subj02'\n",
    "surf='inflated'"
   ],
   "metadata": {
    "collapsed": false,
    "pycharm": {
     "name": "#%%\n"
    }
   }
  },
  {
   "cell_type": "code",
   "execution_count": 37,
   "outputs": [],
   "source": [
    "ret_colors = sns.color_palette('Blues_r', as_cmap=True)\n",
    "ret_colors = np.round(ret_colors(np.linspace(0,1,8))[:,0:3]*255).astype(int)\n",
    "ret_colors = [ret_colors[0,:],ret_colors[0,:], ret_colors[1,:],ret_colors[1,:], ret_colors[2,:],ret_colors[2,:], ret_colors[3,:]]\n",
    "\n",
    "#ffas_colors = [np.asarray([249, 140, 62]), np.asarray([191,33,47])]\n",
    "ffas_colors = [np.asarray([255,255,255]), np.asarray([255,255,255])]\n",
    "ppa_color = [np.asarray([0,0,0])]\n",
    "label_colors = ret_colors + ffas_colors + ppa_color\n",
    "labels = ['V1v', 'V1d', 'V2v','V2d', 'V3v','V3d', 'h4v', 'FFA-1', 'FFA-2', 'PPA']\n",
    "labels = [f'bin-min-0.5_probmap_{roi}_smooth.label' for roi in labels]"
   ],
   "metadata": {
    "collapsed": false,
    "pycharm": {
     "name": "#%%\n"
    }
   }
  },
  {
   "cell_type": "code",
   "execution_count": 21,
   "outputs": [
    {
     "data": {
      "text/plain": "['bin-min-0.5_probmap_V1v_smooth.label',\n 'bin-min-0.5_probmap_V1d_smooth.label',\n 'bin-min-0.5_probmap_V2v_smooth.label',\n 'bin-min-0.5_probmap_V2d_smooth.label',\n 'bin-min-0.5_probmap_V3v_smooth.label',\n 'bin-min-0.5_probmap_V3d_smooth.label',\n 'bin-min-0.5_probmap_h4v_smooth.label',\n 'bin-min-0.5_probmap_FFA-1_smooth.label',\n 'bin-min-0.5_probmap_FFA-2_smooth.label',\n 'bin-min-0.5_probmap_PPA_smooth.label']"
     },
     "execution_count": 21,
     "metadata": {},
     "output_type": "execute_result"
    }
   ],
   "source": [
    "labels"
   ],
   "metadata": {
    "collapsed": false,
    "pycharm": {
     "name": "#%%\n"
    }
   }
  },
  {
   "cell_type": "code",
   "execution_count": 30,
   "outputs": [
    {
     "data": {
      "text/plain": "0"
     },
     "execution_count": 30,
     "metadata": {},
     "output_type": "execute_result"
    }
   ],
   "source": [
    "thres=(10,20)\n",
    "sn='fsaverage'\n",
    "overlay_custom=None\n",
    "lh_labels = []\n",
    "lh_colors = []\n",
    "rh_labels = []\n",
    "rh_colors = []\n",
    "overlay=f'fsaverage_sub-average_value-precision.mgz'\n",
    "label_dir=f'/Volumes/server/Projects/sfp_nsd/natural-scenes-dataset/nsddata/freesurfer/{sn}/label'\n",
    "output_path = os.path.join(fig_dir, f'ss_ang-ventral_sub-{sn}_value-precision.png')\n",
    "for l, c in zip(labels, label_colors):\n",
    "        if os.path.exists(os.path.join(label_dir, f'lh.{l}')):\n",
    "            lh_labels.append(l)\n",
    "            lh_colors.append(c)\n",
    "        if os.path.exists(os.path.join(label_dir, f'rh.{l}')):\n",
    "            rh_labels.append(l)\n",
    "            rh_colors.append(c)\n",
    "lh_obj = pyview.PyFreeview(fs_subj_dir,\n",
    "                           sn, 'lh', surf=surf,\n",
    "                           overlay=overlay, overlay_dir=overlay_dir,\n",
    "                           labels=lh_labels, label_dir=label_dir)\n",
    "rh_obj = pyview.PyFreeview(fs_subj_dir,\n",
    "                           sn, 'rh', surf=surf,\n",
    "                           overlay=overlay, overlay_dir=overlay_dir,\n",
    "                           labels=rh_labels, label_dir=label_dir,\n",
    "                           view='inferior', cam_list=[1.25,0,-30,0], save_path=None)\n",
    "fnl_cm = lh_obj.to_command(**{'label_colors': lh_colors,'label_opacity': 1, 'label_outline':  True, 'overlay_threshold':thres, 'overlay_color': 'heatmap', 'overlay_custom': overlay_custom}) +  rh_obj.to_command(**{'label_colors': rh_colors,'label_opacity': 1, 'label_outline': True, 'overlay_color': 'heatmap', 'overlay_custom': overlay_custom, 'overlay_threshold':thres}).split('freeview')[-1]\n",
    "fnl_cm = fnl_cm + ' -viewsize 1024 1024'\n",
    "os.system(fnl_cm)\n"
   ],
   "metadata": {
    "collapsed": false,
    "pycharm": {
     "name": "#%%\n"
    }
   }
  },
  {
   "cell_type": "code",
   "execution_count": 39,
   "outputs": [
    {
     "data": {
      "text/plain": "0"
     },
     "execution_count": 39,
     "metadata": {},
     "output_type": "execute_result"
    }
   ],
   "source": [
    "thres=(0.1,10)\n",
    "sn='fsaverage'\n",
    "overlay_custom=None\n",
    "lh_labels = []\n",
    "lh_colors = []\n",
    "rh_labels = []\n",
    "rh_colors = []\n",
    "overlay=f'masked-individual_fsaverage_sub-average_method-curvefit_value-mode.mgz'\n",
    "label_dir=f'/Volumes/server/Projects/sfp_nsd/natural-scenes-dataset/nsddata/freesurfer/{sn}/label'\n",
    "output_path = os.path.join(fig_dir, f'ss_ang-ventral_sub-{sn}_value-mode.png')\n",
    "for l, c in zip(labels, label_colors):\n",
    "        if os.path.exists(os.path.join(label_dir, f'lh.{l}')):\n",
    "            lh_labels.append(l)\n",
    "            lh_colors.append(c)\n",
    "        if os.path.exists(os.path.join(label_dir, f'rh.{l}')):\n",
    "            rh_labels.append(l)\n",
    "            rh_colors.append(c)\n",
    "lh_obj = pyview.PyFreeview(fs_subj_dir,\n",
    "                           sn, 'lh', surf=surf,\n",
    "                           overlay=overlay, overlay_dir=overlay_dir,\n",
    "                           labels=lh_labels, label_dir=label_dir)\n",
    "rh_obj = pyview.PyFreeview(fs_subj_dir,\n",
    "                           sn, 'rh', surf=surf,\n",
    "                           overlay=overlay, overlay_dir=overlay_dir,\n",
    "                           labels=rh_labels, label_dir=label_dir,\n",
    "                           view='inferior', cam_list=[1.25,0,-30,0], save_path=None)\n",
    "fnl_cm = lh_obj.to_command(**{'label_colors': lh_colors,'label_opacity': 1, 'label_outline':  True, 'overlay_threshold':thres, 'overlay_color': 'heatmap', 'overlay_custom': overlay_custom}) +  rh_obj.to_command(**{'label_colors': rh_colors,'label_opacity': 1, 'label_outline': True, 'overlay_color': 'heatmap', 'overlay_custom': overlay_custom, 'overlay_threshold':thres}).split('freeview')[-1]\n",
    "fnl_cm = fnl_cm + ' -viewsize 1024 1024'\n",
    "os.system(fnl_cm)\n"
   ],
   "metadata": {
    "collapsed": false,
    "pycharm": {
     "name": "#%%\n"
    }
   }
  },
  {
   "cell_type": "code",
   "execution_count": 49,
   "outputs": [],
   "source": [
    "thres=(0.1, 13)\n",
    "overlay_custom=None\n",
    "for sn in subj_list[1:2]:\n",
    "    lh_labels = []\n",
    "    lh_colors = []\n",
    "    rh_labels = []\n",
    "    rh_colors = []\n",
    "    overlay=f'sub-{sn}_method-curvefit_value-mode.mgz'\n",
    "    label_dir=f'/Volumes/server/Projects/sfp_nsd/natural-scenes-dataset/nsddata/freesurfer/{sn}/label'\n",
    "    output_path = os.path.join(fig_dir, f'ss_ang-ventral_sub-{sn}_method-curvefit_value-mode.png')\n",
    "    for l, c in zip(labels, label_colors):\n",
    "            if os.path.exists(os.path.join(label_dir, f'lh.{l}')):\n",
    "                lh_labels.append(l)\n",
    "                lh_colors.append(c)\n",
    "            if os.path.exists(os.path.join(label_dir, f'rh.{l}')):\n",
    "                rh_labels.append(l)\n",
    "                rh_colors.append(c)\n",
    "    lh_obj = pyview.PyFreeview(fs_subj_dir,\n",
    "                               sn, 'lh', surf=surf,\n",
    "                               overlay=overlay, overlay_dir=overlay_dir,\n",
    "                               labels=lh_labels, label_dir=label_dir)\n",
    "    rh_obj = pyview.PyFreeview(fs_subj_dir,\n",
    "                               sn, 'rh', surf=surf,\n",
    "                               overlay=overlay, overlay_dir=overlay_dir,\n",
    "                               labels=rh_labels, label_dir=label_dir,\n",
    "                               view='inferior', cam_list=[1.25,0,-30,0], save_path=output_path)\n",
    "    fnl_cm = lh_obj.to_command(**{'label_colors': lh_colors,'label_opacity': 1, 'label_outline':  True, 'overlay_threshold':thres, 'overlay_color': 'colorwheel', 'overlay_custom': overlay_custom}) +  rh_obj.to_command(**{'label_colors': rh_colors,'label_opacity': 1, 'label_outline': True, 'overlay_color': 'colorwheel', 'overlay_custom': overlay_custom, 'overlay_threshold':thres}).split('freeview')[-1]\n",
    "    fnl_cm = fnl_cm + ' -viewsize 1024 1024'\n",
    "    os.system(fnl_cm)\n"
   ],
   "metadata": {
    "collapsed": false,
    "pycharm": {
     "name": "#%%\n"
    }
   }
  },
  {
   "cell_type": "code",
   "execution_count": 51,
   "outputs": [],
   "source": [
    "thres=(0.5, 10)\n",
    "overlay_custom=None\n",
    "for sn in subj_list:\n",
    "    lh_labels = []\n",
    "    lh_colors = []\n",
    "    rh_labels = []\n",
    "    rh_colors = []\n",
    "    overlay=f'sub-{sn}_method-curvefit_value-sigma.mgz'\n",
    "    label_dir=f'/Volumes/server/Projects/sfp_nsd/natural-scenes-dataset/nsddata/freesurfer/{sn}/label'\n",
    "    output_path = os.path.join(fig_dir, f'ss_ang-ventral_sub-{sn}_method-curvefit_value-sigma.png')\n",
    "    for l, c in zip(labels, label_colors):\n",
    "            if os.path.exists(os.path.join(label_dir, f'lh.{l}')):\n",
    "                lh_labels.append(l)\n",
    "                lh_colors.append(c)\n",
    "            if os.path.exists(os.path.join(label_dir, f'rh.{l}')):\n",
    "                rh_labels.append(l)\n",
    "                rh_colors.append(c)\n",
    "    lh_obj = pyview.PyFreeview(fs_subj_dir,\n",
    "                               sn, 'lh', surf=surf,\n",
    "                               overlay=overlay, overlay_dir=overlay_dir,\n",
    "                               labels=lh_labels, label_dir=label_dir)\n",
    "    rh_obj = pyview.PyFreeview(fs_subj_dir,\n",
    "                               sn, 'rh', surf=surf,\n",
    "                               overlay=overlay, overlay_dir=overlay_dir,\n",
    "                               labels=rh_labels, label_dir=label_dir,\n",
    "                               view='inferior', cam_list=[1.25,0,-30,0], save_path=output_path)\n",
    "    fnl_cm = lh_obj.to_command(**{'label_colors': lh_colors,'label_opacity': 1, 'label_outline':  True, 'overlay_threshold':thres, 'overlay_color': 'colorwheel', 'overlay_custom': overlay_custom}) +  rh_obj.to_command(**{'label_colors': rh_colors,'label_opacity': 1, 'label_outline': True, 'overlay_color': 'colorwheel', 'overlay_custom': overlay_custom, 'overlay_threshold':thres}).split('freeview')[-1]\n",
    "    fnl_cm = fnl_cm + ' -viewsize 1024 1024'\n",
    "    os.system(fnl_cm)\n"
   ],
   "metadata": {
    "collapsed": false,
    "pycharm": {
     "name": "#%%\n"
    }
   }
  },
  {
   "cell_type": "code",
   "execution_count": 52,
   "outputs": [],
   "source": [
    "thres=(1, 10)\n",
    "overlay_custom=None\n",
    "for sn in subj_list:\n",
    "    lh_labels = []\n",
    "    lh_colors = []\n",
    "    rh_labels = []\n",
    "    rh_colors = []\n",
    "    overlay=f'sub-{sn}_method-curvefit_value-amp.mgz'\n",
    "    label_dir=f'/Volumes/server/Projects/sfp_nsd/natural-scenes-dataset/nsddata/freesurfer/{sn}/label'\n",
    "    output_path = os.path.join(fig_dir, f'ss_ang-ventral_sub-{sn}_method-curvefit_value-amp.png')\n",
    "    for l, c in zip(labels, label_colors):\n",
    "            if os.path.exists(os.path.join(label_dir, f'lh.{l}')):\n",
    "                lh_labels.append(l)\n",
    "                lh_colors.append(c)\n",
    "            if os.path.exists(os.path.join(label_dir, f'rh.{l}')):\n",
    "                rh_labels.append(l)\n",
    "                rh_colors.append(c)\n",
    "    lh_obj = pyview.PyFreeview(fs_subj_dir,\n",
    "                               sn, 'lh', surf=surf,\n",
    "                               overlay=overlay, overlay_dir=overlay_dir,\n",
    "                               labels=lh_labels, label_dir=label_dir)\n",
    "    rh_obj = pyview.PyFreeview(fs_subj_dir,\n",
    "                               sn, 'rh', surf=surf,\n",
    "                               overlay=overlay, overlay_dir=overlay_dir,\n",
    "                               labels=rh_labels, label_dir=label_dir,\n",
    "                               view='inferior', cam_list=[1.25,0,-30,0], save_path=output_path)\n",
    "    fnl_cm = lh_obj.to_command(**{'label_colors': lh_colors,'label_opacity': 1, 'label_outline':  True, 'overlay_threshold':thres, 'overlay_color': 'colorwheel', 'overlay_custom': overlay_custom}) +  rh_obj.to_command(**{'label_colors': rh_colors,'label_opacity': 1, 'label_outline': True, 'overlay_color': 'colorwheel', 'overlay_custom': overlay_custom, 'overlay_threshold':thres}).split('freeview')[-1]\n",
    "    fnl_cm = fnl_cm + ' -viewsize 1024 1024'\n",
    "    os.system(fnl_cm)\n"
   ],
   "metadata": {
    "collapsed": false,
    "pycharm": {
     "name": "#%%\n"
    }
   }
  },
  {
   "cell_type": "code",
   "execution_count": 24,
   "outputs": [],
   "source": [
    "thres=(2,4)\n",
    "overlay_custom=None\n",
    "for sn in subj_list[:1]:\n",
    "    lh_labels = []\n",
    "    lh_colors = []\n",
    "    rh_labels = []\n",
    "    rh_colors = []\n",
    "    overlay=f'sub-{sn}_stat-anova_value-F.mgz'\n",
    "    label_dir=f'/Volumes/server/Projects/sfp_nsd/natural-scenes-dataset/nsddata/freesurfer/{sn}/label'\n",
    "    output_path = os.path.join(fig_dir, f'ss_ang-ventral_sub-{sn}_stat-anova_value-F.png')\n",
    "    for l, c in zip(labels, label_colors):\n",
    "            if os.path.exists(os.path.join(label_dir, f'lh.{l}')):\n",
    "                lh_labels.append(l)\n",
    "                lh_colors.append(c)\n",
    "            if os.path.exists(os.path.join(label_dir, f'rh.{l}')):\n",
    "                rh_labels.append(l)\n",
    "                rh_colors.append(c)\n",
    "    lh_obj = pyview.PyFreeview(fs_subj_dir,\n",
    "                               sn, 'lh', surf=surf,\n",
    "                               overlay=overlay, overlay_dir=overlay_dir,\n",
    "                               labels=lh_labels, label_dir=label_dir)\n",
    "    rh_obj = pyview.PyFreeview(fs_subj_dir,\n",
    "                               sn, 'rh', surf=surf,\n",
    "                               overlay=overlay, overlay_dir=overlay_dir,\n",
    "                               labels=rh_labels, label_dir=label_dir,\n",
    "                               view='inferior', cam_list=[1.25,0,-30,0], save_path=output_path)\n",
    "    fnl_cm = lh_obj.to_command(**{'label_colors': lh_colors,'label_opacity': 1, 'label_outline':  True, 'overlay_threshold':thres, 'overlay_custom': overlay_custom}) +  rh_obj.to_command(**{'label_colors': rh_colors,'label_opacity': 1, 'label_outline': True, 'overlay_custom': overlay_custom, 'overlay_threshold':thres}).split('freeview')[-1]\n",
    "    fnl_cm = fnl_cm + ' -viewsize 1024 1024'\n",
    "    os.system(fnl_cm)\n"
   ],
   "metadata": {
    "collapsed": false,
    "pycharm": {
     "name": "#%%\n"
    }
   }
  },
  {
   "cell_type": "code",
   "execution_count": 25,
   "outputs": [],
   "source": [
    "\n",
    "thres=(2,4)\n",
    "overlay_custom=None\n",
    "for sn in subj_list:\n",
    "    lh_labels = []\n",
    "    lh_colors = []\n",
    "    rh_labels = []\n",
    "    rh_colors = []\n",
    "    overlay=f'sub-{sn}_stat-anova_value-F.mgz'\n",
    "    label_dir=f'/Volumes/server/Projects/sfp_nsd/natural-scenes-dataset/nsddata/freesurfer/{sn}/label'\n",
    "    output_path = os.path.join(fig_dir, f'ss_ang-occipital_sub-{sn}_stat-anova_value-F.png')\n",
    "    for l, c in zip(labels, label_colors):\n",
    "            if os.path.exists(os.path.join(label_dir, f'lh.{l}')):\n",
    "                lh_labels.append(l)\n",
    "                lh_colors.append(c)\n",
    "            if os.path.exists(os.path.join(label_dir, f'rh.{l}')):\n",
    "                rh_labels.append(l)\n",
    "                rh_colors.append(c)\n",
    "    lh_obj = pyview.PyFreeview(fs_subj_dir,\n",
    "                               sn, 'lh', surf=surf,\n",
    "                               overlay=overlay, overlay_dir=overlay_dir,\n",
    "                               labels=lh_labels, label_dir=label_dir)\n",
    "    rh_obj = pyview.PyFreeview(fs_subj_dir,\n",
    "                               sn, 'rh', surf=surf,\n",
    "                               overlay=overlay, overlay_dir=overlay_dir,\n",
    "                               labels=rh_labels, label_dir=label_dir,\n",
    "                               view='inferior', cam_list=None, save_path=output_path)\n",
    "    fnl_cm = lh_obj.to_command(**{'label_colors': lh_colors,'label_opacity': 1, 'label_outline':  True, 'overlay_threshold':thres, 'overlay_custom': overlay_custom}) +  rh_obj.to_command(**{'label_colors': rh_colors,'label_opacity': 1, 'label_outline': True, 'overlay_custom': overlay_custom, 'overlay_threshold':thres}).split('freeview')[-1]\n",
    "    fnl_cm = fnl_cm + ' -viewsize 1024 1024' + ' -view posterior -cam Elevation -25 Zoom 1.25'\n",
    "    os.system(fnl_cm)\n"
   ],
   "metadata": {
    "collapsed": false,
    "pycharm": {
     "name": "#%%\n"
    }
   }
  }
 ],
 "metadata": {
  "kernelspec": {
   "display_name": "Python 3",
   "language": "python",
   "name": "python3"
  },
  "language_info": {
   "codemirror_mode": {
    "name": "ipython",
    "version": 2
   },
   "file_extension": ".py",
   "mimetype": "text/x-python",
   "name": "python",
   "nbconvert_exporter": "python",
   "pygments_lexer": "ipython2",
   "version": "2.7.6"
  }
 },
 "nbformat": 4,
 "nbformat_minor": 0
}