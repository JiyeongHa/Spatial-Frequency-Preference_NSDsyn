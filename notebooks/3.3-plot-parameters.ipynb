{
 "cells": [
  {
   "cell_type": "code",
   "execution_count": 1,
   "id": "initial_id",
   "metadata": {
    "collapsed": true,
    "ExecuteTime": {
     "end_time": "2024-08-23T19:36:02.230121Z",
     "start_time": "2024-08-23T19:36:00.220436Z"
    }
   },
   "outputs": [],
   "source": [
    "import sys\n",
    "sys.path.append('..')\n",
    "import os\n",
    "import pandas as pd\n",
    "import numpy as np\n",
    "import matplotlib.pyplot as plt\n",
    "import seaborn as sns\n",
    "from sfp_nsdsyn import *\n",
    "import warnings\n",
    "import itertools\n",
    "import matplotlib as mpl\n",
    "\n",
    "warnings.filterwarnings(\"ignore\", category=RuntimeWarning)\n",
    "pd.options.mode.chained_assignment = None\n",
    "%load_ext autoreload\n",
    "%autoreload 2"
   ]
  },
  {
   "cell_type": "code",
   "outputs": [],
   "source": [
    "output_dir='/Volumes/server/Projects/sfp_nsd/derivatives'\n",
    "results_dir = os.path.join(output_dir, 'sfp_model', 'results_2D')\n",
    "fig_dir = os.path.join(output_dir, 'figures', 'sfp_model', 'results_2D')\n",
    "lr = 0.0005\n",
    "max_epoch = 30000\n",
    "dset='nsdsyn'\n",
    "roi_list = ['V1','V2','V3']\n",
    "vsc='pRFsize'\n",
    "nsd_subj_list = [utils.sub_number_to_string(sn, 'nsdsyn') for sn in np.arange(1,9)]\n",
    "broderick_sn_list = [1, 6, 7, 45, 46, 62, 64, 81, 95, 114, 115, 121]\n",
    "broderick_subj_list = [utils.sub_number_to_string(i, 'broderick') for i in broderick_sn_list]\n",
    "ARGS_2D = ['sub','lr','eph','roi','dset']"
   ],
   "metadata": {
    "collapsed": false,
    "ExecuteTime": {
     "end_time": "2024-08-23T19:36:02.264727Z",
     "start_time": "2024-08-23T19:36:02.232650Z"
    }
   },
   "id": "903cfd1c4c95c0f",
   "execution_count": 2
  },
  {
   "cell_type": "markdown",
   "source": [
    "# NSD \n",
    "## model"
   ],
   "metadata": {
    "collapsed": false
   },
   "id": "84bf51b54c18d018"
  },
  {
   "cell_type": "code",
   "outputs": [],
   "source": [
    "pt_file_list = []\n",
    "dset = 'nsdsyn'\n",
    "for subj, roi in itertools.product(nsd_subj_list, ['V1','V2','V3']):\n",
    "    file_name = os.path.join(results_dir, dset, f'model-params_lr-{lr}_eph-{max_epoch}_dset-{dset}_sub-{subj}_roi-{roi}_vs-{vsc}.pt')\n",
    "    pt_file_list.append(file_name)\n",
    "nsd_params = model.load_all_models(pt_file_list, *ARGS_2D)"
   ],
   "metadata": {
    "collapsed": false,
    "ExecuteTime": {
     "end_time": "2024-08-23T19:36:08.385179Z",
     "start_time": "2024-08-23T19:36:02.266655Z"
    }
   },
   "id": "2500a36f1fb4b968",
   "execution_count": 3
  },
  {
   "cell_type": "markdown",
   "source": [
    "## NSD precision"
   ],
   "metadata": {
    "collapsed": false
   },
   "id": "ef7bc7ed82a8d680"
  },
  {
   "cell_type": "code",
   "outputs": [],
   "source": [
    "nsd_precision_s =  pd.read_csv(os.path.join(output_dir, 'dataframes', dset, 'precision', f'precision-s_dset-{dset}_vs-pRFsize.csv'))\n",
    "nsd_df = pd.merge(nsd_params, nsd_precision_s[['sub','vroinames','precision']], on=['sub','vroinames'])"
   ],
   "metadata": {
    "collapsed": false,
    "ExecuteTime": {
     "end_time": "2024-08-23T19:36:08.492537Z",
     "start_time": "2024-08-23T19:36:08.386692Z"
    }
   },
   "id": "20fc54e690b6991",
   "execution_count": 4
  },
  {
   "cell_type": "markdown",
   "source": [
    "# Broderick et al\n",
    "## model"
   ],
   "metadata": {
    "collapsed": false
   },
   "id": "e89a3886747c5c49"
  },
  {
   "cell_type": "code",
   "outputs": [],
   "source": [
    "pt_file_list = []\n",
    "dset = 'broderick'\n",
    "tfunc_types=['corrected']\n",
    "for subj, roi, tfunc in itertools.product(broderick_subj_list, ['V1'], tfunc_types):\n",
    "    file_name = os.path.join(results_dir, dset, f'tfunc-{tfunc}_model_lr-{lr}_eph-{max_epoch}_dset-{dset}_sub-{subj}_roi-{roi}_vs-{vsc}.pt')\n",
    "    pt_file_list.append(file_name)\n",
    "broderick_params = model.load_all_models(pt_file_list, *ARGS_2D+['tfunc'])\n",
    "broderick_params.replace({'tfunc': {'derick/tfunc corrected': 'corrected', 'derick/tfunc uncorrected': 'uncorrected'}}, inplace=True)"
   ],
   "metadata": {
    "collapsed": false,
    "ExecuteTime": {
     "end_time": "2024-08-23T19:36:10.547145Z",
     "start_time": "2024-08-23T19:36:08.494462Z"
    }
   },
   "id": "f57e523a8cd7e80e",
   "execution_count": 5
  },
  {
   "cell_type": "markdown",
   "source": [
    "## broderick precision"
   ],
   "metadata": {
    "collapsed": false
   },
   "id": "fed10e7bfa733373"
  },
  {
   "cell_type": "code",
   "outputs": [],
   "source": [
    "broderick_precision_s =  pd.read_csv(os.path.join(output_dir, 'dataframes', dset, 'precision', f'precision-s_dset-{dset}_vs-pRFsize.csv'))\n",
    "all_broderick_df = pd.merge(broderick_params, broderick_precision_s[['sub','vroinames','precision']], on=['sub','vroinames'])"
   ],
   "metadata": {
    "collapsed": false,
    "ExecuteTime": {
     "end_time": "2024-08-23T19:38:06.461855Z",
     "start_time": "2024-08-23T19:38:06.173458Z"
    }
   },
   "id": "97ac4b2146b98d25",
   "execution_count": 8
  },
  {
   "cell_type": "code",
   "outputs": [],
   "source": [
    "broderick_df = all_broderick_df.query('tfunc == \"corrected\"')\n",
    "broderick_df['dset_type'] = 'Broderick et al. V1'\n",
    "nsd_df['dset_type'] = nsd_df['vroinames'].apply(lambda x: f'NSD {x}')\n",
    "final_df = pd.concat((broderick_df, nsd_df), axis=0)"
   ],
   "metadata": {
    "collapsed": false,
    "ExecuteTime": {
     "end_time": "2024-08-23T19:38:06.498068Z",
     "start_time": "2024-08-23T19:38:06.463438Z"
    }
   },
   "id": "cb5bce5425303c4a",
   "execution_count": 9
  },
  {
   "cell_type": "code",
   "outputs": [],
   "source": [
    "final_df['goal'] = final_df['vroinames'].apply(lambda x: 'Replication' if x == \"V1\" else 'Extension')\n",
    "tmp = nsd_df.query('vroinames == \"V1\"')\n",
    "tmp['goal'] = 'Extension'\n",
    "final_df = pd.concat((tmp, final_df), axis=0)\n"
   ],
   "metadata": {
    "collapsed": false,
    "ExecuteTime": {
     "end_time": "2024-08-23T19:38:06.818979Z",
     "start_time": "2024-08-23T19:38:06.787934Z"
    }
   },
   "id": "574c66b5c9bf2b4b",
   "execution_count": 10
  },
  {
   "cell_type": "code",
   "outputs": [
    {
     "data": {
      "text/plain": "       sigma     slope  intercept       p_1       p_2       p_3       p_4  \\\n0   2.490021  0.139594   0.217478  0.022201 -0.021813 -0.274858 -0.012191   \n3   2.009928  0.124187   0.090198  0.101903 -0.053708 -0.001964 -0.054230   \n6   2.529316  0.054894   0.109951  0.045723  0.009979  0.132809 -0.127411   \n9   1.979350  0.182145   0.122061  0.046359 -0.014748  0.117450 -0.143140   \n12  2.611645  0.110086   0.135820 -0.044682 -0.041766 -0.101905 -0.142334   \n15  2.102069  0.172470   0.213249  0.114772  0.014219  0.129493 -0.170258   \n18  2.290964  0.104453   0.098955  0.056838 -0.155388  0.157476 -0.195395   \n21  2.554011  0.208712   0.096840  0.053212 -0.016782 -0.317137 -0.148563   \n0   2.984467  0.071135   0.399834 -0.003961 -0.020345  0.011555  0.004440   \n1   2.210294  0.192392   0.318329  0.012519 -0.027342  0.038427 -0.009277   \n2   1.861225  0.124606   0.324291  0.002136 -0.055713  0.175306 -0.005518   \n3   1.847646  0.138592   0.190539  0.007567 -0.044612  0.032485 -0.014709   \n4   2.236959  0.101968   0.220886  0.014716 -0.016538  0.094157  0.019891   \n5   2.116609  0.133466   0.320506 -0.052655 -0.018392 -0.115484  0.102410   \n6   2.131720  0.138272   0.280332  0.040796 -0.035158  0.036034 -0.003996   \n7   2.246786  0.080009   0.373764  0.024381 -0.070042  0.177984  0.002415   \n8   2.308517  0.121467   0.466216  0.047350 -0.024477  0.147587 -0.091119   \n9   2.092923  0.130718   0.308122  0.066803  0.002570  0.072842 -0.038684   \n10  1.652565  0.182888   0.204145  0.061744 -0.005472  0.142311 -0.029376   \n11  2.569321 -0.013830   0.906560  0.114699  0.007952  0.161020 -0.043632   \n0   2.490021  0.139594   0.217478  0.022201 -0.021813 -0.274858 -0.012191   \n1   5.543962  0.230673   0.313956  0.027977 -0.002200 -1.300301  0.388318   \n2   4.952771  0.175571   0.289297 -0.024290 -0.021548 -1.176202  0.330713   \n3   2.009928  0.124187   0.090198  0.101903 -0.053708 -0.001964 -0.054230   \n4   3.414492  0.312690   0.004236 -0.175029 -0.189858 -0.184870  0.009310   \n5   3.735031  0.215806   0.003350 -0.155246 -0.029568 -0.162825  0.061312   \n6   2.529316  0.054894   0.109951  0.045723  0.009979  0.132809 -0.127411   \n7   3.113770  0.124130   0.022593 -0.034448 -0.089924  0.009114 -0.118260   \n8   3.751331  0.111387   0.002604 -0.044083  0.013960 -0.080169 -0.109286   \n9   1.979350  0.182145   0.122061  0.046359 -0.014748  0.117450 -0.143140   \n10  3.412445  0.106503   0.234342 -0.178645 -0.061359  0.057521 -0.171238   \n11  3.451084  0.105578   0.140842  0.060442 -0.002468  0.126295 -0.138717   \n12  2.611645  0.110086   0.135820 -0.044682 -0.041766 -0.101905 -0.142334   \n13  3.272760  0.137002   0.189353 -0.120416 -0.078459 -0.452903 -0.044138   \n14  6.245852  0.219378   0.208048 -0.092032  0.054810 -1.242572  0.359264   \n15  2.102069  0.172470   0.213249  0.114772  0.014219  0.129493 -0.170258   \n16  2.838126  0.180648   0.328005  0.120269 -0.106788  0.127277 -0.188415   \n17  3.093458  0.229138   0.203357 -0.042709 -0.097241  0.163735 -0.159467   \n18  2.290964  0.104453   0.098955  0.056838 -0.155388  0.157476 -0.195395   \n19  3.148344  0.167795   0.074803  0.087778  0.017498  0.061265 -0.100846   \n20  3.458214  0.117769   0.097653 -0.001885 -0.105645  0.177152 -0.145720   \n21  2.554011  0.208712   0.096840  0.053212 -0.016782 -0.317137 -0.148563   \n22  3.293100  0.208687   0.106266 -0.046445 -0.035245 -0.525281 -0.070729   \n23  3.454509  0.130625   0.135655 -0.025575 -0.017482 -0.490179 -0.139800   \n\n         A_1       A_2        sub lr_rate max_epoch vroinames       dset  \\\n0   0.023888 -0.006918     subj01  0.0005     30000        V1     nsdsyn   \n3   0.006940  0.006901     subj02  0.0005     30000        V1     nsdsyn   \n6   0.005100 -0.009297     subj03  0.0005     30000        V1     nsdsyn   \n9   0.036360 -0.017871     subj04  0.0005     30000        V1     nsdsyn   \n12  0.007385 -0.010490     subj05  0.0005     30000        V1     nsdsyn   \n15  0.020818 -0.030411     subj06  0.0005     30000        V1     nsdsyn   \n18 -0.018938  0.002934     subj07  0.0005     30000        V1     nsdsyn   \n21  0.037118 -0.018485     subj08  0.0005     30000        V1     nsdsyn   \n0   0.011346 -0.005278  wlsubj001  0.0005     30000        V1  broderick   \n1   0.003553  0.011274  wlsubj006  0.0005     30000        V1  broderick   \n2   0.012415  0.015643  wlsubj007  0.0005     30000        V1  broderick   \n3   0.015500 -0.013700  wlsubj045  0.0005     30000        V1  broderick   \n4   0.001901 -0.008564  wlsubj046  0.0005     30000        V1  broderick   \n5   0.011852 -0.008143  wlsubj062  0.0005     30000        V1  broderick   \n6  -0.012616  0.008283  wlsubj064  0.0005     30000        V1  broderick   \n7   0.014053  0.008331  wlsubj081  0.0005     30000        V1  broderick   \n8  -0.016296  0.018711  wlsubj095  0.0005     30000        V1  broderick   \n9   0.058610 -0.017947  wlsubj114  0.0005     30000        V1  broderick   \n10  0.006723 -0.004664  wlsubj115  0.0005     30000        V1  broderick   \n11  0.024995 -0.000337  wlsubj121  0.0005     30000        V1  broderick   \n0   0.023888 -0.006918     subj01  0.0005     30000        V1     nsdsyn   \n1  -0.001618 -0.003984     subj01  0.0005     30000        V2     nsdsyn   \n2   0.042333 -0.006572     subj01  0.0005     30000        V3     nsdsyn   \n3   0.006940  0.006901     subj02  0.0005     30000        V1     nsdsyn   \n4  -0.012834 -0.059446     subj02  0.0005     30000        V2     nsdsyn   \n5  -0.002249 -0.018574     subj02  0.0005     30000        V3     nsdsyn   \n6   0.005100 -0.009297     subj03  0.0005     30000        V1     nsdsyn   \n7   0.019569  0.009351     subj03  0.0005     30000        V2     nsdsyn   \n8   0.026123  0.004000     subj03  0.0005     30000        V3     nsdsyn   \n9   0.036360 -0.017871     subj04  0.0005     30000        V1     nsdsyn   \n10 -0.010077 -0.012231     subj04  0.0005     30000        V2     nsdsyn   \n11  0.000895 -0.011489     subj04  0.0005     30000        V3     nsdsyn   \n12  0.007385 -0.010490     subj05  0.0005     30000        V1     nsdsyn   \n13  0.000689  0.000809     subj05  0.0005     30000        V2     nsdsyn   \n14  0.014943 -0.014952     subj05  0.0005     30000        V3     nsdsyn   \n15  0.020818 -0.030411     subj06  0.0005     30000        V1     nsdsyn   \n16  0.002888 -0.041018     subj06  0.0005     30000        V2     nsdsyn   \n17 -0.012089 -0.025541     subj06  0.0005     30000        V3     nsdsyn   \n18 -0.018938  0.002934     subj07  0.0005     30000        V1     nsdsyn   \n19 -0.023869  0.005095     subj07  0.0005     30000        V2     nsdsyn   \n20 -0.016101 -0.000384     subj07  0.0005     30000        V3     nsdsyn   \n21  0.037118 -0.018485     subj08  0.0005     30000        V1     nsdsyn   \n22  0.011954 -0.018921     subj08  0.0005     30000        V2     nsdsyn   \n23  0.009032 -0.000309     subj08  0.0005     30000        V3     nsdsyn   \n\n    precision            dset_type         goal      tfunc  \n0    1.342082               NSD V1    Extension        NaN  \n3    0.758509               NSD V1    Extension        NaN  \n6    0.451902               NSD V1    Extension        NaN  \n9    1.112438               NSD V1    Extension        NaN  \n12   0.595493               NSD V1    Extension        NaN  \n15   1.053529               NSD V1    Extension        NaN  \n18   0.512969               NSD V1    Extension        NaN  \n21   0.421552               NSD V1    Extension        NaN  \n0   10.369273  Broderick et al. V1  Replication  corrected  \n1   10.957087  Broderick et al. V1  Replication  corrected  \n2    3.795616  Broderick et al. V1  Replication  corrected  \n3    5.359912  Broderick et al. V1  Replication  corrected  \n4    5.286819  Broderick et al. V1  Replication  corrected  \n5    6.067495  Broderick et al. V1  Replication  corrected  \n6    4.254223  Broderick et al. V1  Replication  corrected  \n7    5.512441  Broderick et al. V1  Replication  corrected  \n8    6.016436  Broderick et al. V1  Replication  corrected  \n9    6.719800  Broderick et al. V1  Replication  corrected  \n10   1.989968  Broderick et al. V1  Replication  corrected  \n11   5.596000  Broderick et al. V1  Replication  corrected  \n0    1.342082               NSD V1  Replication        NaN  \n1    1.548457               NSD V2    Extension        NaN  \n2    2.596731               NSD V3    Extension        NaN  \n3    0.758509               NSD V1  Replication        NaN  \n4    0.881836               NSD V2    Extension        NaN  \n5    1.366474               NSD V3    Extension        NaN  \n6    0.451902               NSD V1  Replication        NaN  \n7    0.748543               NSD V2    Extension        NaN  \n8    1.522384               NSD V3    Extension        NaN  \n9    1.112438               NSD V1  Replication        NaN  \n10   0.872796               NSD V2    Extension        NaN  \n11   0.781527               NSD V3    Extension        NaN  \n12   0.595493               NSD V1  Replication        NaN  \n13   0.737055               NSD V2    Extension        NaN  \n14   0.821630               NSD V3    Extension        NaN  \n15   1.053529               NSD V1  Replication        NaN  \n16   1.866259               NSD V2    Extension        NaN  \n17   2.747936               NSD V3    Extension        NaN  \n18   0.512969               NSD V1  Replication        NaN  \n19   0.585363               NSD V2    Extension        NaN  \n20   0.820911               NSD V3    Extension        NaN  \n21   0.421552               NSD V1  Replication        NaN  \n22   0.637120               NSD V2    Extension        NaN  \n23   0.859531               NSD V3    Extension        NaN  ",
      "text/html": "<div>\n<style scoped>\n    .dataframe tbody tr th:only-of-type {\n        vertical-align: middle;\n    }\n\n    .dataframe tbody tr th {\n        vertical-align: top;\n    }\n\n    .dataframe thead th {\n        text-align: right;\n    }\n</style>\n<table border=\"1\" class=\"dataframe\">\n  <thead>\n    <tr style=\"text-align: right;\">\n      <th></th>\n      <th>sigma</th>\n      <th>slope</th>\n      <th>intercept</th>\n      <th>p_1</th>\n      <th>p_2</th>\n      <th>p_3</th>\n      <th>p_4</th>\n      <th>A_1</th>\n      <th>A_2</th>\n      <th>sub</th>\n      <th>lr_rate</th>\n      <th>max_epoch</th>\n      <th>vroinames</th>\n      <th>dset</th>\n      <th>precision</th>\n      <th>dset_type</th>\n      <th>goal</th>\n      <th>tfunc</th>\n    </tr>\n  </thead>\n  <tbody>\n    <tr>\n      <th>0</th>\n      <td>2.490021</td>\n      <td>0.139594</td>\n      <td>0.217478</td>\n      <td>0.022201</td>\n      <td>-0.021813</td>\n      <td>-0.274858</td>\n      <td>-0.012191</td>\n      <td>0.023888</td>\n      <td>-0.006918</td>\n      <td>subj01</td>\n      <td>0.0005</td>\n      <td>30000</td>\n      <td>V1</td>\n      <td>nsdsyn</td>\n      <td>1.342082</td>\n      <td>NSD V1</td>\n      <td>Extension</td>\n      <td>NaN</td>\n    </tr>\n    <tr>\n      <th>3</th>\n      <td>2.009928</td>\n      <td>0.124187</td>\n      <td>0.090198</td>\n      <td>0.101903</td>\n      <td>-0.053708</td>\n      <td>-0.001964</td>\n      <td>-0.054230</td>\n      <td>0.006940</td>\n      <td>0.006901</td>\n      <td>subj02</td>\n      <td>0.0005</td>\n      <td>30000</td>\n      <td>V1</td>\n      <td>nsdsyn</td>\n      <td>0.758509</td>\n      <td>NSD V1</td>\n      <td>Extension</td>\n      <td>NaN</td>\n    </tr>\n    <tr>\n      <th>6</th>\n      <td>2.529316</td>\n      <td>0.054894</td>\n      <td>0.109951</td>\n      <td>0.045723</td>\n      <td>0.009979</td>\n      <td>0.132809</td>\n      <td>-0.127411</td>\n      <td>0.005100</td>\n      <td>-0.009297</td>\n      <td>subj03</td>\n      <td>0.0005</td>\n      <td>30000</td>\n      <td>V1</td>\n      <td>nsdsyn</td>\n      <td>0.451902</td>\n      <td>NSD V1</td>\n      <td>Extension</td>\n      <td>NaN</td>\n    </tr>\n    <tr>\n      <th>9</th>\n      <td>1.979350</td>\n      <td>0.182145</td>\n      <td>0.122061</td>\n      <td>0.046359</td>\n      <td>-0.014748</td>\n      <td>0.117450</td>\n      <td>-0.143140</td>\n      <td>0.036360</td>\n      <td>-0.017871</td>\n      <td>subj04</td>\n      <td>0.0005</td>\n      <td>30000</td>\n      <td>V1</td>\n      <td>nsdsyn</td>\n      <td>1.112438</td>\n      <td>NSD V1</td>\n      <td>Extension</td>\n      <td>NaN</td>\n    </tr>\n    <tr>\n      <th>12</th>\n      <td>2.611645</td>\n      <td>0.110086</td>\n      <td>0.135820</td>\n      <td>-0.044682</td>\n      <td>-0.041766</td>\n      <td>-0.101905</td>\n      <td>-0.142334</td>\n      <td>0.007385</td>\n      <td>-0.010490</td>\n      <td>subj05</td>\n      <td>0.0005</td>\n      <td>30000</td>\n      <td>V1</td>\n      <td>nsdsyn</td>\n      <td>0.595493</td>\n      <td>NSD V1</td>\n      <td>Extension</td>\n      <td>NaN</td>\n    </tr>\n    <tr>\n      <th>15</th>\n      <td>2.102069</td>\n      <td>0.172470</td>\n      <td>0.213249</td>\n      <td>0.114772</td>\n      <td>0.014219</td>\n      <td>0.129493</td>\n      <td>-0.170258</td>\n      <td>0.020818</td>\n      <td>-0.030411</td>\n      <td>subj06</td>\n      <td>0.0005</td>\n      <td>30000</td>\n      <td>V1</td>\n      <td>nsdsyn</td>\n      <td>1.053529</td>\n      <td>NSD V1</td>\n      <td>Extension</td>\n      <td>NaN</td>\n    </tr>\n    <tr>\n      <th>18</th>\n      <td>2.290964</td>\n      <td>0.104453</td>\n      <td>0.098955</td>\n      <td>0.056838</td>\n      <td>-0.155388</td>\n      <td>0.157476</td>\n      <td>-0.195395</td>\n      <td>-0.018938</td>\n      <td>0.002934</td>\n      <td>subj07</td>\n      <td>0.0005</td>\n      <td>30000</td>\n      <td>V1</td>\n      <td>nsdsyn</td>\n      <td>0.512969</td>\n      <td>NSD V1</td>\n      <td>Extension</td>\n      <td>NaN</td>\n    </tr>\n    <tr>\n      <th>21</th>\n      <td>2.554011</td>\n      <td>0.208712</td>\n      <td>0.096840</td>\n      <td>0.053212</td>\n      <td>-0.016782</td>\n      <td>-0.317137</td>\n      <td>-0.148563</td>\n      <td>0.037118</td>\n      <td>-0.018485</td>\n      <td>subj08</td>\n      <td>0.0005</td>\n      <td>30000</td>\n      <td>V1</td>\n      <td>nsdsyn</td>\n      <td>0.421552</td>\n      <td>NSD V1</td>\n      <td>Extension</td>\n      <td>NaN</td>\n    </tr>\n    <tr>\n      <th>0</th>\n      <td>2.984467</td>\n      <td>0.071135</td>\n      <td>0.399834</td>\n      <td>-0.003961</td>\n      <td>-0.020345</td>\n      <td>0.011555</td>\n      <td>0.004440</td>\n      <td>0.011346</td>\n      <td>-0.005278</td>\n      <td>wlsubj001</td>\n      <td>0.0005</td>\n      <td>30000</td>\n      <td>V1</td>\n      <td>broderick</td>\n      <td>10.369273</td>\n      <td>Broderick et al. V1</td>\n      <td>Replication</td>\n      <td>corrected</td>\n    </tr>\n    <tr>\n      <th>1</th>\n      <td>2.210294</td>\n      <td>0.192392</td>\n      <td>0.318329</td>\n      <td>0.012519</td>\n      <td>-0.027342</td>\n      <td>0.038427</td>\n      <td>-0.009277</td>\n      <td>0.003553</td>\n      <td>0.011274</td>\n      <td>wlsubj006</td>\n      <td>0.0005</td>\n      <td>30000</td>\n      <td>V1</td>\n      <td>broderick</td>\n      <td>10.957087</td>\n      <td>Broderick et al. V1</td>\n      <td>Replication</td>\n      <td>corrected</td>\n    </tr>\n    <tr>\n      <th>2</th>\n      <td>1.861225</td>\n      <td>0.124606</td>\n      <td>0.324291</td>\n      <td>0.002136</td>\n      <td>-0.055713</td>\n      <td>0.175306</td>\n      <td>-0.005518</td>\n      <td>0.012415</td>\n      <td>0.015643</td>\n      <td>wlsubj007</td>\n      <td>0.0005</td>\n      <td>30000</td>\n      <td>V1</td>\n      <td>broderick</td>\n      <td>3.795616</td>\n      <td>Broderick et al. V1</td>\n      <td>Replication</td>\n      <td>corrected</td>\n    </tr>\n    <tr>\n      <th>3</th>\n      <td>1.847646</td>\n      <td>0.138592</td>\n      <td>0.190539</td>\n      <td>0.007567</td>\n      <td>-0.044612</td>\n      <td>0.032485</td>\n      <td>-0.014709</td>\n      <td>0.015500</td>\n      <td>-0.013700</td>\n      <td>wlsubj045</td>\n      <td>0.0005</td>\n      <td>30000</td>\n      <td>V1</td>\n      <td>broderick</td>\n      <td>5.359912</td>\n      <td>Broderick et al. V1</td>\n      <td>Replication</td>\n      <td>corrected</td>\n    </tr>\n    <tr>\n      <th>4</th>\n      <td>2.236959</td>\n      <td>0.101968</td>\n      <td>0.220886</td>\n      <td>0.014716</td>\n      <td>-0.016538</td>\n      <td>0.094157</td>\n      <td>0.019891</td>\n      <td>0.001901</td>\n      <td>-0.008564</td>\n      <td>wlsubj046</td>\n      <td>0.0005</td>\n      <td>30000</td>\n      <td>V1</td>\n      <td>broderick</td>\n      <td>5.286819</td>\n      <td>Broderick et al. V1</td>\n      <td>Replication</td>\n      <td>corrected</td>\n    </tr>\n    <tr>\n      <th>5</th>\n      <td>2.116609</td>\n      <td>0.133466</td>\n      <td>0.320506</td>\n      <td>-0.052655</td>\n      <td>-0.018392</td>\n      <td>-0.115484</td>\n      <td>0.102410</td>\n      <td>0.011852</td>\n      <td>-0.008143</td>\n      <td>wlsubj062</td>\n      <td>0.0005</td>\n      <td>30000</td>\n      <td>V1</td>\n      <td>broderick</td>\n      <td>6.067495</td>\n      <td>Broderick et al. V1</td>\n      <td>Replication</td>\n      <td>corrected</td>\n    </tr>\n    <tr>\n      <th>6</th>\n      <td>2.131720</td>\n      <td>0.138272</td>\n      <td>0.280332</td>\n      <td>0.040796</td>\n      <td>-0.035158</td>\n      <td>0.036034</td>\n      <td>-0.003996</td>\n      <td>-0.012616</td>\n      <td>0.008283</td>\n      <td>wlsubj064</td>\n      <td>0.0005</td>\n      <td>30000</td>\n      <td>V1</td>\n      <td>broderick</td>\n      <td>4.254223</td>\n      <td>Broderick et al. V1</td>\n      <td>Replication</td>\n      <td>corrected</td>\n    </tr>\n    <tr>\n      <th>7</th>\n      <td>2.246786</td>\n      <td>0.080009</td>\n      <td>0.373764</td>\n      <td>0.024381</td>\n      <td>-0.070042</td>\n      <td>0.177984</td>\n      <td>0.002415</td>\n      <td>0.014053</td>\n      <td>0.008331</td>\n      <td>wlsubj081</td>\n      <td>0.0005</td>\n      <td>30000</td>\n      <td>V1</td>\n      <td>broderick</td>\n      <td>5.512441</td>\n      <td>Broderick et al. V1</td>\n      <td>Replication</td>\n      <td>corrected</td>\n    </tr>\n    <tr>\n      <th>8</th>\n      <td>2.308517</td>\n      <td>0.121467</td>\n      <td>0.466216</td>\n      <td>0.047350</td>\n      <td>-0.024477</td>\n      <td>0.147587</td>\n      <td>-0.091119</td>\n      <td>-0.016296</td>\n      <td>0.018711</td>\n      <td>wlsubj095</td>\n      <td>0.0005</td>\n      <td>30000</td>\n      <td>V1</td>\n      <td>broderick</td>\n      <td>6.016436</td>\n      <td>Broderick et al. V1</td>\n      <td>Replication</td>\n      <td>corrected</td>\n    </tr>\n    <tr>\n      <th>9</th>\n      <td>2.092923</td>\n      <td>0.130718</td>\n      <td>0.308122</td>\n      <td>0.066803</td>\n      <td>0.002570</td>\n      <td>0.072842</td>\n      <td>-0.038684</td>\n      <td>0.058610</td>\n      <td>-0.017947</td>\n      <td>wlsubj114</td>\n      <td>0.0005</td>\n      <td>30000</td>\n      <td>V1</td>\n      <td>broderick</td>\n      <td>6.719800</td>\n      <td>Broderick et al. V1</td>\n      <td>Replication</td>\n      <td>corrected</td>\n    </tr>\n    <tr>\n      <th>10</th>\n      <td>1.652565</td>\n      <td>0.182888</td>\n      <td>0.204145</td>\n      <td>0.061744</td>\n      <td>-0.005472</td>\n      <td>0.142311</td>\n      <td>-0.029376</td>\n      <td>0.006723</td>\n      <td>-0.004664</td>\n      <td>wlsubj115</td>\n      <td>0.0005</td>\n      <td>30000</td>\n      <td>V1</td>\n      <td>broderick</td>\n      <td>1.989968</td>\n      <td>Broderick et al. V1</td>\n      <td>Replication</td>\n      <td>corrected</td>\n    </tr>\n    <tr>\n      <th>11</th>\n      <td>2.569321</td>\n      <td>-0.013830</td>\n      <td>0.906560</td>\n      <td>0.114699</td>\n      <td>0.007952</td>\n      <td>0.161020</td>\n      <td>-0.043632</td>\n      <td>0.024995</td>\n      <td>-0.000337</td>\n      <td>wlsubj121</td>\n      <td>0.0005</td>\n      <td>30000</td>\n      <td>V1</td>\n      <td>broderick</td>\n      <td>5.596000</td>\n      <td>Broderick et al. V1</td>\n      <td>Replication</td>\n      <td>corrected</td>\n    </tr>\n    <tr>\n      <th>0</th>\n      <td>2.490021</td>\n      <td>0.139594</td>\n      <td>0.217478</td>\n      <td>0.022201</td>\n      <td>-0.021813</td>\n      <td>-0.274858</td>\n      <td>-0.012191</td>\n      <td>0.023888</td>\n      <td>-0.006918</td>\n      <td>subj01</td>\n      <td>0.0005</td>\n      <td>30000</td>\n      <td>V1</td>\n      <td>nsdsyn</td>\n      <td>1.342082</td>\n      <td>NSD V1</td>\n      <td>Replication</td>\n      <td>NaN</td>\n    </tr>\n    <tr>\n      <th>1</th>\n      <td>5.543962</td>\n      <td>0.230673</td>\n      <td>0.313956</td>\n      <td>0.027977</td>\n      <td>-0.002200</td>\n      <td>-1.300301</td>\n      <td>0.388318</td>\n      <td>-0.001618</td>\n      <td>-0.003984</td>\n      <td>subj01</td>\n      <td>0.0005</td>\n      <td>30000</td>\n      <td>V2</td>\n      <td>nsdsyn</td>\n      <td>1.548457</td>\n      <td>NSD V2</td>\n      <td>Extension</td>\n      <td>NaN</td>\n    </tr>\n    <tr>\n      <th>2</th>\n      <td>4.952771</td>\n      <td>0.175571</td>\n      <td>0.289297</td>\n      <td>-0.024290</td>\n      <td>-0.021548</td>\n      <td>-1.176202</td>\n      <td>0.330713</td>\n      <td>0.042333</td>\n      <td>-0.006572</td>\n      <td>subj01</td>\n      <td>0.0005</td>\n      <td>30000</td>\n      <td>V3</td>\n      <td>nsdsyn</td>\n      <td>2.596731</td>\n      <td>NSD V3</td>\n      <td>Extension</td>\n      <td>NaN</td>\n    </tr>\n    <tr>\n      <th>3</th>\n      <td>2.009928</td>\n      <td>0.124187</td>\n      <td>0.090198</td>\n      <td>0.101903</td>\n      <td>-0.053708</td>\n      <td>-0.001964</td>\n      <td>-0.054230</td>\n      <td>0.006940</td>\n      <td>0.006901</td>\n      <td>subj02</td>\n      <td>0.0005</td>\n      <td>30000</td>\n      <td>V1</td>\n      <td>nsdsyn</td>\n      <td>0.758509</td>\n      <td>NSD V1</td>\n      <td>Replication</td>\n      <td>NaN</td>\n    </tr>\n    <tr>\n      <th>4</th>\n      <td>3.414492</td>\n      <td>0.312690</td>\n      <td>0.004236</td>\n      <td>-0.175029</td>\n      <td>-0.189858</td>\n      <td>-0.184870</td>\n      <td>0.009310</td>\n      <td>-0.012834</td>\n      <td>-0.059446</td>\n      <td>subj02</td>\n      <td>0.0005</td>\n      <td>30000</td>\n      <td>V2</td>\n      <td>nsdsyn</td>\n      <td>0.881836</td>\n      <td>NSD V2</td>\n      <td>Extension</td>\n      <td>NaN</td>\n    </tr>\n    <tr>\n      <th>5</th>\n      <td>3.735031</td>\n      <td>0.215806</td>\n      <td>0.003350</td>\n      <td>-0.155246</td>\n      <td>-0.029568</td>\n      <td>-0.162825</td>\n      <td>0.061312</td>\n      <td>-0.002249</td>\n      <td>-0.018574</td>\n      <td>subj02</td>\n      <td>0.0005</td>\n      <td>30000</td>\n      <td>V3</td>\n      <td>nsdsyn</td>\n      <td>1.366474</td>\n      <td>NSD V3</td>\n      <td>Extension</td>\n      <td>NaN</td>\n    </tr>\n    <tr>\n      <th>6</th>\n      <td>2.529316</td>\n      <td>0.054894</td>\n      <td>0.109951</td>\n      <td>0.045723</td>\n      <td>0.009979</td>\n      <td>0.132809</td>\n      <td>-0.127411</td>\n      <td>0.005100</td>\n      <td>-0.009297</td>\n      <td>subj03</td>\n      <td>0.0005</td>\n      <td>30000</td>\n      <td>V1</td>\n      <td>nsdsyn</td>\n      <td>0.451902</td>\n      <td>NSD V1</td>\n      <td>Replication</td>\n      <td>NaN</td>\n    </tr>\n    <tr>\n      <th>7</th>\n      <td>3.113770</td>\n      <td>0.124130</td>\n      <td>0.022593</td>\n      <td>-0.034448</td>\n      <td>-0.089924</td>\n      <td>0.009114</td>\n      <td>-0.118260</td>\n      <td>0.019569</td>\n      <td>0.009351</td>\n      <td>subj03</td>\n      <td>0.0005</td>\n      <td>30000</td>\n      <td>V2</td>\n      <td>nsdsyn</td>\n      <td>0.748543</td>\n      <td>NSD V2</td>\n      <td>Extension</td>\n      <td>NaN</td>\n    </tr>\n    <tr>\n      <th>8</th>\n      <td>3.751331</td>\n      <td>0.111387</td>\n      <td>0.002604</td>\n      <td>-0.044083</td>\n      <td>0.013960</td>\n      <td>-0.080169</td>\n      <td>-0.109286</td>\n      <td>0.026123</td>\n      <td>0.004000</td>\n      <td>subj03</td>\n      <td>0.0005</td>\n      <td>30000</td>\n      <td>V3</td>\n      <td>nsdsyn</td>\n      <td>1.522384</td>\n      <td>NSD V3</td>\n      <td>Extension</td>\n      <td>NaN</td>\n    </tr>\n    <tr>\n      <th>9</th>\n      <td>1.979350</td>\n      <td>0.182145</td>\n      <td>0.122061</td>\n      <td>0.046359</td>\n      <td>-0.014748</td>\n      <td>0.117450</td>\n      <td>-0.143140</td>\n      <td>0.036360</td>\n      <td>-0.017871</td>\n      <td>subj04</td>\n      <td>0.0005</td>\n      <td>30000</td>\n      <td>V1</td>\n      <td>nsdsyn</td>\n      <td>1.112438</td>\n      <td>NSD V1</td>\n      <td>Replication</td>\n      <td>NaN</td>\n    </tr>\n    <tr>\n      <th>10</th>\n      <td>3.412445</td>\n      <td>0.106503</td>\n      <td>0.234342</td>\n      <td>-0.178645</td>\n      <td>-0.061359</td>\n      <td>0.057521</td>\n      <td>-0.171238</td>\n      <td>-0.010077</td>\n      <td>-0.012231</td>\n      <td>subj04</td>\n      <td>0.0005</td>\n      <td>30000</td>\n      <td>V2</td>\n      <td>nsdsyn</td>\n      <td>0.872796</td>\n      <td>NSD V2</td>\n      <td>Extension</td>\n      <td>NaN</td>\n    </tr>\n    <tr>\n      <th>11</th>\n      <td>3.451084</td>\n      <td>0.105578</td>\n      <td>0.140842</td>\n      <td>0.060442</td>\n      <td>-0.002468</td>\n      <td>0.126295</td>\n      <td>-0.138717</td>\n      <td>0.000895</td>\n      <td>-0.011489</td>\n      <td>subj04</td>\n      <td>0.0005</td>\n      <td>30000</td>\n      <td>V3</td>\n      <td>nsdsyn</td>\n      <td>0.781527</td>\n      <td>NSD V3</td>\n      <td>Extension</td>\n      <td>NaN</td>\n    </tr>\n    <tr>\n      <th>12</th>\n      <td>2.611645</td>\n      <td>0.110086</td>\n      <td>0.135820</td>\n      <td>-0.044682</td>\n      <td>-0.041766</td>\n      <td>-0.101905</td>\n      <td>-0.142334</td>\n      <td>0.007385</td>\n      <td>-0.010490</td>\n      <td>subj05</td>\n      <td>0.0005</td>\n      <td>30000</td>\n      <td>V1</td>\n      <td>nsdsyn</td>\n      <td>0.595493</td>\n      <td>NSD V1</td>\n      <td>Replication</td>\n      <td>NaN</td>\n    </tr>\n    <tr>\n      <th>13</th>\n      <td>3.272760</td>\n      <td>0.137002</td>\n      <td>0.189353</td>\n      <td>-0.120416</td>\n      <td>-0.078459</td>\n      <td>-0.452903</td>\n      <td>-0.044138</td>\n      <td>0.000689</td>\n      <td>0.000809</td>\n      <td>subj05</td>\n      <td>0.0005</td>\n      <td>30000</td>\n      <td>V2</td>\n      <td>nsdsyn</td>\n      <td>0.737055</td>\n      <td>NSD V2</td>\n      <td>Extension</td>\n      <td>NaN</td>\n    </tr>\n    <tr>\n      <th>14</th>\n      <td>6.245852</td>\n      <td>0.219378</td>\n      <td>0.208048</td>\n      <td>-0.092032</td>\n      <td>0.054810</td>\n      <td>-1.242572</td>\n      <td>0.359264</td>\n      <td>0.014943</td>\n      <td>-0.014952</td>\n      <td>subj05</td>\n      <td>0.0005</td>\n      <td>30000</td>\n      <td>V3</td>\n      <td>nsdsyn</td>\n      <td>0.821630</td>\n      <td>NSD V3</td>\n      <td>Extension</td>\n      <td>NaN</td>\n    </tr>\n    <tr>\n      <th>15</th>\n      <td>2.102069</td>\n      <td>0.172470</td>\n      <td>0.213249</td>\n      <td>0.114772</td>\n      <td>0.014219</td>\n      <td>0.129493</td>\n      <td>-0.170258</td>\n      <td>0.020818</td>\n      <td>-0.030411</td>\n      <td>subj06</td>\n      <td>0.0005</td>\n      <td>30000</td>\n      <td>V1</td>\n      <td>nsdsyn</td>\n      <td>1.053529</td>\n      <td>NSD V1</td>\n      <td>Replication</td>\n      <td>NaN</td>\n    </tr>\n    <tr>\n      <th>16</th>\n      <td>2.838126</td>\n      <td>0.180648</td>\n      <td>0.328005</td>\n      <td>0.120269</td>\n      <td>-0.106788</td>\n      <td>0.127277</td>\n      <td>-0.188415</td>\n      <td>0.002888</td>\n      <td>-0.041018</td>\n      <td>subj06</td>\n      <td>0.0005</td>\n      <td>30000</td>\n      <td>V2</td>\n      <td>nsdsyn</td>\n      <td>1.866259</td>\n      <td>NSD V2</td>\n      <td>Extension</td>\n      <td>NaN</td>\n    </tr>\n    <tr>\n      <th>17</th>\n      <td>3.093458</td>\n      <td>0.229138</td>\n      <td>0.203357</td>\n      <td>-0.042709</td>\n      <td>-0.097241</td>\n      <td>0.163735</td>\n      <td>-0.159467</td>\n      <td>-0.012089</td>\n      <td>-0.025541</td>\n      <td>subj06</td>\n      <td>0.0005</td>\n      <td>30000</td>\n      <td>V3</td>\n      <td>nsdsyn</td>\n      <td>2.747936</td>\n      <td>NSD V3</td>\n      <td>Extension</td>\n      <td>NaN</td>\n    </tr>\n    <tr>\n      <th>18</th>\n      <td>2.290964</td>\n      <td>0.104453</td>\n      <td>0.098955</td>\n      <td>0.056838</td>\n      <td>-0.155388</td>\n      <td>0.157476</td>\n      <td>-0.195395</td>\n      <td>-0.018938</td>\n      <td>0.002934</td>\n      <td>subj07</td>\n      <td>0.0005</td>\n      <td>30000</td>\n      <td>V1</td>\n      <td>nsdsyn</td>\n      <td>0.512969</td>\n      <td>NSD V1</td>\n      <td>Replication</td>\n      <td>NaN</td>\n    </tr>\n    <tr>\n      <th>19</th>\n      <td>3.148344</td>\n      <td>0.167795</td>\n      <td>0.074803</td>\n      <td>0.087778</td>\n      <td>0.017498</td>\n      <td>0.061265</td>\n      <td>-0.100846</td>\n      <td>-0.023869</td>\n      <td>0.005095</td>\n      <td>subj07</td>\n      <td>0.0005</td>\n      <td>30000</td>\n      <td>V2</td>\n      <td>nsdsyn</td>\n      <td>0.585363</td>\n      <td>NSD V2</td>\n      <td>Extension</td>\n      <td>NaN</td>\n    </tr>\n    <tr>\n      <th>20</th>\n      <td>3.458214</td>\n      <td>0.117769</td>\n      <td>0.097653</td>\n      <td>-0.001885</td>\n      <td>-0.105645</td>\n      <td>0.177152</td>\n      <td>-0.145720</td>\n      <td>-0.016101</td>\n      <td>-0.000384</td>\n      <td>subj07</td>\n      <td>0.0005</td>\n      <td>30000</td>\n      <td>V3</td>\n      <td>nsdsyn</td>\n      <td>0.820911</td>\n      <td>NSD V3</td>\n      <td>Extension</td>\n      <td>NaN</td>\n    </tr>\n    <tr>\n      <th>21</th>\n      <td>2.554011</td>\n      <td>0.208712</td>\n      <td>0.096840</td>\n      <td>0.053212</td>\n      <td>-0.016782</td>\n      <td>-0.317137</td>\n      <td>-0.148563</td>\n      <td>0.037118</td>\n      <td>-0.018485</td>\n      <td>subj08</td>\n      <td>0.0005</td>\n      <td>30000</td>\n      <td>V1</td>\n      <td>nsdsyn</td>\n      <td>0.421552</td>\n      <td>NSD V1</td>\n      <td>Replication</td>\n      <td>NaN</td>\n    </tr>\n    <tr>\n      <th>22</th>\n      <td>3.293100</td>\n      <td>0.208687</td>\n      <td>0.106266</td>\n      <td>-0.046445</td>\n      <td>-0.035245</td>\n      <td>-0.525281</td>\n      <td>-0.070729</td>\n      <td>0.011954</td>\n      <td>-0.018921</td>\n      <td>subj08</td>\n      <td>0.0005</td>\n      <td>30000</td>\n      <td>V2</td>\n      <td>nsdsyn</td>\n      <td>0.637120</td>\n      <td>NSD V2</td>\n      <td>Extension</td>\n      <td>NaN</td>\n    </tr>\n    <tr>\n      <th>23</th>\n      <td>3.454509</td>\n      <td>0.130625</td>\n      <td>0.135655</td>\n      <td>-0.025575</td>\n      <td>-0.017482</td>\n      <td>-0.490179</td>\n      <td>-0.139800</td>\n      <td>0.009032</td>\n      <td>-0.000309</td>\n      <td>subj08</td>\n      <td>0.0005</td>\n      <td>30000</td>\n      <td>V3</td>\n      <td>nsdsyn</td>\n      <td>0.859531</td>\n      <td>NSD V3</td>\n      <td>Extension</td>\n      <td>NaN</td>\n    </tr>\n  </tbody>\n</table>\n</div>"
     },
     "execution_count": 11,
     "metadata": {},
     "output_type": "execute_result"
    }
   ],
   "source": [
    "final_df"
   ],
   "metadata": {
    "collapsed": false,
    "ExecuteTime": {
     "end_time": "2024-08-23T19:38:07.785935Z",
     "start_time": "2024-08-23T19:38:07.729040Z"
    }
   },
   "id": "3bdbbb0e91ae664f",
   "execution_count": 11
  },
  {
   "cell_type": "code",
   "outputs": [
    {
     "data": {
      "text/plain": "             dset_type     slope  intercept\n0  Broderick et al. V1  0.115890   0.369917\n1               NSD V1  0.143683   0.150899\n2               NSD V2  0.188906   0.199878\n3               NSD V3  0.175543   0.155972",
      "text/html": "<div>\n<style scoped>\n    .dataframe tbody tr th:only-of-type {\n        vertical-align: middle;\n    }\n\n    .dataframe tbody tr th {\n        vertical-align: top;\n    }\n\n    .dataframe thead th {\n        text-align: right;\n    }\n</style>\n<table border=\"1\" class=\"dataframe\">\n  <thead>\n    <tr style=\"text-align: right;\">\n      <th></th>\n      <th>dset_type</th>\n      <th>slope</th>\n      <th>intercept</th>\n    </tr>\n  </thead>\n  <tbody>\n    <tr>\n      <th>0</th>\n      <td>Broderick et al. V1</td>\n      <td>0.115890</td>\n      <td>0.369917</td>\n    </tr>\n    <tr>\n      <th>1</th>\n      <td>NSD V1</td>\n      <td>0.143683</td>\n      <td>0.150899</td>\n    </tr>\n    <tr>\n      <th>2</th>\n      <td>NSD V2</td>\n      <td>0.188906</td>\n      <td>0.199878</td>\n    </tr>\n    <tr>\n      <th>3</th>\n      <td>NSD V3</td>\n      <td>0.175543</td>\n      <td>0.155972</td>\n    </tr>\n  </tbody>\n</table>\n</div>"
     },
     "execution_count": 17,
     "metadata": {},
     "output_type": "execute_result"
    }
   ],
   "source": [
    "utils.calculate_weighted_mean(final_df, ['slope','intercept'], 'precision', groupby=['dset_type'])\n"
   ],
   "metadata": {
    "collapsed": false,
    "ExecuteTime": {
     "end_time": "2024-08-23T19:43:27.762258Z",
     "start_time": "2024-08-23T19:43:27.727812Z"
    }
   },
   "id": "882dba5fe90da89b",
   "execution_count": 17
  },
  {
   "cell_type": "markdown",
   "source": [
    "# Plot parameter estimates"
   ],
   "metadata": {
    "collapsed": false
   },
   "id": "8814cd8ae4205398"
  },
  {
   "cell_type": "code",
   "outputs": [],
   "source": [],
   "metadata": {
    "collapsed": false
   },
   "id": "239f77bde1207706"
  }
 ],
 "metadata": {
  "kernelspec": {
   "display_name": "Python 3",
   "language": "python",
   "name": "python3"
  },
  "language_info": {
   "codemirror_mode": {
    "name": "ipython",
    "version": 2
   },
   "file_extension": ".py",
   "mimetype": "text/x-python",
   "name": "python",
   "nbconvert_exporter": "python",
   "pygments_lexer": "ipython2",
   "version": "2.7.6"
  }
 },
 "nbformat": 4,
 "nbformat_minor": 5
}
