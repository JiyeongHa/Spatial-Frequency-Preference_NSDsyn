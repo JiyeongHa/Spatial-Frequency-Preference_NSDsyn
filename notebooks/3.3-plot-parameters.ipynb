{
 "cells": [
  {
   "cell_type": "code",
   "id": "initial_id",
   "metadata": {
    "collapsed": true,
    "ExecuteTime": {
     "end_time": "2024-09-10T20:25:16.940264Z",
     "start_time": "2024-09-10T20:25:15.065743Z"
    }
   },
   "source": [
    "import sys\n",
    "sys.path.append('..')\n",
    "import os\n",
    "import pandas as pd\n",
    "import numpy as np\n",
    "import matplotlib.pyplot as plt\n",
    "import seaborn as sns\n",
    "from sfp_nsdsyn import *\n",
    "import warnings\n",
    "import itertools\n",
    "import matplotlib as mpl\n",
    "\n",
    "warnings.filterwarnings(\"ignore\", category=RuntimeWarning)\n",
    "pd.options.mode.chained_assignment = None\n",
    "%load_ext autoreload\n",
    "%autoreload 2"
   ],
   "outputs": [],
   "execution_count": 1
  },
  {
   "cell_type": "code",
   "source": [
    "output_dir='/Volumes/server/Projects/sfp_nsd/derivatives'\n",
    "results_dir = os.path.join(output_dir, 'sfp_model', 'results_2D')\n",
    "fig_dir = os.path.join(output_dir, 'figures', 'sfp_model', 'results_2D')\n",
    "lr = 0.0005\n",
    "max_epoch = 30000\n",
    "dset='nsdsyn'\n",
    "roi_list = ['V1','V2','V3']\n",
    "vsc='pRFsize'\n",
    "nsd_subj_list = [utils.sub_number_to_string(sn, 'nsdsyn') for sn in np.arange(1,9)]\n",
    "broderick_sn_list = [1, 6, 7, 45, 46, 62, 64, 81, 95, 114, 115, 121]\n",
    "broderick_subj_list = [utils.sub_number_to_string(i, 'broderick') for i in broderick_sn_list]\n",
    "ARGS_2D = ['sub','lr','eph','roi','dset']"
   ],
   "metadata": {
    "collapsed": false,
    "ExecuteTime": {
     "end_time": "2024-09-10T20:26:41.673766Z",
     "start_time": "2024-09-10T20:26:41.646224Z"
    }
   },
   "id": "903cfd1c4c95c0f",
   "outputs": [],
   "execution_count": 7
  },
  {
   "cell_type": "markdown",
   "source": [
    "# NSD \n",
    "## model"
   ],
   "metadata": {
    "collapsed": false
   },
   "id": "84bf51b54c18d018"
  },
  {
   "cell_type": "code",
   "source": [
    "pt_file_list = []\n",
    "dset = 'nsdsyn'\n",
    "for subj, roi in itertools.product(nsd_subj_list, ['V1','V2','V3']):\n",
    "    file_name = os.path.join(results_dir, dset, f'model-params_lr-{lr}_eph-{max_epoch}_dset-{dset}_sub-{subj}_roi-{roi}_vs-{vsc}.pt')\n",
    "    pt_file_list.append(file_name)\n",
    "nsd_params = model.load_all_models(pt_file_list, *ARGS_2D)"
   ],
   "metadata": {
    "collapsed": false,
    "ExecuteTime": {
     "end_time": "2024-09-10T20:26:46.048497Z",
     "start_time": "2024-09-10T20:26:45.189121Z"
    }
   },
   "id": "2500a36f1fb4b968",
   "outputs": [],
   "execution_count": 8
  },
  {
   "cell_type": "markdown",
   "source": [
    "## NSD precision"
   ],
   "metadata": {
    "collapsed": false
   },
   "id": "ef7bc7ed82a8d680"
  },
  {
   "cell_type": "code",
   "source": [
    "nsd_precision_s =  pd.read_csv(os.path.join(output_dir, 'dataframes', dset, 'precision', f'precision-s_dset-{dset}_vs-pRFsize.csv'))\n",
    "nsd_df = pd.merge(nsd_params, nsd_precision_s[['sub','vroinames','precision']], on=['sub','vroinames'])"
   ],
   "metadata": {
    "collapsed": false,
    "ExecuteTime": {
     "end_time": "2024-09-10T20:26:53.550238Z",
     "start_time": "2024-09-10T20:26:53.370044Z"
    }
   },
   "id": "20fc54e690b6991",
   "outputs": [],
   "execution_count": 9
  },
  {
   "cell_type": "markdown",
   "source": [
    "# Broderick et al\n",
    "## model"
   ],
   "metadata": {
    "collapsed": false
   },
   "id": "e89a3886747c5c49"
  },
  {
   "cell_type": "code",
   "source": [
    "pt_file_list = []\n",
    "dset = 'broderick'\n",
    "tfunc_types=['corrected']\n",
    "for subj, roi, tfunc in itertools.product(broderick_subj_list, ['V1'], tfunc_types):\n",
    "    file_name = os.path.join(results_dir, dset, f'tfunc-{tfunc}_model_lr-{lr}_eph-{max_epoch}_dset-{dset}_sub-{subj}_roi-{roi}_vs-{vsc}.pt')\n",
    "    pt_file_list.append(file_name)\n",
    "broderick_params = model.load_all_models(pt_file_list, *ARGS_2D+['tfunc'])\n",
    "broderick_params.replace({'tfunc': {'derick/tfunc corrected': 'corrected', 'derick/tfunc uncorrected': 'uncorrected'}}, inplace=True)"
   ],
   "metadata": {
    "collapsed": false,
    "ExecuteTime": {
     "end_time": "2024-09-10T20:26:58.032842Z",
     "start_time": "2024-09-10T20:26:56.236743Z"
    }
   },
   "id": "f57e523a8cd7e80e",
   "outputs": [],
   "execution_count": 10
  },
  {
   "cell_type": "markdown",
   "source": [
    "## broderick precision"
   ],
   "metadata": {
    "collapsed": false
   },
   "id": "fed10e7bfa733373"
  },
  {
   "cell_type": "code",
   "source": [
    "broderick_precision_s =  pd.read_csv(os.path.join(output_dir, 'dataframes', dset, 'precision', f'precision-s_dset-{dset}_vs-pRFsize.csv'))\n",
    "all_broderick_df = pd.merge(broderick_params, broderick_precision_s[['sub','vroinames','precision']], on=['sub','vroinames'])"
   ],
   "metadata": {
    "collapsed": false,
    "ExecuteTime": {
     "end_time": "2024-09-10T20:26:59.735144Z",
     "start_time": "2024-09-10T20:26:59.274761Z"
    }
   },
   "id": "97ac4b2146b98d25",
   "outputs": [],
   "execution_count": 11
  },
  {
   "cell_type": "code",
   "source": [
    "broderick_df = all_broderick_df.query('tfunc == \"corrected\"')\n",
    "broderick_df['dset_type'] = 'Broderick et al. V1'\n",
    "nsd_df['dset_type'] = nsd_df['vroinames'].apply(lambda x: f'NSD {x}')\n",
    "final_df = pd.concat((broderick_df, nsd_df), axis=0)"
   ],
   "metadata": {
    "collapsed": false,
    "ExecuteTime": {
     "end_time": "2024-09-10T20:27:00.189660Z",
     "start_time": "2024-09-10T20:27:00.156377Z"
    }
   },
   "id": "cb5bce5425303c4a",
   "outputs": [],
   "execution_count": 12
  },
  {
   "cell_type": "code",
   "source": [
    "final_df['goal'] = final_df['vroinames'].apply(lambda x: 'Replication' if x == \"V1\" else 'Extension')\n",
    "tmp = nsd_df.query('vroinames == \"V1\"')\n",
    "tmp['goal'] = 'Extension'\n",
    "final_df = pd.concat((tmp, final_df), axis=0)\n"
   ],
   "metadata": {
    "collapsed": false,
    "ExecuteTime": {
     "end_time": "2024-09-10T20:27:01.883683Z",
     "start_time": "2024-09-10T20:27:01.852827Z"
    }
   },
   "id": "574c66b5c9bf2b4b",
   "outputs": [],
   "execution_count": 13
  },
  {
   "cell_type": "code",
   "outputs": [
    {
     "data": {
      "text/plain": "             dset_type       A_1       A_2\n0  Broderick et al. V1  0.011701  0.000306\n1               NSD V1  0.017979 -0.011636\n2               NSD V2 -0.001070 -0.018698\n3               NSD V3  0.010500 -0.011148",
      "text/html": "<div>\n<style scoped>\n    .dataframe tbody tr th:only-of-type {\n        vertical-align: middle;\n    }\n\n    .dataframe tbody tr th {\n        vertical-align: top;\n    }\n\n    .dataframe thead th {\n        text-align: right;\n    }\n</style>\n<table border=\"1\" class=\"dataframe\">\n  <thead>\n    <tr style=\"text-align: right;\">\n      <th></th>\n      <th>dset_type</th>\n      <th>A_1</th>\n      <th>A_2</th>\n    </tr>\n  </thead>\n  <tbody>\n    <tr>\n      <th>0</th>\n      <td>Broderick et al. V1</td>\n      <td>0.011701</td>\n      <td>0.000306</td>\n    </tr>\n    <tr>\n      <th>1</th>\n      <td>NSD V1</td>\n      <td>0.017979</td>\n      <td>-0.011636</td>\n    </tr>\n    <tr>\n      <th>2</th>\n      <td>NSD V2</td>\n      <td>-0.001070</td>\n      <td>-0.018698</td>\n    </tr>\n    <tr>\n      <th>3</th>\n      <td>NSD V3</td>\n      <td>0.010500</td>\n      <td>-0.011148</td>\n    </tr>\n  </tbody>\n</table>\n</div>"
     },
     "execution_count": 13,
     "metadata": {},
     "output_type": "execute_result"
    }
   ],
   "source": [
    "utils.calculate_weighted_mean(final_df, ['A_1','A_2'], 'precision', groupby=['dset_type'])\n"
   ],
   "metadata": {
    "collapsed": false,
    "ExecuteTime": {
     "end_time": "2024-08-30T18:31:42.972369Z",
     "start_time": "2024-08-30T18:31:42.937379Z"
    }
   },
   "id": "882dba5fe90da89b",
   "execution_count": 13
  },
  {
   "cell_type": "markdown",
   "source": [
    "# Plot parameter estimates"
   ],
   "metadata": {
    "collapsed": false
   },
   "id": "8814cd8ae4205398"
  },
  {
   "cell_type": "code",
   "outputs": [
    {
     "data": {
      "text/plain": "             dset_type       p_1       p_2\n0  Broderick et al. V1  0.023768 -0.024918\n1               NSD V1  0.052048 -0.028581\n2               NSD V2 -0.017168 -0.071220\n3               NSD V3 -0.044421 -0.034815",
      "text/html": "<div>\n<style scoped>\n    .dataframe tbody tr th:only-of-type {\n        vertical-align: middle;\n    }\n\n    .dataframe tbody tr th {\n        vertical-align: top;\n    }\n\n    .dataframe thead th {\n        text-align: right;\n    }\n</style>\n<table border=\"1\" class=\"dataframe\">\n  <thead>\n    <tr style=\"text-align: right;\">\n      <th></th>\n      <th>dset_type</th>\n      <th>p_1</th>\n      <th>p_2</th>\n    </tr>\n  </thead>\n  <tbody>\n    <tr>\n      <th>0</th>\n      <td>Broderick et al. V1</td>\n      <td>0.023768</td>\n      <td>-0.024918</td>\n    </tr>\n    <tr>\n      <th>1</th>\n      <td>NSD V1</td>\n      <td>0.052048</td>\n      <td>-0.028581</td>\n    </tr>\n    <tr>\n      <th>2</th>\n      <td>NSD V2</td>\n      <td>-0.017168</td>\n      <td>-0.071220</td>\n    </tr>\n    <tr>\n      <th>3</th>\n      <td>NSD V3</td>\n      <td>-0.044421</td>\n      <td>-0.034815</td>\n    </tr>\n  </tbody>\n</table>\n</div>"
     },
     "execution_count": 14,
     "metadata": {},
     "output_type": "execute_result"
    }
   ],
   "source": [
    "utils.calculate_weighted_mean(final_df, ['p_1','p_2'], 'precision', groupby=['dset_type'])\n"
   ],
   "metadata": {
    "collapsed": false,
    "ExecuteTime": {
     "end_time": "2024-08-30T18:46:58.321735Z",
     "start_time": "2024-08-30T18:46:58.283337Z"
    }
   },
   "id": "239f77bde1207706",
   "execution_count": 14
  },
  {
   "cell_type": "code",
   "outputs": [],
   "source": [],
   "metadata": {
    "collapsed": false
   },
   "id": "c4c0b9c4da42b67b",
   "execution_count": null
  }
 ],
 "metadata": {
  "kernelspec": {
   "display_name": "Python 3",
   "language": "python",
   "name": "python3"
  },
  "language_info": {
   "codemirror_mode": {
    "name": "ipython",
    "version": 2
   },
   "file_extension": ".py",
   "mimetype": "text/x-python",
   "name": "python",
   "nbconvert_exporter": "python",
   "pygments_lexer": "ipython2",
   "version": "2.7.6"
  }
 },
 "nbformat": 4,
 "nbformat_minor": 5
}
