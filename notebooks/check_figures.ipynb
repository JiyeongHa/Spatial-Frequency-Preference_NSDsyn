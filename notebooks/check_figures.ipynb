{
 "cells": [
  {
   "cell_type": "markdown",
   "metadata": {
    "pycharm": {
     "name": "#%% md\n"
    }
   },
   "source": [
    "# Check the figures"
   ]
  },
  {
   "cell_type": "code",
   "execution_count": 1,
   "metadata": {
    "collapsed": false,
    "jupyter": {
     "outputs_hidden": false
    },
    "pycharm": {
     "name": "#%%\n"
    }
   },
   "outputs": [],
   "source": [
    "import sys\n",
    "sys.path.append('../')\n",
    "%matplotlib inline\n",
    "%load_ext autoreload\n",
    "%autoreload 2\n",
    "import make_df as mdf\n",
    "import binning_eccen as binning\n",
    "import numpy as np"
   ]
  },
  {
   "cell_type": "code",
   "execution_count": 39,
   "metadata": {
    "collapsed": false,
    "jupyter": {
     "outputs_hidden": false
    },
    "pycharm": {
     "name": "#%%\n"
    }
   },
   "outputs": [],
   "source": [
    "avg_df = binning.get_all_subj_df(subjects_to_run=np.arange(1, 9), dv_to_group=[\"subj\", \"vroinames\", \"eccrois\", \"freq_lvl\"])"
   ]
  },
  {
   "cell_type": "code",
   "execution_count": 34,
   "metadata": {
    "collapsed": false,
    "jupyter": {
     "outputs_hidden": false
    },
    "pycharm": {
     "name": "#%%\n"
    }
   },
   "outputs": [
    {
     "data": {
      "text/html": [
       "<div>\n",
       "<style scoped>\n",
       "    .dataframe tbody tr th:only-of-type {\n",
       "        vertical-align: middle;\n",
       "    }\n",
       "\n",
       "    .dataframe tbody tr th {\n",
       "        vertical-align: top;\n",
       "    }\n",
       "\n",
       "    .dataframe thead th {\n",
       "        text-align: right;\n",
       "    }\n",
       "</style>\n",
       "<table border=\"1\" class=\"dataframe\">\n",
       "  <thead>\n",
       "    <tr style=\"text-align: right;\">\n",
       "      <th></th>\n",
       "      <th>subj</th>\n",
       "      <th>vroinames</th>\n",
       "      <th>eccrois</th>\n",
       "      <th>freq_lvl</th>\n",
       "      <th>beta</th>\n",
       "      <th>local_ori</th>\n",
       "      <th>local_sf</th>\n",
       "    </tr>\n",
       "  </thead>\n",
       "  <tbody>\n",
       "    <tr>\n",
       "      <th>0</th>\n",
       "      <td>subj01</td>\n",
       "      <td>V1</td>\n",
       "      <td>1.0</td>\n",
       "      <td>0</td>\n",
       "      <td>1.317724</td>\n",
       "      <td>1.549960</td>\n",
       "      <td>3.049521</td>\n",
       "    </tr>\n",
       "    <tr>\n",
       "      <th>1</th>\n",
       "      <td>subj01</td>\n",
       "      <td>V1</td>\n",
       "      <td>1.0</td>\n",
       "      <td>1</td>\n",
       "      <td>1.009445</td>\n",
       "      <td>1.549960</td>\n",
       "      <td>5.467465</td>\n",
       "    </tr>\n",
       "    <tr>\n",
       "      <th>2</th>\n",
       "      <td>subj01</td>\n",
       "      <td>V1</td>\n",
       "      <td>1.0</td>\n",
       "      <td>2</td>\n",
       "      <td>1.170762</td>\n",
       "      <td>1.549960</td>\n",
       "      <td>10.411715</td>\n",
       "    </tr>\n",
       "    <tr>\n",
       "      <th>3</th>\n",
       "      <td>subj01</td>\n",
       "      <td>V1</td>\n",
       "      <td>1.0</td>\n",
       "      <td>3</td>\n",
       "      <td>0.515828</td>\n",
       "      <td>1.573030</td>\n",
       "      <td>19.268526</td>\n",
       "    </tr>\n",
       "    <tr>\n",
       "      <th>4</th>\n",
       "      <td>subj01</td>\n",
       "      <td>V1</td>\n",
       "      <td>1.0</td>\n",
       "      <td>4</td>\n",
       "      <td>0.830220</td>\n",
       "      <td>1.549960</td>\n",
       "      <td>36.179394</td>\n",
       "    </tr>\n",
       "    <tr>\n",
       "      <th>...</th>\n",
       "      <td>...</td>\n",
       "      <td>...</td>\n",
       "      <td>...</td>\n",
       "      <td>...</td>\n",
       "      <td>...</td>\n",
       "      <td>...</td>\n",
       "      <td>...</td>\n",
       "    </tr>\n",
       "    <tr>\n",
       "      <th>955</th>\n",
       "      <td>subj08</td>\n",
       "      <td>V4v</td>\n",
       "      <td>5.0</td>\n",
       "      <td>1</td>\n",
       "      <td>1.261354</td>\n",
       "      <td>1.576913</td>\n",
       "      <td>0.309985</td>\n",
       "    </tr>\n",
       "    <tr>\n",
       "      <th>956</th>\n",
       "      <td>subj08</td>\n",
       "      <td>V4v</td>\n",
       "      <td>5.0</td>\n",
       "      <td>2</td>\n",
       "      <td>1.760824</td>\n",
       "      <td>1.576913</td>\n",
       "      <td>0.590306</td>\n",
       "    </tr>\n",
       "    <tr>\n",
       "      <th>957</th>\n",
       "      <td>subj08</td>\n",
       "      <td>V4v</td>\n",
       "      <td>5.0</td>\n",
       "      <td>3</td>\n",
       "      <td>1.531790</td>\n",
       "      <td>1.574371</td>\n",
       "      <td>1.092454</td>\n",
       "    </tr>\n",
       "    <tr>\n",
       "      <th>958</th>\n",
       "      <td>subj08</td>\n",
       "      <td>V4v</td>\n",
       "      <td>5.0</td>\n",
       "      <td>4</td>\n",
       "      <td>1.434047</td>\n",
       "      <td>1.576913</td>\n",
       "      <td>2.051238</td>\n",
       "    </tr>\n",
       "    <tr>\n",
       "      <th>959</th>\n",
       "      <td>subj08</td>\n",
       "      <td>V4v</td>\n",
       "      <td>5.0</td>\n",
       "      <td>5</td>\n",
       "      <td>1.526031</td>\n",
       "      <td>1.576913</td>\n",
       "      <td>3.807323</td>\n",
       "    </tr>\n",
       "  </tbody>\n",
       "</table>\n",
       "<p>960 rows × 7 columns</p>\n",
       "</div>"
      ],
      "text/plain": [
       "       subj vroinames  eccrois  freq_lvl      beta  local_ori   local_sf\n",
       "0    subj01        V1      1.0         0  1.317724   1.549960   3.049521\n",
       "1    subj01        V1      1.0         1  1.009445   1.549960   5.467465\n",
       "2    subj01        V1      1.0         2  1.170762   1.549960  10.411715\n",
       "3    subj01        V1      1.0         3  0.515828   1.573030  19.268526\n",
       "4    subj01        V1      1.0         4  0.830220   1.549960  36.179394\n",
       "..      ...       ...      ...       ...       ...        ...        ...\n",
       "955  subj08       V4v      5.0         1  1.261354   1.576913   0.309985\n",
       "956  subj08       V4v      5.0         2  1.760824   1.576913   0.590306\n",
       "957  subj08       V4v      5.0         3  1.531790   1.574371   1.092454\n",
       "958  subj08       V4v      5.0         4  1.434047   1.576913   2.051238\n",
       "959  subj08       V4v      5.0         5  1.526031   1.576913   3.807323\n",
       "\n",
       "[960 rows x 7 columns]"
      ]
     },
     "execution_count": 34,
     "metadata": {},
     "output_type": "execute_result"
    }
   ],
   "source": [
    "avg_df.head()"
   ]
  },
  {
   "cell_type": "code",
   "execution_count": 42,
   "metadata": {
    "collapsed": false,
    "jupyter": {
     "outputs_hidden": false
    },
    "pycharm": {
     "name": "#%%\n"
    }
   },
   "outputs": [
    {
     "data": {
      "image/png": "[encoded data removed]",
      "text/plain": [
       "<Figure size 1080x216 with 5 Axes>"
      ]
     },
     "metadata": {
      "needs_background": "light"
     },
     "output_type": "display_data"
    },
    {
     "data": {
      "text/plain": [
       "<seaborn.axisgrid.FacetGrid at 0x7fcd295dde10>"
      ]
     },
     "execution_count": 42,
     "metadata": {},
     "output_type": "execute_result"
    }
   ],
   "source": [
    "binning.barplot_2D(avg_df, save_fig=True)"
   ]
  },
  {
   "cell_type": "markdown",
   "metadata": {
    "pycharm": {
     "name": "#%% md\n"
    }
   },
   "source": [
    "Oops, something's wrong... My figure is not the same as Kendrick's.\n",
    "I need to check\n",
    "    1) if Kendrick's beta values are RR values. - yes\n",
    "    2) the way I merge dataframes\n",
    "    3)"
   ]
  },
  {
   "cell_type": "markdown",
   "metadata": {
    "pycharm": {
     "name": "#%% md\n"
    }
   },
   "source": [
    "Let's check subj01 and start checking from make_df.py."
   ]
  },
  {
   "cell_type": "code",
   "execution_count": 45,
   "metadata": {
    "collapsed": false,
    "jupyter": {
     "outputs_hidden": false
    },
    "pycharm": {
     "name": "#%%\n"
    }
   },
   "outputs": [
    {
     "data": {
      "image/png": "[encoded data removed]",
      "text/plain": [
       "<Figure size 1080x216 with 5 Axes>"
      ]
     },
     "metadata": {
      "needs_background": "light"
     },
     "output_type": "display_data"
    },
    {
     "data": {
      "text/plain": [
       "<seaborn.axisgrid.FacetGrid at 0x7fce189b6510>"
      ]
     },
     "execution_count": 45,
     "metadata": {},
     "output_type": "execute_result"
    }
   ],
   "source": [
    "subj01_df = binning.get_all_subj_df(subjects_to_run=np.arange(1, 2), dv_to_group=[\"subj\", \"vroinames\", \"eccrois\", \"freq_lvl\"])\n",
    "binning.barplot_2D(subj01_df, save_fig=True)"
   ]
  },
  {
   "cell_type": "code",
   "execution_count": 3,
   "metadata": {
    "collapsed": false,
    "jupyter": {
     "outputs_hidden": false
    },
    "pycharm": {
     "name": "#%%\n"
    }
   },
   "outputs": [
    {
     "ename": "NameError",
     "evalue": "name 'avg_df' is not defined",
     "output_type": "error",
     "traceback": [
      "\u001b[0;31m---------------------------------------------------------------------------\u001b[0m",
      "\u001b[0;31mNameError\u001b[0m                                 Traceback (most recent call last)",
      "\u001b[0;32m/var/folders/dc/rp0klyw131l30jr45p7_7gnnnl2r2_/T/ipykernel_49494/706479847.py\u001b[0m in \u001b[0;36m<module>\u001b[0;34m\u001b[0m\n\u001b[0;32m----> 1\u001b[0;31m \u001b[0mbinning\u001b[0m\u001b[0;34m.\u001b[0m\u001b[0mlineplot_2D\u001b[0m\u001b[0;34m(\u001b[0m\u001b[0mmean_df\u001b[0m\u001b[0;34m=\u001b[0m\u001b[0mavg_df\u001b[0m\u001b[0;34m,\u001b[0m \u001b[0msubj\u001b[0m\u001b[0;34m=\u001b[0m\u001b[0;34m'avg'\u001b[0m\u001b[0;34m,\u001b[0m \u001b[0merr\u001b[0m\u001b[0;34m=\u001b[0m\u001b[0;32mNone\u001b[0m\u001b[0;34m,\u001b[0m \u001b[0merr_style\u001b[0m\u001b[0;34m=\u001b[0m\u001b[0;32mNone\u001b[0m\u001b[0;34m,\u001b[0m \u001b[0msave_fig\u001b[0m\u001b[0;34m=\u001b[0m\u001b[0;32mFalse\u001b[0m\u001b[0;34m)\u001b[0m\u001b[0;34m\u001b[0m\u001b[0;34m\u001b[0m\u001b[0m\n\u001b[0m",
      "\u001b[0;31mNameError\u001b[0m: name 'avg_df' is not defined"
     ]
    }
   ],
   "source": [
    "binning.lineplot_2D(mean_df=avg_df, subj='avg', err=None, err_style=None, save_fig=False)\n"
   ]
  },
  {
   "cell_type": "code",
   "execution_count": null,
   "metadata": {
    "collapsed": false,
    "jupyter": {
     "outputs_hidden": false
    },
    "pycharm": {
     "name": "#%%\n"
    }
   },
   "outputs": [],
   "source": []
  }
 ],
 "metadata": {
  "kernelspec": {
   "display_name": "Python 3 (ipykernel)",
   "language": "python",
   "name": "python3"
  },
  "language_info": {
   "codemirror_mode": {
    "name": "ipython",
    "version": 3
   },
   "file_extension": ".py",
   "mimetype": "text/x-python",
   "name": "python",
   "nbconvert_exporter": "python",
   "pygments_lexer": "ipython3",
   "version": "3.7.12"
  }
 },
 "nbformat": 4,
 "nbformat_minor": 4
}
