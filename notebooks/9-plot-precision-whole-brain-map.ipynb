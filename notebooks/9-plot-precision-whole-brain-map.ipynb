{
 "cells": [
  {
   "cell_type": "code",
   "execution_count": 193,
   "metadata": {},
   "outputs": [
    {
     "name": "stdout",
     "output_type": "stream",
     "text": [
      "The autoreload extension is already loaded. To reload it, use:\n",
      "  %reload_ext autoreload\n"
     ]
    }
   ],
   "source": [
    "import os\n",
    "import numpy as np\n",
    "import seaborn as sns\n",
    "import matplotlib as mpl\n",
    "import matplotlib.pyplot as plt\n",
    "import pysurfer.freeview_helper as pyview\n",
    "from itertools import product\n",
    "from sfp_nsdsyn import utils\n",
    "from pysurfer.mgz_helper import load_mgzs, map_values_as_mgz\n",
    "\n",
    "%load_ext autoreload\n",
    "%autoreload 2"
   ]
  },
  {
   "cell_type": "markdown",
   "source": [
    "# Configurations"
   ],
   "metadata": {
    "collapsed": false,
    "pycharm": {
     "name": "#%% md\n"
    }
   }
  },
  {
   "cell_type": "code",
   "execution_count": 185,
   "outputs": [],
   "source": [
    "nsd_dir ='/Volumes/server/Projects/sfp_nsd/natural-scenes-dataset'\n",
    "output_dir='/Volumes/server/Projects/sfp_nsd/derivatives'\n",
    "fs_subj_dir='/Volumes/server/Projects/sfp_nsd/natural-scenes-dataset/nsddata/freesurfer'\n",
    "overlay_dir='/Volumes/server/Projects/sfp_nsd/derivatives/sfp_maps/mgzs/nsdsyn'\n",
    "fig_dir='/Volumes/server/Projects/sfp_nsd/derivatives/figures/brain_maps/nsdsyn'"
   ],
   "metadata": {
    "collapsed": false,
    "pycharm": {
     "name": "#%%\n"
    }
   }
  },
  {
   "cell_type": "code",
   "execution_count": 62,
   "outputs": [],
   "source": [
    "sn_list = [f'subj{sn:02d}' for sn in np.arange(1,9)]"
   ],
   "metadata": {
    "collapsed": false,
    "pycharm": {
     "name": "#%%\n"
    }
   }
  },
  {
   "cell_type": "code",
   "execution_count": 166,
   "outputs": [],
   "source": [
    "ret_colors = sns.color_palette('Blues_r', as_cmap=True)\n",
    "ret_colors = np.round(ret_colors(np.linspace(0,1, 8)[::2])[:,0:3]*255).astype(int)\n",
    "ret_colors = [np.asarray(ret_colors[k, :]) for k in range(3) for _ in range(2)] + [np.asarray(ret_colors[3,:])]\n",
    "\n",
    "ffas_colors = [np.asarray([255,0,255]), np.asarray([255,0,255])]\n",
    "ppa_color = [np.asarray([0,0,0])]\n",
    "\n",
    "label_colors = ret_colors + ffas_colors + ppa_color\n",
    "\n",
    "labels = ['V1v', 'V1d', 'V2v','V2d', 'V3v','V3d', 'hV4', 'aFFA', 'pFFA', 'PPA']\n",
    "labels = [f'{roi}.label' for roi in labels]"
   ],
   "metadata": {
    "collapsed": false,
    "pycharm": {
     "name": "#%%\n"
    }
   }
  },
  {
   "cell_type": "code",
   "execution_count": 161,
   "outputs": [],
   "source": [
    "# Additional matplotlib preferences:\n",
    "font_data = {'family':'sans-serif',\n",
    "             'sans-serif':['HelveticaNeue', 'Helvetica', 'Arial'],\n",
    "             'size': 10}\n",
    "mpl.rc('font',**font_data)\n",
    "# we want relatively high-res images, especially when saving to disk.\n",
    "#mpl.rcParams['figure.dpi'] = 72*2\n",
    "#mpl.rcParams['savefig.dpi'] = 72*4"
   ],
   "metadata": {
    "collapsed": false,
    "pycharm": {
     "name": "#%%\n"
    }
   }
  },
  {
   "cell_type": "markdown",
   "source": [
    "# Distributions of precision map values"
   ],
   "metadata": {
    "collapsed": false,
    "pycharm": {
     "name": "#%% md\n"
    }
   }
  },
  {
   "cell_type": "code",
   "execution_count": 69,
   "outputs": [],
   "source": [
    "all_precisions = []\n",
    "for sn in sn_list:\n",
    "    precision_lh = load_mgzs(os.path.join(overlay_dir,\n",
    "                                             f'lh.sub-{sn}_value-precision.mgz'),\n",
    "                                fdata_only=True, squeeze=True)\n",
    "    precision_rh = load_mgzs(os.path.join(overlay_dir,\n",
    "                                             f'rh.sub-{sn}_value-precision.mgz'),\n",
    "                                fdata_only=True, squeeze=True)\n",
    "    sn_precision = np.concatenate((precision_lh, precision_rh))\n",
    "    all_precisions.append(sn_precision)\n"
   ],
   "metadata": {
    "collapsed": false,
    "pycharm": {
     "name": "#%%\n"
    }
   }
  },
  {
   "cell_type": "code",
   "execution_count": 184,
   "outputs": [
    {
     "data": {
      "text/plain": "<Figure size 864x360 with 8 Axes>",
      "image/png": "[encoded data removed]"
     },
     "metadata": {
      "needs_background": "light"
     },
     "output_type": "display_data"
    }
   ],
   "source": [
    "colors = sns.color_palette(\"husl\", n_colors=len(sn_list))\n",
    "sns.set_context(\"notebook\")\n",
    "# Create a figure with subplots\n",
    "fig, axs = plt.subplots(nrows=1, ncols=len(sn_list), figsize=(12, 5), sharey=True)\n",
    "\n",
    "# Use a for loop to create violin plots for each subject\n",
    "for i, ax in enumerate(axs):\n",
    "    sns.boxplot(data=all_precisions[i], color=colors[i], ax=ax)\n",
    "    ax.set_title('Subject {}'.format(i+1))\n",
    "    ax.set_ylim(-0.05, 8)\n",
    "    ax.set_xticks([])\n",
    "    ax.set_xticklabels([])\n",
    "\n",
    "# Set common ylabel\n",
    "fig.text(0.08, 0.5, 'Precision values', va='center', rotation='vertical')\n",
    "fig.text(0.5, 0.04, 'Subjects', ha='center', va='center')\n",
    "fig.suptitle('Distribution of Precision Values for Each Subject', y=1.02)\n",
    "\n",
    "# Show the plot\n",
    "utils.save_fig(os.path.join(fig_dir, 'quantification', 'violinplot_sub-all_value-precision.png'))\n",
    "plt.show()\n"
   ],
   "metadata": {
    "collapsed": false,
    "pycharm": {
     "name": "#%%\n"
    }
   }
  },
  {
   "cell_type": "markdown",
   "source": [
    "# Show individual precision mask"
   ],
   "metadata": {
    "collapsed": false,
    "pycharm": {
     "name": "#%% md\n"
    }
   }
  },
  {
   "cell_type": "code",
   "execution_count": 167,
   "outputs": [],
   "source": [
    "overlay_custom = pyview.make_custom_color_palettes_for_overlay(plt.get_cmap('autumn'),\n",
    "                                                               val_range=(0,6), n=50)"
   ],
   "metadata": {
    "collapsed": false,
    "pycharm": {
     "name": "#%%\n"
    }
   }
  },
  {
   "cell_type": "code",
   "execution_count": 182,
   "outputs": [],
   "source": [
    "for sn in sn_list[3:]:\n",
    "    overlay_file=f'sub-{sn}_value-precision.mgz'\n",
    "    label_dir=os.path.join(fs_subj_dir, sn, 'label')\n",
    "    save_path = os.path.join(fig_dir, 'ss', f'ss_sub-{sn}_value-precision.mgz')\n",
    "    lh_labels, lh_colors = pyview.get_subj_wise_labels('lh', labels, label_colors, label_dir)\n",
    "    lh_obj = pyview.PyFreeview(fs_subj_dir,\n",
    "                               sn, 'lh', surf=surf, labels=lh_labels, label_dir=label_dir,\n",
    "                               overlay=overlay_file, overlay_dir=overlay_dir)\n",
    "\n",
    "    rh_labels, rh_colors = pyview.get_subj_wise_labels('rh', labels, label_colors, label_dir)\n",
    "    rh_obj = pyview.PyFreeview(fs_subj_dir,\n",
    "                               sn, 'rh', surf=surf, labels=rh_labels, label_dir=label_dir,\n",
    "                               overlay=overlay_file, overlay_dir=overlay_dir,\n",
    "                               view='inferior', cam_list=[1.25,0,-35,0], save_path=save_path)\n",
    "    fnl_cm = lh_obj.to_command(\n",
    "        **{'label_colors': lh_colors,'label_opacity': 1, 'label_outline':  True, 'overlay_custom': overlay_custom}) + ':offset=-60,0,0' + rh_obj.to_command(\n",
    "        **{'label_colors': rh_colors,'label_opacity': 1, 'label_outline':  True, 'overlay_custom': overlay_custom}).split('freeview')[-1] + ' -viewsize 1024 1024'\n",
    "    if sn == 'subj01':\n",
    "        fnl_cm += ' -colorscale'\n",
    "    os.system(fnl_cm)\n"
   ],
   "metadata": {
    "collapsed": false,
    "pycharm": {
     "name": "#%%\n"
    }
   }
  },
  {
   "cell_type": "markdown",
   "source": [
    "# Make mask out of them"
   ],
   "metadata": {
    "collapsed": false,
    "pycharm": {
     "name": "#%% md\n"
    }
   }
  },
  {
   "cell_type": "code",
   "execution_count": 247,
   "outputs": [],
   "source": [
    "threshold=6\n",
    "for sn, hemi in product(sn_list, ['lh', 'rh']):\n",
    "    f_path = os.path.join(overlay_dir, f'{hemi}.sub-{sn}_value-precision.mgz')\n",
    "    precision_mask = load_mgzs(f_path, fdata_only=True, squeeze=False)\n",
    "    precision_mask[precision_mask < threshold] = 0\n",
    "    precision_mask[precision_mask > threshold] = 1\n",
    "    save_path = os.path.join(overlay_dir, f'{hemi}.sub-{sn}_value-precision_masked.mgz')\n",
    "    map_values_as_mgz(template=f_path, data=precision_mask, save_path=save_path)"
   ],
   "metadata": {
    "collapsed": false,
    "pycharm": {
     "name": "#%%\n"
    }
   }
  },
  {
   "cell_type": "code",
   "execution_count": 248,
   "outputs": [],
   "source": [
    "threshold=6\n",
    "for sn, hemi in product(sn_list, ['lh', 'rh']):\n",
    "    f_path = os.path.join(overlay_dir, f'{hemi}.sub-{sn}_value-precision.mgz')\n",
    "    precision_mask = load_mgzs(f_path, fdata_only=True, squeeze=False)\n",
    "    mode_map = load_mgzs(os.path.join(overlay_dir, f'{hemi}.sub-{sn}_value-mode.mgz'), fdata_only=True, squeeze=False)\n",
    "    precision_mask = np.greater(precision_mask, threshold)\n",
    "    mode_map[precision_mask == False] = np.nan\n",
    "    save_path = os.path.join(overlay_dir, f'{hemi}.sub-{sn}_value-mode_masked.mgz')\n",
    "    map_values_as_mgz(template=f_path, data=mode_map, save_path=save_path)\n"
   ],
   "metadata": {
    "collapsed": false,
    "pycharm": {
     "name": "#%%\n"
    }
   }
  },
  {
   "cell_type": "markdown",
   "source": [
    "# Check results"
   ],
   "metadata": {
    "collapsed": false,
    "pycharm": {
     "name": "#%% md\n"
    }
   }
  },
  {
   "cell_type": "code",
   "execution_count": 242,
   "outputs": [
    {
     "data": {
      "text/plain": "<Figure size 432x288 with 1 Axes>",
      "image/png": "[encoded data removed]"
     },
     "metadata": {
      "needs_background": "light"
     },
     "output_type": "display_data"
    },
    {
     "data": {
      "text/plain": "<Figure size 72x360 with 1 Axes>",
      "image/png": "[encoded data removed]"
     },
     "metadata": {
      "needs_background": "light"
     },
     "output_type": "display_data"
    }
   ],
   "source": [
    "\n",
    "# Sample data\n",
    "data = np.random.uniform(0.001, 100, size=(10, 10))\n",
    "\n",
    "# Create a log scale color map\n",
    "cmap = plt.cm.autumn\n",
    "norm = mpl.colors.LogNorm(vmin=0.001, vmax=128)\n",
    "\n",
    "# Plot the data with log scale color map\n",
    "im = plt.imshow(data, cmap=cmap, norm=norm)\n",
    "\n",
    "# Create a separate figure for the colorbar\n",
    "fig_cb = plt.figure(figsize=(1, 5))  # Adjust the figure size as needed\n",
    "cb_ax = fig_cb.add_axes([0, 0, 1, 1])  # Full height, full width\n",
    "\n",
    "# Add the colorbar to the separate figure\n",
    "cb = plt.colorbar(im, cax=cb_ax)\n",
    "cb.ax.tick_params(axis='y', labelsize=15)\n",
    "# Save the colorbar as an image\n",
    "fig_cb.savefig(os.path.join(fig_dir, 'colorbar_image.png'), bbox_inches='tight')"
   ],
   "metadata": {
    "collapsed": false,
    "pycharm": {
     "name": "#%%\n"
    }
   }
  },
  {
   "cell_type": "code",
   "execution_count": 243,
   "outputs": [],
   "source": [
    "overlay_custom_log = pyview.make_custom_color_palettes_for_overlay(plt.get_cmap('autumn'),\n",
    "                                                               val_range=(0.01,128), n=6, log_scale=True)"
   ],
   "metadata": {
    "collapsed": false,
    "pycharm": {
     "name": "#%%\n"
    }
   }
  },
  {
   "cell_type": "markdown",
   "source": [
    "## Ventral view"
   ],
   "metadata": {
    "collapsed": false,
    "pycharm": {
     "name": "#%% md\n"
    }
   }
  },
  {
   "cell_type": "code",
   "execution_count": 251,
   "outputs": [
    {
     "name": "stdout",
     "output_type": "stream",
     "text": [
      "NaN found at voxel (132461, 0, 0, 0)\n",
      "NaN found at voxel (108378, 0, 0, 0)\n",
      "NaN found at voxel (84294, 0, 0, 0)\n",
      "NaN found at voxel (48171, 0, 0, 0)\n",
      "NaN found at voxel (156543, 0, 0, 0)\n",
      "NaN found at voxel (228789, 0, 0, 0)\n",
      "NaN found at voxel (204707, 0, 0, 0)\n",
      "NaN found at voxel (144502, 0, 0, 0)\n",
      "NaN found at voxel (60210, 0, 0, 0)\n",
      "NaN found at voxel (60210, 0, 0, 0)\n",
      "\n"
     ]
    },
    {
     "name": "stderr",
     "output_type": "stream",
     "text": [
      "error: WARNING: 218588 NaNs found in volume /Volumes/server/Projects/sfp_nsd/derivatives/sfp_maps/mgzs/nsdsyn/lh.sub-subj03_value-mode_masked.mgz...\n",
      "\n",
      "error: WARNING: 217427 NaNs found in volume /Volumes/server/Projects/sfp_nsd/derivatives/sfp_maps/mgzs/nsdsyn/rh.sub-subj03_value-mode_masked.mgz...\n",
      "\n"
     ]
    },
    {
     "name": "stdout",
     "output_type": "stream",
     "text": [
      "NaN found at voxel (34275, 0, 0, 0)\n",
      "NaN found at voxel (114250, 0, 0, 0)\n",
      "NaN found at voxel (171375, 0, 0, 0)\n",
      "NaN found at voxel (11431, 0, 0, 0)\n",
      "NaN found at voxel (79975, 0, 0, 0)\n",
      "NaN found at voxel (91400, 0, 0, 0)\n",
      "NaN found at voxel (68550, 0, 0, 0)\n",
      "NaN found at voxel (57125, 0, 0, 0)\n",
      "NaN found at voxel (159950, 0, 0, 0)\n",
      "NaN found at voxel (45702, 0, 0, 0)\n",
      "NaN found at voxel (102825, 0, 0, 0)\n",
      "NaN found at voxel (22850, 0, 0, 0)\n",
      "NaN found at voxel (80, 0, 0, 0)\n",
      "NaN found at voxel (137100, 0, 0, 0)\n",
      "NaN found at voxel (137100, 0, 0, 0)\n"
     ]
    },
    {
     "name": "stderr",
     "output_type": "stream",
     "text": [
      "error: WARNING: 207141 NaNs found in volume /Volumes/server/Projects/sfp_nsd/derivatives/sfp_maps/mgzs/nsdsyn/lh.sub-subj04_value-mode_masked.mgz...\n",
      "\n",
      "error: WARNING: 204213 NaNs found in volume /Volumes/server/Projects/sfp_nsd/derivatives/sfp_maps/mgzs/nsdsyn/rh.sub-subj04_value-mode_masked.mgz...\n",
      "\n"
     ]
    },
    {
     "name": "stdout",
     "output_type": "stream",
     "text": [
      "NaN found at voxel (118560, 0, 0, 0)\n",
      "NaN found at voxel (148199, 0, 0, 0)\n",
      "NaN found at voxel (16, 0, 0, 0)\n",
      "NaN found at voxel (158078, 0, 0, 0)\n",
      "NaN found at voxel (79040, 0, 0, 0)\n",
      "NaN found at voxel (187715, 0, 0, 0)\n",
      "NaN found at voxel (187715, 0, 0, 0)\n"
     ]
    },
    {
     "name": "stderr",
     "output_type": "stream",
     "text": [
      "error: WARNING: 179767 NaNs found in volume /Volumes/server/Projects/sfp_nsd/derivatives/sfp_maps/mgzs/nsdsyn/lh.sub-subj05_value-mode_masked.mgz...\n",
      "\n",
      "error: WARNING: 177288 NaNs found in volume /Volumes/server/Projects/sfp_nsd/derivatives/sfp_maps/mgzs/nsdsyn/rh.sub-subj05_value-mode_masked.mgz...\n",
      "\n"
     ]
    },
    {
     "name": "stdout",
     "output_type": "stream",
     "text": [
      "NaN found at voxel (152184, 0, 0, 0)\n",
      "NaN found at voxel (202910, 0, 0, 0)\n",
      "NaN found at voxel (2, 0, 0, 0)\n",
      "NaN found at voxel (2, 0, 0, 0)\n",
      ", 0)\n"
     ]
    },
    {
     "name": "stderr",
     "output_type": "stream",
     "text": [
      "error: WARNING: 236706 NaNs found in volume /Volumes/server/Projects/sfp_nsd/derivatives/sfp_maps/mgzs/nsdsyn/lh.sub-subj06_value-mode_masked.mgz...\n",
      "\n",
      "error: WARNING: 236593 NaNs found in volume /Volumes/server/Projects/sfp_nsd/derivatives/sfp_maps/mgzs/nsdsyn/rh.sub-subj06_value-mode_masked.mgz...\n",
      "\n"
     ]
    },
    {
     "name": "stdout",
     "output_type": "stream",
     "text": [
      "NaN found at voxel (5, 0, 0, 0)\n",
      "NaN found at voxel (119266, 0, 0, 0)\n",
      "NaN found at voxel (159018, 0, 0, 0)\n",
      "NaN found at voxel (159018, 0, 0, 0)\n"
     ]
    },
    {
     "name": "stderr",
     "output_type": "stream",
     "text": [
      "error: WARNING: 177633 NaNs found in volume /Volumes/server/Projects/sfp_nsd/derivatives/sfp_maps/mgzs/nsdsyn/lh.sub-subj07_value-mode_masked.mgz...\n",
      "\n",
      "error: WARNING: 179012 NaNs found in volume /Volumes/server/Projects/sfp_nsd/derivatives/sfp_maps/mgzs/nsdsyn/rh.sub-subj07_value-mode_masked.mgz...\n",
      "\n"
     ]
    },
    {
     "name": "stdout",
     "output_type": "stream",
     "text": [
      "NaN found at voxel (0, 0, 0, 0)\n",
      "NaN found at voxel (179492, 0, 0, 0)\n",
      "NaN found at voxel (179492, 0, 0, 0)\n"
     ]
    },
    {
     "name": "stderr",
     "output_type": "stream",
     "text": [
      "error: WARNING: 213855 NaNs found in volume /Volumes/server/Projects/sfp_nsd/derivatives/sfp_maps/mgzs/nsdsyn/lh.sub-subj08_value-mode_masked.mgz...\n",
      "\n",
      "error: WARNING: 212577 NaNs found in volume /Volumes/server/Projects/sfp_nsd/derivatives/sfp_maps/mgzs/nsdsyn/rh.sub-subj08_value-mode_masked.mgz...\n",
      "\n"
     ]
    }
   ],
   "source": [
    "for sn in sn_list[2:]:\n",
    "    overlay_file=f'sub-{sn}_value-mode_masked.mgz'\n",
    "    label_dir=os.path.join(fs_subj_dir, sn, 'label')\n",
    "    save_path = os.path.join(fig_dir, 'ss', f'ss_sub-{sn}_value-mode_masked.mgz')\n",
    "    lh_labels, lh_colors = pyview.get_subj_wise_labels('lh', labels, label_colors, label_dir)\n",
    "    lh_obj = pyview.PyFreeview(fs_subj_dir,\n",
    "                               sn, 'lh', surf=surf, labels=lh_labels, label_dir=label_dir,\n",
    "                               overlay=overlay_file, overlay_dir=overlay_dir)\n",
    "\n",
    "    rh_labels, rh_colors = pyview.get_subj_wise_labels('rh', labels, label_colors, label_dir)\n",
    "    rh_obj = pyview.PyFreeview(fs_subj_dir,\n",
    "                               sn, 'rh', surf=surf, labels=rh_labels, label_dir=label_dir,\n",
    "                               overlay=overlay_file, overlay_dir=overlay_dir,\n",
    "                               view='inferior', cam_list=[1.25,0,-35,0], save_path=save_path)\n",
    "    fnl_cm = lh_obj.to_command(\n",
    "        **{'label_colors': lh_colors,'label_opacity': 1, 'label_outline':  True, 'overlay_custom': overlay_custom_log}) + ':offset=-60,0,0' + rh_obj.to_command(\n",
    "        **{'label_colors': rh_colors,'label_opacity': 1, 'label_outline':  True, 'overlay_custom': overlay_custom_log}).split('freeview')[-1] + ' -viewsize 1024 1024'\n",
    "    fnl_cm += ' -colorscale'\n",
    "    os.system(fnl_cm)"
   ],
   "metadata": {
    "collapsed": false,
    "pycharm": {
     "name": "#%%\n"
    }
   }
  },
  {
   "cell_type": "markdown",
   "source": [
    "## Posterior view"
   ],
   "metadata": {
    "collapsed": false,
    "pycharm": {
     "name": "#%% md\n"
    }
   }
  },
  {
   "cell_type": "code",
   "execution_count": 254,
   "outputs": [
    {
     "name": "stdout",
     "output_type": "stream",
     "text": [
      "NaN found at voxel (1, 0, 0, 0)\n",
      "NaN found at voxel (35946, 0, 0, 0)\n",
      "NaN found at voxel (95856, 0, 0, 0)\n",
      "NaN found at voxel (47928, 0, 0, 0)\n",
      "NaN found at voxel (143784, 0, 0, 0)\n",
      "NaN found at voxel (191709, 0, 0, 0)\n",
      "NaN found at voxel (191709, 0, 0, 0)\n"
     ]
    },
    {
     "name": "stderr",
     "output_type": "stream",
     "text": [
      "error: WARNING: 207699 NaNs found in volume /Volumes/server/Projects/sfp_nsd/derivatives/sfp_maps/mgzs/nsdsyn/lh.sub-subj02_value-mode_masked.mgz...\n",
      "\n",
      "error: WARNING: 202129 NaNs found in volume /Volumes/server/Projects/sfp_nsd/derivatives/sfp_maps/mgzs/nsdsyn/rh.sub-subj02_value-mode_masked.mgz...\n",
      "\n"
     ]
    },
    {
     "name": "stdout",
     "output_type": "stream",
     "text": [
      "NaN found at voxel (36126, 0, 0, 0)\n",
      "NaN found at voxel (132461, 0, 0, 0)\n",
      "NaN found at voxel (96336, 0, 0, 0)\n",
      "NaN found at voxel (228789, 0, 0, 0)\n",
      "NaN found at voxel (24084, 0, 0, 0)\n",
      "NaN found at voxel (192666, 0, 0, 0)\n",
      "NaN found at voxel (180625, 0, 0, 0)\n",
      "NaN found at voxel (168584, 0, 0, 0)\n",
      "NaN found at voxel (12055, 0, 0, 0)\n",
      "NaN found at voxel (120420, 0, 0, 0)\n",
      "NaN found at voxel (72252, 0, 0, 0)\n",
      "NaN found at voxel (48171, 0, 0, 0)\n",
      "NaN found at voxel (144502, 0, 0, 0)\n",
      "NaN found at voxel (144502, 0, 0, 0)\n"
     ]
    },
    {
     "name": "stderr",
     "output_type": "stream",
     "text": [
      "error: WARNING: 218588 NaNs found in volume /Volumes/server/Projects/sfp_nsd/derivatives/sfp_maps/mgzs/nsdsyn/lh.sub-subj03_value-mode_masked.mgz...\n",
      "\n",
      "error: WARNING: 217427 NaNs found in volume /Volumes/server/Projects/sfp_nsd/derivatives/sfp_maps/mgzs/nsdsyn/rh.sub-subj03_value-mode_masked.mgz...\n",
      "\n"
     ]
    },
    {
     "name": "stdout",
     "output_type": "stream",
     "text": [
      "NaN found at voxel (217071, 0, 0, 0)\n",
      "NaN found at voxel (80, 0, 0, 0)\n",
      "NaN found at voxel (182799, 0, 0, 0)\n",
      "NaN found at voxel (34275, 0, 0, 0)\n",
      "NaN found at voxel (205647, 0, 0, 0)\n",
      "NaN found at voxel (194223, 0, 0, 0)\n",
      "NaN found at voxel (68550, 0, 0, 0)\n",
      "NaN found at voxel (45702, 0, 0, 0)\n",
      "NaN found at voxel (125675, 0, 0, 0)\n",
      "NaN found at voxel (148525, 0, 0, 0)\n",
      "NaN found at voxel (57125, 0, 0, 0)\n",
      "NaN found at voxel (114250, 0, 0, 0)\n",
      "NaN found at voxel (137100, 0, 0, 0)\n",
      "NaN found at voxel (91400, 0, 0, 0)\n",
      "NaN found at voxel (102825, 0, 0, 0)\n",
      "NaN found at voxel (159950, 0, 0, 0)\n",
      "NaN found at voxel (22850, 0, 0, 0)\n",
      "NaN found at voxel (11431, 0, 0, 0)\n",
      "NaN found at voxel (79975, 0, 0, 0)\n",
      "NaN found at voxel (79975, 0, 0, 0)\n",
      "\n"
     ]
    },
    {
     "name": "stderr",
     "output_type": "stream",
     "text": [
      "error: WARNING: 207141 NaNs found in volume /Volumes/server/Projects/sfp_nsd/derivatives/sfp_maps/mgzs/nsdsyn/lh.sub-subj04_value-mode_masked.mgz...\n",
      "\n",
      "error: WARNING: 204213 NaNs found in volume /Volumes/server/Projects/sfp_nsd/derivatives/sfp_maps/mgzs/nsdsyn/rh.sub-subj04_value-mode_masked.mgz...\n",
      "\n"
     ]
    },
    {
     "name": "stdout",
     "output_type": "stream",
     "text": [
      "NaN found at voxel (158078, 0, 0, 0)\n",
      "NaN found at voxel (29640, 0, 0, 0)\n",
      "NaN found at voxel (16, 0, 0, 0)\n",
      "NaN found at voxel (118560, 0, 0, 0)\n",
      "NaN found at voxel (79040, 0, 0, 0)\n",
      "NaN found at voxel (39520, 0, 0, 0)\n",
      "NaN found at voxel (39520, 0, 0, 0)\n",
      "\n"
     ]
    },
    {
     "name": "stderr",
     "output_type": "stream",
     "text": [
      "error: WARNING: 179767 NaNs found in volume /Volumes/server/Projects/sfp_nsd/derivatives/sfp_maps/mgzs/nsdsyn/lh.sub-subj05_value-mode_masked.mgz...\n",
      "\n",
      "error: WARNING: 177288 NaNs found in volume /Volumes/server/Projects/sfp_nsd/derivatives/sfp_maps/mgzs/nsdsyn/rh.sub-subj05_value-mode_masked.mgz...\n",
      "\n"
     ]
    },
    {
     "name": "stdout",
     "output_type": "stream",
     "text": [
      "NaN found at voxel (2, 0, 0, 0)\n",
      "NaN found at voxel (202910, 0, 0, 0)\n",
      "NaN found at voxel (152184, 0, 0, 0)\n",
      "NaN found at voxel (152184, 0, 0, 0)\n"
     ]
    },
    {
     "name": "stderr",
     "output_type": "stream",
     "text": [
      "error: WARNING: 236706 NaNs found in volume /Volumes/server/Projects/sfp_nsd/derivatives/sfp_maps/mgzs/nsdsyn/lh.sub-subj06_value-mode_masked.mgz...\n",
      "\n",
      "error: WARNING: 236593 NaNs found in volume /Volumes/server/Projects/sfp_nsd/derivatives/sfp_maps/mgzs/nsdsyn/rh.sub-subj06_value-mode_masked.mgz...\n",
      "\n"
     ]
    },
    {
     "name": "stdout",
     "output_type": "stream",
     "text": [
      "NaN found at voxel (5, 0, 0, 0)\n",
      "NaN found at voxel (29817, 0, 0, 0)\n",
      "NaN found at voxel (159018, 0, 0, 0)\n",
      "NaN found at voxel (119266, 0, 0, 0)\n",
      "NaN found at voxel (39756, 0, 0, 0)\n",
      "NaN found at voxel (19878, 0, 0, 0)\n",
      "NaN found at voxel (178894, 0, 0, 0)\n",
      "NaN found at voxel (79512, 0, 0, 0)\n",
      "NaN found at voxel (79512, 0, 0, 0)\n",
      "\n"
     ]
    },
    {
     "name": "stderr",
     "output_type": "stream",
     "text": [
      "error: WARNING: 177633 NaNs found in volume /Volumes/server/Projects/sfp_nsd/derivatives/sfp_maps/mgzs/nsdsyn/lh.sub-subj07_value-mode_masked.mgz...\n",
      "\n",
      "error: WARNING: 179012 NaNs found in volume /Volumes/server/Projects/sfp_nsd/derivatives/sfp_maps/mgzs/nsdsyn/rh.sub-subj07_value-mode_masked.mgz...\n",
      "\n"
     ]
    },
    {
     "name": "stdout",
     "output_type": "stream",
     "text": [
      "NaN found at voxel (0, 0, 0, 0)\n",
      "NaN found at voxel (33657, 0, 0, 0)\n",
      "NaN found at voxel (134620, 0, 0, 0)\n",
      "NaN found at voxel (89748, 0, 0, 0)\n",
      "NaN found at voxel (179492, 0, 0, 0)\n",
      "NaN found at voxel (179492, 0, 0, 0)\n"
     ]
    },
    {
     "name": "stderr",
     "output_type": "stream",
     "text": [
      "error: WARNING: 213855 NaNs found in volume /Volumes/server/Projects/sfp_nsd/derivatives/sfp_maps/mgzs/nsdsyn/lh.sub-subj08_value-mode_masked.mgz...\n",
      "\n",
      "error: WARNING: 212577 NaNs found in volume /Volumes/server/Projects/sfp_nsd/derivatives/sfp_maps/mgzs/nsdsyn/rh.sub-subj08_value-mode_masked.mgz...\n",
      "\n"
     ]
    }
   ],
   "source": [
    "for sn in sn_list[1:]:\n",
    "    overlay_file=f'sub-{sn}_value-mode_masked.mgz'\n",
    "    label_dir=os.path.join(fs_subj_dir, sn, 'label')\n",
    "    save_path = os.path.join(fig_dir, 'ss', f'ss_sub-{sn}_value-mode_masked_posterior.mgz')\n",
    "    lh_labels, lh_colors = pyview.get_subj_wise_labels('lh', labels, label_colors, label_dir)\n",
    "    lh_obj = pyview.PyFreeview(fs_subj_dir,\n",
    "                               sn, 'lh', surf=surf, labels=lh_labels, label_dir=label_dir,\n",
    "                               overlay=overlay_file, overlay_dir=overlay_dir)\n",
    "\n",
    "    rh_labels, rh_colors = pyview.get_subj_wise_labels('rh', labels, label_colors, label_dir)\n",
    "    rh_obj = pyview.PyFreeview(fs_subj_dir,\n",
    "                               sn, 'rh', surf=surf, labels=rh_labels, label_dir=label_dir,\n",
    "                               overlay=overlay_file, overlay_dir=overlay_dir,\n",
    "                               view='posterior', cam_list=[1.25,0,-25,0], save_path=save_path)\n",
    "    fnl_cm = lh_obj.to_command(\n",
    "        **{'label_colors': lh_colors,'label_opacity': 1, 'label_outline':  True, 'overlay_custom': overlay_custom_log}) + ':offset=-60,0,0' + rh_obj.to_command(\n",
    "        **{'label_colors': rh_colors,'label_opacity': 1, 'label_outline':  True, 'overlay_custom': overlay_custom_log}).split('freeview')[-1] + ' -viewsize 1024 1024'\n",
    "    fnl_cm += ' -colorscale'\n",
    "\n",
    "    os.system(fnl_cm)"
   ],
   "metadata": {
    "collapsed": false,
    "pycharm": {
     "name": "#%%\n"
    }
   }
  }
 ],
 "metadata": {
  "kernelspec": {
   "name": "sfp",
   "language": "python",
   "display_name": "sfp"
  },
  "language_info": {
   "codemirror_mode": {
    "name": "ipython",
    "version": 3
   },
   "file_extension": ".py",
   "mimetype": "text/x-python",
   "name": "python",
   "nbconvert_exporter": "python",
   "pygments_lexer": "ipython3",
   "version": "3.8.18"
  }
 },
 "nbformat": 4,
 "nbformat_minor": 4
}