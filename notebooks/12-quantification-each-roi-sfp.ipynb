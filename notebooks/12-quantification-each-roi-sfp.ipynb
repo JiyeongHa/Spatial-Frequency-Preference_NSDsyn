{
 "cells": [
  {
   "cell_type": "code",
   "execution_count": 1,
   "metadata": {
    "collapsed": true
   },
   "outputs": [],
   "source": [
    "import os\n",
    "import numpy as np\n",
    "import pandas as pd\n",
    "import seaborn as sns\n",
    "import matplotlib as mpl\n",
    "import matplotlib.pyplot as plt\n",
    "from itertools import product\n",
    "from sfp_nsdsyn import utils\n",
    "from pysurfer.mgz_helper import get_vertices_in_labels, read_label, get_existing_labels_only\n",
    "\n",
    "%load_ext autoreload\n",
    "%autoreload 2"
   ]
  },
  {
   "cell_type": "markdown",
   "source": [
    "# Configurations"
   ],
   "metadata": {
    "collapsed": false,
    "pycharm": {
     "name": "#%% md\n"
    }
   }
  },
  {
   "cell_type": "code",
   "execution_count": 2,
   "outputs": [],
   "source": [
    "nsd_dir ='/Volumes/server/Projects/sfp_nsd/natural-scenes-dataset'\n",
    "output_dir='/Volumes/server/Projects/sfp_nsd/derivatives'\n",
    "fs_subj_dir='/Volumes/server/Projects/sfp_nsd/natural-scenes-dataset/nsddata/freesurfer'\n",
    "overlay_dir='/Volumes/server/Projects/sfp_nsd/derivatives/sfp_maps/mgzs/nsdsyn'\n",
    "fig_dir='/Volumes/server/Projects/sfp_nsd/derivatives/figures/brain_maps/nsdsyn'\n",
    "sn_list = [f'subj{sn:02d}' for sn in np.arange(1,9)]"
   ],
   "metadata": {
    "collapsed": false,
    "pycharm": {
     "name": "#%%\n"
    }
   }
  },
  {
   "cell_type": "code",
   "execution_count": 3,
   "outputs": [],
   "source": [
    "# Additional matplotlib preferences:\n",
    "font_data = {'family':'sans-serif',\n",
    "             'sans-serif':['HelveticaNeue', 'Helvetica', 'Arial'],\n",
    "             'size': 10}\n",
    "mpl.rc('font',**font_data)\n",
    "# we want relatively high-res images, especially when saving to disk.\n",
    "#mpl.rcParams['figure.dpi'] = 72*2\n",
    "#mpl.rcParams['savefig.dpi'] = 72*4"
   ],
   "metadata": {
    "collapsed": false,
    "pycharm": {
     "name": "#%%\n"
    }
   }
  },
  {
   "cell_type": "markdown",
   "source": [
    "# Load base frequency preference maps"
   ],
   "metadata": {
    "collapsed": false,
    "pycharm": {
     "name": "#%% md\n"
    }
   }
  },
  {
   "cell_type": "code",
   "execution_count": 20,
   "outputs": [],
   "source": [
    "labels = ['V1v', 'V1d', 'V2v','V2d', 'V3v','V3d', 'hV4', 'aFFA', 'pFFA', 'PPA']\n",
    "sn = 'subj01'\n",
    "hemi = 'lh'\n",
    "label_path = [os.path.join(fs_subj_dir, sn, 'label', f'{hemi}.V1v.label')]"
   ],
   "metadata": {
    "collapsed": false,
    "pycharm": {
     "name": "#%%\n"
    }
   }
  },
  {
   "cell_type": "markdown",
   "source": [
    "## load in labels for each subject"
   ],
   "metadata": {
    "collapsed": false,
    "pycharm": {
     "name": "#%% md\n"
    }
   }
  },
  {
   "cell_type": "code",
   "execution_count": 6,
   "outputs": [],
   "source": [
    "lh_rois = {}\n",
    "rh_rois = {}\n",
    "\n",
    "for sn in sn_list:\n",
    "    label_dir = os.path.join(fs_subj_dir, sn, 'label')\n",
    "    lh_labels, lh_label_paths = get_existing_labels_only(labels, label_dir, 'lh', return_paths=True)\n",
    "    rh_labels, rh_label_paths = get_existing_labels_only(labels, label_dir, 'rh', return_paths=True)\n",
    "\n",
    "    mgz_path = os.path.join(overlay_dir, f'lh.sub-{sn}_value-mode_masked.mgz')\n",
    "    lh_rois[sn] = get_vertices_in_labels(mgz_path, lh_label_paths, lh_labels, load_mgz=True, load_label=True)\n",
    "\n",
    "    mgz_path = os.path.join(overlay_dir, f'rh.sub-{sn}_value-mode_masked.mgz')\n",
    "    rh_rois[sn] = get_vertices_in_labels(mgz_path, rh_label_paths, rh_labels, load_mgz=True, load_label=True)"
   ],
   "metadata": {
    "collapsed": false,
    "pycharm": {
     "name": "#%%\n"
    }
   }
  },
  {
   "cell_type": "markdown",
   "source": [
    "## turn them into one dataframe"
   ],
   "metadata": {
    "collapsed": false,
    "pycharm": {
     "name": "#%% md\n"
    }
   }
  },
  {
   "cell_type": "code",
   "execution_count": 8,
   "outputs": [],
   "source": [
    "all_df = pd.DataFrame({})\n",
    "for sn in sn_list:\n",
    "    # Convert the dictionary to a DataFrame\n",
    "    data_df = pd.DataFrame({key: pd.Series(value) for key, value in lh_rois[sn].items()})\n",
    "    # Melt the DataFrame to have ROI values in a single column\n",
    "    melted_data = data_df.melt(var_name='ROI', value_name='base frequency preference')\n",
    "    melted_data['hemi'] = 'lh'\n",
    "\n",
    "    data_df = pd.DataFrame({key: pd.Series(value) for key, value in rh_rois[sn].items()})\n",
    "    # Melt the DataFrame to have ROI values in a single column\n",
    "    melted_data_2 = data_df.melt(var_name='ROI', value_name='base frequency preference')\n",
    "    melted_data_2['hemi'] = 'rh'\n",
    "\n",
    "    tmp = pd.concat((melted_data, melted_data_2), axis=0)\n",
    "    tmp['sn'] = sn\n",
    "    all_df = pd.concat((all_df, tmp), axis=0)"
   ],
   "metadata": {
    "collapsed": false,
    "pycharm": {
     "name": "#%%\n"
    }
   }
  },
  {
   "cell_type": "code",
   "execution_count": 10,
   "outputs": [],
   "source": [
    "# Define a colormap from Matplotlib\n",
    "cmap = plt.cm.get_cmap('Blues_r')\n",
    "\n",
    "# Define the number of colors based on the number of ROIs\n",
    "ret_colors = [cmap(i / 10) for i in range(10)]\n",
    "colors = []\n",
    "colors += [ret_colors[0], ret_colors[0], ret_colors[2], ret_colors[2], ret_colors[4], ret_colors[4], ret_colors[6]]\n",
    "# Define a colormap from Matplotlib\n",
    "colors += ['magenta', 'magenta']\n",
    "colors += ['gray']\n",
    "palette = dict(zip(labels, colors))"
   ],
   "metadata": {
    "collapsed": false,
    "pycharm": {
     "name": "#%%\n"
    }
   }
  },
  {
   "cell_type": "code",
   "execution_count": 11,
   "outputs": [
    {
     "data": {
      "text/plain": "<Figure size 720x432 with 1 Axes>",
      "image/png": "[encoded data removed]"
     },
     "metadata": {
      "needs_background": "light"
     },
     "output_type": "display_data"
    }
   ],
   "source": [
    "# Set the size of the figure\n",
    "plt.figure(figsize=(10, 6))  # Adjust the size as needed\n",
    "ax = sns.boxplot(x='ROI', y='base frequency preference', data=all_df, palette=palette, order=labels)\n",
    "ax.set_ylabel('Base frequency preference')\n",
    "#ax.set_ylim(-10, 300)\n",
    "ax.set_xlabel('ROIs')\n",
    "plt.tight_layout()"
   ],
   "metadata": {
    "collapsed": false,
    "pycharm": {
     "name": "#%%\n"
    }
   }
  },
  {
   "cell_type": "markdown",
   "source": [
    "# goodness of fit"
   ],
   "metadata": {
    "collapsed": false,
    "pycharm": {
     "name": "#%% md\n"
    }
   }
  },
  {
   "cell_type": "code",
   "execution_count": 16,
   "outputs": [
    {
     "ename": "FileNotFoundError",
     "evalue": "[Errno 2] No such file or directory: '/Volumes/server/Projects/sfp_nsd/derivatives/sfp_maps/mgzs/nsdsyn/lh.mask-precision_sub-subj01_value-r2_thres-0_frame-absolute.mgz'",
     "output_type": "error",
     "traceback": [
      "\u001B[0;31m---------------------------------------------------------------------------\u001B[0m",
      "\u001B[0;31mFileNotFoundError\u001B[0m                         Traceback (most recent call last)",
      "\u001B[0;32m/var/folders/dc/rp0klyw131l30jr45p7_7gnnnl2r2_/T/ipykernel_42115/3696857902.py\u001B[0m in \u001B[0;36m<module>\u001B[0;34m\u001B[0m\n\u001B[1;32m     10\u001B[0m \u001B[0;34m\u001B[0m\u001B[0m\n\u001B[1;32m     11\u001B[0m     \u001B[0mmgz_path\u001B[0m \u001B[0;34m=\u001B[0m \u001B[0mos\u001B[0m\u001B[0;34m.\u001B[0m\u001B[0mpath\u001B[0m\u001B[0;34m.\u001B[0m\u001B[0mjoin\u001B[0m\u001B[0;34m(\u001B[0m\u001B[0moverlay_dir\u001B[0m\u001B[0;34m,\u001B[0m \u001B[0;34mf'lh.mask-precision_sub-{sn}_value-{my_val}_thres-{thres}_frame-{ref_frame}.mgz'\u001B[0m\u001B[0;34m)\u001B[0m\u001B[0;34m\u001B[0m\u001B[0;34m\u001B[0m\u001B[0m\n\u001B[0;32m---> 12\u001B[0;31m     \u001B[0mlh_rois\u001B[0m\u001B[0;34m[\u001B[0m\u001B[0msn\u001B[0m\u001B[0;34m]\u001B[0m \u001B[0;34m=\u001B[0m \u001B[0mget_vertices_in_labels\u001B[0m\u001B[0;34m(\u001B[0m\u001B[0mmgz_path\u001B[0m\u001B[0;34m,\u001B[0m \u001B[0mlh_label_paths\u001B[0m\u001B[0;34m,\u001B[0m \u001B[0mlh_labels\u001B[0m\u001B[0;34m,\u001B[0m \u001B[0mload_mgz\u001B[0m\u001B[0;34m=\u001B[0m\u001B[0;32mTrue\u001B[0m\u001B[0;34m,\u001B[0m \u001B[0mload_label\u001B[0m\u001B[0;34m=\u001B[0m\u001B[0;32mTrue\u001B[0m\u001B[0;34m)\u001B[0m\u001B[0;34m\u001B[0m\u001B[0;34m\u001B[0m\u001B[0m\n\u001B[0m\u001B[1;32m     13\u001B[0m \u001B[0;34m\u001B[0m\u001B[0m\n\u001B[1;32m     14\u001B[0m     \u001B[0mmgz_path\u001B[0m \u001B[0;34m=\u001B[0m \u001B[0mos\u001B[0m\u001B[0;34m.\u001B[0m\u001B[0mpath\u001B[0m\u001B[0;34m.\u001B[0m\u001B[0mjoin\u001B[0m\u001B[0;34m(\u001B[0m\u001B[0moverlay_dir\u001B[0m\u001B[0;34m,\u001B[0m \u001B[0;34mf'rh.sub-{sn}_value-{my_val}.mgz'\u001B[0m\u001B[0;34m)\u001B[0m\u001B[0;34m\u001B[0m\u001B[0;34m\u001B[0m\u001B[0m\n",
      "\u001B[0;32m~/Documents/Projects/pysurfer/pysurfer/mgz_helper.py\u001B[0m in \u001B[0;36mget_vertices_in_labels\u001B[0;34m(mgz, labels, label_names, load_mgz, load_label)\u001B[0m\n\u001B[1;32m    125\u001B[0m \u001B[0;32mdef\u001B[0m \u001B[0mget_vertices_in_labels\u001B[0m\u001B[0;34m(\u001B[0m\u001B[0mmgz\u001B[0m\u001B[0;34m,\u001B[0m \u001B[0mlabels\u001B[0m\u001B[0;34m,\u001B[0m \u001B[0mlabel_names\u001B[0m\u001B[0;34m,\u001B[0m \u001B[0mload_mgz\u001B[0m\u001B[0;34m=\u001B[0m\u001B[0;32mFalse\u001B[0m\u001B[0;34m,\u001B[0m \u001B[0mload_label\u001B[0m\u001B[0;34m=\u001B[0m\u001B[0;32mFalse\u001B[0m\u001B[0;34m)\u001B[0m\u001B[0;34m:\u001B[0m\u001B[0;34m\u001B[0m\u001B[0;34m\u001B[0m\u001B[0m\n\u001B[1;32m    126\u001B[0m     \u001B[0;32mif\u001B[0m \u001B[0mload_mgz\u001B[0m \u001B[0;32mis\u001B[0m \u001B[0;32mTrue\u001B[0m\u001B[0;34m:\u001B[0m\u001B[0;34m\u001B[0m\u001B[0;34m\u001B[0m\u001B[0m\n\u001B[0;32m--> 127\u001B[0;31m         \u001B[0mmgz\u001B[0m \u001B[0;34m=\u001B[0m \u001B[0mload_mgzs\u001B[0m\u001B[0;34m(\u001B[0m\u001B[0mmgz\u001B[0m\u001B[0;34m,\u001B[0m \u001B[0msqueeze\u001B[0m\u001B[0;34m=\u001B[0m\u001B[0;32mTrue\u001B[0m\u001B[0;34m,\u001B[0m \u001B[0mfdata_only\u001B[0m\u001B[0;34m=\u001B[0m\u001B[0;32mTrue\u001B[0m\u001B[0;34m)\u001B[0m\u001B[0;34m\u001B[0m\u001B[0;34m\u001B[0m\u001B[0m\n\u001B[0m\u001B[1;32m    128\u001B[0m \u001B[0;34m\u001B[0m\u001B[0m\n\u001B[1;32m    129\u001B[0m     \u001B[0mrois\u001B[0m \u001B[0;34m=\u001B[0m \u001B[0;34m{\u001B[0m\u001B[0;34m}\u001B[0m\u001B[0;34m\u001B[0m\u001B[0;34m\u001B[0m\u001B[0m\n",
      "\u001B[0;32m~/Documents/Projects/pysurfer/pysurfer/mgz_helper.py\u001B[0m in \u001B[0;36mload_mgzs\u001B[0;34m(file_path, fdata_only, squeeze)\u001B[0m\n\u001B[1;32m      8\u001B[0m \u001B[0;34m\u001B[0m\u001B[0m\n\u001B[1;32m      9\u001B[0m \u001B[0;32mdef\u001B[0m \u001B[0mload_mgzs\u001B[0m\u001B[0;34m(\u001B[0m\u001B[0mfile_path\u001B[0m\u001B[0;34m,\u001B[0m \u001B[0mfdata_only\u001B[0m\u001B[0;34m=\u001B[0m\u001B[0;32mTrue\u001B[0m\u001B[0;34m,\u001B[0m \u001B[0msqueeze\u001B[0m\u001B[0;34m=\u001B[0m\u001B[0;32mFalse\u001B[0m\u001B[0;34m)\u001B[0m\u001B[0;34m:\u001B[0m\u001B[0;34m\u001B[0m\u001B[0;34m\u001B[0m\u001B[0m\n\u001B[0;32m---> 10\u001B[0;31m     \u001B[0mmgz\u001B[0m \u001B[0;34m=\u001B[0m \u001B[0mnib\u001B[0m\u001B[0;34m.\u001B[0m\u001B[0mfreesurfer\u001B[0m\u001B[0;34m.\u001B[0m\u001B[0mmghformat\u001B[0m\u001B[0;34m.\u001B[0m\u001B[0mload\u001B[0m\u001B[0;34m(\u001B[0m\u001B[0mfile_path\u001B[0m\u001B[0;34m)\u001B[0m\u001B[0;34m\u001B[0m\u001B[0;34m\u001B[0m\u001B[0m\n\u001B[0m\u001B[1;32m     11\u001B[0m     \u001B[0;32mif\u001B[0m \u001B[0mfdata_only\u001B[0m\u001B[0;34m:\u001B[0m\u001B[0;34m\u001B[0m\u001B[0;34m\u001B[0m\u001B[0m\n\u001B[1;32m     12\u001B[0m         \u001B[0mmgz\u001B[0m \u001B[0;34m=\u001B[0m \u001B[0mmgz\u001B[0m\u001B[0;34m.\u001B[0m\u001B[0mget_fdata\u001B[0m\u001B[0;34m(\u001B[0m\u001B[0;34m)\u001B[0m\u001B[0;34m\u001B[0m\u001B[0;34m\u001B[0m\u001B[0m\n",
      "\u001B[0;32m~/opt/miniconda3/envs/sfp/lib/python3.7/site-packages/nibabel/dataobj_images.py\u001B[0m in \u001B[0;36mfrom_filename\u001B[0;34m(klass, filename, mmap, keep_file_open)\u001B[0m\n\u001B[1;32m    487\u001B[0m         \u001B[0mfile_map\u001B[0m \u001B[0;34m=\u001B[0m \u001B[0mklass\u001B[0m\u001B[0;34m.\u001B[0m\u001B[0mfilespec_to_file_map\u001B[0m\u001B[0;34m(\u001B[0m\u001B[0mfilename\u001B[0m\u001B[0;34m)\u001B[0m\u001B[0;34m\u001B[0m\u001B[0;34m\u001B[0m\u001B[0m\n\u001B[1;32m    488\u001B[0m         return klass.from_file_map(file_map, mmap=mmap,\n\u001B[0;32m--> 489\u001B[0;31m                                    keep_file_open=keep_file_open)\n\u001B[0m\u001B[1;32m    490\u001B[0m \u001B[0;34m\u001B[0m\u001B[0m\n\u001B[1;32m    491\u001B[0m     \u001B[0mload\u001B[0m \u001B[0;34m=\u001B[0m \u001B[0mfrom_filename\u001B[0m\u001B[0;34m\u001B[0m\u001B[0;34m\u001B[0m\u001B[0m\n",
      "\u001B[0;32m~/opt/miniconda3/envs/sfp/lib/python3.7/site-packages/nibabel/freesurfer/mghformat.py\u001B[0m in \u001B[0;36mfrom_file_map\u001B[0;34m(klass, file_map, mmap, keep_file_open)\u001B[0m\n\u001B[1;32m    574\u001B[0m             \u001B[0;32mraise\u001B[0m \u001B[0mValueError\u001B[0m\u001B[0;34m(\u001B[0m\u001B[0;34m\"mmap should be one of {True, False, 'c', 'r'}\"\u001B[0m\u001B[0;34m)\u001B[0m\u001B[0;34m\u001B[0m\u001B[0;34m\u001B[0m\u001B[0m\n\u001B[1;32m    575\u001B[0m         \u001B[0mimg_fh\u001B[0m \u001B[0;34m=\u001B[0m \u001B[0mfile_map\u001B[0m\u001B[0;34m[\u001B[0m\u001B[0;34m'image'\u001B[0m\u001B[0;34m]\u001B[0m\u001B[0;34m\u001B[0m\u001B[0;34m\u001B[0m\u001B[0m\n\u001B[0;32m--> 576\u001B[0;31m         \u001B[0mmghf\u001B[0m \u001B[0;34m=\u001B[0m \u001B[0mimg_fh\u001B[0m\u001B[0;34m.\u001B[0m\u001B[0mget_prepare_fileobj\u001B[0m\u001B[0;34m(\u001B[0m\u001B[0;34m'rb'\u001B[0m\u001B[0;34m)\u001B[0m\u001B[0;34m\u001B[0m\u001B[0;34m\u001B[0m\u001B[0m\n\u001B[0m\u001B[1;32m    577\u001B[0m         \u001B[0mheader\u001B[0m \u001B[0;34m=\u001B[0m \u001B[0mklass\u001B[0m\u001B[0;34m.\u001B[0m\u001B[0mheader_class\u001B[0m\u001B[0;34m.\u001B[0m\u001B[0mfrom_fileobj\u001B[0m\u001B[0;34m(\u001B[0m\u001B[0mmghf\u001B[0m\u001B[0;34m)\u001B[0m\u001B[0;34m\u001B[0m\u001B[0;34m\u001B[0m\u001B[0m\n\u001B[1;32m    578\u001B[0m         \u001B[0maffine\u001B[0m \u001B[0;34m=\u001B[0m \u001B[0mheader\u001B[0m\u001B[0;34m.\u001B[0m\u001B[0mget_affine\u001B[0m\u001B[0;34m(\u001B[0m\u001B[0;34m)\u001B[0m\u001B[0;34m\u001B[0m\u001B[0;34m\u001B[0m\u001B[0m\n",
      "\u001B[0;32m~/opt/miniconda3/envs/sfp/lib/python3.7/site-packages/nibabel/fileholders.py\u001B[0m in \u001B[0;36mget_prepare_fileobj\u001B[0;34m(self, *args, **kwargs)\u001B[0m\n\u001B[1;32m     68\u001B[0m             \u001B[0mobj\u001B[0m\u001B[0;34m.\u001B[0m\u001B[0mseek\u001B[0m\u001B[0;34m(\u001B[0m\u001B[0mself\u001B[0m\u001B[0;34m.\u001B[0m\u001B[0mpos\u001B[0m\u001B[0;34m)\u001B[0m\u001B[0;34m\u001B[0m\u001B[0;34m\u001B[0m\u001B[0m\n\u001B[1;32m     69\u001B[0m         \u001B[0;32melif\u001B[0m \u001B[0mself\u001B[0m\u001B[0;34m.\u001B[0m\u001B[0mfilename\u001B[0m \u001B[0;32mis\u001B[0m \u001B[0;32mnot\u001B[0m \u001B[0;32mNone\u001B[0m\u001B[0;34m:\u001B[0m\u001B[0;34m\u001B[0m\u001B[0;34m\u001B[0m\u001B[0m\n\u001B[0;32m---> 70\u001B[0;31m             \u001B[0mobj\u001B[0m \u001B[0;34m=\u001B[0m \u001B[0mImageOpener\u001B[0m\u001B[0;34m(\u001B[0m\u001B[0mself\u001B[0m\u001B[0;34m.\u001B[0m\u001B[0mfilename\u001B[0m\u001B[0;34m,\u001B[0m \u001B[0;34m*\u001B[0m\u001B[0margs\u001B[0m\u001B[0;34m,\u001B[0m \u001B[0;34m**\u001B[0m\u001B[0mkwargs\u001B[0m\u001B[0;34m)\u001B[0m\u001B[0;34m\u001B[0m\u001B[0;34m\u001B[0m\u001B[0m\n\u001B[0m\u001B[1;32m     71\u001B[0m             \u001B[0;32mif\u001B[0m \u001B[0mself\u001B[0m\u001B[0;34m.\u001B[0m\u001B[0mpos\u001B[0m \u001B[0;34m!=\u001B[0m \u001B[0;36m0\u001B[0m\u001B[0;34m:\u001B[0m\u001B[0;34m\u001B[0m\u001B[0;34m\u001B[0m\u001B[0m\n\u001B[1;32m     72\u001B[0m                 \u001B[0mobj\u001B[0m\u001B[0;34m.\u001B[0m\u001B[0mseek\u001B[0m\u001B[0;34m(\u001B[0m\u001B[0mself\u001B[0m\u001B[0;34m.\u001B[0m\u001B[0mpos\u001B[0m\u001B[0;34m)\u001B[0m\u001B[0;34m\u001B[0m\u001B[0;34m\u001B[0m\u001B[0m\n",
      "\u001B[0;32m~/opt/miniconda3/envs/sfp/lib/python3.7/site-packages/nibabel/openers.py\u001B[0m in \u001B[0;36m__init__\u001B[0;34m(self, fileish, *args, **kwargs)\u001B[0m\n\u001B[1;32m    109\u001B[0m         \u001B[0;32melse\u001B[0m\u001B[0;34m:\u001B[0m\u001B[0;34m\u001B[0m\u001B[0;34m\u001B[0m\u001B[0m\n\u001B[1;32m    110\u001B[0m             \u001B[0mkwargs\u001B[0m\u001B[0;34m.\u001B[0m\u001B[0mpop\u001B[0m\u001B[0;34m(\u001B[0m\u001B[0;34m'keep_open'\u001B[0m\u001B[0;34m,\u001B[0m \u001B[0;32mNone\u001B[0m\u001B[0;34m)\u001B[0m\u001B[0;34m\u001B[0m\u001B[0;34m\u001B[0m\u001B[0m\n\u001B[0;32m--> 111\u001B[0;31m         \u001B[0mself\u001B[0m\u001B[0;34m.\u001B[0m\u001B[0mfobj\u001B[0m \u001B[0;34m=\u001B[0m \u001B[0mopener\u001B[0m\u001B[0;34m(\u001B[0m\u001B[0mfileish\u001B[0m\u001B[0;34m,\u001B[0m \u001B[0;34m*\u001B[0m\u001B[0margs\u001B[0m\u001B[0;34m,\u001B[0m \u001B[0;34m**\u001B[0m\u001B[0mkwargs\u001B[0m\u001B[0;34m)\u001B[0m\u001B[0;34m\u001B[0m\u001B[0;34m\u001B[0m\u001B[0m\n\u001B[0m\u001B[1;32m    112\u001B[0m         \u001B[0mself\u001B[0m\u001B[0;34m.\u001B[0m\u001B[0m_name\u001B[0m \u001B[0;34m=\u001B[0m \u001B[0mfileish\u001B[0m\u001B[0;34m\u001B[0m\u001B[0;34m\u001B[0m\u001B[0m\n\u001B[1;32m    113\u001B[0m         \u001B[0mself\u001B[0m\u001B[0;34m.\u001B[0m\u001B[0mme_opened\u001B[0m \u001B[0;34m=\u001B[0m \u001B[0;32mTrue\u001B[0m\u001B[0;34m\u001B[0m\u001B[0;34m\u001B[0m\u001B[0m\n",
      "\u001B[0;32m~/opt/miniconda3/envs/sfp/lib/python3.7/site-packages/nibabel/openers.py\u001B[0m in \u001B[0;36m_gzip_open\u001B[0;34m(filename, mode, compresslevel, keep_open)\u001B[0m\n\u001B[1;32m     49\u001B[0m     \u001B[0;31m# Fall-back to built-in GzipFile\u001B[0m\u001B[0;34m\u001B[0m\u001B[0;34m\u001B[0m\u001B[0;34m\u001B[0m\u001B[0m\n\u001B[1;32m     50\u001B[0m     \u001B[0;32melse\u001B[0m\u001B[0;34m:\u001B[0m\u001B[0;34m\u001B[0m\u001B[0;34m\u001B[0m\u001B[0m\n\u001B[0;32m---> 51\u001B[0;31m         \u001B[0mgzip_file\u001B[0m \u001B[0;34m=\u001B[0m \u001B[0mgzip\u001B[0m\u001B[0;34m.\u001B[0m\u001B[0mGzipFile\u001B[0m\u001B[0;34m(\u001B[0m\u001B[0mfilename\u001B[0m\u001B[0;34m,\u001B[0m \u001B[0mmode\u001B[0m\u001B[0;34m,\u001B[0m \u001B[0mcompresslevel\u001B[0m\u001B[0;34m)\u001B[0m\u001B[0;34m\u001B[0m\u001B[0;34m\u001B[0m\u001B[0m\n\u001B[0m\u001B[1;32m     52\u001B[0m \u001B[0;34m\u001B[0m\u001B[0m\n\u001B[1;32m     53\u001B[0m     \u001B[0;32mreturn\u001B[0m \u001B[0mgzip_file\u001B[0m\u001B[0;34m\u001B[0m\u001B[0;34m\u001B[0m\u001B[0m\n",
      "\u001B[0;32m~/opt/miniconda3/envs/sfp/lib/python3.7/gzip.py\u001B[0m in \u001B[0;36m__init__\u001B[0;34m(self, filename, mode, compresslevel, fileobj, mtime)\u001B[0m\n\u001B[1;32m    166\u001B[0m             \u001B[0mmode\u001B[0m \u001B[0;34m+=\u001B[0m \u001B[0;34m'b'\u001B[0m\u001B[0;34m\u001B[0m\u001B[0;34m\u001B[0m\u001B[0m\n\u001B[1;32m    167\u001B[0m         \u001B[0;32mif\u001B[0m \u001B[0mfileobj\u001B[0m \u001B[0;32mis\u001B[0m \u001B[0;32mNone\u001B[0m\u001B[0;34m:\u001B[0m\u001B[0;34m\u001B[0m\u001B[0;34m\u001B[0m\u001B[0m\n\u001B[0;32m--> 168\u001B[0;31m             \u001B[0mfileobj\u001B[0m \u001B[0;34m=\u001B[0m \u001B[0mself\u001B[0m\u001B[0;34m.\u001B[0m\u001B[0mmyfileobj\u001B[0m \u001B[0;34m=\u001B[0m \u001B[0mbuiltins\u001B[0m\u001B[0;34m.\u001B[0m\u001B[0mopen\u001B[0m\u001B[0;34m(\u001B[0m\u001B[0mfilename\u001B[0m\u001B[0;34m,\u001B[0m \u001B[0mmode\u001B[0m \u001B[0;32mor\u001B[0m \u001B[0;34m'rb'\u001B[0m\u001B[0;34m)\u001B[0m\u001B[0;34m\u001B[0m\u001B[0;34m\u001B[0m\u001B[0m\n\u001B[0m\u001B[1;32m    169\u001B[0m         \u001B[0;32mif\u001B[0m \u001B[0mfilename\u001B[0m \u001B[0;32mis\u001B[0m \u001B[0;32mNone\u001B[0m\u001B[0;34m:\u001B[0m\u001B[0;34m\u001B[0m\u001B[0;34m\u001B[0m\u001B[0m\n\u001B[1;32m    170\u001B[0m             \u001B[0mfilename\u001B[0m \u001B[0;34m=\u001B[0m \u001B[0mgetattr\u001B[0m\u001B[0;34m(\u001B[0m\u001B[0mfileobj\u001B[0m\u001B[0;34m,\u001B[0m \u001B[0;34m'name'\u001B[0m\u001B[0;34m,\u001B[0m \u001B[0;34m''\u001B[0m\u001B[0;34m)\u001B[0m\u001B[0;34m\u001B[0m\u001B[0;34m\u001B[0m\u001B[0m\n",
      "\u001B[0;31mFileNotFoundError\u001B[0m: [Errno 2] No such file or directory: '/Volumes/server/Projects/sfp_nsd/derivatives/sfp_maps/mgzs/nsdsyn/lh.mask-precision_sub-subj01_value-r2_thres-0_frame-absolute.mgz'"
     ]
    }
   ],
   "source": [
    "lh_rois = {}\n",
    "rh_rois = {}\n",
    "my_val = 'r2'\n",
    "thres=0\n",
    "ref_frame='absolute'\n",
    "for sn in sn_list:\n",
    "    label_dir = os.path.join(fs_subj_dir, sn, 'label')\n",
    "    lh_labels, lh_label_paths = get_existing_labels_only(labels, label_dir, 'lh', return_paths=True)\n",
    "    rh_labels, rh_label_paths = get_existing_labels_only(labels, label_dir, 'rh', return_paths=True)\n",
    "\n",
    "    mgz_path = os.path.join(overlay_dir, f'lh.mask-precision_sub-{sn}_value-{my_val}_thres-{thres}_frame-{ref_frame}.mgz')\n",
    "    lh_rois[sn] = get_vertices_in_labels(mgz_path, lh_label_paths, lh_labels, load_mgz=True, load_label=True)\n",
    "\n",
    "    mgz_path = os.path.join(overlay_dir, f'rh.sub-{sn}_value-{my_val}.mgz')\n",
    "    rh_rois[sn] = get_vertices_in_labels(mgz_path, rh_label_paths, rh_labels, load_mgz=True, load_label=True)"
   ],
   "metadata": {
    "collapsed": false,
    "pycharm": {
     "name": "#%%\n"
    }
   }
  },
  {
   "cell_type": "code",
   "execution_count": 83,
   "outputs": [],
   "source": [
    "new_df = pd.DataFrame({})\n",
    "for sn, hemi, roi in product(sn_list, ['lh','rh'], labels):\n",
    "    tmp = all_df.query('ROI == @roi & hemi == @hemi & sn == @sn')\n",
    "    all_counts = len(tmp['base frequency preference'])\n",
    "    if all_counts != 0:\n",
    "        nan_counts = np.divide(sum(np.isnan(tmp['base frequency preference'])), all_counts)*100\n",
    "        tmp = pd.DataFrame({'roi': [roi],\n",
    "                            'sn': [sn],\n",
    "                            'hemi': [hemi],\n",
    "                            'nan_percent': [nan_counts]})\n",
    "        new_df = pd.concat((new_df, tmp), axis=0)\n"
   ],
   "metadata": {
    "collapsed": false,
    "pycharm": {
     "name": "#%%\n"
    }
   }
  },
  {
   "cell_type": "code",
   "execution_count": 90,
   "outputs": [],
   "source": [
    "new_df = new_df.groupby(['roi','sn']).mean().reset_index()"
   ],
   "metadata": {
    "collapsed": false,
    "pycharm": {
     "name": "#%%\n"
    }
   }
  },
  {
   "cell_type": "code",
   "execution_count": 85,
   "outputs": [],
   "source": [],
   "metadata": {
    "collapsed": false,
    "pycharm": {
     "name": "#%%\n"
    }
   }
  },
  {
   "cell_type": "code",
   "execution_count": 93,
   "outputs": [
    {
     "data": {
      "text/plain": "<Figure size 720x432 with 1 Axes>",
      "image/png": "[encoded data removed]"
     },
     "metadata": {
      "needs_background": "light"
     },
     "output_type": "display_data"
    }
   ],
   "source": [
    "sns.set_context(\"notebook\", font_scale=1.5)\n",
    "\n",
    "# Set the size of the figure\n",
    "plt.figure(figsize=(10, 6))  # Adjust the size as needed\n",
    "ax = sns.boxplot(x='roi', y='nan_percent', data=new_df, palette=palette, order=labels)\n",
    "ax.set_ylabel('Percent of voxels below threshold (%)')\n",
    "ax.set_xlabel('ROIs')\n",
    "plt.tight_layout()"
   ],
   "metadata": {
    "collapsed": false,
    "pycharm": {
     "name": "#%%\n"
    }
   }
  },
  {
   "cell_type": "code",
   "execution_count": null,
   "outputs": [],
   "source": [
    "sns.set_context(\"notebook\")\n",
    "# Create a figure with subplots\n",
    "\n",
    "\n",
    "\n",
    "fig, axs = plt.subplots(nrows=1, ncols=len(labels), figsize=(12, 5), sharey=True)\n",
    "# Use a for loop to create violin plots for each subject\n",
    "for i, ax in enumerate(axs):\n",
    "    sns.boxplot(data=all_precisions[i], color=colors[i], ax=ax)\n",
    "    ax.set_title('Subject {}'.format(i+1))\n",
    "    ax.set_ylim(-0.05, 8)\n",
    "    ax.set_xticks([])\n",
    "    ax.set_xticklabels([])\n",
    "\n",
    "# Set common ylabel\n",
    "fig.text(0.08, 0.5, 'Precision values', va='center', rotation='vertical')\n",
    "fig.text(0.5, 0.04, 'Subjects', ha='center', va='center')\n",
    "fig.suptitle('Distribution of Precision Values for Each Subject', y=1.02)\n",
    "\n",
    "# Show the plot\n",
    "utils.save_fig(os.path.join(fig_dir, 'quantification', 'violinplot_sub-all_value-precision.png'))\n",
    "plt.show()"
   ],
   "metadata": {
    "collapsed": false,
    "pycharm": {
     "name": "#%%\n"
    }
   }
  }
 ],
 "metadata": {
  "kernelspec": {
   "display_name": "Python 3",
   "language": "python",
   "name": "python3"
  },
  "language_info": {
   "codemirror_mode": {
    "name": "ipython",
    "version": 2
   },
   "file_extension": ".py",
   "mimetype": "text/x-python",
   "name": "python",
   "nbconvert_exporter": "python",
   "pygments_lexer": "ipython2",
   "version": "2.7.6"
  }
 },
 "nbformat": 4,
 "nbformat_minor": 0
}