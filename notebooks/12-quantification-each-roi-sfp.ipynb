{
 "cells": [
  {
   "cell_type": "code",
   "execution_count": 14,
   "metadata": {
    "collapsed": true
   },
   "outputs": [
    {
     "name": "stdout",
     "output_type": "stream",
     "text": [
      "The autoreload extension is already loaded. To reload it, use:\n",
      "  %reload_ext autoreload\n"
     ]
    }
   ],
   "source": [
    "import os\n",
    "import numpy as np\n",
    "import pandas as pd\n",
    "import seaborn as sns\n",
    "import matplotlib as mpl\n",
    "import matplotlib.pyplot as plt\n",
    "from itertools import product\n",
    "from sfp_nsdsyn import utils\n",
    "from pysurfer.mgz_helper import get_vertices_in_labels, read_label, get_existing_labels_only\n",
    "\n",
    "%load_ext autoreload\n",
    "%autoreload 2"
   ]
  },
  {
   "cell_type": "markdown",
   "source": [
    "# Configurations"
   ],
   "metadata": {
    "collapsed": false,
    "pycharm": {
     "name": "#%% md\n"
    }
   }
  },
  {
   "cell_type": "code",
   "execution_count": 3,
   "outputs": [],
   "source": [
    "nsd_dir ='/Volumes/server/Projects/sfp_nsd/natural-scenes-dataset'\n",
    "output_dir='/Volumes/server/Projects/sfp_nsd/derivatives'\n",
    "fs_subj_dir='/Volumes/server/Projects/sfp_nsd/natural-scenes-dataset/nsddata/freesurfer'\n",
    "overlay_dir='/Volumes/server/Projects/sfp_nsd/derivatives/sfp_maps/mgzs/nsdsyn'\n",
    "fig_dir='/Volumes/server/Projects/sfp_nsd/derivatives/figures/brain_maps/nsdsyn'\n",
    "sn_list = [f'subj{sn:02d}' for sn in np.arange(1,9)]"
   ],
   "metadata": {
    "collapsed": false,
    "pycharm": {
     "name": "#%%\n"
    }
   }
  },
  {
   "cell_type": "code",
   "execution_count": 4,
   "outputs": [],
   "source": [
    "# Additional matplotlib preferences:\n",
    "font_data = {'family':'sans-serif',\n",
    "             'sans-serif':['HelveticaNeue', 'Helvetica', 'Arial'],\n",
    "             'size': 10}\n",
    "mpl.rc('font',**font_data)\n",
    "# we want relatively high-res images, especially when saving to disk.\n",
    "#mpl.rcParams['figure.dpi'] = 72*2\n",
    "#mpl.rcParams['savefig.dpi'] = 72*4"
   ],
   "metadata": {
    "collapsed": false,
    "pycharm": {
     "name": "#%%\n"
    }
   }
  },
  {
   "cell_type": "markdown",
   "source": [
    "# Load base frequency preference maps"
   ],
   "metadata": {
    "collapsed": false,
    "pycharm": {
     "name": "#%% md\n"
    }
   }
  },
  {
   "cell_type": "code",
   "execution_count": 5,
   "outputs": [],
   "source": [
    "labels = ['V1v', 'V1d', 'V2v','V2d', 'V3v','V3d', 'hV4', 'aFFA', 'pFFA', 'PPA']\n",
    "sn = 'subj01'\n",
    "hemi = 'lh'\n",
    "label_path = [os.path.join(fs_subj_dir, sn, 'label', f'{hemi}.V1v.label')]"
   ],
   "metadata": {
    "collapsed": false,
    "pycharm": {
     "name": "#%%\n"
    }
   }
  },
  {
   "cell_type": "code",
   "execution_count": 10,
   "outputs": [
    {
     "data": {
      "text/plain": "(['V1v', 'V1d', 'V2v', 'V2d', 'V3v', 'V3d', 'hV4', 'pFFA', 'PPA'],\n ['/Volumes/server/Projects/sfp_nsd/natural-scenes-dataset/nsddata/freesurfer/subj01/label/lh.V1v.label',\n  '/Volumes/server/Projects/sfp_nsd/natural-scenes-dataset/nsddata/freesurfer/subj01/label/lh.V1d.label',\n  '/Volumes/server/Projects/sfp_nsd/natural-scenes-dataset/nsddata/freesurfer/subj01/label/lh.V2v.label',\n  '/Volumes/server/Projects/sfp_nsd/natural-scenes-dataset/nsddata/freesurfer/subj01/label/lh.V2d.label',\n  '/Volumes/server/Projects/sfp_nsd/natural-scenes-dataset/nsddata/freesurfer/subj01/label/lh.V3v.label',\n  '/Volumes/server/Projects/sfp_nsd/natural-scenes-dataset/nsddata/freesurfer/subj01/label/lh.V3d.label',\n  '/Volumes/server/Projects/sfp_nsd/natural-scenes-dataset/nsddata/freesurfer/subj01/label/lh.hV4.label',\n  '/Volumes/server/Projects/sfp_nsd/natural-scenes-dataset/nsddata/freesurfer/subj01/label/lh.pFFA.label',\n  '/Volumes/server/Projects/sfp_nsd/natural-scenes-dataset/nsddata/freesurfer/subj01/label/lh.PPA.label'])"
     },
     "execution_count": 10,
     "metadata": {},
     "output_type": "execute_result"
    }
   ],
   "source": [
    "get_existing_labels_only(labels, os.path.join(fs_subj_dir, sn, 'label'), 'lh', return_paths=True)"
   ],
   "metadata": {
    "collapsed": false,
    "pycharm": {
     "name": "#%%\n"
    }
   }
  },
  {
   "cell_type": "code",
   "execution_count": 22,
   "outputs": [],
   "source": [
    "lh_rois = {}\n",
    "rh_rois = {}\n",
    "\n",
    "for sn in sn_list:\n",
    "    label_dir = os.path.join(fs_subj_dir, sn, 'label')\n",
    "    lh_labels, lh_label_paths = get_existing_labels_only(labels, label_dir, 'lh', return_paths=True)\n",
    "    rh_labels, rh_label_paths = get_existing_labels_only(labels, label_dir, 'rh', return_paths=True)\n",
    "\n",
    "    mgz_path = os.path.join(overlay_dir, f'lh.sub-{sn}_value-mode_masked.mgz')\n",
    "    lh_rois[sn] = get_vertices_in_labels(mgz_path, lh_label_paths, lh_labels, load_mgz=True, load_label=True)\n",
    "\n",
    "    mgz_path = os.path.join(overlay_dir, f'rh.sub-{sn}_value-mode_masked.mgz')\n",
    "    rh_rois[sn] = get_vertices_in_labels(mgz_path, rh_label_paths, rh_labels, load_mgz=True, load_label=True)"
   ],
   "metadata": {
    "collapsed": false,
    "pycharm": {
     "name": "#%%\n"
    }
   }
  },
  {
   "cell_type": "code",
   "execution_count": 21,
   "outputs": [
    {
     "data": {
      "text/plain": "{'V1v': array([        nan,         nan,         nan, ...,  0.04219302,\n        36.15480042,         nan]),\n 'V1d': array([ 4.46839571,  0.36613363,  4.74744749, ..., 34.07655716,\n        35.73008347, 37.98471069]),\n 'V2v': array([        nan,         nan,         nan, ..., 32.92579269,\n         0.03686928, 33.96117401]),\n 'V2d': array([       nan,        nan,        nan, ..., 0.0394248 , 0.03897432,\n        0.04216313]),\n 'V3v': array([          nan,           nan,           nan, ...,           nan,\n                  nan, 1188.07470703]),\n 'V3d': array([21.85505486, 21.68887329, 22.3069458 , ..., 17.06323814,\n        17.76914215,         nan]),\n 'hV4': array([4.53306176e-02, 3.12500000e-02, 3.12500000e-02, ...,\n                   nan, 2.04800000e+03, 6.98913727e+01]),\n 'aFFA': array([2.29451752, 0.44946393, 7.86809301, ...,        nan,        nan,\n               nan]),\n 'pFFA': array([0.34957454, 5.4528327 , 0.04149927, ...,        nan,        nan,\n               nan]),\n 'PPA': array([91.37568665, 88.80666351, 87.05789185, ...,         nan,\n                nan,         nan])}"
     },
     "execution_count": 21,
     "metadata": {},
     "output_type": "execute_result"
    }
   ],
   "source": [
    "rh_rois[sn]"
   ],
   "metadata": {
    "collapsed": false,
    "pycharm": {
     "name": "#%%\n"
    }
   }
  },
  {
   "cell_type": "code",
   "execution_count": 30,
   "outputs": [],
   "source": [
    "all_df = pd.DataFrame({})\n",
    "for sn in sn_list:\n",
    "    # Convert the dictionary to a DataFrame\n",
    "    data_df = pd.DataFrame({key: pd.Series(value) for key, value in lh_rois[sn].items()})\n",
    "    # Melt the DataFrame to have ROI values in a single column\n",
    "    melted_data = data_df.melt(var_name='ROI', value_name='base frequency preference')\n",
    "    melted_data['hemi'] = 'lh'\n",
    "\n",
    "    data_df = pd.DataFrame({key: pd.Series(value) for key, value in rh_rois[sn].items()})\n",
    "    # Melt the DataFrame to have ROI values in a single column\n",
    "    melted_data_2 = data_df.melt(var_name='ROI', value_name='base frequency preference')\n",
    "    melted_data_2['hemi'] = 'rh'\n",
    "\n",
    "    tmp = pd.concat((melted_data, melted_data_2), axis=0)\n",
    "    tmp['sn'] = sn\n",
    "    all_df = pd.concat((all_df, tmp), axis=0)"
   ],
   "metadata": {
    "collapsed": false,
    "pycharm": {
     "name": "#%%\n"
    }
   }
  },
  {
   "cell_type": "code",
   "execution_count": 100,
   "outputs": [
    {
     "data": {
      "text/plain": "<Figure size 720x432 with 1 Axes>",
      "image/png": "[encoded data removed]"
     },
     "metadata": {
      "needs_background": "light"
     },
     "output_type": "display_data"
    }
   ],
   "source": [
    "# Set the size of the figure\n",
    "plt.figure(figsize=(10, 6))  # Adjust the size as needed\n",
    "ax = sns.boxplot(x='ROI', y='base frequency preference', data=all_df, palette=palette, order=labels)\n",
    "ax.set_ylabel('Base frequency preference')\n",
    "ax.set_ylim(-10, 300)\n",
    "ax.set_xlabel('ROIs')\n",
    "plt.tight_layout()"
   ],
   "metadata": {
    "collapsed": false,
    "pycharm": {
     "name": "#%%\n"
    }
   }
  },
  {
   "cell_type": "code",
   "execution_count": 83,
   "outputs": [],
   "source": [
    "new_df = pd.DataFrame({})\n",
    "for sn, hemi, roi in product(sn_list, ['lh','rh'], labels):\n",
    "    tmp = all_df.query('ROI == @roi & hemi == @hemi & sn == @sn')\n",
    "    all_counts = len(tmp['base frequency preference'])\n",
    "    if all_counts != 0:\n",
    "        nan_counts = np.divide(sum(np.isnan(tmp['base frequency preference'])), all_counts)*100\n",
    "        tmp = pd.DataFrame({'roi': [roi],\n",
    "                            'sn': [sn],\n",
    "                            'hemi': [hemi],\n",
    "                            'nan_percent': [nan_counts]})\n",
    "        new_df = pd.concat((new_df, tmp), axis=0)\n"
   ],
   "metadata": {
    "collapsed": false,
    "pycharm": {
     "name": "#%%\n"
    }
   }
  },
  {
   "cell_type": "code",
   "execution_count": 90,
   "outputs": [],
   "source": [
    "new_df = new_df.groupby(['roi','sn']).mean().reset_index()"
   ],
   "metadata": {
    "collapsed": false,
    "pycharm": {
     "name": "#%%\n"
    }
   }
  },
  {
   "cell_type": "code",
   "execution_count": 84,
   "outputs": [],
   "source": [
    "# Define a colormap from Matplotlib\n",
    "cmap = plt.cm.get_cmap('Blues_r')\n",
    "\n",
    "# Define the number of colors based on the number of ROIs\n",
    "ret_colors = [cmap(i / 10) for i in range(10)]\n",
    "colors = []\n",
    "colors += [ret_colors[0], ret_colors[0], ret_colors[2], ret_colors[2], ret_colors[4], ret_colors[4], ret_colors[6]]"
   ],
   "metadata": {
    "collapsed": false,
    "pycharm": {
     "name": "#%%\n"
    }
   }
  },
  {
   "cell_type": "code",
   "execution_count": 85,
   "outputs": [],
   "source": [
    "# Define a colormap from Matplotlib\n",
    "colors += ['magenta', 'magenta']\n",
    "colors += ['gray']\n",
    "palette = dict(zip(labels, colors))"
   ],
   "metadata": {
    "collapsed": false,
    "pycharm": {
     "name": "#%%\n"
    }
   }
  },
  {
   "cell_type": "code",
   "execution_count": 93,
   "outputs": [
    {
     "data": {
      "text/plain": "<Figure size 720x432 with 1 Axes>",
      "image/png": "[encoded data removed]"
     },
     "metadata": {
      "needs_background": "light"
     },
     "output_type": "display_data"
    }
   ],
   "source": [
    "sns.set_context(\"notebook\", font_scale=1.5)\n",
    "\n",
    "# Set the size of the figure\n",
    "plt.figure(figsize=(10, 6))  # Adjust the size as needed\n",
    "ax = sns.boxplot(x='roi', y='nan_percent', data=new_df, palette=palette, order=labels)\n",
    "ax.set_ylabel('Percent of voxels below threshold (%)')\n",
    "ax.set_xlabel('ROIs')\n",
    "plt.tight_layout()"
   ],
   "metadata": {
    "collapsed": false,
    "pycharm": {
     "name": "#%%\n"
    }
   }
  },
  {
   "cell_type": "code",
   "execution_count": null,
   "outputs": [],
   "source": [
    "sns.set_context(\"notebook\")\n",
    "# Create a figure with subplots\n",
    "\n",
    "\n",
    "\n",
    "fig, axs = plt.subplots(nrows=1, ncols=len(labels), figsize=(12, 5), sharey=True)\n",
    "# Use a for loop to create violin plots for each subject\n",
    "for i, ax in enumerate(axs):\n",
    "    sns.boxplot(data=all_precisions[i], color=colors[i], ax=ax)\n",
    "    ax.set_title('Subject {}'.format(i+1))\n",
    "    ax.set_ylim(-0.05, 8)\n",
    "    ax.set_xticks([])\n",
    "    ax.set_xticklabels([])\n",
    "\n",
    "# Set common ylabel\n",
    "fig.text(0.08, 0.5, 'Precision values', va='center', rotation='vertical')\n",
    "fig.text(0.5, 0.04, 'Subjects', ha='center', va='center')\n",
    "fig.suptitle('Distribution of Precision Values for Each Subject', y=1.02)\n",
    "\n",
    "# Show the plot\n",
    "utils.save_fig(os.path.join(fig_dir, 'quantification', 'violinplot_sub-all_value-precision.png'))\n",
    "plt.show()"
   ],
   "metadata": {
    "collapsed": false,
    "pycharm": {
     "name": "#%%\n"
    }
   }
  }
 ],
 "metadata": {
  "kernelspec": {
   "display_name": "Python 3",
   "language": "python",
   "name": "python3"
  },
  "language_info": {
   "codemirror_mode": {
    "name": "ipython",
    "version": 2
   },
   "file_extension": ".py",
   "mimetype": "text/x-python",
   "name": "python",
   "nbconvert_exporter": "python",
   "pygments_lexer": "ipython2",
   "version": "2.7.6"
  }
 },
 "nbformat": 4,
 "nbformat_minor": 0
}