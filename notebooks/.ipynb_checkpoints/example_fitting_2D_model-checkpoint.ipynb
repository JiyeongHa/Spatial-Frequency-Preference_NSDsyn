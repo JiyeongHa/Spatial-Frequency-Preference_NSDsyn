{
 "cells": [
  {
   "cell_type": "code",
   "execution_count": 32,
   "metadata": {
    "collapsed": true
   },
   "outputs": [],
   "source": [
    "import sys\n",
    "sys.path.append('../../')\n",
    "import os\n",
    "import numpy as np\n",
    "import pandas as pd\n",
    "import matplotlib.pyplot as plt\n",
    "import torch\n",
    "import sfp_nsd_utils as utils"
   ]
  },
  {
   "cell_type": "code",
   "execution_count": 6,
   "outputs": [],
   "source": [
    "sn = 1\n",
    "subj = utils.sub_number_to_string(sn)\n",
    "df_path = '/Volumes/server/Projects/sfp_nsd/natural-scenes-dataset/derivatives/subj_dataframes/for_MATLAB'\n",
    "df = utils.load_df(sn, df_dir=df_path, df_name='mean_df_across_phase.csv')"
   ],
   "metadata": {
    "collapsed": false,
    "pycharm": {
     "name": "#%%\n"
    }
   }
  },
  {
   "cell_type": "code",
   "execution_count": 7,
   "outputs": [
    {
     "data": {
      "text/plain": "   voxel  avg_betas  hemi  visualrois  eccrois  eccentricity       angle  \\\n0      0   1.741667     1         2.0      3.0      1.370705  292.141510   \n1      1   1.309167     1         2.0      3.0      1.270235  291.033051   \n2      2   0.943750     1         2.0      3.0      1.153417  288.243500   \n3      3   1.694167     1         2.0      3.0      1.270225  293.453308   \n4      4   1.639167     1         2.0      3.0      1.247216  293.439117   \n\n         size  names_idx  w_r  w_a  freq_lvl  local_ori  local_sf  \n0   84.840942          0  0.0  6.0         0   0.386442  0.696670  \n1  170.579865          0  0.0  6.0         0   0.367096  0.751774  \n2  220.494080          0  0.0  6.0         0   0.318409  0.827913  \n3  180.973740          0  0.0  6.0         0   0.409337  0.751780  \n4  249.670349          0  0.0  6.0         0   0.409090  0.765649  ",
      "text/html": "<div>\n<style scoped>\n    .dataframe tbody tr th:only-of-type {\n        vertical-align: middle;\n    }\n\n    .dataframe tbody tr th {\n        vertical-align: top;\n    }\n\n    .dataframe thead th {\n        text-align: right;\n    }\n</style>\n<table border=\"1\" class=\"dataframe\">\n  <thead>\n    <tr style=\"text-align: right;\">\n      <th></th>\n      <th>voxel</th>\n      <th>avg_betas</th>\n      <th>hemi</th>\n      <th>visualrois</th>\n      <th>eccrois</th>\n      <th>eccentricity</th>\n      <th>angle</th>\n      <th>size</th>\n      <th>names_idx</th>\n      <th>w_r</th>\n      <th>w_a</th>\n      <th>freq_lvl</th>\n      <th>local_ori</th>\n      <th>local_sf</th>\n    </tr>\n  </thead>\n  <tbody>\n    <tr>\n      <th>0</th>\n      <td>0</td>\n      <td>1.741667</td>\n      <td>1</td>\n      <td>2.0</td>\n      <td>3.0</td>\n      <td>1.370705</td>\n      <td>292.141510</td>\n      <td>84.840942</td>\n      <td>0</td>\n      <td>0.0</td>\n      <td>6.0</td>\n      <td>0</td>\n      <td>0.386442</td>\n      <td>0.696670</td>\n    </tr>\n    <tr>\n      <th>1</th>\n      <td>1</td>\n      <td>1.309167</td>\n      <td>1</td>\n      <td>2.0</td>\n      <td>3.0</td>\n      <td>1.270235</td>\n      <td>291.033051</td>\n      <td>170.579865</td>\n      <td>0</td>\n      <td>0.0</td>\n      <td>6.0</td>\n      <td>0</td>\n      <td>0.367096</td>\n      <td>0.751774</td>\n    </tr>\n    <tr>\n      <th>2</th>\n      <td>2</td>\n      <td>0.943750</td>\n      <td>1</td>\n      <td>2.0</td>\n      <td>3.0</td>\n      <td>1.153417</td>\n      <td>288.243500</td>\n      <td>220.494080</td>\n      <td>0</td>\n      <td>0.0</td>\n      <td>6.0</td>\n      <td>0</td>\n      <td>0.318409</td>\n      <td>0.827913</td>\n    </tr>\n    <tr>\n      <th>3</th>\n      <td>3</td>\n      <td>1.694167</td>\n      <td>1</td>\n      <td>2.0</td>\n      <td>3.0</td>\n      <td>1.270225</td>\n      <td>293.453308</td>\n      <td>180.973740</td>\n      <td>0</td>\n      <td>0.0</td>\n      <td>6.0</td>\n      <td>0</td>\n      <td>0.409337</td>\n      <td>0.751780</td>\n    </tr>\n    <tr>\n      <th>4</th>\n      <td>4</td>\n      <td>1.639167</td>\n      <td>1</td>\n      <td>2.0</td>\n      <td>3.0</td>\n      <td>1.247216</td>\n      <td>293.439117</td>\n      <td>249.670349</td>\n      <td>0</td>\n      <td>0.0</td>\n      <td>6.0</td>\n      <td>0</td>\n      <td>0.409090</td>\n      <td>0.765649</td>\n    </tr>\n  </tbody>\n</table>\n</div>"
     },
     "execution_count": 7,
     "metadata": {},
     "output_type": "execute_result"
    }
   ],
   "source": [
    "df.head()"
   ],
   "metadata": {
    "collapsed": false,
    "pycharm": {
     "name": "#%%\n"
    }
   }
  },
  {
   "cell_type": "code",
   "execution_count": 9,
   "outputs": [],
   "source": [
    "new_df = df.query('voxel== 1 | voxel== 2')"
   ],
   "metadata": {
    "collapsed": false,
    "pycharm": {
     "name": "#%%\n"
    }
   }
  },
  {
   "cell_type": "code",
   "execution_count": 16,
   "outputs": [],
   "source": [
    "sf_values = torch.from_numpy(new_df['local_sf'].values)"
   ],
   "metadata": {
    "collapsed": false,
    "pycharm": {
     "name": "#%%\n"
    }
   }
  },
  {
   "cell_type": "code",
   "execution_count": 17,
   "outputs": [],
   "source": [
    "ecc_values = torch.from_numpy(new_df['eccentricity'].values)"
   ],
   "metadata": {
    "collapsed": false,
    "pycharm": {
     "name": "#%%\n"
    }
   }
  },
  {
   "cell_type": "code",
   "execution_count": 36,
   "outputs": [
    {
     "data": {
      "text/plain": "tensor([1.2702, 1.1534, 1.2702, 1.1534, 1.2702, 1.1534, 1.2702, 1.1534, 1.2702,\n        1.1534, 1.2702, 1.1534, 1.2702, 1.1534, 1.2702, 1.1534, 1.2702, 1.1534,\n        1.2702, 1.1534, 1.2702, 1.1534, 1.2702, 1.1534, 1.2702, 1.1534, 1.2702,\n        1.1534, 1.2702, 1.1534, 1.2702, 1.1534, 1.2702, 1.1534, 1.2702, 1.1534,\n        1.2702, 1.1534, 1.2702, 1.1534, 1.2702, 1.1534, 1.2702, 1.1534, 1.2702,\n        1.1534, 1.2702, 1.1534, 1.2702, 1.1534, 1.2702, 1.1534, 1.2702, 1.1534,\n        1.2702, 1.1534], dtype=torch.float64)"
     },
     "execution_count": 36,
     "metadata": {},
     "output_type": "execute_result"
    }
   ],
   "source": [
    "ecc_values"
   ],
   "metadata": {
    "collapsed": false,
    "pycharm": {
     "name": "#%%\n"
    }
   }
  },
  {
   "cell_type": "code",
   "execution_count": 18,
   "outputs": [],
   "source": [
    "beta_values = torch.from_numpy(new_df['avg_betas'].values)"
   ],
   "metadata": {
    "collapsed": false,
    "pycharm": {
     "name": "#%%\n"
    }
   }
  },
  {
   "cell_type": "code",
   "execution_count": 19,
   "outputs": [],
   "source": [
    "class SFModel(torch.nn.Module):\n",
    "    def __init__(self):\n",
    "        # this runs the initialization code for torch.nn.Module\n",
    "        super().__init__()\n",
    "        # by marking something as a parameter, we're making it clear that this is what we want to update\n",
    "        self.sigma = torch.nn.Parameter(torch.rand(1, dtype=torch.float32))\n",
    "        self.slope = torch.nn.Parameter(torch.rand(1, dtype=torch.float32))\n",
    "        self.intercept = torch.nn.Parameter(torch.rand(1, dtype=torch.float32))\n",
    "\n",
    "    def forward(self, ecc, sf):\n",
    "        p_v = self.slope * ecc + self.intercept\n",
    "        b_v = torch.exp(-(torch.log2(sf) + torch.log2(p_v))**2 / 2*(self.sigma**2))\n",
    "        return b_v"
   ],
   "metadata": {
    "collapsed": false,
    "pycharm": {
     "name": "#%%\n"
    }
   }
  },
  {
   "cell_type": "code",
   "execution_count": 20,
   "outputs": [],
   "source": [
    "test_model = SFModel()"
   ],
   "metadata": {
    "collapsed": false,
    "pycharm": {
     "name": "#%%\n"
    }
   }
  },
  {
   "cell_type": "code",
   "execution_count": 22,
   "outputs": [
    {
     "data": {
      "text/plain": "tensor([0.9911, 0.9881, 0.9967, 0.9948, 0.9911, 0.9881, 0.9967, 0.9948, 0.7961,\n        0.7846, 0.8446, 0.8341, 0.7961, 0.7846, 0.8446, 0.8341, 0.4812, 0.4689,\n        0.4865, 0.4742, 0.4812, 0.4689, 0.4865, 0.4742, 0.2128, 0.2050, 0.2149,\n        0.2070, 0.2128, 0.2050, 0.2149, 0.2070, 0.2149, 0.2070, 0.2149, 0.2070,\n        0.2149, 0.2070, 0.2149, 0.2070, 0.0684, 0.0651, 0.0678, 0.0646, 0.0684,\n        0.0651, 0.0678, 0.0646, 0.0164, 0.0154, 0.0161, 0.0152, 0.0164, 0.0154,\n        0.0161, 0.0152], dtype=torch.float64, grad_fn=<ExpBackward0>)"
     },
     "execution_count": 22,
     "metadata": {},
     "output_type": "execute_result"
    }
   ],
   "source": [
    "test_model(ecc_values, sf_values) # predictions of params"
   ],
   "metadata": {
    "collapsed": false,
    "pycharm": {
     "name": "#%%\n"
    }
   }
  },
  {
   "cell_type": "code",
   "execution_count": 23,
   "outputs": [
    {
     "data": {
      "text/plain": "tensor([ 1.3092,  0.9437,  1.3158,  0.8783,  0.5371,  0.3146,  1.1179,  0.7517,\n         1.3175,  0.7254,  1.1025,  0.7346,  1.1658,  0.7808,  1.2162,  0.8121,\n         0.9221,  0.8204,  1.0375,  0.6450,  1.0612,  0.7579,  2.0783,  1.5275,\n         1.2912,  1.0858,  0.8196,  0.5683,  0.7317,  0.5229,  1.4708,  0.9600,\n         1.8071,  1.3808,  0.9083,  0.4833,  0.8867,  0.4783,  0.9825,  0.9183,\n         0.4808,  0.1158,  1.6104,  1.0492,  1.1842,  0.8471,  1.0708,  0.6396,\n         0.5367,  0.2817,  0.0667, -0.1167, -0.1496, -0.3254,  0.9363,  0.6158],\n       dtype=torch.float64)"
     },
     "execution_count": 23,
     "metadata": {},
     "output_type": "execute_result"
    }
   ],
   "source": [
    "beta_values"
   ],
   "metadata": {
    "collapsed": false,
    "pycharm": {
     "name": "#%%\n"
    }
   }
  },
  {
   "cell_type": "code",
   "execution_count": 24,
   "outputs": [],
   "source": [
    "def obj_func(x, y):\n",
    "    # we have to use torch.mean (instead of np.mean) but the basic arithmetic symbols (-, +, **, etc) are all fine\n",
    "    return torch.mean((x-y)**2)"
   ],
   "metadata": {
    "collapsed": false,
    "pycharm": {
     "name": "#%%\n"
    }
   }
  },
  {
   "cell_type": "code",
   "execution_count": 25,
   "outputs": [
    {
     "data": {
      "text/plain": "tensor(0.4600, dtype=torch.float64, grad_fn=<MeanBackward0>)"
     },
     "execution_count": 25,
     "metadata": {},
     "output_type": "execute_result"
    }
   ],
   "source": [
    "obj_func(beta_values, test_model(ecc_values, sf_values))"
   ],
   "metadata": {
    "collapsed": false,
    "pycharm": {
     "name": "#%%\n"
    }
   }
  },
  {
   "cell_type": "code",
   "execution_count": 27,
   "outputs": [],
   "source": [
    "optimizer = torch.optim.Adam(test_model.parameters(), lr=1e-2)"
   ],
   "metadata": {
    "collapsed": false,
    "pycharm": {
     "name": "#%%\n"
    }
   }
  },
  {
   "cell_type": "code",
   "execution_count": 30,
   "outputs": [],
   "source": [
    "losses = []\n",
    "param_vals = []\n",
    "pbar = range(100)\n",
    "for i in pbar:\n",
    "    # these next four lines are the core of the loop:\n",
    "    # 1. generate the prediction\n",
    "    y_pred = test_model.forward(ecc_values, sf_values)\n",
    "    # 2. compute the loss\n",
    "    loss = obj_func(beta_values, y_pred)\n",
    "    # 3. compute all the gradients (\"run the backwards pass\")\n",
    "    loss.backward()\n",
    "    # 4. update all the parameters (\"step the optimizer\")\n",
    "    optimizer.step()\n",
    "    # these next lines are just to keep track of the loss and parameter values over time\n",
    "    # .item() and .clone().detach() do the same thing -- make sure that we just get the *value*,\n",
    "    # rather than the *object* itself (which will update on each loop) (.item() only works for scalars)\n",
    "    losses.append(loss.item())\n",
    "    param_vals.append(test_model.sigma.clone().detach())\n",
    "    #pbar.set_postfix(loss=losses[-1], params=param_vals[-1])\n",
    "# turn this list of 1d tensors into one 2d tensor\n",
    "param_vals = torch.stack(param_vals)"
   ],
   "metadata": {
    "collapsed": false,
    "pycharm": {
     "name": "#%%\n"
    }
   }
  },
  {
   "cell_type": "code",
   "execution_count": 33,
   "outputs": [
    {
     "data": {
      "text/plain": "Text(0.5, 1.0, 'Loss')"
     },
     "execution_count": 33,
     "metadata": {},
     "output_type": "execute_result"
    },
    {
     "data": {
      "text/plain": "<Figure size 720x360 with 2 Axes>",
      "image/png": "[encoded data removed]"
     },
     "metadata": {
      "needs_background": "light"
     },
     "output_type": "display_data"
    }
   ],
   "source": [
    "fig, axes = plt.subplots(1, 2, figsize=(10, 5))\n",
    "axes[0].plot(param_vals)\n",
    "axes[0].set_title('Parameter values')\n",
    "axes[1].plot(losses)\n",
    "axes[1].set_title(\"Loss\")"
   ],
   "metadata": {
    "collapsed": false,
    "pycharm": {
     "name": "#%%\n"
    }
   }
  },
  {
   "cell_type": "code",
   "execution_count": 35,
   "outputs": [
    {
     "data": {
      "text/plain": "tensor([[ 0.5997],\n        [ 0.5901],\n        [ 0.5806],\n        [ 0.5709],\n        [ 0.5611],\n        [ 0.5513],\n        [ 0.5413],\n        [ 0.5312],\n        [ 0.5210],\n        [ 0.5107],\n        [ 0.5002],\n        [ 0.4896],\n        [ 0.4789],\n        [ 0.4680],\n        [ 0.4571],\n        [ 0.4460],\n        [ 0.4347],\n        [ 0.4234],\n        [ 0.4120],\n        [ 0.4005],\n        [ 0.3888],\n        [ 0.3771],\n        [ 0.3653],\n        [ 0.3534],\n        [ 0.3415],\n        [ 0.3295],\n        [ 0.3175],\n        [ 0.3054],\n        [ 0.2933],\n        [ 0.2812],\n        [ 0.2691],\n        [ 0.2570],\n        [ 0.2449],\n        [ 0.2329],\n        [ 0.2209],\n        [ 0.2090],\n        [ 0.1971],\n        [ 0.1853],\n        [ 0.1736],\n        [ 0.1620],\n        [ 0.1505],\n        [ 0.1391],\n        [ 0.1277],\n        [ 0.1165],\n        [ 0.1054],\n        [ 0.0944],\n        [ 0.0834],\n        [ 0.0726],\n        [ 0.0619],\n        [ 0.0512],\n        [ 0.0406],\n        [ 0.0301],\n        [ 0.0196],\n        [ 0.0092],\n        [-0.0011],\n        [-0.0114],\n        [-0.0216],\n        [-0.0319],\n        [-0.0420],\n        [    nan],\n        [    nan],\n        [    nan],\n        [    nan],\n        [    nan],\n        [    nan],\n        [    nan],\n        [    nan],\n        [    nan],\n        [    nan],\n        [    nan],\n        [    nan],\n        [    nan],\n        [    nan],\n        [    nan],\n        [    nan],\n        [    nan],\n        [    nan],\n        [    nan],\n        [    nan],\n        [    nan],\n        [    nan],\n        [    nan],\n        [    nan],\n        [    nan],\n        [    nan],\n        [    nan],\n        [    nan],\n        [    nan],\n        [    nan],\n        [    nan],\n        [    nan],\n        [    nan],\n        [    nan],\n        [    nan],\n        [    nan],\n        [    nan],\n        [    nan],\n        [    nan],\n        [    nan],\n        [    nan]])"
     },
     "execution_count": 35,
     "metadata": {},
     "output_type": "execute_result"
    }
   ],
   "source": [
    "param_vals # keep track of predictions as well. try with simulated data to check the model (1 without noise, and then 2 with noise, and 3 then increase noise to see when the model fails.)"
   ],
   "metadata": {
    "collapsed": false,
    "pycharm": {
     "name": "#%%\n"
    }
   }
  },
  {
   "cell_type": "code",
   "execution_count": 38,
   "outputs": [
    {
     "data": {
      "text/plain": "[Parameter containing:\n tensor([nan], requires_grad=True),\n Parameter containing:\n tensor([nan], requires_grad=True),\n Parameter containing:\n tensor([nan], requires_grad=True)]"
     },
     "execution_count": 38,
     "metadata": {},
     "output_type": "execute_result"
    }
   ],
   "source": [
    "list(test_model.parameters()) # using this value, I can now make predictions on preferred period"
   ],
   "metadata": {
    "collapsed": false,
    "pycharm": {
     "name": "#%%\n"
    }
   }
  },
  {
   "cell_type": "code",
   "execution_count": 39,
   "outputs": [
    {
     "data": {
      "text/plain": "torch.Size([56])"
     },
     "execution_count": 39,
     "metadata": {},
     "output_type": "execute_result"
    }
   ],
   "source": [
    "ecc_values.shape # for weights, inputs can be 2-D so that the output is also 2-D."
   ],
   "metadata": {
    "collapsed": false,
    "pycharm": {
     "name": "#%%\n"
    }
   }
  },
  {
   "cell_type": "code",
   "execution_count": null,
   "outputs": [],
   "source": [],
   "metadata": {
    "collapsed": false,
    "pycharm": {
     "name": "#%%\n"
    }
   }
  }
 ],
 "metadata": {
  "kernelspec": {
   "display_name": "Python 3",
   "language": "python",
   "name": "python3"
  },
  "language_info": {
   "codemirror_mode": {
    "name": "ipython",
    "version": 2
   },
   "file_extension": ".py",
   "mimetype": "text/x-python",
   "name": "python",
   "nbconvert_exporter": "python",
   "pygments_lexer": "ipython2",
   "version": "2.7.6"
  }
 },
 "nbformat": 4,
 "nbformat_minor": 0
}