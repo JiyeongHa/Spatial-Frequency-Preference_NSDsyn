{
 "cells": [
  {
   "cell_type": "markdown",
   "source": [
    "This notebook presents how to fit log Gaussian tuning curves to the data from the NSDsyn dataset. In this example, the data is first binned by eccentricity (0.5-1, 1-2, & 2-4 deg) and then averaged across stimulus classes. The tuning curves are fitted for each eccentricity bin. \n",
    "\n",
    "Related snakemake rules: `binning`, `fit_tuning_curves`"
   ],
   "metadata": {
    "collapsed": false
   }
  },
  {
   "cell_type": "markdown",
   "source": [
    "# Configurations"
   ],
   "metadata": {
    "collapsed": false
   }
  },
  {
   "cell_type": "code",
   "source": [
    "import sys\n",
    "sys.path.append('..')\n",
    "import os\n",
    "import pandas as pd\n",
    "import numpy as np\n",
    "import matplotlib.pyplot as plt\n",
    "import seaborn as sns\n",
    "from sfp_nsdsyn import *\n",
    "import warnings\n",
    "import itertools\n",
    "\n",
    "warnings.filterwarnings(\"ignore\", category=UserWarning)\n",
    "pd.options.mode.chained_assignment = None\n",
    "%load_ext autoreload\n",
    "%autoreload 2"
   ],
   "metadata": {
    "collapsed": true,
    "ExecuteTime": {
     "end_time": "2024-09-18T20:25:47.576478Z",
     "start_time": "2024-09-18T20:25:46.525563Z"
    }
   },
   "outputs": [],
   "execution_count": 1
  },
  {
   "cell_type": "code",
   "source": [
    "output_dir='/Volumes/server/Projects/sfp_nsd/derivatives'\n",
    "fig_dir=os.path.join(output_dir, 'figures/sfp_model/results_1D/nsdsyn')\n",
    "precision_dir='/Volumes/server/Projects/sfp_nsd/derivatives/dataframes/nsdsyn/precision'"
   ],
   "metadata": {
    "collapsed": false,
    "ExecuteTime": {
     "end_time": "2024-09-18T20:25:48.437749Z",
     "start_time": "2024-09-18T20:25:48.404054Z"
    }
   },
   "outputs": [],
   "execution_count": 2
  },
  {
   "cell_type": "code",
   "source": [
    "stim_classes=['annulus', 'pinwheel', 'forward spiral', 'reverse spiral']\n",
    "roi_list=['V1','V2','V3']\n",
    "lr = 0.005\n",
    "max_epoch = 8000\n",
    "subj_list = [utils.sub_number_to_string(sn, 'nsdsyn') for sn in np.arange(1,9)]\n",
    "subj='subj01'\n",
    "roi='V3'\n",
    "voxels='pRFcenter'\n",
    "stim_class='forward-spiral'"
   ],
   "metadata": {
    "collapsed": false,
    "ExecuteTime": {
     "end_time": "2024-09-18T20:34:00.487163Z",
     "start_time": "2024-09-18T20:34:00.405258Z"
    }
   },
   "outputs": [],
   "execution_count": 25
  },
  {
   "cell_type": "markdown",
   "source": [
    "# Eccentricity bin information"
   ],
   "metadata": {
    "collapsed": false
   }
  },
  {
   "cell_type": "code",
   "source": [
    "e1, e2=0.5, 4\n",
    "enum='log3'\n",
    "enum_range=range(3) if enum=='log3' else range(enum)\n",
    "bin_list, bin_labels = tuning.get_bin_labels(e1, e2, enum=enum)\n",
    "ecc_colors = utils.get_continuous_colors(len(bin_labels)+1, '#3f0377')\n",
    "ecc_colors = ecc_colors[1:][::-1]\n",
    "ecc_colors = dict(zip(bin_labels, ecc_colors))"
   ],
   "metadata": {
    "collapsed": false,
    "ExecuteTime": {
     "end_time": "2024-09-18T20:33:22.246352Z",
     "start_time": "2024-09-18T20:33:22.215144Z"
    }
   },
   "outputs": [],
   "execution_count": 21
  },
  {
   "cell_type": "markdown",
   "source": [
    "# Load betas and experimental design information"
   ],
   "metadata": {
    "collapsed": false
   }
  },
  {
   "cell_type": "code",
   "source": [
    "subj_df = pd.read_csv(os.path.join(output_dir, 'dataframes', 'nsdsyn', 'model', f'dset-nsdsyn_sub-{subj}_roi-{roi}_vs-pRFcenter_tavg-False.csv'))\n",
    "#subj_df = subj_df.query('~names.str.contains(\"intermediate\").values')\n"
   ],
   "metadata": {
    "collapsed": false,
    "ExecuteTime": {
     "end_time": "2024-09-18T20:40:29.447098Z",
     "start_time": "2024-09-18T20:40:28.335129Z"
    }
   },
   "outputs": [],
   "execution_count": 36
  },
  {
   "metadata": {
    "ExecuteTime": {
     "end_time": "2024-09-18T20:40:32.593958Z",
     "start_time": "2024-09-18T20:40:32.418065Z"
    }
   },
   "cell_type": "code",
   "source": [
    "subj_df"
   ],
   "outputs": [
    {
     "data": {
      "text/plain": [
       "        image_idx  stim_idx   w_r   w_a     phase  class_idx  phase_idx  \\\n",
       "0             105         0   0.0   6.0  0.000000          0          0   \n",
       "1             105         0   0.0   6.0  0.000000          0          0   \n",
       "2             105         0   0.0   6.0  0.000000          0          0   \n",
       "3             105         0   0.0   6.0  0.000000          0          0   \n",
       "4             105         0   0.0   6.0  0.000000          0          0   \n",
       "...           ...       ...   ...   ...       ...        ...        ...   \n",
       "597627        216       111  14.0 -34.0  4.712389         27          6   \n",
       "597628        216       111  14.0 -34.0  4.712389         27          6   \n",
       "597629        216       111  14.0 -34.0  4.712389         27          6   \n",
       "597630        216       111  14.0 -34.0  4.712389         27          6   \n",
       "597631        216       111  14.0 -34.0  4.712389         27          6   \n",
       "\n",
       "           names  freq_lvl  voxel  ... eccentricity     angle       size  \\\n",
       "0       pinwheel         0      1  ...     4.135467  5.850342   2.123012   \n",
       "1       pinwheel         0      1  ...     4.135467  5.850342   2.123012   \n",
       "2       pinwheel         0      2  ...     3.343621  5.866106   1.541623   \n",
       "3       pinwheel         0      2  ...     3.343621  5.866106   1.541623   \n",
       "4       pinwheel         0      3  ...     3.172303  5.713500   1.506241   \n",
       "...          ...       ...    ...  ...          ...       ...        ...   \n",
       "597627  mixtures         3   5420  ...     2.907010  0.916491  61.154491   \n",
       "597628  mixtures         3   5467  ...     3.422519  2.636247   1.581276   \n",
       "597629  mixtures         3   5467  ...     3.422519  2.636247   1.581276   \n",
       "597630  mixtures         3   5511  ...     3.904501  4.324888   0.036768   \n",
       "597631  mixtures         3   5511  ...     3.904501  4.324888   0.036768   \n",
       "\n",
       "        visualrois  vroinames  eccrois  local_sf  local_ori  hemi     sub  \n",
       "0              6.0         V3      4.0  0.230912   1.137953    lh  subj01  \n",
       "1              6.0         V3      4.0  0.230912   1.137953    lh  subj01  \n",
       "2              6.0         V3      4.0  0.285597   1.153717    lh  subj01  \n",
       "3              6.0         V3      4.0  0.285597   1.153717    lh  subj01  \n",
       "4              6.0         V3      4.0  0.301021   1.001111    lh  subj01  \n",
       "...            ...        ...      ...       ...        ...   ...     ...  \n",
       "597627         5.0         V3      5.0  2.013084   2.877895    rh  subj01  \n",
       "597628         5.0         V3      5.0  1.709868   1.456058    rh  subj01  \n",
       "597629         5.0         V3      5.0  1.709868   1.456058    rh  subj01  \n",
       "597630         5.0         V3      5.0  1.498797   0.003106    rh  subj01  \n",
       "597631         5.0         V3      5.0  1.498797   0.003106    rh  subj01  \n",
       "\n",
       "[597632 rows x 22 columns]"
      ],
      "text/html": [
       "<div>\n",
       "<style scoped>\n",
       "    .dataframe tbody tr th:only-of-type {\n",
       "        vertical-align: middle;\n",
       "    }\n",
       "\n",
       "    .dataframe tbody tr th {\n",
       "        vertical-align: top;\n",
       "    }\n",
       "\n",
       "    .dataframe thead th {\n",
       "        text-align: right;\n",
       "    }\n",
       "</style>\n",
       "<table border=\"1\" class=\"dataframe\">\n",
       "  <thead>\n",
       "    <tr style=\"text-align: right;\">\n",
       "      <th></th>\n",
       "      <th>image_idx</th>\n",
       "      <th>stim_idx</th>\n",
       "      <th>w_r</th>\n",
       "      <th>w_a</th>\n",
       "      <th>phase</th>\n",
       "      <th>class_idx</th>\n",
       "      <th>phase_idx</th>\n",
       "      <th>names</th>\n",
       "      <th>freq_lvl</th>\n",
       "      <th>voxel</th>\n",
       "      <th>...</th>\n",
       "      <th>eccentricity</th>\n",
       "      <th>angle</th>\n",
       "      <th>size</th>\n",
       "      <th>visualrois</th>\n",
       "      <th>vroinames</th>\n",
       "      <th>eccrois</th>\n",
       "      <th>local_sf</th>\n",
       "      <th>local_ori</th>\n",
       "      <th>hemi</th>\n",
       "      <th>sub</th>\n",
       "    </tr>\n",
       "  </thead>\n",
       "  <tbody>\n",
       "    <tr>\n",
       "      <th>0</th>\n",
       "      <td>105</td>\n",
       "      <td>0</td>\n",
       "      <td>0.0</td>\n",
       "      <td>6.0</td>\n",
       "      <td>0.000000</td>\n",
       "      <td>0</td>\n",
       "      <td>0</td>\n",
       "      <td>pinwheel</td>\n",
       "      <td>0</td>\n",
       "      <td>1</td>\n",
       "      <td>...</td>\n",
       "      <td>4.135467</td>\n",
       "      <td>5.850342</td>\n",
       "      <td>2.123012</td>\n",
       "      <td>6.0</td>\n",
       "      <td>V3</td>\n",
       "      <td>4.0</td>\n",
       "      <td>0.230912</td>\n",
       "      <td>1.137953</td>\n",
       "      <td>lh</td>\n",
       "      <td>subj01</td>\n",
       "    </tr>\n",
       "    <tr>\n",
       "      <th>1</th>\n",
       "      <td>105</td>\n",
       "      <td>0</td>\n",
       "      <td>0.0</td>\n",
       "      <td>6.0</td>\n",
       "      <td>0.000000</td>\n",
       "      <td>0</td>\n",
       "      <td>0</td>\n",
       "      <td>pinwheel</td>\n",
       "      <td>0</td>\n",
       "      <td>1</td>\n",
       "      <td>...</td>\n",
       "      <td>4.135467</td>\n",
       "      <td>5.850342</td>\n",
       "      <td>2.123012</td>\n",
       "      <td>6.0</td>\n",
       "      <td>V3</td>\n",
       "      <td>4.0</td>\n",
       "      <td>0.230912</td>\n",
       "      <td>1.137953</td>\n",
       "      <td>lh</td>\n",
       "      <td>subj01</td>\n",
       "    </tr>\n",
       "    <tr>\n",
       "      <th>2</th>\n",
       "      <td>105</td>\n",
       "      <td>0</td>\n",
       "      <td>0.0</td>\n",
       "      <td>6.0</td>\n",
       "      <td>0.000000</td>\n",
       "      <td>0</td>\n",
       "      <td>0</td>\n",
       "      <td>pinwheel</td>\n",
       "      <td>0</td>\n",
       "      <td>2</td>\n",
       "      <td>...</td>\n",
       "      <td>3.343621</td>\n",
       "      <td>5.866106</td>\n",
       "      <td>1.541623</td>\n",
       "      <td>6.0</td>\n",
       "      <td>V3</td>\n",
       "      <td>4.0</td>\n",
       "      <td>0.285597</td>\n",
       "      <td>1.153717</td>\n",
       "      <td>lh</td>\n",
       "      <td>subj01</td>\n",
       "    </tr>\n",
       "    <tr>\n",
       "      <th>3</th>\n",
       "      <td>105</td>\n",
       "      <td>0</td>\n",
       "      <td>0.0</td>\n",
       "      <td>6.0</td>\n",
       "      <td>0.000000</td>\n",
       "      <td>0</td>\n",
       "      <td>0</td>\n",
       "      <td>pinwheel</td>\n",
       "      <td>0</td>\n",
       "      <td>2</td>\n",
       "      <td>...</td>\n",
       "      <td>3.343621</td>\n",
       "      <td>5.866106</td>\n",
       "      <td>1.541623</td>\n",
       "      <td>6.0</td>\n",
       "      <td>V3</td>\n",
       "      <td>4.0</td>\n",
       "      <td>0.285597</td>\n",
       "      <td>1.153717</td>\n",
       "      <td>lh</td>\n",
       "      <td>subj01</td>\n",
       "    </tr>\n",
       "    <tr>\n",
       "      <th>4</th>\n",
       "      <td>105</td>\n",
       "      <td>0</td>\n",
       "      <td>0.0</td>\n",
       "      <td>6.0</td>\n",
       "      <td>0.000000</td>\n",
       "      <td>0</td>\n",
       "      <td>0</td>\n",
       "      <td>pinwheel</td>\n",
       "      <td>0</td>\n",
       "      <td>3</td>\n",
       "      <td>...</td>\n",
       "      <td>3.172303</td>\n",
       "      <td>5.713500</td>\n",
       "      <td>1.506241</td>\n",
       "      <td>6.0</td>\n",
       "      <td>V3</td>\n",
       "      <td>4.0</td>\n",
       "      <td>0.301021</td>\n",
       "      <td>1.001111</td>\n",
       "      <td>lh</td>\n",
       "      <td>subj01</td>\n",
       "    </tr>\n",
       "    <tr>\n",
       "      <th>...</th>\n",
       "      <td>...</td>\n",
       "      <td>...</td>\n",
       "      <td>...</td>\n",
       "      <td>...</td>\n",
       "      <td>...</td>\n",
       "      <td>...</td>\n",
       "      <td>...</td>\n",
       "      <td>...</td>\n",
       "      <td>...</td>\n",
       "      <td>...</td>\n",
       "      <td>...</td>\n",
       "      <td>...</td>\n",
       "      <td>...</td>\n",
       "      <td>...</td>\n",
       "      <td>...</td>\n",
       "      <td>...</td>\n",
       "      <td>...</td>\n",
       "      <td>...</td>\n",
       "      <td>...</td>\n",
       "      <td>...</td>\n",
       "      <td>...</td>\n",
       "    </tr>\n",
       "    <tr>\n",
       "      <th>597627</th>\n",
       "      <td>216</td>\n",
       "      <td>111</td>\n",
       "      <td>14.0</td>\n",
       "      <td>-34.0</td>\n",
       "      <td>4.712389</td>\n",
       "      <td>27</td>\n",
       "      <td>6</td>\n",
       "      <td>mixtures</td>\n",
       "      <td>3</td>\n",
       "      <td>5420</td>\n",
       "      <td>...</td>\n",
       "      <td>2.907010</td>\n",
       "      <td>0.916491</td>\n",
       "      <td>61.154491</td>\n",
       "      <td>5.0</td>\n",
       "      <td>V3</td>\n",
       "      <td>5.0</td>\n",
       "      <td>2.013084</td>\n",
       "      <td>2.877895</td>\n",
       "      <td>rh</td>\n",
       "      <td>subj01</td>\n",
       "    </tr>\n",
       "    <tr>\n",
       "      <th>597628</th>\n",
       "      <td>216</td>\n",
       "      <td>111</td>\n",
       "      <td>14.0</td>\n",
       "      <td>-34.0</td>\n",
       "      <td>4.712389</td>\n",
       "      <td>27</td>\n",
       "      <td>6</td>\n",
       "      <td>mixtures</td>\n",
       "      <td>3</td>\n",
       "      <td>5467</td>\n",
       "      <td>...</td>\n",
       "      <td>3.422519</td>\n",
       "      <td>2.636247</td>\n",
       "      <td>1.581276</td>\n",
       "      <td>5.0</td>\n",
       "      <td>V3</td>\n",
       "      <td>5.0</td>\n",
       "      <td>1.709868</td>\n",
       "      <td>1.456058</td>\n",
       "      <td>rh</td>\n",
       "      <td>subj01</td>\n",
       "    </tr>\n",
       "    <tr>\n",
       "      <th>597629</th>\n",
       "      <td>216</td>\n",
       "      <td>111</td>\n",
       "      <td>14.0</td>\n",
       "      <td>-34.0</td>\n",
       "      <td>4.712389</td>\n",
       "      <td>27</td>\n",
       "      <td>6</td>\n",
       "      <td>mixtures</td>\n",
       "      <td>3</td>\n",
       "      <td>5467</td>\n",
       "      <td>...</td>\n",
       "      <td>3.422519</td>\n",
       "      <td>2.636247</td>\n",
       "      <td>1.581276</td>\n",
       "      <td>5.0</td>\n",
       "      <td>V3</td>\n",
       "      <td>5.0</td>\n",
       "      <td>1.709868</td>\n",
       "      <td>1.456058</td>\n",
       "      <td>rh</td>\n",
       "      <td>subj01</td>\n",
       "    </tr>\n",
       "    <tr>\n",
       "      <th>597630</th>\n",
       "      <td>216</td>\n",
       "      <td>111</td>\n",
       "      <td>14.0</td>\n",
       "      <td>-34.0</td>\n",
       "      <td>4.712389</td>\n",
       "      <td>27</td>\n",
       "      <td>6</td>\n",
       "      <td>mixtures</td>\n",
       "      <td>3</td>\n",
       "      <td>5511</td>\n",
       "      <td>...</td>\n",
       "      <td>3.904501</td>\n",
       "      <td>4.324888</td>\n",
       "      <td>0.036768</td>\n",
       "      <td>5.0</td>\n",
       "      <td>V3</td>\n",
       "      <td>5.0</td>\n",
       "      <td>1.498797</td>\n",
       "      <td>0.003106</td>\n",
       "      <td>rh</td>\n",
       "      <td>subj01</td>\n",
       "    </tr>\n",
       "    <tr>\n",
       "      <th>597631</th>\n",
       "      <td>216</td>\n",
       "      <td>111</td>\n",
       "      <td>14.0</td>\n",
       "      <td>-34.0</td>\n",
       "      <td>4.712389</td>\n",
       "      <td>27</td>\n",
       "      <td>6</td>\n",
       "      <td>mixtures</td>\n",
       "      <td>3</td>\n",
       "      <td>5511</td>\n",
       "      <td>...</td>\n",
       "      <td>3.904501</td>\n",
       "      <td>4.324888</td>\n",
       "      <td>0.036768</td>\n",
       "      <td>5.0</td>\n",
       "      <td>V3</td>\n",
       "      <td>5.0</td>\n",
       "      <td>1.498797</td>\n",
       "      <td>0.003106</td>\n",
       "      <td>rh</td>\n",
       "      <td>subj01</td>\n",
       "    </tr>\n",
       "  </tbody>\n",
       "</table>\n",
       "<p>597632 rows × 22 columns</p>\n",
       "</div>"
      ]
     },
     "execution_count": 37,
     "metadata": {},
     "output_type": "execute_result"
    }
   ],
   "execution_count": 37
  },
  {
   "metadata": {},
   "cell_type": "code",
   "outputs": [],
   "execution_count": null,
   "source": []
  },
  {
   "metadata": {
    "collapsed": false
   },
   "cell_type": "markdown",
   "source": [
    "# 1. Binning"
   ]
  },
  {
   "cell_type": "code",
   "source": [
    "subj_df['ecc_bin'] = tuning.bin_ecc(subj_df['eccentricity'], bin_list, bin_labels)\n",
    "bin_df = subj_df.query('~names.str.contains(\"mixtures\").values')\n",
    "bin_df = tuning.summary_stat_for_ecc_bin(bin_df,\n",
    "                                       to_group=['sub','names', 'vroinames','ecc_bin','freq_lvl'],\n",
    "                                       to_bin=['betas', 'local_sf'],\n",
    "                                       central_tendency='mean')"
   ],
   "metadata": {
    "collapsed": false,
    "ExecuteTime": {
     "end_time": "2024-09-18T20:40:52.072225Z",
     "start_time": "2024-09-18T20:40:51.694254Z"
    }
   },
   "outputs": [],
   "execution_count": 38
  },
  {
   "metadata": {
    "ExecuteTime": {
     "end_time": "2024-09-18T20:40:55.656308Z",
     "start_time": "2024-09-18T20:40:55.613139Z"
    }
   },
   "cell_type": "code",
   "source": [
    "bin_df"
   ],
   "outputs": [
    {
     "data": {
      "text/plain": [
       "       sub           names vroinames      ecc_bin  freq_lvl     betas  \\\n",
       "0   subj01         annulus        V3  0.5-1.0 deg         0  1.690123   \n",
       "1   subj01         annulus        V3  0.5-1.0 deg         1  1.732465   \n",
       "2   subj01         annulus        V3  0.5-1.0 deg         2  1.673435   \n",
       "3   subj01         annulus        V3  0.5-1.0 deg         3  2.163738   \n",
       "4   subj01         annulus        V3  0.5-1.0 deg         4  2.419990   \n",
       "..     ...             ...       ...          ...       ...       ...   \n",
       "67  subj01  reverse spiral        V3  2.0-4.0 deg         1  2.224973   \n",
       "68  subj01  reverse spiral        V3  2.0-4.0 deg         2  2.057163   \n",
       "69  subj01  reverse spiral        V3  2.0-4.0 deg         3  2.384259   \n",
       "70  subj01  reverse spiral        V3  2.0-4.0 deg         4  2.106973   \n",
       "71  subj01  reverse spiral        V3  2.0-4.0 deg         5  2.120184   \n",
       "\n",
       "     local_sf  \n",
       "0    1.361745  \n",
       "1    2.496532  \n",
       "2    4.539149  \n",
       "3    8.397425  \n",
       "4   15.660063  \n",
       "..        ...  \n",
       "67   0.570768  \n",
       "68   1.141536  \n",
       "69   2.119996  \n",
       "70   3.995377  \n",
       "71   7.419985  \n",
       "\n",
       "[72 rows x 7 columns]"
      ],
      "text/html": [
       "<div>\n",
       "<style scoped>\n",
       "    .dataframe tbody tr th:only-of-type {\n",
       "        vertical-align: middle;\n",
       "    }\n",
       "\n",
       "    .dataframe tbody tr th {\n",
       "        vertical-align: top;\n",
       "    }\n",
       "\n",
       "    .dataframe thead th {\n",
       "        text-align: right;\n",
       "    }\n",
       "</style>\n",
       "<table border=\"1\" class=\"dataframe\">\n",
       "  <thead>\n",
       "    <tr style=\"text-align: right;\">\n",
       "      <th></th>\n",
       "      <th>sub</th>\n",
       "      <th>names</th>\n",
       "      <th>vroinames</th>\n",
       "      <th>ecc_bin</th>\n",
       "      <th>freq_lvl</th>\n",
       "      <th>betas</th>\n",
       "      <th>local_sf</th>\n",
       "    </tr>\n",
       "  </thead>\n",
       "  <tbody>\n",
       "    <tr>\n",
       "      <th>0</th>\n",
       "      <td>subj01</td>\n",
       "      <td>annulus</td>\n",
       "      <td>V3</td>\n",
       "      <td>0.5-1.0 deg</td>\n",
       "      <td>0</td>\n",
       "      <td>1.690123</td>\n",
       "      <td>1.361745</td>\n",
       "    </tr>\n",
       "    <tr>\n",
       "      <th>1</th>\n",
       "      <td>subj01</td>\n",
       "      <td>annulus</td>\n",
       "      <td>V3</td>\n",
       "      <td>0.5-1.0 deg</td>\n",
       "      <td>1</td>\n",
       "      <td>1.732465</td>\n",
       "      <td>2.496532</td>\n",
       "    </tr>\n",
       "    <tr>\n",
       "      <th>2</th>\n",
       "      <td>subj01</td>\n",
       "      <td>annulus</td>\n",
       "      <td>V3</td>\n",
       "      <td>0.5-1.0 deg</td>\n",
       "      <td>2</td>\n",
       "      <td>1.673435</td>\n",
       "      <td>4.539149</td>\n",
       "    </tr>\n",
       "    <tr>\n",
       "      <th>3</th>\n",
       "      <td>subj01</td>\n",
       "      <td>annulus</td>\n",
       "      <td>V3</td>\n",
       "      <td>0.5-1.0 deg</td>\n",
       "      <td>3</td>\n",
       "      <td>2.163738</td>\n",
       "      <td>8.397425</td>\n",
       "    </tr>\n",
       "    <tr>\n",
       "      <th>4</th>\n",
       "      <td>subj01</td>\n",
       "      <td>annulus</td>\n",
       "      <td>V3</td>\n",
       "      <td>0.5-1.0 deg</td>\n",
       "      <td>4</td>\n",
       "      <td>2.419990</td>\n",
       "      <td>15.660063</td>\n",
       "    </tr>\n",
       "    <tr>\n",
       "      <th>...</th>\n",
       "      <td>...</td>\n",
       "      <td>...</td>\n",
       "      <td>...</td>\n",
       "      <td>...</td>\n",
       "      <td>...</td>\n",
       "      <td>...</td>\n",
       "      <td>...</td>\n",
       "    </tr>\n",
       "    <tr>\n",
       "      <th>67</th>\n",
       "      <td>subj01</td>\n",
       "      <td>reverse spiral</td>\n",
       "      <td>V3</td>\n",
       "      <td>2.0-4.0 deg</td>\n",
       "      <td>1</td>\n",
       "      <td>2.224973</td>\n",
       "      <td>0.570768</td>\n",
       "    </tr>\n",
       "    <tr>\n",
       "      <th>68</th>\n",
       "      <td>subj01</td>\n",
       "      <td>reverse spiral</td>\n",
       "      <td>V3</td>\n",
       "      <td>2.0-4.0 deg</td>\n",
       "      <td>2</td>\n",
       "      <td>2.057163</td>\n",
       "      <td>1.141536</td>\n",
       "    </tr>\n",
       "    <tr>\n",
       "      <th>69</th>\n",
       "      <td>subj01</td>\n",
       "      <td>reverse spiral</td>\n",
       "      <td>V3</td>\n",
       "      <td>2.0-4.0 deg</td>\n",
       "      <td>3</td>\n",
       "      <td>2.384259</td>\n",
       "      <td>2.119996</td>\n",
       "    </tr>\n",
       "    <tr>\n",
       "      <th>70</th>\n",
       "      <td>subj01</td>\n",
       "      <td>reverse spiral</td>\n",
       "      <td>V3</td>\n",
       "      <td>2.0-4.0 deg</td>\n",
       "      <td>4</td>\n",
       "      <td>2.106973</td>\n",
       "      <td>3.995377</td>\n",
       "    </tr>\n",
       "    <tr>\n",
       "      <th>71</th>\n",
       "      <td>subj01</td>\n",
       "      <td>reverse spiral</td>\n",
       "      <td>V3</td>\n",
       "      <td>2.0-4.0 deg</td>\n",
       "      <td>5</td>\n",
       "      <td>2.120184</td>\n",
       "      <td>7.419985</td>\n",
       "    </tr>\n",
       "  </tbody>\n",
       "</table>\n",
       "<p>72 rows × 7 columns</p>\n",
       "</div>"
      ]
     },
     "execution_count": 39,
     "metadata": {},
     "output_type": "execute_result"
    }
   ],
   "execution_count": 39
  },
  {
   "metadata": {},
   "cell_type": "code",
   "outputs": [],
   "execution_count": null,
   "source": []
  },
  {
   "cell_type": "markdown",
   "source": [
    "## Sanity check: Datapoints only"
   ],
   "metadata": {
    "collapsed": false
   }
  },
  {
   "cell_type": "code",
   "source": [
    "bins_to_plot = bin_labels #[bin_labels[k] for k in [0,3,-1]] \n",
    "vis1D.plot_datapoints(bin_df.query('ecc_bin in @bins_to_plot'), \n",
    "                      'local_sf', 'betas', hue='ecc_bin', hue_order=bins_to_plot, \n",
    "                      col='ecc_bin', col_order=bins_to_plot, \n",
    "                    height=6, aspect=0.7, lgd_title='Eccentricity (deg)',\n",
    "                    palette=[ecc_colors[k] for k in bins_to_plot])"
   ],
   "metadata": {
    "collapsed": false,
    "ExecuteTime": {
     "end_time": "2024-09-18T20:41:03.401339Z",
     "start_time": "2024-09-18T20:41:02.529566Z"
    }
   },
   "outputs": [
    {
     "data": {
      "text/plain": [
       "<seaborn.axisgrid.FacetGrid at 0x7fc928f6ff90>"
      ]
     },
     "execution_count": 40,
     "metadata": {},
     "output_type": "execute_result"
    },
    {
     "data": {
      "text/plain": [
       "<Figure size 1110.3x432 with 3 Axes>"
      ],
      "image/png": "[encoded data removed]"
     },
     "metadata": {},
     "output_type": "display_data"
    }
   ],
   "execution_count": 40
  },
  {
   "cell_type": "markdown",
   "source": [
    "# 2. Fitting log Gaussian curves for every eccentricity bin"
   ],
   "metadata": {
    "collapsed": false
   }
  },
  {
   "cell_type": "code",
   "execution_count": 68,
   "outputs": [],
   "source": [
    "avg_bin_df = bin_df.groupby(['sub','ecc_bin','vroinames','freq_lvl']).mean().reset_index()\n"
   ],
   "metadata": {
    "collapsed": false,
    "pycharm": {
     "name": "#%%\n"
    },
    "ExecuteTime": {
     "end_time": "2024-04-30T18:29:23.577603Z",
     "start_time": "2024-04-30T18:29:23.519516Z"
    }
   }
  },
  {
   "cell_type": "code",
   "outputs": [
    {
     "name": "stdout",
     "output_type": "stream",
     "text": [
      "0.5-1.0 deg\n",
      "**epoch no.0 loss: 3.88222\n",
      "**epoch no.49 loss: 2.59849\n",
      "**epoch no.99 loss: 1.15669\n",
      "**epoch no.100: Finished! final params {'slope': 2.076, 'mode': 1.692, 'sigma': 1.587}\n",
      "Elapsed time: 0.07 sec \n",
      "\n",
      "1.0-2.0 deg\n",
      "**epoch no.0 loss: 5.89247\n",
      "**epoch no.49 loss: 4.49853\n",
      "**epoch no.99 loss: 2.53081\n",
      "**epoch no.100: Finished! final params {'slope': 1.18, 'mode': 2.434, 'sigma': 1.775}\n",
      "Elapsed time: 0.05 sec \n",
      "\n",
      "2.0-4.0 deg\n",
      "**epoch no.0 loss: 6.61654\n",
      "**epoch no.49 loss: 4.48473\n",
      "**epoch no.99 loss: 2.4692\n",
      "**epoch no.100: Finished! final params {'slope': 1.529, 'mode': 1.371, 'sigma': 1.991}\n",
      "Elapsed time: 0.05 sec \n"
     ]
    }
   ],
   "source": [
    "loss_history, model_history = pd.DataFrame({}), pd.DataFrame({})\n",
    "for ecc_bin in avg_bin_df.ecc_bin.unique():\n",
    "    print(f'{ecc_bin}')\n",
    "    tmp = avg_bin_df.query('ecc_bin == @ecc_bin')\n",
    "    my_model = tuning.LogGaussianTuningModel()\n",
    "    my_dataset = tuning.LogGaussianTuningDataset(tmp['local_sf'], tmp['betas'])\n",
    "    tmp_loss_history, tmp_model_history = tuning.fit_tuning_curves(my_model, my_dataset, \n",
    "                                                                   max_epoch=100, print_every=50, \n",
    "                                                                   learning_rate=0.01)\n",
    "    tmp_model_history['ecc_bin'] = ecc_bin\n",
    "    tmp_loss_history['ecc_bin'] = ecc_bin\n",
    "    model_history = pd.concat((model_history, tmp_model_history), axis=0)\n",
    "    loss_history = pd.concat((loss_history, tmp_loss_history), axis=0)\n"
   ],
   "metadata": {
    "collapsed": false,
    "ExecuteTime": {
     "end_time": "2024-04-03T23:28:40.095134Z",
     "start_time": "2024-04-03T23:28:39.873179Z"
    }
   },
   "execution_count": 9
  },
  {
   "cell_type": "markdown",
   "source": [],
   "metadata": {
    "collapsed": false
   }
  }
 ],
 "metadata": {
  "kernelspec": {
   "name": "sfp",
   "language": "python",
   "display_name": "sfp"
  },
  "language_info": {
   "codemirror_mode": {
    "name": "ipython",
    "version": 2
   },
   "file_extension": ".py",
   "mimetype": "text/x-python",
   "name": "python",
   "nbconvert_exporter": "python",
   "pygments_lexer": "ipython2",
   "version": "2.7.6"
  }
 },
 "nbformat": 4,
 "nbformat_minor": 0
}
